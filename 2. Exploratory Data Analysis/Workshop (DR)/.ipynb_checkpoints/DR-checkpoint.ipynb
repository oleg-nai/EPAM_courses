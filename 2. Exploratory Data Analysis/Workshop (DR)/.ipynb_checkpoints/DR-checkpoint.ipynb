{
 "cells": [
  {
   "cell_type": "code",
   "execution_count": 10,
   "id": "adverse-point",
   "metadata": {
    "ExecuteTime": {
     "end_time": "2021-07-07T15:58:34.817394Z",
     "start_time": "2021-07-07T15:58:34.789471Z"
    }
   },
   "outputs": [
    {
     "ename": "NameError",
     "evalue": "name 'type_check' is not defined",
     "output_type": "error",
     "traceback": [
      "\u001b[1;31m---------------------------------------------------------------------------\u001b[0m",
      "\u001b[1;31mNameError\u001b[0m                                 Traceback (most recent call last)",
      "\u001b[1;32m<ipython-input-10-f5537f22a86a>\u001b[0m in \u001b[0;36m<module>\u001b[1;34m\u001b[0m\n\u001b[0;32m      1\u001b[0m \u001b[1;31m# please install bokeh and umap before running this notebook :)\u001b[0m\u001b[1;33m\u001b[0m\u001b[1;33m\u001b[0m\u001b[1;33m\u001b[0m\u001b[0m\n\u001b[1;32m----> 2\u001b[1;33m \u001b[1;32mfrom\u001b[0m \u001b[0msklearn\u001b[0m\u001b[1;33m.\u001b[0m\u001b[0mimpute\u001b[0m \u001b[1;32mimport\u001b[0m \u001b[0mSimpleImputer\u001b[0m\u001b[1;33m\u001b[0m\u001b[1;33m\u001b[0m\u001b[0m\n\u001b[0m\u001b[0;32m      3\u001b[0m \u001b[1;32mfrom\u001b[0m \u001b[0msklearn\u001b[0m\u001b[1;33m.\u001b[0m\u001b[0mimpute\u001b[0m \u001b[1;32mimport\u001b[0m \u001b[0mMissingIndicator\u001b[0m\u001b[1;33m\u001b[0m\u001b[1;33m\u001b[0m\u001b[0m\n\u001b[0;32m      4\u001b[0m \u001b[1;33m\u001b[0m\u001b[0m\n\u001b[0;32m      5\u001b[0m \u001b[1;32mfrom\u001b[0m \u001b[0msklearn\u001b[0m\u001b[1;33m.\u001b[0m\u001b[0mpreprocessing\u001b[0m \u001b[1;32mimport\u001b[0m \u001b[0mStandardScaler\u001b[0m\u001b[1;33m,\u001b[0m \u001b[0mNormalizer\u001b[0m\u001b[1;33m,\u001b[0m \u001b[0mOneHotEncoder\u001b[0m\u001b[1;33m,\u001b[0m \u001b[0mOrdinalEncoder\u001b[0m\u001b[1;33m\u001b[0m\u001b[1;33m\u001b[0m\u001b[0m\n",
      "\u001b[1;32m~\\anaconda3\\envs\\course\\lib\\site-packages\\sklearn\\__init__.py\u001b[0m in \u001b[0;36m<module>\u001b[1;34m\u001b[0m\n\u001b[0;32m     80\u001b[0m     \u001b[1;32mfrom\u001b[0m \u001b[1;33m.\u001b[0m \u001b[1;32mimport\u001b[0m \u001b[0m_distributor_init\u001b[0m  \u001b[1;31m# noqa: F401\u001b[0m\u001b[1;33m\u001b[0m\u001b[1;33m\u001b[0m\u001b[0m\n\u001b[0;32m     81\u001b[0m     \u001b[1;32mfrom\u001b[0m \u001b[1;33m.\u001b[0m \u001b[1;32mimport\u001b[0m \u001b[0m__check_build\u001b[0m  \u001b[1;31m# noqa: F401\u001b[0m\u001b[1;33m\u001b[0m\u001b[1;33m\u001b[0m\u001b[0m\n\u001b[1;32m---> 82\u001b[1;33m     \u001b[1;32mfrom\u001b[0m \u001b[1;33m.\u001b[0m\u001b[0mbase\u001b[0m \u001b[1;32mimport\u001b[0m \u001b[0mclone\u001b[0m\u001b[1;33m\u001b[0m\u001b[1;33m\u001b[0m\u001b[0m\n\u001b[0m\u001b[0;32m     83\u001b[0m     \u001b[1;32mfrom\u001b[0m \u001b[1;33m.\u001b[0m\u001b[0mutils\u001b[0m\u001b[1;33m.\u001b[0m\u001b[0m_show_versions\u001b[0m \u001b[1;32mimport\u001b[0m \u001b[0mshow_versions\u001b[0m\u001b[1;33m\u001b[0m\u001b[1;33m\u001b[0m\u001b[0m\n\u001b[0;32m     84\u001b[0m \u001b[1;33m\u001b[0m\u001b[0m\n",
      "\u001b[1;32m~\\anaconda3\\envs\\course\\lib\\site-packages\\sklearn\\base.py\u001b[0m in \u001b[0;36m<module>\u001b[1;34m\u001b[0m\n\u001b[0;32m     11\u001b[0m \u001b[1;32mimport\u001b[0m \u001b[0mre\u001b[0m\u001b[1;33m\u001b[0m\u001b[1;33m\u001b[0m\u001b[0m\n\u001b[0;32m     12\u001b[0m \u001b[1;33m\u001b[0m\u001b[0m\n\u001b[1;32m---> 13\u001b[1;33m \u001b[1;32mimport\u001b[0m \u001b[0mnumpy\u001b[0m \u001b[1;32mas\u001b[0m \u001b[0mnp\u001b[0m\u001b[1;33m\u001b[0m\u001b[1;33m\u001b[0m\u001b[0m\n\u001b[0m\u001b[0;32m     14\u001b[0m \u001b[1;33m\u001b[0m\u001b[0m\n\u001b[0;32m     15\u001b[0m \u001b[1;32mfrom\u001b[0m \u001b[1;33m.\u001b[0m \u001b[1;32mimport\u001b[0m \u001b[0m__version__\u001b[0m\u001b[1;33m\u001b[0m\u001b[1;33m\u001b[0m\u001b[0m\n",
      "\u001b[1;32m~\\anaconda3\\envs\\course\\lib\\site-packages\\numpy\\__init__.py\u001b[0m in \u001b[0;36m<module>\u001b[1;34m\u001b[0m\n\u001b[0;32m    151\u001b[0m     \u001b[1;32mfrom\u001b[0m \u001b[1;33m.\u001b[0m\u001b[0mcore\u001b[0m \u001b[1;32mimport\u001b[0m \u001b[1;33m*\u001b[0m\u001b[1;33m\u001b[0m\u001b[1;33m\u001b[0m\u001b[0m\n\u001b[0;32m    152\u001b[0m     \u001b[1;32mfrom\u001b[0m \u001b[1;33m.\u001b[0m \u001b[1;32mimport\u001b[0m \u001b[0mcompat\u001b[0m\u001b[1;33m\u001b[0m\u001b[1;33m\u001b[0m\u001b[0m\n\u001b[1;32m--> 153\u001b[1;33m     \u001b[1;32mfrom\u001b[0m \u001b[1;33m.\u001b[0m \u001b[1;32mimport\u001b[0m \u001b[0mlib\u001b[0m\u001b[1;33m\u001b[0m\u001b[1;33m\u001b[0m\u001b[0m\n\u001b[0m\u001b[0;32m    154\u001b[0m     \u001b[1;31m# NOTE: to be revisited following future namespace cleanup.\u001b[0m\u001b[1;33m\u001b[0m\u001b[1;33m\u001b[0m\u001b[1;33m\u001b[0m\u001b[0m\n\u001b[0;32m    155\u001b[0m     \u001b[1;31m# See gh-14454 and gh-15672 for discussion.\u001b[0m\u001b[1;33m\u001b[0m\u001b[1;33m\u001b[0m\u001b[1;33m\u001b[0m\u001b[0m\n",
      "\u001b[1;32m~\\anaconda3\\envs\\course\\lib\\site-packages\\numpy\\lib\\__init__.py\u001b[0m in \u001b[0;36m<module>\u001b[1;34m\u001b[0m\n\u001b[0;32m     42\u001b[0m \u001b[1;33m\u001b[0m\u001b[0m\n\u001b[0;32m     43\u001b[0m \u001b[0m__all__\u001b[0m \u001b[1;33m=\u001b[0m \u001b[1;33m[\u001b[0m\u001b[1;34m'emath'\u001b[0m\u001b[1;33m,\u001b[0m \u001b[1;34m'math'\u001b[0m\u001b[1;33m,\u001b[0m \u001b[1;34m'tracemalloc_domain'\u001b[0m\u001b[1;33m,\u001b[0m \u001b[1;34m'Arrayterator'\u001b[0m\u001b[1;33m]\u001b[0m\u001b[1;33m\u001b[0m\u001b[1;33m\u001b[0m\u001b[0m\n\u001b[1;32m---> 44\u001b[1;33m \u001b[0m__all__\u001b[0m \u001b[1;33m+=\u001b[0m \u001b[0mtype_check\u001b[0m\u001b[1;33m.\u001b[0m\u001b[0m__all__\u001b[0m\u001b[1;33m\u001b[0m\u001b[1;33m\u001b[0m\u001b[0m\n\u001b[0m\u001b[0;32m     45\u001b[0m \u001b[0m__all__\u001b[0m \u001b[1;33m+=\u001b[0m \u001b[0mindex_tricks\u001b[0m\u001b[1;33m.\u001b[0m\u001b[0m__all__\u001b[0m\u001b[1;33m\u001b[0m\u001b[1;33m\u001b[0m\u001b[0m\n\u001b[0;32m     46\u001b[0m \u001b[0m__all__\u001b[0m \u001b[1;33m+=\u001b[0m \u001b[0mfunction_base\u001b[0m\u001b[1;33m.\u001b[0m\u001b[0m__all__\u001b[0m\u001b[1;33m\u001b[0m\u001b[1;33m\u001b[0m\u001b[0m\n",
      "\u001b[1;31mNameError\u001b[0m: name 'type_check' is not defined"
     ]
    }
   ],
   "source": [
    "# please install bokeh and umap before running this notebook :)\n",
    "from sklearn.impute import SimpleImputer\n",
    "from sklearn.impute import MissingIndicator\n",
    "\n",
    "from sklearn.preprocessing import StandardScaler, Normalizer, OneHotEncoder, OrdinalEncoder\n",
    "\n",
    "from sklearn.pipeline import Pipeline, FeatureUnion\n",
    "from sklearn.compose import ColumnTransformer\n",
    "from sklearn.base import BaseEstimator, TransformerMixin\n",
    "from sklearn.feature_selection import VarianceThreshold\n",
    "\n",
    "from sklearn.decomposition import PCA, TruncatedSVD, NMF\n",
    "from sklearn.manifold import TSNE\n",
    "\n",
    "from sklearn import datasets\n",
    "from matplotlib import offsetbox\n",
    "\n",
    "import umap\n",
    "\n",
    "import pandas as pd\n",
    "import matplotlib.pyplot as plt\n",
    "import seaborn as sns\n",
    "import numpy as np\n",
    "\n",
    "import warnings\n",
    "import random\n",
    "\n",
    "random.seed(2021)\n",
    "\n",
    "from IPython.display import set_matplotlib_formats\n",
    "warnings.filterwarnings('ignore')\n",
    "%matplotlib inline"
   ]
  },
  {
   "cell_type": "code",
   "execution_count": null,
   "id": "84a511dd",
   "metadata": {},
   "outputs": [],
   "source": []
  },
  {
   "cell_type": "code",
   "execution_count": null,
   "id": "artistic-roberts",
   "metadata": {
    "ExecuteTime": {
     "end_time": "2021-07-07T15:57:51.995295Z",
     "start_time": "2021-07-07T15:57:51.963Z"
    }
   },
   "outputs": [],
   "source": [
    "df = pd.read_csv('data/train.csv')"
   ]
  },
  {
   "cell_type": "markdown",
   "id": "lyric-brazilian",
   "metadata": {},
   "source": [
    "## Data cleaning + preprocessing "
   ]
  },
  {
   "cell_type": "code",
   "execution_count": null,
   "id": "determined-luther",
   "metadata": {
    "ExecuteTime": {
     "end_time": "2021-07-07T15:57:51.996294Z",
     "start_time": "2021-07-07T15:57:51.966Z"
    }
   },
   "outputs": [],
   "source": [
    "COLS_TO_DROP = list((df.isna().sum(axis=0)/df.shape[0]).where(lambda x: x>0.2).dropna().index) + ['Id', 'YrSold', 'YearBuilt', 'GarageYrBlt']"
   ]
  },
  {
   "cell_type": "code",
   "execution_count": null,
   "id": "australian-livestock",
   "metadata": {
    "ExecuteTime": {
     "end_time": "2021-07-07T15:57:51.997290Z",
     "start_time": "2021-07-07T15:57:51.971Z"
    }
   },
   "outputs": [],
   "source": [
    "# Deleting some outliers which we found previously \n",
    "df.sort_values(by = 'GrLivArea', ascending = False)[:2]\n",
    "df = df.drop(df[df['Id'] == 1299].index)\n",
    "df = df.drop(df[df['Id'] == 524].index)"
   ]
  },
  {
   "cell_type": "code",
   "execution_count": null,
   "id": "given-balance",
   "metadata": {
    "ExecuteTime": {
     "end_time": "2021-07-07T15:57:51.998288Z",
     "start_time": "2021-07-07T15:57:51.973Z"
    }
   },
   "outputs": [],
   "source": [
    "# Found categorical columns where one level appears more than in 90% of cases\n",
    "cat_col_mask_to_drop = []\n",
    "for c in df.select_dtypes(np.object).columns:\n",
    "    cat_col_mask_to_drop.append((df[c].value_counts()/df.shape[0])[0] > 0.9)"
   ]
  },
  {
   "cell_type": "code",
   "execution_count": null,
   "id": "changing-leeds",
   "metadata": {
    "ExecuteTime": {
     "end_time": "2021-07-07T15:57:52.000283Z",
     "start_time": "2021-07-07T15:57:51.976Z"
    }
   },
   "outputs": [],
   "source": [
    "COLS_TO_DROP.extend(list(df.select_dtypes(np.object).columns[cat_col_mask_to_drop]))"
   ]
  },
  {
   "cell_type": "code",
   "execution_count": null,
   "id": "maritime-helicopter",
   "metadata": {
    "ExecuteTime": {
     "end_time": "2021-07-07T15:57:52.001283Z",
     "start_time": "2021-07-07T15:57:51.978Z"
    }
   },
   "outputs": [],
   "source": [
    "df.drop(COLS_TO_DROP, axis=1, inplace=True)"
   ]
  },
  {
   "cell_type": "code",
   "execution_count": null,
   "id": "identified-corps",
   "metadata": {
    "ExecuteTime": {
     "end_time": "2021-07-07T15:57:52.003276Z",
     "start_time": "2021-07-07T15:57:51.980Z"
    }
   },
   "outputs": [],
   "source": [
    "# just for viz \n",
    "df['SalePriceBinary'] = df['SalePrice'].apply(lambda x: '>150000' if x>150000 else '150000<=')"
   ]
  },
  {
   "cell_type": "code",
   "execution_count": null,
   "id": "modified-montreal",
   "metadata": {
    "ExecuteTime": {
     "end_time": "2021-07-07T15:57:52.004273Z",
     "start_time": "2021-07-07T15:57:51.985Z"
    }
   },
   "outputs": [],
   "source": [
    "# Splitting columns on groups: countinious, nominal and ordinal\n",
    "continious_cols = ['MoSold', 'MiscVal', 'PoolArea', 'ScreenPorch', '3SsnPorch', 'EnclosedPorch', 'OpenPorchSF', \n",
    "    'GarageArea', '1stFlrSF', '2ndFlrSF', 'GrLivArea', 'LowQualFinSF', 'TotalBsmtSF', 'BsmtUnfSF',\n",
    "    'WoodDeckSF', 'BsmtFinSF2', 'BsmtFinSF1', 'MasVnrArea', 'LotArea', 'LotFrontage']\n",
    "nominal_cols = list(df.select_dtypes(np.object))\n",
    "nominal_cols.remove('SalePriceBinary')\n",
    "ordinal_cols = list(df.columns.difference(continious_cols + nominal_cols + ['SalePrice', 'SalePriceBinary']))\n",
    "\n",
    "y = ['SalePriceBinary']"
   ]
  },
  {
   "cell_type": "code",
   "execution_count": null,
   "id": "tough-lithuania",
   "metadata": {
    "ExecuteTime": {
     "end_time": "2021-07-07T15:57:52.005269Z",
     "start_time": "2021-07-07T15:57:51.988Z"
    }
   },
   "outputs": [],
   "source": [
    "\n",
    "class RareLabelEncoder(BaseEstimator, TransformerMixin):\n",
    "    \"\"\"\n",
    "    Find infrequent category levels and encode them to one value\n",
    "    \"\"\"\n",
    "    \n",
    "    def __init__(self, tol=0.05, n_categories=5, replace_with='Rare'):\n",
    "        self.tol = tol\n",
    "        self.replace_with = replace_with\n",
    "        self.n_categories = n_categories\n",
    "        \n",
    "    def fit(self, X):\n",
    "        self.cols = X.columns\n",
    "        self.encoder_dict = {}\n",
    "        \n",
    "        for c in self.cols:\n",
    "            if X[c].nunique() > self.n_categories:\n",
    "                t = pd.Series(X[c].value_counts() / np.float(len(X)))\n",
    "                freq_idx = t[t >= self.tol].index\n",
    "                self.encoder_dict[c] = freq_idx\n",
    "                \n",
    "        return self\n",
    "    \n",
    "    \n",
    "    def transform(self, X):\n",
    "        for feature in self.cols:\n",
    "            if feature in self.encoder_dict.keys():\n",
    "                X[feature] = np.where(\n",
    "                    X[feature].isin(self.encoder_dict[feature]),\n",
    "                    X[feature],\n",
    "                    self.replace_with,\n",
    "                )\n",
    "        return X"
   ]
  },
  {
   "cell_type": "code",
   "execution_count": null,
   "id": "involved-lightweight",
   "metadata": {
    "ExecuteTime": {
     "end_time": "2021-07-07T15:57:52.006266Z",
     "start_time": "2021-07-07T15:57:51.991Z"
    }
   },
   "outputs": [],
   "source": [
    "rle = RareLabelEncoder()\n",
    "\n",
    "rle.fit_transform(df[nominal_cols])"
   ]
  },
  {
   "cell_type": "code",
   "execution_count": 4,
   "id": "expanded-miller",
   "metadata": {
    "ExecuteTime": {
     "end_time": "2021-07-07T15:57:52.024220Z",
     "start_time": "2021-07-07T15:57:52.008287Z"
    }
   },
   "outputs": [
    {
     "ename": "NameError",
     "evalue": "name 'Pipeline' is not defined",
     "output_type": "error",
     "traceback": [
      "\u001b[1;31m---------------------------------------------------------------------------\u001b[0m",
      "\u001b[1;31mNameError\u001b[0m                                 Traceback (most recent call last)",
      "\u001b[1;32m<ipython-input-4-0b815aa62597>\u001b[0m in \u001b[0;36m<module>\u001b[1;34m\u001b[0m\n\u001b[0;32m      1\u001b[0m \u001b[1;31m# Define pipelines for preprocessing different types of features\u001b[0m\u001b[1;33m\u001b[0m\u001b[1;33m\u001b[0m\u001b[1;33m\u001b[0m\u001b[0m\n\u001b[0;32m      2\u001b[0m \u001b[1;33m\u001b[0m\u001b[0m\n\u001b[1;32m----> 3\u001b[1;33m num_pipe = Pipeline([\n\u001b[0m\u001b[0;32m      4\u001b[0m     \u001b[1;33m(\u001b[0m\u001b[1;34m'imputer'\u001b[0m\u001b[1;33m,\u001b[0m \u001b[0mSimpleImputer\u001b[0m\u001b[1;33m(\u001b[0m\u001b[0mstrategy\u001b[0m\u001b[1;33m=\u001b[0m\u001b[1;34m'mean'\u001b[0m\u001b[1;33m)\u001b[0m\u001b[1;33m)\u001b[0m\u001b[1;33m,\u001b[0m\u001b[1;33m\u001b[0m\u001b[1;33m\u001b[0m\u001b[0m\n\u001b[0;32m      5\u001b[0m     \u001b[1;33m(\u001b[0m\u001b[1;34m'scaler'\u001b[0m\u001b[1;33m,\u001b[0m \u001b[0mStandardScaler\u001b[0m\u001b[1;33m(\u001b[0m\u001b[1;33m)\u001b[0m\u001b[1;33m)\u001b[0m\u001b[1;33m,\u001b[0m\u001b[1;33m\u001b[0m\u001b[1;33m\u001b[0m\u001b[0m\n",
      "\u001b[1;31mNameError\u001b[0m: name 'Pipeline' is not defined"
     ]
    }
   ],
   "source": [
    "# Define pipelines for preprocessing different types of features\n",
    "\n",
    "num_pipe = Pipeline([\n",
    "    ('imputer', SimpleImputer(strategy='mean')),\n",
    "    ('scaler', StandardScaler()),\n",
    "    ('variance_trsh', VarianceThreshold(threshold=0.1))\n",
    "])\n",
    "\n",
    "cat_pipe = Pipeline([\n",
    "    ('rare_label_enc', RareLabelEncoder()),\n",
    "    ('imputer', SimpleImputer(strategy='constant', fill_value='unknown')),\n",
    "    ('ohe', OneHotEncoder(sparse=False)), \n",
    "    ('variance_trsh', VarianceThreshold(threshold=.97 * (1 - .97)))\n",
    "])\n",
    "\n",
    "ord_pipe = Pipeline([\n",
    "    ('imputer', SimpleImputer(strategy='most_frequent')),\n",
    "    ('encoder', OrdinalEncoder()),\n",
    "    ('scaler', StandardScaler())\n",
    "])\n",
    "\n",
    "pipe = ColumnTransformer(transformers=[\n",
    "    ('cat', cat_pipe, nominal_cols),\n",
    "    ('ord', ord_pipe, ordinal_cols),\n",
    "    ('num', num_pipe, continious_cols)\n",
    "])"
   ]
  },
  {
   "cell_type": "code",
   "execution_count": null,
   "id": "institutional-hampton",
   "metadata": {
    "ExecuteTime": {
     "end_time": "2021-07-07T15:57:52.027212Z",
     "start_time": "2021-07-07T15:57:51.997Z"
    }
   },
   "outputs": [],
   "source": [
    "X = pipe.fit_transform(df)"
   ]
  },
  {
   "cell_type": "code",
   "execution_count": null,
   "id": "pregnant-killing",
   "metadata": {
    "ExecuteTime": {
     "end_time": "2021-07-07T15:57:52.028212Z",
     "start_time": "2021-07-07T15:57:52.000Z"
    }
   },
   "outputs": [],
   "source": [
    "X.shape"
   ]
  },
  {
   "cell_type": "code",
   "execution_count": null,
   "id": "informative-beverage",
   "metadata": {},
   "outputs": [],
   "source": []
  },
  {
   "cell_type": "markdown",
   "id": "average-candidate",
   "metadata": {},
   "source": [
    "# PCA"
   ]
  },
  {
   "cell_type": "code",
   "execution_count": null,
   "id": "serial-imperial",
   "metadata": {
    "ExecuteTime": {
     "end_time": "2021-07-07T15:57:52.030203Z",
     "start_time": "2021-07-07T15:57:52.007Z"
    }
   },
   "outputs": [],
   "source": [
    "pca = PCA(n_components=2)\n",
    "new_X = pca.fit_transform(X)"
   ]
  },
  {
   "cell_type": "code",
   "execution_count": null,
   "id": "raising-continent",
   "metadata": {
    "ExecuteTime": {
     "end_time": "2021-07-07T15:57:52.031200Z",
     "start_time": "2021-07-07T15:57:52.009Z"
    }
   },
   "outputs": [],
   "source": [
    "plot_df = pd.DataFrame.from_records(data=new_X[:,:2],columns=[\"x\",\"y\"])\n",
    "plot_df[\"target\"] = df[y]\n",
    "\n",
    "sns.set(style=\"ticks\")\n",
    "sns.relplot(\"x\", \"y\", data=plot_df, hue=\"target\", palette='coolwarm')"
   ]
  },
  {
   "cell_type": "code",
   "execution_count": null,
   "id": "sudden-relations",
   "metadata": {
    "ExecuteTime": {
     "end_time": "2021-07-07T15:57:52.032197Z",
     "start_time": "2021-07-07T15:57:52.012Z"
    }
   },
   "outputs": [],
   "source": [
    "pca.explained_variance_ratio_.sum()"
   ]
  },
  {
   "cell_type": "code",
   "execution_count": null,
   "id": "polar-revolution",
   "metadata": {
    "ExecuteTime": {
     "end_time": "2021-07-07T15:57:52.033198Z",
     "start_time": "2021-07-07T15:57:52.015Z"
    }
   },
   "outputs": [],
   "source": [
    "pca = PCA(n_components=0.95).fit(X)\n",
    "\n",
    "len(pca.explained_variance_ratio_)"
   ]
  },
  {
   "cell_type": "code",
   "execution_count": null,
   "id": "collective-remainder",
   "metadata": {
    "ExecuteTime": {
     "end_time": "2021-07-07T15:57:52.036187Z",
     "start_time": "2021-07-07T15:57:52.019Z"
    }
   },
   "outputs": [],
   "source": [
    "number_of_ticks = len(pca.explained_variance_ratio_) + 1\n",
    "\n",
    "fig, ax = plt.subplots(figsize=(12, 6))\n",
    "x_ticks = np.arange(1, number_of_ticks, step=1)\n",
    "y_values = np.cumsum(pca.explained_variance_ratio_)\n",
    "\n",
    "plt.ylim(0.0,1.1)\n",
    "plt.plot(x_ticks, y_values, marker='o', linestyle='--', color='b')\n",
    "\n",
    "plt.xlabel('Number of Components')\n",
    "plt.xticks(np.arange(0, number_of_ticks, step=1))\n",
    "plt.ylabel('Cumulative variance (%)')\n",
    "plt.title('The number of components needed to explain variance')\n",
    "\n",
    "plt.axhline(y=0.95, color='r', linestyle='-')\n",
    "plt.text(0.5, 0.85, '95% cut-off threshold', color = 'red', fontsize=16)\n",
    "\n",
    "ax.grid(axis='x')\n",
    "plt.xticks(rotation=90)\n",
    "plt.show()"
   ]
  },
  {
   "cell_type": "code",
   "execution_count": null,
   "id": "frequent-subscriber",
   "metadata": {},
   "outputs": [],
   "source": []
  },
  {
   "cell_type": "markdown",
   "id": "entire-accommodation",
   "metadata": {},
   "source": [
    "# SVD\n",
    "[SVD as simply as it possible](http://gregorygundersen.com/blog/2018/12/10/svd/)  \n",
    "Singular value decomposition is a method of decomposing a matrix into three other matrices:\n",
    "![](https://miro.medium.com/max/318/0*i4rDKIAE0o1ZXtBd.)\n",
    "Where:\n",
    "- A is an m × n matrix\n",
    "- U is an m × n orthogonal matrix (left singular vectors)\n",
    "- S is an n × n diagonal matrix (singular values)\n",
    "- V is an n × n orthogonal matrix (right singular vectors)\n",
    "\n",
    "The diagonal values in the S matrix are known as the singular values of the original matrix A. The columns of the U matrix are called the left-singular vectors of A, and the columns of V are called the right-singular vectors of A. There is also a relationship between PCA and SVD (only if A is centered, singular values are related to the eigenvalues of covariance matrix via $ 𝜆_{i}=s^2_{i}/(𝑛−1)$), you can find good explanations here: [link](https://stats.stackexchange.com/questions/134282/relationship-between-svd-and-pca-how-to-use-svd-to-perform-pca).\n",
    "\n",
    "Truncated SVD is different from regular SVDs in that it produces a factorization where the number of columns is equal to the specified truncation. For example, given an m x n matrix, SVD will produce matrices with n columns, whereas truncated SVD will produce matrices with the specified number of columns. This is how the dimensionality is reduced."
   ]
  },
  {
   "cell_type": "code",
   "execution_count": 5,
   "id": "functioning-pencil",
   "metadata": {
    "ExecuteTime": {
     "end_time": "2021-07-07T15:57:52.056135Z",
     "start_time": "2021-07-07T15:57:52.039179Z"
    }
   },
   "outputs": [
    {
     "ename": "NameError",
     "evalue": "name 'TruncatedSVD' is not defined",
     "output_type": "error",
     "traceback": [
      "\u001b[1;31m---------------------------------------------------------------------------\u001b[0m",
      "\u001b[1;31mNameError\u001b[0m                                 Traceback (most recent call last)",
      "\u001b[1;32m<ipython-input-5-112dba180e62>\u001b[0m in \u001b[0;36m<module>\u001b[1;34m\u001b[0m\n\u001b[1;32m----> 1\u001b[1;33m \u001b[0msvd\u001b[0m \u001b[1;33m=\u001b[0m \u001b[0mTruncatedSVD\u001b[0m\u001b[1;33m(\u001b[0m\u001b[0mn_components\u001b[0m\u001b[1;33m=\u001b[0m\u001b[1;36m2\u001b[0m\u001b[1;33m,\u001b[0m \u001b[0malgorithm\u001b[0m\u001b[1;33m=\u001b[0m\u001b[1;34m'arpack'\u001b[0m\u001b[1;33m)\u001b[0m\u001b[1;33m\u001b[0m\u001b[1;33m\u001b[0m\u001b[0m\n\u001b[0m\u001b[0;32m      2\u001b[0m \u001b[0msvd_X\u001b[0m \u001b[1;33m=\u001b[0m \u001b[0msvd\u001b[0m\u001b[1;33m.\u001b[0m\u001b[0mfit_transform\u001b[0m\u001b[1;33m(\u001b[0m\u001b[0mX\u001b[0m\u001b[1;33m)\u001b[0m\u001b[1;33m\u001b[0m\u001b[1;33m\u001b[0m\u001b[0m\n",
      "\u001b[1;31mNameError\u001b[0m: name 'TruncatedSVD' is not defined"
     ]
    }
   ],
   "source": [
    "svd = TruncatedSVD(n_components=2, algorithm='arpack')\n",
    "svd_X = svd.fit_transform(X)"
   ]
  },
  {
   "cell_type": "code",
   "execution_count": null,
   "id": "lyric-hygiene",
   "metadata": {
    "ExecuteTime": {
     "end_time": "2021-07-07T15:57:52.059127Z",
     "start_time": "2021-07-07T15:57:52.030Z"
    }
   },
   "outputs": [],
   "source": [
    "plot_df = pd.DataFrame.from_records(data=svd_X[:,:2],columns=[\"x\",\"y\"])\n",
    "plot_df[\"target\"] = df[y]\n",
    "\n",
    "sns.set(style=\"ticks\")\n",
    "sns.relplot(\"x\", \"y\", data=plot_df, hue=\"target\", palette='coolwarm')"
   ]
  },
  {
   "cell_type": "code",
   "execution_count": null,
   "id": "national-wrong",
   "metadata": {
    "ExecuteTime": {
     "end_time": "2021-07-07T15:57:52.061121Z",
     "start_time": "2021-07-07T15:57:52.036Z"
    }
   },
   "outputs": [],
   "source": [
    "svd.explained_variance_ratio_.sum()"
   ]
  },
  {
   "cell_type": "markdown",
   "id": "popular-motorcycle",
   "metadata": {},
   "source": [
    "# UMAP\n",
    "[Understanding UMAP](https://pair-code.github.io/understanding-umap/)  \n",
    "[Scipy 2018 talk](https://www.youtube.com/watch?v=nq6iPZVUxZU)  \n",
    "\n",
    "UMAP has several hyperparameters that can have a significant impact on the resulting embedding. \n",
    " \n",
    "* `n_neighbors`  \n",
    "This parameter controls how UMAP balances local versus global structure in the data. It does this by constraining the size of the local neighborhood UMAP will look at when attempting to learn the manifold structure of the data. This means that low values of n_neighbors will force UMAP to concentrate on very local structure (potentially to the detriment of the big picture), while large values will push UMAP to look at larger neighborhoods of each point when estimating the manifold structure of the data, losing fine detail structure for the sake of getting the broader of the data.\n",
    "* `min_dist`  \n",
    "The min_dist parameter controls how tightly UMAP is allowed to pack points together. It, quite literally, provides the minimum distance apart that points are allowed to be in the low dimensional representation. This means that low values of min_dist will result in clumpier embeddings. Larger values of min_dist will prevent UMAP from packing points together and will focus on the preservation of the broad topological structure instead.\n",
    "* `n_components`  \n",
    "As is standard for many scikit-learn dimension reduction algorithms UMAP provides a n_components parameter option that allows the user to determine the dimensionality of the reduced dimension space we will be embedding the data into.\n"
   ]
  },
  {
   "cell_type": "code",
   "execution_count": null,
   "id": "capital-promotion",
   "metadata": {
    "ExecuteTime": {
     "end_time": "2021-07-07T15:57:52.062117Z",
     "start_time": "2021-07-07T15:57:52.040Z"
    }
   },
   "outputs": [],
   "source": [
    "embedding = umap.UMAP(n_neighbors=20,\n",
    "                      min_dist=0.15).fit_transform(X)"
   ]
  },
  {
   "cell_type": "code",
   "execution_count": null,
   "id": "athletic-struggle",
   "metadata": {
    "ExecuteTime": {
     "end_time": "2021-07-07T15:57:52.063115Z",
     "start_time": "2021-07-07T15:57:52.043Z"
    }
   },
   "outputs": [],
   "source": [
    "plot_df = pd.DataFrame.from_records(data=embedding,columns=[\"x\",\"y\"])\n",
    "plot_df[\"target\"] = df[y]\n",
    "\n",
    "sns.set(style=\"ticks\")\n",
    "sns.relplot(\"x\", \"y\", data=plot_df, hue=\"target\", palette='coolwarm')"
   ]
  },
  {
   "cell_type": "markdown",
   "id": "sapphire-branch",
   "metadata": {},
   "source": [
    "# t-SNE\n",
    "\n",
    "Some usefull links:  \n",
    "[How to Use t-SNE Effectively](https://distill.pub/2016/misread-tsne/)  \n",
    "[t-SNE clearly explained](https://erdem.pl/2020/04/t-sne-clearly-explained)  \n",
    "\n",
    "Most important parameter: \n",
    "* `perplexity`  \n",
    "Perplexity is perhaps the most important parameter in t-SNE and can reveal different aspects of the data. The perplexity is related to the number of nearest neighbors that is used in other manifold learning algorithms. Considered loosely, it can be thought of as the balance between preserving the global and the local structure of the data. Larger datasets usually require a larger perplexity. \n"
   ]
  },
  {
   "cell_type": "code",
   "execution_count": null,
   "id": "intermediate-hunter",
   "metadata": {
    "ExecuteTime": {
     "end_time": "2021-07-07T15:57:52.064112Z",
     "start_time": "2021-07-07T15:57:52.048Z"
    }
   },
   "outputs": [],
   "source": [
    "tsne = TSNE()\n",
    "tsne_X = tsne.fit_transform(X)"
   ]
  },
  {
   "cell_type": "code",
   "execution_count": 6,
   "id": "rough-seating",
   "metadata": {
    "ExecuteTime": {
     "end_time": "2021-07-07T15:57:52.087051Z",
     "start_time": "2021-07-07T15:57:52.066107Z"
    }
   },
   "outputs": [
    {
     "ename": "NameError",
     "evalue": "name 'pd' is not defined",
     "output_type": "error",
     "traceback": [
      "\u001b[1;31m---------------------------------------------------------------------------\u001b[0m",
      "\u001b[1;31mNameError\u001b[0m                                 Traceback (most recent call last)",
      "\u001b[1;32m<ipython-input-6-8168b0a17d34>\u001b[0m in \u001b[0;36m<module>\u001b[1;34m\u001b[0m\n\u001b[1;32m----> 1\u001b[1;33m \u001b[0mplot_df\u001b[0m \u001b[1;33m=\u001b[0m \u001b[0mpd\u001b[0m\u001b[1;33m.\u001b[0m\u001b[0mDataFrame\u001b[0m\u001b[1;33m.\u001b[0m\u001b[0mfrom_records\u001b[0m\u001b[1;33m(\u001b[0m\u001b[0mdata\u001b[0m\u001b[1;33m=\u001b[0m\u001b[0mtsne_X\u001b[0m\u001b[1;33m,\u001b[0m\u001b[0mcolumns\u001b[0m\u001b[1;33m=\u001b[0m\u001b[1;33m[\u001b[0m\u001b[1;34m\"x\"\u001b[0m\u001b[1;33m,\u001b[0m\u001b[1;34m\"y\"\u001b[0m\u001b[1;33m]\u001b[0m\u001b[1;33m)\u001b[0m\u001b[1;33m\u001b[0m\u001b[1;33m\u001b[0m\u001b[0m\n\u001b[0m\u001b[0;32m      2\u001b[0m \u001b[0mplot_df\u001b[0m\u001b[1;33m[\u001b[0m\u001b[1;34m\"target\"\u001b[0m\u001b[1;33m]\u001b[0m \u001b[1;33m=\u001b[0m \u001b[0mdf\u001b[0m\u001b[1;33m[\u001b[0m\u001b[0my\u001b[0m\u001b[1;33m]\u001b[0m\u001b[1;33m\u001b[0m\u001b[1;33m\u001b[0m\u001b[0m\n\u001b[0;32m      3\u001b[0m \u001b[1;33m\u001b[0m\u001b[0m\n\u001b[0;32m      4\u001b[0m \u001b[0msns\u001b[0m\u001b[1;33m.\u001b[0m\u001b[0mset\u001b[0m\u001b[1;33m(\u001b[0m\u001b[0mstyle\u001b[0m\u001b[1;33m=\u001b[0m\u001b[1;34m\"ticks\"\u001b[0m\u001b[1;33m)\u001b[0m\u001b[1;33m\u001b[0m\u001b[1;33m\u001b[0m\u001b[0m\n\u001b[0;32m      5\u001b[0m \u001b[0msns\u001b[0m\u001b[1;33m.\u001b[0m\u001b[0mrelplot\u001b[0m\u001b[1;33m(\u001b[0m\u001b[1;34m\"x\"\u001b[0m\u001b[1;33m,\u001b[0m \u001b[1;34m\"y\"\u001b[0m\u001b[1;33m,\u001b[0m \u001b[0mdata\u001b[0m\u001b[1;33m=\u001b[0m\u001b[0mplot_df\u001b[0m\u001b[1;33m,\u001b[0m \u001b[0mhue\u001b[0m\u001b[1;33m=\u001b[0m\u001b[1;34m\"target\"\u001b[0m\u001b[1;33m,\u001b[0m \u001b[0mpalette\u001b[0m\u001b[1;33m=\u001b[0m\u001b[1;34m'coolwarm'\u001b[0m\u001b[1;33m)\u001b[0m\u001b[1;33m\u001b[0m\u001b[1;33m\u001b[0m\u001b[0m\n",
      "\u001b[1;31mNameError\u001b[0m: name 'pd' is not defined"
     ]
    }
   ],
   "source": [
    "plot_df = pd.DataFrame.from_records(data=tsne_X,columns=[\"x\",\"y\"])\n",
    "plot_df[\"target\"] = df[y]\n",
    "\n",
    "sns.set(style=\"ticks\")\n",
    "sns.relplot(\"x\", \"y\", data=plot_df, hue=\"target\", palette='coolwarm')"
   ]
  },
  {
   "cell_type": "code",
   "execution_count": null,
   "id": "rental-daniel",
   "metadata": {
    "ExecuteTime": {
     "end_time": "2021-07-07T15:57:52.089045Z",
     "start_time": "2021-07-07T15:57:52.057Z"
    }
   },
   "outputs": [],
   "source": [
    "pca = PCA(n_components=0.95)\n",
    "new_X = pca.fit_transform(X)\n",
    "\n",
    "tsne = TSNE(n_components=2)\n",
    "tsne_X_pca = tsne.fit_transform(new_X)"
   ]
  },
  {
   "cell_type": "code",
   "execution_count": null,
   "id": "sporting-membership",
   "metadata": {
    "ExecuteTime": {
     "end_time": "2021-07-07T15:57:52.090043Z",
     "start_time": "2021-07-07T15:57:52.062Z"
    }
   },
   "outputs": [],
   "source": [
    "plot_df = pd.DataFrame.from_records(data=tsne_X_pca,columns=[\"x\",\"y\"])\n",
    "plot_df[\"target\"] = df[y]\n",
    "\n",
    "sns.set(style=\"ticks\")\n",
    "sns.relplot(\"x\", \"y\", data=plot_df, hue=\"target\", palette='coolwarm')"
   ]
  },
  {
   "cell_type": "code",
   "execution_count": null,
   "id": "adjusted-payment",
   "metadata": {},
   "outputs": [],
   "source": []
  },
  {
   "cell_type": "markdown",
   "id": "violent-bryan",
   "metadata": {},
   "source": [
    "# MNIST \n",
    "[kaggle link](https://www.kaggle.com/oddrationale/mnist-in-csv?select=mnist_train.csv)\n",
    "\n",
    "The MNIST handwritten digits dataset consists of binary images of a single handwritten digit (0-9) of size $28\\times 28$. The provided training set has 60,000 images (we will use only 6000 sample), and the testing set has 10,000 images.\n",
    "\n",
    "We can think of each digit as a point in a higher-dimensional space. If we take an image from this dataset and rasterize it into a $784\\times 1$ vector, then it becomes a point in 784-dimensional space. That’s impossible to visualize in that higher space!\n"
   ]
  },
  {
   "cell_type": "code",
   "execution_count": null,
   "id": "negative-glossary",
   "metadata": {
    "ExecuteTime": {
     "end_time": "2021-07-07T15:57:52.091040Z",
     "start_time": "2021-07-07T15:57:52.066Z"
    }
   },
   "outputs": [],
   "source": [
    "df = pd.read_csv(\"data/mnist_train_sample6000.csv\")"
   ]
  },
  {
   "cell_type": "code",
   "execution_count": null,
   "id": "automated-summit",
   "metadata": {
    "ExecuteTime": {
     "end_time": "2021-07-07T15:57:52.092037Z",
     "start_time": "2021-07-07T15:57:52.073Z"
    }
   },
   "outputs": [],
   "source": [
    "for i in df.iloc[:,1:].values[:1].reshape(1, 28,28)[0]:\n",
    "    print(\" \".join(list([str(x) for x in i])))"
   ]
  },
  {
   "cell_type": "code",
   "execution_count": null,
   "id": "initial-memorial",
   "metadata": {
    "ExecuteTime": {
     "end_time": "2021-07-07T15:57:52.094032Z",
     "start_time": "2021-07-07T15:57:52.077Z"
    }
   },
   "outputs": [],
   "source": [
    "df.iloc[:,1:].values[:1].reshape(1, 28,28)"
   ]
  },
  {
   "cell_type": "code",
   "execution_count": null,
   "id": "military-slovak",
   "metadata": {
    "ExecuteTime": {
     "end_time": "2021-07-07T15:57:52.095030Z",
     "start_time": "2021-07-07T15:57:52.080Z"
    }
   },
   "outputs": [],
   "source": [
    "df.info()"
   ]
  },
  {
   "cell_type": "code",
   "execution_count": 7,
   "id": "complex-project",
   "metadata": {
    "ExecuteTime": {
     "end_time": "2021-07-07T15:57:52.117972Z",
     "start_time": "2021-07-07T15:57:52.096027Z"
    }
   },
   "outputs": [
    {
     "ename": "NameError",
     "evalue": "name 'df' is not defined",
     "output_type": "error",
     "traceback": [
      "\u001b[1;31m---------------------------------------------------------------------------\u001b[0m",
      "\u001b[1;31mNameError\u001b[0m                                 Traceback (most recent call last)",
      "\u001b[1;32m<ipython-input-7-73c1ff693133>\u001b[0m in \u001b[0;36m<module>\u001b[1;34m\u001b[0m\n\u001b[1;32m----> 1\u001b[1;33m \u001b[0mdf\u001b[0m\u001b[1;33m.\u001b[0m\u001b[0miloc\u001b[0m\u001b[1;33m[\u001b[0m\u001b[1;33m:\u001b[0m\u001b[1;33m,\u001b[0m\u001b[1;36m1\u001b[0m\u001b[1;33m:\u001b[0m\u001b[1;33m]\u001b[0m\u001b[1;33m\u001b[0m\u001b[1;33m\u001b[0m\u001b[0m\n\u001b[0m\u001b[0;32m      2\u001b[0m \u001b[1;33m\u001b[0m\u001b[0m\n\u001b[0;32m      3\u001b[0m \u001b[0m_\u001b[0m\u001b[1;33m,\u001b[0m \u001b[0maxes\u001b[0m \u001b[1;33m=\u001b[0m \u001b[0mplt\u001b[0m\u001b[1;33m.\u001b[0m\u001b[0msubplots\u001b[0m\u001b[1;33m(\u001b[0m\u001b[0mnrows\u001b[0m\u001b[1;33m=\u001b[0m\u001b[1;36m1\u001b[0m\u001b[1;33m,\u001b[0m \u001b[0mncols\u001b[0m\u001b[1;33m=\u001b[0m\u001b[1;36m4\u001b[0m\u001b[1;33m,\u001b[0m \u001b[0mfigsize\u001b[0m\u001b[1;33m=\u001b[0m\u001b[1;33m(\u001b[0m\u001b[1;36m10\u001b[0m\u001b[1;33m,\u001b[0m \u001b[1;36m3\u001b[0m\u001b[1;33m)\u001b[0m\u001b[1;33m)\u001b[0m\u001b[1;33m\u001b[0m\u001b[1;33m\u001b[0m\u001b[0m\n\u001b[0;32m      4\u001b[0m \u001b[1;32mfor\u001b[0m \u001b[0max\u001b[0m\u001b[1;33m,\u001b[0m \u001b[0mimage\u001b[0m\u001b[1;33m,\u001b[0m \u001b[0mlabel\u001b[0m \u001b[1;32min\u001b[0m \u001b[0mzip\u001b[0m\u001b[1;33m(\u001b[0m\u001b[0maxes\u001b[0m\u001b[1;33m,\u001b[0m \u001b[0mdf\u001b[0m\u001b[1;33m.\u001b[0m\u001b[0miloc\u001b[0m\u001b[1;33m[\u001b[0m\u001b[1;33m:\u001b[0m\u001b[1;33m,\u001b[0m\u001b[1;36m1\u001b[0m\u001b[1;33m:\u001b[0m\u001b[1;33m]\u001b[0m\u001b[1;33m.\u001b[0m\u001b[0mvalues\u001b[0m\u001b[1;33m[\u001b[0m\u001b[1;33m:\u001b[0m\u001b[1;36m4\u001b[0m\u001b[1;33m]\u001b[0m\u001b[1;33m.\u001b[0m\u001b[0mreshape\u001b[0m\u001b[1;33m(\u001b[0m\u001b[1;36m4\u001b[0m\u001b[1;33m,\u001b[0m \u001b[1;36m28\u001b[0m\u001b[1;33m,\u001b[0m\u001b[1;36m28\u001b[0m\u001b[1;33m)\u001b[0m\u001b[1;33m,\u001b[0m \u001b[0mdf\u001b[0m\u001b[1;33m.\u001b[0m\u001b[0miloc\u001b[0m\u001b[1;33m[\u001b[0m\u001b[1;33m:\u001b[0m\u001b[1;36m4\u001b[0m\u001b[1;33m,\u001b[0m\u001b[1;36m0\u001b[0m\u001b[1;33m]\u001b[0m\u001b[1;33m.\u001b[0m\u001b[0mvalues\u001b[0m\u001b[1;33m)\u001b[0m\u001b[1;33m:\u001b[0m\u001b[1;33m\u001b[0m\u001b[1;33m\u001b[0m\u001b[0m\n\u001b[0;32m      5\u001b[0m     \u001b[0max\u001b[0m\u001b[1;33m.\u001b[0m\u001b[0mset_axis_off\u001b[0m\u001b[1;33m(\u001b[0m\u001b[1;33m)\u001b[0m\u001b[1;33m\u001b[0m\u001b[1;33m\u001b[0m\u001b[0m\n",
      "\u001b[1;31mNameError\u001b[0m: name 'df' is not defined"
     ]
    }
   ],
   "source": [
    "df.iloc[:,1:]\n",
    "\n",
    "_, axes = plt.subplots(nrows=1, ncols=4, figsize=(10, 3))\n",
    "for ax, image, label in zip(axes, df.iloc[:,1:].values[:4].reshape(4, 28,28), df.iloc[:4,0].values):\n",
    "    ax.set_axis_off()\n",
    "    ax.imshow(image, cmap=plt.cm.gray_r, interpolation='nearest')\n",
    "    ax.set_title('Training: %i' % label)"
   ]
  },
  {
   "cell_type": "code",
   "execution_count": null,
   "id": "three-evans",
   "metadata": {
    "ExecuteTime": {
     "end_time": "2021-07-07T15:57:52.121958Z",
     "start_time": "2021-07-07T15:57:52.088Z"
    }
   },
   "outputs": [],
   "source": [
    "images = df.iloc[:,1:].values.reshape(df.shape[0], 28,28)"
   ]
  },
  {
   "cell_type": "code",
   "execution_count": null,
   "id": "afraid-snapshot",
   "metadata": {
    "ExecuteTime": {
     "end_time": "2021-07-07T15:57:52.122954Z",
     "start_time": "2021-07-07T15:57:52.092Z"
    }
   },
   "outputs": [],
   "source": [
    "# digits = datasets.load_digits()\n",
    "X = df.iloc[:,1:].values\n",
    "y = df.iloc[:,0].values\n",
    "n_samples, n_features = X.shape\n",
    "\n",
    "\n",
    "# function that will produce a nice visualization of our data\n",
    "def embedding_plot(M, title):\n",
    "    x_min, x_max = np.min(M, axis=0), np.max(M, axis=0)\n",
    "    M = (M - x_min) / (x_max - x_min)\n",
    " \n",
    "    plt.figure(figsize=(15,10))\n",
    "    ax = plt.subplot(aspect='equal')\n",
    "    sc = ax.scatter(M[:,0], M[:,1], lw=0, s=40, c=y/10, alpha=0.7, cmap='viridis_r')\n",
    " \n",
    "    shown_images = np.array([[1., 1.]])\n",
    "    for i in range(M.shape[0]):\n",
    "        if np.min(np.sum((M[i] - shown_images) ** 2, axis=1)) < 1e-2: continue\n",
    "        shown_images = np.r_[shown_images, [M[i]]]\n",
    "        ax.add_artist(offsetbox.AnnotationBbox(offsetbox.OffsetImage(images[i], cmap=plt.cm.gray_r), M[i]))\n",
    " \n",
    "    plt.xticks([]), plt.yticks([])\n",
    "    plt.title(title)"
   ]
  },
  {
   "cell_type": "code",
   "execution_count": null,
   "id": "needed-batch",
   "metadata": {
    "ExecuteTime": {
     "end_time": "2021-07-07T15:57:52.123951Z",
     "start_time": "2021-07-07T15:57:52.096Z"
    }
   },
   "outputs": [],
   "source": [
    "n_samples, n_features"
   ]
  },
  {
   "cell_type": "markdown",
   "id": "convenient-crisis",
   "metadata": {},
   "source": [
    "## PCA"
   ]
  },
  {
   "cell_type": "code",
   "execution_count": null,
   "id": "handy-strategy",
   "metadata": {
    "ExecuteTime": {
     "end_time": "2021-07-07T15:57:52.124948Z",
     "start_time": "2021-07-07T15:57:52.101Z"
    }
   },
   "outputs": [],
   "source": [
    "%%time\n",
    "pca = PCA(n_components=2)\n",
    "X_pca = pca.fit_transform(StandardScaler().fit_transform(X))"
   ]
  },
  {
   "cell_type": "code",
   "execution_count": null,
   "id": "configured-attribute",
   "metadata": {
    "ExecuteTime": {
     "end_time": "2021-07-07T15:57:52.126943Z",
     "start_time": "2021-07-07T15:57:52.106Z"
    }
   },
   "outputs": [],
   "source": [
    "embedding_plot(X_pca, \"PCA\")\n",
    "plt.show()"
   ]
  },
  {
   "cell_type": "code",
   "execution_count": null,
   "id": "white-preliminary",
   "metadata": {
    "ExecuteTime": {
     "end_time": "2021-07-07T15:57:52.127941Z",
     "start_time": "2021-07-07T15:57:52.111Z"
    }
   },
   "outputs": [],
   "source": [
    "pca.explained_variance_ratio_.sum()"
   ]
  },
  {
   "cell_type": "markdown",
   "id": "sufficient-colon",
   "metadata": {},
   "source": [
    "## t-SNE"
   ]
  },
  {
   "cell_type": "code",
   "execution_count": null,
   "id": "hairy-contract",
   "metadata": {
    "ExecuteTime": {
     "end_time": "2021-07-07T15:57:52.128938Z",
     "start_time": "2021-07-07T15:57:52.117Z"
    }
   },
   "outputs": [],
   "source": [
    "%%time\n",
    "X_tsne = TSNE(n_components=2, perplexity=10).fit_transform(X)"
   ]
  },
  {
   "cell_type": "code",
   "execution_count": 8,
   "id": "medieval-zoning",
   "metadata": {
    "ExecuteTime": {
     "end_time": "2021-07-07T15:57:52.149883Z",
     "start_time": "2021-07-07T15:57:52.130934Z"
    }
   },
   "outputs": [
    {
     "ename": "NameError",
     "evalue": "name 'embedding_plot' is not defined",
     "output_type": "error",
     "traceback": [
      "\u001b[1;31m---------------------------------------------------------------------------\u001b[0m",
      "\u001b[1;31mNameError\u001b[0m                                 Traceback (most recent call last)",
      "\u001b[1;32m<ipython-input-8-03e3cc4d82c7>\u001b[0m in \u001b[0;36m<module>\u001b[1;34m\u001b[0m\n\u001b[1;32m----> 1\u001b[1;33m \u001b[0membedding_plot\u001b[0m\u001b[1;33m(\u001b[0m\u001b[0mX_tsne\u001b[0m\u001b[1;33m,\u001b[0m\u001b[1;34m\"t-SNE\"\u001b[0m\u001b[1;33m)\u001b[0m\u001b[1;33m\u001b[0m\u001b[1;33m\u001b[0m\u001b[0m\n\u001b[0m\u001b[0;32m      2\u001b[0m \u001b[0mplt\u001b[0m\u001b[1;33m.\u001b[0m\u001b[0mshow\u001b[0m\u001b[1;33m(\u001b[0m\u001b[1;33m)\u001b[0m\u001b[1;33m\u001b[0m\u001b[1;33m\u001b[0m\u001b[0m\n",
      "\u001b[1;31mNameError\u001b[0m: name 'embedding_plot' is not defined"
     ]
    }
   ],
   "source": [
    "embedding_plot(X_tsne,\"t-SNE\")\n",
    "plt.show()"
   ]
  },
  {
   "cell_type": "code",
   "execution_count": null,
   "id": "hydraulic-birthday",
   "metadata": {
    "ExecuteTime": {
     "end_time": "2021-07-07T15:57:52.154869Z",
     "start_time": "2021-07-07T15:57:52.124Z"
    }
   },
   "outputs": [],
   "source": [
    "%%time\n",
    "X_tsne = TSNE(n_components=2, perplexity=50).fit_transform(X)"
   ]
  },
  {
   "cell_type": "code",
   "execution_count": null,
   "id": "familiar-application",
   "metadata": {
    "ExecuteTime": {
     "end_time": "2021-07-07T15:57:52.156864Z",
     "start_time": "2021-07-07T15:57:52.128Z"
    }
   },
   "outputs": [],
   "source": [
    "embedding_plot(X_tsne,\"t-SNE with a higher perplexity value\")\n",
    "plt.show()"
   ]
  },
  {
   "cell_type": "markdown",
   "id": "collaborative-heading",
   "metadata": {},
   "source": [
    "## t-SNE + PCA preproccesing"
   ]
  },
  {
   "cell_type": "code",
   "execution_count": null,
   "id": "exempt-engine",
   "metadata": {
    "ExecuteTime": {
     "end_time": "2021-07-07T15:57:52.157860Z",
     "start_time": "2021-07-07T15:57:52.132Z"
    }
   },
   "outputs": [],
   "source": [
    "%%time\n",
    "X_pcatsne = TSNE(n_components=2, perplexity=10).fit_transform(\n",
    "    PCA(n_components=0.95).fit_transform(StandardScaler().fit_transform(X))\n",
    ")"
   ]
  },
  {
   "cell_type": "code",
   "execution_count": null,
   "id": "russian-dance",
   "metadata": {
    "ExecuteTime": {
     "end_time": "2021-07-07T15:57:52.157860Z",
     "start_time": "2021-07-07T15:57:52.140Z"
    }
   },
   "outputs": [],
   "source": [
    "embedding_plot(X_pcatsne,\"t-SNE + PCA\")\n",
    "plt.show()"
   ]
  },
  {
   "cell_type": "markdown",
   "id": "burning-clarity",
   "metadata": {},
   "source": [
    "## UMAP"
   ]
  },
  {
   "cell_type": "code",
   "execution_count": null,
   "id": "suffering-leeds",
   "metadata": {
    "ExecuteTime": {
     "end_time": "2021-07-07T15:57:52.158859Z",
     "start_time": "2021-07-07T15:57:52.144Z"
    }
   },
   "outputs": [],
   "source": [
    "%%time\n",
    "umap_tr = umap.UMAP(n_neighbors=15, min_dist=0.1)\n",
    "X_umap = umap_tr.fit_transform(X)"
   ]
  },
  {
   "cell_type": "code",
   "execution_count": 9,
   "id": "declared-fabric",
   "metadata": {
    "ExecuteTime": {
     "end_time": "2021-07-07T15:57:52.181796Z",
     "start_time": "2021-07-07T15:57:52.160853Z"
    }
   },
   "outputs": [
    {
     "ename": "NameError",
     "evalue": "name 'embedding_plot' is not defined",
     "output_type": "error",
     "traceback": [
      "\u001b[1;31m---------------------------------------------------------------------------\u001b[0m",
      "\u001b[1;31mNameError\u001b[0m                                 Traceback (most recent call last)",
      "\u001b[1;32m<ipython-input-9-782a8a52935a>\u001b[0m in \u001b[0;36m<module>\u001b[1;34m\u001b[0m\n\u001b[1;32m----> 1\u001b[1;33m \u001b[0membedding_plot\u001b[0m\u001b[1;33m(\u001b[0m\u001b[0mX_umap\u001b[0m\u001b[1;33m,\u001b[0m \u001b[1;34m\"UMAP\"\u001b[0m\u001b[1;33m)\u001b[0m\u001b[1;33m\u001b[0m\u001b[1;33m\u001b[0m\u001b[0m\n\u001b[0m\u001b[0;32m      2\u001b[0m \u001b[0mplt\u001b[0m\u001b[1;33m.\u001b[0m\u001b[0mshow\u001b[0m\u001b[1;33m(\u001b[0m\u001b[1;33m)\u001b[0m\u001b[1;33m\u001b[0m\u001b[1;33m\u001b[0m\u001b[0m\n",
      "\u001b[1;31mNameError\u001b[0m: name 'embedding_plot' is not defined"
     ]
    }
   ],
   "source": [
    "embedding_plot(X_umap, \"UMAP\")\n",
    "plt.show()"
   ]
  },
  {
   "cell_type": "markdown",
   "id": "alone-absence",
   "metadata": {},
   "source": [
    "###  Additional fun with interective plots"
   ]
  },
  {
   "cell_type": "code",
   "execution_count": null,
   "id": "renewable-capitol",
   "metadata": {
    "ExecuteTime": {
     "end_time": "2021-07-07T15:57:52.184792Z",
     "start_time": "2021-07-07T15:57:52.155Z"
    }
   },
   "outputs": [],
   "source": [
    "from io import BytesIO\n",
    "from PIL import Image\n",
    "import base64\n",
    "\n",
    "from bokeh.plotting import figure, show, output_notebook\n",
    "from bokeh.models import HoverTool, ColumnDataSource, CategoricalColorMapper\n",
    "from bokeh.palettes import Spectral10\n",
    "\n",
    "output_notebook()"
   ]
  },
  {
   "cell_type": "code",
   "execution_count": null,
   "id": "dutch-loading",
   "metadata": {
    "ExecuteTime": {
     "end_time": "2021-07-07T15:57:52.186787Z",
     "start_time": "2021-07-07T15:57:52.159Z"
    }
   },
   "outputs": [],
   "source": [
    "def embeddable_image(data):\n",
    "    img_data = 255 - 15 * data.astype(np.uint8)\n",
    "    image = Image.fromarray(img_data, mode='L').resize((64, 64), Image.BICUBIC)\n",
    "    buffer = BytesIO()\n",
    "    image.save(buffer, format='png')\n",
    "    for_encoding = buffer.getvalue()\n",
    "    return 'data:image/png;base64,' + base64.b64encode(for_encoding).decode()"
   ]
  },
  {
   "cell_type": "code",
   "execution_count": null,
   "id": "blank-amber",
   "metadata": {
    "ExecuteTime": {
     "end_time": "2021-07-07T15:57:52.188779Z",
     "start_time": "2021-07-07T15:57:52.162Z"
    }
   },
   "outputs": [],
   "source": [
    "digits_df = pd.DataFrame(X_umap, columns=('x', 'y'))\n",
    "digits_df['digit'] = [str(x) for x in y]\n",
    "digits_df['image'] = list(map(embeddable_image, X.reshape(X.shape[0], 28,28)))\n",
    "\n",
    "datasource = ColumnDataSource(digits_df)\n",
    "color_mapping = CategoricalColorMapper(factors=[str(9 - x) for x in y],\n",
    "                                       palette=Spectral10)\n",
    "\n",
    "plot_figure = figure(\n",
    "    title='UMAP projection of MNIST dataset',\n",
    "    plot_width=600,\n",
    "    plot_height=600,\n",
    "    tools=('pan, wheel_zoom, reset')\n",
    ")\n",
    "\n",
    "plot_figure.add_tools(HoverTool(tooltips=\"\"\"\n",
    "<div>\n",
    "    <div>\n",
    "        <img src='@image' style='float: left; margin: 5px 5px 5px 5px'/>\n",
    "    </div>\n",
    "    <div>\n",
    "        <span style='font-size: 16px; color: #224499'>Digit:</span>\n",
    "        <span style='font-size: 18px'>@digit</span>\n",
    "    </div>\n",
    "</div>\n",
    "\"\"\"))\n",
    "\n",
    "plot_figure.circle(\n",
    "    'x',\n",
    "    'y',\n",
    "    source=datasource,\n",
    "    color=dict(field='digit', transform=color_mapping),\n",
    "    line_alpha=0.6,\n",
    "    fill_alpha=0.6,\n",
    "    size=4\n",
    ")\n",
    "show(plot_figure)"
   ]
  },
  {
   "cell_type": "code",
   "execution_count": null,
   "id": "received-philip",
   "metadata": {},
   "outputs": [],
   "source": []
  }
 ],
 "metadata": {
  "kernelspec": {
   "display_name": "Python 3",
   "language": "python",
   "name": "python3"
  },
  "language_info": {
   "codemirror_mode": {
    "name": "ipython",
    "version": 3
   },
   "file_extension": ".py",
   "mimetype": "text/x-python",
   "name": "python",
   "nbconvert_exporter": "python",
   "pygments_lexer": "ipython3",
   "version": "3.8.5"
  },
  "toc": {
   "base_numbering": 1,
   "nav_menu": {},
   "number_sections": true,
   "sideBar": true,
   "skip_h1_title": false,
   "title_cell": "Table of Contents",
   "title_sidebar": "Contents",
   "toc_cell": false,
   "toc_position": {},
   "toc_section_display": true,
   "toc_window_display": false
  }
 },
 "nbformat": 4,
 "nbformat_minor": 5
}
