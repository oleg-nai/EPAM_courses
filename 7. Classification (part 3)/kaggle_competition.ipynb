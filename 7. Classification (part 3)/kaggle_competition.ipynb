{
 "cells": [
  {
   "cell_type": "markdown",
   "id": "0133013e",
   "metadata": {},
   "source": [
    "# Classification 3. EPAM DS course\n",
    "\n",
    "    author: Oleg Naidovich"
   ]
  },
  {
   "cell_type": "code",
   "execution_count": null,
   "id": "eddfe1d4",
   "metadata": {},
   "outputs": [],
   "source": [
    "# !pip install pyspark\n",
    "# !pip install catboost\n",
    "# !pip install xgboost\n",
    "# !pip install lightgbm\n",
    "# !pip install hyperopt"
   ]
  },
  {
   "cell_type": "code",
   "execution_count": 869,
   "id": "9def88be",
   "metadata": {
    "ExecuteTime": {
     "end_time": "2021-09-07T14:50:18.999242Z",
     "start_time": "2021-09-07T14:50:17.878123Z"
    }
   },
   "outputs": [],
   "source": [
    "import pandas as pd\n",
    "import numpy as np\n",
    "\n",
    "import datetime as dt\n",
    "\n",
    "import seaborn as sns\n",
    "import matplotlib.pyplot as plt\n",
    "sns.set(style=\"darkgrid\")\n",
    "%matplotlib inline\n",
    "\n",
    "\n",
    "from sklearn.pipeline import Pipeline, FeatureUnion\n",
    "from sklearn.preprocessing import StandardScaler, OneHotEncoder, RobustScaler\n",
    "from sklearn.base import BaseEstimator, TransformerMixin\n",
    "from sklearn.linear_model import LogisticRegression\n",
    "from sklearn.model_selection import KFold, cross_val_score, train_test_split, GridSearchCV\n",
    "from sklearn.impute import SimpleImputer\n",
    "from sklearn.compose import ColumnTransformer\n",
    "from sklearn.metrics import accuracy_score, classification_report, roc_auc_score\n",
    "from sklearn.ensemble import RandomForestClassifier\n",
    "from sklearn.metrics import roc_auc_score\n",
    "\n",
    "from xgboost import XGBClassifier\n",
    "from lightgbm import LGBMClassifier\n",
    "from catboost import CatBoostClassifier\n",
    "\n",
    "from hyperopt import hp, fmin, tpe, Trials, STATUS_OK\n",
    "\n",
    "import warnings\n",
    "warnings.filterwarnings(\"ignore\")"
   ]
  },
  {
   "cell_type": "code",
   "execution_count": 7,
   "id": "3f8d190d",
   "metadata": {
    "ExecuteTime": {
     "end_time": "2021-09-05T18:40:37.471015Z",
     "start_time": "2021-09-05T18:40:34.793288Z"
    }
   },
   "outputs": [],
   "source": [
    "from pyspark.sql import SparkSession\n",
    "\n",
    "# initialise sparkContext\n",
    "spark = SparkSession.builder \\\n",
    "    .master('local') \\\n",
    "    .appName('myAppName') \\\n",
    "    .config('spark.executor.memory', '5gb') \\\n",
    "    .config(\"spark.cores.max\", \"6\") \\\n",
    "    .getOrCreate()\n",
    "\n",
    "sc = spark.sparkContext\n",
    "\n",
    "# using SQLContext to read parquet file\n",
    "from pyspark.sql import SQLContext\n",
    "sqlContext = SQLContext(sc)\n",
    "\n",
    "# to read parquet file\n",
    "id_map = sqlContext.read.parquet('data/id_map.parquet')"
   ]
  },
  {
   "cell_type": "code",
   "execution_count": 8,
   "id": "c7458cbb",
   "metadata": {
    "ExecuteTime": {
     "end_time": "2021-09-05T18:40:39.762148Z",
     "start_time": "2021-09-05T18:40:37.472973Z"
    }
   },
   "outputs": [],
   "source": [
    "df = pd.read_csv(\"data/train.csv\", parse_dates=[f'time{i+1}' for i in range(10)])"
   ]
  },
  {
   "cell_type": "code",
   "execution_count": 9,
   "id": "736f5067",
   "metadata": {
    "ExecuteTime": {
     "end_time": "2021-09-05T18:40:39.823358Z",
     "start_time": "2021-09-05T18:40:39.764145Z"
    }
   },
   "outputs": [
    {
     "data": {
      "text/html": [
       "<div>\n",
       "<style scoped>\n",
       "    .dataframe tbody tr th:only-of-type {\n",
       "        vertical-align: middle;\n",
       "    }\n",
       "\n",
       "    .dataframe tbody tr th {\n",
       "        vertical-align: top;\n",
       "    }\n",
       "\n",
       "    .dataframe thead th {\n",
       "        text-align: right;\n",
       "    }\n",
       "</style>\n",
       "<table border=\"1\" class=\"dataframe\">\n",
       "  <thead>\n",
       "    <tr style=\"text-align: right;\">\n",
       "      <th></th>\n",
       "      <th>session_id</th>\n",
       "      <th>webpage1</th>\n",
       "      <th>time1</th>\n",
       "      <th>webpage2</th>\n",
       "      <th>time2</th>\n",
       "      <th>webpage3</th>\n",
       "      <th>time3</th>\n",
       "      <th>webpage4</th>\n",
       "      <th>time4</th>\n",
       "      <th>webpage5</th>\n",
       "      <th>...</th>\n",
       "      <th>time6</th>\n",
       "      <th>webpage7</th>\n",
       "      <th>time7</th>\n",
       "      <th>webpage8</th>\n",
       "      <th>time8</th>\n",
       "      <th>webpage9</th>\n",
       "      <th>time9</th>\n",
       "      <th>webpage10</th>\n",
       "      <th>time10</th>\n",
       "      <th>target</th>\n",
       "    </tr>\n",
       "  </thead>\n",
       "  <tbody>\n",
       "    <tr>\n",
       "      <th>0</th>\n",
       "      <td>0</td>\n",
       "      <td>9486</td>\n",
       "      <td>2019-02-20 05:57:45</td>\n",
       "      <td>NaN</td>\n",
       "      <td>NaT</td>\n",
       "      <td>NaN</td>\n",
       "      <td>NaT</td>\n",
       "      <td>NaN</td>\n",
       "      <td>NaT</td>\n",
       "      <td>NaN</td>\n",
       "      <td>...</td>\n",
       "      <td>NaT</td>\n",
       "      <td>NaN</td>\n",
       "      <td>NaT</td>\n",
       "      <td>NaN</td>\n",
       "      <td>NaT</td>\n",
       "      <td>NaN</td>\n",
       "      <td>NaT</td>\n",
       "      <td>NaN</td>\n",
       "      <td>NaT</td>\n",
       "      <td>0</td>\n",
       "    </tr>\n",
       "    <tr>\n",
       "      <th>1</th>\n",
       "      <td>1</td>\n",
       "      <td>11722</td>\n",
       "      <td>2019-02-22 07:14:50</td>\n",
       "      <td>12385.0</td>\n",
       "      <td>2019-02-22 07:14:50</td>\n",
       "      <td>50163.0</td>\n",
       "      <td>2019-02-22 07:14:51</td>\n",
       "      <td>12385.0</td>\n",
       "      <td>2019-02-22 07:14:51</td>\n",
       "      <td>12398.0</td>\n",
       "      <td>...</td>\n",
       "      <td>2019-02-22 07:14:51</td>\n",
       "      <td>50163.0</td>\n",
       "      <td>2019-02-22 07:14:52</td>\n",
       "      <td>50150.0</td>\n",
       "      <td>2019-02-22 07:14:52</td>\n",
       "      <td>19860.0</td>\n",
       "      <td>2019-02-22 07:15:15</td>\n",
       "      <td>19886.0</td>\n",
       "      <td>2019-02-22 07:15:16</td>\n",
       "      <td>0</td>\n",
       "    </tr>\n",
       "    <tr>\n",
       "      <th>2</th>\n",
       "      <td>2</td>\n",
       "      <td>192149</td>\n",
       "      <td>2018-12-16 12:35:17</td>\n",
       "      <td>659.0</td>\n",
       "      <td>2018-12-16 12:35:18</td>\n",
       "      <td>192136.0</td>\n",
       "      <td>2018-12-16 12:35:19</td>\n",
       "      <td>192149.0</td>\n",
       "      <td>2018-12-16 12:35:19</td>\n",
       "      <td>633.0</td>\n",
       "      <td>...</td>\n",
       "      <td>2018-12-16 12:35:19</td>\n",
       "      <td>192136.0</td>\n",
       "      <td>2018-12-16 12:35:20</td>\n",
       "      <td>192136.0</td>\n",
       "      <td>2018-12-16 12:35:21</td>\n",
       "      <td>192136.0</td>\n",
       "      <td>2018-12-16 12:35:22</td>\n",
       "      <td>192136.0</td>\n",
       "      <td>2018-12-16 12:35:24</td>\n",
       "      <td>0</td>\n",
       "    </tr>\n",
       "    <tr>\n",
       "      <th>3</th>\n",
       "      <td>3</td>\n",
       "      <td>10591</td>\n",
       "      <td>2019-02-13 12:40:35</td>\n",
       "      <td>451.0</td>\n",
       "      <td>2019-02-13 12:40:35</td>\n",
       "      <td>77580.0</td>\n",
       "      <td>2019-02-13 12:40:35</td>\n",
       "      <td>227821.0</td>\n",
       "      <td>2019-02-13 12:40:35</td>\n",
       "      <td>633.0</td>\n",
       "      <td>...</td>\n",
       "      <td>2019-02-13 12:42:14</td>\n",
       "      <td>10591.0</td>\n",
       "      <td>2019-02-13 12:42:14</td>\n",
       "      <td>227834.0</td>\n",
       "      <td>2019-02-13 12:42:15</td>\n",
       "      <td>227834.0</td>\n",
       "      <td>2019-02-13 12:42:16</td>\n",
       "      <td>227834.0</td>\n",
       "      <td>2019-02-13 12:42:17</td>\n",
       "      <td>0</td>\n",
       "    </tr>\n",
       "    <tr>\n",
       "      <th>4</th>\n",
       "      <td>4</td>\n",
       "      <td>438</td>\n",
       "      <td>2018-04-12 06:22:26</td>\n",
       "      <td>425.0</td>\n",
       "      <td>2018-04-12 06:22:26</td>\n",
       "      <td>529.0</td>\n",
       "      <td>2018-04-12 06:22:28</td>\n",
       "      <td>65685.0</td>\n",
       "      <td>2018-04-12 06:22:29</td>\n",
       "      <td>187638.0</td>\n",
       "      <td>...</td>\n",
       "      <td>2018-04-12 06:22:29</td>\n",
       "      <td>425.0</td>\n",
       "      <td>2018-04-12 06:22:29</td>\n",
       "      <td>65685.0</td>\n",
       "      <td>2018-04-12 06:22:31</td>\n",
       "      <td>187625.0</td>\n",
       "      <td>2018-04-12 06:22:31</td>\n",
       "      <td>187625.0</td>\n",
       "      <td>2018-04-12 06:22:32</td>\n",
       "      <td>0</td>\n",
       "    </tr>\n",
       "  </tbody>\n",
       "</table>\n",
       "<p>5 rows × 22 columns</p>\n",
       "</div>"
      ],
      "text/plain": [
       "   session_id  webpage1               time1  webpage2               time2  \\\n",
       "0           0      9486 2019-02-20 05:57:45       NaN                 NaT   \n",
       "1           1     11722 2019-02-22 07:14:50   12385.0 2019-02-22 07:14:50   \n",
       "2           2    192149 2018-12-16 12:35:17     659.0 2018-12-16 12:35:18   \n",
       "3           3     10591 2019-02-13 12:40:35     451.0 2019-02-13 12:40:35   \n",
       "4           4       438 2018-04-12 06:22:26     425.0 2018-04-12 06:22:26   \n",
       "\n",
       "   webpage3               time3  webpage4               time4  webpage5  ...  \\\n",
       "0       NaN                 NaT       NaN                 NaT       NaN  ...   \n",
       "1   50163.0 2019-02-22 07:14:51   12385.0 2019-02-22 07:14:51   12398.0  ...   \n",
       "2  192136.0 2018-12-16 12:35:19  192149.0 2018-12-16 12:35:19     633.0  ...   \n",
       "3   77580.0 2019-02-13 12:40:35  227821.0 2019-02-13 12:40:35     633.0  ...   \n",
       "4     529.0 2018-04-12 06:22:28   65685.0 2018-04-12 06:22:29  187638.0  ...   \n",
       "\n",
       "                time6  webpage7               time7  webpage8  \\\n",
       "0                 NaT       NaN                 NaT       NaN   \n",
       "1 2019-02-22 07:14:51   50163.0 2019-02-22 07:14:52   50150.0   \n",
       "2 2018-12-16 12:35:19  192136.0 2018-12-16 12:35:20  192136.0   \n",
       "3 2019-02-13 12:42:14   10591.0 2019-02-13 12:42:14  227834.0   \n",
       "4 2018-04-12 06:22:29     425.0 2018-04-12 06:22:29   65685.0   \n",
       "\n",
       "                time8  webpage9               time9  webpage10  \\\n",
       "0                 NaT       NaN                 NaT        NaN   \n",
       "1 2019-02-22 07:14:52   19860.0 2019-02-22 07:15:15    19886.0   \n",
       "2 2018-12-16 12:35:21  192136.0 2018-12-16 12:35:22   192136.0   \n",
       "3 2019-02-13 12:42:15  227834.0 2019-02-13 12:42:16   227834.0   \n",
       "4 2018-04-12 06:22:31  187625.0 2018-04-12 06:22:31   187625.0   \n",
       "\n",
       "               time10  target  \n",
       "0                 NaT       0  \n",
       "1 2019-02-22 07:15:16       0  \n",
       "2 2018-12-16 12:35:24       0  \n",
       "3 2019-02-13 12:42:17       0  \n",
       "4 2018-04-12 06:22:32       0  \n",
       "\n",
       "[5 rows x 22 columns]"
      ]
     },
     "execution_count": 9,
     "metadata": {},
     "output_type": "execute_result"
    }
   ],
   "source": [
    "df.head()"
   ]
  },
  {
   "cell_type": "markdown",
   "id": "48a476b8",
   "metadata": {},
   "source": [
    "# EDA\n",
    "\n",
    "First of all we should make some really needable things like deleting useless data (Nans), convert data to another format and so on. \n",
    "\n",
    "`update :D:`\n",
    "I have realized that deleting data is really worse thing, so it is better to save them and add another feature, whick will say how much nans we have in dataframe\n"
   ]
  },
  {
   "cell_type": "code",
   "execution_count": 10,
   "id": "d8490903",
   "metadata": {
    "ExecuteTime": {
     "end_time": "2021-09-05T18:40:39.855237Z",
     "start_time": "2021-09-05T18:40:39.825316Z"
    }
   },
   "outputs": [
    {
     "data": {
      "text/plain": [
       "session_id    0.000000\n",
       "webpage1      0.000000\n",
       "time1         0.000000\n",
       "webpage2      1.237115\n",
       "time2         1.237115\n",
       "webpage3      2.439848\n",
       "time3         2.439848\n",
       "webpage4      3.480049\n",
       "time4         3.480049\n",
       "webpage5      4.455863\n",
       "time5         4.455863\n",
       "webpage6      5.404172\n",
       "time6         5.404172\n",
       "webpage7      6.286843\n",
       "time7         6.286843\n",
       "webpage8      7.123255\n",
       "time8         7.123255\n",
       "webpage9      8.007176\n",
       "time9         8.007176\n",
       "webpage10     8.822334\n",
       "time10        8.822334\n",
       "target        0.000000\n",
       "dtype: float64"
      ]
     },
     "execution_count": 10,
     "metadata": {},
     "output_type": "execute_result"
    }
   ],
   "source": [
    "df.isna().sum() / df.shape[0] * 100"
   ]
  },
  {
   "cell_type": "code",
   "execution_count": 11,
   "id": "a0f3e0e3",
   "metadata": {
    "ExecuteTime": {
     "end_time": "2021-09-05T18:40:39.995887Z",
     "start_time": "2021-09-05T18:40:39.857260Z"
    }
   },
   "outputs": [
    {
     "data": {
      "text/html": [
       "<div>\n",
       "<style scoped>\n",
       "    .dataframe tbody tr th:only-of-type {\n",
       "        vertical-align: middle;\n",
       "    }\n",
       "\n",
       "    .dataframe tbody tr th {\n",
       "        vertical-align: top;\n",
       "    }\n",
       "\n",
       "    .dataframe thead th {\n",
       "        text-align: right;\n",
       "    }\n",
       "</style>\n",
       "<table border=\"1\" class=\"dataframe\">\n",
       "  <thead>\n",
       "    <tr style=\"text-align: right;\">\n",
       "      <th></th>\n",
       "      <th>session_id</th>\n",
       "      <th>webpage1</th>\n",
       "      <th>webpage2</th>\n",
       "      <th>webpage3</th>\n",
       "      <th>webpage4</th>\n",
       "      <th>webpage5</th>\n",
       "      <th>webpage6</th>\n",
       "      <th>webpage7</th>\n",
       "      <th>webpage8</th>\n",
       "      <th>webpage9</th>\n",
       "      <th>webpage10</th>\n",
       "      <th>target</th>\n",
       "    </tr>\n",
       "  </thead>\n",
       "  <tbody>\n",
       "    <tr>\n",
       "      <th>count</th>\n",
       "      <td>159969.000000</td>\n",
       "      <td>159969.000000</td>\n",
       "      <td>157990.000000</td>\n",
       "      <td>156066.000000</td>\n",
       "      <td>154402.000000</td>\n",
       "      <td>152841.000000</td>\n",
       "      <td>151324.000000</td>\n",
       "      <td>149912.000000</td>\n",
       "      <td>148574.000000</td>\n",
       "      <td>147160.000000</td>\n",
       "      <td>145856.000000</td>\n",
       "      <td>159969.000000</td>\n",
       "    </tr>\n",
       "    <tr>\n",
       "      <th>mean</th>\n",
       "      <td>79984.000000</td>\n",
       "      <td>44362.540573</td>\n",
       "      <td>44593.501722</td>\n",
       "      <td>45025.879231</td>\n",
       "      <td>45448.173081</td>\n",
       "      <td>45663.769584</td>\n",
       "      <td>45820.414706</td>\n",
       "      <td>46410.833809</td>\n",
       "      <td>46813.332925</td>\n",
       "      <td>46971.420053</td>\n",
       "      <td>47558.884736</td>\n",
       "      <td>0.009846</td>\n",
       "    </tr>\n",
       "    <tr>\n",
       "      <th>std</th>\n",
       "      <td>46179.216943</td>\n",
       "      <td>97167.414738</td>\n",
       "      <td>97682.859444</td>\n",
       "      <td>97995.435761</td>\n",
       "      <td>98488.571326</td>\n",
       "      <td>98504.193709</td>\n",
       "      <td>98600.684290</td>\n",
       "      <td>99314.768320</td>\n",
       "      <td>99651.347793</td>\n",
       "      <td>99794.332873</td>\n",
       "      <td>100488.244994</td>\n",
       "      <td>0.098736</td>\n",
       "    </tr>\n",
       "    <tr>\n",
       "      <th>min</th>\n",
       "      <td>0.000000</td>\n",
       "      <td>165.000000</td>\n",
       "      <td>165.000000</td>\n",
       "      <td>165.000000</td>\n",
       "      <td>165.000000</td>\n",
       "      <td>165.000000</td>\n",
       "      <td>165.000000</td>\n",
       "      <td>165.000000</td>\n",
       "      <td>165.000000</td>\n",
       "      <td>165.000000</td>\n",
       "      <td>165.000000</td>\n",
       "      <td>0.000000</td>\n",
       "    </tr>\n",
       "    <tr>\n",
       "      <th>25%</th>\n",
       "      <td>39992.000000</td>\n",
       "      <td>828.000000</td>\n",
       "      <td>828.000000</td>\n",
       "      <td>828.000000</td>\n",
       "      <td>828.000000</td>\n",
       "      <td>828.000000</td>\n",
       "      <td>828.000000</td>\n",
       "      <td>828.000000</td>\n",
       "      <td>828.000000</td>\n",
       "      <td>828.000000</td>\n",
       "      <td>828.000000</td>\n",
       "      <td>0.000000</td>\n",
       "    </tr>\n",
       "    <tr>\n",
       "      <th>50%</th>\n",
       "      <td>79984.000000</td>\n",
       "      <td>8160.000000</td>\n",
       "      <td>8160.000000</td>\n",
       "      <td>8173.000000</td>\n",
       "      <td>8238.000000</td>\n",
       "      <td>8693.000000</td>\n",
       "      <td>8810.000000</td>\n",
       "      <td>8940.000000</td>\n",
       "      <td>8953.000000</td>\n",
       "      <td>8953.000000</td>\n",
       "      <td>8953.000000</td>\n",
       "      <td>0.000000</td>\n",
       "    </tr>\n",
       "    <tr>\n",
       "      <th>75%</th>\n",
       "      <td>119976.000000</td>\n",
       "      <td>30845.000000</td>\n",
       "      <td>30663.000000</td>\n",
       "      <td>31508.000000</td>\n",
       "      <td>31716.000000</td>\n",
       "      <td>31716.000000</td>\n",
       "      <td>31963.000000</td>\n",
       "      <td>32704.000000</td>\n",
       "      <td>33809.000000</td>\n",
       "      <td>33835.000000</td>\n",
       "      <td>34108.000000</td>\n",
       "      <td>0.000000</td>\n",
       "    </tr>\n",
       "    <tr>\n",
       "      <th>max</th>\n",
       "      <td>159968.000000</td>\n",
       "      <td>540965.000000</td>\n",
       "      <td>540952.000000</td>\n",
       "      <td>540939.000000</td>\n",
       "      <td>540939.000000</td>\n",
       "      <td>540939.000000</td>\n",
       "      <td>540952.000000</td>\n",
       "      <td>540952.000000</td>\n",
       "      <td>540965.000000</td>\n",
       "      <td>540965.000000</td>\n",
       "      <td>540965.000000</td>\n",
       "      <td>1.000000</td>\n",
       "    </tr>\n",
       "  </tbody>\n",
       "</table>\n",
       "</div>"
      ],
      "text/plain": [
       "          session_id       webpage1       webpage2       webpage3  \\\n",
       "count  159969.000000  159969.000000  157990.000000  156066.000000   \n",
       "mean    79984.000000   44362.540573   44593.501722   45025.879231   \n",
       "std     46179.216943   97167.414738   97682.859444   97995.435761   \n",
       "min         0.000000     165.000000     165.000000     165.000000   \n",
       "25%     39992.000000     828.000000     828.000000     828.000000   \n",
       "50%     79984.000000    8160.000000    8160.000000    8173.000000   \n",
       "75%    119976.000000   30845.000000   30663.000000   31508.000000   \n",
       "max    159968.000000  540965.000000  540952.000000  540939.000000   \n",
       "\n",
       "            webpage4       webpage5       webpage6       webpage7  \\\n",
       "count  154402.000000  152841.000000  151324.000000  149912.000000   \n",
       "mean    45448.173081   45663.769584   45820.414706   46410.833809   \n",
       "std     98488.571326   98504.193709   98600.684290   99314.768320   \n",
       "min       165.000000     165.000000     165.000000     165.000000   \n",
       "25%       828.000000     828.000000     828.000000     828.000000   \n",
       "50%      8238.000000    8693.000000    8810.000000    8940.000000   \n",
       "75%     31716.000000   31716.000000   31963.000000   32704.000000   \n",
       "max    540939.000000  540939.000000  540952.000000  540952.000000   \n",
       "\n",
       "            webpage8       webpage9      webpage10         target  \n",
       "count  148574.000000  147160.000000  145856.000000  159969.000000  \n",
       "mean    46813.332925   46971.420053   47558.884736       0.009846  \n",
       "std     99651.347793   99794.332873  100488.244994       0.098736  \n",
       "min       165.000000     165.000000     165.000000       0.000000  \n",
       "25%       828.000000     828.000000     828.000000       0.000000  \n",
       "50%      8953.000000    8953.000000    8953.000000       0.000000  \n",
       "75%     33809.000000   33835.000000   34108.000000       0.000000  \n",
       "max    540965.000000  540965.000000  540965.000000       1.000000  "
      ]
     },
     "execution_count": 11,
     "metadata": {},
     "output_type": "execute_result"
    }
   ],
   "source": [
    "df.describe()"
   ]
  },
  {
   "cell_type": "code",
   "execution_count": 12,
   "id": "a8d6d375",
   "metadata": {
    "ExecuteTime": {
     "end_time": "2021-09-05T18:40:40.027801Z",
     "start_time": "2021-09-05T18:40:39.996885Z"
    }
   },
   "outputs": [],
   "source": [
    "df.drop(columns=\"session_id\", inplace=True)"
   ]
  },
  {
   "cell_type": "code",
   "execution_count": 13,
   "id": "250ca9ca",
   "metadata": {
    "ExecuteTime": {
     "end_time": "2021-09-05T18:40:40.091212Z",
     "start_time": "2021-09-05T18:40:40.029796Z"
    }
   },
   "outputs": [],
   "source": [
    "df.drop(index=df[df.isna().any(axis=1)].index, inplace=True)"
   ]
  },
  {
   "cell_type": "code",
   "execution_count": 14,
   "id": "5ef97687",
   "metadata": {
    "ExecuteTime": {
     "end_time": "2021-09-05T18:40:40.139049Z",
     "start_time": "2021-09-05T18:40:40.093173Z"
    }
   },
   "outputs": [
    {
     "data": {
      "text/html": [
       "<div>\n",
       "<style scoped>\n",
       "    .dataframe tbody tr th:only-of-type {\n",
       "        vertical-align: middle;\n",
       "    }\n",
       "\n",
       "    .dataframe tbody tr th {\n",
       "        vertical-align: top;\n",
       "    }\n",
       "\n",
       "    .dataframe thead th {\n",
       "        text-align: right;\n",
       "    }\n",
       "</style>\n",
       "<table border=\"1\" class=\"dataframe\">\n",
       "  <thead>\n",
       "    <tr style=\"text-align: right;\">\n",
       "      <th></th>\n",
       "      <th>webpage1</th>\n",
       "      <th>time1</th>\n",
       "      <th>webpage2</th>\n",
       "      <th>time2</th>\n",
       "      <th>webpage3</th>\n",
       "      <th>time3</th>\n",
       "      <th>webpage4</th>\n",
       "      <th>time4</th>\n",
       "      <th>webpage5</th>\n",
       "      <th>time5</th>\n",
       "      <th>...</th>\n",
       "      <th>time6</th>\n",
       "      <th>webpage7</th>\n",
       "      <th>time7</th>\n",
       "      <th>webpage8</th>\n",
       "      <th>time8</th>\n",
       "      <th>webpage9</th>\n",
       "      <th>time9</th>\n",
       "      <th>webpage10</th>\n",
       "      <th>time10</th>\n",
       "      <th>target</th>\n",
       "    </tr>\n",
       "  </thead>\n",
       "  <tbody>\n",
       "    <tr>\n",
       "      <th>1</th>\n",
       "      <td>11722</td>\n",
       "      <td>2019-02-22 07:14:50</td>\n",
       "      <td>12385.0</td>\n",
       "      <td>2019-02-22 07:14:50</td>\n",
       "      <td>50163.0</td>\n",
       "      <td>2019-02-22 07:14:51</td>\n",
       "      <td>12385.0</td>\n",
       "      <td>2019-02-22 07:14:51</td>\n",
       "      <td>12398.0</td>\n",
       "      <td>2019-02-22 07:14:51</td>\n",
       "      <td>...</td>\n",
       "      <td>2019-02-22 07:14:51</td>\n",
       "      <td>50163.0</td>\n",
       "      <td>2019-02-22 07:14:52</td>\n",
       "      <td>50150.0</td>\n",
       "      <td>2019-02-22 07:14:52</td>\n",
       "      <td>19860.0</td>\n",
       "      <td>2019-02-22 07:15:15</td>\n",
       "      <td>19886.0</td>\n",
       "      <td>2019-02-22 07:15:16</td>\n",
       "      <td>0</td>\n",
       "    </tr>\n",
       "    <tr>\n",
       "      <th>2</th>\n",
       "      <td>192149</td>\n",
       "      <td>2018-12-16 12:35:17</td>\n",
       "      <td>659.0</td>\n",
       "      <td>2018-12-16 12:35:18</td>\n",
       "      <td>192136.0</td>\n",
       "      <td>2018-12-16 12:35:19</td>\n",
       "      <td>192149.0</td>\n",
       "      <td>2018-12-16 12:35:19</td>\n",
       "      <td>633.0</td>\n",
       "      <td>2018-12-16 12:35:19</td>\n",
       "      <td>...</td>\n",
       "      <td>2018-12-16 12:35:19</td>\n",
       "      <td>192136.0</td>\n",
       "      <td>2018-12-16 12:35:20</td>\n",
       "      <td>192136.0</td>\n",
       "      <td>2018-12-16 12:35:21</td>\n",
       "      <td>192136.0</td>\n",
       "      <td>2018-12-16 12:35:22</td>\n",
       "      <td>192136.0</td>\n",
       "      <td>2018-12-16 12:35:24</td>\n",
       "      <td>0</td>\n",
       "    </tr>\n",
       "    <tr>\n",
       "      <th>3</th>\n",
       "      <td>10591</td>\n",
       "      <td>2019-02-13 12:40:35</td>\n",
       "      <td>451.0</td>\n",
       "      <td>2019-02-13 12:40:35</td>\n",
       "      <td>77580.0</td>\n",
       "      <td>2019-02-13 12:40:35</td>\n",
       "      <td>227821.0</td>\n",
       "      <td>2019-02-13 12:40:35</td>\n",
       "      <td>633.0</td>\n",
       "      <td>2019-02-13 12:41:05</td>\n",
       "      <td>...</td>\n",
       "      <td>2019-02-13 12:42:14</td>\n",
       "      <td>10591.0</td>\n",
       "      <td>2019-02-13 12:42:14</td>\n",
       "      <td>227834.0</td>\n",
       "      <td>2019-02-13 12:42:15</td>\n",
       "      <td>227834.0</td>\n",
       "      <td>2019-02-13 12:42:16</td>\n",
       "      <td>227834.0</td>\n",
       "      <td>2019-02-13 12:42:17</td>\n",
       "      <td>0</td>\n",
       "    </tr>\n",
       "    <tr>\n",
       "      <th>4</th>\n",
       "      <td>438</td>\n",
       "      <td>2018-04-12 06:22:26</td>\n",
       "      <td>425.0</td>\n",
       "      <td>2018-04-12 06:22:26</td>\n",
       "      <td>529.0</td>\n",
       "      <td>2018-04-12 06:22:28</td>\n",
       "      <td>65685.0</td>\n",
       "      <td>2018-04-12 06:22:29</td>\n",
       "      <td>187638.0</td>\n",
       "      <td>2018-04-12 06:22:29</td>\n",
       "      <td>...</td>\n",
       "      <td>2018-04-12 06:22:29</td>\n",
       "      <td>425.0</td>\n",
       "      <td>2018-04-12 06:22:29</td>\n",
       "      <td>65685.0</td>\n",
       "      <td>2018-04-12 06:22:31</td>\n",
       "      <td>187625.0</td>\n",
       "      <td>2018-04-12 06:22:31</td>\n",
       "      <td>187625.0</td>\n",
       "      <td>2018-04-12 06:22:32</td>\n",
       "      <td>0</td>\n",
       "    </tr>\n",
       "    <tr>\n",
       "      <th>5</th>\n",
       "      <td>48252</td>\n",
       "      <td>2019-02-20 12:04:13</td>\n",
       "      <td>3129.0</td>\n",
       "      <td>2019-02-20 12:05:08</td>\n",
       "      <td>7562.0</td>\n",
       "      <td>2019-02-20 12:05:08</td>\n",
       "      <td>425.0</td>\n",
       "      <td>2019-02-20 12:05:08</td>\n",
       "      <td>3129.0</td>\n",
       "      <td>2019-02-20 12:05:24</td>\n",
       "      <td>...</td>\n",
       "      <td>2019-02-20 12:05:24</td>\n",
       "      <td>425.0</td>\n",
       "      <td>2019-02-20 12:05:29</td>\n",
       "      <td>425.0</td>\n",
       "      <td>2019-02-20 12:05:39</td>\n",
       "      <td>30520.0</td>\n",
       "      <td>2019-02-20 12:05:40</td>\n",
       "      <td>26724.0</td>\n",
       "      <td>2019-02-20 12:05:40</td>\n",
       "      <td>0</td>\n",
       "    </tr>\n",
       "  </tbody>\n",
       "</table>\n",
       "<p>5 rows × 21 columns</p>\n",
       "</div>"
      ],
      "text/plain": [
       "   webpage1               time1  webpage2               time2  webpage3  \\\n",
       "1     11722 2019-02-22 07:14:50   12385.0 2019-02-22 07:14:50   50163.0   \n",
       "2    192149 2018-12-16 12:35:17     659.0 2018-12-16 12:35:18  192136.0   \n",
       "3     10591 2019-02-13 12:40:35     451.0 2019-02-13 12:40:35   77580.0   \n",
       "4       438 2018-04-12 06:22:26     425.0 2018-04-12 06:22:26     529.0   \n",
       "5     48252 2019-02-20 12:04:13    3129.0 2019-02-20 12:05:08    7562.0   \n",
       "\n",
       "                time3  webpage4               time4  webpage5  \\\n",
       "1 2019-02-22 07:14:51   12385.0 2019-02-22 07:14:51   12398.0   \n",
       "2 2018-12-16 12:35:19  192149.0 2018-12-16 12:35:19     633.0   \n",
       "3 2019-02-13 12:40:35  227821.0 2019-02-13 12:40:35     633.0   \n",
       "4 2018-04-12 06:22:28   65685.0 2018-04-12 06:22:29  187638.0   \n",
       "5 2019-02-20 12:05:08     425.0 2019-02-20 12:05:08    3129.0   \n",
       "\n",
       "                time5  ...               time6  webpage7               time7  \\\n",
       "1 2019-02-22 07:14:51  ... 2019-02-22 07:14:51   50163.0 2019-02-22 07:14:52   \n",
       "2 2018-12-16 12:35:19  ... 2018-12-16 12:35:19  192136.0 2018-12-16 12:35:20   \n",
       "3 2019-02-13 12:41:05  ... 2019-02-13 12:42:14   10591.0 2019-02-13 12:42:14   \n",
       "4 2018-04-12 06:22:29  ... 2018-04-12 06:22:29     425.0 2018-04-12 06:22:29   \n",
       "5 2019-02-20 12:05:24  ... 2019-02-20 12:05:24     425.0 2019-02-20 12:05:29   \n",
       "\n",
       "   webpage8               time8  webpage9               time9 webpage10  \\\n",
       "1   50150.0 2019-02-22 07:14:52   19860.0 2019-02-22 07:15:15   19886.0   \n",
       "2  192136.0 2018-12-16 12:35:21  192136.0 2018-12-16 12:35:22  192136.0   \n",
       "3  227834.0 2019-02-13 12:42:15  227834.0 2019-02-13 12:42:16  227834.0   \n",
       "4   65685.0 2018-04-12 06:22:31  187625.0 2018-04-12 06:22:31  187625.0   \n",
       "5     425.0 2019-02-20 12:05:39   30520.0 2019-02-20 12:05:40   26724.0   \n",
       "\n",
       "               time10 target  \n",
       "1 2019-02-22 07:15:16      0  \n",
       "2 2018-12-16 12:35:24      0  \n",
       "3 2019-02-13 12:42:17      0  \n",
       "4 2018-04-12 06:22:32      0  \n",
       "5 2019-02-20 12:05:40      0  \n",
       "\n",
       "[5 rows x 21 columns]"
      ]
     },
     "execution_count": 14,
     "metadata": {},
     "output_type": "execute_result"
    }
   ],
   "source": [
    "df.head()"
   ]
  },
  {
   "cell_type": "markdown",
   "id": "d611028d",
   "metadata": {},
   "source": [
    "* Lets get from data columns some info and then we will delete them all as all data time columns are the same. "
   ]
  },
  {
   "cell_type": "code",
   "execution_count": 15,
   "id": "bbfdac4a",
   "metadata": {
    "ExecuteTime": {
     "end_time": "2021-09-05T18:40:40.155009Z",
     "start_time": "2021-09-05T18:40:40.143039Z"
    }
   },
   "outputs": [],
   "source": [
    "dates = [f'time{i+1}' for i in range(10)]"
   ]
  },
  {
   "cell_type": "code",
   "execution_count": 16,
   "id": "01dc18bb",
   "metadata": {
    "ExecuteTime": {
     "end_time": "2021-09-05T18:40:41.342081Z",
     "start_time": "2021-09-05T18:40:40.157999Z"
    }
   },
   "outputs": [],
   "source": [
    "df[\"time_on_website\"] = (df[dates[9]] - df[dates[0]]).apply(lambda x: x.seconds)"
   ]
  },
  {
   "cell_type": "code",
   "execution_count": 17,
   "id": "51583cfc",
   "metadata": {
    "ExecuteTime": {
     "end_time": "2021-09-05T18:40:42.162436Z",
     "start_time": "2021-09-05T18:40:41.344078Z"
    }
   },
   "outputs": [
    {
     "data": {
      "text/plain": [
       "<AxesSubplot:xlabel='target', ylabel='time_on_website'>"
      ]
     },
     "execution_count": 17,
     "metadata": {},
     "output_type": "execute_result"
    },
    {
     "data": {
      "image/png": "[encoded data removed]",
      "text/plain": [
       "<Figure size 432x288 with 1 Axes>"
      ]
     },
     "metadata": {
      "needs_background": "light"
     },
     "output_type": "display_data"
    }
   ],
   "source": [
    "sns.violinplot(x=\"target\", y=\"time_on_website\" ,data=df)"
   ]
  },
  {
   "cell_type": "code",
   "execution_count": 18,
   "id": "5231b726",
   "metadata": {
    "ExecuteTime": {
     "end_time": "2021-09-05T18:40:42.178394Z",
     "start_time": "2021-09-05T18:40:42.163433Z"
    }
   },
   "outputs": [],
   "source": [
    "ides = df[df.time_on_website > 500].index\n",
    "def temp(x):\n",
    "    if x in ides:\n",
    "        return \"more\"\n",
    "    else:\n",
    "        return \"less\""
   ]
  },
  {
   "cell_type": "code",
   "execution_count": 19,
   "id": "2df6631d",
   "metadata": {
    "ExecuteTime": {
     "end_time": "2021-09-05T18:40:42.272262Z",
     "start_time": "2021-09-05T18:40:42.179391Z"
    }
   },
   "outputs": [],
   "source": [
    "df[\"more_less\"] = df[\"time_on_website\"].apply(lambda x: temp(x))"
   ]
  },
  {
   "cell_type": "code",
   "execution_count": 20,
   "id": "6154ff71",
   "metadata": {
    "ExecuteTime": {
     "end_time": "2021-09-05T18:40:42.287286Z",
     "start_time": "2021-09-05T18:40:42.274325Z"
    }
   },
   "outputs": [
    {
     "data": {
      "text/plain": [
       "2.5165562913907285"
      ]
     },
     "execution_count": 20,
     "metadata": {},
     "output_type": "execute_result"
    }
   ],
   "source": [
    "df[df.target == 1].more_less.value_counts()[1] / df[df.target == 1].more_less.value_counts()[0] * 100"
   ]
  },
  {
   "cell_type": "code",
   "execution_count": 21,
   "id": "537b0456",
   "metadata": {
    "ExecuteTime": {
     "end_time": "2021-09-05T18:40:42.366175Z",
     "start_time": "2021-09-05T18:40:42.290280Z"
    }
   },
   "outputs": [
    {
     "data": {
      "text/plain": [
       "3.399898253835185"
      ]
     },
     "execution_count": 21,
     "metadata": {},
     "output_type": "execute_result"
    }
   ],
   "source": [
    "df[df.target == 0].more_less.value_counts()[1] / df[df.target == 0].more_less.value_counts()[0] * 100"
   ]
  },
  {
   "cell_type": "code",
   "execution_count": 22,
   "id": "c4898798",
   "metadata": {
    "ExecuteTime": {
     "end_time": "2021-09-05T18:40:43.738456Z",
     "start_time": "2021-09-05T18:40:42.367173Z"
    }
   },
   "outputs": [
    {
     "data": {
      "text/plain": [
       "(-100.0, 500.0)"
      ]
     },
     "execution_count": 22,
     "metadata": {},
     "output_type": "execute_result"
    },
    {
     "data": {
      "image/png": "[encoded data removed]",
      "text/plain": [
       "<Figure size 1080x360 with 2 Axes>"
      ]
     },
     "metadata": {
      "needs_background": "light"
     },
     "output_type": "display_data"
    }
   ],
   "source": [
    "fig, axs = plt.subplots(ncols=2, nrows=1, figsize=(15,5))\n",
    "\n",
    "sns.violinplot(x=\"more_less\", y=\"time_on_website\" , data=df, ax=axs[0]).set_title('depending on more_less feature')\n",
    "sns.violinplot(x=\"target\", y=\"time_on_website\" , data=df, ax=axs[1]).set_title('depending on target')\n",
    "axs[0].set_ylim([-100, 500])\n",
    "axs[1].set_ylim([-100, 500])\n"
   ]
  },
  {
   "cell_type": "markdown",
   "id": "234ab645",
   "metadata": {},
   "source": [
    "As we can see time features have correlation with target value. It is not strong but at least it exists."
   ]
  },
  {
   "cell_type": "code",
   "execution_count": 23,
   "id": "41805f93",
   "metadata": {
    "ExecuteTime": {
     "end_time": "2021-09-05T18:40:43.754413Z",
     "start_time": "2021-09-05T18:40:43.740450Z"
    }
   },
   "outputs": [],
   "source": [
    "df[\"main_date\"] = df[dates[0]]"
   ]
  },
  {
   "cell_type": "code",
   "execution_count": 24,
   "id": "9b39ca88",
   "metadata": {
    "ExecuteTime": {
     "end_time": "2021-09-05T18:40:43.801925Z",
     "start_time": "2021-09-05T18:40:43.759400Z"
    }
   },
   "outputs": [],
   "source": [
    "df.drop(columns=dates, inplace=True)"
   ]
  },
  {
   "cell_type": "code",
   "execution_count": 25,
   "id": "49b0df12",
   "metadata": {
    "ExecuteTime": {
     "end_time": "2021-09-05T18:40:44.535983Z",
     "start_time": "2021-09-05T18:40:43.804106Z"
    }
   },
   "outputs": [],
   "source": [
    "def to_hour_gaps(i):\n",
    "    if i in range(0, 6):\n",
    "        return \"night\"\n",
    "    elif i in range(6,12):\n",
    "        return \"morning\"\n",
    "    elif i in range(12, 18):\n",
    "        return \"afternoon\"\n",
    "    else:\n",
    "        return \"evening\"\n",
    "\n",
    "df[\"Time\"] = df[\"main_date\"].dt.hour.map(to_hour_gaps)\n",
    "df[\"Month\"] = df['main_date'].dt.month_name()\n",
    "df[\"Year\"] = df['main_date'].apply(lambda x: int(x.year))\n",
    "df.drop(columns=\"main_date\", inplace=True)"
   ]
  },
  {
   "cell_type": "markdown",
   "id": "8c5baa88",
   "metadata": {},
   "source": [
    "# Pipeline"
   ]
  },
  {
   "cell_type": "markdown",
   "id": "8c895a8a",
   "metadata": {},
   "source": [
    "## Download data"
   ]
  },
  {
   "cell_type": "code",
   "execution_count": 810,
   "id": "fff296e2",
   "metadata": {
    "ExecuteTime": {
     "end_time": "2021-09-07T14:18:51.677991Z",
     "start_time": "2021-09-07T14:18:51.663505Z"
    }
   },
   "outputs": [],
   "source": [
    "def save_submission(pred):\n",
    "    pd.Series(pred, name=\"target\", index=pd.Index(range(len(pred)), name=\"session_id\")).to_csv(\"submission.csv\")"
   ]
  },
  {
   "cell_type": "code",
   "execution_count": 811,
   "id": "783c2f5e",
   "metadata": {
    "ExecuteTime": {
     "end_time": "2021-09-07T14:18:58.432336Z",
     "start_time": "2021-09-07T14:18:51.680951Z"
    }
   },
   "outputs": [],
   "source": [
    "# download all data\n",
    "\n",
    "train = pd.read_csv(\"data/train.csv\", index_col=0, parse_dates=[f\"time{i+1}\" for i in range(10)])\n",
    "test = pd.read_csv(\"data/test.csv\", index_col=0, parse_dates=[f\"time{i+1}\" for i in range(10)])\n",
    "\n",
    "from pyspark.sql import SparkSession\n",
    "\n",
    "# initialise sparkContext\n",
    "spark = SparkSession.builder \\\n",
    "    .master('local') \\\n",
    "    .appName('myAppName') \\\n",
    "    .config('spark.executor.memory', '5gb') \\\n",
    "    .config(\"spark.cores.max\", \"6\") \\\n",
    "    .getOrCreate()\n",
    "\n",
    "sc = spark.sparkContext\n",
    "\n",
    "# using SQLContext to read parquet file\n",
    "from pyspark.sql import SQLContext\n",
    "sqlContext = SQLContext(sc)\n",
    "\n",
    "# to read parquet file\n",
    "id_map = sqlContext.read.parquet('data/id_map.parquet')\n",
    "id_map = id_map.toPandas()"
   ]
  },
  {
   "cell_type": "code",
   "execution_count": 812,
   "id": "0de693ca",
   "metadata": {
    "ExecuteTime": {
     "end_time": "2021-09-07T14:18:58.447750Z",
     "start_time": "2021-09-07T14:18:58.432336Z"
    }
   },
   "outputs": [],
   "source": [
    "# !pip install tldextract"
   ]
  },
  {
   "cell_type": "code",
   "execution_count": 813,
   "id": "8f098c65",
   "metadata": {
    "ExecuteTime": {
     "end_time": "2021-09-07T14:18:58.964220Z",
     "start_time": "2021-09-07T14:18:58.450743Z"
    }
   },
   "outputs": [
    {
     "data": {
      "text/plain": [
       "{326127: 'abmecatronique',\n",
       " 182113: 'live',\n",
       " 551820: 'wordpress',\n",
       " 401995: 'tourinsoft',\n",
       " 105504: 'hdwallpapers',\n",
       " 487535: 'imageshack',\n",
       " 71158: 'free',\n",
       " 460677: 'ugent',\n",
       " 392115: 'kissanime',\n",
       " 497636: 'carolineconduiteformation',\n",
       " 567485: 'mystockphoto',\n",
       " 480619: 'csphares',\n",
       " 532307: 'uqo',\n",
       " 160650: 'cloudfront',\n",
       " 403451: 'elong',\n",
       " 404634: 'blogspot',\n",
       " 366297: 'pages-annuaire',\n",
       " 414553: 'pagesperso-orange',\n",
       " 404062: 'forbes',\n",
       " 168346: 'cedexis-radar',\n",
       " 546178: 'cedexis-radar',\n",
       " 73875: 'pacajob',\n",
       " 417114: 'epfl',\n",
       " 92504: 'cedexis',\n",
       " 25359: 'akamaihd',\n",
       " 87356: 'mystere-tv',\n",
       " 566809: 'mon-ip',\n",
       " 588285: 'aqua-passion',\n",
       " 210687: 'la1ere',\n",
       " 311125: 'kognitio',\n",
       " 369989: 'calvin-thomas',\n",
       " 183959: 'cedexis-radar',\n",
       " 92218: 'allin1convert',\n",
       " 599205: 'cedexis-radar',\n",
       " 33939: 'lemonde',\n",
       " 602143: 'programme',\n",
       " 277299: 'ilatumi',\n",
       " 42818: 'canalblog',\n",
       " 593394: 'wordpress',\n",
       " 374136: 'e-monsite',\n",
       " 71015: 'cesi',\n",
       " 80557: 'bugz',\n",
       " 623801: 'cedexis-radar',\n",
       " 409652: 'fanextra',\n",
       " 609345: 'cedexis-radar',\n",
       " 520256: 'glam',\n",
       " 5833: 'linternaute',\n",
       " 223193: 'isostar',\n",
       " 258384: 'cedexis-radar',\n",
       " 373863: 'live',\n",
       " 451785: 'suisse-blog',\n",
       " 396145: 'infodecisionnel',\n",
       " 30325: 'mythologica',\n",
       " 574960: 'disqus',\n",
       " 297774: 'ouverturefacile',\n",
       " 625010: 'adeptis',\n",
       " 565054: 'tumblr',\n",
       " 529746: 'score',\n",
       " 156633: 'nipic',\n",
       " 447040: 'cedexis-radar',\n",
       " 234828: 'cedexis-radar',\n",
       " 396626: 'netdna-ssl',\n",
       " 412447: 'cedexis-radar',\n",
       " 421209: 'teamviewer',\n",
       " 594785: 'mathworks',\n",
       " 453059: 'affiliatedisclosure',\n",
       " 69117: 'tracepartsonline',\n",
       " 142346: 'eonline',\n",
       " 421989: 'guide-gestion-des-couleurs',\n",
       " 67427: 'email-attitude',\n",
       " 309292: 'cedexis-radar',\n",
       " 123704: 'photobucket',\n",
       " 28531: 'fixunix',\n",
       " 170322: 'idsud',\n",
       " 606823: 'earth',\n",
       " 279080: 'free',\n",
       " 51125: 'autonewsinfo',\n",
       " 433273: 'cedexis-radar',\n",
       " 515108: 'maisondelasimulation',\n",
       " 581785: 'photobucket',\n",
       " 509869: 'jimdo',\n",
       " 115709: 'scea',\n",
       " 214899: '2shared',\n",
       " 330235: 'bladi',\n",
       " 263701: 'pourapprendre',\n",
       " 462549: 'fondationchus',\n",
       " 318834: 'letrasenvena',\n",
       " 592328: 'typepad',\n",
       " 460014: 'cedexis-radar',\n",
       " 27556: 'fannook',\n",
       " 27621: 'alloyentertainment',\n",
       " 124393: 'u-clermont1',\n",
       " 54388: 'inria',\n",
       " 324268: 'cinezik',\n",
       " 559620: 'llnwd',\n",
       " 447118: 'cedexis-radar',\n",
       " 110665: 'cedexis-radar',\n",
       " 485741: 'journaldunet',\n",
       " 626232: 'berkeley',\n",
       " 124562: 'minutefacile',\n",
       " 12281: 'static69',\n",
       " 551274: 'ign',\n",
       " 266314: 'cedexis-radar',\n",
       " 458493: 'kelexpert',\n",
       " 326751: 'pierron',\n",
       " 154059: '163',\n",
       " 268914: 'blogspot',\n",
       " 297267: 'ad6media',\n",
       " 36669: 'gravityrd',\n",
       " 514406: 'brother',\n",
       " 525612: 'cslaval',\n",
       " 552873: 'papillon-poitou-charentes',\n",
       " 32340: 'bigpoint',\n",
       " 587583: 'cedexis-radar',\n",
       " 601740: 'bonabo',\n",
       " 16805: 'jussieu',\n",
       " 486443: 'pptv',\n",
       " 330820: 'lilypie',\n",
       " 396964: 'templatesquare',\n",
       " 126122: 'fing',\n",
       " 221945: 'mercure',\n",
       " 459208: 'pokemon',\n",
       " 551521: 'maintenance-informatique-grenoble',\n",
       " 236388: 'imdj',\n",
       " 129151: 'ccl',\n",
       " 23669: 'photosmarval',\n",
       " 178122: 'nespresso',\n",
       " 35694: 'microstrategy',\n",
       " 587063: 'ge',\n",
       " 580524: 'exalead',\n",
       " 170400: 'newsnetz',\n",
       " 223882: 'over-blog',\n",
       " 35447: 'sfrbusinessteam',\n",
       " 128787: 'wpmx',\n",
       " 600063: 'aol',\n",
       " 30312: 'free',\n",
       " 279860: 'geotrust',\n",
       " 459312: 'casimages',\n",
       " 32782: 'wonderbox',\n",
       " 125732: 'unice',\n",
       " 3675: 'msn',\n",
       " 263584: 'esperluette-assocalligraphie',\n",
       " 117204: 'ageden',\n",
       " 68103: 'ofastatic',\n",
       " 51203: 'thewatchobserver',\n",
       " 297007: 'mangareader',\n",
       " 167137: 'toc',\n",
       " 399395: 'mobe',\n",
       " 527484: 'blogspot',\n",
       " 289558: 'google',\n",
       " 419831: 'cedexis-radar',\n",
       " 625166: 'parischampions',\n",
       " 128709: 'akamaihd',\n",
       " 432402: 'cic',\n",
       " 154176: '163',\n",
       " 265326: 'virtuworld',\n",
       " 369222: 'jeux',\n",
       " 579458: 'wordpress',\n",
       " 150133: 'crdp-versailles',\n",
       " 626817: 'olark',\n",
       " 257331: 'cedexis-radar',\n",
       " 556669: 'parisdescartes',\n",
       " 69208: 'redintelligence',\n",
       " 338724: 'ad6media',\n",
       " 67557: 'cnrm-game',\n",
       " 126382: 'volcanogeol',\n",
       " 301453: 'infobel',\n",
       " 380376: 'cedexis-radar',\n",
       " 608305: 'globalsign',\n",
       " 361552: 'ebmeditions',\n",
       " 626414: 'explorezlequebec',\n",
       " 164888: 'cedexis',\n",
       " 333199: 'uic',\n",
       " 278924: 'base-nikko',\n",
       " 63696: 'owni',\n",
       " 585828: 'blogspot',\n",
       " 487847: 'oieau',\n",
       " 354324: 'karafun',\n",
       " 235114: 'cedexis-radar',\n",
       " 511897: 'diffen',\n",
       " 76436: 'googlecode',\n",
       " 379609: 'awsstatic',\n",
       " 501211: 'blogspot',\n",
       " 138979: 'eyesofnetwork',\n",
       " 281758: 'tennisonline',\n",
       " 261699: 'free',\n",
       " 135456: 'lestutosdenico',\n",
       " 15193: 'webedia',\n",
       " 273984: 'caserugby',\n",
       " 581915: 'gamercharts',\n",
       " 26958: 'boutiquealldance',\n",
       " 313920: 'omtrdc',\n",
       " 98978: 'recyclez-moi',\n",
       " 359095: 'casajurnalistului',\n",
       " 323670: 'thefonestuff',\n",
       " 150536: 'intelligenceartificielle',\n",
       " 200378: 'enforex',\n",
       " 523961: 'ancestry',\n",
       " 461106: 'uconn',\n",
       " 23097: 'librodeapuntes',\n",
       " 598906: 'e-monsite',\n",
       " 511988: 'photobucket',\n",
       " 457960: 'mes-photos',\n",
       " 44027: 'u-clermont1',\n",
       " 429087: 'cedexis-radar',\n",
       " 42012: 'manchester',\n",
       " 82637: 'bonspneus',\n",
       " 146818: 'codes-sources',\n",
       " 314115: 'microsoft',\n",
       " 429282: 'offre-news',\n",
       " 347785: 'blogg',\n",
       " 422561: 'economieautrement',\n",
       " 415086: 'neoseeker',\n",
       " 423289: 'ulaval',\n",
       " 204447: 'ineris',\n",
       " 283565: 'attac',\n",
       " 473755: 'imesh',\n",
       " 261933: 'cedexis-radar',\n",
       " 286230: 'auckland',\n",
       " 479189: 'clermont-universite',\n",
       " 230759: 'netvibes',\n",
       " 578639: 'edito',\n",
       " 238767: 'googlevideo',\n",
       " 4780: 'cea',\n",
       " 184609: 'cedexis-radar',\n",
       " 560543: 'sitedesmarques',\n",
       " 384952: 'cedexis-radar',\n",
       " 489797: 'nielskrijger',\n",
       " 578197: 'startiger',\n",
       " 153643: 'businessinsider',\n",
       " 468269: 'dtwd',\n",
       " 159597: '1jour1actu',\n",
       " 426370: 'cedexis-radar',\n",
       " 451486: 'wrating',\n",
       " 564924: 'free',\n",
       " 211506: 'trescal',\n",
       " 207242: 'uvsq',\n",
       " 15882: 'icc-cpi',\n",
       " 627246: 'cedexis-radar',\n",
       " 94584: 'colas',\n",
       " 306497: 'viteloge',\n",
       " 245189: 'medhyg',\n",
       " 76592: 'programme-tv',\n",
       " 242836: 'expansys',\n",
       " 298697: 'cedexis-radar',\n",
       " 612972: 'cedexis-radar',\n",
       " 372940: 'google',\n",
       " 69156: 'btrll',\n",
       " 304612: 'broadcom',\n",
       " 581512: 'ifremer',\n",
       " 134221: 'hp',\n",
       " 614259: 'exionnaire',\n",
       " 444934: 'live',\n",
       " 83612: '1000genomes',\n",
       " 262544: 'static-nextag',\n",
       " 623255: 'apec',\n",
       " 102241: 'compteur-visite',\n",
       " 368351: 'techmarketingbuffalo',\n",
       " 485221: 'aunege',\n",
       " 142541: 'xiaomi',\n",
       " 407455: 'se-mc',\n",
       " 276428: 'toyonos',\n",
       " 249674: 'tripplay',\n",
       " 520581: 'cedexis-radar',\n",
       " 279496: 'pitt',\n",
       " 78425: 'springer',\n",
       " 253405: 'hktdc-img',\n",
       " 414319: 'livefilestore',\n",
       " 89982: 'iforex',\n",
       " 124276: 'doubleverify',\n",
       " 42688: 'spilgames',\n",
       " 234100: 'cedexis-radar',\n",
       " 172259: 'static-clubeo',\n",
       " 234867: 'cedexis-radar',\n",
       " 99160: 'lesmobiles',\n",
       " 93219: 'imageshack',\n",
       " 264676: 'imageshack',\n",
       " 434261: 'cedexis-radar',\n",
       " 199754: 'azame',\n",
       " 56806: 'auto123',\n",
       " 292782: 'muyuge',\n",
       " 618679: 'cedexis-radar',\n",
       " 483414: 'ensccf',\n",
       " 38476: 'jacquieetmichelvisio',\n",
       " 488718: 'raftaar',\n",
       " 447508: 'cedexis-radar',\n",
       " 214977: 'voyages-sncf',\n",
       " 150822: 'disqus',\n",
       " 379206: 'subtlepatterns',\n",
       " 588805: 'gisgraphy',\n",
       " 519125: 'fabermedia',\n",
       " 204044: 'imageshack',\n",
       " 622657: 'courrierinternational',\n",
       " 206475: 'decoclico',\n",
       " 616534: 'ti',\n",
       " 369144: 'gamesonly',\n",
       " 323865: 'uni-trier',\n",
       " 536753: 'transworld',\n",
       " 413669: 'shellprompt',\n",
       " 114383: 'gamergen',\n",
       " 37618: 'mytictac',\n",
       " 591886: 'celebblog',\n",
       " 421261: 'eauplaisir',\n",
       " 390256: 'journees3r',\n",
       " 182620: 'badoo',\n",
       " 336969: 'live',\n",
       " 158843: 'speed-burger',\n",
       " 412356: 'cedexis-radar',\n",
       " 535934: 'live',\n",
       " 582071: 'daily-demoiselle',\n",
       " 589520: 'dondusang-larochefoucauld',\n",
       " 153474: 'stackexchange',\n",
       " 223219: 'comite-ski-savoie',\n",
       " 2232: 'admaym',\n",
       " 574947: 'tutsplus',\n",
       " 184726: 'cedexis-radar',\n",
       " 375670: 'dofus',\n",
       " 581733: 'bio-rad',\n",
       " 511845: 'unibo',\n",
       " 15271: 'secretsdujeu',\n",
       " 370496: 'goole',\n",
       " 561050: 'uplayed',\n",
       " 358926: 'blogspot',\n",
       " 392440: 'cedexis-radar',\n",
       " 262310: 'cedexis-radar',\n",
       " 311736: 'cedexis-radar',\n",
       " 104958: 'terresacree',\n",
       " 277806: 'cedexis-radar',\n",
       " 311710: 'aleteia',\n",
       " 49383: 'omegawatches',\n",
       " 249453: 'regarderfilms',\n",
       " 290351: 'pdfonline',\n",
       " 167241: 'robotbuzz',\n",
       " 245150: 'herokidstudio',\n",
       " 204304: 'dafont',\n",
       " 92309: 'showroomprive',\n",
       " 187053: 'zipbox',\n",
       " 492852: 'cedexis-radar',\n",
       " 17325: 'eurosport',\n",
       " 94350: 'linkinlive',\n",
       " 355364: 'tumblr',\n",
       " 437901: 'mondoblog',\n",
       " 128215: 'terena',\n",
       " 13061: 'xooimage',\n",
       " 554173: 'mediav',\n",
       " 478539: 'cedexis-radar',\n",
       " 219410: 'preparation-entretien',\n",
       " 170634: 'whitepages',\n",
       " 337788: 'cedexis-radar',\n",
       " 31677: 'lemde',\n",
       " 52035: 'cedexis-radar',\n",
       " 65594: 'lemoncurve',\n",
       " 47641: 'performgroup',\n",
       " 127864: 'zotero',\n",
       " 329247: 'ac-mayotte',\n",
       " 432285: 'cedexis-radar',\n",
       " 183764: 'cedexis-radar',\n",
       " 367636: 'disqus',\n",
       " 323787: 'mthai',\n",
       " 259281: 'lemaraisbar',\n",
       " 84522: 'societe',\n",
       " 192942: 'skynetblogs',\n",
       " 26165: 'newjobs',\n",
       " 365309: 'cedexis-radar',\n",
       " 408638: 'google',\n",
       " 815: 'live',\n",
       " 71405: 'wildlifehotline',\n",
       " 93960: 'googlecode',\n",
       " 72614: 'scribdassets',\n",
       " 567719: 'hostelworld',\n",
       " 349137: 'live',\n",
       " 178863: 'cedexis-radar',\n",
       " 146155: 'stackexchange',\n",
       " 247061: 'elohell',\n",
       " 381702: 'cedexis-radar',\n",
       " 624919: 'skyrock',\n",
       " 600921: 'amazonaws',\n",
       " 130958: 'over-blog',\n",
       " 172805: 'cedexis-radar',\n",
       " 470102: 'cedexis-radar',\n",
       " 119934: 'chine-informations',\n",
       " 21368: 'kazeo',\n",
       " 384289: 'cedexis-radar',\n",
       " 41102: 'radio-canada',\n",
       " 120181: 'ens-lyon',\n",
       " 480606: 'mespremiereslectures',\n",
       " 50059: 'pages01',\n",
       " 62851: 'mobilicites',\n",
       " 363710: 'sohu',\n",
       " 7120: 'answers',\n",
       " 67921: 'univ-mrs',\n",
       " 454567: 'ulg',\n",
       " 534231: 'informz',\n",
       " 485858: 'laredoute',\n",
       " 138875: 'ubuntu',\n",
       " 612686: 'locallife',\n",
       " 125433: 'uchini',\n",
       " 365374: 'cedexis-radar',\n",
       " 156087: 'pixnet',\n",
       " 281654: 'pagesperso-orange',\n",
       " 195958: 'linternaute',\n",
       " 147572: 'cloudfront',\n",
       " 542681: 'cedexis-radar',\n",
       " 448912: 'cedexis-radar',\n",
       " 406857: 'jeuxvideo',\n",
       " 494646: 'cedexis-radar',\n",
       " 212676: 'perlmonks',\n",
       " 362709: 'legitreviews',\n",
       " 618523: 'debutantprog',\n",
       " 540718: 'imageshack',\n",
       " 157933: 'diigo',\n",
       " 9460: 'myspace',\n",
       " 315363: 'imageshack',\n",
       " 546568: 'jeuxvideo',\n",
       " 75032: 'rosettacode',\n",
       " 524845: 'wsj',\n",
       " 289207: 'capitalkoala',\n",
       " 414683: 'blablacar',\n",
       " 384263: 'cedexis-radar',\n",
       " 133246: 'ieee802',\n",
       " 338204: 'slipsum',\n",
       " 582617: 'netwizz',\n",
       " 183374: 'cedexis-radar',\n",
       " 200313: 'blogspot',\n",
       " 78399: 'skynet',\n",
       " 324125: 'wordpress',\n",
       " 508439: 'thetravelerszone',\n",
       " 95598: 'uneblague',\n",
       " 257162: 'yahoo',\n",
       " 324112: 'restosclermont',\n",
       " 372797: 'doingbusiness',\n",
       " 260737: 'sa-cim',\n",
       " 249336: 'meta-annuaire',\n",
       " 611841: 'ed',\n",
       " 126265: 'usgs',\n",
       " 68935: 'amazonaws',\n",
       " 610151: 'in2p3',\n",
       " 290117: 'overnetcity',\n",
       " 53504: 'test-qi-officiel',\n",
       " 577872: 'sistasense',\n",
       " 576013: 'fubiz',\n",
       " 10175: 'longtailvideo',\n",
       " 511793: 'gnome',\n",
       " 574804: 'rfihub',\n",
       " 570020: 'convdocs',\n",
       " 163874: 'grooveshark',\n",
       " 495270: 'pagesperso-orange',\n",
       " 87785: 'nestimg',\n",
       " 65789: 'apxlv',\n",
       " 559035: 'cloudfront',\n",
       " 186416: 'interieur',\n",
       " 129021: 'creps-idf',\n",
       " 385706: 'cedexis-radar',\n",
       " 377386: '07073',\n",
       " 28544: 'fixunix',\n",
       " 194138: 'deficreation',\n",
       " 257643: 'cedexis-radar',\n",
       " 627467: 'blogspot',\n",
       " 220125: 'cedexis-radar',\n",
       " 549961: 'googlevideo',\n",
       " 310306: 'canalblog',\n",
       " 390646: 'univ-corse',\n",
       " 444232: 'lycos',\n",
       " 493489: 'photobucket',\n",
       " 165122: 'live',\n",
       " 211493: 'certisolis',\n",
       " 533724: 'gouv',\n",
       " 192864: 'inria',\n",
       " 135937: 'hp',\n",
       " 261725: 'frequency',\n",
       " 183920: 'cedexis-radar',\n",
       " 598334: 'stardoll',\n",
       " 218279: 'ask',\n",
       " 51866: 'cedexis-radar',\n",
       " 530968: 'april',\n",
       " 44040: 'dudamobile',\n",
       " 167020: 'kelsactus',\n",
       " 320628: 'qmul',\n",
       " 40673: 'nokia',\n",
       " 144374: 'sina',\n",
       " 140695: 'canalblog',\n",
       " 190264: 'respifacile',\n",
       " 144712: 'sina',\n",
       " 279821: 'nxtorm',\n",
       " 11410: 'inq',\n",
       " 174040: 'blogorama',\n",
       " 615650: 'softonic',\n",
       " 608279: 'cedexis-radar',\n",
       " 218292: 'ask',\n",
       " 404439: 'clipconverter',\n",
       " 479800: 'ladmedia',\n",
       " 164849: 'exashare',\n",
       " 376125: 'blogspot',\n",
       " 402515: 'facebook',\n",
       " 224467: 'solutions',\n",
       " 495036: 'marches-securises',\n",
       " 605770: 'mandellia',\n",
       " 316533: 'maximumwallhd',\n",
       " 281186: 'foxitcloud',\n",
       " 396717: 'pompe-a-biere',\n",
       " 126356: 'volterev',\n",
       " 467827: 'cedexis-radar',\n",
       " 614220: 'nytimes',\n",
       " 40309: 'boo-box',\n",
       " 260672: 'cedexis-radar',\n",
       " 130815: 'shopping',\n",
       " 430062: 'one-time-offer',\n",
       " 330833: 'humourger',\n",
       " 403815: 'mangocity',\n",
       " 281719: 'cafardcosmique',\n",
       " 536220: 'ens',\n",
       " 611672: 'ucsc',\n",
       " 51320: 'google',\n",
       " 233385: 'cedexis-radar',\n",
       " 570891: 'msb',\n",
       " 430543: 'coe',\n",
       " 238364: 't45ol',\n",
       " 253366: 'i-on',\n",
       " 325360: 'cedexis-radar',\n",
       " 602897: 'moncoachingemploi',\n",
       " 395456: 'altairuniversity',\n",
       " 167735: 'quickmeme',\n",
       " 268823: 'wordpress',\n",
       " 316988: 'tagstat',\n",
       " 620213: 'womenboxing',\n",
       " 296071: 'forexticket',\n",
       " 49344: 'cloudfront',\n",
       " 220112: 'cedexis-radar',\n",
       " 383808: 'cedexis-radar',\n",
       " 88266: 'redbull',\n",
       " 108416: 'journaldesfemmes',\n",
       " 148833: '3ds',\n",
       " 209309: 'psychologies',\n",
       " 185766: 'kelformation',\n",
       " 101331: 'cedexis-radar',\n",
       " 39711: 'cloudfront',\n",
       " 330638: 'fmsource',\n",
       " 363541: 'qyer',\n",
       " 130087: 'mathprepa',\n",
       " 592484: 'newfashion',\n",
       " 317586: 'oxito',\n",
       " 373707: 'cedexis-radar',\n",
       " 290455: '1stwebdesigner',\n",
       " 309851: 'latism',\n",
       " 221893: 'meyzieu',\n",
       " 376034: 'chasse-sous-marine',\n",
       " 182516: 'rtl',\n",
       " 599985: 'duckduckgo',\n",
       " 110977: 'redintelligence',\n",
       " 202406: 'selfhtml',\n",
       " 44651: 'indeed',\n",
       " 389840: 'ufc',\n",
       " 48681: 'maliweb',\n",
       " 489472: 'crystalgraphics',\n",
       " 179084: 'yahoodns',\n",
       " 154592: 'u88',\n",
       " 150328: 'hinsolite',\n",
       " 217746: 'bjvillas',\n",
       " 2167: 'vindicosuite',\n",
       " 243018: 'acs86',\n",
       " 45925: 'wordpress',\n",
       " 625335: 'cedexis-radar',\n",
       " 30988: 'voyages-sncf',\n",
       " 366882: 'mousqueton',\n",
       " 600011: 'blogspot',\n",
       " 567472: 'mystockphoto',\n",
       " 51567: 'cedexis-radar',\n",
       " 284436: 'wallpaperpin',\n",
       " 89072: 'autoplus',\n",
       " 148677: 'presseportal',\n",
       " 326595: 'linternaute',\n",
       " 555733: 'monterosa',\n",
       " 236193: '1bis',\n",
       " 180111: 'cedexis-radar',\n",
       " 190524: 'saphirnews',\n",
       " 522349: 'legrog',\n",
       " 325958: 'carte-france',\n",
       " 264091: 'javapractices',\n",
       " 555148: 'epson',\n",
       " 65464: 'gnome',\n",
       " 192903: 'wordpress',\n",
       " 275778: 'qq',\n",
       " 56390: 'linkwithin',\n",
       " 486183: 'pagesperso-orange',\n",
       " 175249: 'edgesuite',\n",
       " 38736: 'comm100',\n",
       " 339413: 'mineral-classics',\n",
       " 56078: 'blogspot',\n",
       " 313101: 'inra',\n",
       " 305054: 'entrecoquins',\n",
       " 79153: 'hiboox',\n",
       " 326673: 'blogspot',\n",
       " 212728: 'free',\n",
       " 147182: 'opengroup',\n",
       " 343209: 'digitaltarget',\n",
       " 208035: 'sbaysite',\n",
       " 506359: 'msn',\n",
       " 456036: 'sfar',\n",
       " 47940: 'linter',\n",
       " 149444: 'univ-paris7',\n",
       " 516057: 'cedexis-radar',\n",
       " 545697: 'jira',\n",
       " 117399: 'ffme',\n",
       " 225195: 'lequipe',\n",
       " 98237: 'gdargaud',\n",
       " 119323: 'e44',\n",
       " 539158: 'cesames',\n",
       " 273802: 'occe',\n",
       " 542525: 'blogspot',\n",
       " 22226: 'ciudadrealdigital',\n",
       " 65022: 'redditmedia',\n",
       " 74733: 'swarthmore',\n",
       " 53166: 'apache',\n",
       " 375033: 'thegamehomepage',\n",
       " 599218: 'cedexis-radar',\n",
       " 179188: 'journaldunet',\n",
       " 388696: 'cedexis-radar',\n",
       " 323345: 'photobucket',\n",
       " 157556: 'shoppingshadow',\n",
       " 160195: 'webformance',\n",
       " 324983: 'free',\n",
       " 339257: 'cedexis-radar',\n",
       " 244669: 'livefilestore',\n",
       " 576884: 'ozap',\n",
       " 341259: 'adecco',\n",
       " 359030: 'kmkz',\n",
       " 421326: 'electrotechnique-fr',\n",
       " 387097: 'cedexis-radar',\n",
       " 238624: 'bbb',\n",
       " 302532: 'trustmarker',\n",
       " 56884: 'weekly',\n",
       " 430738: 'cedexis-radar',\n",
       " 453735: 'fpms',\n",
       " 212793: 'intextscript',\n",
       " 473703: 'imesh',\n",
       " 237012: 'andre',\n",
       " 275349: 'bassedef',\n",
       " 144829: 'nabble',\n",
       " 428359: 'ucsf',\n",
       " 523701: 't45ol',\n",
       " 224428: 'aiondatabase',\n",
       " 81974: 'gtimg',\n",
       " 406168: 'cedexis-radar',\n",
       " 206098: 'univ-artois',\n",
       " 82754: 'easy-rencontres',\n",
       " 208373: 'adforum',\n",
       " 608253: 'cedexis-radar',\n",
       " 167566: 'laughingsquid',\n",
       " 358861: '101cookbooks',\n",
       " 351009: 'nombrepi',\n",
       " 572113: 'csdn',\n",
       " 513561: 'blogspot',\n",
       " 149314: 'statelem',\n",
       " 313764: 'cedexis-radar',\n",
       " 209491: 'portail-du-chocolat',\n",
       " 302558: 'mats-drapeaux-services',\n",
       " 287517: 'cedexis-radar',\n",
       " 574778: 'imageshack',\n",
       " 486287: '188bifen',\n",
       " 105218: 'konbini',\n",
       " 136990: 'paperblog',\n",
       " 145817: '20min-tv',\n",
       " 237454: 'qq',\n",
       " 258293: 'cedexis-radar',\n",
       " 24995: 'pagerank-direct',\n",
       " 174170: 'creativecow',\n",
       " 89709: 'm2iformation',\n",
       " 562038: 'audemarspiguet',\n",
       " 371874: 'dooyoo',\n",
       " 471363: 'xlisting',\n",
       " 241354: 'fatcap',\n",
       " 28960: 'inq',\n",
       " 34277: 'letudiant',\n",
       " 17572: 'exophase',\n",
       " 132947: 'hp',\n",
       " 221581: 'geocheck',\n",
       " 538859: 'printoclock',\n",
       " 151147: 'complexmedianetwork',\n",
       " 251988: 'elpais',\n",
       " 406675: 'linternaute',\n",
       " 152031: 'codehaus',\n",
       " 526834: 'vans',\n",
       " 155060: 'xywy',\n",
       " 192487: 'ad6media',\n",
       " 3376: 'sharethis',\n",
       " 445675: 'journaldunet',\n",
       " 441190: 'dpd',\n",
       " 603651: 'cedexis-radar',\n",
       " 232306: 'cadeaux',\n",
       " 572633: 'embopress',\n",
       " 367532: 'storify',\n",
       " 319978: 'cdch',\n",
       " 343846: 'cedexis-radar',\n",
       " 258683: '5min',\n",
       " 64229: 'jcu',\n",
       " 291066: 'cloudfront',\n",
       " 418336: 'skype',\n",
       " 188223: 'ffvl',\n",
       " 81337: 'voyages-sncf',\n",
       " 330651: 'lasource',\n",
       " 402047: 'jcpoiret',\n",
       " 158518: 'helmetgame',\n",
       " 614181: 'nytimes',\n",
       " 483726: 'beemp3s',\n",
       " 547868: 'loccitane',\n",
       " 159493: 'blogspot',\n",
       " 186533: 'cborg',\n",
       " 198844: 'ruedusejour',\n",
       " 583761: 'designntrend',\n",
       " 96651: 'categorynet',\n",
       " 100616: 'wn',\n",
       " 97327: 'cheezburger',\n",
       " 401163: 'cbsistatic',\n",
       " 555213: 'buzzfeed',\n",
       " 517500: 'hexagram',\n",
       " 11826: 'microsoft',\n",
       " 365985: 'golfweek',\n",
       " 83079: 'colorado',\n",
       " 325347: 'jeuxdemots',\n",
       " 588350: 'vivre-mieux',\n",
       " 53933: 'legtux',\n",
       " 611984: 'cedexis-radar',\n",
       " 442165: 'fansshare',\n",
       " 116671: 'microsoft',\n",
       " 417946: 'skype',\n",
       " 165005: 'retro-colo',\n",
       " 282265: 'graphz',\n",
       " 302688: 'plurielles',\n",
       " 2856: 'univ-mrs',\n",
       " 26841: 'carrefour',\n",
       " 575974: 'kazmm',\n",
       " 385823: 'cedexis-radar',\n",
       " 155710: 'aikan8',\n",
       " 83885: 'mapbox',\n",
       " 276792: 'flext',\n",
       " 628234: 'mediastinct',\n",
       " 399590: 'rfihub',\n",
       " 532970: 'cedexis-radar',\n",
       " 119219: 'sonelec-musique',\n",
       " 412161: 'cedexis-radar',\n",
       " 256694: 'manchester',\n",
       " 563221: 'onsefaitchier',\n",
       " 242511: 'apmep',\n",
       " 125043: 'shutterstock',\n",
       " 505878: 'cedexis-radar',\n",
       " 37553: 'footeo',\n",
       " 339855: 'cedexis-radar',\n",
       " 355247: 'be2',\n",
       " 356937: 'jardinchic',\n",
       " 597268: 'blogspot',\n",
       " 452149: 'wordpress',\n",
       " 611217: 'cedexis-radar',\n",
       " 522622: 'copypastecode',\n",
       " 6210: 'videoplaza',\n",
       " 602819: 'javapapers',\n",
       " 346485: 'groupe-cebtp',\n",
       " 173780: 'blogorama',\n",
       " 162431: 'actifpub',\n",
       " 122118: 'cedexis-radar',\n",
       " 548973: 'ch9',\n",
       " 81155: 'everesttech',\n",
       " 376710: 'afrique-du-sud-2010',\n",
       " 618224: 'matchs-rugby',\n",
       " 6756: 'lefigaro',\n",
       " 362059: '163',\n",
       " 436445: 'matchendirect',\n",
       " 222751: 'cidj',\n",
       " 237064: 'web-sciences',\n",
       " 119505: 'stackexchange',\n",
       " 34641: 'redintelligence',\n",
       " 309656: 'billfortney',\n",
       " 165811: 'doctoralia',\n",
       " 236349: 'qq',\n",
       " 150003: 'wordpress',\n",
       " 571970: 'airchina',\n",
       " 429191: 'cedexis-radar',\n",
       " 205747: 'labomedia',\n",
       " 156243: 'bankofchina',\n",
       " 476212: 'cedexis-radar',\n",
       " 571112: 'live',\n",
       " 32210: 'innogames',\n",
       " 396483: 'tiprof',\n",
       " 515017: 'live',\n",
       " 282655: 'france3',\n",
       " 114981: 'zytrax',\n",
       " 159090: 'jogging-plus',\n",
       " 223518: 'lejsl',\n",
       " 113629: 'ac-lille',\n",
       " 431700: 'ac-clermont',\n",
       " 159545: 'cathy-bernot',\n",
       " 265040: 'consortium-horizon',\n",
       " 609319: 'cedexis-radar',\n",
       " 140422: 'karzoo',\n",
       " 438785: 'ipv6test',\n",
       " 450992: 'jiathis',\n",
       " 207190: 'eloqua',\n",
       " 557150: 'nccmt',\n",
       " 175821: 'marketingtochina',\n",
       " 447482: 'cedexis-radar',\n",
       " 258072: 'cedexis-radar',\n",
       " 127201: 'games-workshop',\n",
       " 163640: 'developpement-durable-lavenir',\n",
       " 213807: 'univ-mrs',\n",
       " 66257: 'univ-reims',\n",
       " 626128: 'oise',\n",
       " 615338: 'aacrjournals',\n",
       " 441918: 'live',\n",
       " 226131: 'free',\n",
       " 514874: 'webmonkey',\n",
       " 563858: 'nuxeo',\n",
       " 78880: 'digischool',\n",
       " 90762: 'leguide',\n",
       " 407858: 'footeo',\n",
       " 26984: 'dansea',\n",
       " 564976: 'cedexis-radar',\n",
       " 273594: 'entrainementrugby',\n",
       " 73238: 'lachainemeteo',\n",
       " 123145: 'wikia',\n",
       " 242004: 'gamepedia',\n",
       " 202874: 'live',\n",
       " 213105: 'psu',\n",
       " 223622: 'talend',\n",
       " 256317: 'live',\n",
       " 411784: 'le10sport',\n",
       " 527783: 'free',\n",
       " 300790: 'lachainemeteo',\n",
       " 300179: 'mibbit',\n",
       " 178: 'hotmail',\n",
       " 528160: 'cedexis-radar',\n",
       " 458506: 'jussieu',\n",
       " 321252: 'madeinthepain',\n",
       " 309604: 'w9',\n",
       " 198974: 'uniktour',\n",
       " 152499: 'sina',\n",
       " 349748: 'thebody',\n",
       " 54167: 'clipsyndicate',\n",
       " 229914: 'unclejeans',\n",
       " 131569: 'easl',\n",
       " 170179: 'commander1',\n",
       " 624893: 'cloudfront',\n",
       " 237779: 'renren',\n",
       " 494386: 'univ-lyon1',\n",
       " 16519: 'baidustatic',\n",
       " 575597: 'yahoo',\n",
       " 562571: 'acide-ici',\n",
       " 191850: 'chinanews',\n",
       " 600544: 'levirage',\n",
       " 281745: 'googlevideo',\n",
       " 94493: 'ingerium',\n",
       " 477122: 'cuisineaz',\n",
       " 210063: 'ethz',\n",
       " 474223: 'cdnmousebreaker',\n",
       " 515862: 'byperiscope',\n",
       " 584710: 'fantasy-discount',\n",
       " 486196: 'pagesperso-orange',\n",
       " 32834: 'wikia',\n",
       " 145895: 'purl',\n",
       " 240080: 'gametronik',\n",
       " 130581: 'traceparts',\n",
       " 613856: 'freefind',\n",
       " 244292: 'wordpress',\n",
       " 130568: 'traceparts',\n",
       " 509492: 'xerox',\n",
       " 517175: 'statlect',\n",
       " 345718: 'education',\n",
       " 353063: 'promo-reduction',\n",
       " 439162: 'qut',\n",
       " 313582: 'cedexis-radar',\n",
       " 498169: 'mp3',\n",
       " 61642: 'google',\n",
       " 308889: 'france-paralympique',\n",
       " 554368: 'picmix',\n",
       " 206722: 'utah',\n",
       " 115579: 'mediagen',\n",
       " 79127: 'surfcasting-shop',\n",
       " 288557: 'free',\n",
       " 619004: 'e-monsite',\n",
       " 609423: 'cedexis-radar',\n",
       " 423068: 'rosettastone',\n",
       " 552301: 'prf',\n",
       " 411888: 'wordpress',\n",
       " 101695: 'cedexis-radar',\n",
       " 583852: 'nwherald',\n",
       " 417738: 'jeudmo',\n",
       " 193306: 'lexpress',\n",
       " 158141: 'quotemedia',\n",
       " 99875: 'le10sport',\n",
       " 73329: 'aveyron-livres',\n",
       " 590872: 'lulu',\n",
       " 245163: 'volotea',\n",
       " 423536: 'wordpress',\n",
       " 497740: 'pole-emploi',\n",
       " 260984: 'volcanodiscovery',\n",
       " 228536: 'soin-miracle',\n",
       " 92686: 'chatango',\n",
       " 557072: 'yahoo',\n",
       " 293237: 'cedexis-radar',\n",
       " 131816: 'flixfacts',\n",
       " 491344: 'live',\n",
       " 22213: 'unblog',\n",
       " 225091: 'sourceforge',\n",
       " 192656: 'distrijob',\n",
       " 377737: 'tgbus',\n",
       " 284514: 'femmes',\n",
       " 574349: 'cedexis-radar',\n",
       " 598932: 'publications-agora',\n",
       " 36838: 'msn',\n",
       " 236739: 'taobao',\n",
       " 34550: 'insnw',\n",
       " 213365: 'jevaismieuxmerci',\n",
       " 279704: 'hurra',\n",
       " 592185: 'teen',\n",
       " 83950: 'shopuisgear',\n",
       " 376073: 'wordpress',\n",
       " 628585: 'cancer-environnement',\n",
       " 575441: 'cloudfront',\n",
       " 86784: 'oksana',\n",
       " 516928: 'sebmusset',\n",
       " 130217: 'websnapr',\n",
       " 623905: 'oxforddictionaries',\n",
       " 227171: 'imageshack',\n",
       " 397861: 'journaldunet',\n",
       " 328285: 'ge',\n",
       " 623957: 'ucla',\n",
       " 553653: 'foilen',\n",
       " 74525: 'chartsinfrance',\n",
       " 420806: 'rebelmouse',\n",
       " 515511: 'sgeieg',\n",
       " 359342: 'realitatea',\n",
       " 75604: 'scrineo-jeunesse',\n",
       " 30169: 'unblog',\n",
       " 446754: 'cedexis-radar',\n",
       " 81493: 'smart-doc',\n",
       " 198090: 'festa2000',\n",
       " 113239: 'bricospirit',\n",
       " 625296: 'bisrv',\n",
       " 177589: 'yahoo',\n",
       " 602559: 'live',\n",
       " 492904: 'monster',\n",
       " 38411: 'servimg',\n",
       " 399525: 'youssfi',\n",
       " 582955: 'independent',\n",
       " 441099: 'ed',\n",
       " 227509: 'excite',\n",
       " 87668: 'muscache',\n",
       " 162678: 'californiaindianeducation',\n",
       " 539457: 'free',\n",
       " 236440: 'baidu',\n",
       " 54453: 'mathematex',\n",
       " 468932: 'gothengine',\n",
       " 353622: 'live',\n",
       " 330989: 'blogspot',\n",
       " 593290: 'imagesci',\n",
       " 304495: 'informer',\n",
       " 506957: 'revues',\n",
       " 392323: 'cedexis-radar',\n",
       " 491526: 'oxito',\n",
       " 196985: 'ad6media',\n",
       " 267016: 'over-blog',\n",
       " 575844: 'cloudfront',\n",
       " 573348: 'photo-luc-olivier',\n",
       " 243070: 'ydstatic',\n",
       " 143724: 'cedexis-radar',\n",
       " 203940: 'codepen',\n",
       " 209335: 'collegeview',\n",
       " 590196: 'alpesgeoconseil',\n",
       " 114760: 'mediagen',\n",
       " 123964: 'mirari',\n",
       " 198012: 'chroniquesduvastemonde',\n",
       " 356924: 'franceabris',\n",
       " 143542: 'gastonlagaffe',\n",
       " 294147: 'sesamath',\n",
       " 111159: 'skyrock',\n",
       " 20276: 'ens-lyon',\n",
       " 60732: 'axf8',\n",
       " 356001: 'serieweb',\n",
       " 425772: 'ac-bordeaux',\n",
       " 100057: 'cedexis',\n",
       " 599972: 'lanouvelleexpression',\n",
       " 23084: 'jacqueslanciault',\n",
       " 219137: 'trombiz',\n",
       " 336371: 'sports',\n",
       " 80765: 'qunar',\n",
       " 263324: 'allocine',\n",
       " 272086: 'cornell',\n",
       " 476550: 'noadradio',\n",
       " 444206: 'lycos',\n",
       " 111601: 'edgesuite',\n",
       " 513249: 'disqus',\n",
       " 114123: 'reserver1chambre',\n",
       " 504110: 'toro-distribution',\n",
       " 397653: 'kemis',\n",
       " 334889: 'netline',\n",
       " 251169: 'free',\n",
       " 602533: 'developpez',\n",
       " 52906: 'teamviewer',\n",
       " 148443: 'xooimage',\n",
       " 594837: 'cedexis-radar',\n",
       " 340843: 'aif',\n",
       " 317417: 'hutchinsontransmission',\n",
       " ...}"
      ]
     },
     "execution_count": 813,
     "metadata": {},
     "output_type": "execute_result"
    }
   ],
   "source": [
    "import tldextract\n",
    "\n",
    "def get_domain(url):\n",
    "    return tldextract.extract(url).domain\n",
    "\n",
    "# seperate domain name\n",
    "id_map[\"domain\"] = id_map.webpage.apply(lambda x: get_domain(x))\n",
    "\n",
    "# get dict from series\n",
    "dict_of_domains = id_map[[\"id\", \"domain\"]].set_index('id').to_dict()[\"domain\"]\n",
    "dict_of_domains"
   ]
  },
  {
   "cell_type": "markdown",
   "id": "81b54428",
   "metadata": {},
   "source": [
    "## Pipeline #0 \n",
    "\n",
    "This is the best approach.\n",
    "\n",
    "the features: \n",
    "1. "
   ]
  },
  {
   "cell_type": "code",
   "execution_count": 842,
   "id": "ba0a5ae1",
   "metadata": {
    "ExecuteTime": {
     "end_time": "2021-09-07T14:32:32.857535Z",
     "start_time": "2021-09-07T14:32:32.852546Z"
    }
   },
   "outputs": [],
   "source": [
    "def evaluate_model(classifier, train_set, train_target, test_set, test_target, metrics=[roc_auc_score]):\n",
    "    prediction = train_model(classifier, train_set, train_target, test_set)\n",
    "    results = get_model_metrics(classifier.__class__.__name__, test_target, prediction, metrics=[roc_auc_score])\n",
    "    return results\n",
    "\n",
    "\n",
    "def train_model(classifier, train_set, train_target, test_set):\n",
    "    classifier.fit(train_set, train_target)\n",
    "    return classifier.predict_proba(test_set)\n",
    "\n",
    "\n",
    "def get_model_metrics(classifier_name, test_target, prediction, metrics=[roc_auc_score]):\n",
    "    mectrics_result = dict()\n",
    "    for metric in metrics:\n",
    "        score = metric(test_target, prediction[:, 1])\n",
    "        print(\"{} for model {} = {:.3f}\".format(metric.__name__, classifier_name, score))\n",
    "        mectrics_result[metric.__name__] = score\n",
    "    mectrics_result['classifier'] = classifier_name\n",
    "    return mectrics_result\n"
   ]
  },
  {
   "cell_type": "code",
   "execution_count": 843,
   "id": "0e704caf",
   "metadata": {
    "ExecuteTime": {
     "end_time": "2021-09-07T14:32:33.028141Z",
     "start_time": "2021-09-07T14:32:33.006200Z"
    }
   },
   "outputs": [],
   "source": [
    "\n",
    "def split_frame(dataframe):\n",
    "    X = dataframe.drop(columns='target')\n",
    "    y = dataframe.target.values\n",
    "    X_train, X_test, y_train, y_test = train_test_split(X, y, random_state=42, test_size=0.2, stratify=y)\n",
    "    return X_train, X_test, y_train, y_test\n",
    "\n",
    "\n",
    "def prepare_data(df):\n",
    "    webpages = [f\"webpage{i+1}\" for i in range(10)]\n",
    "    times = [f'time{i+1}' for i in range(10)]\n",
    "    \n",
    "    df =  (\n",
    "        df.assign(\n",
    "            hour=lambda x: x.filter(like='time').apply(lambda x: x.dt.hour).mean(axis=1),\n",
    "            day=lambda x: x.filter(like='time').apply(lambda x: x.dt.dayofweek).mean(axis=1),\n",
    "            month=lambda x: x.filter(like='time').apply(lambda x: x.dt.month).mean(axis=1),\n",
    "            year=lambda x: x.filter(like='time').apply(lambda x: x.dt.year).mean(axis=1),\n",
    "            nans_count=lambda x: x.isna().sum(axis=1).div(2),\n",
    "            n_unique_pages=lambda x: x.filter(like='webpage').apply(lambda row: row.nunique(), axis=1),\n",
    "            time_on_website=lambda x: (x.time10 - x.time1).dt.seconds.fillna(0),\n",
    "        ).drop(columns=times).fillna(0)\n",
    "    )\n",
    "    return df\n"
   ]
  },
  {
   "cell_type": "code",
   "execution_count": 856,
   "id": "e1ef2fad",
   "metadata": {
    "ExecuteTime": {
     "end_time": "2021-09-07T14:45:48.748254Z",
     "start_time": "2021-09-07T14:45:48.719329Z"
    }
   },
   "outputs": [],
   "source": [
    "df = train.copy()"
   ]
  },
  {
   "cell_type": "code",
   "execution_count": 857,
   "id": "0dab4e53",
   "metadata": {
    "ExecuteTime": {
     "end_time": "2021-09-07T14:46:01.186156Z",
     "start_time": "2021-09-07T14:45:51.628472Z"
    }
   },
   "outputs": [],
   "source": [
    "df = prepare_data(df)"
   ]
  },
  {
   "cell_type": "code",
   "execution_count": 898,
   "id": "a82afb3c",
   "metadata": {
    "ExecuteTime": {
     "end_time": "2021-09-07T17:07:41.260838Z",
     "start_time": "2021-09-07T17:07:35.519203Z"
    }
   },
   "outputs": [],
   "source": [
    "test = prepare_data(test)"
   ]
  },
  {
   "cell_type": "code",
   "execution_count": 859,
   "id": "59d8522e",
   "metadata": {
    "ExecuteTime": {
     "end_time": "2021-09-07T14:46:01.327239Z",
     "start_time": "2021-09-07T14:46:01.236634Z"
    }
   },
   "outputs": [],
   "source": [
    "X_train, X_test, y_train, y_test = split_frame(df)"
   ]
  },
  {
   "cell_type": "code",
   "execution_count": null,
   "id": "a7d3a2ce",
   "metadata": {},
   "outputs": [],
   "source": [
    "# for final train\n",
    "X = df.drop(columns=\"target\")\n",
    "y = df.target"
   ]
  },
  {
   "cell_type": "markdown",
   "id": "a66f170a",
   "metadata": {},
   "source": [
    "### Random Forest "
   ]
  },
  {
   "cell_type": "code",
   "execution_count": 860,
   "id": "aa4abb48",
   "metadata": {
    "ExecuteTime": {
     "end_time": "2021-09-07T14:46:17.137718Z",
     "start_time": "2021-09-07T14:46:01.332228Z"
    }
   },
   "outputs": [
    {
     "name": "stdout",
     "output_type": "stream",
     "text": [
      "roc_auc_score for model RandomForestClassifier = 0.990\n"
     ]
    },
    {
     "data": {
      "text/plain": [
       "0.9898035702385588"
      ]
     },
     "execution_count": 860,
     "metadata": {},
     "output_type": "execute_result"
    }
   ],
   "source": [
    "rf = RandomForestClassifier(random_state=42)\n",
    "result_dict = evaluate_model(rf, X_train, y_train, X_test, y_test)\n",
    "result_dict[\"roc_auc_score\"]"
   ]
  },
  {
   "cell_type": "code",
   "execution_count": 853,
   "id": "28c31337",
   "metadata": {
    "ExecuteTime": {
     "end_time": "2021-09-07T14:34:45.189004Z",
     "start_time": "2021-09-07T14:34:45.177069Z"
    }
   },
   "outputs": [],
   "source": [
    "# dont do this\n",
    "\n",
    "param_grid = {\n",
    "    'max_depth': [5, 10, None],\n",
    "    'max_features': [2, 3, 'auto'],\n",
    "    'min_samples_leaf': [1, 3, 5],\n",
    "    'min_samples_split': [2, 6, 12],\n",
    "    'n_estimators': [10, 100, 300]\n",
    "}\n",
    "\n",
    "rf = RandomForestClassifier(random_state=42)\n",
    "grid_search = GridSearchCV(estimator = rf, param_grid = param_grid, \n",
    "                          cv = 5, n_jobs = -1, verbose = 2, scoring='roc_auc')\n",
    "\n",
    "%%time\n",
    "grid_search.fit(X_train, y_train)"
   ]
  },
  {
   "cell_type": "markdown",
   "id": "bfa76910",
   "metadata": {},
   "source": [
    "### XGBoost"
   ]
  },
  {
   "cell_type": "code",
   "execution_count": 865,
   "id": "b562eae0",
   "metadata": {
    "ExecuteTime": {
     "end_time": "2021-09-07T14:48:35.001864Z",
     "start_time": "2021-09-07T14:48:29.577639Z"
    }
   },
   "outputs": [
    {
     "name": "stdout",
     "output_type": "stream",
     "text": [
      "[17:48:29] WARNING: C:/Users/Administrator/workspace/xgboost-win64_release_1.4.0/src/learner.cc:1095: Starting in XGBoost 1.3.0, the default evaluation metric used with the objective 'binary:logistic' was changed from 'error' to 'logloss'. Explicitly set eval_metric if you'd like to restore the old behavior.\n",
      "roc_auc_score for model XGBClassifier = 0.996\n"
     ]
    },
    {
     "data": {
      "text/plain": [
       "0.9960337252107826"
      ]
     },
     "execution_count": 865,
     "metadata": {},
     "output_type": "execute_result"
    }
   ],
   "source": [
    "xg_clf = XGBClassifier(objective ='binary:logistic', random_state=42)\n",
    "result_dict= evaluate_model(xg_clf, X_train, y_train, X_test, y_test)\n",
    "result_dict[\"roc_auc_score\"]"
   ]
  },
  {
   "cell_type": "markdown",
   "id": "7ccab41a",
   "metadata": {
    "ExecuteTime": {
     "end_time": "2021-09-07T14:48:21.707646Z",
     "start_time": "2021-09-07T14:48:21.699668Z"
    }
   },
   "source": [
    "Nice score, but lets `tune` our model"
   ]
  },
  {
   "cell_type": "code",
   "execution_count": 870,
   "id": "9b59e489",
   "metadata": {
    "ExecuteTime": {
     "end_time": "2021-09-07T15:33:24.672599Z",
     "start_time": "2021-09-07T14:50:22.169662Z"
    }
   },
   "outputs": [
    {
     "name": "stdout",
     "output_type": "stream",
     "text": [
      "[17:50:22] WARNING: C:/Users/Administrator/workspace/xgboost-win64_release_1.4.0/src/learner.cc:1095: Starting in XGBoost 1.3.0, the default evaluation metric used with the objective 'binary:logistic' was changed from 'error' to 'logloss'. Explicitly set eval_metric if you'd like to restore the old behavior.\n",
      "[17:50:38] WARNING: C:/Users/Administrator/workspace/xgboost-win64_release_1.4.0/src/learner.cc:1095: Starting in XGBoost 1.3.0, the default evaluation metric used with the objective 'binary:logistic' was changed from 'error' to 'logloss'. Explicitly set eval_metric if you'd like to restore the old behavior.\n",
      "[17:50:56] WARNING: C:/Users/Administrator/workspace/xgboost-win64_release_1.4.0/src/learner.cc:1095: Starting in XGBoost 1.3.0, the default evaluation metric used with the objective 'binary:logistic' was changed from 'error' to 'logloss'. Explicitly set eval_metric if you'd like to restore the old behavior.\n",
      "[17:51:15] WARNING: C:/Users/Administrator/workspace/xgboost-win64_release_1.4.0/src/learner.cc:1095: Starting in XGBoost 1.3.0, the default evaluation metric used with the objective 'binary:logistic' was changed from 'error' to 'logloss'. Explicitly set eval_metric if you'd like to restore the old behavior.\n",
      "[17:51:35] WARNING: C:/Users/Administrator/workspace/xgboost-win64_release_1.4.0/src/learner.cc:1095: Starting in XGBoost 1.3.0, the default evaluation metric used with the objective 'binary:logistic' was changed from 'error' to 'logloss'. Explicitly set eval_metric if you'd like to restore the old behavior.\n",
      "[17:51:54] WARNING: C:/Users/Administrator/workspace/xgboost-win64_release_1.4.0/src/learner.cc:1095: Starting in XGBoost 1.3.0, the default evaluation metric used with the objective 'binary:logistic' was changed from 'error' to 'logloss'. Explicitly set eval_metric if you'd like to restore the old behavior.\n",
      "[17:52:13] WARNING: C:/Users/Administrator/workspace/xgboost-win64_release_1.4.0/src/learner.cc:1095: Starting in XGBoost 1.3.0, the default evaluation metric used with the objective 'binary:logistic' was changed from 'error' to 'logloss'. Explicitly set eval_metric if you'd like to restore the old behavior.\n",
      "[17:52:35] WARNING: C:/Users/Administrator/workspace/xgboost-win64_release_1.4.0/src/learner.cc:1095: Starting in XGBoost 1.3.0, the default evaluation metric used with the objective 'binary:logistic' was changed from 'error' to 'logloss'. Explicitly set eval_metric if you'd like to restore the old behavior.\n",
      "[17:52:55] WARNING: C:/Users/Administrator/workspace/xgboost-win64_release_1.4.0/src/learner.cc:1095: Starting in XGBoost 1.3.0, the default evaluation metric used with the objective 'binary:logistic' was changed from 'error' to 'logloss'. Explicitly set eval_metric if you'd like to restore the old behavior.\n",
      "[17:53:15] WARNING: C:/Users/Administrator/workspace/xgboost-win64_release_1.4.0/src/learner.cc:1095: Starting in XGBoost 1.3.0, the default evaluation metric used with the objective 'binary:logistic' was changed from 'error' to 'logloss'. Explicitly set eval_metric if you'd like to restore the old behavior.\n",
      "AUC 0.993 params {'colsample_bytree': '0.412', 'learning_rate': '0.268', 'alpha': '1.116', 'n_estimators': 1000}\n",
      "[17:53:37] WARNING: C:/Users/Administrator/workspace/xgboost-win64_release_1.4.0/src/learner.cc:1095: Starting in XGBoost 1.3.0, the default evaluation metric used with the objective 'binary:logistic' was changed from 'error' to 'logloss'. Explicitly set eval_metric if you'd like to restore the old behavior.\n",
      "[17:54:17] WARNING: C:/Users/Administrator/workspace/xgboost-win64_release_1.4.0/src/learner.cc:1095: Starting in XGBoost 1.3.0, the default evaluation metric used with the objective 'binary:logistic' was changed from 'error' to 'logloss'. Explicitly set eval_metric if you'd like to restore the old behavior.\n",
      "[17:54:54] WARNING: C:/Users/Administrator/workspace/xgboost-win64_release_1.4.0/src/learner.cc:1095: Starting in XGBoost 1.3.0, the default evaluation metric used with the objective 'binary:logistic' was changed from 'error' to 'logloss'. Explicitly set eval_metric if you'd like to restore the old behavior.\n",
      "[17:55:27] WARNING: C:/Users/Administrator/workspace/xgboost-win64_release_1.4.0/src/learner.cc:1095: Starting in XGBoost 1.3.0, the default evaluation metric used with the objective 'binary:logistic' was changed from 'error' to 'logloss'. Explicitly set eval_metric if you'd like to restore the old behavior.\n",
      "[17:56:00] WARNING: C:/Users/Administrator/workspace/xgboost-win64_release_1.4.0/src/learner.cc:1095: Starting in XGBoost 1.3.0, the default evaluation metric used with the objective 'binary:logistic' was changed from 'error' to 'logloss'. Explicitly set eval_metric if you'd like to restore the old behavior.\n",
      "[17:56:34] WARNING: C:/Users/Administrator/workspace/xgboost-win64_release_1.4.0/src/learner.cc:1095: Starting in XGBoost 1.3.0, the default evaluation metric used with the objective 'binary:logistic' was changed from 'error' to 'logloss'. Explicitly set eval_metric if you'd like to restore the old behavior.\n",
      "[17:57:07] WARNING: C:/Users/Administrator/workspace/xgboost-win64_release_1.4.0/src/learner.cc:1095: Starting in XGBoost 1.3.0, the default evaluation metric used with the objective 'binary:logistic' was changed from 'error' to 'logloss'. Explicitly set eval_metric if you'd like to restore the old behavior.\n",
      "[17:57:40] WARNING: C:/Users/Administrator/workspace/xgboost-win64_release_1.4.0/src/learner.cc:1095: Starting in XGBoost 1.3.0, the default evaluation metric used with the objective 'binary:logistic' was changed from 'error' to 'logloss'. Explicitly set eval_metric if you'd like to restore the old behavior.\n",
      "[17:58:13] WARNING: C:/Users/Administrator/workspace/xgboost-win64_release_1.4.0/src/learner.cc:1095: Starting in XGBoost 1.3.0, the default evaluation metric used with the objective 'binary:logistic' was changed from 'error' to 'logloss'. Explicitly set eval_metric if you'd like to restore the old behavior.\n",
      "[17:58:46] WARNING: C:/Users/Administrator/workspace/xgboost-win64_release_1.4.0/src/learner.cc:1095: Starting in XGBoost 1.3.0, the default evaluation metric used with the objective 'binary:logistic' was changed from 'error' to 'logloss'. Explicitly set eval_metric if you'd like to restore the old behavior.\n",
      "AUC 0.989 params {'colsample_bytree': '0.383', 'learning_rate': '0.786', 'alpha': '8.378', 'n_estimators': 3000}\n",
      "[17:59:19] WARNING: C:/Users/Administrator/workspace/xgboost-win64_release_1.4.0/src/learner.cc:1095: Starting in XGBoost 1.3.0, the default evaluation metric used with the objective 'binary:logistic' was changed from 'error' to 'logloss'. Explicitly set eval_metric if you'd like to restore the old behavior.\n",
      "[17:59:43] WARNING: C:/Users/Administrator/workspace/xgboost-win64_release_1.4.0/src/learner.cc:1095: Starting in XGBoost 1.3.0, the default evaluation metric used with the objective 'binary:logistic' was changed from 'error' to 'logloss'. Explicitly set eval_metric if you'd like to restore the old behavior.\n",
      "[18:00:06] WARNING: C:/Users/Administrator/workspace/xgboost-win64_release_1.4.0/src/learner.cc:1095: Starting in XGBoost 1.3.0, the default evaluation metric used with the objective 'binary:logistic' was changed from 'error' to 'logloss'. Explicitly set eval_metric if you'd like to restore the old behavior.\n",
      "[18:00:31] WARNING: C:/Users/Administrator/workspace/xgboost-win64_release_1.4.0/src/learner.cc:1095: Starting in XGBoost 1.3.0, the default evaluation metric used with the objective 'binary:logistic' was changed from 'error' to 'logloss'. Explicitly set eval_metric if you'd like to restore the old behavior.\n",
      "[18:00:55] WARNING: C:/Users/Administrator/workspace/xgboost-win64_release_1.4.0/src/learner.cc:1095: Starting in XGBoost 1.3.0, the default evaluation metric used with the objective 'binary:logistic' was changed from 'error' to 'logloss'. Explicitly set eval_metric if you'd like to restore the old behavior.\n",
      "[18:01:17] WARNING: C:/Users/Administrator/workspace/xgboost-win64_release_1.4.0/src/learner.cc:1095: Starting in XGBoost 1.3.0, the default evaluation metric used with the objective 'binary:logistic' was changed from 'error' to 'logloss'. Explicitly set eval_metric if you'd like to restore the old behavior.\n"
     ]
    },
    {
     "name": "stdout",
     "output_type": "stream",
     "text": [
      "[18:01:42] WARNING: C:/Users/Administrator/workspace/xgboost-win64_release_1.4.0/src/learner.cc:1095: Starting in XGBoost 1.3.0, the default evaluation metric used with the objective 'binary:logistic' was changed from 'error' to 'logloss'. Explicitly set eval_metric if you'd like to restore the old behavior.\n",
      "[18:02:05] WARNING: C:/Users/Administrator/workspace/xgboost-win64_release_1.4.0/src/learner.cc:1095: Starting in XGBoost 1.3.0, the default evaluation metric used with the objective 'binary:logistic' was changed from 'error' to 'logloss'. Explicitly set eval_metric if you'd like to restore the old behavior.\n",
      "[18:02:28] WARNING: C:/Users/Administrator/workspace/xgboost-win64_release_1.4.0/src/learner.cc:1095: Starting in XGBoost 1.3.0, the default evaluation metric used with the objective 'binary:logistic' was changed from 'error' to 'logloss'. Explicitly set eval_metric if you'd like to restore the old behavior.\n",
      "[18:02:52] WARNING: C:/Users/Administrator/workspace/xgboost-win64_release_1.4.0/src/learner.cc:1095: Starting in XGBoost 1.3.0, the default evaluation metric used with the objective 'binary:logistic' was changed from 'error' to 'logloss'. Explicitly set eval_metric if you'd like to restore the old behavior.\n",
      "AUC 0.992 params {'colsample_bytree': '0.602', 'learning_rate': '0.587', 'alpha': '0.172', 'n_estimators': 1000}\n",
      "[18:03:13] WARNING: C:/Users/Administrator/workspace/xgboost-win64_release_1.4.0/src/learner.cc:1095: Starting in XGBoost 1.3.0, the default evaluation metric used with the objective 'binary:logistic' was changed from 'error' to 'logloss'. Explicitly set eval_metric if you'd like to restore the old behavior.\n",
      "[18:03:19] WARNING: C:/Users/Administrator/workspace/xgboost-win64_release_1.4.0/src/learner.cc:1095: Starting in XGBoost 1.3.0, the default evaluation metric used with the objective 'binary:logistic' was changed from 'error' to 'logloss'. Explicitly set eval_metric if you'd like to restore the old behavior.\n",
      "[18:03:24] WARNING: C:/Users/Administrator/workspace/xgboost-win64_release_1.4.0/src/learner.cc:1095: Starting in XGBoost 1.3.0, the default evaluation metric used with the objective 'binary:logistic' was changed from 'error' to 'logloss'. Explicitly set eval_metric if you'd like to restore the old behavior.\n",
      "[18:03:29] WARNING: C:/Users/Administrator/workspace/xgboost-win64_release_1.4.0/src/learner.cc:1095: Starting in XGBoost 1.3.0, the default evaluation metric used with the objective 'binary:logistic' was changed from 'error' to 'logloss'. Explicitly set eval_metric if you'd like to restore the old behavior.\n",
      "[18:03:34] WARNING: C:/Users/Administrator/workspace/xgboost-win64_release_1.4.0/src/learner.cc:1095: Starting in XGBoost 1.3.0, the default evaluation metric used with the objective 'binary:logistic' was changed from 'error' to 'logloss'. Explicitly set eval_metric if you'd like to restore the old behavior.\n",
      "[18:03:40] WARNING: C:/Users/Administrator/workspace/xgboost-win64_release_1.4.0/src/learner.cc:1095: Starting in XGBoost 1.3.0, the default evaluation metric used with the objective 'binary:logistic' was changed from 'error' to 'logloss'. Explicitly set eval_metric if you'd like to restore the old behavior.\n",
      "[18:03:45] WARNING: C:/Users/Administrator/workspace/xgboost-win64_release_1.4.0/src/learner.cc:1095: Starting in XGBoost 1.3.0, the default evaluation metric used with the objective 'binary:logistic' was changed from 'error' to 'logloss'. Explicitly set eval_metric if you'd like to restore the old behavior.\n",
      "[18:03:50] WARNING: C:/Users/Administrator/workspace/xgboost-win64_release_1.4.0/src/learner.cc:1095: Starting in XGBoost 1.3.0, the default evaluation metric used with the objective 'binary:logistic' was changed from 'error' to 'logloss'. Explicitly set eval_metric if you'd like to restore the old behavior.\n",
      "[18:03:55] WARNING: C:/Users/Administrator/workspace/xgboost-win64_release_1.4.0/src/learner.cc:1095: Starting in XGBoost 1.3.0, the default evaluation metric used with the objective 'binary:logistic' was changed from 'error' to 'logloss'. Explicitly set eval_metric if you'd like to restore the old behavior.\n",
      "[18:04:00] WARNING: C:/Users/Administrator/workspace/xgboost-win64_release_1.4.0/src/learner.cc:1095: Starting in XGBoost 1.3.0, the default evaluation metric used with the objective 'binary:logistic' was changed from 'error' to 'logloss'. Explicitly set eval_metric if you'd like to restore the old behavior.\n",
      "AUC 0.954 params {'colsample_bytree': '0.999', 'learning_rate': '0.031', 'alpha': '1.464', 'n_estimators': 100}\n",
      "[18:04:06] WARNING: C:/Users/Administrator/workspace/xgboost-win64_release_1.4.0/src/learner.cc:1095: Starting in XGBoost 1.3.0, the default evaluation metric used with the objective 'binary:logistic' was changed from 'error' to 'logloss'. Explicitly set eval_metric if you'd like to restore the old behavior.\n",
      "[18:05:02] WARNING: C:/Users/Administrator/workspace/xgboost-win64_release_1.4.0/src/learner.cc:1095: Starting in XGBoost 1.3.0, the default evaluation metric used with the objective 'binary:logistic' was changed from 'error' to 'logloss'. Explicitly set eval_metric if you'd like to restore the old behavior.\n",
      "[18:06:00] WARNING: C:/Users/Administrator/workspace/xgboost-win64_release_1.4.0/src/learner.cc:1095: Starting in XGBoost 1.3.0, the default evaluation metric used with the objective 'binary:logistic' was changed from 'error' to 'logloss'. Explicitly set eval_metric if you'd like to restore the old behavior.\n",
      "[18:06:57] WARNING: C:/Users/Administrator/workspace/xgboost-win64_release_1.4.0/src/learner.cc:1095: Starting in XGBoost 1.3.0, the default evaluation metric used with the objective 'binary:logistic' was changed from 'error' to 'logloss'. Explicitly set eval_metric if you'd like to restore the old behavior.\n",
      "[18:07:57] WARNING: C:/Users/Administrator/workspace/xgboost-win64_release_1.4.0/src/learner.cc:1095: Starting in XGBoost 1.3.0, the default evaluation metric used with the objective 'binary:logistic' was changed from 'error' to 'logloss'. Explicitly set eval_metric if you'd like to restore the old behavior.\n",
      "[18:08:53] WARNING: C:/Users/Administrator/workspace/xgboost-win64_release_1.4.0/src/learner.cc:1095: Starting in XGBoost 1.3.0, the default evaluation metric used with the objective 'binary:logistic' was changed from 'error' to 'logloss'. Explicitly set eval_metric if you'd like to restore the old behavior.\n",
      "[18:09:50] WARNING: C:/Users/Administrator/workspace/xgboost-win64_release_1.4.0/src/learner.cc:1095: Starting in XGBoost 1.3.0, the default evaluation metric used with the objective 'binary:logistic' was changed from 'error' to 'logloss'. Explicitly set eval_metric if you'd like to restore the old behavior.\n",
      "[18:10:54] WARNING: C:/Users/Administrator/workspace/xgboost-win64_release_1.4.0/src/learner.cc:1095: Starting in XGBoost 1.3.0, the default evaluation metric used with the objective 'binary:logistic' was changed from 'error' to 'logloss'. Explicitly set eval_metric if you'd like to restore the old behavior.\n",
      "[18:12:00] WARNING: C:/Users/Administrator/workspace/xgboost-win64_release_1.4.0/src/learner.cc:1095: Starting in XGBoost 1.3.0, the default evaluation metric used with the objective 'binary:logistic' was changed from 'error' to 'logloss'. Explicitly set eval_metric if you'd like to restore the old behavior.\n",
      "[18:12:57] WARNING: C:/Users/Administrator/workspace/xgboost-win64_release_1.4.0/src/learner.cc:1095: Starting in XGBoost 1.3.0, the default evaluation metric used with the objective 'binary:logistic' was changed from 'error' to 'logloss'. Explicitly set eval_metric if you'd like to restore the old behavior.\n",
      "AUC 0.993 params {'colsample_bytree': '0.961', 'learning_rate': '0.038', 'alpha': '3.331', 'n_estimators': 1000}\n",
      "[18:13:56] WARNING: C:/Users/Administrator/workspace/xgboost-win64_release_1.4.0/src/learner.cc:1095: Starting in XGBoost 1.3.0, the default evaluation metric used with the objective 'binary:logistic' was changed from 'error' to 'logloss'. Explicitly set eval_metric if you'd like to restore the old behavior.\n",
      "[18:14:36] WARNING: C:/Users/Administrator/workspace/xgboost-win64_release_1.4.0/src/learner.cc:1095: Starting in XGBoost 1.3.0, the default evaluation metric used with the objective 'binary:logistic' was changed from 'error' to 'logloss'. Explicitly set eval_metric if you'd like to restore the old behavior.\n"
     ]
    },
    {
     "name": "stdout",
     "output_type": "stream",
     "text": [
      "[18:15:14] WARNING: C:/Users/Administrator/workspace/xgboost-win64_release_1.4.0/src/learner.cc:1095: Starting in XGBoost 1.3.0, the default evaluation metric used with the objective 'binary:logistic' was changed from 'error' to 'logloss'. Explicitly set eval_metric if you'd like to restore the old behavior.\n",
      "[18:15:51] WARNING: C:/Users/Administrator/workspace/xgboost-win64_release_1.4.0/src/learner.cc:1095: Starting in XGBoost 1.3.0, the default evaluation metric used with the objective 'binary:logistic' was changed from 'error' to 'logloss'. Explicitly set eval_metric if you'd like to restore the old behavior.\n",
      "[18:16:29] WARNING: C:/Users/Administrator/workspace/xgboost-win64_release_1.4.0/src/learner.cc:1095: Starting in XGBoost 1.3.0, the default evaluation metric used with the objective 'binary:logistic' was changed from 'error' to 'logloss'. Explicitly set eval_metric if you'd like to restore the old behavior.\n",
      "[18:17:06] WARNING: C:/Users/Administrator/workspace/xgboost-win64_release_1.4.0/src/learner.cc:1095: Starting in XGBoost 1.3.0, the default evaluation metric used with the objective 'binary:logistic' was changed from 'error' to 'logloss'. Explicitly set eval_metric if you'd like to restore the old behavior.\n",
      "[18:17:44] WARNING: C:/Users/Administrator/workspace/xgboost-win64_release_1.4.0/src/learner.cc:1095: Starting in XGBoost 1.3.0, the default evaluation metric used with the objective 'binary:logistic' was changed from 'error' to 'logloss'. Explicitly set eval_metric if you'd like to restore the old behavior.\n",
      "[18:18:21] WARNING: C:/Users/Administrator/workspace/xgboost-win64_release_1.4.0/src/learner.cc:1095: Starting in XGBoost 1.3.0, the default evaluation metric used with the objective 'binary:logistic' was changed from 'error' to 'logloss'. Explicitly set eval_metric if you'd like to restore the old behavior.\n",
      "[18:18:58] WARNING: C:/Users/Administrator/workspace/xgboost-win64_release_1.4.0/src/learner.cc:1095: Starting in XGBoost 1.3.0, the default evaluation metric used with the objective 'binary:logistic' was changed from 'error' to 'logloss'. Explicitly set eval_metric if you'd like to restore the old behavior.\n",
      "[18:19:37] WARNING: C:/Users/Administrator/workspace/xgboost-win64_release_1.4.0/src/learner.cc:1095: Starting in XGBoost 1.3.0, the default evaluation metric used with the objective 'binary:logistic' was changed from 'error' to 'logloss'. Explicitly set eval_metric if you'd like to restore the old behavior.\n",
      "AUC 0.992 params {'colsample_bytree': '0.579', 'learning_rate': '0.189', 'alpha': '6.216', 'n_estimators': 3000}\n",
      "[18:20:14] WARNING: C:/Users/Administrator/workspace/xgboost-win64_release_1.4.0/src/learner.cc:1095: Starting in XGBoost 1.3.0, the default evaluation metric used with the objective 'binary:logistic' was changed from 'error' to 'logloss'. Explicitly set eval_metric if you'd like to restore the old behavior.\n",
      "[18:20:30] WARNING: C:/Users/Administrator/workspace/xgboost-win64_release_1.4.0/src/learner.cc:1095: Starting in XGBoost 1.3.0, the default evaluation metric used with the objective 'binary:logistic' was changed from 'error' to 'logloss'. Explicitly set eval_metric if you'd like to restore the old behavior.\n",
      "[18:20:47] WARNING: C:/Users/Administrator/workspace/xgboost-win64_release_1.4.0/src/learner.cc:1095: Starting in XGBoost 1.3.0, the default evaluation metric used with the objective 'binary:logistic' was changed from 'error' to 'logloss'. Explicitly set eval_metric if you'd like to restore the old behavior.\n",
      "[18:21:03] WARNING: C:/Users/Administrator/workspace/xgboost-win64_release_1.4.0/src/learner.cc:1095: Starting in XGBoost 1.3.0, the default evaluation metric used with the objective 'binary:logistic' was changed from 'error' to 'logloss'. Explicitly set eval_metric if you'd like to restore the old behavior.\n",
      "[18:21:20] WARNING: C:/Users/Administrator/workspace/xgboost-win64_release_1.4.0/src/learner.cc:1095: Starting in XGBoost 1.3.0, the default evaluation metric used with the objective 'binary:logistic' was changed from 'error' to 'logloss'. Explicitly set eval_metric if you'd like to restore the old behavior.\n",
      "[18:21:37] WARNING: C:/Users/Administrator/workspace/xgboost-win64_release_1.4.0/src/learner.cc:1095: Starting in XGBoost 1.3.0, the default evaluation metric used with the objective 'binary:logistic' was changed from 'error' to 'logloss'. Explicitly set eval_metric if you'd like to restore the old behavior.\n",
      "[18:21:53] WARNING: C:/Users/Administrator/workspace/xgboost-win64_release_1.4.0/src/learner.cc:1095: Starting in XGBoost 1.3.0, the default evaluation metric used with the objective 'binary:logistic' was changed from 'error' to 'logloss'. Explicitly set eval_metric if you'd like to restore the old behavior.\n",
      "[18:22:10] WARNING: C:/Users/Administrator/workspace/xgboost-win64_release_1.4.0/src/learner.cc:1095: Starting in XGBoost 1.3.0, the default evaluation metric used with the objective 'binary:logistic' was changed from 'error' to 'logloss'. Explicitly set eval_metric if you'd like to restore the old behavior.\n",
      "[18:22:26] WARNING: C:/Users/Administrator/workspace/xgboost-win64_release_1.4.0/src/learner.cc:1095: Starting in XGBoost 1.3.0, the default evaluation metric used with the objective 'binary:logistic' was changed from 'error' to 'logloss'. Explicitly set eval_metric if you'd like to restore the old behavior.\n",
      "[18:22:43] WARNING: C:/Users/Administrator/workspace/xgboost-win64_release_1.4.0/src/learner.cc:1095: Starting in XGBoost 1.3.0, the default evaluation metric used with the objective 'binary:logistic' was changed from 'error' to 'logloss'. Explicitly set eval_metric if you'd like to restore the old behavior.\n",
      "AUC 0.992 params {'colsample_bytree': '0.721', 'learning_rate': '0.351', 'alpha': '6.230', 'n_estimators': 1000}\n",
      "[18:22:59] WARNING: C:/Users/Administrator/workspace/xgboost-win64_release_1.4.0/src/learner.cc:1095: Starting in XGBoost 1.3.0, the default evaluation metric used with the objective 'binary:logistic' was changed from 'error' to 'logloss'. Explicitly set eval_metric if you'd like to restore the old behavior.\n",
      "[18:23:23] WARNING: C:/Users/Administrator/workspace/xgboost-win64_release_1.4.0/src/learner.cc:1095: Starting in XGBoost 1.3.0, the default evaluation metric used with the objective 'binary:logistic' was changed from 'error' to 'logloss'. Explicitly set eval_metric if you'd like to restore the old behavior.\n",
      "[18:23:47] WARNING: C:/Users/Administrator/workspace/xgboost-win64_release_1.4.0/src/learner.cc:1095: Starting in XGBoost 1.3.0, the default evaluation metric used with the objective 'binary:logistic' was changed from 'error' to 'logloss'. Explicitly set eval_metric if you'd like to restore the old behavior.\n",
      "[18:24:11] WARNING: C:/Users/Administrator/workspace/xgboost-win64_release_1.4.0/src/learner.cc:1095: Starting in XGBoost 1.3.0, the default evaluation metric used with the objective 'binary:logistic' was changed from 'error' to 'logloss'. Explicitly set eval_metric if you'd like to restore the old behavior.\n",
      "[18:24:34] WARNING: C:/Users/Administrator/workspace/xgboost-win64_release_1.4.0/src/learner.cc:1095: Starting in XGBoost 1.3.0, the default evaluation metric used with the objective 'binary:logistic' was changed from 'error' to 'logloss'. Explicitly set eval_metric if you'd like to restore the old behavior.\n",
      "[18:24:57] WARNING: C:/Users/Administrator/workspace/xgboost-win64_release_1.4.0/src/learner.cc:1095: Starting in XGBoost 1.3.0, the default evaluation metric used with the objective 'binary:logistic' was changed from 'error' to 'logloss'. Explicitly set eval_metric if you'd like to restore the old behavior.\n",
      "[18:25:20] WARNING: C:/Users/Administrator/workspace/xgboost-win64_release_1.4.0/src/learner.cc:1095: Starting in XGBoost 1.3.0, the default evaluation metric used with the objective 'binary:logistic' was changed from 'error' to 'logloss'. Explicitly set eval_metric if you'd like to restore the old behavior.\n",
      "[18:25:45] WARNING: C:/Users/Administrator/workspace/xgboost-win64_release_1.4.0/src/learner.cc:1095: Starting in XGBoost 1.3.0, the default evaluation metric used with the objective 'binary:logistic' was changed from 'error' to 'logloss'. Explicitly set eval_metric if you'd like to restore the old behavior.\n"
     ]
    },
    {
     "name": "stdout",
     "output_type": "stream",
     "text": [
      "[18:26:08] WARNING: C:/Users/Administrator/workspace/xgboost-win64_release_1.4.0/src/learner.cc:1095: Starting in XGBoost 1.3.0, the default evaluation metric used with the objective 'binary:logistic' was changed from 'error' to 'logloss'. Explicitly set eval_metric if you'd like to restore the old behavior.\n",
      "[18:26:31] WARNING: C:/Users/Administrator/workspace/xgboost-win64_release_1.4.0/src/learner.cc:1095: Starting in XGBoost 1.3.0, the default evaluation metric used with the objective 'binary:logistic' was changed from 'error' to 'logloss'. Explicitly set eval_metric if you'd like to restore the old behavior.\n",
      "AUC 0.993 params {'colsample_bytree': '0.924', 'learning_rate': '0.286', 'alpha': '0.955', 'n_estimators': 1000}\n",
      "[18:26:58] WARNING: C:/Users/Administrator/workspace/xgboost-win64_release_1.4.0/src/learner.cc:1095: Starting in XGBoost 1.3.0, the default evaluation metric used with the objective 'binary:logistic' was changed from 'error' to 'logloss'. Explicitly set eval_metric if you'd like to restore the old behavior.\n",
      "[18:27:46] WARNING: C:/Users/Administrator/workspace/xgboost-win64_release_1.4.0/src/learner.cc:1095: Starting in XGBoost 1.3.0, the default evaluation metric used with the objective 'binary:logistic' was changed from 'error' to 'logloss'. Explicitly set eval_metric if you'd like to restore the old behavior.\n",
      "[18:28:26] WARNING: C:/Users/Administrator/workspace/xgboost-win64_release_1.4.0/src/learner.cc:1095: Starting in XGBoost 1.3.0, the default evaluation metric used with the objective 'binary:logistic' was changed from 'error' to 'logloss'. Explicitly set eval_metric if you'd like to restore the old behavior.\n",
      "[18:28:56] WARNING: C:/Users/Administrator/workspace/xgboost-win64_release_1.4.0/src/learner.cc:1095: Starting in XGBoost 1.3.0, the default evaluation metric used with the objective 'binary:logistic' was changed from 'error' to 'logloss'. Explicitly set eval_metric if you'd like to restore the old behavior.\n",
      "[18:29:27] WARNING: C:/Users/Administrator/workspace/xgboost-win64_release_1.4.0/src/learner.cc:1095: Starting in XGBoost 1.3.0, the default evaluation metric used with the objective 'binary:logistic' was changed from 'error' to 'logloss'. Explicitly set eval_metric if you'd like to restore the old behavior.\n",
      "[18:29:58] WARNING: C:/Users/Administrator/workspace/xgboost-win64_release_1.4.0/src/learner.cc:1095: Starting in XGBoost 1.3.0, the default evaluation metric used with the objective 'binary:logistic' was changed from 'error' to 'logloss'. Explicitly set eval_metric if you'd like to restore the old behavior.\n",
      "[18:30:28] WARNING: C:/Users/Administrator/workspace/xgboost-win64_release_1.4.0/src/learner.cc:1095: Starting in XGBoost 1.3.0, the default evaluation metric used with the objective 'binary:logistic' was changed from 'error' to 'logloss'. Explicitly set eval_metric if you'd like to restore the old behavior.\n",
      "[18:30:58] WARNING: C:/Users/Administrator/workspace/xgboost-win64_release_1.4.0/src/learner.cc:1095: Starting in XGBoost 1.3.0, the default evaluation metric used with the objective 'binary:logistic' was changed from 'error' to 'logloss'. Explicitly set eval_metric if you'd like to restore the old behavior.\n",
      "[18:31:28] WARNING: C:/Users/Administrator/workspace/xgboost-win64_release_1.4.0/src/learner.cc:1095: Starting in XGBoost 1.3.0, the default evaluation metric used with the objective 'binary:logistic' was changed from 'error' to 'logloss'. Explicitly set eval_metric if you'd like to restore the old behavior.\n",
      "[18:31:58] WARNING: C:/Users/Administrator/workspace/xgboost-win64_release_1.4.0/src/learner.cc:1095: Starting in XGBoost 1.3.0, the default evaluation metric used with the objective 'binary:logistic' was changed from 'error' to 'logloss'. Explicitly set eval_metric if you'd like to restore the old behavior.\n",
      "AUC 0.989 params {'colsample_bytree': '0.504', 'learning_rate': '0.755', 'alpha': '5.550', 'n_estimators': 3000}\n",
      "[18:32:29] WARNING: C:/Users/Administrator/workspace/xgboost-win64_release_1.4.0/src/learner.cc:1095: Starting in XGBoost 1.3.0, the default evaluation metric used with the objective 'binary:logistic' was changed from 'error' to 'logloss'. Explicitly set eval_metric if you'd like to restore the old behavior.\n",
      "[18:32:34] WARNING: C:/Users/Administrator/workspace/xgboost-win64_release_1.4.0/src/learner.cc:1095: Starting in XGBoost 1.3.0, the default evaluation metric used with the objective 'binary:logistic' was changed from 'error' to 'logloss'. Explicitly set eval_metric if you'd like to restore the old behavior.\n",
      "[18:32:40] WARNING: C:/Users/Administrator/workspace/xgboost-win64_release_1.4.0/src/learner.cc:1095: Starting in XGBoost 1.3.0, the default evaluation metric used with the objective 'binary:logistic' was changed from 'error' to 'logloss'. Explicitly set eval_metric if you'd like to restore the old behavior.\n",
      "[18:32:45] WARNING: C:/Users/Administrator/workspace/xgboost-win64_release_1.4.0/src/learner.cc:1095: Starting in XGBoost 1.3.0, the default evaluation metric used with the objective 'binary:logistic' was changed from 'error' to 'logloss'. Explicitly set eval_metric if you'd like to restore the old behavior.\n",
      "[18:32:51] WARNING: C:/Users/Administrator/workspace/xgboost-win64_release_1.4.0/src/learner.cc:1095: Starting in XGBoost 1.3.0, the default evaluation metric used with the objective 'binary:logistic' was changed from 'error' to 'logloss'. Explicitly set eval_metric if you'd like to restore the old behavior.\n",
      "[18:32:56] WARNING: C:/Users/Administrator/workspace/xgboost-win64_release_1.4.0/src/learner.cc:1095: Starting in XGBoost 1.3.0, the default evaluation metric used with the objective 'binary:logistic' was changed from 'error' to 'logloss'. Explicitly set eval_metric if you'd like to restore the old behavior.\n",
      "[18:33:02] WARNING: C:/Users/Administrator/workspace/xgboost-win64_release_1.4.0/src/learner.cc:1095: Starting in XGBoost 1.3.0, the default evaluation metric used with the objective 'binary:logistic' was changed from 'error' to 'logloss'. Explicitly set eval_metric if you'd like to restore the old behavior.\n",
      "[18:33:08] WARNING: C:/Users/Administrator/workspace/xgboost-win64_release_1.4.0/src/learner.cc:1095: Starting in XGBoost 1.3.0, the default evaluation metric used with the objective 'binary:logistic' was changed from 'error' to 'logloss'. Explicitly set eval_metric if you'd like to restore the old behavior.\n",
      "[18:33:13] WARNING: C:/Users/Administrator/workspace/xgboost-win64_release_1.4.0/src/learner.cc:1095: Starting in XGBoost 1.3.0, the default evaluation metric used with the objective 'binary:logistic' was changed from 'error' to 'logloss'. Explicitly set eval_metric if you'd like to restore the old behavior.\n",
      "[18:33:19] WARNING: C:/Users/Administrator/workspace/xgboost-win64_release_1.4.0/src/learner.cc:1095: Starting in XGBoost 1.3.0, the default evaluation metric used with the objective 'binary:logistic' was changed from 'error' to 'logloss'. Explicitly set eval_metric if you'd like to restore the old behavior.\n",
      "AUC 0.993 params {'colsample_bytree': '0.929', 'learning_rate': '0.458', 'alpha': '0.338', 'n_estimators': 100}\n",
      "100%|████████████████████| 10/10 [43:02<00:00, 258.25s/trial, best loss: 0.006997666161913996]\n",
      "Wall time: 43min 2s\n"
     ]
    }
   ],
   "source": [
    "%%time\n",
    "\n",
    "def objective(space):\n",
    "    params = {\n",
    "        'colsample_bytree': '{:.3f}'.format(space['colsample_bytree']),\n",
    "        'learning_rate': '{:.3f}'.format(space['learning_rate']),\n",
    "        'alpha' : '{:.3f}'.format(space['alpha']),\n",
    "        'n_estimators': space['n_estimators']\n",
    "    }\n",
    "    \n",
    "    clf = XGBClassifier(\n",
    "        objective ='binary:logistic',\n",
    "        random_state=42,\n",
    "        **params\n",
    "    )\n",
    "    \n",
    "    score = cross_val_score(clf, X_train, y_train, scoring='roc_auc', cv=10).mean()\n",
    "    print(\"AUC {:.3f} params {}\".format(score, params))\n",
    "    return {'loss':1 - score, 'status': STATUS_OK }\n",
    "\n",
    "space = {\n",
    "    'colsample_bytree': hp.uniform('colsample_bytree', 0.3, 1.0),\n",
    "    'learning_rate': hp.uniform('learning_rate', 0, 1),\n",
    "    'alpha': hp.uniform('alpha', 0, 10),\n",
    "    'n_estimators': hp.choice('n_estimators', [100, 1000, 3000])\n",
    "    }\n",
    "\n",
    "best = fmin(fn=objective,\n",
    "            space=space,\n",
    "            algo=tpe.suggest,\n",
    "            max_evals=10)"
   ]
  },
  {
   "cell_type": "code",
   "execution_count": 871,
   "id": "49cfbc6f",
   "metadata": {
    "ExecuteTime": {
     "end_time": "2021-09-07T15:33:24.703516Z",
     "start_time": "2021-09-07T15:33:24.683570Z"
    }
   },
   "outputs": [
    {
     "data": {
      "text/plain": [
       "{'alpha': 1.1162532902346367,\n",
       " 'colsample_bytree': 0.41177583242737537,\n",
       " 'learning_rate': 0.2684542391692044,\n",
       " 'n_estimators': 1}"
      ]
     },
     "execution_count": 871,
     "metadata": {},
     "output_type": "execute_result"
    }
   ],
   "source": [
    "best"
   ]
  },
  {
   "cell_type": "code",
   "execution_count": 872,
   "id": "4f717bc8",
   "metadata": {
    "ExecuteTime": {
     "end_time": "2021-09-07T15:33:47.650686Z",
     "start_time": "2021-09-07T15:33:24.707507Z"
    }
   },
   "outputs": [
    {
     "name": "stdout",
     "output_type": "stream",
     "text": [
      "[18:33:24] WARNING: C:/Users/Administrator/workspace/xgboost-win64_release_1.4.0/src/learner.cc:1095: Starting in XGBoost 1.3.0, the default evaluation metric used with the objective 'binary:logistic' was changed from 'error' to 'logloss'. Explicitly set eval_metric if you'd like to restore the old behavior.\n",
      "roc_auc_score for model XGBClassifier = 0.995\n"
     ]
    },
    {
     "data": {
      "text/plain": [
       "0.9951403388254298"
      ]
     },
     "execution_count": 872,
     "metadata": {},
     "output_type": "execute_result"
    }
   ],
   "source": [
    "best_xg_clf = XGBClassifier(objective ='binary:logistic', \n",
    "                            alpha=best['alpha'],\n",
    "                            colsample_bytree = best['colsample_bytree'],\n",
    "                            learning_rate=best['learning_rate'],\n",
    "                            n_estimators=1000,\n",
    "                            random_state=42)\n",
    "\n",
    "result_dict = evaluate_model(best_xg_clf, X_train, y_train, X_test, y_test)\n",
    "result_dict[\"roc_auc_score\"]"
   ]
  },
  {
   "cell_type": "code",
   "execution_count": 901,
   "id": "101dff8b",
   "metadata": {
    "ExecuteTime": {
     "end_time": "2021-09-07T17:08:16.036129Z",
     "start_time": "2021-09-07T17:08:15.846637Z"
    }
   },
   "outputs": [],
   "source": [
    "y_pred = best_xg_clf.predict_proba(test)[:, 1]"
   ]
  },
  {
   "cell_type": "code",
   "execution_count": 903,
   "id": "395ca7dd",
   "metadata": {
    "ExecuteTime": {
     "end_time": "2021-09-07T17:08:24.908316Z",
     "start_time": "2021-09-07T17:08:24.684722Z"
    }
   },
   "outputs": [],
   "source": [
    "save_submission(y_pred)"
   ]
  },
  {
   "cell_type": "code",
   "execution_count": null,
   "id": "7dfba7c5",
   "metadata": {},
   "outputs": [],
   "source": [
    "best_xg_clf.fit(X, y, )"
   ]
  },
  {
   "cell_type": "markdown",
   "id": "49478cb8",
   "metadata": {},
   "source": [
    "### LGBMClassifier"
   ]
  },
  {
   "cell_type": "code",
   "execution_count": 873,
   "id": "d854fe94",
   "metadata": {
    "ExecuteTime": {
     "end_time": "2021-09-07T15:33:54.575155Z",
     "start_time": "2021-09-07T15:33:47.653678Z"
    }
   },
   "outputs": [
    {
     "name": "stdout",
     "output_type": "stream",
     "text": [
      "roc_auc_score for model LGBMClassifier = 0.994\n"
     ]
    },
    {
     "data": {
      "text/plain": [
       "0.9935258297896008"
      ]
     },
     "execution_count": 873,
     "metadata": {},
     "output_type": "execute_result"
    }
   ],
   "source": [
    "lgb_clf = LGBMClassifier(n_estimators=1000, random_state=42)\n",
    "\n",
    "result_dict = evaluate_model(lgb_clf, X_train, y_train, X_test, y_test)\n",
    "result_dict[\"roc_auc_score\"]"
   ]
  },
  {
   "cell_type": "code",
   "execution_count": 874,
   "id": "481f57fa",
   "metadata": {
    "ExecuteTime": {
     "end_time": "2021-09-07T15:33:59.171536Z",
     "start_time": "2021-09-07T15:33:54.579144Z"
    }
   },
   "outputs": [
    {
     "name": "stdout",
     "output_type": "stream",
     "text": [
      "roc_auc_score for model LGBMClassifier = 0.994\n"
     ]
    },
    {
     "data": {
      "text/plain": [
       "0.9937711477785345"
      ]
     },
     "execution_count": 874,
     "metadata": {},
     "output_type": "execute_result"
    }
   ],
   "source": [
    "lgb_clf = LGBMClassifier(n_estimators=1000, \n",
    "                         num_leaves=7\n",
    "                         ,random_state=42)\n",
    "\n",
    "result_dict = evaluate_model(lgb_clf, X_train, y_train, X_test, y_test)\n",
    "result_dict[\"roc_auc_score\"]"
   ]
  },
  {
   "cell_type": "markdown",
   "id": "c08a58f6",
   "metadata": {},
   "source": [
    "### CatBoost"
   ]
  },
  {
   "cell_type": "code",
   "execution_count": 877,
   "id": "6d0f5382",
   "metadata": {
    "ExecuteTime": {
     "end_time": "2021-09-07T15:38:16.394629Z",
     "start_time": "2021-09-07T15:37:49.548012Z"
    }
   },
   "outputs": [
    {
     "name": "stdout",
     "output_type": "stream",
     "text": [
      "roc_auc_score for model CatBoostClassifier = 0.996\n"
     ]
    },
    {
     "data": {
      "text/plain": [
       "0.9963973930955212"
      ]
     },
     "execution_count": 877,
     "metadata": {},
     "output_type": "execute_result"
    }
   ],
   "source": [
    "cat_clf = CatBoostClassifier(random_state=42, verbose=False)\n",
    "\n",
    "\n",
    "result_dict = evaluate_model(cat_clf, X_train, y_train, X_test, y_test)\n",
    "result_dict[\"roc_auc_score\"]"
   ]
  },
  {
   "cell_type": "code",
   "execution_count": 885,
   "id": "4a6bce68",
   "metadata": {
    "ExecuteTime": {
     "end_time": "2021-09-07T15:41:47.244788Z",
     "start_time": "2021-09-07T15:41:47.236760Z"
    }
   },
   "outputs": [],
   "source": [
    "cat_features = ['webpage1', 'webpage2', 'webpage3', 'webpage4', 'webpage5', 'webpage6',\n",
    "       'webpage7', 'webpage8', 'webpage9', 'webpage10',\n",
    "       'hour', 'day', 'nans_count', 'month', 'year']"
   ]
  },
  {
   "cell_type": "code",
   "execution_count": 888,
   "id": "67d21095",
   "metadata": {
    "ExecuteTime": {
     "end_time": "2021-09-07T15:43:25.748577Z",
     "start_time": "2021-09-07T15:42:52.026838Z"
    }
   },
   "outputs": [
    {
     "data": {
      "text/plain": [
       "<catboost.core.CatBoostClassifier at 0x18d57497760>"
      ]
     },
     "execution_count": 888,
     "metadata": {},
     "output_type": "execute_result"
    }
   ],
   "source": [
    "cat_clf_mine = CatBoostClassifier(random_state=42, verbose=False)\n",
    "cat_clf_mine.fit(X, y)"
   ]
  },
  {
   "cell_type": "code",
   "execution_count": 904,
   "id": "9f898146",
   "metadata": {
    "ExecuteTime": {
     "end_time": "2021-09-07T17:08:56.475380Z",
     "start_time": "2021-09-07T17:08:56.421549Z"
    }
   },
   "outputs": [],
   "source": [
    "y_pred = cat_clf_mine.predict_proba(test)[:, 1]"
   ]
  },
  {
   "cell_type": "code",
   "execution_count": 905,
   "id": "031d518b",
   "metadata": {
    "ExecuteTime": {
     "end_time": "2021-09-07T17:09:01.804403Z",
     "start_time": "2021-09-07T17:09:01.537075Z"
    }
   },
   "outputs": [],
   "source": [
    "save_submission(y_pred)"
   ]
  },
  {
   "cell_type": "code",
   "execution_count": 893,
   "id": "9f521200",
   "metadata": {
    "ExecuteTime": {
     "end_time": "2021-09-07T17:05:47.677068Z",
     "start_time": "2021-09-07T17:05:47.663090Z"
    }
   },
   "outputs": [
    {
     "data": {
      "text/plain": [
       "<catboost.core.CatBoostClassifier at 0x18d57497760>"
      ]
     },
     "execution_count": 893,
     "metadata": {},
     "output_type": "execute_result"
    }
   ],
   "source": [
    "cat_clf_mine"
   ]
  },
  {
   "cell_type": "markdown",
   "id": "a41d52e8",
   "metadata": {},
   "source": [
    "## Pipeline #1\n",
    "\n",
    "### Stratagy of preprocessing\n",
    "\n",
    "Preproc function is our \"pipeline\". As we are going to use Boosting models (cat boost), our main goal is to reveal all information from dataframe like:\n",
    "\n",
    "`numerical`\n",
    "* time on website\n",
    "* number of nans in data \n",
    "* number of uniqucal pages \n",
    "\n",
    "\n",
    "`categorical`\n",
    "* when the person get on website\n",
    "* what is the day (monday, ...)\n",
    "* pages, where he stay (with real names, 10 features)\n",
    "* year,  (it is not a numerical feature, it is more like nominal feauture)"
   ]
  },
  {
   "cell_type": "code",
   "execution_count": 479,
   "id": "6471bdf2",
   "metadata": {
    "ExecuteTime": {
     "end_time": "2021-09-06T13:19:53.506608Z",
     "start_time": "2021-09-06T13:19:53.498630Z"
    }
   },
   "outputs": [],
   "source": [
    "def to_hour_gaps(i):\n",
    "    if i in range(0, 6):\n",
    "        return \"night\"\n",
    "    elif i in range(6, 12):\n",
    "        return \"morning\"\n",
    "    elif i in range(12, 18):\n",
    "        return \"afternoon\"\n",
    "    else:\n",
    "        return \"evening\"\n",
    "\n",
    "def to_day_gaps(i):\n",
    "    if i == 0:\n",
    "        return \"monday\"\n",
    "    elif i == 1:\n",
    "        return \"thursday\"\n",
    "    elif i == 2:\n",
    "        return \"wednesday\"\n",
    "    elif i == 3: \n",
    "        return \"thursday\"\n",
    "    elif i == 4: \n",
    "        return \"friday\"\n",
    "    elif i == 5:\n",
    "        return \"saturday\"\n",
    "    else:\n",
    "        return \"sunday\"\n",
    "        \n",
    "        \n",
    "def split_data(df):\n",
    "    y = df.target\n",
    "    X = df.drop(columns=\"target\")\n",
    "    return X, y\n",
    "\n",
    "def preproc(df, dict_of_domains):\n",
    "    webpages = [f\"webpage{i+1}\" for i in range(10)]\n",
    "    times = [f'time{i+1}' for i in range(10)]\n",
    "    \n",
    "    df = (\n",
    "        df.assign(\n",
    "            n_unique_pages=lambda x: x.filter(like='webpage').apply(\n",
    "                lambda row: row.nunique(), axis=1),\n",
    "            hour=lambda x: x.filter(like='time').apply(lambda x: x.dt.hour).mean(axis=1).map(to_hour_gaps),\n",
    "            day=lambda x: x.filter(like='time').apply(\n",
    "                lambda x: x.dt.dayofweek).mean(axis=1).map(to_day_gaps),\n",
    "            time_on_website=lambda x: (x.time10 - x.time1).dt.seconds.fillna(0),\n",
    "            nans_count=lambda x: x.isna().sum(axis=1).div(2),  # time & webpage => div(2)\n",
    "            month=lambda x: x.time1.dt.month_name(),\n",
    "            year=lambda x: x.time1.apply(lambda y: y.year)\n",
    "        ).drop(columns=times).fillna(0.)\n",
    "    )\n",
    "    \n",
    "#     df = df.fillna(0.0)\n",
    "    df[webpages] = df[webpages].astype(\"int64\")\n",
    "    for i in webpages:\n",
    "        df[i] = df[i].replace(dict_of_domains)\n",
    "        \n",
    "    cat = list(X.columns.drop([\"n_unique_pages\", \"time_on_website\", \"nans_count\"]))\n",
    "    X[cat] = X[cat].astype(\"category\")\n",
    "#     df[webpages] = df[webpages].replace(dict_of_domains) # replace with numbers of webpages with cat data\n",
    "    \n",
    "    return df.fillna(0)"
   ]
  },
  {
   "cell_type": "code",
   "execution_count": 650,
   "id": "15c64c65",
   "metadata": {
    "ExecuteTime": {
     "end_time": "2021-09-06T14:32:49.357265Z",
     "start_time": "2021-09-06T14:24:43.214676Z"
    }
   },
   "outputs": [],
   "source": [
    "X, y = split_data(train)\n",
    "X = preproc(X, dict_of_domains)"
   ]
  },
  {
   "cell_type": "code",
   "execution_count": 651,
   "id": "d028dc7f",
   "metadata": {
    "ExecuteTime": {
     "end_time": "2021-09-06T14:36:57.445607Z",
     "start_time": "2021-09-06T14:32:49.419521Z"
    }
   },
   "outputs": [],
   "source": [
    "test = preproc(test, dict_of_domains)\n",
    "test"
   ]
  },
  {
   "cell_type": "markdown",
   "id": "77740a96",
   "metadata": {},
   "source": [
    "### Boosting methods\n",
    "\n",
    "As the main goal is to win this competition, the best way to do this is to use boosting methods :D \n",
    "I will try `catboost` as it can work with categorical features"
   ]
  },
  {
   "cell_type": "code",
   "execution_count": 675,
   "id": "41510f00",
   "metadata": {
    "ExecuteTime": {
     "end_time": "2021-09-06T14:51:34.482213Z",
     "start_time": "2021-09-06T14:51:34.467254Z"
    }
   },
   "outputs": [],
   "source": [
    "model_catBoost = CatBoostClassifier()\n",
    "cat = list(X.columns.drop([\"n_unique_pages\", \"time_on_website\", \"nans_count\"]))"
   ]
  },
  {
   "cell_type": "code",
   "execution_count": 676,
   "id": "ef43ca5b",
   "metadata": {
    "ExecuteTime": {
     "end_time": "2021-09-06T14:57:11.514088Z",
     "start_time": "2021-09-06T14:51:38.635464Z"
    }
   },
   "outputs": [
    {
     "name": "stdout",
     "output_type": "stream",
     "text": [
      "Learning rate set to 0.089962\n",
      "0:\tlearn: 0.5083903\ttotal: 219ms\tremaining: 3m 38s\n",
      "1:\tlearn: 0.3761709\ttotal: 324ms\tremaining: 2m 41s\n",
      "2:\tlearn: 0.2755293\ttotal: 369ms\tremaining: 2m 2s\n",
      "3:\tlearn: 0.2105681\ttotal: 542ms\tremaining: 2m 14s\n",
      "4:\tlearn: 0.1688232\ttotal: 610ms\tremaining: 2m 1s\n",
      "5:\tlearn: 0.1363476\ttotal: 725ms\tremaining: 2m\n",
      "6:\tlearn: 0.1154866\ttotal: 761ms\tremaining: 1m 47s\n",
      "7:\tlearn: 0.0961636\ttotal: 979ms\tremaining: 2m 1s\n",
      "8:\tlearn: 0.0817814\ttotal: 1.21s\tremaining: 2m 13s\n",
      "9:\tlearn: 0.0705584\ttotal: 1.45s\tremaining: 2m 23s\n",
      "10:\tlearn: 0.0611283\ttotal: 1.64s\tremaining: 2m 27s\n",
      "11:\tlearn: 0.0537141\ttotal: 1.83s\tremaining: 2m 30s\n",
      "12:\tlearn: 0.0489187\ttotal: 2.04s\tremaining: 2m 35s\n",
      "13:\tlearn: 0.0445921\ttotal: 2.3s\tremaining: 2m 42s\n",
      "14:\tlearn: 0.0411660\ttotal: 2.59s\tremaining: 2m 50s\n",
      "15:\tlearn: 0.0378857\ttotal: 2.89s\tremaining: 2m 57s\n",
      "16:\tlearn: 0.0360947\ttotal: 3.22s\tremaining: 3m 6s\n",
      "17:\tlearn: 0.0347931\ttotal: 3.46s\tremaining: 3m 8s\n",
      "18:\tlearn: 0.0334944\ttotal: 3.81s\tremaining: 3m 16s\n",
      "19:\tlearn: 0.0322774\ttotal: 4.08s\tremaining: 3m 20s\n",
      "20:\tlearn: 0.0311998\ttotal: 4.37s\tremaining: 3m 23s\n",
      "21:\tlearn: 0.0301956\ttotal: 4.54s\tremaining: 3m 21s\n",
      "22:\tlearn: 0.0295570\ttotal: 4.82s\tremaining: 3m 24s\n",
      "23:\tlearn: 0.0290526\ttotal: 5.05s\tremaining: 3m 25s\n",
      "24:\tlearn: 0.0284011\ttotal: 5.3s\tremaining: 3m 26s\n",
      "25:\tlearn: 0.0279395\ttotal: 5.53s\tremaining: 3m 27s\n",
      "26:\tlearn: 0.0272459\ttotal: 5.8s\tremaining: 3m 28s\n",
      "27:\tlearn: 0.0267476\ttotal: 6.08s\tremaining: 3m 30s\n",
      "28:\tlearn: 0.0262591\ttotal: 6.21s\tremaining: 3m 28s\n",
      "29:\tlearn: 0.0258460\ttotal: 6.32s\tremaining: 3m 24s\n",
      "30:\tlearn: 0.0255879\ttotal: 6.48s\tremaining: 3m 22s\n",
      "31:\tlearn: 0.0253922\ttotal: 6.73s\tremaining: 3m 23s\n",
      "32:\tlearn: 0.0251824\ttotal: 6.88s\tremaining: 3m 21s\n",
      "33:\tlearn: 0.0250049\ttotal: 7.12s\tremaining: 3m 22s\n",
      "34:\tlearn: 0.0248029\ttotal: 7.24s\tremaining: 3m 19s\n",
      "35:\tlearn: 0.0246235\ttotal: 7.52s\tremaining: 3m 21s\n",
      "36:\tlearn: 0.0244933\ttotal: 7.78s\tremaining: 3m 22s\n",
      "37:\tlearn: 0.0243509\ttotal: 8.07s\tremaining: 3m 24s\n",
      "38:\tlearn: 0.0240841\ttotal: 8.28s\tremaining: 3m 24s\n",
      "39:\tlearn: 0.0239750\ttotal: 8.55s\tremaining: 3m 25s\n",
      "40:\tlearn: 0.0238751\ttotal: 8.75s\tremaining: 3m 24s\n",
      "41:\tlearn: 0.0237784\ttotal: 9s\tremaining: 3m 25s\n",
      "42:\tlearn: 0.0237051\ttotal: 9.23s\tremaining: 3m 25s\n",
      "43:\tlearn: 0.0236274\ttotal: 9.51s\tremaining: 3m 26s\n",
      "44:\tlearn: 0.0234530\ttotal: 9.76s\tremaining: 3m 27s\n",
      "45:\tlearn: 0.0231327\ttotal: 10.1s\tremaining: 3m 29s\n",
      "46:\tlearn: 0.0230872\ttotal: 10.4s\tremaining: 3m 30s\n",
      "47:\tlearn: 0.0229953\ttotal: 10.6s\tremaining: 3m 30s\n",
      "48:\tlearn: 0.0227522\ttotal: 10.9s\tremaining: 3m 31s\n",
      "49:\tlearn: 0.0225210\ttotal: 11.2s\tremaining: 3m 32s\n",
      "50:\tlearn: 0.0224451\ttotal: 11.4s\tremaining: 3m 32s\n",
      "51:\tlearn: 0.0222481\ttotal: 11.6s\tremaining: 3m 31s\n",
      "52:\tlearn: 0.0221146\ttotal: 11.9s\tremaining: 3m 32s\n",
      "53:\tlearn: 0.0220772\ttotal: 12.1s\tremaining: 3m 32s\n",
      "54:\tlearn: 0.0219139\ttotal: 12.3s\tremaining: 3m 30s\n",
      "55:\tlearn: 0.0218806\ttotal: 12.5s\tremaining: 3m 30s\n",
      "56:\tlearn: 0.0217716\ttotal: 12.8s\tremaining: 3m 31s\n",
      "57:\tlearn: 0.0216507\ttotal: 13.1s\tremaining: 3m 32s\n",
      "58:\tlearn: 0.0216228\ttotal: 13.3s\tremaining: 3m 32s\n",
      "59:\tlearn: 0.0215284\ttotal: 13.6s\tremaining: 3m 33s\n",
      "60:\tlearn: 0.0214346\ttotal: 13.9s\tremaining: 3m 33s\n",
      "61:\tlearn: 0.0213956\ttotal: 14.2s\tremaining: 3m 34s\n",
      "62:\tlearn: 0.0213688\ttotal: 14.4s\tremaining: 3m 34s\n",
      "63:\tlearn: 0.0212945\ttotal: 14.6s\tremaining: 3m 34s\n",
      "64:\tlearn: 0.0212643\ttotal: 14.8s\tremaining: 3m 33s\n",
      "65:\tlearn: 0.0212147\ttotal: 15.1s\tremaining: 3m 34s\n",
      "66:\tlearn: 0.0211896\ttotal: 15.4s\tremaining: 3m 34s\n",
      "67:\tlearn: 0.0210857\ttotal: 15.7s\tremaining: 3m 35s\n",
      "68:\tlearn: 0.0210559\ttotal: 16.1s\tremaining: 3m 36s\n",
      "69:\tlearn: 0.0210238\ttotal: 16.4s\tremaining: 3m 38s\n",
      "70:\tlearn: 0.0209901\ttotal: 16.7s\tremaining: 3m 39s\n",
      "71:\tlearn: 0.0209173\ttotal: 17.1s\tremaining: 3m 40s\n",
      "72:\tlearn: 0.0208790\ttotal: 17.4s\tremaining: 3m 41s\n",
      "73:\tlearn: 0.0208389\ttotal: 17.7s\tremaining: 3m 42s\n",
      "74:\tlearn: 0.0208166\ttotal: 18.1s\tremaining: 3m 42s\n",
      "75:\tlearn: 0.0207745\ttotal: 18.4s\tremaining: 3m 43s\n",
      "76:\tlearn: 0.0207531\ttotal: 18.7s\tremaining: 3m 44s\n",
      "77:\tlearn: 0.0207347\ttotal: 19s\tremaining: 3m 44s\n",
      "78:\tlearn: 0.0207112\ttotal: 19.3s\tremaining: 3m 44s\n",
      "79:\tlearn: 0.0206936\ttotal: 19.6s\tremaining: 3m 44s\n",
      "80:\tlearn: 0.0206796\ttotal: 19.9s\tremaining: 3m 45s\n",
      "81:\tlearn: 0.0206533\ttotal: 20.2s\tremaining: 3m 46s\n",
      "82:\tlearn: 0.0206262\ttotal: 20.5s\tremaining: 3m 46s\n",
      "83:\tlearn: 0.0206047\ttotal: 20.7s\tremaining: 3m 45s\n",
      "84:\tlearn: 0.0205840\ttotal: 21s\tremaining: 3m 46s\n",
      "85:\tlearn: 0.0204598\ttotal: 21.4s\tremaining: 3m 47s\n",
      "86:\tlearn: 0.0203747\ttotal: 21.7s\tremaining: 3m 47s\n",
      "87:\tlearn: 0.0203531\ttotal: 21.9s\tremaining: 3m 47s\n",
      "88:\tlearn: 0.0203361\ttotal: 22.2s\tremaining: 3m 47s\n",
      "89:\tlearn: 0.0202652\ttotal: 22.5s\tremaining: 3m 47s\n",
      "90:\tlearn: 0.0202270\ttotal: 22.8s\tremaining: 3m 47s\n",
      "91:\tlearn: 0.0201282\ttotal: 23.1s\tremaining: 3m 47s\n",
      "92:\tlearn: 0.0200605\ttotal: 23.4s\tremaining: 3m 48s\n",
      "93:\tlearn: 0.0200328\ttotal: 23.8s\tremaining: 3m 49s\n",
      "94:\tlearn: 0.0200121\ttotal: 24.2s\tremaining: 3m 50s\n",
      "95:\tlearn: 0.0199617\ttotal: 24.5s\tremaining: 3m 50s\n",
      "96:\tlearn: 0.0199348\ttotal: 24.8s\tremaining: 3m 51s\n",
      "97:\tlearn: 0.0199074\ttotal: 25.1s\tremaining: 3m 51s\n",
      "98:\tlearn: 0.0198599\ttotal: 25.5s\tremaining: 3m 52s\n",
      "99:\tlearn: 0.0198164\ttotal: 25.8s\tremaining: 3m 52s\n",
      "100:\tlearn: 0.0197885\ttotal: 26s\tremaining: 3m 51s\n",
      "101:\tlearn: 0.0197520\ttotal: 26.4s\tremaining: 3m 52s\n",
      "102:\tlearn: 0.0197158\ttotal: 26.7s\tremaining: 3m 52s\n",
      "103:\tlearn: 0.0196944\ttotal: 27.1s\tremaining: 3m 53s\n",
      "104:\tlearn: 0.0196745\ttotal: 27.4s\tremaining: 3m 53s\n",
      "105:\tlearn: 0.0196621\ttotal: 27.7s\tremaining: 3m 53s\n",
      "106:\tlearn: 0.0196333\ttotal: 28.1s\tremaining: 3m 54s\n",
      "107:\tlearn: 0.0196163\ttotal: 28.4s\tremaining: 3m 54s\n",
      "108:\tlearn: 0.0196060\ttotal: 28.8s\tremaining: 3m 55s\n",
      "109:\tlearn: 0.0195605\ttotal: 29.1s\tremaining: 3m 55s\n",
      "110:\tlearn: 0.0194897\ttotal: 29.4s\tremaining: 3m 55s\n",
      "111:\tlearn: 0.0194787\ttotal: 29.7s\tremaining: 3m 55s\n",
      "112:\tlearn: 0.0194657\ttotal: 30s\tremaining: 3m 55s\n",
      "113:\tlearn: 0.0194280\ttotal: 30.4s\tremaining: 3m 56s\n",
      "114:\tlearn: 0.0193828\ttotal: 30.7s\tremaining: 3m 56s\n",
      "115:\tlearn: 0.0193727\ttotal: 31.1s\tremaining: 3m 56s\n",
      "116:\tlearn: 0.0193083\ttotal: 31.3s\tremaining: 3m 56s\n",
      "117:\tlearn: 0.0192828\ttotal: 31.5s\tremaining: 3m 55s\n",
      "118:\tlearn: 0.0192783\ttotal: 31.8s\tremaining: 3m 55s\n",
      "119:\tlearn: 0.0192292\ttotal: 32.2s\tremaining: 3m 55s\n",
      "120:\tlearn: 0.0192005\ttotal: 32.5s\tremaining: 3m 56s\n",
      "121:\tlearn: 0.0191781\ttotal: 32.9s\tremaining: 3m 56s\n",
      "122:\tlearn: 0.0191717\ttotal: 33.2s\tremaining: 3m 56s\n",
      "123:\tlearn: 0.0191391\ttotal: 33.6s\tremaining: 3m 57s\n",
      "124:\tlearn: 0.0191114\ttotal: 33.8s\tremaining: 3m 56s\n",
      "125:\tlearn: 0.0191029\ttotal: 34.2s\tremaining: 3m 57s\n",
      "126:\tlearn: 0.0190769\ttotal: 34.5s\tremaining: 3m 57s\n",
      "127:\tlearn: 0.0189909\ttotal: 34.8s\tremaining: 3m 56s\n",
      "128:\tlearn: 0.0189417\ttotal: 35.1s\tremaining: 3m 56s\n",
      "129:\tlearn: 0.0189197\ttotal: 35.4s\tremaining: 3m 56s\n",
      "130:\tlearn: 0.0189089\ttotal: 35.7s\tremaining: 3m 57s\n",
      "131:\tlearn: 0.0188922\ttotal: 36.1s\tremaining: 3m 57s\n",
      "132:\tlearn: 0.0188186\ttotal: 36.5s\tremaining: 3m 57s\n",
      "133:\tlearn: 0.0188027\ttotal: 36.8s\tremaining: 3m 57s\n",
      "134:\tlearn: 0.0187978\ttotal: 37.2s\tremaining: 3m 58s\n",
      "135:\tlearn: 0.0187727\ttotal: 37.5s\tremaining: 3m 58s\n",
      "136:\tlearn: 0.0187601\ttotal: 37.7s\tremaining: 3m 57s\n",
      "137:\tlearn: 0.0187447\ttotal: 38s\tremaining: 3m 57s\n",
      "138:\tlearn: 0.0186636\ttotal: 38.4s\tremaining: 3m 57s\n",
      "139:\tlearn: 0.0185230\ttotal: 38.7s\tremaining: 3m 57s\n",
      "140:\tlearn: 0.0185106\ttotal: 39s\tremaining: 3m 57s\n",
      "141:\tlearn: 0.0184855\ttotal: 39.2s\tremaining: 3m 57s\n",
      "142:\tlearn: 0.0184697\ttotal: 39.5s\tremaining: 3m 56s\n",
      "143:\tlearn: 0.0184542\ttotal: 39.8s\tremaining: 3m 56s\n",
      "144:\tlearn: 0.0184280\ttotal: 40.1s\tremaining: 3m 56s\n",
      "145:\tlearn: 0.0184051\ttotal: 40.5s\tremaining: 3m 56s\n",
      "146:\tlearn: 0.0183974\ttotal: 40.8s\tremaining: 3m 56s\n",
      "147:\tlearn: 0.0183390\ttotal: 41.2s\tremaining: 3m 56s\n",
      "148:\tlearn: 0.0182953\ttotal: 41.4s\tremaining: 3m 56s\n",
      "149:\tlearn: 0.0182563\ttotal: 41.8s\tremaining: 3m 56s\n",
      "150:\tlearn: 0.0182343\ttotal: 42.1s\tremaining: 3m 56s\n",
      "151:\tlearn: 0.0182335\ttotal: 42.5s\tremaining: 3m 56s\n",
      "152:\tlearn: 0.0182308\ttotal: 42.8s\tremaining: 3m 56s\n",
      "153:\tlearn: 0.0182128\ttotal: 43.1s\tremaining: 3m 56s\n",
      "154:\tlearn: 0.0182039\ttotal: 43.4s\tremaining: 3m 56s\n",
      "155:\tlearn: 0.0182008\ttotal: 43.7s\tremaining: 3m 56s\n",
      "156:\tlearn: 0.0181336\ttotal: 44s\tremaining: 3m 56s\n"
     ]
    },
    {
     "name": "stdout",
     "output_type": "stream",
     "text": [
      "157:\tlearn: 0.0181174\ttotal: 44.3s\tremaining: 3m 56s\n",
      "158:\tlearn: 0.0181139\ttotal: 44.6s\tremaining: 3m 56s\n",
      "159:\tlearn: 0.0180619\ttotal: 45s\tremaining: 3m 56s\n",
      "160:\tlearn: 0.0180595\ttotal: 45.2s\tremaining: 3m 55s\n",
      "161:\tlearn: 0.0180513\ttotal: 45.6s\tremaining: 3m 55s\n",
      "162:\tlearn: 0.0180342\ttotal: 45.9s\tremaining: 3m 55s\n",
      "163:\tlearn: 0.0180288\ttotal: 46.2s\tremaining: 3m 55s\n",
      "164:\tlearn: 0.0179811\ttotal: 46.5s\tremaining: 3m 55s\n",
      "165:\tlearn: 0.0179761\ttotal: 46.8s\tremaining: 3m 55s\n",
      "166:\tlearn: 0.0179266\ttotal: 47.1s\tremaining: 3m 55s\n",
      "167:\tlearn: 0.0179049\ttotal: 47.5s\tremaining: 3m 55s\n",
      "168:\tlearn: 0.0178915\ttotal: 47.8s\tremaining: 3m 55s\n",
      "169:\tlearn: 0.0178611\ttotal: 48.1s\tremaining: 3m 55s\n",
      "170:\tlearn: 0.0178475\ttotal: 48.5s\tremaining: 3m 55s\n",
      "171:\tlearn: 0.0178427\ttotal: 48.8s\tremaining: 3m 54s\n",
      "172:\tlearn: 0.0178385\ttotal: 48.9s\tremaining: 3m 53s\n",
      "173:\tlearn: 0.0177726\ttotal: 49.3s\tremaining: 3m 53s\n",
      "174:\tlearn: 0.0177482\ttotal: 49.6s\tremaining: 3m 54s\n",
      "175:\tlearn: 0.0177350\ttotal: 50s\tremaining: 3m 53s\n",
      "176:\tlearn: 0.0177310\ttotal: 50.3s\tremaining: 3m 53s\n",
      "177:\tlearn: 0.0177176\ttotal: 50.6s\tremaining: 3m 53s\n",
      "178:\tlearn: 0.0177159\ttotal: 50.9s\tremaining: 3m 53s\n",
      "179:\tlearn: 0.0177085\ttotal: 51.2s\tremaining: 3m 53s\n",
      "180:\tlearn: 0.0177068\ttotal: 51.5s\tremaining: 3m 53s\n",
      "181:\tlearn: 0.0176870\ttotal: 51.9s\tremaining: 3m 53s\n",
      "182:\tlearn: 0.0176858\ttotal: 52.2s\tremaining: 3m 52s\n",
      "183:\tlearn: 0.0176533\ttotal: 52.5s\tremaining: 3m 53s\n",
      "184:\tlearn: 0.0176153\ttotal: 52.9s\tremaining: 3m 52s\n",
      "185:\tlearn: 0.0176125\ttotal: 53.2s\tremaining: 3m 52s\n",
      "186:\tlearn: 0.0175628\ttotal: 53.4s\tremaining: 3m 52s\n",
      "187:\tlearn: 0.0175601\ttotal: 53.7s\tremaining: 3m 52s\n",
      "188:\tlearn: 0.0175370\ttotal: 54s\tremaining: 3m 51s\n",
      "189:\tlearn: 0.0175128\ttotal: 54.3s\tremaining: 3m 51s\n",
      "190:\tlearn: 0.0175063\ttotal: 54.6s\tremaining: 3m 51s\n",
      "191:\tlearn: 0.0174845\ttotal: 54.9s\tremaining: 3m 51s\n",
      "192:\tlearn: 0.0174818\ttotal: 55.3s\tremaining: 3m 51s\n",
      "193:\tlearn: 0.0174740\ttotal: 55.6s\tremaining: 3m 50s\n",
      "194:\tlearn: 0.0174364\ttotal: 55.9s\tremaining: 3m 50s\n",
      "195:\tlearn: 0.0174092\ttotal: 56.2s\tremaining: 3m 50s\n",
      "196:\tlearn: 0.0173910\ttotal: 56.5s\tremaining: 3m 50s\n",
      "197:\tlearn: 0.0173808\ttotal: 56.8s\tremaining: 3m 50s\n",
      "198:\tlearn: 0.0173553\ttotal: 57.1s\tremaining: 3m 50s\n",
      "199:\tlearn: 0.0173532\ttotal: 57.5s\tremaining: 3m 49s\n",
      "200:\tlearn: 0.0173314\ttotal: 57.8s\tremaining: 3m 49s\n",
      "201:\tlearn: 0.0173034\ttotal: 58.1s\tremaining: 3m 49s\n",
      "202:\tlearn: 0.0172793\ttotal: 58.4s\tremaining: 3m 49s\n",
      "203:\tlearn: 0.0172271\ttotal: 58.8s\tremaining: 3m 49s\n",
      "204:\tlearn: 0.0172252\ttotal: 59.1s\tremaining: 3m 49s\n",
      "205:\tlearn: 0.0172111\ttotal: 59.3s\tremaining: 3m 48s\n",
      "206:\tlearn: 0.0171923\ttotal: 59.7s\tremaining: 3m 48s\n",
      "207:\tlearn: 0.0171858\ttotal: 1m\tremaining: 3m 48s\n",
      "208:\tlearn: 0.0171723\ttotal: 1m\tremaining: 3m 48s\n",
      "209:\tlearn: 0.0171646\ttotal: 1m\tremaining: 3m 47s\n",
      "210:\tlearn: 0.0171631\ttotal: 1m\tremaining: 3m 47s\n",
      "211:\tlearn: 0.0171479\ttotal: 1m 1s\tremaining: 3m 47s\n",
      "212:\tlearn: 0.0171467\ttotal: 1m 1s\tremaining: 3m 47s\n",
      "213:\tlearn: 0.0171181\ttotal: 1m 1s\tremaining: 3m 47s\n",
      "214:\tlearn: 0.0170862\ttotal: 1m 2s\tremaining: 3m 46s\n",
      "215:\tlearn: 0.0170653\ttotal: 1m 2s\tremaining: 3m 47s\n",
      "216:\tlearn: 0.0170575\ttotal: 1m 2s\tremaining: 3m 47s\n",
      "217:\tlearn: 0.0170341\ttotal: 1m 3s\tremaining: 3m 46s\n",
      "218:\tlearn: 0.0170263\ttotal: 1m 3s\tremaining: 3m 46s\n",
      "219:\tlearn: 0.0170167\ttotal: 1m 3s\tremaining: 3m 46s\n",
      "220:\tlearn: 0.0170090\ttotal: 1m 4s\tremaining: 3m 46s\n",
      "221:\tlearn: 0.0169916\ttotal: 1m 4s\tremaining: 3m 46s\n",
      "222:\tlearn: 0.0169863\ttotal: 1m 4s\tremaining: 3m 46s\n",
      "223:\tlearn: 0.0168854\ttotal: 1m 5s\tremaining: 3m 45s\n",
      "224:\tlearn: 0.0168624\ttotal: 1m 5s\tremaining: 3m 45s\n",
      "225:\tlearn: 0.0168540\ttotal: 1m 5s\tremaining: 3m 45s\n",
      "226:\tlearn: 0.0168524\ttotal: 1m 6s\tremaining: 3m 45s\n",
      "227:\tlearn: 0.0168465\ttotal: 1m 6s\tremaining: 3m 45s\n",
      "228:\tlearn: 0.0168338\ttotal: 1m 6s\tremaining: 3m 45s\n",
      "229:\tlearn: 0.0167836\ttotal: 1m 7s\tremaining: 3m 45s\n",
      "230:\tlearn: 0.0167819\ttotal: 1m 7s\tremaining: 3m 45s\n",
      "231:\tlearn: 0.0167773\ttotal: 1m 7s\tremaining: 3m 44s\n",
      "232:\tlearn: 0.0167701\ttotal: 1m 8s\tremaining: 3m 44s\n",
      "233:\tlearn: 0.0167633\ttotal: 1m 8s\tremaining: 3m 44s\n",
      "234:\tlearn: 0.0167605\ttotal: 1m 8s\tremaining: 3m 43s\n",
      "235:\tlearn: 0.0167539\ttotal: 1m 9s\tremaining: 3m 43s\n",
      "236:\tlearn: 0.0167492\ttotal: 1m 9s\tremaining: 3m 43s\n",
      "237:\tlearn: 0.0167433\ttotal: 1m 9s\tremaining: 3m 43s\n",
      "238:\tlearn: 0.0167276\ttotal: 1m 9s\tremaining: 3m 42s\n",
      "239:\tlearn: 0.0167206\ttotal: 1m 10s\tremaining: 3m 42s\n",
      "240:\tlearn: 0.0167051\ttotal: 1m 10s\tremaining: 3m 42s\n",
      "241:\tlearn: 0.0167007\ttotal: 1m 10s\tremaining: 3m 42s\n",
      "242:\tlearn: 0.0166914\ttotal: 1m 11s\tremaining: 3m 42s\n",
      "243:\tlearn: 0.0166846\ttotal: 1m 11s\tremaining: 3m 41s\n",
      "244:\tlearn: 0.0166809\ttotal: 1m 11s\tremaining: 3m 41s\n",
      "245:\tlearn: 0.0166733\ttotal: 1m 12s\tremaining: 3m 41s\n",
      "246:\tlearn: 0.0166654\ttotal: 1m 12s\tremaining: 3m 41s\n",
      "247:\tlearn: 0.0166630\ttotal: 1m 12s\tremaining: 3m 41s\n",
      "248:\tlearn: 0.0166467\ttotal: 1m 13s\tremaining: 3m 40s\n",
      "249:\tlearn: 0.0166422\ttotal: 1m 13s\tremaining: 3m 40s\n",
      "250:\tlearn: 0.0166310\ttotal: 1m 13s\tremaining: 3m 40s\n",
      "251:\tlearn: 0.0166227\ttotal: 1m 14s\tremaining: 3m 40s\n",
      "252:\tlearn: 0.0166212\ttotal: 1m 14s\tremaining: 3m 40s\n",
      "253:\tlearn: 0.0165964\ttotal: 1m 14s\tremaining: 3m 40s\n",
      "254:\tlearn: 0.0165891\ttotal: 1m 15s\tremaining: 3m 40s\n",
      "255:\tlearn: 0.0165793\ttotal: 1m 15s\tremaining: 3m 39s\n",
      "256:\tlearn: 0.0165774\ttotal: 1m 15s\tremaining: 3m 39s\n",
      "257:\tlearn: 0.0165719\ttotal: 1m 16s\tremaining: 3m 39s\n",
      "258:\tlearn: 0.0165628\ttotal: 1m 16s\tremaining: 3m 39s\n",
      "259:\tlearn: 0.0165564\ttotal: 1m 17s\tremaining: 3m 39s\n",
      "260:\tlearn: 0.0165428\ttotal: 1m 17s\tremaining: 3m 38s\n",
      "261:\tlearn: 0.0165419\ttotal: 1m 17s\tremaining: 3m 38s\n",
      "262:\tlearn: 0.0165378\ttotal: 1m 17s\tremaining: 3m 38s\n",
      "263:\tlearn: 0.0165359\ttotal: 1m 18s\tremaining: 3m 38s\n",
      "264:\tlearn: 0.0165207\ttotal: 1m 18s\tremaining: 3m 38s\n",
      "265:\tlearn: 0.0165176\ttotal: 1m 18s\tremaining: 3m 37s\n",
      "266:\tlearn: 0.0164958\ttotal: 1m 19s\tremaining: 3m 37s\n",
      "267:\tlearn: 0.0164811\ttotal: 1m 19s\tremaining: 3m 37s\n",
      "268:\tlearn: 0.0164556\ttotal: 1m 19s\tremaining: 3m 37s\n",
      "269:\tlearn: 0.0164465\ttotal: 1m 20s\tremaining: 3m 36s\n",
      "270:\tlearn: 0.0164276\ttotal: 1m 20s\tremaining: 3m 36s\n",
      "271:\tlearn: 0.0164183\ttotal: 1m 20s\tremaining: 3m 36s\n",
      "272:\tlearn: 0.0164134\ttotal: 1m 21s\tremaining: 3m 36s\n",
      "273:\tlearn: 0.0164067\ttotal: 1m 21s\tremaining: 3m 36s\n",
      "274:\tlearn: 0.0164026\ttotal: 1m 21s\tremaining: 3m 35s\n",
      "275:\tlearn: 0.0163927\ttotal: 1m 22s\tremaining: 3m 35s\n",
      "276:\tlearn: 0.0163871\ttotal: 1m 22s\tremaining: 3m 35s\n",
      "277:\tlearn: 0.0163799\ttotal: 1m 22s\tremaining: 3m 35s\n",
      "278:\tlearn: 0.0163714\ttotal: 1m 23s\tremaining: 3m 34s\n",
      "279:\tlearn: 0.0163560\ttotal: 1m 23s\tremaining: 3m 34s\n",
      "280:\tlearn: 0.0163360\ttotal: 1m 23s\tremaining: 3m 34s\n",
      "281:\tlearn: 0.0163345\ttotal: 1m 24s\tremaining: 3m 34s\n",
      "282:\tlearn: 0.0163258\ttotal: 1m 24s\tremaining: 3m 33s\n",
      "283:\tlearn: 0.0163117\ttotal: 1m 24s\tremaining: 3m 33s\n",
      "284:\tlearn: 0.0163108\ttotal: 1m 25s\tremaining: 3m 33s\n",
      "285:\tlearn: 0.0162647\ttotal: 1m 25s\tremaining: 3m 33s\n",
      "286:\tlearn: 0.0162344\ttotal: 1m 25s\tremaining: 3m 32s\n",
      "287:\tlearn: 0.0162009\ttotal: 1m 26s\tremaining: 3m 32s\n",
      "288:\tlearn: 0.0161695\ttotal: 1m 26s\tremaining: 3m 32s\n",
      "289:\tlearn: 0.0161642\ttotal: 1m 26s\tremaining: 3m 32s\n",
      "290:\tlearn: 0.0161602\ttotal: 1m 27s\tremaining: 3m 32s\n",
      "291:\tlearn: 0.0161480\ttotal: 1m 27s\tremaining: 3m 31s\n",
      "292:\tlearn: 0.0161196\ttotal: 1m 27s\tremaining: 3m 31s\n",
      "293:\tlearn: 0.0161183\ttotal: 1m 28s\tremaining: 3m 31s\n",
      "294:\tlearn: 0.0160998\ttotal: 1m 28s\tremaining: 3m 31s\n",
      "295:\tlearn: 0.0160927\ttotal: 1m 28s\tremaining: 3m 31s\n",
      "296:\tlearn: 0.0160878\ttotal: 1m 29s\tremaining: 3m 30s\n",
      "297:\tlearn: 0.0160778\ttotal: 1m 29s\tremaining: 3m 30s\n",
      "298:\tlearn: 0.0160703\ttotal: 1m 29s\tremaining: 3m 30s\n",
      "299:\tlearn: 0.0160591\ttotal: 1m 30s\tremaining: 3m 30s\n",
      "300:\tlearn: 0.0160533\ttotal: 1m 30s\tremaining: 3m 30s\n",
      "301:\tlearn: 0.0160357\ttotal: 1m 30s\tremaining: 3m 29s\n",
      "302:\tlearn: 0.0160252\ttotal: 1m 31s\tremaining: 3m 29s\n",
      "303:\tlearn: 0.0160202\ttotal: 1m 31s\tremaining: 3m 29s\n",
      "304:\tlearn: 0.0160100\ttotal: 1m 31s\tremaining: 3m 29s\n",
      "305:\tlearn: 0.0159985\ttotal: 1m 32s\tremaining: 3m 29s\n",
      "306:\tlearn: 0.0159742\ttotal: 1m 32s\tremaining: 3m 28s\n",
      "307:\tlearn: 0.0159622\ttotal: 1m 32s\tremaining: 3m 28s\n",
      "308:\tlearn: 0.0159407\ttotal: 1m 33s\tremaining: 3m 28s\n",
      "309:\tlearn: 0.0159342\ttotal: 1m 33s\tremaining: 3m 28s\n",
      "310:\tlearn: 0.0159148\ttotal: 1m 33s\tremaining: 3m 27s\n"
     ]
    },
    {
     "name": "stdout",
     "output_type": "stream",
     "text": [
      "311:\tlearn: 0.0159054\ttotal: 1m 34s\tremaining: 3m 27s\n",
      "312:\tlearn: 0.0158998\ttotal: 1m 34s\tremaining: 3m 27s\n",
      "313:\tlearn: 0.0158955\ttotal: 1m 34s\tremaining: 3m 27s\n",
      "314:\tlearn: 0.0158886\ttotal: 1m 35s\tremaining: 3m 27s\n",
      "315:\tlearn: 0.0158844\ttotal: 1m 35s\tremaining: 3m 27s\n",
      "316:\tlearn: 0.0158691\ttotal: 1m 35s\tremaining: 3m 26s\n",
      "317:\tlearn: 0.0158491\ttotal: 1m 36s\tremaining: 3m 26s\n",
      "318:\tlearn: 0.0158456\ttotal: 1m 36s\tremaining: 3m 26s\n",
      "319:\tlearn: 0.0158447\ttotal: 1m 36s\tremaining: 3m 25s\n",
      "320:\tlearn: 0.0158332\ttotal: 1m 37s\tremaining: 3m 25s\n",
      "321:\tlearn: 0.0158258\ttotal: 1m 37s\tremaining: 3m 25s\n",
      "322:\tlearn: 0.0157972\ttotal: 1m 37s\tremaining: 3m 25s\n",
      "323:\tlearn: 0.0157906\ttotal: 1m 38s\tremaining: 3m 25s\n",
      "324:\tlearn: 0.0157640\ttotal: 1m 38s\tremaining: 3m 24s\n",
      "325:\tlearn: 0.0157629\ttotal: 1m 38s\tremaining: 3m 24s\n",
      "326:\tlearn: 0.0157445\ttotal: 1m 39s\tremaining: 3m 24s\n",
      "327:\tlearn: 0.0157358\ttotal: 1m 39s\tremaining: 3m 24s\n",
      "328:\tlearn: 0.0157274\ttotal: 1m 39s\tremaining: 3m 23s\n",
      "329:\tlearn: 0.0157258\ttotal: 1m 40s\tremaining: 3m 23s\n",
      "330:\tlearn: 0.0157245\ttotal: 1m 40s\tremaining: 3m 23s\n",
      "331:\tlearn: 0.0157127\ttotal: 1m 40s\tremaining: 3m 22s\n",
      "332:\tlearn: 0.0156964\ttotal: 1m 41s\tremaining: 3m 22s\n",
      "333:\tlearn: 0.0156941\ttotal: 1m 41s\tremaining: 3m 22s\n",
      "334:\tlearn: 0.0156928\ttotal: 1m 41s\tremaining: 3m 22s\n",
      "335:\tlearn: 0.0156891\ttotal: 1m 42s\tremaining: 3m 21s\n",
      "336:\tlearn: 0.0156810\ttotal: 1m 42s\tremaining: 3m 21s\n",
      "337:\tlearn: 0.0156740\ttotal: 1m 42s\tremaining: 3m 21s\n",
      "338:\tlearn: 0.0156569\ttotal: 1m 42s\tremaining: 3m 20s\n",
      "339:\tlearn: 0.0156486\ttotal: 1m 43s\tremaining: 3m 20s\n",
      "340:\tlearn: 0.0156443\ttotal: 1m 43s\tremaining: 3m 20s\n",
      "341:\tlearn: 0.0156411\ttotal: 1m 44s\tremaining: 3m 20s\n",
      "342:\tlearn: 0.0156275\ttotal: 1m 44s\tremaining: 3m 19s\n",
      "343:\tlearn: 0.0156243\ttotal: 1m 44s\tremaining: 3m 19s\n",
      "344:\tlearn: 0.0156234\ttotal: 1m 44s\tremaining: 3m 19s\n",
      "345:\tlearn: 0.0155075\ttotal: 1m 45s\tremaining: 3m 18s\n",
      "346:\tlearn: 0.0154911\ttotal: 1m 45s\tremaining: 3m 18s\n",
      "347:\tlearn: 0.0154897\ttotal: 1m 45s\tremaining: 3m 18s\n",
      "348:\tlearn: 0.0154805\ttotal: 1m 46s\tremaining: 3m 18s\n",
      "349:\tlearn: 0.0154545\ttotal: 1m 46s\tremaining: 3m 18s\n",
      "350:\tlearn: 0.0154319\ttotal: 1m 47s\tremaining: 3m 17s\n",
      "351:\tlearn: 0.0154267\ttotal: 1m 47s\tremaining: 3m 17s\n",
      "352:\tlearn: 0.0154256\ttotal: 1m 47s\tremaining: 3m 17s\n",
      "353:\tlearn: 0.0154233\ttotal: 1m 48s\tremaining: 3m 17s\n",
      "354:\tlearn: 0.0154156\ttotal: 1m 48s\tremaining: 3m 16s\n",
      "355:\tlearn: 0.0154147\ttotal: 1m 48s\tremaining: 3m 16s\n",
      "356:\tlearn: 0.0154118\ttotal: 1m 48s\tremaining: 3m 16s\n",
      "357:\tlearn: 0.0154077\ttotal: 1m 49s\tremaining: 3m 16s\n",
      "358:\tlearn: 0.0153955\ttotal: 1m 49s\tremaining: 3m 15s\n",
      "359:\tlearn: 0.0153948\ttotal: 1m 49s\tremaining: 3m 15s\n",
      "360:\tlearn: 0.0153862\ttotal: 1m 50s\tremaining: 3m 15s\n",
      "361:\tlearn: 0.0153667\ttotal: 1m 50s\tremaining: 3m 14s\n",
      "362:\tlearn: 0.0153589\ttotal: 1m 50s\tremaining: 3m 14s\n",
      "363:\tlearn: 0.0153582\ttotal: 1m 51s\tremaining: 3m 14s\n",
      "364:\tlearn: 0.0153487\ttotal: 1m 51s\tremaining: 3m 14s\n",
      "365:\tlearn: 0.0153304\ttotal: 1m 52s\tremaining: 3m 14s\n",
      "366:\tlearn: 0.0153261\ttotal: 1m 52s\tremaining: 3m 14s\n",
      "367:\tlearn: 0.0153249\ttotal: 1m 52s\tremaining: 3m 13s\n",
      "368:\tlearn: 0.0153227\ttotal: 1m 53s\tremaining: 3m 13s\n",
      "369:\tlearn: 0.0153198\ttotal: 1m 53s\tremaining: 3m 13s\n",
      "370:\tlearn: 0.0153130\ttotal: 1m 53s\tremaining: 3m 12s\n",
      "371:\tlearn: 0.0153094\ttotal: 1m 54s\tremaining: 3m 12s\n",
      "372:\tlearn: 0.0153083\ttotal: 1m 54s\tremaining: 3m 12s\n",
      "373:\tlearn: 0.0152803\ttotal: 1m 54s\tremaining: 3m 12s\n",
      "374:\tlearn: 0.0152795\ttotal: 1m 55s\tremaining: 3m 12s\n",
      "375:\tlearn: 0.0152754\ttotal: 1m 55s\tremaining: 3m 11s\n",
      "376:\tlearn: 0.0152671\ttotal: 1m 55s\tremaining: 3m 11s\n",
      "377:\tlearn: 0.0152608\ttotal: 1m 56s\tremaining: 3m 11s\n",
      "378:\tlearn: 0.0152595\ttotal: 1m 56s\tremaining: 3m 10s\n",
      "379:\tlearn: 0.0152553\ttotal: 1m 56s\tremaining: 3m 10s\n",
      "380:\tlearn: 0.0152491\ttotal: 1m 57s\tremaining: 3m 10s\n",
      "381:\tlearn: 0.0152408\ttotal: 1m 57s\tremaining: 3m 10s\n",
      "382:\tlearn: 0.0152118\ttotal: 1m 57s\tremaining: 3m 9s\n",
      "383:\tlearn: 0.0152103\ttotal: 1m 58s\tremaining: 3m 9s\n",
      "384:\tlearn: 0.0152088\ttotal: 1m 58s\tremaining: 3m 9s\n",
      "385:\tlearn: 0.0152047\ttotal: 1m 58s\tremaining: 3m 8s\n",
      "386:\tlearn: 0.0151841\ttotal: 1m 59s\tremaining: 3m 8s\n",
      "387:\tlearn: 0.0151810\ttotal: 1m 59s\tremaining: 3m 8s\n",
      "388:\tlearn: 0.0151799\ttotal: 1m 59s\tremaining: 3m 8s\n",
      "389:\tlearn: 0.0151776\ttotal: 2m\tremaining: 3m 7s\n",
      "390:\tlearn: 0.0151606\ttotal: 2m\tremaining: 3m 7s\n",
      "391:\tlearn: 0.0151514\ttotal: 2m\tremaining: 3m 7s\n",
      "392:\tlearn: 0.0151468\ttotal: 2m 1s\tremaining: 3m 7s\n",
      "393:\tlearn: 0.0151439\ttotal: 2m 1s\tremaining: 3m 6s\n",
      "394:\tlearn: 0.0151337\ttotal: 2m 1s\tremaining: 3m 6s\n",
      "395:\tlearn: 0.0151271\ttotal: 2m 2s\tremaining: 3m 6s\n",
      "396:\tlearn: 0.0151265\ttotal: 2m 2s\tremaining: 3m 6s\n",
      "397:\tlearn: 0.0151196\ttotal: 2m 2s\tremaining: 3m 5s\n",
      "398:\tlearn: 0.0150971\ttotal: 2m 3s\tremaining: 3m 5s\n",
      "399:\tlearn: 0.0150965\ttotal: 2m 3s\tremaining: 3m 5s\n",
      "400:\tlearn: 0.0150921\ttotal: 2m 3s\tremaining: 3m 5s\n",
      "401:\tlearn: 0.0150897\ttotal: 2m 4s\tremaining: 3m 4s\n",
      "402:\tlearn: 0.0150861\ttotal: 2m 4s\tremaining: 3m 4s\n",
      "403:\tlearn: 0.0150770\ttotal: 2m 4s\tremaining: 3m 4s\n",
      "404:\tlearn: 0.0150705\ttotal: 2m 5s\tremaining: 3m 4s\n",
      "405:\tlearn: 0.0150636\ttotal: 2m 5s\tremaining: 3m 3s\n",
      "406:\tlearn: 0.0150612\ttotal: 2m 5s\tremaining: 3m 3s\n",
      "407:\tlearn: 0.0150598\ttotal: 2m 6s\tremaining: 3m 3s\n",
      "408:\tlearn: 0.0150525\ttotal: 2m 6s\tremaining: 3m 2s\n",
      "409:\tlearn: 0.0150385\ttotal: 2m 6s\tremaining: 3m 2s\n",
      "410:\tlearn: 0.0150329\ttotal: 2m 7s\tremaining: 3m 2s\n",
      "411:\tlearn: 0.0150318\ttotal: 2m 7s\tremaining: 3m 1s\n",
      "412:\tlearn: 0.0150307\ttotal: 2m 7s\tremaining: 3m 1s\n",
      "413:\tlearn: 0.0150299\ttotal: 2m 7s\tremaining: 3m 1s\n",
      "414:\tlearn: 0.0150290\ttotal: 2m 8s\tremaining: 3m\n",
      "415:\tlearn: 0.0150201\ttotal: 2m 8s\tremaining: 3m\n",
      "416:\tlearn: 0.0150165\ttotal: 2m 9s\tremaining: 3m\n",
      "417:\tlearn: 0.0150128\ttotal: 2m 9s\tremaining: 3m\n",
      "418:\tlearn: 0.0150121\ttotal: 2m 9s\tremaining: 2m 59s\n",
      "419:\tlearn: 0.0150049\ttotal: 2m 10s\tremaining: 2m 59s\n",
      "420:\tlearn: 0.0149969\ttotal: 2m 10s\tremaining: 2m 59s\n",
      "421:\tlearn: 0.0149911\ttotal: 2m 10s\tremaining: 2m 59s\n",
      "422:\tlearn: 0.0149816\ttotal: 2m 11s\tremaining: 2m 58s\n",
      "423:\tlearn: 0.0149802\ttotal: 2m 11s\tremaining: 2m 58s\n",
      "424:\tlearn: 0.0149775\ttotal: 2m 11s\tremaining: 2m 58s\n",
      "425:\tlearn: 0.0149757\ttotal: 2m 12s\tremaining: 2m 57s\n",
      "426:\tlearn: 0.0148290\ttotal: 2m 12s\tremaining: 2m 57s\n",
      "427:\tlearn: 0.0148234\ttotal: 2m 12s\tremaining: 2m 57s\n",
      "428:\tlearn: 0.0148025\ttotal: 2m 13s\tremaining: 2m 57s\n",
      "429:\tlearn: 0.0147873\ttotal: 2m 13s\tremaining: 2m 56s\n",
      "430:\tlearn: 0.0147638\ttotal: 2m 13s\tremaining: 2m 56s\n",
      "431:\tlearn: 0.0147410\ttotal: 2m 14s\tremaining: 2m 56s\n",
      "432:\tlearn: 0.0147376\ttotal: 2m 14s\tremaining: 2m 56s\n",
      "433:\tlearn: 0.0146950\ttotal: 2m 14s\tremaining: 2m 55s\n",
      "434:\tlearn: 0.0146785\ttotal: 2m 15s\tremaining: 2m 55s\n",
      "435:\tlearn: 0.0146687\ttotal: 2m 15s\tremaining: 2m 55s\n",
      "436:\tlearn: 0.0146601\ttotal: 2m 15s\tremaining: 2m 55s\n",
      "437:\tlearn: 0.0146578\ttotal: 2m 16s\tremaining: 2m 54s\n",
      "438:\tlearn: 0.0146475\ttotal: 2m 16s\tremaining: 2m 54s\n",
      "439:\tlearn: 0.0146397\ttotal: 2m 17s\tremaining: 2m 54s\n",
      "440:\tlearn: 0.0146333\ttotal: 2m 17s\tremaining: 2m 54s\n",
      "441:\tlearn: 0.0146315\ttotal: 2m 17s\tremaining: 2m 53s\n",
      "442:\tlearn: 0.0146271\ttotal: 2m 18s\tremaining: 2m 53s\n",
      "443:\tlearn: 0.0146200\ttotal: 2m 18s\tremaining: 2m 53s\n",
      "444:\tlearn: 0.0146134\ttotal: 2m 18s\tremaining: 2m 53s\n",
      "445:\tlearn: 0.0146081\ttotal: 2m 19s\tremaining: 2m 53s\n",
      "446:\tlearn: 0.0146013\ttotal: 2m 19s\tremaining: 2m 52s\n",
      "447:\tlearn: 0.0145818\ttotal: 2m 19s\tremaining: 2m 52s\n",
      "448:\tlearn: 0.0145794\ttotal: 2m 20s\tremaining: 2m 52s\n",
      "449:\tlearn: 0.0145745\ttotal: 2m 20s\tremaining: 2m 51s\n",
      "450:\tlearn: 0.0145694\ttotal: 2m 21s\tremaining: 2m 51s\n",
      "451:\tlearn: 0.0145603\ttotal: 2m 21s\tremaining: 2m 51s\n",
      "452:\tlearn: 0.0145457\ttotal: 2m 21s\tremaining: 2m 51s\n",
      "453:\tlearn: 0.0145418\ttotal: 2m 22s\tremaining: 2m 51s\n",
      "454:\tlearn: 0.0145382\ttotal: 2m 22s\tremaining: 2m 50s\n",
      "455:\tlearn: 0.0145320\ttotal: 2m 22s\tremaining: 2m 50s\n",
      "456:\tlearn: 0.0145289\ttotal: 2m 23s\tremaining: 2m 50s\n",
      "457:\tlearn: 0.0145195\ttotal: 2m 23s\tremaining: 2m 50s\n",
      "458:\tlearn: 0.0145126\ttotal: 2m 24s\tremaining: 2m 49s\n",
      "459:\tlearn: 0.0145050\ttotal: 2m 24s\tremaining: 2m 49s\n",
      "460:\tlearn: 0.0144951\ttotal: 2m 24s\tremaining: 2m 49s\n",
      "461:\tlearn: 0.0144875\ttotal: 2m 25s\tremaining: 2m 48s\n",
      "462:\tlearn: 0.0144655\ttotal: 2m 25s\tremaining: 2m 48s\n",
      "463:\tlearn: 0.0144646\ttotal: 2m 25s\tremaining: 2m 48s\n",
      "464:\tlearn: 0.0144520\ttotal: 2m 26s\tremaining: 2m 48s\n"
     ]
    },
    {
     "name": "stdout",
     "output_type": "stream",
     "text": [
      "465:\tlearn: 0.0144500\ttotal: 2m 26s\tremaining: 2m 48s\n",
      "466:\tlearn: 0.0144468\ttotal: 2m 27s\tremaining: 2m 47s\n",
      "467:\tlearn: 0.0144437\ttotal: 2m 27s\tremaining: 2m 47s\n",
      "468:\tlearn: 0.0144428\ttotal: 2m 27s\tremaining: 2m 47s\n",
      "469:\tlearn: 0.0144379\ttotal: 2m 28s\tremaining: 2m 47s\n",
      "470:\tlearn: 0.0144299\ttotal: 2m 28s\tremaining: 2m 46s\n",
      "471:\tlearn: 0.0144285\ttotal: 2m 28s\tremaining: 2m 46s\n",
      "472:\tlearn: 0.0144239\ttotal: 2m 29s\tremaining: 2m 46s\n",
      "473:\tlearn: 0.0144197\ttotal: 2m 29s\tremaining: 2m 45s\n",
      "474:\tlearn: 0.0144169\ttotal: 2m 29s\tremaining: 2m 45s\n",
      "475:\tlearn: 0.0144112\ttotal: 2m 30s\tremaining: 2m 45s\n",
      "476:\tlearn: 0.0144033\ttotal: 2m 30s\tremaining: 2m 45s\n",
      "477:\tlearn: 0.0143892\ttotal: 2m 30s\tremaining: 2m 44s\n",
      "478:\tlearn: 0.0143880\ttotal: 2m 31s\tremaining: 2m 44s\n",
      "479:\tlearn: 0.0143847\ttotal: 2m 31s\tremaining: 2m 44s\n",
      "480:\tlearn: 0.0143790\ttotal: 2m 32s\tremaining: 2m 44s\n",
      "481:\tlearn: 0.0143779\ttotal: 2m 32s\tremaining: 2m 43s\n",
      "482:\tlearn: 0.0143691\ttotal: 2m 32s\tremaining: 2m 43s\n",
      "483:\tlearn: 0.0143610\ttotal: 2m 32s\tremaining: 2m 43s\n",
      "484:\tlearn: 0.0143581\ttotal: 2m 33s\tremaining: 2m 42s\n",
      "485:\tlearn: 0.0143529\ttotal: 2m 33s\tremaining: 2m 42s\n",
      "486:\tlearn: 0.0143380\ttotal: 2m 33s\tremaining: 2m 42s\n",
      "487:\tlearn: 0.0143351\ttotal: 2m 34s\tremaining: 2m 41s\n",
      "488:\tlearn: 0.0143335\ttotal: 2m 34s\tremaining: 2m 41s\n",
      "489:\tlearn: 0.0143318\ttotal: 2m 35s\tremaining: 2m 41s\n",
      "490:\tlearn: 0.0143306\ttotal: 2m 35s\tremaining: 2m 41s\n",
      "491:\tlearn: 0.0143286\ttotal: 2m 35s\tremaining: 2m 40s\n",
      "492:\tlearn: 0.0143204\ttotal: 2m 36s\tremaining: 2m 40s\n",
      "493:\tlearn: 0.0143180\ttotal: 2m 36s\tremaining: 2m 40s\n",
      "494:\tlearn: 0.0143170\ttotal: 2m 36s\tremaining: 2m 39s\n",
      "495:\tlearn: 0.0143125\ttotal: 2m 37s\tremaining: 2m 39s\n",
      "496:\tlearn: 0.0143091\ttotal: 2m 37s\tremaining: 2m 39s\n",
      "497:\tlearn: 0.0143067\ttotal: 2m 37s\tremaining: 2m 39s\n",
      "498:\tlearn: 0.0143052\ttotal: 2m 38s\tremaining: 2m 38s\n",
      "499:\tlearn: 0.0142938\ttotal: 2m 38s\tremaining: 2m 38s\n",
      "500:\tlearn: 0.0142916\ttotal: 2m 39s\tremaining: 2m 38s\n",
      "501:\tlearn: 0.0142897\ttotal: 2m 39s\tremaining: 2m 38s\n",
      "502:\tlearn: 0.0142864\ttotal: 2m 39s\tremaining: 2m 37s\n",
      "503:\tlearn: 0.0142822\ttotal: 2m 39s\tremaining: 2m 37s\n",
      "504:\tlearn: 0.0142785\ttotal: 2m 40s\tremaining: 2m 37s\n",
      "505:\tlearn: 0.0142770\ttotal: 2m 40s\tremaining: 2m 36s\n",
      "506:\tlearn: 0.0142765\ttotal: 2m 41s\tremaining: 2m 36s\n",
      "507:\tlearn: 0.0142737\ttotal: 2m 41s\tremaining: 2m 36s\n",
      "508:\tlearn: 0.0142729\ttotal: 2m 41s\tremaining: 2m 35s\n",
      "509:\tlearn: 0.0142719\ttotal: 2m 42s\tremaining: 2m 35s\n",
      "510:\tlearn: 0.0142705\ttotal: 2m 42s\tremaining: 2m 35s\n",
      "511:\tlearn: 0.0142696\ttotal: 2m 42s\tremaining: 2m 35s\n",
      "512:\tlearn: 0.0142655\ttotal: 2m 43s\tremaining: 2m 34s\n",
      "513:\tlearn: 0.0142643\ttotal: 2m 43s\tremaining: 2m 34s\n",
      "514:\tlearn: 0.0142564\ttotal: 2m 43s\tremaining: 2m 34s\n",
      "515:\tlearn: 0.0142554\ttotal: 2m 44s\tremaining: 2m 34s\n",
      "516:\tlearn: 0.0142526\ttotal: 2m 44s\tremaining: 2m 33s\n",
      "517:\tlearn: 0.0142459\ttotal: 2m 44s\tremaining: 2m 33s\n",
      "518:\tlearn: 0.0142227\ttotal: 2m 45s\tremaining: 2m 33s\n",
      "519:\tlearn: 0.0142123\ttotal: 2m 45s\tremaining: 2m 32s\n",
      "520:\tlearn: 0.0141948\ttotal: 2m 45s\tremaining: 2m 32s\n",
      "521:\tlearn: 0.0141904\ttotal: 2m 46s\tremaining: 2m 32s\n",
      "522:\tlearn: 0.0141556\ttotal: 2m 46s\tremaining: 2m 32s\n",
      "523:\tlearn: 0.0141540\ttotal: 2m 47s\tremaining: 2m 31s\n",
      "524:\tlearn: 0.0141483\ttotal: 2m 47s\tremaining: 2m 31s\n",
      "525:\tlearn: 0.0141434\ttotal: 2m 47s\tremaining: 2m 31s\n",
      "526:\tlearn: 0.0141429\ttotal: 2m 48s\tremaining: 2m 30s\n",
      "527:\tlearn: 0.0141347\ttotal: 2m 48s\tremaining: 2m 30s\n",
      "528:\tlearn: 0.0141314\ttotal: 2m 48s\tremaining: 2m 30s\n",
      "529:\tlearn: 0.0141295\ttotal: 2m 49s\tremaining: 2m 30s\n",
      "530:\tlearn: 0.0141277\ttotal: 2m 49s\tremaining: 2m 29s\n",
      "531:\tlearn: 0.0141086\ttotal: 2m 50s\tremaining: 2m 29s\n",
      "532:\tlearn: 0.0141053\ttotal: 2m 50s\tremaining: 2m 29s\n",
      "533:\tlearn: 0.0141008\ttotal: 2m 50s\tremaining: 2m 29s\n",
      "534:\tlearn: 0.0140996\ttotal: 2m 51s\tremaining: 2m 28s\n",
      "535:\tlearn: 0.0140994\ttotal: 2m 51s\tremaining: 2m 28s\n",
      "536:\tlearn: 0.0140928\ttotal: 2m 51s\tremaining: 2m 28s\n",
      "537:\tlearn: 0.0140915\ttotal: 2m 52s\tremaining: 2m 27s\n",
      "538:\tlearn: 0.0140778\ttotal: 2m 52s\tremaining: 2m 27s\n",
      "539:\tlearn: 0.0140744\ttotal: 2m 52s\tremaining: 2m 27s\n",
      "540:\tlearn: 0.0140664\ttotal: 2m 53s\tremaining: 2m 26s\n",
      "541:\tlearn: 0.0140641\ttotal: 2m 53s\tremaining: 2m 26s\n",
      "542:\tlearn: 0.0140622\ttotal: 2m 53s\tremaining: 2m 26s\n",
      "543:\tlearn: 0.0140611\ttotal: 2m 53s\tremaining: 2m 25s\n",
      "544:\tlearn: 0.0140573\ttotal: 2m 54s\tremaining: 2m 25s\n",
      "545:\tlearn: 0.0140461\ttotal: 2m 54s\tremaining: 2m 25s\n",
      "546:\tlearn: 0.0140427\ttotal: 2m 54s\tremaining: 2m 24s\n",
      "547:\tlearn: 0.0140353\ttotal: 2m 55s\tremaining: 2m 24s\n",
      "548:\tlearn: 0.0140338\ttotal: 2m 55s\tremaining: 2m 24s\n",
      "549:\tlearn: 0.0140200\ttotal: 2m 55s\tremaining: 2m 23s\n",
      "550:\tlearn: 0.0140106\ttotal: 2m 56s\tremaining: 2m 23s\n",
      "551:\tlearn: 0.0140070\ttotal: 2m 56s\tremaining: 2m 23s\n",
      "552:\tlearn: 0.0140059\ttotal: 2m 56s\tremaining: 2m 23s\n",
      "553:\tlearn: 0.0140028\ttotal: 2m 57s\tremaining: 2m 22s\n",
      "554:\tlearn: 0.0140019\ttotal: 2m 57s\tremaining: 2m 22s\n",
      "555:\tlearn: 0.0139866\ttotal: 2m 57s\tremaining: 2m 22s\n",
      "556:\tlearn: 0.0139860\ttotal: 2m 58s\tremaining: 2m 21s\n",
      "557:\tlearn: 0.0139698\ttotal: 2m 58s\tremaining: 2m 21s\n",
      "558:\tlearn: 0.0139632\ttotal: 2m 58s\tremaining: 2m 21s\n",
      "559:\tlearn: 0.0139518\ttotal: 2m 59s\tremaining: 2m 20s\n",
      "560:\tlearn: 0.0139489\ttotal: 2m 59s\tremaining: 2m 20s\n",
      "561:\tlearn: 0.0139467\ttotal: 2m 59s\tremaining: 2m 20s\n",
      "562:\tlearn: 0.0139333\ttotal: 3m\tremaining: 2m 19s\n",
      "563:\tlearn: 0.0139298\ttotal: 3m\tremaining: 2m 19s\n",
      "564:\tlearn: 0.0139198\ttotal: 3m\tremaining: 2m 19s\n",
      "565:\tlearn: 0.0139165\ttotal: 3m 1s\tremaining: 2m 19s\n",
      "566:\tlearn: 0.0139132\ttotal: 3m 1s\tremaining: 2m 18s\n",
      "567:\tlearn: 0.0139029\ttotal: 3m 1s\tremaining: 2m 18s\n",
      "568:\tlearn: 0.0138915\ttotal: 3m 2s\tremaining: 2m 18s\n",
      "569:\tlearn: 0.0138861\ttotal: 3m 2s\tremaining: 2m 17s\n",
      "570:\tlearn: 0.0138795\ttotal: 3m 2s\tremaining: 2m 17s\n",
      "571:\tlearn: 0.0138689\ttotal: 3m 3s\tremaining: 2m 17s\n",
      "572:\tlearn: 0.0138674\ttotal: 3m 3s\tremaining: 2m 16s\n",
      "573:\tlearn: 0.0138669\ttotal: 3m 3s\tremaining: 2m 16s\n",
      "574:\tlearn: 0.0138648\ttotal: 3m 4s\tremaining: 2m 16s\n",
      "575:\tlearn: 0.0138612\ttotal: 3m 4s\tremaining: 2m 15s\n",
      "576:\tlearn: 0.0138439\ttotal: 3m 4s\tremaining: 2m 15s\n",
      "577:\tlearn: 0.0138362\ttotal: 3m 5s\tremaining: 2m 15s\n",
      "578:\tlearn: 0.0138277\ttotal: 3m 5s\tremaining: 2m 14s\n",
      "579:\tlearn: 0.0138257\ttotal: 3m 5s\tremaining: 2m 14s\n",
      "580:\tlearn: 0.0138179\ttotal: 3m 6s\tremaining: 2m 14s\n",
      "581:\tlearn: 0.0138174\ttotal: 3m 6s\tremaining: 2m 13s\n",
      "582:\tlearn: 0.0138142\ttotal: 3m 6s\tremaining: 2m 13s\n",
      "583:\tlearn: 0.0138101\ttotal: 3m 7s\tremaining: 2m 13s\n",
      "584:\tlearn: 0.0138009\ttotal: 3m 7s\tremaining: 2m 12s\n",
      "585:\tlearn: 0.0137996\ttotal: 3m 7s\tremaining: 2m 12s\n",
      "586:\tlearn: 0.0137961\ttotal: 3m 8s\tremaining: 2m 12s\n",
      "587:\tlearn: 0.0137795\ttotal: 3m 8s\tremaining: 2m 11s\n",
      "588:\tlearn: 0.0137693\ttotal: 3m 8s\tremaining: 2m 11s\n",
      "589:\tlearn: 0.0137524\ttotal: 3m 8s\tremaining: 2m 11s\n",
      "590:\tlearn: 0.0137455\ttotal: 3m 9s\tremaining: 2m 10s\n",
      "591:\tlearn: 0.0137386\ttotal: 3m 9s\tremaining: 2m 10s\n",
      "592:\tlearn: 0.0137264\ttotal: 3m 10s\tremaining: 2m 10s\n",
      "593:\tlearn: 0.0137196\ttotal: 3m 10s\tremaining: 2m 10s\n",
      "594:\tlearn: 0.0136883\ttotal: 3m 10s\tremaining: 2m 9s\n",
      "595:\tlearn: 0.0136870\ttotal: 3m 11s\tremaining: 2m 9s\n",
      "596:\tlearn: 0.0136852\ttotal: 3m 11s\tremaining: 2m 9s\n",
      "597:\tlearn: 0.0136839\ttotal: 3m 11s\tremaining: 2m 8s\n",
      "598:\tlearn: 0.0136750\ttotal: 3m 12s\tremaining: 2m 8s\n",
      "599:\tlearn: 0.0136654\ttotal: 3m 12s\tremaining: 2m 8s\n",
      "600:\tlearn: 0.0136642\ttotal: 3m 12s\tremaining: 2m 8s\n",
      "601:\tlearn: 0.0136617\ttotal: 3m 13s\tremaining: 2m 7s\n",
      "602:\tlearn: 0.0136597\ttotal: 3m 13s\tremaining: 2m 7s\n",
      "603:\tlearn: 0.0136580\ttotal: 3m 13s\tremaining: 2m 7s\n",
      "604:\tlearn: 0.0136549\ttotal: 3m 14s\tremaining: 2m 6s\n",
      "605:\tlearn: 0.0136542\ttotal: 3m 14s\tremaining: 2m 6s\n",
      "606:\tlearn: 0.0136529\ttotal: 3m 15s\tremaining: 2m 6s\n",
      "607:\tlearn: 0.0136519\ttotal: 3m 15s\tremaining: 2m 5s\n",
      "608:\tlearn: 0.0136359\ttotal: 3m 15s\tremaining: 2m 5s\n",
      "609:\tlearn: 0.0136336\ttotal: 3m 15s\tremaining: 2m 5s\n",
      "610:\tlearn: 0.0136322\ttotal: 3m 16s\tremaining: 2m 4s\n",
      "611:\tlearn: 0.0136221\ttotal: 3m 16s\tremaining: 2m 4s\n",
      "612:\tlearn: 0.0136186\ttotal: 3m 16s\tremaining: 2m 4s\n",
      "613:\tlearn: 0.0136179\ttotal: 3m 17s\tremaining: 2m 4s\n",
      "614:\tlearn: 0.0136096\ttotal: 3m 17s\tremaining: 2m 3s\n",
      "615:\tlearn: 0.0136039\ttotal: 3m 18s\tremaining: 2m 3s\n",
      "616:\tlearn: 0.0135809\ttotal: 3m 18s\tremaining: 2m 3s\n",
      "617:\tlearn: 0.0135807\ttotal: 3m 18s\tremaining: 2m 2s\n"
     ]
    },
    {
     "name": "stdout",
     "output_type": "stream",
     "text": [
      "618:\tlearn: 0.0135785\ttotal: 3m 19s\tremaining: 2m 2s\n",
      "619:\tlearn: 0.0135756\ttotal: 3m 19s\tremaining: 2m 2s\n",
      "620:\tlearn: 0.0135719\ttotal: 3m 19s\tremaining: 2m 1s\n",
      "621:\tlearn: 0.0135700\ttotal: 3m 20s\tremaining: 2m 1s\n",
      "622:\tlearn: 0.0135677\ttotal: 3m 20s\tremaining: 2m 1s\n",
      "623:\tlearn: 0.0135528\ttotal: 3m 20s\tremaining: 2m\n",
      "624:\tlearn: 0.0135507\ttotal: 3m 21s\tremaining: 2m\n",
      "625:\tlearn: 0.0135414\ttotal: 3m 21s\tremaining: 2m\n",
      "626:\tlearn: 0.0135381\ttotal: 3m 21s\tremaining: 1m 59s\n",
      "627:\tlearn: 0.0135378\ttotal: 3m 21s\tremaining: 1m 59s\n",
      "628:\tlearn: 0.0135366\ttotal: 3m 22s\tremaining: 1m 59s\n",
      "629:\tlearn: 0.0135357\ttotal: 3m 22s\tremaining: 1m 59s\n",
      "630:\tlearn: 0.0135148\ttotal: 3m 22s\tremaining: 1m 58s\n",
      "631:\tlearn: 0.0135120\ttotal: 3m 23s\tremaining: 1m 58s\n",
      "632:\tlearn: 0.0134989\ttotal: 3m 23s\tremaining: 1m 58s\n",
      "633:\tlearn: 0.0134978\ttotal: 3m 23s\tremaining: 1m 57s\n",
      "634:\tlearn: 0.0134933\ttotal: 3m 24s\tremaining: 1m 57s\n",
      "635:\tlearn: 0.0134897\ttotal: 3m 24s\tremaining: 1m 57s\n",
      "636:\tlearn: 0.0134849\ttotal: 3m 24s\tremaining: 1m 56s\n",
      "637:\tlearn: 0.0134811\ttotal: 3m 25s\tremaining: 1m 56s\n",
      "638:\tlearn: 0.0134805\ttotal: 3m 25s\tremaining: 1m 56s\n",
      "639:\tlearn: 0.0134758\ttotal: 3m 25s\tremaining: 1m 55s\n",
      "640:\tlearn: 0.0134689\ttotal: 3m 26s\tremaining: 1m 55s\n",
      "641:\tlearn: 0.0134548\ttotal: 3m 26s\tremaining: 1m 55s\n",
      "642:\tlearn: 0.0134463\ttotal: 3m 26s\tremaining: 1m 54s\n",
      "643:\tlearn: 0.0134333\ttotal: 3m 27s\tremaining: 1m 54s\n",
      "644:\tlearn: 0.0134309\ttotal: 3m 27s\tremaining: 1m 54s\n",
      "645:\tlearn: 0.0134192\ttotal: 3m 27s\tremaining: 1m 53s\n",
      "646:\tlearn: 0.0134116\ttotal: 3m 28s\tremaining: 1m 53s\n",
      "647:\tlearn: 0.0134043\ttotal: 3m 28s\tremaining: 1m 53s\n",
      "648:\tlearn: 0.0133915\ttotal: 3m 28s\tremaining: 1m 52s\n",
      "649:\tlearn: 0.0133840\ttotal: 3m 29s\tremaining: 1m 52s\n",
      "650:\tlearn: 0.0133800\ttotal: 3m 29s\tremaining: 1m 52s\n",
      "651:\tlearn: 0.0133766\ttotal: 3m 29s\tremaining: 1m 52s\n",
      "652:\tlearn: 0.0133732\ttotal: 3m 30s\tremaining: 1m 51s\n",
      "653:\tlearn: 0.0133726\ttotal: 3m 30s\tremaining: 1m 51s\n",
      "654:\tlearn: 0.0133714\ttotal: 3m 31s\tremaining: 1m 51s\n",
      "655:\tlearn: 0.0133613\ttotal: 3m 31s\tremaining: 1m 50s\n",
      "656:\tlearn: 0.0133537\ttotal: 3m 31s\tremaining: 1m 50s\n",
      "657:\tlearn: 0.0133513\ttotal: 3m 32s\tremaining: 1m 50s\n",
      "658:\tlearn: 0.0133497\ttotal: 3m 32s\tremaining: 1m 49s\n",
      "659:\tlearn: 0.0133470\ttotal: 3m 32s\tremaining: 1m 49s\n",
      "660:\tlearn: 0.0133457\ttotal: 3m 33s\tremaining: 1m 49s\n",
      "661:\tlearn: 0.0133417\ttotal: 3m 33s\tremaining: 1m 48s\n",
      "662:\tlearn: 0.0133380\ttotal: 3m 33s\tremaining: 1m 48s\n",
      "663:\tlearn: 0.0133328\ttotal: 3m 34s\tremaining: 1m 48s\n",
      "664:\tlearn: 0.0133297\ttotal: 3m 34s\tremaining: 1m 48s\n",
      "665:\tlearn: 0.0133283\ttotal: 3m 34s\tremaining: 1m 47s\n",
      "666:\tlearn: 0.0133267\ttotal: 3m 35s\tremaining: 1m 47s\n",
      "667:\tlearn: 0.0133261\ttotal: 3m 35s\tremaining: 1m 47s\n",
      "668:\tlearn: 0.0133206\ttotal: 3m 35s\tremaining: 1m 46s\n",
      "669:\tlearn: 0.0133204\ttotal: 3m 36s\tremaining: 1m 46s\n",
      "670:\tlearn: 0.0132934\ttotal: 3m 36s\tremaining: 1m 46s\n",
      "671:\tlearn: 0.0132928\ttotal: 3m 36s\tremaining: 1m 45s\n",
      "672:\tlearn: 0.0132883\ttotal: 3m 37s\tremaining: 1m 45s\n",
      "673:\tlearn: 0.0132793\ttotal: 3m 37s\tremaining: 1m 45s\n",
      "674:\tlearn: 0.0132753\ttotal: 3m 37s\tremaining: 1m 44s\n",
      "675:\tlearn: 0.0132725\ttotal: 3m 38s\tremaining: 1m 44s\n",
      "676:\tlearn: 0.0132648\ttotal: 3m 38s\tremaining: 1m 44s\n",
      "677:\tlearn: 0.0132642\ttotal: 3m 38s\tremaining: 1m 43s\n",
      "678:\tlearn: 0.0132619\ttotal: 3m 39s\tremaining: 1m 43s\n",
      "679:\tlearn: 0.0132504\ttotal: 3m 39s\tremaining: 1m 43s\n",
      "680:\tlearn: 0.0132491\ttotal: 3m 39s\tremaining: 1m 42s\n",
      "681:\tlearn: 0.0132401\ttotal: 3m 40s\tremaining: 1m 42s\n",
      "682:\tlearn: 0.0132331\ttotal: 3m 40s\tremaining: 1m 42s\n",
      "683:\tlearn: 0.0132301\ttotal: 3m 40s\tremaining: 1m 41s\n",
      "684:\tlearn: 0.0132237\ttotal: 3m 40s\tremaining: 1m 41s\n",
      "685:\tlearn: 0.0132089\ttotal: 3m 41s\tremaining: 1m 41s\n",
      "686:\tlearn: 0.0132081\ttotal: 3m 41s\tremaining: 1m 40s\n",
      "687:\tlearn: 0.0132054\ttotal: 3m 41s\tremaining: 1m 40s\n",
      "688:\tlearn: 0.0131898\ttotal: 3m 42s\tremaining: 1m 40s\n",
      "689:\tlearn: 0.0131890\ttotal: 3m 42s\tremaining: 1m 40s\n",
      "690:\tlearn: 0.0131874\ttotal: 3m 42s\tremaining: 1m 39s\n",
      "691:\tlearn: 0.0131733\ttotal: 3m 43s\tremaining: 1m 39s\n",
      "692:\tlearn: 0.0131676\ttotal: 3m 43s\tremaining: 1m 39s\n",
      "693:\tlearn: 0.0131672\ttotal: 3m 44s\tremaining: 1m 38s\n",
      "694:\tlearn: 0.0131668\ttotal: 3m 44s\tremaining: 1m 38s\n",
      "695:\tlearn: 0.0131568\ttotal: 3m 44s\tremaining: 1m 38s\n",
      "696:\tlearn: 0.0131563\ttotal: 3m 45s\tremaining: 1m 37s\n",
      "697:\tlearn: 0.0131498\ttotal: 3m 45s\tremaining: 1m 37s\n",
      "698:\tlearn: 0.0131455\ttotal: 3m 45s\tremaining: 1m 37s\n",
      "699:\tlearn: 0.0131396\ttotal: 3m 46s\tremaining: 1m 36s\n",
      "700:\tlearn: 0.0131344\ttotal: 3m 46s\tremaining: 1m 36s\n",
      "701:\tlearn: 0.0131205\ttotal: 3m 46s\tremaining: 1m 36s\n",
      "702:\tlearn: 0.0131116\ttotal: 3m 47s\tremaining: 1m 35s\n",
      "703:\tlearn: 0.0131051\ttotal: 3m 47s\tremaining: 1m 35s\n",
      "704:\tlearn: 0.0131043\ttotal: 3m 47s\tremaining: 1m 35s\n",
      "705:\tlearn: 0.0131003\ttotal: 3m 48s\tremaining: 1m 35s\n",
      "706:\tlearn: 0.0130948\ttotal: 3m 48s\tremaining: 1m 34s\n",
      "707:\tlearn: 0.0130874\ttotal: 3m 48s\tremaining: 1m 34s\n",
      "708:\tlearn: 0.0130864\ttotal: 3m 49s\tremaining: 1m 34s\n",
      "709:\tlearn: 0.0130670\ttotal: 3m 49s\tremaining: 1m 33s\n",
      "710:\tlearn: 0.0130648\ttotal: 3m 49s\tremaining: 1m 33s\n",
      "711:\tlearn: 0.0130641\ttotal: 3m 50s\tremaining: 1m 33s\n",
      "712:\tlearn: 0.0130610\ttotal: 3m 50s\tremaining: 1m 32s\n",
      "713:\tlearn: 0.0130530\ttotal: 3m 50s\tremaining: 1m 32s\n",
      "714:\tlearn: 0.0130481\ttotal: 3m 51s\tremaining: 1m 32s\n",
      "715:\tlearn: 0.0130339\ttotal: 3m 51s\tremaining: 1m 31s\n",
      "716:\tlearn: 0.0130291\ttotal: 3m 51s\tremaining: 1m 31s\n",
      "717:\tlearn: 0.0130249\ttotal: 3m 52s\tremaining: 1m 31s\n",
      "718:\tlearn: 0.0130159\ttotal: 3m 52s\tremaining: 1m 30s\n",
      "719:\tlearn: 0.0130121\ttotal: 3m 52s\tremaining: 1m 30s\n",
      "720:\tlearn: 0.0130101\ttotal: 3m 53s\tremaining: 1m 30s\n",
      "721:\tlearn: 0.0130044\ttotal: 3m 53s\tremaining: 1m 29s\n",
      "722:\tlearn: 0.0129985\ttotal: 3m 53s\tremaining: 1m 29s\n",
      "723:\tlearn: 0.0129969\ttotal: 3m 54s\tremaining: 1m 29s\n",
      "724:\tlearn: 0.0129962\ttotal: 3m 54s\tremaining: 1m 28s\n",
      "725:\tlearn: 0.0129955\ttotal: 3m 54s\tremaining: 1m 28s\n",
      "726:\tlearn: 0.0129918\ttotal: 3m 55s\tremaining: 1m 28s\n",
      "727:\tlearn: 0.0129837\ttotal: 3m 55s\tremaining: 1m 28s\n",
      "728:\tlearn: 0.0129709\ttotal: 3m 56s\tremaining: 1m 27s\n",
      "729:\tlearn: 0.0129693\ttotal: 3m 56s\tremaining: 1m 27s\n",
      "730:\tlearn: 0.0129679\ttotal: 3m 56s\tremaining: 1m 27s\n",
      "731:\tlearn: 0.0129639\ttotal: 3m 57s\tremaining: 1m 26s\n",
      "732:\tlearn: 0.0129634\ttotal: 3m 57s\tremaining: 1m 26s\n",
      "733:\tlearn: 0.0129535\ttotal: 3m 57s\tremaining: 1m 26s\n",
      "734:\tlearn: 0.0129506\ttotal: 3m 58s\tremaining: 1m 25s\n",
      "735:\tlearn: 0.0129270\ttotal: 3m 58s\tremaining: 1m 25s\n",
      "736:\tlearn: 0.0129262\ttotal: 3m 58s\tremaining: 1m 25s\n",
      "737:\tlearn: 0.0129099\ttotal: 3m 59s\tremaining: 1m 24s\n",
      "738:\tlearn: 0.0129020\ttotal: 3m 59s\tremaining: 1m 24s\n",
      "739:\tlearn: 0.0128986\ttotal: 4m\tremaining: 1m 24s\n",
      "740:\tlearn: 0.0128675\ttotal: 4m\tremaining: 1m 24s\n",
      "741:\tlearn: 0.0128640\ttotal: 4m\tremaining: 1m 23s\n",
      "742:\tlearn: 0.0128628\ttotal: 4m 1s\tremaining: 1m 23s\n",
      "743:\tlearn: 0.0128550\ttotal: 4m 1s\tremaining: 1m 23s\n",
      "744:\tlearn: 0.0128522\ttotal: 4m 1s\tremaining: 1m 22s\n",
      "745:\tlearn: 0.0128488\ttotal: 4m 2s\tremaining: 1m 22s\n",
      "746:\tlearn: 0.0128438\ttotal: 4m 2s\tremaining: 1m 22s\n",
      "747:\tlearn: 0.0128378\ttotal: 4m 2s\tremaining: 1m 21s\n",
      "748:\tlearn: 0.0128202\ttotal: 4m 3s\tremaining: 1m 21s\n",
      "749:\tlearn: 0.0128168\ttotal: 4m 3s\tremaining: 1m 21s\n",
      "750:\tlearn: 0.0128142\ttotal: 4m 3s\tremaining: 1m 20s\n",
      "751:\tlearn: 0.0127924\ttotal: 4m 4s\tremaining: 1m 20s\n",
      "752:\tlearn: 0.0127668\ttotal: 4m 4s\tremaining: 1m 20s\n",
      "753:\tlearn: 0.0127655\ttotal: 4m 4s\tremaining: 1m 19s\n",
      "754:\tlearn: 0.0127185\ttotal: 4m 5s\tremaining: 1m 19s\n",
      "755:\tlearn: 0.0127047\ttotal: 4m 5s\tremaining: 1m 19s\n",
      "756:\tlearn: 0.0126912\ttotal: 4m 5s\tremaining: 1m 18s\n",
      "757:\tlearn: 0.0126792\ttotal: 4m 6s\tremaining: 1m 18s\n",
      "758:\tlearn: 0.0126708\ttotal: 4m 6s\tremaining: 1m 18s\n",
      "759:\tlearn: 0.0126649\ttotal: 4m 6s\tremaining: 1m 17s\n",
      "760:\tlearn: 0.0126615\ttotal: 4m 7s\tremaining: 1m 17s\n",
      "761:\tlearn: 0.0126331\ttotal: 4m 7s\tremaining: 1m 17s\n",
      "762:\tlearn: 0.0126054\ttotal: 4m 7s\tremaining: 1m 16s\n",
      "763:\tlearn: 0.0126031\ttotal: 4m 8s\tremaining: 1m 16s\n",
      "764:\tlearn: 0.0125885\ttotal: 4m 8s\tremaining: 1m 16s\n",
      "765:\tlearn: 0.0125865\ttotal: 4m 8s\tremaining: 1m 16s\n",
      "766:\tlearn: 0.0125632\ttotal: 4m 9s\tremaining: 1m 15s\n",
      "767:\tlearn: 0.0125603\ttotal: 4m 9s\tremaining: 1m 15s\n",
      "768:\tlearn: 0.0125493\ttotal: 4m 9s\tremaining: 1m 15s\n",
      "769:\tlearn: 0.0125469\ttotal: 4m 10s\tremaining: 1m 14s\n",
      "770:\tlearn: 0.0125452\ttotal: 4m 10s\tremaining: 1m 14s\n"
     ]
    },
    {
     "name": "stdout",
     "output_type": "stream",
     "text": [
      "771:\tlearn: 0.0125416\ttotal: 4m 10s\tremaining: 1m 14s\n",
      "772:\tlearn: 0.0125412\ttotal: 4m 11s\tremaining: 1m 13s\n",
      "773:\tlearn: 0.0125369\ttotal: 4m 11s\tremaining: 1m 13s\n",
      "774:\tlearn: 0.0125290\ttotal: 4m 12s\tremaining: 1m 13s\n",
      "775:\tlearn: 0.0124951\ttotal: 4m 12s\tremaining: 1m 12s\n",
      "776:\tlearn: 0.0124867\ttotal: 4m 12s\tremaining: 1m 12s\n",
      "777:\tlearn: 0.0124843\ttotal: 4m 13s\tremaining: 1m 12s\n",
      "778:\tlearn: 0.0124796\ttotal: 4m 13s\tremaining: 1m 11s\n",
      "779:\tlearn: 0.0124698\ttotal: 4m 13s\tremaining: 1m 11s\n",
      "780:\tlearn: 0.0124664\ttotal: 4m 14s\tremaining: 1m 11s\n",
      "781:\tlearn: 0.0124647\ttotal: 4m 14s\tremaining: 1m 10s\n",
      "782:\tlearn: 0.0124474\ttotal: 4m 15s\tremaining: 1m 10s\n",
      "783:\tlearn: 0.0124458\ttotal: 4m 15s\tremaining: 1m 10s\n",
      "784:\tlearn: 0.0124380\ttotal: 4m 15s\tremaining: 1m 10s\n",
      "785:\tlearn: 0.0124368\ttotal: 4m 16s\tremaining: 1m 9s\n",
      "786:\tlearn: 0.0124084\ttotal: 4m 16s\tremaining: 1m 9s\n",
      "787:\tlearn: 0.0124054\ttotal: 4m 16s\tremaining: 1m 9s\n",
      "788:\tlearn: 0.0123989\ttotal: 4m 17s\tremaining: 1m 8s\n",
      "789:\tlearn: 0.0123782\ttotal: 4m 17s\tremaining: 1m 8s\n",
      "790:\tlearn: 0.0123741\ttotal: 4m 17s\tremaining: 1m 8s\n",
      "791:\tlearn: 0.0123728\ttotal: 4m 18s\tremaining: 1m 7s\n",
      "792:\tlearn: 0.0123703\ttotal: 4m 18s\tremaining: 1m 7s\n",
      "793:\tlearn: 0.0123665\ttotal: 4m 18s\tremaining: 1m 7s\n",
      "794:\tlearn: 0.0123621\ttotal: 4m 19s\tremaining: 1m 6s\n",
      "795:\tlearn: 0.0123469\ttotal: 4m 19s\tremaining: 1m 6s\n",
      "796:\tlearn: 0.0123431\ttotal: 4m 19s\tremaining: 1m 6s\n",
      "797:\tlearn: 0.0123360\ttotal: 4m 20s\tremaining: 1m 5s\n",
      "798:\tlearn: 0.0123322\ttotal: 4m 20s\tremaining: 1m 5s\n",
      "799:\tlearn: 0.0123189\ttotal: 4m 21s\tremaining: 1m 5s\n",
      "800:\tlearn: 0.0123166\ttotal: 4m 21s\tremaining: 1m 4s\n",
      "801:\tlearn: 0.0123076\ttotal: 4m 21s\tremaining: 1m 4s\n",
      "802:\tlearn: 0.0123054\ttotal: 4m 22s\tremaining: 1m 4s\n",
      "803:\tlearn: 0.0122884\ttotal: 4m 22s\tremaining: 1m 3s\n",
      "804:\tlearn: 0.0122660\ttotal: 4m 22s\tremaining: 1m 3s\n",
      "805:\tlearn: 0.0122635\ttotal: 4m 23s\tremaining: 1m 3s\n",
      "806:\tlearn: 0.0122598\ttotal: 4m 23s\tremaining: 1m 2s\n",
      "807:\tlearn: 0.0122578\ttotal: 4m 23s\tremaining: 1m 2s\n",
      "808:\tlearn: 0.0122564\ttotal: 4m 24s\tremaining: 1m 2s\n",
      "809:\tlearn: 0.0122496\ttotal: 4m 24s\tremaining: 1m 2s\n",
      "810:\tlearn: 0.0122457\ttotal: 4m 24s\tremaining: 1m 1s\n",
      "811:\tlearn: 0.0122272\ttotal: 4m 25s\tremaining: 1m 1s\n",
      "812:\tlearn: 0.0122244\ttotal: 4m 25s\tremaining: 1m 1s\n",
      "813:\tlearn: 0.0122220\ttotal: 4m 25s\tremaining: 1m\n",
      "814:\tlearn: 0.0122192\ttotal: 4m 26s\tremaining: 1m\n",
      "815:\tlearn: 0.0122125\ttotal: 4m 26s\tremaining: 1m\n",
      "816:\tlearn: 0.0122074\ttotal: 4m 26s\tremaining: 59.7s\n",
      "817:\tlearn: 0.0122072\ttotal: 4m 27s\tremaining: 59.4s\n",
      "818:\tlearn: 0.0122031\ttotal: 4m 27s\tremaining: 59.1s\n",
      "819:\tlearn: 0.0121994\ttotal: 4m 27s\tremaining: 58.8s\n",
      "820:\tlearn: 0.0121956\ttotal: 4m 28s\tremaining: 58.5s\n",
      "821:\tlearn: 0.0121820\ttotal: 4m 28s\tremaining: 58.2s\n",
      "822:\tlearn: 0.0121641\ttotal: 4m 28s\tremaining: 57.8s\n",
      "823:\tlearn: 0.0121636\ttotal: 4m 29s\tremaining: 57.5s\n",
      "824:\tlearn: 0.0121624\ttotal: 4m 29s\tremaining: 57.2s\n",
      "825:\tlearn: 0.0121463\ttotal: 4m 30s\tremaining: 56.9s\n",
      "826:\tlearn: 0.0121365\ttotal: 4m 30s\tremaining: 56.6s\n",
      "827:\tlearn: 0.0121265\ttotal: 4m 30s\tremaining: 56.2s\n",
      "828:\tlearn: 0.0121200\ttotal: 4m 31s\tremaining: 55.9s\n",
      "829:\tlearn: 0.0121153\ttotal: 4m 31s\tremaining: 55.6s\n",
      "830:\tlearn: 0.0121129\ttotal: 4m 31s\tremaining: 55.3s\n",
      "831:\tlearn: 0.0121065\ttotal: 4m 32s\tremaining: 55s\n",
      "832:\tlearn: 0.0120953\ttotal: 4m 32s\tremaining: 54.7s\n",
      "833:\tlearn: 0.0120942\ttotal: 4m 33s\tremaining: 54.3s\n",
      "834:\tlearn: 0.0120887\ttotal: 4m 33s\tremaining: 54s\n",
      "835:\tlearn: 0.0120863\ttotal: 4m 33s\tremaining: 53.7s\n",
      "836:\tlearn: 0.0120836\ttotal: 4m 33s\tremaining: 53.4s\n",
      "837:\tlearn: 0.0120716\ttotal: 4m 34s\tremaining: 53s\n",
      "838:\tlearn: 0.0120687\ttotal: 4m 34s\tremaining: 52.7s\n",
      "839:\tlearn: 0.0120644\ttotal: 4m 35s\tremaining: 52.4s\n",
      "840:\tlearn: 0.0120570\ttotal: 4m 35s\tremaining: 52.1s\n",
      "841:\tlearn: 0.0120460\ttotal: 4m 35s\tremaining: 51.7s\n",
      "842:\tlearn: 0.0120429\ttotal: 4m 36s\tremaining: 51.4s\n",
      "843:\tlearn: 0.0120417\ttotal: 4m 36s\tremaining: 51.1s\n",
      "844:\tlearn: 0.0120372\ttotal: 4m 36s\tremaining: 50.8s\n",
      "845:\tlearn: 0.0120345\ttotal: 4m 37s\tremaining: 50.5s\n",
      "846:\tlearn: 0.0120298\ttotal: 4m 37s\tremaining: 50.1s\n",
      "847:\tlearn: 0.0120287\ttotal: 4m 37s\tremaining: 49.8s\n",
      "848:\tlearn: 0.0120265\ttotal: 4m 38s\tremaining: 49.5s\n",
      "849:\tlearn: 0.0120166\ttotal: 4m 38s\tremaining: 49.2s\n",
      "850:\tlearn: 0.0120115\ttotal: 4m 39s\tremaining: 48.9s\n",
      "851:\tlearn: 0.0120007\ttotal: 4m 39s\tremaining: 48.5s\n",
      "852:\tlearn: 0.0119931\ttotal: 4m 39s\tremaining: 48.2s\n",
      "853:\tlearn: 0.0119909\ttotal: 4m 40s\tremaining: 47.9s\n",
      "854:\tlearn: 0.0119899\ttotal: 4m 40s\tremaining: 47.6s\n",
      "855:\tlearn: 0.0119753\ttotal: 4m 40s\tremaining: 47.2s\n",
      "856:\tlearn: 0.0119664\ttotal: 4m 41s\tremaining: 46.9s\n",
      "857:\tlearn: 0.0119635\ttotal: 4m 41s\tremaining: 46.6s\n",
      "858:\tlearn: 0.0119591\ttotal: 4m 41s\tremaining: 46.3s\n",
      "859:\tlearn: 0.0119464\ttotal: 4m 42s\tremaining: 45.9s\n",
      "860:\tlearn: 0.0119417\ttotal: 4m 42s\tremaining: 45.6s\n",
      "861:\tlearn: 0.0119395\ttotal: 4m 42s\tremaining: 45.3s\n",
      "862:\tlearn: 0.0119364\ttotal: 4m 43s\tremaining: 45s\n",
      "863:\tlearn: 0.0119054\ttotal: 4m 43s\tremaining: 44.6s\n",
      "864:\tlearn: 0.0119034\ttotal: 4m 43s\tremaining: 44.3s\n",
      "865:\tlearn: 0.0118952\ttotal: 4m 44s\tremaining: 44s\n",
      "866:\tlearn: 0.0118900\ttotal: 4m 44s\tremaining: 43.6s\n",
      "867:\tlearn: 0.0118793\ttotal: 4m 44s\tremaining: 43.3s\n",
      "868:\tlearn: 0.0118774\ttotal: 4m 45s\tremaining: 43s\n",
      "869:\tlearn: 0.0118734\ttotal: 4m 45s\tremaining: 42.7s\n",
      "870:\tlearn: 0.0118673\ttotal: 4m 45s\tremaining: 42.3s\n",
      "871:\tlearn: 0.0118558\ttotal: 4m 46s\tremaining: 42s\n",
      "872:\tlearn: 0.0118464\ttotal: 4m 46s\tremaining: 41.7s\n",
      "873:\tlearn: 0.0118453\ttotal: 4m 47s\tremaining: 41.4s\n",
      "874:\tlearn: 0.0118437\ttotal: 4m 47s\tremaining: 41.1s\n",
      "875:\tlearn: 0.0118352\ttotal: 4m 47s\tremaining: 40.7s\n",
      "876:\tlearn: 0.0118245\ttotal: 4m 48s\tremaining: 40.4s\n",
      "877:\tlearn: 0.0118198\ttotal: 4m 48s\tremaining: 40.1s\n",
      "878:\tlearn: 0.0118071\ttotal: 4m 48s\tremaining: 39.7s\n",
      "879:\tlearn: 0.0118018\ttotal: 4m 49s\tremaining: 39.4s\n",
      "880:\tlearn: 0.0117940\ttotal: 4m 49s\tremaining: 39.1s\n",
      "881:\tlearn: 0.0117780\ttotal: 4m 49s\tremaining: 38.8s\n",
      "882:\tlearn: 0.0117717\ttotal: 4m 50s\tremaining: 38.4s\n",
      "883:\tlearn: 0.0117667\ttotal: 4m 50s\tremaining: 38.1s\n",
      "884:\tlearn: 0.0117574\ttotal: 4m 50s\tremaining: 37.8s\n",
      "885:\tlearn: 0.0117480\ttotal: 4m 51s\tremaining: 37.5s\n",
      "886:\tlearn: 0.0117467\ttotal: 4m 51s\tremaining: 37.1s\n",
      "887:\tlearn: 0.0117439\ttotal: 4m 51s\tremaining: 36.8s\n",
      "888:\tlearn: 0.0117433\ttotal: 4m 52s\tremaining: 36.5s\n",
      "889:\tlearn: 0.0117397\ttotal: 4m 52s\tremaining: 36.2s\n",
      "890:\tlearn: 0.0117387\ttotal: 4m 53s\tremaining: 35.8s\n",
      "891:\tlearn: 0.0117356\ttotal: 4m 53s\tremaining: 35.5s\n",
      "892:\tlearn: 0.0117343\ttotal: 4m 53s\tremaining: 35.2s\n",
      "893:\tlearn: 0.0117322\ttotal: 4m 53s\tremaining: 34.8s\n",
      "894:\tlearn: 0.0117310\ttotal: 4m 54s\tremaining: 34.5s\n",
      "895:\tlearn: 0.0117218\ttotal: 4m 54s\tremaining: 34.2s\n",
      "896:\tlearn: 0.0117208\ttotal: 4m 54s\tremaining: 33.9s\n",
      "897:\tlearn: 0.0117196\ttotal: 4m 55s\tremaining: 33.5s\n",
      "898:\tlearn: 0.0117188\ttotal: 4m 55s\tremaining: 33.2s\n",
      "899:\tlearn: 0.0117161\ttotal: 4m 56s\tremaining: 32.9s\n",
      "900:\tlearn: 0.0117114\ttotal: 4m 56s\tremaining: 32.6s\n",
      "901:\tlearn: 0.0117093\ttotal: 4m 56s\tremaining: 32.2s\n",
      "902:\tlearn: 0.0116995\ttotal: 4m 57s\tremaining: 31.9s\n",
      "903:\tlearn: 0.0116982\ttotal: 4m 57s\tremaining: 31.6s\n",
      "904:\tlearn: 0.0116977\ttotal: 4m 57s\tremaining: 31.3s\n",
      "905:\tlearn: 0.0116893\ttotal: 4m 58s\tremaining: 30.9s\n",
      "906:\tlearn: 0.0116873\ttotal: 4m 58s\tremaining: 30.6s\n",
      "907:\tlearn: 0.0116584\ttotal: 4m 58s\tremaining: 30.3s\n",
      "908:\tlearn: 0.0116458\ttotal: 4m 59s\tremaining: 29.9s\n",
      "909:\tlearn: 0.0116432\ttotal: 4m 59s\tremaining: 29.6s\n",
      "910:\tlearn: 0.0116368\ttotal: 4m 59s\tremaining: 29.3s\n",
      "911:\tlearn: 0.0116333\ttotal: 5m\tremaining: 29s\n",
      "912:\tlearn: 0.0116317\ttotal: 5m\tremaining: 28.6s\n",
      "913:\tlearn: 0.0116246\ttotal: 5m 1s\tremaining: 28.3s\n",
      "914:\tlearn: 0.0116225\ttotal: 5m 1s\tremaining: 28s\n",
      "915:\tlearn: 0.0116171\ttotal: 5m 1s\tremaining: 27.7s\n",
      "916:\tlearn: 0.0116114\ttotal: 5m 2s\tremaining: 27.3s\n",
      "917:\tlearn: 0.0116102\ttotal: 5m 2s\tremaining: 27s\n",
      "918:\tlearn: 0.0116098\ttotal: 5m 2s\tremaining: 26.7s\n",
      "919:\tlearn: 0.0116028\ttotal: 5m 3s\tremaining: 26.4s\n",
      "920:\tlearn: 0.0115987\ttotal: 5m 3s\tremaining: 26s\n",
      "921:\tlearn: 0.0115958\ttotal: 5m 3s\tremaining: 25.7s\n",
      "922:\tlearn: 0.0115952\ttotal: 5m 4s\tremaining: 25.4s\n",
      "923:\tlearn: 0.0115911\ttotal: 5m 4s\tremaining: 25.1s\n",
      "924:\tlearn: 0.0115866\ttotal: 5m 5s\tremaining: 24.7s\n",
      "925:\tlearn: 0.0115787\ttotal: 5m 5s\tremaining: 24.4s\n",
      "926:\tlearn: 0.0115785\ttotal: 5m 5s\tremaining: 24.1s\n"
     ]
    },
    {
     "name": "stdout",
     "output_type": "stream",
     "text": [
      "927:\tlearn: 0.0115754\ttotal: 5m 6s\tremaining: 23.7s\n",
      "928:\tlearn: 0.0115692\ttotal: 5m 6s\tremaining: 23.4s\n",
      "929:\tlearn: 0.0115588\ttotal: 5m 6s\tremaining: 23.1s\n",
      "930:\tlearn: 0.0115578\ttotal: 5m 7s\tremaining: 22.8s\n",
      "931:\tlearn: 0.0115514\ttotal: 5m 7s\tremaining: 22.4s\n",
      "932:\tlearn: 0.0115246\ttotal: 5m 7s\tremaining: 22.1s\n",
      "933:\tlearn: 0.0115219\ttotal: 5m 8s\tremaining: 21.8s\n",
      "934:\tlearn: 0.0115194\ttotal: 5m 8s\tremaining: 21.4s\n",
      "935:\tlearn: 0.0115188\ttotal: 5m 8s\tremaining: 21.1s\n",
      "936:\tlearn: 0.0115153\ttotal: 5m 9s\tremaining: 20.8s\n",
      "937:\tlearn: 0.0115108\ttotal: 5m 9s\tremaining: 20.5s\n",
      "938:\tlearn: 0.0115008\ttotal: 5m 9s\tremaining: 20.1s\n",
      "939:\tlearn: 0.0114949\ttotal: 5m 10s\tremaining: 19.8s\n",
      "940:\tlearn: 0.0114940\ttotal: 5m 10s\tremaining: 19.5s\n",
      "941:\tlearn: 0.0114764\ttotal: 5m 10s\tremaining: 19.1s\n",
      "942:\tlearn: 0.0114715\ttotal: 5m 11s\tremaining: 18.8s\n",
      "943:\tlearn: 0.0114705\ttotal: 5m 11s\tremaining: 18.5s\n",
      "944:\tlearn: 0.0114698\ttotal: 5m 12s\tremaining: 18.2s\n",
      "945:\tlearn: 0.0114681\ttotal: 5m 12s\tremaining: 17.8s\n",
      "946:\tlearn: 0.0114644\ttotal: 5m 12s\tremaining: 17.5s\n",
      "947:\tlearn: 0.0114643\ttotal: 5m 13s\tremaining: 17.2s\n",
      "948:\tlearn: 0.0114608\ttotal: 5m 13s\tremaining: 16.8s\n",
      "949:\tlearn: 0.0114568\ttotal: 5m 13s\tremaining: 16.5s\n",
      "950:\tlearn: 0.0114565\ttotal: 5m 14s\tremaining: 16.2s\n",
      "951:\tlearn: 0.0114538\ttotal: 5m 14s\tremaining: 15.9s\n",
      "952:\tlearn: 0.0114392\ttotal: 5m 14s\tremaining: 15.5s\n",
      "953:\tlearn: 0.0114373\ttotal: 5m 15s\tremaining: 15.2s\n",
      "954:\tlearn: 0.0114355\ttotal: 5m 15s\tremaining: 14.9s\n",
      "955:\tlearn: 0.0114353\ttotal: 5m 15s\tremaining: 14.5s\n",
      "956:\tlearn: 0.0114341\ttotal: 5m 16s\tremaining: 14.2s\n",
      "957:\tlearn: 0.0114327\ttotal: 5m 16s\tremaining: 13.9s\n",
      "958:\tlearn: 0.0114255\ttotal: 5m 17s\tremaining: 13.6s\n",
      "959:\tlearn: 0.0114218\ttotal: 5m 17s\tremaining: 13.2s\n",
      "960:\tlearn: 0.0114118\ttotal: 5m 17s\tremaining: 12.9s\n",
      "961:\tlearn: 0.0114110\ttotal: 5m 18s\tremaining: 12.6s\n",
      "962:\tlearn: 0.0113909\ttotal: 5m 18s\tremaining: 12.2s\n",
      "963:\tlearn: 0.0113908\ttotal: 5m 18s\tremaining: 11.9s\n",
      "964:\tlearn: 0.0113862\ttotal: 5m 19s\tremaining: 11.6s\n",
      "965:\tlearn: 0.0113790\ttotal: 5m 19s\tremaining: 11.3s\n",
      "966:\tlearn: 0.0113771\ttotal: 5m 20s\tremaining: 10.9s\n",
      "967:\tlearn: 0.0113744\ttotal: 5m 20s\tremaining: 10.6s\n",
      "968:\tlearn: 0.0113690\ttotal: 5m 20s\tremaining: 10.3s\n",
      "969:\tlearn: 0.0113647\ttotal: 5m 21s\tremaining: 9.93s\n",
      "970:\tlearn: 0.0113452\ttotal: 5m 21s\tremaining: 9.6s\n",
      "971:\tlearn: 0.0113438\ttotal: 5m 21s\tremaining: 9.27s\n",
      "972:\tlearn: 0.0113411\ttotal: 5m 22s\tremaining: 8.94s\n",
      "973:\tlearn: 0.0113348\ttotal: 5m 22s\tremaining: 8.61s\n",
      "974:\tlearn: 0.0113321\ttotal: 5m 22s\tremaining: 8.28s\n",
      "975:\tlearn: 0.0113309\ttotal: 5m 23s\tremaining: 7.95s\n",
      "976:\tlearn: 0.0113276\ttotal: 5m 23s\tremaining: 7.62s\n",
      "977:\tlearn: 0.0113244\ttotal: 5m 24s\tremaining: 7.29s\n",
      "978:\tlearn: 0.0113210\ttotal: 5m 24s\tremaining: 6.96s\n",
      "979:\tlearn: 0.0113189\ttotal: 5m 24s\tremaining: 6.63s\n",
      "980:\tlearn: 0.0113044\ttotal: 5m 25s\tremaining: 6.29s\n",
      "981:\tlearn: 0.0113034\ttotal: 5m 25s\tremaining: 5.96s\n",
      "982:\tlearn: 0.0113022\ttotal: 5m 25s\tremaining: 5.63s\n",
      "983:\tlearn: 0.0112993\ttotal: 5m 26s\tremaining: 5.3s\n",
      "984:\tlearn: 0.0112896\ttotal: 5m 26s\tremaining: 4.97s\n",
      "985:\tlearn: 0.0112859\ttotal: 5m 26s\tremaining: 4.64s\n",
      "986:\tlearn: 0.0112793\ttotal: 5m 27s\tremaining: 4.31s\n",
      "987:\tlearn: 0.0112764\ttotal: 5m 27s\tremaining: 3.98s\n",
      "988:\tlearn: 0.0112758\ttotal: 5m 27s\tremaining: 3.65s\n",
      "989:\tlearn: 0.0112741\ttotal: 5m 28s\tremaining: 3.31s\n",
      "990:\tlearn: 0.0112647\ttotal: 5m 28s\tremaining: 2.98s\n",
      "991:\tlearn: 0.0112637\ttotal: 5m 28s\tremaining: 2.65s\n",
      "992:\tlearn: 0.0112625\ttotal: 5m 29s\tremaining: 2.32s\n",
      "993:\tlearn: 0.0112587\ttotal: 5m 29s\tremaining: 1.99s\n",
      "994:\tlearn: 0.0112555\ttotal: 5m 29s\tremaining: 1.66s\n",
      "995:\tlearn: 0.0112495\ttotal: 5m 30s\tremaining: 1.33s\n",
      "996:\tlearn: 0.0112461\ttotal: 5m 30s\tremaining: 995ms\n",
      "997:\tlearn: 0.0112448\ttotal: 5m 31s\tremaining: 664ms\n",
      "998:\tlearn: 0.0112395\ttotal: 5m 31s\tremaining: 332ms\n",
      "999:\tlearn: 0.0112374\ttotal: 5m 31s\tremaining: 0us\n"
     ]
    },
    {
     "data": {
      "text/plain": [
       "<catboost.core.CatBoostClassifier at 0x18bab9b21c0>"
      ]
     },
     "execution_count": 676,
     "metadata": {},
     "output_type": "execute_result"
    }
   ],
   "source": [
    "model_catBoost.fit(X, y, cat_features=cat)\n",
    "# Get predictions"
   ]
  },
  {
   "cell_type": "code",
   "execution_count": 683,
   "id": "0f834a7a",
   "metadata": {
    "ExecuteTime": {
     "end_time": "2021-09-06T15:00:55.920039Z",
     "start_time": "2021-09-06T15:00:55.259665Z"
    }
   },
   "outputs": [
    {
     "name": "stdout",
     "output_type": "stream",
     "text": [
      "0.9975722244569549\n"
     ]
    }
   ],
   "source": [
    "print(roc_auc_score(y, model_catBoost.predict_proba(X)[:, 1]))"
   ]
  },
  {
   "cell_type": "markdown",
   "id": "97b581c8",
   "metadata": {},
   "source": [
    "Nice score, but we nead more!"
   ]
  },
  {
   "cell_type": "code",
   "execution_count": 684,
   "id": "a4dbb674",
   "metadata": {
    "ExecuteTime": {
     "end_time": "2021-09-06T15:01:37.291227Z",
     "start_time": "2021-09-06T15:01:36.713319Z"
    }
   },
   "outputs": [],
   "source": [
    "y_pred = model_catBoost.predict_proba(test)[:, 1]\n",
    "save_submission(y_pred)"
   ]
  },
  {
   "cell_type": "markdown",
   "id": "3a8b5873",
   "metadata": {
    "ExecuteTime": {
     "end_time": "2021-09-06T15:01:45.105116Z",
     "start_time": "2021-09-06T15:01:44.840572Z"
    }
   },
   "source": [
    "## Pipeline #2\n",
    "\n",
    "There i will test cat boost with the same features, but i will not transform them into categorical status."
   ]
  },
  {
   "cell_type": "code",
   "execution_count": null,
   "id": "b5002f84",
   "metadata": {},
   "outputs": [],
   "source": [
    "def preproc(df):\n",
    "    webpages = [f\"webpage{i+1}\" for i in range(10)]\n",
    "\n",
    "    df =  (\n",
    "        df.assign(\n",
    "            first_last_diff=lambda x: (x.time10 - x.time1).dt.seconds.fillna(0),\n",
    "            avg_hour=lambda x: x.filter(like='time').apply(lambda x: x.dt.hour).mean(axis=1),\n",
    "            avg_day=lambda x: x.filter(like='time').apply(lambda x: x.dt.dayofweek).mean(axis=1),\n",
    "            nans_count=lambda x: x.isna().sum(axis=1).div(2), # time & webpage => div(2)\n",
    "            n_unique_pages=lambda x: x.filter(like='webpage').apply(lambda row: row.nunique(), axis=1),\n",
    "            \n",
    "        ).drop(columns=[f'time{i+1}' for i in range(10)]).fillna(0)\n",
    "    )\n",
    "    return df\n"
   ]
  },
  {
   "cell_type": "code",
   "execution_count": null,
   "id": "af223d86",
   "metadata": {},
   "outputs": [],
   "source": [
    "temp_train = pd.read_csv(\"data/train.csv\", index_col=0, parse_dates=[f\"time{i+1}\" for i in range(10)])\n",
    "temp_test = pd.read_csv(\"data/test.csv\", index_col=0, parse_dates=[f\"time{i+1}\" for i in range(10)])"
   ]
  },
  {
   "cell_type": "code",
   "execution_count": 744,
   "id": "816b18e4",
   "metadata": {
    "ExecuteTime": {
     "end_time": "2021-09-06T16:24:23.311048Z",
     "start_time": "2021-09-06T16:24:23.282127Z"
    }
   },
   "outputs": [],
   "source": [
    "temp_target = temp_train.target\n",
    "temp_train = temp_train.drop(columns=\"target\")"
   ]
  },
  {
   "cell_type": "code",
   "execution_count": 745,
   "id": "74bc74b8",
   "metadata": {
    "ExecuteTime": {
     "end_time": "2021-09-06T16:35:47.788923Z",
     "start_time": "2021-09-06T16:24:23.314044Z"
    }
   },
   "outputs": [],
   "source": [
    "temp_train = preproc(temp_train)\n",
    "temp_test = preproc(temp_test)"
   ]
  },
  {
   "cell_type": "code",
   "execution_count": 782,
   "id": "5a6afc6d",
   "metadata": {
    "ExecuteTime": {
     "end_time": "2021-09-06T16:43:52.130662Z",
     "start_time": "2021-09-06T16:43:52.121708Z"
    }
   },
   "outputs": [],
   "source": [
    "webpages = [f\"webpage{i+1}\" for i in range(10)]"
   ]
  },
  {
   "cell_type": "code",
   "execution_count": 757,
   "id": "411a67e7",
   "metadata": {
    "ExecuteTime": {
     "end_time": "2021-09-06T16:37:25.631827Z",
     "start_time": "2021-09-06T16:37:25.328544Z"
    }
   },
   "outputs": [],
   "source": [
    "temp_train[webpages] = temp_train[webpages].astype(\"category\") \n",
    "temp_test[webpages] = temp_test[webpages].astype(\"category\") "
   ]
  },
  {
   "cell_type": "code",
   "execution_count": 785,
   "id": "271a4ada",
   "metadata": {
    "ExecuteTime": {
     "end_time": "2021-09-06T16:45:02.588534Z",
     "start_time": "2021-09-06T16:45:02.521714Z"
    }
   },
   "outputs": [],
   "source": [
    "for i in webpages[1:]:\n",
    "    temp_train[i] = temp_train[i].map(str)\n",
    "    temp_test[i] = temp_test[i].map(str)\n"
   ]
  },
  {
   "cell_type": "code",
   "execution_count": 787,
   "id": "2d8ae17b",
   "metadata": {
    "ExecuteTime": {
     "end_time": "2021-09-06T16:45:14.062900Z",
     "start_time": "2021-09-06T16:45:14.048918Z"
    }
   },
   "outputs": [],
   "source": [
    "clf_catBoost = CatBoostClassifier(cat_features=webpages)"
   ]
  },
  {
   "cell_type": "code",
   "execution_count": 789,
   "id": "8dfefb29",
   "metadata": {
    "ExecuteTime": {
     "end_time": "2021-09-06T16:49:57.241634Z",
     "start_time": "2021-09-06T16:45:18.326395Z"
    }
   },
   "outputs": [
    {
     "name": "stdout",
     "output_type": "stream",
     "text": [
      "Learning rate set to 0.089962\n",
      "0:\tlearn: 0.5063992\ttotal: 238ms\tremaining: 3m 57s\n",
      "1:\tlearn: 0.3609535\ttotal: 468ms\tremaining: 3m 53s\n",
      "2:\tlearn: 0.2728683\ttotal: 719ms\tremaining: 3m 58s\n",
      "3:\tlearn: 0.2107624\ttotal: 915ms\tremaining: 3m 47s\n",
      "4:\tlearn: 0.1529906\ttotal: 1.11s\tremaining: 3m 40s\n",
      "5:\tlearn: 0.1250245\ttotal: 1.27s\tremaining: 3m 31s\n",
      "6:\tlearn: 0.1056647\ttotal: 1.39s\tremaining: 3m 17s\n",
      "7:\tlearn: 0.0921284\ttotal: 1.58s\tremaining: 3m 16s\n",
      "8:\tlearn: 0.0754759\ttotal: 1.79s\tremaining: 3m 17s\n",
      "9:\tlearn: 0.0644058\ttotal: 1.96s\tremaining: 3m 13s\n",
      "10:\tlearn: 0.0571801\ttotal: 2.17s\tremaining: 3m 14s\n",
      "11:\tlearn: 0.0519015\ttotal: 2.43s\tremaining: 3m 20s\n",
      "12:\tlearn: 0.0473252\ttotal: 2.66s\tremaining: 3m 22s\n",
      "13:\tlearn: 0.0437251\ttotal: 2.84s\tremaining: 3m 20s\n",
      "14:\tlearn: 0.0407140\ttotal: 3.07s\tremaining: 3m 21s\n",
      "15:\tlearn: 0.0385777\ttotal: 3.26s\tremaining: 3m 20s\n",
      "16:\tlearn: 0.0370529\ttotal: 3.56s\tremaining: 3m 26s\n",
      "17:\tlearn: 0.0358421\ttotal: 3.84s\tremaining: 3m 29s\n",
      "18:\tlearn: 0.0348075\ttotal: 4.05s\tremaining: 3m 29s\n",
      "19:\tlearn: 0.0338212\ttotal: 4.35s\tremaining: 3m 33s\n",
      "20:\tlearn: 0.0330017\ttotal: 4.61s\tremaining: 3m 35s\n",
      "21:\tlearn: 0.0322257\ttotal: 4.84s\tremaining: 3m 35s\n",
      "22:\tlearn: 0.0316451\ttotal: 5.07s\tremaining: 3m 35s\n",
      "23:\tlearn: 0.0312421\ttotal: 5.3s\tremaining: 3m 35s\n",
      "24:\tlearn: 0.0308694\ttotal: 5.45s\tremaining: 3m 32s\n",
      "25:\tlearn: 0.0303483\ttotal: 5.72s\tremaining: 3m 34s\n",
      "26:\tlearn: 0.0299733\ttotal: 5.91s\tremaining: 3m 33s\n",
      "27:\tlearn: 0.0296153\ttotal: 6.14s\tremaining: 3m 33s\n",
      "28:\tlearn: 0.0293388\ttotal: 6.36s\tremaining: 3m 33s\n",
      "29:\tlearn: 0.0290444\ttotal: 6.59s\tremaining: 3m 32s\n",
      "30:\tlearn: 0.0288821\ttotal: 6.75s\tremaining: 3m 31s\n",
      "31:\tlearn: 0.0286269\ttotal: 7s\tremaining: 3m 31s\n",
      "32:\tlearn: 0.0283970\ttotal: 7.14s\tremaining: 3m 29s\n",
      "33:\tlearn: 0.0278961\ttotal: 7.39s\tremaining: 3m 29s\n",
      "34:\tlearn: 0.0276756\ttotal: 7.6s\tremaining: 3m 29s\n",
      "35:\tlearn: 0.0275118\ttotal: 7.79s\tremaining: 3m 28s\n",
      "36:\tlearn: 0.0273395\ttotal: 8.04s\tremaining: 3m 29s\n",
      "37:\tlearn: 0.0271815\ttotal: 8.25s\tremaining: 3m 28s\n",
      "38:\tlearn: 0.0270958\ttotal: 8.39s\tremaining: 3m 26s\n",
      "39:\tlearn: 0.0270433\ttotal: 8.59s\tremaining: 3m 26s\n",
      "40:\tlearn: 0.0269767\ttotal: 8.79s\tremaining: 3m 25s\n",
      "41:\tlearn: 0.0266350\ttotal: 8.99s\tremaining: 3m 25s\n",
      "42:\tlearn: 0.0264931\ttotal: 9.23s\tremaining: 3m 25s\n",
      "43:\tlearn: 0.0263325\ttotal: 9.42s\tremaining: 3m 24s\n",
      "44:\tlearn: 0.0262613\ttotal: 9.65s\tremaining: 3m 24s\n",
      "45:\tlearn: 0.0261716\ttotal: 9.84s\tremaining: 3m 24s\n",
      "46:\tlearn: 0.0260213\ttotal: 10.1s\tremaining: 3m 23s\n",
      "47:\tlearn: 0.0259912\ttotal: 10.3s\tremaining: 3m 23s\n",
      "48:\tlearn: 0.0258852\ttotal: 10.5s\tremaining: 3m 23s\n",
      "49:\tlearn: 0.0257874\ttotal: 10.7s\tremaining: 3m 23s\n",
      "50:\tlearn: 0.0257018\ttotal: 10.9s\tremaining: 3m 23s\n",
      "51:\tlearn: 0.0256586\ttotal: 11.1s\tremaining: 3m 22s\n",
      "52:\tlearn: 0.0255673\ttotal: 11.4s\tremaining: 3m 22s\n",
      "53:\tlearn: 0.0254282\ttotal: 11.6s\tremaining: 3m 22s\n",
      "54:\tlearn: 0.0253822\ttotal: 11.8s\tremaining: 3m 22s\n",
      "55:\tlearn: 0.0253624\ttotal: 12s\tremaining: 3m 22s\n",
      "56:\tlearn: 0.0253307\ttotal: 12.3s\tremaining: 3m 23s\n",
      "57:\tlearn: 0.0253083\ttotal: 12.5s\tremaining: 3m 22s\n",
      "58:\tlearn: 0.0251249\ttotal: 12.7s\tremaining: 3m 23s\n",
      "59:\tlearn: 0.0250801\ttotal: 13s\tremaining: 3m 24s\n",
      "60:\tlearn: 0.0250425\ttotal: 13.3s\tremaining: 3m 24s\n",
      "61:\tlearn: 0.0248902\ttotal: 13.5s\tremaining: 3m 24s\n",
      "62:\tlearn: 0.0248295\ttotal: 13.7s\tremaining: 3m 23s\n",
      "63:\tlearn: 0.0247064\ttotal: 13.9s\tremaining: 3m 23s\n",
      "64:\tlearn: 0.0246139\ttotal: 14.1s\tremaining: 3m 23s\n",
      "65:\tlearn: 0.0244996\ttotal: 14.4s\tremaining: 3m 23s\n",
      "66:\tlearn: 0.0243964\ttotal: 14.6s\tremaining: 3m 22s\n",
      "67:\tlearn: 0.0243693\ttotal: 14.8s\tremaining: 3m 23s\n",
      "68:\tlearn: 0.0243508\ttotal: 14.9s\tremaining: 3m 21s\n",
      "69:\tlearn: 0.0243390\ttotal: 15.1s\tremaining: 3m 19s\n",
      "70:\tlearn: 0.0242707\ttotal: 15.2s\tremaining: 3m 19s\n",
      "71:\tlearn: 0.0242389\ttotal: 15.5s\tremaining: 3m 19s\n",
      "72:\tlearn: 0.0241650\ttotal: 15.7s\tremaining: 3m 19s\n",
      "73:\tlearn: 0.0241466\ttotal: 15.9s\tremaining: 3m 18s\n",
      "74:\tlearn: 0.0241237\ttotal: 16.1s\tremaining: 3m 18s\n",
      "75:\tlearn: 0.0240876\ttotal: 16.3s\tremaining: 3m 17s\n",
      "76:\tlearn: 0.0239912\ttotal: 16.5s\tremaining: 3m 17s\n",
      "77:\tlearn: 0.0239606\ttotal: 16.8s\tremaining: 3m 18s\n",
      "78:\tlearn: 0.0238692\ttotal: 17s\tremaining: 3m 18s\n",
      "79:\tlearn: 0.0238330\ttotal: 17.3s\tremaining: 3m 18s\n",
      "80:\tlearn: 0.0237827\ttotal: 17.4s\tremaining: 3m 17s\n",
      "81:\tlearn: 0.0237518\ttotal: 17.6s\tremaining: 3m 17s\n",
      "82:\tlearn: 0.0236529\ttotal: 17.9s\tremaining: 3m 17s\n",
      "83:\tlearn: 0.0236187\ttotal: 18.1s\tremaining: 3m 17s\n",
      "84:\tlearn: 0.0235810\ttotal: 18.3s\tremaining: 3m 17s\n",
      "85:\tlearn: 0.0234828\ttotal: 18.6s\tremaining: 3m 17s\n",
      "86:\tlearn: 0.0234484\ttotal: 18.8s\tremaining: 3m 17s\n",
      "87:\tlearn: 0.0234112\ttotal: 19s\tremaining: 3m 16s\n",
      "88:\tlearn: 0.0234017\ttotal: 19.1s\tremaining: 3m 15s\n",
      "89:\tlearn: 0.0233195\ttotal: 19.4s\tremaining: 3m 15s\n",
      "90:\tlearn: 0.0233074\ttotal: 19.5s\tremaining: 3m 14s\n",
      "91:\tlearn: 0.0232932\ttotal: 19.8s\tremaining: 3m 14s\n",
      "92:\tlearn: 0.0232426\ttotal: 20s\tremaining: 3m 15s\n",
      "93:\tlearn: 0.0232080\ttotal: 20.2s\tremaining: 3m 15s\n",
      "94:\tlearn: 0.0231979\ttotal: 20.5s\tremaining: 3m 15s\n",
      "95:\tlearn: 0.0231149\ttotal: 20.7s\tremaining: 3m 14s\n",
      "96:\tlearn: 0.0231005\ttotal: 21s\tremaining: 3m 15s\n",
      "97:\tlearn: 0.0227123\ttotal: 21.2s\tremaining: 3m 14s\n",
      "98:\tlearn: 0.0227028\ttotal: 21.4s\tremaining: 3m 15s\n",
      "99:\tlearn: 0.0226815\ttotal: 21.7s\tremaining: 3m 15s\n",
      "100:\tlearn: 0.0226120\ttotal: 22s\tremaining: 3m 15s\n",
      "101:\tlearn: 0.0225788\ttotal: 22.2s\tremaining: 3m 15s\n",
      "102:\tlearn: 0.0225549\ttotal: 22.5s\tremaining: 3m 15s\n",
      "103:\tlearn: 0.0225380\ttotal: 22.7s\tremaining: 3m 15s\n",
      "104:\tlearn: 0.0225027\ttotal: 22.9s\tremaining: 3m 15s\n",
      "105:\tlearn: 0.0224869\ttotal: 23s\tremaining: 3m 14s\n",
      "106:\tlearn: 0.0224714\ttotal: 23.3s\tremaining: 3m 14s\n",
      "107:\tlearn: 0.0223598\ttotal: 23.5s\tremaining: 3m 14s\n",
      "108:\tlearn: 0.0223234\ttotal: 23.7s\tremaining: 3m 13s\n",
      "109:\tlearn: 0.0222356\ttotal: 23.9s\tremaining: 3m 13s\n",
      "110:\tlearn: 0.0222224\ttotal: 24.2s\tremaining: 3m 13s\n",
      "111:\tlearn: 0.0221976\ttotal: 24.4s\tremaining: 3m 13s\n",
      "112:\tlearn: 0.0221355\ttotal: 24.6s\tremaining: 3m 13s\n",
      "113:\tlearn: 0.0221098\ttotal: 24.8s\tremaining: 3m 12s\n",
      "114:\tlearn: 0.0220939\ttotal: 25.1s\tremaining: 3m 12s\n",
      "115:\tlearn: 0.0219452\ttotal: 25.3s\tremaining: 3m 12s\n",
      "116:\tlearn: 0.0218953\ttotal: 25.5s\tremaining: 3m 12s\n",
      "117:\tlearn: 0.0218305\ttotal: 25.8s\tremaining: 3m 12s\n",
      "118:\tlearn: 0.0217772\ttotal: 26s\tremaining: 3m 12s\n",
      "119:\tlearn: 0.0217397\ttotal: 26.3s\tremaining: 3m 12s\n",
      "120:\tlearn: 0.0217191\ttotal: 26.5s\tremaining: 3m 12s\n",
      "121:\tlearn: 0.0216857\ttotal: 26.6s\tremaining: 3m 11s\n",
      "122:\tlearn: 0.0214405\ttotal: 26.9s\tremaining: 3m 11s\n",
      "123:\tlearn: 0.0213828\ttotal: 27.1s\tremaining: 3m 11s\n",
      "124:\tlearn: 0.0213624\ttotal: 27.4s\tremaining: 3m 11s\n",
      "125:\tlearn: 0.0212970\ttotal: 27.6s\tremaining: 3m 11s\n",
      "126:\tlearn: 0.0212695\ttotal: 27.9s\tremaining: 3m 11s\n",
      "127:\tlearn: 0.0212517\ttotal: 28.1s\tremaining: 3m 11s\n",
      "128:\tlearn: 0.0211989\ttotal: 28.3s\tremaining: 3m 11s\n",
      "129:\tlearn: 0.0211800\ttotal: 28.5s\tremaining: 3m 10s\n",
      "130:\tlearn: 0.0211305\ttotal: 28.7s\tremaining: 3m 10s\n",
      "131:\tlearn: 0.0210938\ttotal: 29s\tremaining: 3m 10s\n",
      "132:\tlearn: 0.0210855\ttotal: 29.2s\tremaining: 3m 10s\n",
      "133:\tlearn: 0.0210659\ttotal: 29.5s\tremaining: 3m 10s\n",
      "134:\tlearn: 0.0210570\ttotal: 29.7s\tremaining: 3m 9s\n",
      "135:\tlearn: 0.0210420\ttotal: 29.9s\tremaining: 3m 9s\n",
      "136:\tlearn: 0.0210334\ttotal: 30s\tremaining: 3m 9s\n",
      "137:\tlearn: 0.0209779\ttotal: 30.3s\tremaining: 3m 9s\n",
      "138:\tlearn: 0.0209400\ttotal: 30.4s\tremaining: 3m 8s\n",
      "139:\tlearn: 0.0209181\ttotal: 30.6s\tremaining: 3m 8s\n",
      "140:\tlearn: 0.0208585\ttotal: 30.9s\tremaining: 3m 8s\n",
      "141:\tlearn: 0.0208182\ttotal: 31.1s\tremaining: 3m 8s\n",
      "142:\tlearn: 0.0207722\ttotal: 31.4s\tremaining: 3m 7s\n",
      "143:\tlearn: 0.0207577\ttotal: 31.6s\tremaining: 3m 7s\n",
      "144:\tlearn: 0.0207480\ttotal: 31.9s\tremaining: 3m 7s\n",
      "145:\tlearn: 0.0207298\ttotal: 32.1s\tremaining: 3m 7s\n",
      "146:\tlearn: 0.0207127\ttotal: 32.4s\tremaining: 3m 7s\n",
      "147:\tlearn: 0.0206997\ttotal: 32.6s\tremaining: 3m 7s\n",
      "148:\tlearn: 0.0206643\ttotal: 32.8s\tremaining: 3m 7s\n",
      "149:\tlearn: 0.0206150\ttotal: 33s\tremaining: 3m 7s\n",
      "150:\tlearn: 0.0205916\ttotal: 33.2s\tremaining: 3m 6s\n",
      "151:\tlearn: 0.0205840\ttotal: 33.5s\tremaining: 3m 6s\n",
      "152:\tlearn: 0.0205751\ttotal: 33.6s\tremaining: 3m 6s\n",
      "153:\tlearn: 0.0205118\ttotal: 33.8s\tremaining: 3m 5s\n",
      "154:\tlearn: 0.0205026\ttotal: 34.1s\tremaining: 3m 6s\n",
      "155:\tlearn: 0.0204570\ttotal: 34.4s\tremaining: 3m 6s\n",
      "156:\tlearn: 0.0204487\ttotal: 34.7s\tremaining: 3m 6s\n",
      "157:\tlearn: 0.0203997\ttotal: 34.9s\tremaining: 3m 6s\n"
     ]
    },
    {
     "name": "stdout",
     "output_type": "stream",
     "text": [
      "158:\tlearn: 0.0203536\ttotal: 35.1s\tremaining: 3m 5s\n",
      "159:\tlearn: 0.0203085\ttotal: 35.4s\tremaining: 3m 5s\n",
      "160:\tlearn: 0.0202817\ttotal: 35.6s\tremaining: 3m 5s\n",
      "161:\tlearn: 0.0202453\ttotal: 35.8s\tremaining: 3m 5s\n",
      "162:\tlearn: 0.0201528\ttotal: 36.1s\tremaining: 3m 5s\n",
      "163:\tlearn: 0.0201348\ttotal: 36.3s\tremaining: 3m 4s\n",
      "164:\tlearn: 0.0201161\ttotal: 36.5s\tremaining: 3m 4s\n",
      "165:\tlearn: 0.0201028\ttotal: 36.7s\tremaining: 3m 4s\n",
      "166:\tlearn: 0.0200677\ttotal: 37s\tremaining: 3m 4s\n",
      "167:\tlearn: 0.0200541\ttotal: 37.2s\tremaining: 3m 4s\n",
      "168:\tlearn: 0.0200438\ttotal: 37.4s\tremaining: 3m 4s\n",
      "169:\tlearn: 0.0200055\ttotal: 37.6s\tremaining: 3m 3s\n",
      "170:\tlearn: 0.0199924\ttotal: 37.8s\tremaining: 3m 3s\n",
      "171:\tlearn: 0.0199645\ttotal: 38.1s\tremaining: 3m 3s\n",
      "172:\tlearn: 0.0199497\ttotal: 38.3s\tremaining: 3m 3s\n",
      "173:\tlearn: 0.0199414\ttotal: 38.5s\tremaining: 3m 2s\n",
      "174:\tlearn: 0.0199051\ttotal: 38.7s\tremaining: 3m 2s\n",
      "175:\tlearn: 0.0199036\ttotal: 38.8s\tremaining: 3m 1s\n",
      "176:\tlearn: 0.0197598\ttotal: 39.1s\tremaining: 3m 1s\n",
      "177:\tlearn: 0.0197150\ttotal: 39.3s\tremaining: 3m 1s\n",
      "178:\tlearn: 0.0196986\ttotal: 39.6s\tremaining: 3m 1s\n",
      "179:\tlearn: 0.0196821\ttotal: 39.8s\tremaining: 3m 1s\n",
      "180:\tlearn: 0.0196686\ttotal: 40.1s\tremaining: 3m 1s\n",
      "181:\tlearn: 0.0196573\ttotal: 40.3s\tremaining: 3m 1s\n",
      "182:\tlearn: 0.0196321\ttotal: 40.5s\tremaining: 3m\n",
      "183:\tlearn: 0.0196258\ttotal: 40.7s\tremaining: 3m\n",
      "184:\tlearn: 0.0196026\ttotal: 41s\tremaining: 3m\n",
      "185:\tlearn: 0.0195747\ttotal: 41.3s\tremaining: 3m\n",
      "186:\tlearn: 0.0195298\ttotal: 41.4s\tremaining: 3m\n",
      "187:\tlearn: 0.0195193\ttotal: 41.6s\tremaining: 2m 59s\n",
      "188:\tlearn: 0.0195138\ttotal: 41.8s\tremaining: 2m 59s\n",
      "189:\tlearn: 0.0195105\ttotal: 42s\tremaining: 2m 59s\n",
      "190:\tlearn: 0.0194957\ttotal: 42.2s\tremaining: 2m 58s\n",
      "191:\tlearn: 0.0194658\ttotal: 42.5s\tremaining: 2m 58s\n",
      "192:\tlearn: 0.0194561\ttotal: 42.7s\tremaining: 2m 58s\n",
      "193:\tlearn: 0.0194540\ttotal: 42.9s\tremaining: 2m 58s\n",
      "194:\tlearn: 0.0194432\ttotal: 43.2s\tremaining: 2m 58s\n",
      "195:\tlearn: 0.0193381\ttotal: 43.4s\tremaining: 2m 58s\n",
      "196:\tlearn: 0.0193262\ttotal: 43.7s\tremaining: 2m 58s\n",
      "197:\tlearn: 0.0192022\ttotal: 44s\tremaining: 2m 58s\n",
      "198:\tlearn: 0.0191889\ttotal: 44.2s\tremaining: 2m 58s\n",
      "199:\tlearn: 0.0191862\ttotal: 44.5s\tremaining: 2m 58s\n",
      "200:\tlearn: 0.0191619\ttotal: 44.7s\tremaining: 2m 57s\n",
      "201:\tlearn: 0.0191504\ttotal: 45s\tremaining: 2m 57s\n",
      "202:\tlearn: 0.0191466\ttotal: 45.2s\tremaining: 2m 57s\n",
      "203:\tlearn: 0.0191247\ttotal: 45.5s\tremaining: 2m 57s\n",
      "204:\tlearn: 0.0191200\ttotal: 45.8s\tremaining: 2m 57s\n",
      "205:\tlearn: 0.0191035\ttotal: 45.9s\tremaining: 2m 57s\n",
      "206:\tlearn: 0.0190988\ttotal: 46.1s\tremaining: 2m 56s\n",
      "207:\tlearn: 0.0190843\ttotal: 46.4s\tremaining: 2m 56s\n",
      "208:\tlearn: 0.0190631\ttotal: 46.7s\tremaining: 2m 56s\n",
      "209:\tlearn: 0.0190593\ttotal: 47s\tremaining: 2m 56s\n",
      "210:\tlearn: 0.0190401\ttotal: 47.3s\tremaining: 2m 56s\n",
      "211:\tlearn: 0.0190391\ttotal: 47.6s\tremaining: 2m 56s\n",
      "212:\tlearn: 0.0190225\ttotal: 47.8s\tremaining: 2m 56s\n",
      "213:\tlearn: 0.0189981\ttotal: 48.1s\tremaining: 2m 56s\n",
      "214:\tlearn: 0.0189963\ttotal: 48.3s\tremaining: 2m 56s\n",
      "215:\tlearn: 0.0189934\ttotal: 48.6s\tremaining: 2m 56s\n",
      "216:\tlearn: 0.0189916\ttotal: 48.8s\tremaining: 2m 56s\n",
      "217:\tlearn: 0.0189881\ttotal: 49.1s\tremaining: 2m 56s\n",
      "218:\tlearn: 0.0189662\ttotal: 49.4s\tremaining: 2m 56s\n",
      "219:\tlearn: 0.0189468\ttotal: 49.6s\tremaining: 2m 55s\n",
      "220:\tlearn: 0.0189451\ttotal: 49.8s\tremaining: 2m 55s\n",
      "221:\tlearn: 0.0189375\ttotal: 50.1s\tremaining: 2m 55s\n",
      "222:\tlearn: 0.0188792\ttotal: 50.4s\tremaining: 2m 55s\n",
      "223:\tlearn: 0.0188494\ttotal: 50.7s\tremaining: 2m 55s\n",
      "224:\tlearn: 0.0188294\ttotal: 50.9s\tremaining: 2m 55s\n",
      "225:\tlearn: 0.0188089\ttotal: 51.2s\tremaining: 2m 55s\n",
      "226:\tlearn: 0.0188069\ttotal: 51.5s\tremaining: 2m 55s\n",
      "227:\tlearn: 0.0187860\ttotal: 51.8s\tremaining: 2m 55s\n",
      "228:\tlearn: 0.0187627\ttotal: 52s\tremaining: 2m 55s\n",
      "229:\tlearn: 0.0187573\ttotal: 52.3s\tremaining: 2m 55s\n",
      "230:\tlearn: 0.0187359\ttotal: 52.5s\tremaining: 2m 54s\n",
      "231:\tlearn: 0.0187290\ttotal: 52.8s\tremaining: 2m 54s\n",
      "232:\tlearn: 0.0187275\ttotal: 53.1s\tremaining: 2m 54s\n",
      "233:\tlearn: 0.0187057\ttotal: 53.4s\tremaining: 2m 54s\n",
      "234:\tlearn: 0.0186987\ttotal: 53.6s\tremaining: 2m 54s\n",
      "235:\tlearn: 0.0186823\ttotal: 53.9s\tremaining: 2m 54s\n",
      "236:\tlearn: 0.0186683\ttotal: 54.3s\tremaining: 2m 54s\n",
      "237:\tlearn: 0.0186353\ttotal: 54.5s\tremaining: 2m 54s\n",
      "238:\tlearn: 0.0186094\ttotal: 54.8s\tremaining: 2m 54s\n",
      "239:\tlearn: 0.0185841\ttotal: 55s\tremaining: 2m 54s\n",
      "240:\tlearn: 0.0185614\ttotal: 55.4s\tremaining: 2m 54s\n",
      "241:\tlearn: 0.0185504\ttotal: 55.7s\tremaining: 2m 54s\n",
      "242:\tlearn: 0.0185337\ttotal: 55.9s\tremaining: 2m 54s\n",
      "243:\tlearn: 0.0185288\ttotal: 56.2s\tremaining: 2m 54s\n",
      "244:\tlearn: 0.0185163\ttotal: 56.5s\tremaining: 2m 54s\n",
      "245:\tlearn: 0.0185141\ttotal: 56.8s\tremaining: 2m 54s\n",
      "246:\tlearn: 0.0185098\ttotal: 57.1s\tremaining: 2m 53s\n",
      "247:\tlearn: 0.0185073\ttotal: 57.3s\tremaining: 2m 53s\n",
      "248:\tlearn: 0.0184910\ttotal: 57.6s\tremaining: 2m 53s\n",
      "249:\tlearn: 0.0184762\ttotal: 57.8s\tremaining: 2m 53s\n",
      "250:\tlearn: 0.0184614\ttotal: 58.1s\tremaining: 2m 53s\n",
      "251:\tlearn: 0.0184520\ttotal: 58.4s\tremaining: 2m 53s\n",
      "252:\tlearn: 0.0184138\ttotal: 58.6s\tremaining: 2m 52s\n",
      "253:\tlearn: 0.0183918\ttotal: 58.9s\tremaining: 2m 53s\n",
      "254:\tlearn: 0.0183778\ttotal: 59.2s\tremaining: 2m 52s\n",
      "255:\tlearn: 0.0183723\ttotal: 59.5s\tremaining: 2m 52s\n",
      "256:\tlearn: 0.0183683\ttotal: 59.7s\tremaining: 2m 52s\n",
      "257:\tlearn: 0.0183555\ttotal: 1m\tremaining: 2m 52s\n",
      "258:\tlearn: 0.0183472\ttotal: 1m\tremaining: 2m 52s\n",
      "259:\tlearn: 0.0183376\ttotal: 1m\tremaining: 2m 52s\n",
      "260:\tlearn: 0.0183268\ttotal: 1m\tremaining: 2m 52s\n",
      "261:\tlearn: 0.0183119\ttotal: 1m 1s\tremaining: 2m 52s\n",
      "262:\tlearn: 0.0183092\ttotal: 1m 1s\tremaining: 2m 51s\n",
      "263:\tlearn: 0.0183007\ttotal: 1m 1s\tremaining: 2m 51s\n",
      "264:\tlearn: 0.0182981\ttotal: 1m 1s\tremaining: 2m 51s\n",
      "265:\tlearn: 0.0182817\ttotal: 1m 1s\tremaining: 2m 51s\n",
      "266:\tlearn: 0.0182645\ttotal: 1m 2s\tremaining: 2m 50s\n",
      "267:\tlearn: 0.0182506\ttotal: 1m 2s\tremaining: 2m 50s\n",
      "268:\tlearn: 0.0182397\ttotal: 1m 2s\tremaining: 2m 50s\n",
      "269:\tlearn: 0.0182304\ttotal: 1m 3s\tremaining: 2m 50s\n",
      "270:\tlearn: 0.0182161\ttotal: 1m 3s\tremaining: 2m 50s\n",
      "271:\tlearn: 0.0181829\ttotal: 1m 3s\tremaining: 2m 50s\n",
      "272:\tlearn: 0.0181746\ttotal: 1m 3s\tremaining: 2m 49s\n",
      "273:\tlearn: 0.0181297\ttotal: 1m 4s\tremaining: 2m 49s\n",
      "274:\tlearn: 0.0181082\ttotal: 1m 4s\tremaining: 2m 49s\n",
      "275:\tlearn: 0.0180995\ttotal: 1m 4s\tremaining: 2m 49s\n",
      "276:\tlearn: 0.0180877\ttotal: 1m 4s\tremaining: 2m 49s\n",
      "277:\tlearn: 0.0180827\ttotal: 1m 5s\tremaining: 2m 49s\n",
      "278:\tlearn: 0.0180756\ttotal: 1m 5s\tremaining: 2m 48s\n",
      "279:\tlearn: 0.0180649\ttotal: 1m 5s\tremaining: 2m 48s\n",
      "280:\tlearn: 0.0180486\ttotal: 1m 5s\tremaining: 2m 48s\n",
      "281:\tlearn: 0.0180402\ttotal: 1m 6s\tremaining: 2m 48s\n",
      "282:\tlearn: 0.0180357\ttotal: 1m 6s\tremaining: 2m 48s\n",
      "283:\tlearn: 0.0180160\ttotal: 1m 6s\tremaining: 2m 47s\n",
      "284:\tlearn: 0.0180094\ttotal: 1m 6s\tremaining: 2m 47s\n",
      "285:\tlearn: 0.0180024\ttotal: 1m 7s\tremaining: 2m 47s\n",
      "286:\tlearn: 0.0179951\ttotal: 1m 7s\tremaining: 2m 47s\n",
      "287:\tlearn: 0.0179854\ttotal: 1m 7s\tremaining: 2m 46s\n",
      "288:\tlearn: 0.0179715\ttotal: 1m 7s\tremaining: 2m 46s\n",
      "289:\tlearn: 0.0179637\ttotal: 1m 8s\tremaining: 2m 46s\n",
      "290:\tlearn: 0.0179558\ttotal: 1m 8s\tremaining: 2m 46s\n",
      "291:\tlearn: 0.0179450\ttotal: 1m 8s\tremaining: 2m 46s\n",
      "292:\tlearn: 0.0179390\ttotal: 1m 8s\tremaining: 2m 46s\n",
      "293:\tlearn: 0.0179238\ttotal: 1m 9s\tremaining: 2m 46s\n",
      "294:\tlearn: 0.0179164\ttotal: 1m 9s\tremaining: 2m 45s\n",
      "295:\tlearn: 0.0179093\ttotal: 1m 9s\tremaining: 2m 45s\n",
      "296:\tlearn: 0.0179017\ttotal: 1m 9s\tremaining: 2m 45s\n",
      "297:\tlearn: 0.0178889\ttotal: 1m 10s\tremaining: 2m 44s\n",
      "298:\tlearn: 0.0178851\ttotal: 1m 10s\tremaining: 2m 44s\n",
      "299:\tlearn: 0.0178829\ttotal: 1m 10s\tremaining: 2m 44s\n",
      "300:\tlearn: 0.0178811\ttotal: 1m 10s\tremaining: 2m 44s\n",
      "301:\tlearn: 0.0178658\ttotal: 1m 10s\tremaining: 2m 43s\n",
      "302:\tlearn: 0.0178588\ttotal: 1m 11s\tremaining: 2m 43s\n",
      "303:\tlearn: 0.0177932\ttotal: 1m 11s\tremaining: 2m 43s\n",
      "304:\tlearn: 0.0177840\ttotal: 1m 11s\tremaining: 2m 43s\n",
      "305:\tlearn: 0.0177727\ttotal: 1m 11s\tremaining: 2m 43s\n",
      "306:\tlearn: 0.0177302\ttotal: 1m 12s\tremaining: 2m 43s\n",
      "307:\tlearn: 0.0176651\ttotal: 1m 12s\tremaining: 2m 42s\n",
      "308:\tlearn: 0.0176426\ttotal: 1m 12s\tremaining: 2m 42s\n",
      "309:\tlearn: 0.0176407\ttotal: 1m 13s\tremaining: 2m 42s\n",
      "310:\tlearn: 0.0176226\ttotal: 1m 13s\tremaining: 2m 42s\n",
      "311:\tlearn: 0.0176187\ttotal: 1m 13s\tremaining: 2m 42s\n",
      "312:\tlearn: 0.0176036\ttotal: 1m 13s\tremaining: 2m 42s\n",
      "313:\tlearn: 0.0175603\ttotal: 1m 14s\tremaining: 2m 41s\n",
      "314:\tlearn: 0.0175288\ttotal: 1m 14s\tremaining: 2m 41s\n"
     ]
    },
    {
     "name": "stdout",
     "output_type": "stream",
     "text": [
      "315:\tlearn: 0.0175242\ttotal: 1m 14s\tremaining: 2m 41s\n",
      "316:\tlearn: 0.0175180\ttotal: 1m 14s\tremaining: 2m 41s\n",
      "317:\tlearn: 0.0174871\ttotal: 1m 15s\tremaining: 2m 41s\n",
      "318:\tlearn: 0.0174785\ttotal: 1m 15s\tremaining: 2m 41s\n",
      "319:\tlearn: 0.0174739\ttotal: 1m 15s\tremaining: 2m 40s\n",
      "320:\tlearn: 0.0174624\ttotal: 1m 15s\tremaining: 2m 40s\n",
      "321:\tlearn: 0.0174483\ttotal: 1m 16s\tremaining: 2m 40s\n",
      "322:\tlearn: 0.0174404\ttotal: 1m 16s\tremaining: 2m 40s\n",
      "323:\tlearn: 0.0174283\ttotal: 1m 16s\tremaining: 2m 40s\n",
      "324:\tlearn: 0.0174133\ttotal: 1m 17s\tremaining: 2m 40s\n",
      "325:\tlearn: 0.0174083\ttotal: 1m 17s\tremaining: 2m 39s\n",
      "326:\tlearn: 0.0173601\ttotal: 1m 17s\tremaining: 2m 39s\n",
      "327:\tlearn: 0.0173493\ttotal: 1m 17s\tremaining: 2m 39s\n",
      "328:\tlearn: 0.0173258\ttotal: 1m 18s\tremaining: 2m 39s\n",
      "329:\tlearn: 0.0173087\ttotal: 1m 18s\tremaining: 2m 39s\n",
      "330:\tlearn: 0.0173025\ttotal: 1m 18s\tremaining: 2m 39s\n",
      "331:\tlearn: 0.0172983\ttotal: 1m 19s\tremaining: 2m 39s\n",
      "332:\tlearn: 0.0172821\ttotal: 1m 19s\tremaining: 2m 38s\n",
      "333:\tlearn: 0.0172419\ttotal: 1m 19s\tremaining: 2m 38s\n",
      "334:\tlearn: 0.0172161\ttotal: 1m 19s\tremaining: 2m 38s\n",
      "335:\tlearn: 0.0172115\ttotal: 1m 20s\tremaining: 2m 38s\n",
      "336:\tlearn: 0.0172067\ttotal: 1m 20s\tremaining: 2m 38s\n",
      "337:\tlearn: 0.0172026\ttotal: 1m 20s\tremaining: 2m 37s\n",
      "338:\tlearn: 0.0171931\ttotal: 1m 20s\tremaining: 2m 37s\n",
      "339:\tlearn: 0.0171767\ttotal: 1m 21s\tremaining: 2m 37s\n",
      "340:\tlearn: 0.0171730\ttotal: 1m 21s\tremaining: 2m 36s\n",
      "341:\tlearn: 0.0171659\ttotal: 1m 21s\tremaining: 2m 36s\n",
      "342:\tlearn: 0.0171324\ttotal: 1m 21s\tremaining: 2m 36s\n",
      "343:\tlearn: 0.0171313\ttotal: 1m 22s\tremaining: 2m 36s\n",
      "344:\tlearn: 0.0171282\ttotal: 1m 22s\tremaining: 2m 36s\n",
      "345:\tlearn: 0.0171273\ttotal: 1m 22s\tremaining: 2m 36s\n",
      "346:\tlearn: 0.0171232\ttotal: 1m 22s\tremaining: 2m 36s\n",
      "347:\tlearn: 0.0171153\ttotal: 1m 23s\tremaining: 2m 35s\n",
      "348:\tlearn: 0.0171012\ttotal: 1m 23s\tremaining: 2m 35s\n",
      "349:\tlearn: 0.0170688\ttotal: 1m 23s\tremaining: 2m 35s\n",
      "350:\tlearn: 0.0170683\ttotal: 1m 23s\tremaining: 2m 35s\n",
      "351:\tlearn: 0.0170645\ttotal: 1m 24s\tremaining: 2m 35s\n",
      "352:\tlearn: 0.0170447\ttotal: 1m 24s\tremaining: 2m 34s\n",
      "353:\tlearn: 0.0170444\ttotal: 1m 24s\tremaining: 2m 34s\n",
      "354:\tlearn: 0.0170325\ttotal: 1m 25s\tremaining: 2m 34s\n",
      "355:\tlearn: 0.0170270\ttotal: 1m 25s\tremaining: 2m 34s\n",
      "356:\tlearn: 0.0170193\ttotal: 1m 25s\tremaining: 2m 34s\n",
      "357:\tlearn: 0.0169894\ttotal: 1m 25s\tremaining: 2m 33s\n",
      "358:\tlearn: 0.0169867\ttotal: 1m 26s\tremaining: 2m 33s\n",
      "359:\tlearn: 0.0169706\ttotal: 1m 26s\tremaining: 2m 33s\n",
      "360:\tlearn: 0.0169670\ttotal: 1m 26s\tremaining: 2m 33s\n",
      "361:\tlearn: 0.0169419\ttotal: 1m 26s\tremaining: 2m 32s\n",
      "362:\tlearn: 0.0169094\ttotal: 1m 27s\tremaining: 2m 32s\n",
      "363:\tlearn: 0.0169013\ttotal: 1m 27s\tremaining: 2m 32s\n",
      "364:\tlearn: 0.0168948\ttotal: 1m 27s\tremaining: 2m 32s\n",
      "365:\tlearn: 0.0168896\ttotal: 1m 27s\tremaining: 2m 31s\n",
      "366:\tlearn: 0.0168865\ttotal: 1m 27s\tremaining: 2m 31s\n",
      "367:\tlearn: 0.0168743\ttotal: 1m 28s\tremaining: 2m 31s\n",
      "368:\tlearn: 0.0168546\ttotal: 1m 28s\tremaining: 2m 31s\n",
      "369:\tlearn: 0.0168509\ttotal: 1m 28s\tremaining: 2m 31s\n",
      "370:\tlearn: 0.0168252\ttotal: 1m 28s\tremaining: 2m 30s\n",
      "371:\tlearn: 0.0168109\ttotal: 1m 29s\tremaining: 2m 30s\n",
      "372:\tlearn: 0.0168046\ttotal: 1m 29s\tremaining: 2m 30s\n",
      "373:\tlearn: 0.0167604\ttotal: 1m 29s\tremaining: 2m 30s\n",
      "374:\tlearn: 0.0167600\ttotal: 1m 30s\tremaining: 2m 30s\n",
      "375:\tlearn: 0.0167565\ttotal: 1m 30s\tremaining: 2m 29s\n",
      "376:\tlearn: 0.0167543\ttotal: 1m 30s\tremaining: 2m 29s\n",
      "377:\tlearn: 0.0167367\ttotal: 1m 30s\tremaining: 2m 29s\n",
      "378:\tlearn: 0.0167348\ttotal: 1m 30s\tremaining: 2m 29s\n",
      "379:\tlearn: 0.0167256\ttotal: 1m 31s\tremaining: 2m 28s\n",
      "380:\tlearn: 0.0167171\ttotal: 1m 31s\tremaining: 2m 28s\n",
      "381:\tlearn: 0.0167133\ttotal: 1m 31s\tremaining: 2m 28s\n",
      "382:\tlearn: 0.0167089\ttotal: 1m 32s\tremaining: 2m 28s\n",
      "383:\tlearn: 0.0167069\ttotal: 1m 32s\tremaining: 2m 28s\n",
      "384:\tlearn: 0.0166916\ttotal: 1m 32s\tremaining: 2m 28s\n",
      "385:\tlearn: 0.0166882\ttotal: 1m 33s\tremaining: 2m 27s\n",
      "386:\tlearn: 0.0166839\ttotal: 1m 33s\tremaining: 2m 27s\n",
      "387:\tlearn: 0.0166716\ttotal: 1m 33s\tremaining: 2m 27s\n",
      "388:\tlearn: 0.0166559\ttotal: 1m 33s\tremaining: 2m 27s\n",
      "389:\tlearn: 0.0166553\ttotal: 1m 34s\tremaining: 2m 27s\n",
      "390:\tlearn: 0.0166531\ttotal: 1m 34s\tremaining: 2m 26s\n",
      "391:\tlearn: 0.0166506\ttotal: 1m 34s\tremaining: 2m 26s\n",
      "392:\tlearn: 0.0166411\ttotal: 1m 34s\tremaining: 2m 26s\n",
      "393:\tlearn: 0.0166337\ttotal: 1m 34s\tremaining: 2m 25s\n",
      "394:\tlearn: 0.0166110\ttotal: 1m 35s\tremaining: 2m 25s\n",
      "395:\tlearn: 0.0166051\ttotal: 1m 35s\tremaining: 2m 25s\n",
      "396:\tlearn: 0.0165942\ttotal: 1m 35s\tremaining: 2m 25s\n",
      "397:\tlearn: 0.0165715\ttotal: 1m 35s\tremaining: 2m 25s\n",
      "398:\tlearn: 0.0165679\ttotal: 1m 36s\tremaining: 2m 24s\n",
      "399:\tlearn: 0.0165541\ttotal: 1m 36s\tremaining: 2m 24s\n",
      "400:\tlearn: 0.0165523\ttotal: 1m 36s\tremaining: 2m 24s\n",
      "401:\tlearn: 0.0165467\ttotal: 1m 36s\tremaining: 2m 24s\n",
      "402:\tlearn: 0.0165324\ttotal: 1m 37s\tremaining: 2m 24s\n",
      "403:\tlearn: 0.0165291\ttotal: 1m 37s\tremaining: 2m 23s\n",
      "404:\tlearn: 0.0165246\ttotal: 1m 37s\tremaining: 2m 23s\n",
      "405:\tlearn: 0.0164698\ttotal: 1m 38s\tremaining: 2m 23s\n",
      "406:\tlearn: 0.0164527\ttotal: 1m 38s\tremaining: 2m 23s\n",
      "407:\tlearn: 0.0164334\ttotal: 1m 38s\tremaining: 2m 22s\n",
      "408:\tlearn: 0.0164175\ttotal: 1m 38s\tremaining: 2m 22s\n",
      "409:\tlearn: 0.0163866\ttotal: 1m 38s\tremaining: 2m 22s\n",
      "410:\tlearn: 0.0163776\ttotal: 1m 39s\tremaining: 2m 22s\n",
      "411:\tlearn: 0.0163598\ttotal: 1m 39s\tremaining: 2m 22s\n",
      "412:\tlearn: 0.0163452\ttotal: 1m 39s\tremaining: 2m 21s\n",
      "413:\tlearn: 0.0163423\ttotal: 1m 40s\tremaining: 2m 21s\n",
      "414:\tlearn: 0.0163286\ttotal: 1m 40s\tremaining: 2m 21s\n",
      "415:\tlearn: 0.0163245\ttotal: 1m 40s\tremaining: 2m 21s\n",
      "416:\tlearn: 0.0163146\ttotal: 1m 40s\tremaining: 2m 21s\n",
      "417:\tlearn: 0.0163079\ttotal: 1m 41s\tremaining: 2m 20s\n",
      "418:\tlearn: 0.0163045\ttotal: 1m 41s\tremaining: 2m 20s\n",
      "419:\tlearn: 0.0162755\ttotal: 1m 41s\tremaining: 2m 20s\n",
      "420:\tlearn: 0.0162677\ttotal: 1m 41s\tremaining: 2m 20s\n",
      "421:\tlearn: 0.0162582\ttotal: 1m 42s\tremaining: 2m 20s\n",
      "422:\tlearn: 0.0162565\ttotal: 1m 42s\tremaining: 2m 19s\n",
      "423:\tlearn: 0.0162277\ttotal: 1m 42s\tremaining: 2m 19s\n",
      "424:\tlearn: 0.0162238\ttotal: 1m 43s\tremaining: 2m 19s\n",
      "425:\tlearn: 0.0162117\ttotal: 1m 43s\tremaining: 2m 19s\n",
      "426:\tlearn: 0.0161634\ttotal: 1m 43s\tremaining: 2m 19s\n",
      "427:\tlearn: 0.0161590\ttotal: 1m 43s\tremaining: 2m 18s\n",
      "428:\tlearn: 0.0161433\ttotal: 1m 44s\tremaining: 2m 18s\n",
      "429:\tlearn: 0.0161403\ttotal: 1m 44s\tremaining: 2m 18s\n",
      "430:\tlearn: 0.0161272\ttotal: 1m 44s\tremaining: 2m 17s\n",
      "431:\tlearn: 0.0161086\ttotal: 1m 44s\tremaining: 2m 17s\n",
      "432:\tlearn: 0.0161044\ttotal: 1m 44s\tremaining: 2m 17s\n",
      "433:\tlearn: 0.0161029\ttotal: 1m 45s\tremaining: 2m 17s\n",
      "434:\tlearn: 0.0161004\ttotal: 1m 45s\tremaining: 2m 16s\n",
      "435:\tlearn: 0.0160888\ttotal: 1m 45s\tremaining: 2m 16s\n",
      "436:\tlearn: 0.0160869\ttotal: 1m 45s\tremaining: 2m 16s\n",
      "437:\tlearn: 0.0160823\ttotal: 1m 46s\tremaining: 2m 16s\n",
      "438:\tlearn: 0.0160672\ttotal: 1m 46s\tremaining: 2m 15s\n",
      "439:\tlearn: 0.0160160\ttotal: 1m 46s\tremaining: 2m 15s\n",
      "440:\tlearn: 0.0159974\ttotal: 1m 46s\tremaining: 2m 15s\n",
      "441:\tlearn: 0.0159932\ttotal: 1m 47s\tremaining: 2m 15s\n",
      "442:\tlearn: 0.0159788\ttotal: 1m 47s\tremaining: 2m 15s\n",
      "443:\tlearn: 0.0159555\ttotal: 1m 47s\tremaining: 2m 14s\n",
      "444:\tlearn: 0.0159485\ttotal: 1m 47s\tremaining: 2m 14s\n",
      "445:\tlearn: 0.0159261\ttotal: 1m 48s\tremaining: 2m 14s\n",
      "446:\tlearn: 0.0159230\ttotal: 1m 48s\tremaining: 2m 14s\n",
      "447:\tlearn: 0.0159104\ttotal: 1m 48s\tremaining: 2m 13s\n",
      "448:\tlearn: 0.0158933\ttotal: 1m 48s\tremaining: 2m 13s\n",
      "449:\tlearn: 0.0158344\ttotal: 1m 49s\tremaining: 2m 13s\n",
      "450:\tlearn: 0.0158309\ttotal: 1m 49s\tremaining: 2m 13s\n",
      "451:\tlearn: 0.0158275\ttotal: 1m 49s\tremaining: 2m 12s\n",
      "452:\tlearn: 0.0158233\ttotal: 1m 49s\tremaining: 2m 12s\n",
      "453:\tlearn: 0.0158205\ttotal: 1m 50s\tremaining: 2m 12s\n",
      "454:\tlearn: 0.0158045\ttotal: 1m 50s\tremaining: 2m 12s\n",
      "455:\tlearn: 0.0158000\ttotal: 1m 50s\tremaining: 2m 12s\n",
      "456:\tlearn: 0.0157986\ttotal: 1m 50s\tremaining: 2m 11s\n",
      "457:\tlearn: 0.0157974\ttotal: 1m 51s\tremaining: 2m 11s\n",
      "458:\tlearn: 0.0157947\ttotal: 1m 51s\tremaining: 2m 11s\n",
      "459:\tlearn: 0.0157917\ttotal: 1m 51s\tremaining: 2m 11s\n",
      "460:\tlearn: 0.0157891\ttotal: 1m 52s\tremaining: 2m 10s\n",
      "461:\tlearn: 0.0157861\ttotal: 1m 52s\tremaining: 2m 10s\n",
      "462:\tlearn: 0.0157746\ttotal: 1m 52s\tremaining: 2m 10s\n",
      "463:\tlearn: 0.0157669\ttotal: 1m 52s\tremaining: 2m 10s\n",
      "464:\tlearn: 0.0157598\ttotal: 1m 53s\tremaining: 2m 10s\n",
      "465:\tlearn: 0.0157554\ttotal: 1m 53s\tremaining: 2m 9s\n",
      "466:\tlearn: 0.0157520\ttotal: 1m 53s\tremaining: 2m 9s\n"
     ]
    },
    {
     "name": "stdout",
     "output_type": "stream",
     "text": [
      "467:\tlearn: 0.0157474\ttotal: 1m 54s\tremaining: 2m 9s\n",
      "468:\tlearn: 0.0157451\ttotal: 1m 54s\tremaining: 2m 9s\n",
      "469:\tlearn: 0.0157379\ttotal: 1m 54s\tremaining: 2m 9s\n",
      "470:\tlearn: 0.0157338\ttotal: 1m 54s\tremaining: 2m 8s\n",
      "471:\tlearn: 0.0157283\ttotal: 1m 55s\tremaining: 2m 8s\n",
      "472:\tlearn: 0.0157242\ttotal: 1m 55s\tremaining: 2m 8s\n",
      "473:\tlearn: 0.0157182\ttotal: 1m 55s\tremaining: 2m 8s\n",
      "474:\tlearn: 0.0157166\ttotal: 1m 55s\tremaining: 2m 8s\n",
      "475:\tlearn: 0.0156877\ttotal: 1m 56s\tremaining: 2m 8s\n",
      "476:\tlearn: 0.0156829\ttotal: 1m 56s\tremaining: 2m 7s\n",
      "477:\tlearn: 0.0156820\ttotal: 1m 56s\tremaining: 2m 7s\n",
      "478:\tlearn: 0.0156787\ttotal: 1m 57s\tremaining: 2m 7s\n",
      "479:\tlearn: 0.0156615\ttotal: 1m 57s\tremaining: 2m 7s\n",
      "480:\tlearn: 0.0156525\ttotal: 1m 57s\tremaining: 2m 6s\n",
      "481:\tlearn: 0.0156468\ttotal: 1m 57s\tremaining: 2m 6s\n",
      "482:\tlearn: 0.0156421\ttotal: 1m 58s\tremaining: 2m 6s\n",
      "483:\tlearn: 0.0156411\ttotal: 1m 58s\tremaining: 2m 6s\n",
      "484:\tlearn: 0.0156286\ttotal: 1m 58s\tremaining: 2m 5s\n",
      "485:\tlearn: 0.0156252\ttotal: 1m 58s\tremaining: 2m 5s\n",
      "486:\tlearn: 0.0156150\ttotal: 1m 59s\tremaining: 2m 5s\n",
      "487:\tlearn: 0.0156105\ttotal: 1m 59s\tremaining: 2m 5s\n",
      "488:\tlearn: 0.0156039\ttotal: 1m 59s\tremaining: 2m 4s\n",
      "489:\tlearn: 0.0155785\ttotal: 1m 59s\tremaining: 2m 4s\n",
      "490:\tlearn: 0.0155773\ttotal: 2m\tremaining: 2m 4s\n",
      "491:\tlearn: 0.0155757\ttotal: 2m\tremaining: 2m 4s\n",
      "492:\tlearn: 0.0155511\ttotal: 2m\tremaining: 2m 4s\n",
      "493:\tlearn: 0.0155497\ttotal: 2m\tremaining: 2m 3s\n",
      "494:\tlearn: 0.0155380\ttotal: 2m 1s\tremaining: 2m 3s\n",
      "495:\tlearn: 0.0155347\ttotal: 2m 1s\tremaining: 2m 3s\n",
      "496:\tlearn: 0.0155330\ttotal: 2m 1s\tremaining: 2m 3s\n",
      "497:\tlearn: 0.0155161\ttotal: 2m 1s\tremaining: 2m 2s\n",
      "498:\tlearn: 0.0154937\ttotal: 2m 2s\tremaining: 2m 2s\n",
      "499:\tlearn: 0.0154919\ttotal: 2m 2s\tremaining: 2m 2s\n",
      "500:\tlearn: 0.0154883\ttotal: 2m 2s\tremaining: 2m 2s\n",
      "501:\tlearn: 0.0154864\ttotal: 2m 2s\tremaining: 2m 1s\n",
      "502:\tlearn: 0.0154672\ttotal: 2m 3s\tremaining: 2m 1s\n",
      "503:\tlearn: 0.0154638\ttotal: 2m 3s\tremaining: 2m 1s\n",
      "504:\tlearn: 0.0154597\ttotal: 2m 3s\tremaining: 2m 1s\n",
      "505:\tlearn: 0.0154548\ttotal: 2m 3s\tremaining: 2m 1s\n",
      "506:\tlearn: 0.0154395\ttotal: 2m 4s\tremaining: 2m\n",
      "507:\tlearn: 0.0154352\ttotal: 2m 4s\tremaining: 2m\n",
      "508:\tlearn: 0.0154344\ttotal: 2m 4s\tremaining: 2m\n",
      "509:\tlearn: 0.0154329\ttotal: 2m 5s\tremaining: 2m\n",
      "510:\tlearn: 0.0154220\ttotal: 2m 5s\tremaining: 1m 59s\n",
      "511:\tlearn: 0.0154182\ttotal: 2m 5s\tremaining: 1m 59s\n",
      "512:\tlearn: 0.0154137\ttotal: 2m 5s\tremaining: 1m 59s\n",
      "513:\tlearn: 0.0154081\ttotal: 2m 6s\tremaining: 1m 59s\n",
      "514:\tlearn: 0.0154051\ttotal: 2m 6s\tremaining: 1m 59s\n",
      "515:\tlearn: 0.0153896\ttotal: 2m 6s\tremaining: 1m 58s\n",
      "516:\tlearn: 0.0153854\ttotal: 2m 6s\tremaining: 1m 58s\n",
      "517:\tlearn: 0.0153725\ttotal: 2m 7s\tremaining: 1m 58s\n",
      "518:\tlearn: 0.0153694\ttotal: 2m 7s\tremaining: 1m 58s\n",
      "519:\tlearn: 0.0153668\ttotal: 2m 7s\tremaining: 1m 58s\n",
      "520:\tlearn: 0.0153569\ttotal: 2m 8s\tremaining: 1m 57s\n",
      "521:\tlearn: 0.0153330\ttotal: 2m 8s\tremaining: 1m 57s\n",
      "522:\tlearn: 0.0153292\ttotal: 2m 8s\tremaining: 1m 57s\n",
      "523:\tlearn: 0.0153243\ttotal: 2m 8s\tremaining: 1m 57s\n",
      "524:\tlearn: 0.0153187\ttotal: 2m 9s\tremaining: 1m 56s\n",
      "525:\tlearn: 0.0153162\ttotal: 2m 9s\tremaining: 1m 56s\n",
      "526:\tlearn: 0.0153147\ttotal: 2m 9s\tremaining: 1m 56s\n",
      "527:\tlearn: 0.0153122\ttotal: 2m 10s\tremaining: 1m 56s\n",
      "528:\tlearn: 0.0153011\ttotal: 2m 10s\tremaining: 1m 55s\n",
      "529:\tlearn: 0.0152931\ttotal: 2m 10s\tremaining: 1m 55s\n",
      "530:\tlearn: 0.0152265\ttotal: 2m 10s\tremaining: 1m 55s\n",
      "531:\tlearn: 0.0152221\ttotal: 2m 11s\tremaining: 1m 55s\n",
      "532:\tlearn: 0.0152158\ttotal: 2m 11s\tremaining: 1m 55s\n",
      "533:\tlearn: 0.0152134\ttotal: 2m 11s\tremaining: 1m 54s\n",
      "534:\tlearn: 0.0152000\ttotal: 2m 12s\tremaining: 1m 54s\n",
      "535:\tlearn: 0.0151988\ttotal: 2m 12s\tremaining: 1m 54s\n",
      "536:\tlearn: 0.0151919\ttotal: 2m 12s\tremaining: 1m 54s\n",
      "537:\tlearn: 0.0151865\ttotal: 2m 13s\tremaining: 1m 54s\n",
      "538:\tlearn: 0.0151817\ttotal: 2m 13s\tremaining: 1m 54s\n",
      "539:\tlearn: 0.0151754\ttotal: 2m 13s\tremaining: 1m 53s\n",
      "540:\tlearn: 0.0151693\ttotal: 2m 13s\tremaining: 1m 53s\n",
      "541:\tlearn: 0.0151680\ttotal: 2m 14s\tremaining: 1m 53s\n",
      "542:\tlearn: 0.0151510\ttotal: 2m 14s\tremaining: 1m 53s\n",
      "543:\tlearn: 0.0151338\ttotal: 2m 14s\tremaining: 1m 52s\n",
      "544:\tlearn: 0.0151224\ttotal: 2m 15s\tremaining: 1m 52s\n",
      "545:\tlearn: 0.0151165\ttotal: 2m 15s\tremaining: 1m 52s\n",
      "546:\tlearn: 0.0151117\ttotal: 2m 15s\tremaining: 1m 52s\n",
      "547:\tlearn: 0.0151058\ttotal: 2m 16s\tremaining: 1m 52s\n",
      "548:\tlearn: 0.0151036\ttotal: 2m 16s\tremaining: 1m 51s\n",
      "549:\tlearn: 0.0150982\ttotal: 2m 16s\tremaining: 1m 51s\n",
      "550:\tlearn: 0.0150966\ttotal: 2m 16s\tremaining: 1m 51s\n",
      "551:\tlearn: 0.0150904\ttotal: 2m 17s\tremaining: 1m 51s\n",
      "552:\tlearn: 0.0150820\ttotal: 2m 17s\tremaining: 1m 51s\n",
      "553:\tlearn: 0.0150740\ttotal: 2m 17s\tremaining: 1m 50s\n",
      "554:\tlearn: 0.0150646\ttotal: 2m 17s\tremaining: 1m 50s\n",
      "555:\tlearn: 0.0150639\ttotal: 2m 18s\tremaining: 1m 50s\n",
      "556:\tlearn: 0.0150611\ttotal: 2m 18s\tremaining: 1m 50s\n",
      "557:\tlearn: 0.0150434\ttotal: 2m 18s\tremaining: 1m 49s\n",
      "558:\tlearn: 0.0150334\ttotal: 2m 19s\tremaining: 1m 49s\n",
      "559:\tlearn: 0.0150326\ttotal: 2m 19s\tremaining: 1m 49s\n",
      "560:\tlearn: 0.0150111\ttotal: 2m 19s\tremaining: 1m 49s\n",
      "561:\tlearn: 0.0150052\ttotal: 2m 20s\tremaining: 1m 49s\n",
      "562:\tlearn: 0.0149975\ttotal: 2m 20s\tremaining: 1m 48s\n",
      "563:\tlearn: 0.0149897\ttotal: 2m 20s\tremaining: 1m 48s\n",
      "564:\tlearn: 0.0149703\ttotal: 2m 20s\tremaining: 1m 48s\n",
      "565:\tlearn: 0.0149647\ttotal: 2m 21s\tremaining: 1m 48s\n",
      "566:\tlearn: 0.0149627\ttotal: 2m 21s\tremaining: 1m 48s\n",
      "567:\tlearn: 0.0149454\ttotal: 2m 22s\tremaining: 1m 48s\n",
      "568:\tlearn: 0.0149435\ttotal: 2m 22s\tremaining: 1m 47s\n",
      "569:\tlearn: 0.0149381\ttotal: 2m 22s\tremaining: 1m 47s\n",
      "570:\tlearn: 0.0149369\ttotal: 2m 23s\tremaining: 1m 47s\n",
      "571:\tlearn: 0.0148873\ttotal: 2m 23s\tremaining: 1m 47s\n",
      "572:\tlearn: 0.0148613\ttotal: 2m 23s\tremaining: 1m 47s\n",
      "573:\tlearn: 0.0148609\ttotal: 2m 24s\tremaining: 1m 46s\n",
      "574:\tlearn: 0.0148597\ttotal: 2m 24s\tremaining: 1m 46s\n",
      "575:\tlearn: 0.0148585\ttotal: 2m 24s\tremaining: 1m 46s\n",
      "576:\tlearn: 0.0148391\ttotal: 2m 24s\tremaining: 1m 46s\n",
      "577:\tlearn: 0.0148351\ttotal: 2m 25s\tremaining: 1m 46s\n",
      "578:\tlearn: 0.0148286\ttotal: 2m 25s\tremaining: 1m 45s\n",
      "579:\tlearn: 0.0148194\ttotal: 2m 25s\tremaining: 1m 45s\n",
      "580:\tlearn: 0.0148105\ttotal: 2m 26s\tremaining: 1m 45s\n",
      "581:\tlearn: 0.0147907\ttotal: 2m 26s\tremaining: 1m 45s\n",
      "582:\tlearn: 0.0147883\ttotal: 2m 26s\tremaining: 1m 44s\n",
      "583:\tlearn: 0.0147794\ttotal: 2m 27s\tremaining: 1m 44s\n",
      "584:\tlearn: 0.0147781\ttotal: 2m 27s\tremaining: 1m 44s\n",
      "585:\tlearn: 0.0147639\ttotal: 2m 27s\tremaining: 1m 44s\n",
      "586:\tlearn: 0.0147623\ttotal: 2m 27s\tremaining: 1m 44s\n",
      "587:\tlearn: 0.0147569\ttotal: 2m 28s\tremaining: 1m 43s\n",
      "588:\tlearn: 0.0147535\ttotal: 2m 28s\tremaining: 1m 43s\n",
      "589:\tlearn: 0.0147329\ttotal: 2m 28s\tremaining: 1m 43s\n",
      "590:\tlearn: 0.0146947\ttotal: 2m 29s\tremaining: 1m 43s\n",
      "591:\tlearn: 0.0146917\ttotal: 2m 29s\tremaining: 1m 42s\n",
      "592:\tlearn: 0.0146907\ttotal: 2m 29s\tremaining: 1m 42s\n",
      "593:\tlearn: 0.0146755\ttotal: 2m 29s\tremaining: 1m 42s\n",
      "594:\tlearn: 0.0146739\ttotal: 2m 30s\tremaining: 1m 42s\n",
      "595:\tlearn: 0.0146713\ttotal: 2m 30s\tremaining: 1m 42s\n",
      "596:\tlearn: 0.0146664\ttotal: 2m 30s\tremaining: 1m 41s\n",
      "597:\tlearn: 0.0146543\ttotal: 2m 31s\tremaining: 1m 41s\n",
      "598:\tlearn: 0.0146378\ttotal: 2m 31s\tremaining: 1m 41s\n",
      "599:\tlearn: 0.0146290\ttotal: 2m 31s\tremaining: 1m 41s\n",
      "600:\tlearn: 0.0146228\ttotal: 2m 32s\tremaining: 1m 40s\n",
      "601:\tlearn: 0.0146202\ttotal: 2m 32s\tremaining: 1m 40s\n",
      "602:\tlearn: 0.0146146\ttotal: 2m 32s\tremaining: 1m 40s\n",
      "603:\tlearn: 0.0145994\ttotal: 2m 32s\tremaining: 1m 40s\n",
      "604:\tlearn: 0.0145963\ttotal: 2m 33s\tremaining: 1m 39s\n",
      "605:\tlearn: 0.0145947\ttotal: 2m 33s\tremaining: 1m 39s\n",
      "606:\tlearn: 0.0145923\ttotal: 2m 33s\tremaining: 1m 39s\n",
      "607:\tlearn: 0.0145563\ttotal: 2m 34s\tremaining: 1m 39s\n",
      "608:\tlearn: 0.0145555\ttotal: 2m 34s\tremaining: 1m 39s\n",
      "609:\tlearn: 0.0145545\ttotal: 2m 34s\tremaining: 1m 38s\n",
      "610:\tlearn: 0.0145471\ttotal: 2m 34s\tremaining: 1m 38s\n",
      "611:\tlearn: 0.0145157\ttotal: 2m 35s\tremaining: 1m 38s\n",
      "612:\tlearn: 0.0145017\ttotal: 2m 35s\tremaining: 1m 38s\n",
      "613:\tlearn: 0.0145008\ttotal: 2m 35s\tremaining: 1m 38s\n",
      "614:\tlearn: 0.0144984\ttotal: 2m 36s\tremaining: 1m 37s\n",
      "615:\tlearn: 0.0144944\ttotal: 2m 36s\tremaining: 1m 37s\n",
      "616:\tlearn: 0.0144873\ttotal: 2m 36s\tremaining: 1m 37s\n",
      "617:\tlearn: 0.0144694\ttotal: 2m 36s\tremaining: 1m 37s\n",
      "618:\tlearn: 0.0144295\ttotal: 2m 37s\tremaining: 1m 36s\n",
      "619:\tlearn: 0.0144212\ttotal: 2m 37s\tremaining: 1m 36s\n",
      "620:\tlearn: 0.0144184\ttotal: 2m 37s\tremaining: 1m 36s\n"
     ]
    },
    {
     "name": "stdout",
     "output_type": "stream",
     "text": [
      "621:\tlearn: 0.0144148\ttotal: 2m 38s\tremaining: 1m 36s\n",
      "622:\tlearn: 0.0144084\ttotal: 2m 38s\tremaining: 1m 35s\n",
      "623:\tlearn: 0.0144039\ttotal: 2m 38s\tremaining: 1m 35s\n",
      "624:\tlearn: 0.0144001\ttotal: 2m 39s\tremaining: 1m 35s\n",
      "625:\tlearn: 0.0143981\ttotal: 2m 39s\tremaining: 1m 35s\n",
      "626:\tlearn: 0.0143939\ttotal: 2m 39s\tremaining: 1m 35s\n",
      "627:\tlearn: 0.0143882\ttotal: 2m 40s\tremaining: 1m 34s\n",
      "628:\tlearn: 0.0143668\ttotal: 2m 40s\tremaining: 1m 34s\n",
      "629:\tlearn: 0.0143628\ttotal: 2m 40s\tremaining: 1m 34s\n",
      "630:\tlearn: 0.0143573\ttotal: 2m 40s\tremaining: 1m 34s\n",
      "631:\tlearn: 0.0143506\ttotal: 2m 41s\tremaining: 1m 33s\n",
      "632:\tlearn: 0.0143263\ttotal: 2m 41s\tremaining: 1m 33s\n",
      "633:\tlearn: 0.0143252\ttotal: 2m 41s\tremaining: 1m 33s\n",
      "634:\tlearn: 0.0143224\ttotal: 2m 42s\tremaining: 1m 33s\n",
      "635:\tlearn: 0.0143196\ttotal: 2m 42s\tremaining: 1m 32s\n",
      "636:\tlearn: 0.0143159\ttotal: 2m 42s\tremaining: 1m 32s\n",
      "637:\tlearn: 0.0142987\ttotal: 2m 43s\tremaining: 1m 32s\n",
      "638:\tlearn: 0.0142848\ttotal: 2m 43s\tremaining: 1m 32s\n",
      "639:\tlearn: 0.0142837\ttotal: 2m 43s\tremaining: 1m 32s\n",
      "640:\tlearn: 0.0142632\ttotal: 2m 43s\tremaining: 1m 31s\n",
      "641:\tlearn: 0.0142580\ttotal: 2m 44s\tremaining: 1m 31s\n",
      "642:\tlearn: 0.0142527\ttotal: 2m 44s\tremaining: 1m 31s\n",
      "643:\tlearn: 0.0142506\ttotal: 2m 44s\tremaining: 1m 31s\n",
      "644:\tlearn: 0.0142491\ttotal: 2m 45s\tremaining: 1m 30s\n",
      "645:\tlearn: 0.0142463\ttotal: 2m 45s\tremaining: 1m 30s\n",
      "646:\tlearn: 0.0142428\ttotal: 2m 45s\tremaining: 1m 30s\n",
      "647:\tlearn: 0.0142424\ttotal: 2m 46s\tremaining: 1m 30s\n",
      "648:\tlearn: 0.0142388\ttotal: 2m 46s\tremaining: 1m 29s\n",
      "649:\tlearn: 0.0142332\ttotal: 2m 46s\tremaining: 1m 29s\n",
      "650:\tlearn: 0.0142137\ttotal: 2m 46s\tremaining: 1m 29s\n",
      "651:\tlearn: 0.0141959\ttotal: 2m 47s\tremaining: 1m 29s\n",
      "652:\tlearn: 0.0141925\ttotal: 2m 47s\tremaining: 1m 28s\n",
      "653:\tlearn: 0.0141892\ttotal: 2m 47s\tremaining: 1m 28s\n",
      "654:\tlearn: 0.0141883\ttotal: 2m 48s\tremaining: 1m 28s\n",
      "655:\tlearn: 0.0141869\ttotal: 2m 48s\tremaining: 1m 28s\n",
      "656:\tlearn: 0.0141796\ttotal: 2m 48s\tremaining: 1m 28s\n",
      "657:\tlearn: 0.0141719\ttotal: 2m 48s\tremaining: 1m 27s\n",
      "658:\tlearn: 0.0141572\ttotal: 2m 49s\tremaining: 1m 27s\n",
      "659:\tlearn: 0.0141552\ttotal: 2m 49s\tremaining: 1m 27s\n",
      "660:\tlearn: 0.0141544\ttotal: 2m 49s\tremaining: 1m 27s\n",
      "661:\tlearn: 0.0141502\ttotal: 2m 50s\tremaining: 1m 26s\n",
      "662:\tlearn: 0.0141455\ttotal: 2m 50s\tremaining: 1m 26s\n",
      "663:\tlearn: 0.0141400\ttotal: 2m 50s\tremaining: 1m 26s\n",
      "664:\tlearn: 0.0141293\ttotal: 2m 50s\tremaining: 1m 26s\n",
      "665:\tlearn: 0.0141188\ttotal: 2m 51s\tremaining: 1m 25s\n",
      "666:\tlearn: 0.0141179\ttotal: 2m 51s\tremaining: 1m 25s\n",
      "667:\tlearn: 0.0141130\ttotal: 2m 51s\tremaining: 1m 25s\n",
      "668:\tlearn: 0.0141099\ttotal: 2m 52s\tremaining: 1m 25s\n",
      "669:\tlearn: 0.0141047\ttotal: 2m 52s\tremaining: 1m 24s\n",
      "670:\tlearn: 0.0140985\ttotal: 2m 52s\tremaining: 1m 24s\n",
      "671:\tlearn: 0.0140792\ttotal: 2m 53s\tremaining: 1m 24s\n",
      "672:\tlearn: 0.0140766\ttotal: 2m 53s\tremaining: 1m 24s\n",
      "673:\tlearn: 0.0140650\ttotal: 2m 53s\tremaining: 1m 24s\n",
      "674:\tlearn: 0.0140601\ttotal: 2m 53s\tremaining: 1m 23s\n",
      "675:\tlearn: 0.0140544\ttotal: 2m 54s\tremaining: 1m 23s\n",
      "676:\tlearn: 0.0140533\ttotal: 2m 54s\tremaining: 1m 23s\n",
      "677:\tlearn: 0.0140500\ttotal: 2m 54s\tremaining: 1m 23s\n",
      "678:\tlearn: 0.0140433\ttotal: 2m 55s\tremaining: 1m 22s\n",
      "679:\tlearn: 0.0140258\ttotal: 2m 55s\tremaining: 1m 22s\n",
      "680:\tlearn: 0.0140221\ttotal: 2m 55s\tremaining: 1m 22s\n",
      "681:\tlearn: 0.0140180\ttotal: 2m 55s\tremaining: 1m 22s\n",
      "682:\tlearn: 0.0140140\ttotal: 2m 56s\tremaining: 1m 21s\n",
      "683:\tlearn: 0.0140100\ttotal: 2m 56s\tremaining: 1m 21s\n",
      "684:\tlearn: 0.0140057\ttotal: 2m 56s\tremaining: 1m 21s\n",
      "685:\tlearn: 0.0139971\ttotal: 2m 57s\tremaining: 1m 21s\n",
      "686:\tlearn: 0.0139946\ttotal: 2m 57s\tremaining: 1m 20s\n",
      "687:\tlearn: 0.0139783\ttotal: 2m 57s\tremaining: 1m 20s\n",
      "688:\tlearn: 0.0139699\ttotal: 2m 58s\tremaining: 1m 20s\n",
      "689:\tlearn: 0.0139639\ttotal: 2m 58s\tremaining: 1m 20s\n",
      "690:\tlearn: 0.0139592\ttotal: 2m 58s\tremaining: 1m 19s\n",
      "691:\tlearn: 0.0139575\ttotal: 2m 58s\tremaining: 1m 19s\n",
      "692:\tlearn: 0.0139536\ttotal: 2m 59s\tremaining: 1m 19s\n",
      "693:\tlearn: 0.0139462\ttotal: 2m 59s\tremaining: 1m 19s\n",
      "694:\tlearn: 0.0139428\ttotal: 2m 59s\tremaining: 1m 18s\n",
      "695:\tlearn: 0.0139317\ttotal: 3m\tremaining: 1m 18s\n",
      "696:\tlearn: 0.0139295\ttotal: 3m\tremaining: 1m 18s\n",
      "697:\tlearn: 0.0139208\ttotal: 3m\tremaining: 1m 18s\n",
      "698:\tlearn: 0.0139168\ttotal: 3m\tremaining: 1m 17s\n",
      "699:\tlearn: 0.0139130\ttotal: 3m 1s\tremaining: 1m 17s\n",
      "700:\tlearn: 0.0139077\ttotal: 3m 1s\tremaining: 1m 17s\n",
      "701:\tlearn: 0.0139069\ttotal: 3m 1s\tremaining: 1m 17s\n",
      "702:\tlearn: 0.0138936\ttotal: 3m 2s\tremaining: 1m 16s\n",
      "703:\tlearn: 0.0138785\ttotal: 3m 2s\tremaining: 1m 16s\n",
      "704:\tlearn: 0.0138773\ttotal: 3m 2s\tremaining: 1m 16s\n",
      "705:\tlearn: 0.0138614\ttotal: 3m 2s\tremaining: 1m 16s\n",
      "706:\tlearn: 0.0138545\ttotal: 3m 3s\tremaining: 1m 15s\n",
      "707:\tlearn: 0.0138528\ttotal: 3m 3s\tremaining: 1m 15s\n",
      "708:\tlearn: 0.0138452\ttotal: 3m 3s\tremaining: 1m 15s\n",
      "709:\tlearn: 0.0138364\ttotal: 3m 4s\tremaining: 1m 15s\n",
      "710:\tlearn: 0.0138356\ttotal: 3m 4s\tremaining: 1m 15s\n",
      "711:\tlearn: 0.0138336\ttotal: 3m 4s\tremaining: 1m 14s\n",
      "712:\tlearn: 0.0138258\ttotal: 3m 5s\tremaining: 1m 14s\n",
      "713:\tlearn: 0.0138238\ttotal: 3m 5s\tremaining: 1m 14s\n",
      "714:\tlearn: 0.0138158\ttotal: 3m 5s\tremaining: 1m 14s\n",
      "715:\tlearn: 0.0137991\ttotal: 3m 6s\tremaining: 1m 13s\n",
      "716:\tlearn: 0.0137973\ttotal: 3m 6s\tremaining: 1m 13s\n",
      "717:\tlearn: 0.0137832\ttotal: 3m 6s\tremaining: 1m 13s\n",
      "718:\tlearn: 0.0137806\ttotal: 3m 7s\tremaining: 1m 13s\n",
      "719:\tlearn: 0.0137790\ttotal: 3m 7s\tremaining: 1m 12s\n",
      "720:\tlearn: 0.0137698\ttotal: 3m 7s\tremaining: 1m 12s\n",
      "721:\tlearn: 0.0137612\ttotal: 3m 7s\tremaining: 1m 12s\n",
      "722:\tlearn: 0.0137589\ttotal: 3m 8s\tremaining: 1m 12s\n",
      "723:\tlearn: 0.0137547\ttotal: 3m 8s\tremaining: 1m 11s\n",
      "724:\tlearn: 0.0137480\ttotal: 3m 8s\tremaining: 1m 11s\n",
      "725:\tlearn: 0.0137443\ttotal: 3m 8s\tremaining: 1m 11s\n",
      "726:\tlearn: 0.0137413\ttotal: 3m 9s\tremaining: 1m 11s\n",
      "727:\tlearn: 0.0137337\ttotal: 3m 9s\tremaining: 1m 10s\n",
      "728:\tlearn: 0.0137186\ttotal: 3m 9s\tremaining: 1m 10s\n",
      "729:\tlearn: 0.0137039\ttotal: 3m 10s\tremaining: 1m 10s\n",
      "730:\tlearn: 0.0137002\ttotal: 3m 10s\tremaining: 1m 10s\n",
      "731:\tlearn: 0.0136971\ttotal: 3m 10s\tremaining: 1m 9s\n",
      "732:\tlearn: 0.0136844\ttotal: 3m 10s\tremaining: 1m 9s\n",
      "733:\tlearn: 0.0136830\ttotal: 3m 11s\tremaining: 1m 9s\n",
      "734:\tlearn: 0.0136522\ttotal: 3m 11s\tremaining: 1m 8s\n",
      "735:\tlearn: 0.0136519\ttotal: 3m 11s\tremaining: 1m 8s\n",
      "736:\tlearn: 0.0136387\ttotal: 3m 11s\tremaining: 1m 8s\n",
      "737:\tlearn: 0.0136362\ttotal: 3m 12s\tremaining: 1m 8s\n",
      "738:\tlearn: 0.0136355\ttotal: 3m 12s\tremaining: 1m 7s\n",
      "739:\tlearn: 0.0136348\ttotal: 3m 12s\tremaining: 1m 7s\n",
      "740:\tlearn: 0.0136331\ttotal: 3m 13s\tremaining: 1m 7s\n",
      "741:\tlearn: 0.0136315\ttotal: 3m 13s\tremaining: 1m 7s\n",
      "742:\tlearn: 0.0136295\ttotal: 3m 13s\tremaining: 1m 6s\n",
      "743:\tlearn: 0.0136169\ttotal: 3m 13s\tremaining: 1m 6s\n",
      "744:\tlearn: 0.0136158\ttotal: 3m 14s\tremaining: 1m 6s\n",
      "745:\tlearn: 0.0136032\ttotal: 3m 14s\tremaining: 1m 6s\n",
      "746:\tlearn: 0.0135984\ttotal: 3m 14s\tremaining: 1m 5s\n",
      "747:\tlearn: 0.0135862\ttotal: 3m 15s\tremaining: 1m 5s\n",
      "748:\tlearn: 0.0135846\ttotal: 3m 15s\tremaining: 1m 5s\n",
      "749:\tlearn: 0.0135718\ttotal: 3m 15s\tremaining: 1m 5s\n",
      "750:\tlearn: 0.0135664\ttotal: 3m 15s\tremaining: 1m 4s\n",
      "751:\tlearn: 0.0135556\ttotal: 3m 16s\tremaining: 1m 4s\n",
      "752:\tlearn: 0.0135522\ttotal: 3m 16s\tremaining: 1m 4s\n",
      "753:\tlearn: 0.0135502\ttotal: 3m 17s\tremaining: 1m 4s\n",
      "754:\tlearn: 0.0135492\ttotal: 3m 17s\tremaining: 1m 4s\n",
      "755:\tlearn: 0.0135388\ttotal: 3m 17s\tremaining: 1m 3s\n",
      "756:\tlearn: 0.0135193\ttotal: 3m 18s\tremaining: 1m 3s\n",
      "757:\tlearn: 0.0135053\ttotal: 3m 18s\tremaining: 1m 3s\n",
      "758:\tlearn: 0.0134923\ttotal: 3m 18s\tremaining: 1m 3s\n",
      "759:\tlearn: 0.0134823\ttotal: 3m 19s\tremaining: 1m 2s\n",
      "760:\tlearn: 0.0134817\ttotal: 3m 19s\tremaining: 1m 2s\n",
      "761:\tlearn: 0.0134792\ttotal: 3m 19s\tremaining: 1m 2s\n",
      "762:\tlearn: 0.0134761\ttotal: 3m 20s\tremaining: 1m 2s\n",
      "763:\tlearn: 0.0134724\ttotal: 3m 20s\tremaining: 1m 1s\n",
      "764:\tlearn: 0.0134542\ttotal: 3m 20s\tremaining: 1m 1s\n",
      "765:\tlearn: 0.0134480\ttotal: 3m 21s\tremaining: 1m 1s\n",
      "766:\tlearn: 0.0134464\ttotal: 3m 21s\tremaining: 1m 1s\n",
      "767:\tlearn: 0.0134367\ttotal: 3m 21s\tremaining: 1m\n",
      "768:\tlearn: 0.0134292\ttotal: 3m 22s\tremaining: 1m\n",
      "769:\tlearn: 0.0134254\ttotal: 3m 22s\tremaining: 1m\n",
      "770:\tlearn: 0.0134150\ttotal: 3m 22s\tremaining: 1m\n",
      "771:\tlearn: 0.0134109\ttotal: 3m 23s\tremaining: 1m\n",
      "772:\tlearn: 0.0133974\ttotal: 3m 23s\tremaining: 59.8s\n",
      "773:\tlearn: 0.0133945\ttotal: 3m 24s\tremaining: 59.6s\n",
      "774:\tlearn: 0.0133939\ttotal: 3m 24s\tremaining: 59.4s\n"
     ]
    },
    {
     "name": "stdout",
     "output_type": "stream",
     "text": [
      "775:\tlearn: 0.0133876\ttotal: 3m 24s\tremaining: 59.1s\n",
      "776:\tlearn: 0.0133869\ttotal: 3m 25s\tremaining: 58.9s\n",
      "777:\tlearn: 0.0133850\ttotal: 3m 25s\tremaining: 58.7s\n",
      "778:\tlearn: 0.0133617\ttotal: 3m 25s\tremaining: 58.4s\n",
      "779:\tlearn: 0.0133576\ttotal: 3m 26s\tremaining: 58.2s\n",
      "780:\tlearn: 0.0133214\ttotal: 3m 26s\tremaining: 57.9s\n",
      "781:\tlearn: 0.0133197\ttotal: 3m 26s\tremaining: 57.7s\n",
      "782:\tlearn: 0.0133187\ttotal: 3m 27s\tremaining: 57.5s\n",
      "783:\tlearn: 0.0133084\ttotal: 3m 27s\tremaining: 57.2s\n",
      "784:\tlearn: 0.0133032\ttotal: 3m 28s\tremaining: 57s\n",
      "785:\tlearn: 0.0133004\ttotal: 3m 28s\tremaining: 56.7s\n",
      "786:\tlearn: 0.0132772\ttotal: 3m 28s\tremaining: 56.5s\n",
      "787:\tlearn: 0.0132757\ttotal: 3m 28s\tremaining: 56.2s\n",
      "788:\tlearn: 0.0132744\ttotal: 3m 29s\tremaining: 55.9s\n",
      "789:\tlearn: 0.0132723\ttotal: 3m 29s\tremaining: 55.6s\n",
      "790:\tlearn: 0.0132627\ttotal: 3m 29s\tremaining: 55.4s\n",
      "791:\tlearn: 0.0132602\ttotal: 3m 29s\tremaining: 55.1s\n",
      "792:\tlearn: 0.0132453\ttotal: 3m 30s\tremaining: 54.9s\n",
      "793:\tlearn: 0.0132368\ttotal: 3m 30s\tremaining: 54.6s\n",
      "794:\tlearn: 0.0132343\ttotal: 3m 30s\tremaining: 54.4s\n",
      "795:\tlearn: 0.0132298\ttotal: 3m 31s\tremaining: 54.1s\n",
      "796:\tlearn: 0.0132250\ttotal: 3m 31s\tremaining: 53.9s\n",
      "797:\tlearn: 0.0132206\ttotal: 3m 31s\tremaining: 53.6s\n",
      "798:\tlearn: 0.0132183\ttotal: 3m 32s\tremaining: 53.4s\n",
      "799:\tlearn: 0.0132167\ttotal: 3m 32s\tremaining: 53.1s\n",
      "800:\tlearn: 0.0132137\ttotal: 3m 32s\tremaining: 52.9s\n",
      "801:\tlearn: 0.0132129\ttotal: 3m 33s\tremaining: 52.6s\n",
      "802:\tlearn: 0.0131986\ttotal: 3m 33s\tremaining: 52.3s\n",
      "803:\tlearn: 0.0131934\ttotal: 3m 33s\tremaining: 52.1s\n",
      "804:\tlearn: 0.0131896\ttotal: 3m 34s\tremaining: 51.8s\n",
      "805:\tlearn: 0.0131798\ttotal: 3m 34s\tremaining: 51.6s\n",
      "806:\tlearn: 0.0131687\ttotal: 3m 34s\tremaining: 51.3s\n",
      "807:\tlearn: 0.0131634\ttotal: 3m 35s\tremaining: 51.1s\n",
      "808:\tlearn: 0.0131477\ttotal: 3m 35s\tremaining: 50.9s\n",
      "809:\tlearn: 0.0131426\ttotal: 3m 35s\tremaining: 50.6s\n",
      "810:\tlearn: 0.0131356\ttotal: 3m 36s\tremaining: 50.4s\n",
      "811:\tlearn: 0.0131350\ttotal: 3m 36s\tremaining: 50.1s\n",
      "812:\tlearn: 0.0131309\ttotal: 3m 36s\tremaining: 49.8s\n",
      "813:\tlearn: 0.0131286\ttotal: 3m 37s\tremaining: 49.6s\n",
      "814:\tlearn: 0.0131245\ttotal: 3m 37s\tremaining: 49.3s\n",
      "815:\tlearn: 0.0131214\ttotal: 3m 37s\tremaining: 49.1s\n",
      "816:\tlearn: 0.0131193\ttotal: 3m 38s\tremaining: 48.9s\n",
      "817:\tlearn: 0.0131016\ttotal: 3m 38s\tremaining: 48.6s\n",
      "818:\tlearn: 0.0130919\ttotal: 3m 38s\tremaining: 48.4s\n",
      "819:\tlearn: 0.0130798\ttotal: 3m 39s\tremaining: 48.1s\n",
      "820:\tlearn: 0.0130630\ttotal: 3m 39s\tremaining: 47.9s\n",
      "821:\tlearn: 0.0130619\ttotal: 3m 40s\tremaining: 47.7s\n",
      "822:\tlearn: 0.0130438\ttotal: 3m 40s\tremaining: 47.4s\n",
      "823:\tlearn: 0.0130379\ttotal: 3m 40s\tremaining: 47.2s\n",
      "824:\tlearn: 0.0130340\ttotal: 3m 41s\tremaining: 47s\n",
      "825:\tlearn: 0.0130240\ttotal: 3m 41s\tremaining: 46.7s\n",
      "826:\tlearn: 0.0129953\ttotal: 3m 42s\tremaining: 46.5s\n",
      "827:\tlearn: 0.0129857\ttotal: 3m 42s\tremaining: 46.2s\n",
      "828:\tlearn: 0.0129713\ttotal: 3m 42s\tremaining: 46s\n",
      "829:\tlearn: 0.0129684\ttotal: 3m 43s\tremaining: 45.7s\n",
      "830:\tlearn: 0.0129606\ttotal: 3m 43s\tremaining: 45.5s\n",
      "831:\tlearn: 0.0129602\ttotal: 3m 43s\tremaining: 45.2s\n",
      "832:\tlearn: 0.0129591\ttotal: 3m 44s\tremaining: 44.9s\n",
      "833:\tlearn: 0.0129578\ttotal: 3m 44s\tremaining: 44.7s\n",
      "834:\tlearn: 0.0129541\ttotal: 3m 44s\tremaining: 44.4s\n",
      "835:\tlearn: 0.0129531\ttotal: 3m 45s\tremaining: 44.2s\n",
      "836:\tlearn: 0.0129515\ttotal: 3m 45s\tremaining: 43.9s\n",
      "837:\tlearn: 0.0129482\ttotal: 3m 45s\tremaining: 43.6s\n",
      "838:\tlearn: 0.0129333\ttotal: 3m 45s\tremaining: 43.3s\n",
      "839:\tlearn: 0.0129254\ttotal: 3m 46s\tremaining: 43.1s\n",
      "840:\tlearn: 0.0129245\ttotal: 3m 46s\tremaining: 42.8s\n",
      "841:\tlearn: 0.0129240\ttotal: 3m 46s\tremaining: 42.6s\n",
      "842:\tlearn: 0.0129162\ttotal: 3m 47s\tremaining: 42.3s\n",
      "843:\tlearn: 0.0129120\ttotal: 3m 47s\tremaining: 42s\n",
      "844:\tlearn: 0.0129098\ttotal: 3m 47s\tremaining: 41.8s\n",
      "845:\tlearn: 0.0128939\ttotal: 3m 47s\tremaining: 41.5s\n",
      "846:\tlearn: 0.0128906\ttotal: 3m 48s\tremaining: 41.2s\n",
      "847:\tlearn: 0.0128882\ttotal: 3m 48s\tremaining: 41s\n",
      "848:\tlearn: 0.0128771\ttotal: 3m 48s\tremaining: 40.7s\n",
      "849:\tlearn: 0.0128593\ttotal: 3m 49s\tremaining: 40.4s\n",
      "850:\tlearn: 0.0128550\ttotal: 3m 49s\tremaining: 40.2s\n",
      "851:\tlearn: 0.0128535\ttotal: 3m 49s\tremaining: 39.9s\n",
      "852:\tlearn: 0.0128398\ttotal: 3m 49s\tremaining: 39.6s\n",
      "853:\tlearn: 0.0128366\ttotal: 3m 50s\tremaining: 39.4s\n",
      "854:\tlearn: 0.0128347\ttotal: 3m 50s\tremaining: 39.1s\n",
      "855:\tlearn: 0.0128331\ttotal: 3m 50s\tremaining: 38.8s\n",
      "856:\tlearn: 0.0128259\ttotal: 3m 51s\tremaining: 38.6s\n",
      "857:\tlearn: 0.0128160\ttotal: 3m 51s\tremaining: 38.3s\n",
      "858:\tlearn: 0.0128120\ttotal: 3m 51s\tremaining: 38.1s\n",
      "859:\tlearn: 0.0128068\ttotal: 3m 52s\tremaining: 37.8s\n",
      "860:\tlearn: 0.0127945\ttotal: 3m 52s\tremaining: 37.5s\n",
      "861:\tlearn: 0.0127881\ttotal: 3m 52s\tremaining: 37.3s\n",
      "862:\tlearn: 0.0127877\ttotal: 3m 53s\tremaining: 37s\n",
      "863:\tlearn: 0.0127863\ttotal: 3m 53s\tremaining: 36.7s\n",
      "864:\tlearn: 0.0127768\ttotal: 3m 53s\tremaining: 36.5s\n",
      "865:\tlearn: 0.0127748\ttotal: 3m 53s\tremaining: 36.2s\n",
      "866:\tlearn: 0.0127726\ttotal: 3m 54s\tremaining: 35.9s\n",
      "867:\tlearn: 0.0127690\ttotal: 3m 54s\tremaining: 35.7s\n",
      "868:\tlearn: 0.0127673\ttotal: 3m 54s\tremaining: 35.4s\n",
      "869:\tlearn: 0.0127619\ttotal: 3m 55s\tremaining: 35.1s\n",
      "870:\tlearn: 0.0127584\ttotal: 3m 55s\tremaining: 34.9s\n",
      "871:\tlearn: 0.0127560\ttotal: 3m 55s\tremaining: 34.6s\n",
      "872:\tlearn: 0.0127529\ttotal: 3m 56s\tremaining: 34.4s\n",
      "873:\tlearn: 0.0127518\ttotal: 3m 56s\tremaining: 34.1s\n",
      "874:\tlearn: 0.0127362\ttotal: 3m 56s\tremaining: 33.8s\n",
      "875:\tlearn: 0.0127340\ttotal: 3m 57s\tremaining: 33.6s\n",
      "876:\tlearn: 0.0127257\ttotal: 3m 57s\tremaining: 33.3s\n",
      "877:\tlearn: 0.0127240\ttotal: 3m 57s\tremaining: 33s\n",
      "878:\tlearn: 0.0127228\ttotal: 3m 57s\tremaining: 32.8s\n",
      "879:\tlearn: 0.0127203\ttotal: 3m 58s\tremaining: 32.5s\n",
      "880:\tlearn: 0.0127032\ttotal: 3m 58s\tremaining: 32.2s\n",
      "881:\tlearn: 0.0126861\ttotal: 3m 58s\tremaining: 32s\n",
      "882:\tlearn: 0.0126816\ttotal: 3m 59s\tremaining: 31.7s\n",
      "883:\tlearn: 0.0126783\ttotal: 3m 59s\tremaining: 31.4s\n",
      "884:\tlearn: 0.0126779\ttotal: 3m 59s\tremaining: 31.1s\n",
      "885:\tlearn: 0.0126751\ttotal: 4m\tremaining: 30.9s\n",
      "886:\tlearn: 0.0126648\ttotal: 4m\tremaining: 30.6s\n",
      "887:\tlearn: 0.0126629\ttotal: 4m\tremaining: 30.4s\n",
      "888:\tlearn: 0.0126564\ttotal: 4m\tremaining: 30.1s\n",
      "889:\tlearn: 0.0126557\ttotal: 4m 1s\tremaining: 29.8s\n",
      "890:\tlearn: 0.0126548\ttotal: 4m 1s\tremaining: 29.6s\n",
      "891:\tlearn: 0.0126537\ttotal: 4m 1s\tremaining: 29.3s\n",
      "892:\tlearn: 0.0126495\ttotal: 4m 2s\tremaining: 29s\n",
      "893:\tlearn: 0.0126480\ttotal: 4m 2s\tremaining: 28.8s\n",
      "894:\tlearn: 0.0126358\ttotal: 4m 2s\tremaining: 28.5s\n",
      "895:\tlearn: 0.0126312\ttotal: 4m 3s\tremaining: 28.2s\n",
      "896:\tlearn: 0.0126282\ttotal: 4m 3s\tremaining: 27.9s\n",
      "897:\tlearn: 0.0126196\ttotal: 4m 3s\tremaining: 27.7s\n",
      "898:\tlearn: 0.0126182\ttotal: 4m 4s\tremaining: 27.4s\n",
      "899:\tlearn: 0.0126154\ttotal: 4m 4s\tremaining: 27.2s\n",
      "900:\tlearn: 0.0126136\ttotal: 4m 4s\tremaining: 26.9s\n",
      "901:\tlearn: 0.0126125\ttotal: 4m 5s\tremaining: 26.6s\n",
      "902:\tlearn: 0.0126048\ttotal: 4m 5s\tremaining: 26.4s\n",
      "903:\tlearn: 0.0125976\ttotal: 4m 5s\tremaining: 26.1s\n",
      "904:\tlearn: 0.0125930\ttotal: 4m 6s\tremaining: 25.8s\n",
      "905:\tlearn: 0.0125664\ttotal: 4m 6s\tremaining: 25.6s\n",
      "906:\tlearn: 0.0125648\ttotal: 4m 6s\tremaining: 25.3s\n",
      "907:\tlearn: 0.0125587\ttotal: 4m 6s\tremaining: 25s\n",
      "908:\tlearn: 0.0125549\ttotal: 4m 7s\tremaining: 24.8s\n",
      "909:\tlearn: 0.0125391\ttotal: 4m 7s\tremaining: 24.5s\n",
      "910:\tlearn: 0.0125365\ttotal: 4m 7s\tremaining: 24.2s\n",
      "911:\tlearn: 0.0125279\ttotal: 4m 8s\tremaining: 24s\n",
      "912:\tlearn: 0.0125258\ttotal: 4m 8s\tremaining: 23.7s\n",
      "913:\tlearn: 0.0125242\ttotal: 4m 8s\tremaining: 23.4s\n",
      "914:\tlearn: 0.0125235\ttotal: 4m 9s\tremaining: 23.1s\n",
      "915:\tlearn: 0.0125208\ttotal: 4m 9s\tremaining: 22.9s\n",
      "916:\tlearn: 0.0125168\ttotal: 4m 9s\tremaining: 22.6s\n",
      "917:\tlearn: 0.0124989\ttotal: 4m 10s\tremaining: 22.3s\n",
      "918:\tlearn: 0.0124965\ttotal: 4m 10s\tremaining: 22.1s\n",
      "919:\tlearn: 0.0124924\ttotal: 4m 10s\tremaining: 21.8s\n",
      "920:\tlearn: 0.0124856\ttotal: 4m 11s\tremaining: 21.5s\n",
      "921:\tlearn: 0.0124746\ttotal: 4m 11s\tremaining: 21.3s\n",
      "922:\tlearn: 0.0124654\ttotal: 4m 11s\tremaining: 21s\n",
      "923:\tlearn: 0.0124547\ttotal: 4m 12s\tremaining: 20.7s\n",
      "924:\tlearn: 0.0124534\ttotal: 4m 12s\tremaining: 20.5s\n",
      "925:\tlearn: 0.0124524\ttotal: 4m 12s\tremaining: 20.2s\n",
      "926:\tlearn: 0.0124522\ttotal: 4m 12s\tremaining: 19.9s\n",
      "927:\tlearn: 0.0124480\ttotal: 4m 13s\tremaining: 19.7s\n",
      "928:\tlearn: 0.0124472\ttotal: 4m 13s\tremaining: 19.4s\n",
      "929:\tlearn: 0.0124426\ttotal: 4m 13s\tremaining: 19.1s\n",
      "930:\tlearn: 0.0124417\ttotal: 4m 14s\tremaining: 18.8s\n"
     ]
    },
    {
     "name": "stdout",
     "output_type": "stream",
     "text": [
      "931:\tlearn: 0.0124407\ttotal: 4m 14s\tremaining: 18.6s\n",
      "932:\tlearn: 0.0124397\ttotal: 4m 14s\tremaining: 18.3s\n",
      "933:\tlearn: 0.0124371\ttotal: 4m 14s\tremaining: 18s\n",
      "934:\tlearn: 0.0124307\ttotal: 4m 15s\tremaining: 17.7s\n",
      "935:\tlearn: 0.0124182\ttotal: 4m 15s\tremaining: 17.5s\n",
      "936:\tlearn: 0.0124092\ttotal: 4m 15s\tremaining: 17.2s\n",
      "937:\tlearn: 0.0124030\ttotal: 4m 16s\tremaining: 16.9s\n",
      "938:\tlearn: 0.0123940\ttotal: 4m 16s\tremaining: 16.7s\n",
      "939:\tlearn: 0.0123835\ttotal: 4m 16s\tremaining: 16.4s\n",
      "940:\tlearn: 0.0123796\ttotal: 4m 17s\tremaining: 16.1s\n",
      "941:\tlearn: 0.0123778\ttotal: 4m 17s\tremaining: 15.9s\n",
      "942:\tlearn: 0.0123692\ttotal: 4m 17s\tremaining: 15.6s\n",
      "943:\tlearn: 0.0123555\ttotal: 4m 18s\tremaining: 15.3s\n",
      "944:\tlearn: 0.0123522\ttotal: 4m 18s\tremaining: 15.1s\n",
      "945:\tlearn: 0.0123475\ttotal: 4m 18s\tremaining: 14.8s\n",
      "946:\tlearn: 0.0123470\ttotal: 4m 19s\tremaining: 14.5s\n",
      "947:\tlearn: 0.0123414\ttotal: 4m 19s\tremaining: 14.2s\n",
      "948:\tlearn: 0.0123393\ttotal: 4m 19s\tremaining: 14s\n",
      "949:\tlearn: 0.0123267\ttotal: 4m 20s\tremaining: 13.7s\n",
      "950:\tlearn: 0.0123254\ttotal: 4m 20s\tremaining: 13.4s\n",
      "951:\tlearn: 0.0123114\ttotal: 4m 20s\tremaining: 13.2s\n",
      "952:\tlearn: 0.0123077\ttotal: 4m 21s\tremaining: 12.9s\n",
      "953:\tlearn: 0.0123019\ttotal: 4m 21s\tremaining: 12.6s\n",
      "954:\tlearn: 0.0122907\ttotal: 4m 21s\tremaining: 12.3s\n",
      "955:\tlearn: 0.0122891\ttotal: 4m 22s\tremaining: 12.1s\n",
      "956:\tlearn: 0.0122884\ttotal: 4m 22s\tremaining: 11.8s\n",
      "957:\tlearn: 0.0122784\ttotal: 4m 22s\tremaining: 11.5s\n",
      "958:\tlearn: 0.0122777\ttotal: 4m 23s\tremaining: 11.2s\n",
      "959:\tlearn: 0.0122703\ttotal: 4m 23s\tremaining: 11s\n",
      "960:\tlearn: 0.0122659\ttotal: 4m 23s\tremaining: 10.7s\n",
      "961:\tlearn: 0.0122596\ttotal: 4m 24s\tremaining: 10.4s\n",
      "962:\tlearn: 0.0122540\ttotal: 4m 24s\tremaining: 10.2s\n",
      "963:\tlearn: 0.0122525\ttotal: 4m 24s\tremaining: 9.89s\n",
      "964:\tlearn: 0.0122475\ttotal: 4m 25s\tremaining: 9.63s\n",
      "965:\tlearn: 0.0122412\ttotal: 4m 25s\tremaining: 9.35s\n",
      "966:\tlearn: 0.0122184\ttotal: 4m 26s\tremaining: 9.08s\n",
      "967:\tlearn: 0.0122152\ttotal: 4m 26s\tremaining: 8.8s\n",
      "968:\tlearn: 0.0122079\ttotal: 4m 26s\tremaining: 8.53s\n",
      "969:\tlearn: 0.0121996\ttotal: 4m 27s\tremaining: 8.26s\n",
      "970:\tlearn: 0.0121911\ttotal: 4m 27s\tremaining: 7.98s\n",
      "971:\tlearn: 0.0121867\ttotal: 4m 27s\tremaining: 7.71s\n",
      "972:\tlearn: 0.0121862\ttotal: 4m 27s\tremaining: 7.43s\n",
      "973:\tlearn: 0.0121802\ttotal: 4m 28s\tremaining: 7.16s\n",
      "974:\tlearn: 0.0121678\ttotal: 4m 28s\tremaining: 6.88s\n",
      "975:\tlearn: 0.0121672\ttotal: 4m 28s\tremaining: 6.61s\n",
      "976:\tlearn: 0.0121629\ttotal: 4m 29s\tremaining: 6.34s\n",
      "977:\tlearn: 0.0121541\ttotal: 4m 29s\tremaining: 6.06s\n",
      "978:\tlearn: 0.0121526\ttotal: 4m 29s\tremaining: 5.79s\n",
      "979:\tlearn: 0.0121507\ttotal: 4m 30s\tremaining: 5.51s\n",
      "980:\tlearn: 0.0121491\ttotal: 4m 30s\tremaining: 5.24s\n",
      "981:\tlearn: 0.0121352\ttotal: 4m 30s\tremaining: 4.96s\n",
      "982:\tlearn: 0.0121280\ttotal: 4m 31s\tremaining: 4.69s\n",
      "983:\tlearn: 0.0121238\ttotal: 4m 31s\tremaining: 4.41s\n",
      "984:\tlearn: 0.0121221\ttotal: 4m 31s\tremaining: 4.14s\n",
      "985:\tlearn: 0.0121116\ttotal: 4m 32s\tremaining: 3.86s\n",
      "986:\tlearn: 0.0121108\ttotal: 4m 32s\tremaining: 3.59s\n",
      "987:\tlearn: 0.0121077\ttotal: 4m 32s\tremaining: 3.31s\n",
      "988:\tlearn: 0.0121056\ttotal: 4m 33s\tremaining: 3.04s\n",
      "989:\tlearn: 0.0121024\ttotal: 4m 33s\tremaining: 2.77s\n",
      "990:\tlearn: 0.0121001\ttotal: 4m 34s\tremaining: 2.49s\n",
      "991:\tlearn: 0.0120997\ttotal: 4m 34s\tremaining: 2.21s\n",
      "992:\tlearn: 0.0120956\ttotal: 4m 34s\tremaining: 1.94s\n",
      "993:\tlearn: 0.0120952\ttotal: 4m 35s\tremaining: 1.66s\n",
      "994:\tlearn: 0.0120916\ttotal: 4m 35s\tremaining: 1.38s\n",
      "995:\tlearn: 0.0120903\ttotal: 4m 35s\tremaining: 1.11s\n",
      "996:\tlearn: 0.0120886\ttotal: 4m 36s\tremaining: 831ms\n",
      "997:\tlearn: 0.0120857\ttotal: 4m 36s\tremaining: 555ms\n",
      "998:\tlearn: 0.0120698\ttotal: 4m 37s\tremaining: 277ms\n",
      "999:\tlearn: 0.0120676\ttotal: 4m 37s\tremaining: 0us\n"
     ]
    },
    {
     "data": {
      "text/plain": [
       "<catboost.core.CatBoostClassifier at 0x18bab9cda60>"
      ]
     },
     "execution_count": 789,
     "metadata": {},
     "output_type": "execute_result"
    }
   ],
   "source": [
    "clf_catBoost.fit(temp_train, temp_target, cat_features=webpages)"
   ]
  },
  {
   "cell_type": "code",
   "execution_count": 790,
   "id": "75c87cf2",
   "metadata": {
    "ExecuteTime": {
     "end_time": "2021-09-06T16:49:57.879928Z",
     "start_time": "2021-09-06T16:49:57.245625Z"
    }
   },
   "outputs": [],
   "source": [
    "y_pred = clf_catBoost.predict_proba(temp_test)[:, 1]"
   ]
  },
  {
   "cell_type": "code",
   "execution_count": null,
   "id": "9515a5c4",
   "metadata": {},
   "outputs": [],
   "source": [
    "print(roc_auc_score(temp_target clf_catBoost.predict_proba(temp_train)[:, 1]))"
   ]
  },
  {
   "cell_type": "code",
   "execution_count": 792,
   "id": "12732e90",
   "metadata": {
    "ExecuteTime": {
     "end_time": "2021-09-06T16:53:13.684042Z",
     "start_time": "2021-09-06T16:53:13.420618Z"
    }
   },
   "outputs": [],
   "source": [
    "save_submission(y_pred)"
   ]
  },
  {
   "cell_type": "markdown",
   "id": "d5fef399",
   "metadata": {},
   "source": [
    "As we can see, the score is almost the same. It is really interesting that it is not necessary for catboost to get numerical features (which is categorical for real) and process it as well as others. -_- "
   ]
  },
  {
   "cell_type": "markdown",
   "id": "82f76adc",
   "metadata": {},
   "source": [
    "## Pipeline #3\n",
    "\n",
    "It is the first and the worst approach that I have. For real I cannot remember what I have done there ^_^\n",
    "\n",
    "I was trying to test random forest approach, which gave me real big score but it is not enough.  \n",
    "\n",
    "There I will try to process data with sklearn pipeline, lest see what we will get."
   ]
  },
  {
   "cell_type": "code",
   "execution_count": 43,
   "id": "5c760fc2",
   "metadata": {
    "ExecuteTime": {
     "end_time": "2021-09-03T18:15:56.035145Z",
     "start_time": "2021-09-03T18:15:55.417235Z"
    }
   },
   "outputs": [],
   "source": [
    "test = pd.read_csv(\"data/test.csv\")"
   ]
  },
  {
   "cell_type": "code",
   "execution_count": 46,
   "id": "7d62ad56",
   "metadata": {
    "ExecuteTime": {
     "end_time": "2021-09-03T18:16:07.454059Z",
     "start_time": "2021-09-03T18:16:07.438068Z"
    }
   },
   "outputs": [],
   "source": [
    "ohe = ['more_less', 'Time', 'Month', 'year']\n",
    "\n",
    "ohe_pipeline = Pipeline([\n",
    "    ('impute', SimpleImputer(missing_values=np.nan, strategy='constant', fill_value='missing')),\n",
    "    ('onehot', OneHotEncoder(sparse=False, handle_unknown='ignore', ))\n",
    "])\n",
    "\n",
    "\n",
    "scaler_pipeline = Pipeline([\n",
    "    ('impute', SimpleImputer(missing_values=np.nan, strategy='median')),\n",
    "    ('scale', StandardScaler())\n",
    "])\n",
    "\n",
    "\n",
    "preprocessor = ColumnTransformer(\n",
    "    transformers=[\n",
    "        ('scaler', scaler_pipeline, [\"time_on_website\"]),\n",
    "        ('ohe', ohe_pipeline, ohe)\n",
    "    ]\n",
    ")"
   ]
  },
  {
   "cell_type": "code",
   "execution_count": 47,
   "id": "35fa2a9c",
   "metadata": {
    "ExecuteTime": {
     "end_time": "2021-09-03T18:16:07.982394Z",
     "start_time": "2021-09-03T18:16:07.974431Z"
    }
   },
   "outputs": [],
   "source": [
    "LogisticRegression_pipeline = Pipeline([\n",
    "        ('preprocessing', preprocessor),\n",
    "        ('classify', LogisticRegression(n_jobs=-1))\n",
    "    ]\n",
    ")"
   ]
  },
  {
   "cell_type": "code",
   "execution_count": 48,
   "id": "bb9ae11d",
   "metadata": {
    "ExecuteTime": {
     "end_time": "2021-09-03T18:16:08.988278Z",
     "start_time": "2021-09-03T18:16:08.980333Z"
    }
   },
   "outputs": [],
   "source": [
    "RandomForestClassifier_pipeline = Pipeline([\n",
    "        ('preprocessing', preprocessor),\n",
    "        ('classify', RandomForestClassifier(n_estimators=135))\n",
    "    ]\n",
    ")"
   ]
  },
  {
   "cell_type": "code",
   "execution_count": 49,
   "id": "4a2bea10",
   "metadata": {
    "ExecuteTime": {
     "end_time": "2021-09-03T18:16:09.140178Z",
     "start_time": "2021-09-03T18:16:09.108234Z"
    }
   },
   "outputs": [],
   "source": [
    "X = df.drop(columns=\"target\")\n",
    "y = df.target"
   ]
  },
  {
   "cell_type": "code",
   "execution_count": 51,
   "id": "76455910",
   "metadata": {
    "ExecuteTime": {
     "end_time": "2021-09-03T18:16:26.279163Z",
     "start_time": "2021-09-03T18:16:26.263202Z"
    }
   },
   "outputs": [],
   "source": [
    "clf = LogisticRegression_pipeline.fit(X, y)"
   ]
  },
  {
   "cell_type": "code",
   "execution_count": 494,
   "id": "b7226ea0",
   "metadata": {
    "ExecuteTime": {
     "end_time": "2021-08-31T12:09:16.548439Z",
     "start_time": "2021-08-31T12:09:12.444960Z"
    }
   },
   "outputs": [
    {
     "data": {
      "text/plain": [
       "0.9893867924528302"
      ]
     },
     "execution_count": 494,
     "metadata": {},
     "output_type": "execute_result"
    }
   ],
   "source": [
    "accuracy_score(clf.predict(X), y)"
   ]
  },
  {
   "cell_type": "code",
   "execution_count": 520,
   "id": "b91d0fd7",
   "metadata": {
    "ExecuteTime": {
     "end_time": "2021-08-31T12:25:59.035054Z",
     "start_time": "2021-08-31T12:25:59.021064Z"
    }
   },
   "outputs": [
    {
     "data": {
      "text/plain": [
       "LogisticRegression(n_jobs=-1)"
      ]
     },
     "execution_count": 520,
     "metadata": {},
     "output_type": "execute_result"
    }
   ],
   "source": [
    "LogisticRegression_pipeline.named_steps[\"classify\"]"
   ]
  },
  {
   "cell_type": "code",
   "execution_count": 477,
   "id": "b5610207",
   "metadata": {
    "ExecuteTime": {
     "end_time": "2021-08-31T11:01:30.390540Z",
     "start_time": "2021-08-31T11:01:30.372590Z"
    }
   },
   "outputs": [],
   "source": [
    "kfold = KFold(n_splits=5)"
   ]
  },
  {
   "cell_type": "code",
   "execution_count": 478,
   "id": "a36e1024",
   "metadata": {
    "ExecuteTime": {
     "end_time": "2021-08-31T11:03:55.259810Z",
     "start_time": "2021-08-31T11:01:30.786515Z"
    }
   },
   "outputs": [
    {
     "data": {
      "text/plain": [
       "array([0.9891677 , 0.9888588 , 0.98930445, 0.99091564, 0.9886874 ])"
      ]
     },
     "execution_count": 478,
     "metadata": {},
     "output_type": "execute_result"
    }
   ],
   "source": [
    "cross_val_score(LogisticRegression_pipeline, X, y, cv=kfold, n_jobs=-1)"
   ]
  },
  {
   "cell_type": "code",
   "execution_count": 483,
   "id": "791cf5dd",
   "metadata": {
    "ExecuteTime": {
     "end_time": "2021-08-31T11:17:48.868586Z",
     "start_time": "2021-08-31T11:05:14.591007Z"
    }
   },
   "outputs": [
    {
     "data": {
      "text/plain": [
       "array([0.9891677 , 0.98930445, 0.98964725, 0.99046999, 0.9886874 ])"
      ]
     },
     "execution_count": 483,
     "metadata": {},
     "output_type": "execute_result"
    }
   ],
   "source": [
    "cross_val_score(RandomForestClassifier_pipeline, X, y, cv=kfold, n_jobs=-1)"
   ]
  },
  {
   "cell_type": "markdown",
   "id": "4bdc565c",
   "metadata": {},
   "source": [
    "Year, score is high but it is lower than in the boosting methods. It is bad."
   ]
  },
  {
   "cell_type": "markdown",
   "id": "c3ff2454",
   "metadata": {},
   "source": [
    "### sklearn pipeline\n",
    "\n",
    "It was really bad idea to build my own pipeline there) "
   ]
  },
  {
   "cell_type": "code",
   "execution_count": 15,
   "id": "4c174755",
   "metadata": {
    "ExecuteTime": {
     "end_time": "2021-09-01T06:51:16.059091Z",
     "start_time": "2021-09-01T06:51:16.051079Z"
    }
   },
   "outputs": [
    {
     "data": {
      "text/plain": [
       "['time1',\n",
       " 'time2',\n",
       " 'time3',\n",
       " 'time4',\n",
       " 'time5',\n",
       " 'time6',\n",
       " 'time7',\n",
       " 'time8',\n",
       " 'time9',\n",
       " 'time10']"
      ]
     },
     "execution_count": 15,
     "metadata": {},
     "output_type": "execute_result"
    }
   ],
   "source": [
    "dates = [f'time{i}' for i in range(1,11)]\n"
   ]
  },
  {
   "cell_type": "code",
   "execution_count": 16,
   "id": "6a81b11c",
   "metadata": {
    "ExecuteTime": {
     "end_time": "2021-09-01T06:51:17.803549Z",
     "start_time": "2021-09-01T06:51:16.565234Z"
    }
   },
   "outputs": [],
   "source": [
    "test_data = pd.read_csv(\"data/test.csv\", parse_dates=dates, na_values=np.nan)"
   ]
  },
  {
   "cell_type": "code",
   "execution_count": 17,
   "id": "8313580f",
   "metadata": {
    "ExecuteTime": {
     "end_time": "2021-09-01T06:51:19.357342Z",
     "start_time": "2021-09-01T06:51:19.305448Z"
    }
   },
   "outputs": [
    {
     "data": {
      "text/html": [
       "<div>\n",
       "<style scoped>\n",
       "    .dataframe tbody tr th:only-of-type {\n",
       "        vertical-align: middle;\n",
       "    }\n",
       "\n",
       "    .dataframe tbody tr th {\n",
       "        vertical-align: top;\n",
       "    }\n",
       "\n",
       "    .dataframe thead th {\n",
       "        text-align: right;\n",
       "    }\n",
       "</style>\n",
       "<table border=\"1\" class=\"dataframe\">\n",
       "  <thead>\n",
       "    <tr style=\"text-align: right;\">\n",
       "      <th></th>\n",
       "      <th>session_id</th>\n",
       "      <th>webpage1</th>\n",
       "      <th>time1</th>\n",
       "      <th>webpage2</th>\n",
       "      <th>time2</th>\n",
       "      <th>webpage3</th>\n",
       "      <th>time3</th>\n",
       "      <th>webpage4</th>\n",
       "      <th>time4</th>\n",
       "      <th>webpage5</th>\n",
       "      <th>...</th>\n",
       "      <th>webpage6</th>\n",
       "      <th>time6</th>\n",
       "      <th>webpage7</th>\n",
       "      <th>time7</th>\n",
       "      <th>webpage8</th>\n",
       "      <th>time8</th>\n",
       "      <th>webpage9</th>\n",
       "      <th>time9</th>\n",
       "      <th>webpage10</th>\n",
       "      <th>time10</th>\n",
       "    </tr>\n",
       "  </thead>\n",
       "  <tbody>\n",
       "    <tr>\n",
       "      <th>0</th>\n",
       "      <td>0</td>\n",
       "      <td>10318</td>\n",
       "      <td>2019-03-28 06:47:12</td>\n",
       "      <td>10318.0</td>\n",
       "      <td>2019-03-28 06:47:42</td>\n",
       "      <td>10318.0</td>\n",
       "      <td>2019-03-28 06:48:12</td>\n",
       "      <td>10318.0</td>\n",
       "      <td>2019-03-28 06:48:42</td>\n",
       "      <td>10318.0</td>\n",
       "      <td>...</td>\n",
       "      <td>10318.0</td>\n",
       "      <td>2019-03-28 06:49:42</td>\n",
       "      <td>10318.0</td>\n",
       "      <td>2019-03-28 06:50:12</td>\n",
       "      <td>10318.0</td>\n",
       "      <td>2019-03-28 06:50:42</td>\n",
       "      <td>10318.0</td>\n",
       "      <td>2019-03-28 06:51:12</td>\n",
       "      <td>10318.0</td>\n",
       "      <td>2019-03-28 06:51:42</td>\n",
       "    </tr>\n",
       "    <tr>\n",
       "      <th>1</th>\n",
       "      <td>1</td>\n",
       "      <td>438</td>\n",
       "      <td>2019-02-28 06:48:05</td>\n",
       "      <td>2453.0</td>\n",
       "      <td>2019-02-28 06:50:22</td>\n",
       "      <td>2427.0</td>\n",
       "      <td>2019-02-28 06:50:22</td>\n",
       "      <td>2466.0</td>\n",
       "      <td>2019-02-28 06:50:23</td>\n",
       "      <td>2453.0</td>\n",
       "      <td>...</td>\n",
       "      <td>2466.0</td>\n",
       "      <td>2019-02-28 06:50:59</td>\n",
       "      <td>2427.0</td>\n",
       "      <td>2019-02-28 06:50:59</td>\n",
       "      <td>2453.0</td>\n",
       "      <td>2019-02-28 06:50:59</td>\n",
       "      <td>2453.0</td>\n",
       "      <td>2019-02-28 06:52:06</td>\n",
       "      <td>2466.0</td>\n",
       "      <td>2019-02-28 06:52:11</td>\n",
       "    </tr>\n",
       "    <tr>\n",
       "      <th>2</th>\n",
       "      <td>2</td>\n",
       "      <td>7562</td>\n",
       "      <td>2019-03-18 11:13:31</td>\n",
       "      <td>425.0</td>\n",
       "      <td>2019-03-18 11:13:39</td>\n",
       "      <td>7562.0</td>\n",
       "      <td>2019-03-18 11:18:02</td>\n",
       "      <td>425.0</td>\n",
       "      <td>2019-03-18 11:18:43</td>\n",
       "      <td>425.0</td>\n",
       "      <td>...</td>\n",
       "      <td>NaN</td>\n",
       "      <td>NaT</td>\n",
       "      <td>NaN</td>\n",
       "      <td>NaT</td>\n",
       "      <td>NaN</td>\n",
       "      <td>NaT</td>\n",
       "      <td>NaN</td>\n",
       "      <td>NaT</td>\n",
       "      <td>NaN</td>\n",
       "      <td>NaT</td>\n",
       "    </tr>\n",
       "    <tr>\n",
       "      <th>3</th>\n",
       "      <td>3</td>\n",
       "      <td>8836</td>\n",
       "      <td>2019-03-17 12:18:08</td>\n",
       "      <td>12372.0</td>\n",
       "      <td>2019-03-17 12:18:35</td>\n",
       "      <td>12398.0</td>\n",
       "      <td>2019-03-17 12:18:35</td>\n",
       "      <td>12385.0</td>\n",
       "      <td>2019-03-17 12:18:35</td>\n",
       "      <td>12385.0</td>\n",
       "      <td>...</td>\n",
       "      <td>12398.0</td>\n",
       "      <td>2019-03-17 12:18:36</td>\n",
       "      <td>12372.0</td>\n",
       "      <td>2019-03-17 12:18:36</td>\n",
       "      <td>451.0</td>\n",
       "      <td>2019-03-17 12:18:52</td>\n",
       "      <td>425.0</td>\n",
       "      <td>2019-03-17 12:18:52</td>\n",
       "      <td>438.0</td>\n",
       "      <td>2019-03-17 12:18:53</td>\n",
       "    </tr>\n",
       "    <tr>\n",
       "      <th>4</th>\n",
       "      <td>4</td>\n",
       "      <td>451</td>\n",
       "      <td>2019-03-31 09:46:43</td>\n",
       "      <td>9863.0</td>\n",
       "      <td>2019-03-31 09:46:44</td>\n",
       "      <td>451.0</td>\n",
       "      <td>2019-03-31 09:46:46</td>\n",
       "      <td>9889.0</td>\n",
       "      <td>2019-03-31 09:46:46</td>\n",
       "      <td>451.0</td>\n",
       "      <td>...</td>\n",
       "      <td>425.0</td>\n",
       "      <td>2019-03-31 09:47:46</td>\n",
       "      <td>9928.0</td>\n",
       "      <td>2019-03-31 09:49:43</td>\n",
       "      <td>867.0</td>\n",
       "      <td>2019-03-31 10:05:12</td>\n",
       "      <td>880.0</td>\n",
       "      <td>2019-03-31 10:05:12</td>\n",
       "      <td>867.0</td>\n",
       "      <td>2019-03-31 10:05:13</td>\n",
       "    </tr>\n",
       "  </tbody>\n",
       "</table>\n",
       "<p>5 rows × 21 columns</p>\n",
       "</div>"
      ],
      "text/plain": [
       "   session_id  webpage1               time1  webpage2               time2  \\\n",
       "0           0     10318 2019-03-28 06:47:12   10318.0 2019-03-28 06:47:42   \n",
       "1           1       438 2019-02-28 06:48:05    2453.0 2019-02-28 06:50:22   \n",
       "2           2      7562 2019-03-18 11:13:31     425.0 2019-03-18 11:13:39   \n",
       "3           3      8836 2019-03-17 12:18:08   12372.0 2019-03-17 12:18:35   \n",
       "4           4       451 2019-03-31 09:46:43    9863.0 2019-03-31 09:46:44   \n",
       "\n",
       "   webpage3               time3  webpage4               time4  webpage5  ...  \\\n",
       "0   10318.0 2019-03-28 06:48:12   10318.0 2019-03-28 06:48:42   10318.0  ...   \n",
       "1    2427.0 2019-02-28 06:50:22    2466.0 2019-02-28 06:50:23    2453.0  ...   \n",
       "2    7562.0 2019-03-18 11:18:02     425.0 2019-03-18 11:18:43     425.0  ...   \n",
       "3   12398.0 2019-03-17 12:18:35   12385.0 2019-03-17 12:18:35   12385.0  ...   \n",
       "4     451.0 2019-03-31 09:46:46    9889.0 2019-03-31 09:46:46     451.0  ...   \n",
       "\n",
       "  webpage6               time6 webpage7               time7 webpage8  \\\n",
       "0  10318.0 2019-03-28 06:49:42  10318.0 2019-03-28 06:50:12  10318.0   \n",
       "1   2466.0 2019-02-28 06:50:59   2427.0 2019-02-28 06:50:59   2453.0   \n",
       "2      NaN                 NaT      NaN                 NaT      NaN   \n",
       "3  12398.0 2019-03-17 12:18:36  12372.0 2019-03-17 12:18:36    451.0   \n",
       "4    425.0 2019-03-31 09:47:46   9928.0 2019-03-31 09:49:43    867.0   \n",
       "\n",
       "                time8 webpage9               time9 webpage10  \\\n",
       "0 2019-03-28 06:50:42  10318.0 2019-03-28 06:51:12   10318.0   \n",
       "1 2019-02-28 06:50:59   2453.0 2019-02-28 06:52:06    2466.0   \n",
       "2                 NaT      NaN                 NaT       NaN   \n",
       "3 2019-03-17 12:18:52    425.0 2019-03-17 12:18:52     438.0   \n",
       "4 2019-03-31 10:05:12    880.0 2019-03-31 10:05:12     867.0   \n",
       "\n",
       "               time10  \n",
       "0 2019-03-28 06:51:42  \n",
       "1 2019-02-28 06:52:11  \n",
       "2                 NaT  \n",
       "3 2019-03-17 12:18:53  \n",
       "4 2019-03-31 10:05:13  \n",
       "\n",
       "[5 rows x 21 columns]"
      ]
     },
     "execution_count": 17,
     "metadata": {},
     "output_type": "execute_result"
    }
   ],
   "source": [
    "test_data.head()"
   ]
  },
  {
   "cell_type": "code",
   "execution_count": 37,
   "id": "8617d105",
   "metadata": {
    "ExecuteTime": {
     "end_time": "2021-09-01T06:52:39.092204Z",
     "start_time": "2021-09-01T06:52:39.073237Z"
    }
   },
   "outputs": [],
   "source": [
    "# class FeautureSelector(BaseEstimator, TransformerMixin):\n",
    "#     def __init__(self, feature_names):\n",
    "#         self.feature_names = feature_names\n",
    "\n",
    "#     def fit(self, X, y=None):\n",
    "#         return self\n",
    "\n",
    "#     def transform(self, X, y=None):\n",
    "#         return X[self.feature_names]\n",
    "\n",
    "def to_hour_gaps(i):\n",
    "    if i in range(0, 6):\n",
    "        return \"night\"\n",
    "    elif i in range(6, 12):\n",
    "        return \"morning\"\n",
    "    elif i in range(12, 18):\n",
    "        return \"afternoon\"\n",
    "    else:\n",
    "        return \"evening\"\n",
    "\n",
    "\n",
    "class Transformator_ohe(BaseEstimator, TransformerMixin):\n",
    "    def __init__(self):\n",
    "        BaseEstimator.__init__(self)\n",
    "        TransformerMixin.__init__(self)\n",
    "\n",
    "    def fit(self, X, y=None):\n",
    "        return self\n",
    "\n",
    "    def transform(self, X, y=None):\n",
    "        \"\"\"\n",
    "        This func should return clear X. (year, month, time)\n",
    "        \"\"\"\n",
    "\n",
    "        data = X.copy()\n",
    "\n",
    "        main_date = X.time1\n",
    "        data[\"Time\"] = main_date.dt.hour.map(to_hour_gaps)\n",
    "        data[\"Month\"] = main_date.dt.month_name()\n",
    "        data[\"Year\"] = main_date.apply(lambda x: x.year)\n",
    "        data.drop(columns=X.columns, inplace=True)\n",
    "\n",
    "        return data\n",
    "\n",
    "\n",
    "class Transformator_ss(BaseEstimator, TransformerMixin):\n",
    "    def __init__(self):\n",
    "        BaseEstimator.__init__(self)\n",
    "        TransformerMixin.__init__(self)\n",
    "\n",
    "    def fit(self, X, y=None):\n",
    "        return self\n",
    "\n",
    "    def is_date(x):\n",
    "        return isinstance(x, pd._libs.tslibs.nattype.NaTType)\n",
    "\n",
    "    def transform(self, X, y=None):\n",
    "        \"\"\"\n",
    "        This func should return (time_on_website)\n",
    "        \"\"\"\n",
    "\n",
    "        data = X.copy()\n",
    "\n",
    "#         for key, value in enumerate(data.time10):\n",
    "#             if is_date(i):\n",
    "#                 data.time10[key] = data.time1[key]\n",
    "\n",
    "        data[\"time10\"] = data[\"time10\"].fillna(value=data[\"time1\"])\n",
    "        data[\"Time_on_website\"] = (\n",
    "            data.time10 - data.time1).apply(lambda x: x.seconds)\n",
    "        data.drop(columns=X.columns, inplace=True)\n",
    "\n",
    "        return data"
   ]
  },
  {
   "cell_type": "code",
   "execution_count": 32,
   "id": "d24fce26",
   "metadata": {
    "ExecuteTime": {
     "end_time": "2021-09-01T06:52:26.959061Z",
     "start_time": "2021-09-01T06:52:26.950083Z"
    }
   },
   "outputs": [],
   "source": [
    "preprocessor_date_ohe = Pipeline([\n",
    "    (\"transformator\", Transformator_ohe()),\n",
    "    (\"ohe\", OneHotEncoder())\n",
    "])\n",
    "\n",
    "preprocessor_date_ss = Pipeline([\n",
    "    (\"transformator\", Transformator_ss()),\n",
    "    (\"ohe\", RobustScaler(quantile_range=(0.0,75.0)))\n",
    "])\n",
    "\n",
    "\n",
    "preprocessor = ColumnTransformer(\n",
    "    transformers=[\n",
    "        ('date_ohe', preprocessor_date_ohe, [\"time1\"]),\n",
    "        ('date_ss', preprocessor_date_ss, [\"time1\", \"time10\"])\n",
    "    ]\n",
    ")\n"
   ]
  },
  {
   "cell_type": "code",
   "execution_count": 33,
   "id": "2da35271",
   "metadata": {
    "ExecuteTime": {
     "end_time": "2021-09-01T06:52:27.112943Z",
     "start_time": "2021-09-01T06:52:27.103946Z"
    }
   },
   "outputs": [],
   "source": [
    "logistic_pipeline = Pipeline([\n",
    "    (\"preprocessor\", preprocessor),\n",
    "    (\"clf\", LogisticRegression(n_jobs=-1))\n",
    "])"
   ]
  },
  {
   "cell_type": "code",
   "execution_count": 34,
   "id": "fbfbdcb7",
   "metadata": {
    "ExecuteTime": {
     "end_time": "2021-09-01T06:52:29.591514Z",
     "start_time": "2021-09-01T06:52:27.466957Z"
    }
   },
   "outputs": [],
   "source": [
    "train_data = pd.read_csv(\"epamdscourseclassification3/train.csv\", parse_dates=dates)\n",
    "train_data.drop(index=train_data[train_data.isna().any(axis=1)].index, inplace=True)"
   ]
  },
  {
   "cell_type": "code",
   "execution_count": 35,
   "id": "358094de",
   "metadata": {
    "ExecuteTime": {
     "end_time": "2021-09-01T06:52:29.622847Z",
     "start_time": "2021-09-01T06:52:29.593935Z"
    }
   },
   "outputs": [],
   "source": [
    "X_train = train_data.drop(columns=\"target\")\n",
    "y_train = train_data.target"
   ]
  },
  {
   "cell_type": "code",
   "execution_count": 38,
   "id": "f364a9c0",
   "metadata": {
    "ExecuteTime": {
     "end_time": "2021-09-01T06:52:49.643052Z",
     "start_time": "2021-09-01T06:52:44.947078Z"
    }
   },
   "outputs": [
    {
     "data": {
      "text/plain": [
       "Pipeline(steps=[('preprocessor',\n",
       "                 ColumnTransformer(transformers=[('date_ohe',\n",
       "                                                  Pipeline(steps=[('transformator',\n",
       "                                                                   Transformator_ohe()),\n",
       "                                                                  ('ohe',\n",
       "                                                                   OneHotEncoder())]),\n",
       "                                                  ['time1']),\n",
       "                                                 ('date_ss',\n",
       "                                                  Pipeline(steps=[('transformator',\n",
       "                                                                   Transformator_ss()),\n",
       "                                                                  ('ohe',\n",
       "                                                                   RobustScaler(quantile_range=(0.0,\n",
       "                                                                                                75.0)))]),\n",
       "                                                  ['time1', 'time10'])])),\n",
       "                ('clf', LogisticRegression(n_jobs=-1))])"
      ]
     },
     "execution_count": 38,
     "metadata": {},
     "output_type": "execute_result"
    }
   ],
   "source": [
    "logistic_pipeline.fit(X_train, y_train)"
   ]
  },
  {
   "cell_type": "code",
   "execution_count": 913,
   "id": "b3d82933",
   "metadata": {
    "ExecuteTime": {
     "end_time": "2021-08-31T17:04:22.545132Z",
     "start_time": "2021-08-31T17:04:14.129514Z"
    }
   },
   "outputs": [
    {
     "data": {
      "text/plain": [
       "array([0.85571327, 0.87117535, 0.85330812, 0.8615275 , 0.8560854 ])"
      ]
     },
     "execution_count": 913,
     "metadata": {},
     "output_type": "execute_result"
    }
   ],
   "source": [
    "cross_val_score(logistic_pipeline, X, y, cv=kfold, n_jobs=-1, scoring=\"roc_auc\")"
   ]
  },
  {
   "cell_type": "code",
   "execution_count": 39,
   "id": "844b4e86",
   "metadata": {
    "ExecuteTime": {
     "end_time": "2021-09-01T06:52:59.265441Z",
     "start_time": "2021-09-01T06:52:55.400980Z"
    }
   },
   "outputs": [],
   "source": [
    "model = logistic_pipeline.fit(X_train, y_train)"
   ]
  },
  {
   "cell_type": "code",
   "execution_count": 40,
   "id": "73d23f36",
   "metadata": {
    "ExecuteTime": {
     "end_time": "2021-09-01T06:53:15.998376Z",
     "start_time": "2021-09-01T06:53:14.129859Z"
    }
   },
   "outputs": [],
   "source": [
    "y_pred_train = model.predict_proba(X_train)"
   ]
  },
  {
   "cell_type": "code",
   "execution_count": 45,
   "id": "8794664d",
   "metadata": {
    "ExecuteTime": {
     "end_time": "2021-09-01T06:54:31.978844Z",
     "start_time": "2021-09-01T06:54:29.955179Z"
    }
   },
   "outputs": [
    {
     "data": {
      "text/plain": [
       "0.5"
      ]
     },
     "execution_count": 45,
     "metadata": {},
     "output_type": "execute_result"
    }
   ],
   "source": [
    "roc_auc_score(y_train, model.predict(X_train))"
   ]
  },
  {
   "cell_type": "code",
   "execution_count": 920,
   "id": "eafc9f50",
   "metadata": {
    "ExecuteTime": {
     "end_time": "2021-08-31T17:10:55.253531Z",
     "start_time": "2021-08-31T17:10:55.079843Z"
    }
   },
   "outputs": [
    {
     "name": "stdout",
     "output_type": "stream",
     "text": [
      "              precision    recall  f1-score   support\n",
      "\n",
      "           0       1.00      0.99      0.99    145856\n",
      "           1       0.00      0.00      0.00         0\n",
      "\n",
      "    accuracy                           0.99    145856\n",
      "   macro avg       0.50      0.49      0.50    145856\n",
      "weighted avg       1.00      0.99      0.99    145856\n",
      "\n"
     ]
    },
    {
     "name": "stderr",
     "output_type": "stream",
     "text": [
      "C:\\Users\\Oleg-Nai\\anaconda3\\envs\\course\\lib\\site-packages\\sklearn\\metrics\\_classification.py:1248: UndefinedMetricWarning: Recall and F-score are ill-defined and being set to 0.0 in labels with no true samples. Use `zero_division` parameter to control this behavior.\n",
      "  _warn_prf(average, modifier, msg_start, len(result))\n",
      "C:\\Users\\Oleg-Nai\\anaconda3\\envs\\course\\lib\\site-packages\\sklearn\\metrics\\_classification.py:1248: UndefinedMetricWarning: Recall and F-score are ill-defined and being set to 0.0 in labels with no true samples. Use `zero_division` parameter to control this behavior.\n",
      "  _warn_prf(average, modifier, msg_start, len(result))\n",
      "C:\\Users\\Oleg-Nai\\anaconda3\\envs\\course\\lib\\site-packages\\sklearn\\metrics\\_classification.py:1248: UndefinedMetricWarning: Recall and F-score are ill-defined and being set to 0.0 in labels with no true samples. Use `zero_division` parameter to control this behavior.\n",
      "  _warn_prf(average, modifier, msg_start, len(result))\n"
     ]
    }
   ],
   "source": [
    "print(classification_report(y_pred_train, y_train))"
   ]
  },
  {
   "cell_type": "code",
   "execution_count": 49,
   "id": "f4b55160",
   "metadata": {
    "ExecuteTime": {
     "end_time": "2021-09-01T06:55:23.451370Z",
     "start_time": "2021-09-01T06:55:22.268931Z"
    }
   },
   "outputs": [],
   "source": [
    "y_pred = model.predict_proba(test_data)"
   ]
  },
  {
   "cell_type": "code",
   "execution_count": 54,
   "id": "b994960b",
   "metadata": {
    "ExecuteTime": {
     "end_time": "2021-09-01T06:56:04.111946Z",
     "start_time": "2021-09-01T06:56:04.103935Z"
    }
   },
   "outputs": [
    {
     "data": {
      "text/plain": [
       "array([0.00017348, 0.00314337, 0.00037583, ..., 0.00037583, 0.00579059,\n",
       "       0.00132634])"
      ]
     },
     "execution_count": 54,
     "metadata": {},
     "output_type": "execute_result"
    }
   ],
   "source": [
    "y_pred[:, 1]"
   ]
  },
  {
   "cell_type": "code",
   "execution_count": 907,
   "id": "80b7f1ea",
   "metadata": {
    "ExecuteTime": {
     "end_time": "2021-08-31T16:56:58.920547Z",
     "start_time": "2021-08-31T16:56:58.797102Z"
    }
   },
   "outputs": [],
   "source": [
    "pd.Series(data=y_pred, name = \"target\").to_csv(\"save.csv\")"
   ]
  },
  {
   "cell_type": "code",
   "execution_count": 55,
   "id": "263f64d8",
   "metadata": {
    "ExecuteTime": {
     "end_time": "2021-09-01T06:56:11.070251Z",
     "start_time": "2021-09-01T06:56:10.779755Z"
    }
   },
   "outputs": [],
   "source": [
    "save_submission(y_pred[:, 1])"
   ]
  },
  {
   "cell_type": "code",
   "execution_count": null,
   "id": "819d58a1",
   "metadata": {},
   "outputs": [],
   "source": []
  },
  {
   "cell_type": "code",
   "execution_count": 941,
   "id": "ba7e8ee6",
   "metadata": {
    "ExecuteTime": {
     "end_time": "2021-08-31T17:22:09.582471Z",
     "start_time": "2021-08-31T17:22:09.573488Z"
    }
   },
   "outputs": [],
   "source": [
    "RFC_pipeline = Pipeline([\n",
    "    (\"preprocessor\", preprocessor),\n",
    "    (\"clf\", RandomForestClassifier())\n",
    "])"
   ]
  },
  {
   "cell_type": "code",
   "execution_count": 802,
   "id": "06cc83c8",
   "metadata": {
    "ExecuteTime": {
     "end_time": "2021-09-07T13:52:41.704964Z",
     "start_time": "2021-09-07T13:52:41.679034Z"
    }
   },
   "outputs": [],
   "source": [
    "# n_estimators = [int(x) for x in np.linspace(start = 200, stop = 2000, num = 10)]\n",
    "# max_features = ['auto', 'sqrt']\n",
    "# max_depth = [int(x) for x in np.linspace(10, 110, num = 11)]\n",
    "# max_depth.append(None)\n",
    "# min_samples_split = [2, 5, 10]\n",
    "# min_samples_leaf = [1, 2, 4]\n",
    "# bootstrap = [True, False]\n",
    "\n",
    "parameters_RFC = {'clf__n_estimators': [100, 200, 50, 500],\n",
    "               'clf__max_features': ['auto', 'sqrt'],\n",
    "               'clf__max_depth': [3,5,7,10],\n",
    "                 }"
   ]
  },
  {
   "cell_type": "code",
   "execution_count": 943,
   "id": "8a13e15d",
   "metadata": {
    "ExecuteTime": {
     "end_time": "2021-08-31T17:22:12.797040Z",
     "start_time": "2021-08-31T17:22:12.789022Z"
    }
   },
   "outputs": [],
   "source": []
  },
  {
   "cell_type": "code",
   "execution_count": 1,
   "id": "3427e09f",
   "metadata": {
    "ExecuteTime": {
     "end_time": "2021-09-01T06:49:27.947283Z",
     "start_time": "2021-09-01T06:49:27.740005Z"
    }
   },
   "outputs": [
    {
     "ename": "NameError",
     "evalue": "name 'GridSearchCV' is not defined",
     "output_type": "error",
     "traceback": [
      "\u001b[1;31m---------------------------------------------------------------------------\u001b[0m",
      "\u001b[1;31mNameError\u001b[0m                                 Traceback (most recent call last)",
      "\u001b[1;32m<ipython-input-1-686ada6bf719>\u001b[0m in \u001b[0;36m<module>\u001b[1;34m\u001b[0m\n\u001b[1;32m----> 1\u001b[1;33m grid_search_RFC = GridSearchCV(estimator=RFC_pipeline,\n\u001b[0m\u001b[0;32m      2\u001b[0m                                    param_grid=parameters_RFC, cv=kfold, scoring='roc_auc', n_jobs=-1)\n",
      "\u001b[1;31mNameError\u001b[0m: name 'GridSearchCV' is not defined"
     ]
    }
   ],
   "source": [
    "grid_search_RFC = GridSearchCV(estimator=RFC_pipeline,\n",
    "                                   param_grid=parameters_RFC, cv=kfold, scoring='roc_auc', n_jobs=-1)"
   ]
  },
  {
   "cell_type": "code",
   "execution_count": null,
   "id": "cc90a955",
   "metadata": {
    "ExecuteTime": {
     "start_time": "2021-08-31T17:22:15.177Z"
    }
   },
   "outputs": [],
   "source": [
    "grid_search_RFC.fit(X_train, y_train)"
   ]
  },
  {
   "cell_type": "code",
   "execution_count": null,
   "id": "2a4ef323",
   "metadata": {
    "ExecuteTime": {
     "start_time": "2021-08-31T18:10:07.427Z"
    }
   },
   "outputs": [],
   "source": [
    "from sklearn.ensemble import GradientBoostingClassifier"
   ]
  },
  {
   "cell_type": "code",
   "execution_count": null,
   "id": "16ba6aad",
   "metadata": {
    "ExecuteTime": {
     "start_time": "2021-08-31T18:10:25.231Z"
    }
   },
   "outputs": [],
   "source": [
    "GBC_pipeline = Pipeline([\n",
    "    (\"preprocessor\", preprocessor),\n",
    "    (\"clf\", GradientBoostingClassifier())\n",
    "])"
   ]
  },
  {
   "cell_type": "code",
   "execution_count": null,
   "id": "79791e4b",
   "metadata": {
    "ExecuteTime": {
     "start_time": "2021-08-31T18:13:33.866Z"
    }
   },
   "outputs": [],
   "source": [
    "parameters_GBC = {#'nthread':[3,4], #when use hyperthread, xgboost may become slower\n",
    "                \"clf__criterion\": [\"friedman_mse\",  \"mae\"],\n",
    "              \"clf__loss\":[\"deviance\",\"exponential\"],\n",
    "              \"clf__max_features\":[\"log2\",\"sqrt\"],\n",
    "              'clf__learning_rate': [0.01,0.05,0.1,1,0.5], #so called `eta` value\n",
    "              'clf__max_depth': [3,4,5],\n",
    "              'clf__min_samples_leaf': [4,5,6],\n",
    "\n",
    "              'clf__subsample': [0.6,0.7,0.8],\n",
    "              'clf__n_estimators': [5,10,15,20]#number of trees, change it to 1000 for better result}"
   ]
  },
  {
   "cell_type": "code",
   "execution_count": null,
   "id": "a3612739",
   "metadata": {
    "ExecuteTime": {
     "start_time": "2021-08-31T18:13:34.497Z"
    }
   },
   "outputs": [],
   "source": [
    "grid_search_GBC = GridSearchCV(estimator=GBC_pipeline,\n",
    "                                   param_grid=parameters_GBC, cv=kfold, scoring='roc_auc', n_jobs=-1)"
   ]
  },
  {
   "cell_type": "code",
   "execution_count": null,
   "id": "c2589d21",
   "metadata": {
    "ExecuteTime": {
     "start_time": "2021-08-31T18:14:27.135Z"
    }
   },
   "outputs": [],
   "source": [
    "grid_search_GBC.fit(X_train, y_train)"
   ]
  },
  {
   "cell_type": "markdown",
   "id": "a2282f51",
   "metadata": {},
   "source": [
    "## Pipeline #4 \n",
    "\n",
    "There i have used grid search woth second pipeline."
   ]
  },
  {
   "cell_type": "code",
   "execution_count": 100,
   "id": "97b1293d",
   "metadata": {
    "ExecuteTime": {
     "end_time": "2021-09-03T18:34:24.404201Z",
     "start_time": "2021-09-03T18:34:21.070140Z"
    }
   },
   "outputs": [],
   "source": [
    "train = pd.read_csv(\"data/train.csv\", index_col=0, parse_dates=[f\"time{i}\" for i in range(1,11)])\n",
    "test = pd.read_csv(\"data/test.csv\", index_col=0, parse_dates=[f\"time{i}\" for i in range(1,11)])"
   ]
  },
  {
   "cell_type": "code",
   "execution_count": 101,
   "id": "d708b89c",
   "metadata": {
    "ExecuteTime": {
     "end_time": "2021-09-03T18:34:24.439698Z",
     "start_time": "2021-09-03T18:34:24.404201Z"
    }
   },
   "outputs": [
    {
     "data": {
      "text/html": [
       "<div>\n",
       "<style scoped>\n",
       "    .dataframe tbody tr th:only-of-type {\n",
       "        vertical-align: middle;\n",
       "    }\n",
       "\n",
       "    .dataframe tbody tr th {\n",
       "        vertical-align: top;\n",
       "    }\n",
       "\n",
       "    .dataframe thead th {\n",
       "        text-align: right;\n",
       "    }\n",
       "</style>\n",
       "<table border=\"1\" class=\"dataframe\">\n",
       "  <thead>\n",
       "    <tr style=\"text-align: right;\">\n",
       "      <th></th>\n",
       "      <th>webpage1</th>\n",
       "      <th>time1</th>\n",
       "      <th>webpage2</th>\n",
       "      <th>time2</th>\n",
       "      <th>webpage3</th>\n",
       "      <th>time3</th>\n",
       "      <th>webpage4</th>\n",
       "      <th>time4</th>\n",
       "      <th>webpage5</th>\n",
       "      <th>time5</th>\n",
       "      <th>webpage6</th>\n",
       "      <th>time6</th>\n",
       "      <th>webpage7</th>\n",
       "      <th>time7</th>\n",
       "      <th>webpage8</th>\n",
       "      <th>time8</th>\n",
       "      <th>webpage9</th>\n",
       "      <th>time9</th>\n",
       "      <th>webpage10</th>\n",
       "      <th>time10</th>\n",
       "    </tr>\n",
       "    <tr>\n",
       "      <th>session_id</th>\n",
       "      <th></th>\n",
       "      <th></th>\n",
       "      <th></th>\n",
       "      <th></th>\n",
       "      <th></th>\n",
       "      <th></th>\n",
       "      <th></th>\n",
       "      <th></th>\n",
       "      <th></th>\n",
       "      <th></th>\n",
       "      <th></th>\n",
       "      <th></th>\n",
       "      <th></th>\n",
       "      <th></th>\n",
       "      <th></th>\n",
       "      <th></th>\n",
       "      <th></th>\n",
       "      <th></th>\n",
       "      <th></th>\n",
       "      <th></th>\n",
       "    </tr>\n",
       "  </thead>\n",
       "  <tbody>\n",
       "    <tr>\n",
       "      <th>0</th>\n",
       "      <td>10318</td>\n",
       "      <td>2019-03-28 06:47:12</td>\n",
       "      <td>10318.0</td>\n",
       "      <td>2019-03-28 06:47:42</td>\n",
       "      <td>10318.0</td>\n",
       "      <td>2019-03-28 06:48:12</td>\n",
       "      <td>10318.0</td>\n",
       "      <td>2019-03-28 06:48:42</td>\n",
       "      <td>10318.0</td>\n",
       "      <td>2019-03-28 06:49:12</td>\n",
       "      <td>10318.0</td>\n",
       "      <td>2019-03-28 06:49:42</td>\n",
       "      <td>10318.0</td>\n",
       "      <td>2019-03-28 06:50:12</td>\n",
       "      <td>10318.0</td>\n",
       "      <td>2019-03-28 06:50:42</td>\n",
       "      <td>10318.0</td>\n",
       "      <td>2019-03-28 06:51:12</td>\n",
       "      <td>10318.0</td>\n",
       "      <td>2019-03-28 06:51:42</td>\n",
       "    </tr>\n",
       "    <tr>\n",
       "      <th>1</th>\n",
       "      <td>438</td>\n",
       "      <td>2019-02-28 06:48:05</td>\n",
       "      <td>2453.0</td>\n",
       "      <td>2019-02-28 06:50:22</td>\n",
       "      <td>2427.0</td>\n",
       "      <td>2019-02-28 06:50:22</td>\n",
       "      <td>2466.0</td>\n",
       "      <td>2019-02-28 06:50:23</td>\n",
       "      <td>2453.0</td>\n",
       "      <td>2019-02-28 06:50:23</td>\n",
       "      <td>2466.0</td>\n",
       "      <td>2019-02-28 06:50:59</td>\n",
       "      <td>2427.0</td>\n",
       "      <td>2019-02-28 06:50:59</td>\n",
       "      <td>2453.0</td>\n",
       "      <td>2019-02-28 06:50:59</td>\n",
       "      <td>2453.0</td>\n",
       "      <td>2019-02-28 06:52:06</td>\n",
       "      <td>2466.0</td>\n",
       "      <td>2019-02-28 06:52:11</td>\n",
       "    </tr>\n",
       "    <tr>\n",
       "      <th>2</th>\n",
       "      <td>7562</td>\n",
       "      <td>2019-03-18 11:13:31</td>\n",
       "      <td>425.0</td>\n",
       "      <td>2019-03-18 11:13:39</td>\n",
       "      <td>7562.0</td>\n",
       "      <td>2019-03-18 11:18:02</td>\n",
       "      <td>425.0</td>\n",
       "      <td>2019-03-18 11:18:43</td>\n",
       "      <td>425.0</td>\n",
       "      <td>2019-03-18 11:24:57</td>\n",
       "      <td>NaN</td>\n",
       "      <td>NaT</td>\n",
       "      <td>NaN</td>\n",
       "      <td>NaT</td>\n",
       "      <td>NaN</td>\n",
       "      <td>NaT</td>\n",
       "      <td>NaN</td>\n",
       "      <td>NaT</td>\n",
       "      <td>NaN</td>\n",
       "      <td>NaT</td>\n",
       "    </tr>\n",
       "    <tr>\n",
       "      <th>3</th>\n",
       "      <td>8836</td>\n",
       "      <td>2019-03-17 12:18:08</td>\n",
       "      <td>12372.0</td>\n",
       "      <td>2019-03-17 12:18:35</td>\n",
       "      <td>12398.0</td>\n",
       "      <td>2019-03-17 12:18:35</td>\n",
       "      <td>12385.0</td>\n",
       "      <td>2019-03-17 12:18:35</td>\n",
       "      <td>12385.0</td>\n",
       "      <td>2019-03-17 12:18:36</td>\n",
       "      <td>12398.0</td>\n",
       "      <td>2019-03-17 12:18:36</td>\n",
       "      <td>12372.0</td>\n",
       "      <td>2019-03-17 12:18:36</td>\n",
       "      <td>451.0</td>\n",
       "      <td>2019-03-17 12:18:52</td>\n",
       "      <td>425.0</td>\n",
       "      <td>2019-03-17 12:18:52</td>\n",
       "      <td>438.0</td>\n",
       "      <td>2019-03-17 12:18:53</td>\n",
       "    </tr>\n",
       "    <tr>\n",
       "      <th>4</th>\n",
       "      <td>451</td>\n",
       "      <td>2019-03-31 09:46:43</td>\n",
       "      <td>9863.0</td>\n",
       "      <td>2019-03-31 09:46:44</td>\n",
       "      <td>451.0</td>\n",
       "      <td>2019-03-31 09:46:46</td>\n",
       "      <td>9889.0</td>\n",
       "      <td>2019-03-31 09:46:46</td>\n",
       "      <td>451.0</td>\n",
       "      <td>2019-03-31 09:47:45</td>\n",
       "      <td>425.0</td>\n",
       "      <td>2019-03-31 09:47:46</td>\n",
       "      <td>9928.0</td>\n",
       "      <td>2019-03-31 09:49:43</td>\n",
       "      <td>867.0</td>\n",
       "      <td>2019-03-31 10:05:12</td>\n",
       "      <td>880.0</td>\n",
       "      <td>2019-03-31 10:05:12</td>\n",
       "      <td>867.0</td>\n",
       "      <td>2019-03-31 10:05:13</td>\n",
       "    </tr>\n",
       "  </tbody>\n",
       "</table>\n",
       "</div>"
      ],
      "text/plain": [
       "            webpage1               time1  webpage2               time2  \\\n",
       "session_id                                                               \n",
       "0              10318 2019-03-28 06:47:12   10318.0 2019-03-28 06:47:42   \n",
       "1                438 2019-02-28 06:48:05    2453.0 2019-02-28 06:50:22   \n",
       "2               7562 2019-03-18 11:13:31     425.0 2019-03-18 11:13:39   \n",
       "3               8836 2019-03-17 12:18:08   12372.0 2019-03-17 12:18:35   \n",
       "4                451 2019-03-31 09:46:43    9863.0 2019-03-31 09:46:44   \n",
       "\n",
       "            webpage3               time3  webpage4               time4  \\\n",
       "session_id                                                               \n",
       "0            10318.0 2019-03-28 06:48:12   10318.0 2019-03-28 06:48:42   \n",
       "1             2427.0 2019-02-28 06:50:22    2466.0 2019-02-28 06:50:23   \n",
       "2             7562.0 2019-03-18 11:18:02     425.0 2019-03-18 11:18:43   \n",
       "3            12398.0 2019-03-17 12:18:35   12385.0 2019-03-17 12:18:35   \n",
       "4              451.0 2019-03-31 09:46:46    9889.0 2019-03-31 09:46:46   \n",
       "\n",
       "            webpage5               time5  webpage6               time6  \\\n",
       "session_id                                                               \n",
       "0            10318.0 2019-03-28 06:49:12   10318.0 2019-03-28 06:49:42   \n",
       "1             2453.0 2019-02-28 06:50:23    2466.0 2019-02-28 06:50:59   \n",
       "2              425.0 2019-03-18 11:24:57       NaN                 NaT   \n",
       "3            12385.0 2019-03-17 12:18:36   12398.0 2019-03-17 12:18:36   \n",
       "4              451.0 2019-03-31 09:47:45     425.0 2019-03-31 09:47:46   \n",
       "\n",
       "            webpage7               time7  webpage8               time8  \\\n",
       "session_id                                                               \n",
       "0            10318.0 2019-03-28 06:50:12   10318.0 2019-03-28 06:50:42   \n",
       "1             2427.0 2019-02-28 06:50:59    2453.0 2019-02-28 06:50:59   \n",
       "2                NaN                 NaT       NaN                 NaT   \n",
       "3            12372.0 2019-03-17 12:18:36     451.0 2019-03-17 12:18:52   \n",
       "4             9928.0 2019-03-31 09:49:43     867.0 2019-03-31 10:05:12   \n",
       "\n",
       "            webpage9               time9  webpage10              time10  \n",
       "session_id                                                               \n",
       "0            10318.0 2019-03-28 06:51:12    10318.0 2019-03-28 06:51:42  \n",
       "1             2453.0 2019-02-28 06:52:06     2466.0 2019-02-28 06:52:11  \n",
       "2                NaN                 NaT        NaN                 NaT  \n",
       "3              425.0 2019-03-17 12:18:52      438.0 2019-03-17 12:18:53  \n",
       "4              880.0 2019-03-31 10:05:12      867.0 2019-03-31 10:05:13  "
      ]
     },
     "execution_count": 101,
     "metadata": {},
     "output_type": "execute_result"
    }
   ],
   "source": [
    "test.head()"
   ]
  },
  {
   "cell_type": "code",
   "execution_count": 102,
   "id": "5ec5de33",
   "metadata": {
    "ExecuteTime": {
     "end_time": "2021-09-03T18:34:24.469276Z",
     "start_time": "2021-09-03T18:34:24.439698Z"
    }
   },
   "outputs": [
    {
     "data": {
      "text/html": [
       "<div>\n",
       "<style scoped>\n",
       "    .dataframe tbody tr th:only-of-type {\n",
       "        vertical-align: middle;\n",
       "    }\n",
       "\n",
       "    .dataframe tbody tr th {\n",
       "        vertical-align: top;\n",
       "    }\n",
       "\n",
       "    .dataframe thead th {\n",
       "        text-align: right;\n",
       "    }\n",
       "</style>\n",
       "<table border=\"1\" class=\"dataframe\">\n",
       "  <thead>\n",
       "    <tr style=\"text-align: right;\">\n",
       "      <th></th>\n",
       "      <th>webpage1</th>\n",
       "      <th>time1</th>\n",
       "      <th>webpage2</th>\n",
       "      <th>time2</th>\n",
       "      <th>webpage3</th>\n",
       "      <th>time3</th>\n",
       "      <th>webpage4</th>\n",
       "      <th>time4</th>\n",
       "      <th>webpage5</th>\n",
       "      <th>time5</th>\n",
       "      <th>...</th>\n",
       "      <th>time6</th>\n",
       "      <th>webpage7</th>\n",
       "      <th>time7</th>\n",
       "      <th>webpage8</th>\n",
       "      <th>time8</th>\n",
       "      <th>webpage9</th>\n",
       "      <th>time9</th>\n",
       "      <th>webpage10</th>\n",
       "      <th>time10</th>\n",
       "      <th>target</th>\n",
       "    </tr>\n",
       "    <tr>\n",
       "      <th>session_id</th>\n",
       "      <th></th>\n",
       "      <th></th>\n",
       "      <th></th>\n",
       "      <th></th>\n",
       "      <th></th>\n",
       "      <th></th>\n",
       "      <th></th>\n",
       "      <th></th>\n",
       "      <th></th>\n",
       "      <th></th>\n",
       "      <th></th>\n",
       "      <th></th>\n",
       "      <th></th>\n",
       "      <th></th>\n",
       "      <th></th>\n",
       "      <th></th>\n",
       "      <th></th>\n",
       "      <th></th>\n",
       "      <th></th>\n",
       "      <th></th>\n",
       "      <th></th>\n",
       "    </tr>\n",
       "  </thead>\n",
       "  <tbody>\n",
       "    <tr>\n",
       "      <th>0</th>\n",
       "      <td>9486</td>\n",
       "      <td>2019-02-20 05:57:45</td>\n",
       "      <td>NaN</td>\n",
       "      <td>NaT</td>\n",
       "      <td>NaN</td>\n",
       "      <td>NaT</td>\n",
       "      <td>NaN</td>\n",
       "      <td>NaT</td>\n",
       "      <td>NaN</td>\n",
       "      <td>NaT</td>\n",
       "      <td>...</td>\n",
       "      <td>NaT</td>\n",
       "      <td>NaN</td>\n",
       "      <td>NaT</td>\n",
       "      <td>NaN</td>\n",
       "      <td>NaT</td>\n",
       "      <td>NaN</td>\n",
       "      <td>NaT</td>\n",
       "      <td>NaN</td>\n",
       "      <td>NaT</td>\n",
       "      <td>0</td>\n",
       "    </tr>\n",
       "    <tr>\n",
       "      <th>1</th>\n",
       "      <td>11722</td>\n",
       "      <td>2019-02-22 07:14:50</td>\n",
       "      <td>12385.0</td>\n",
       "      <td>2019-02-22 07:14:50</td>\n",
       "      <td>50163.0</td>\n",
       "      <td>2019-02-22 07:14:51</td>\n",
       "      <td>12385.0</td>\n",
       "      <td>2019-02-22 07:14:51</td>\n",
       "      <td>12398.0</td>\n",
       "      <td>2019-02-22 07:14:51</td>\n",
       "      <td>...</td>\n",
       "      <td>2019-02-22 07:14:51</td>\n",
       "      <td>50163.0</td>\n",
       "      <td>2019-02-22 07:14:52</td>\n",
       "      <td>50150.0</td>\n",
       "      <td>2019-02-22 07:14:52</td>\n",
       "      <td>19860.0</td>\n",
       "      <td>2019-02-22 07:15:15</td>\n",
       "      <td>19886.0</td>\n",
       "      <td>2019-02-22 07:15:16</td>\n",
       "      <td>0</td>\n",
       "    </tr>\n",
       "    <tr>\n",
       "      <th>2</th>\n",
       "      <td>192149</td>\n",
       "      <td>2018-12-16 12:35:17</td>\n",
       "      <td>659.0</td>\n",
       "      <td>2018-12-16 12:35:18</td>\n",
       "      <td>192136.0</td>\n",
       "      <td>2018-12-16 12:35:19</td>\n",
       "      <td>192149.0</td>\n",
       "      <td>2018-12-16 12:35:19</td>\n",
       "      <td>633.0</td>\n",
       "      <td>2018-12-16 12:35:19</td>\n",
       "      <td>...</td>\n",
       "      <td>2018-12-16 12:35:19</td>\n",
       "      <td>192136.0</td>\n",
       "      <td>2018-12-16 12:35:20</td>\n",
       "      <td>192136.0</td>\n",
       "      <td>2018-12-16 12:35:21</td>\n",
       "      <td>192136.0</td>\n",
       "      <td>2018-12-16 12:35:22</td>\n",
       "      <td>192136.0</td>\n",
       "      <td>2018-12-16 12:35:24</td>\n",
       "      <td>0</td>\n",
       "    </tr>\n",
       "    <tr>\n",
       "      <th>3</th>\n",
       "      <td>10591</td>\n",
       "      <td>2019-02-13 12:40:35</td>\n",
       "      <td>451.0</td>\n",
       "      <td>2019-02-13 12:40:35</td>\n",
       "      <td>77580.0</td>\n",
       "      <td>2019-02-13 12:40:35</td>\n",
       "      <td>227821.0</td>\n",
       "      <td>2019-02-13 12:40:35</td>\n",
       "      <td>633.0</td>\n",
       "      <td>2019-02-13 12:41:05</td>\n",
       "      <td>...</td>\n",
       "      <td>2019-02-13 12:42:14</td>\n",
       "      <td>10591.0</td>\n",
       "      <td>2019-02-13 12:42:14</td>\n",
       "      <td>227834.0</td>\n",
       "      <td>2019-02-13 12:42:15</td>\n",
       "      <td>227834.0</td>\n",
       "      <td>2019-02-13 12:42:16</td>\n",
       "      <td>227834.0</td>\n",
       "      <td>2019-02-13 12:42:17</td>\n",
       "      <td>0</td>\n",
       "    </tr>\n",
       "    <tr>\n",
       "      <th>4</th>\n",
       "      <td>438</td>\n",
       "      <td>2018-04-12 06:22:26</td>\n",
       "      <td>425.0</td>\n",
       "      <td>2018-04-12 06:22:26</td>\n",
       "      <td>529.0</td>\n",
       "      <td>2018-04-12 06:22:28</td>\n",
       "      <td>65685.0</td>\n",
       "      <td>2018-04-12 06:22:29</td>\n",
       "      <td>187638.0</td>\n",
       "      <td>2018-04-12 06:22:29</td>\n",
       "      <td>...</td>\n",
       "      <td>2018-04-12 06:22:29</td>\n",
       "      <td>425.0</td>\n",
       "      <td>2018-04-12 06:22:29</td>\n",
       "      <td>65685.0</td>\n",
       "      <td>2018-04-12 06:22:31</td>\n",
       "      <td>187625.0</td>\n",
       "      <td>2018-04-12 06:22:31</td>\n",
       "      <td>187625.0</td>\n",
       "      <td>2018-04-12 06:22:32</td>\n",
       "      <td>0</td>\n",
       "    </tr>\n",
       "  </tbody>\n",
       "</table>\n",
       "<p>5 rows × 21 columns</p>\n",
       "</div>"
      ],
      "text/plain": [
       "            webpage1               time1  webpage2               time2  \\\n",
       "session_id                                                               \n",
       "0               9486 2019-02-20 05:57:45       NaN                 NaT   \n",
       "1              11722 2019-02-22 07:14:50   12385.0 2019-02-22 07:14:50   \n",
       "2             192149 2018-12-16 12:35:17     659.0 2018-12-16 12:35:18   \n",
       "3              10591 2019-02-13 12:40:35     451.0 2019-02-13 12:40:35   \n",
       "4                438 2018-04-12 06:22:26     425.0 2018-04-12 06:22:26   \n",
       "\n",
       "            webpage3               time3  webpage4               time4  \\\n",
       "session_id                                                               \n",
       "0                NaN                 NaT       NaN                 NaT   \n",
       "1            50163.0 2019-02-22 07:14:51   12385.0 2019-02-22 07:14:51   \n",
       "2           192136.0 2018-12-16 12:35:19  192149.0 2018-12-16 12:35:19   \n",
       "3            77580.0 2019-02-13 12:40:35  227821.0 2019-02-13 12:40:35   \n",
       "4              529.0 2018-04-12 06:22:28   65685.0 2018-04-12 06:22:29   \n",
       "\n",
       "            webpage5               time5  ...               time6  webpage7  \\\n",
       "session_id                                ...                                 \n",
       "0                NaN                 NaT  ...                 NaT       NaN   \n",
       "1            12398.0 2019-02-22 07:14:51  ... 2019-02-22 07:14:51   50163.0   \n",
       "2              633.0 2018-12-16 12:35:19  ... 2018-12-16 12:35:19  192136.0   \n",
       "3              633.0 2019-02-13 12:41:05  ... 2019-02-13 12:42:14   10591.0   \n",
       "4           187638.0 2018-04-12 06:22:29  ... 2018-04-12 06:22:29     425.0   \n",
       "\n",
       "                         time7  webpage8               time8  webpage9  \\\n",
       "session_id                                                               \n",
       "0                          NaT       NaN                 NaT       NaN   \n",
       "1          2019-02-22 07:14:52   50150.0 2019-02-22 07:14:52   19860.0   \n",
       "2          2018-12-16 12:35:20  192136.0 2018-12-16 12:35:21  192136.0   \n",
       "3          2019-02-13 12:42:14  227834.0 2019-02-13 12:42:15  227834.0   \n",
       "4          2018-04-12 06:22:29   65685.0 2018-04-12 06:22:31  187625.0   \n",
       "\n",
       "                         time9 webpage10              time10 target  \n",
       "session_id                                                           \n",
       "0                          NaT       NaN                 NaT      0  \n",
       "1          2019-02-22 07:15:15   19886.0 2019-02-22 07:15:16      0  \n",
       "2          2018-12-16 12:35:22  192136.0 2018-12-16 12:35:24      0  \n",
       "3          2019-02-13 12:42:16  227834.0 2019-02-13 12:42:17      0  \n",
       "4          2018-04-12 06:22:31  187625.0 2018-04-12 06:22:32      0  \n",
       "\n",
       "[5 rows x 21 columns]"
      ]
     },
     "execution_count": 102,
     "metadata": {},
     "output_type": "execute_result"
    }
   ],
   "source": [
    "train.head()"
   ]
  },
  {
   "cell_type": "code",
   "execution_count": 103,
   "id": "f77a9b6c",
   "metadata": {
    "ExecuteTime": {
     "end_time": "2021-09-03T18:34:24.484410Z",
     "start_time": "2021-09-03T18:34:24.469276Z"
    }
   },
   "outputs": [],
   "source": [
    "target = train.target\n",
    "train = train.drop(columns=\"target\")"
   ]
  },
  {
   "cell_type": "code",
   "execution_count": 135,
   "id": "48cdf232",
   "metadata": {
    "ExecuteTime": {
     "end_time": "2021-09-03T18:43:15.091544Z",
     "start_time": "2021-09-03T18:43:06.101623Z"
    }
   },
   "outputs": [
    {
     "data": {
      "text/plain": [
       "session_id\n",
       "0         1\n",
       "1         7\n",
       "2         4\n",
       "3         7\n",
       "4         7\n",
       "         ..\n",
       "159964    5\n",
       "159965    5\n",
       "159966    6\n",
       "159967    3\n",
       "159968    6\n",
       "Length: 159969, dtype: int64"
      ]
     },
     "execution_count": 135,
     "metadata": {},
     "output_type": "execute_result"
    }
   ],
   "source": [
    "train.filter(like=\"webpage\").apply(lambda x: x.nunique(), axis=1)"
   ]
  },
  {
   "cell_type": "code",
   "execution_count": 402,
   "id": "9dfc21e7",
   "metadata": {
    "ExecuteTime": {
     "end_time": "2021-09-06T12:59:05.398830Z",
     "start_time": "2021-09-06T12:59:05.386863Z"
    }
   },
   "outputs": [],
   "source": [
    "def preproc(df):\n",
    "    df =  (\n",
    "        df.assign(\n",
    "            first_last_diff=lambda x: (x.time10 - x.time1).dt.seconds.fillna(0),\n",
    "            nans_count=lambda x: x.isna().sum(axis=1).div(2), # time & webpage => div(2)\n",
    "            n_unique_pages=lambda x: x.filter(like='webpage').apply(lambda row: row.nunique(), axis=1),\n",
    "            \n",
    "            avg_hour=lambda x: x.filter(like='time').apply(lambda x: x.dt.hour).mean(axis=1).map(to_hour_gaps),\n",
    "            avg_day=lambda x: x.filter(like='time').apply(lambda x: x.dt.dayofweek).mean(axis=1).map(to_day_gaps),\n",
    "        ).drop(columns=[f'time{i+1}' for i in range(10)]).fillna(0.)\n",
    "    )\n",
    "    return df\n",
    "    "
   ]
  },
  {
   "cell_type": "code",
   "execution_count": 404,
   "id": "5bd0070e",
   "metadata": {
    "ExecuteTime": {
     "end_time": "2021-09-06T12:59:08.916275Z",
     "start_time": "2021-09-06T12:59:08.878328Z"
    }
   },
   "outputs": [],
   "source": [
    "temp = preproc(temp)"
   ]
  },
  {
   "cell_type": "code",
   "execution_count": 405,
   "id": "09c03f9e",
   "metadata": {
    "ExecuteTime": {
     "end_time": "2021-09-06T12:59:09.011369Z",
     "start_time": "2021-09-06T12:59:08.992431Z"
    }
   },
   "outputs": [
    {
     "data": {
      "text/html": [
       "<div>\n",
       "<style scoped>\n",
       "    .dataframe tbody tr th:only-of-type {\n",
       "        vertical-align: middle;\n",
       "    }\n",
       "\n",
       "    .dataframe tbody tr th {\n",
       "        vertical-align: top;\n",
       "    }\n",
       "\n",
       "    .dataframe thead th {\n",
       "        text-align: right;\n",
       "    }\n",
       "</style>\n",
       "<table border=\"1\" class=\"dataframe\">\n",
       "  <thead>\n",
       "    <tr style=\"text-align: right;\">\n",
       "      <th></th>\n",
       "      <th>webpage1</th>\n",
       "      <th>webpage2</th>\n",
       "      <th>webpage3</th>\n",
       "      <th>webpage4</th>\n",
       "      <th>webpage5</th>\n",
       "      <th>webpage6</th>\n",
       "      <th>webpage7</th>\n",
       "      <th>webpage8</th>\n",
       "      <th>webpage9</th>\n",
       "      <th>webpage10</th>\n",
       "      <th>target</th>\n",
       "      <th>first_last_diff</th>\n",
       "      <th>nans_count</th>\n",
       "      <th>n_unique_pages</th>\n",
       "      <th>avg_hour</th>\n",
       "      <th>avg_day</th>\n",
       "    </tr>\n",
       "    <tr>\n",
       "      <th>session_id</th>\n",
       "      <th></th>\n",
       "      <th></th>\n",
       "      <th></th>\n",
       "      <th></th>\n",
       "      <th></th>\n",
       "      <th></th>\n",
       "      <th></th>\n",
       "      <th></th>\n",
       "      <th></th>\n",
       "      <th></th>\n",
       "      <th></th>\n",
       "      <th></th>\n",
       "      <th></th>\n",
       "      <th></th>\n",
       "      <th></th>\n",
       "      <th></th>\n",
       "    </tr>\n",
       "  </thead>\n",
       "  <tbody>\n",
       "    <tr>\n",
       "      <th>0</th>\n",
       "      <td>9486</td>\n",
       "      <td>0.0</td>\n",
       "      <td>0.0</td>\n",
       "      <td>0.0</td>\n",
       "      <td>0.0</td>\n",
       "      <td>0.0</td>\n",
       "      <td>0.0</td>\n",
       "      <td>0.0</td>\n",
       "      <td>0.0</td>\n",
       "      <td>0.0</td>\n",
       "      <td>0</td>\n",
       "      <td>0.0</td>\n",
       "      <td>9.0</td>\n",
       "      <td>1</td>\n",
       "      <td>night</td>\n",
       "      <td>wednesday</td>\n",
       "    </tr>\n",
       "    <tr>\n",
       "      <th>1</th>\n",
       "      <td>11722</td>\n",
       "      <td>12385.0</td>\n",
       "      <td>50163.0</td>\n",
       "      <td>12385.0</td>\n",
       "      <td>12398.0</td>\n",
       "      <td>50150.0</td>\n",
       "      <td>50163.0</td>\n",
       "      <td>50150.0</td>\n",
       "      <td>19860.0</td>\n",
       "      <td>19886.0</td>\n",
       "      <td>0</td>\n",
       "      <td>26.0</td>\n",
       "      <td>0.0</td>\n",
       "      <td>7</td>\n",
       "      <td>morning</td>\n",
       "      <td>friday</td>\n",
       "    </tr>\n",
       "    <tr>\n",
       "      <th>2</th>\n",
       "      <td>192149</td>\n",
       "      <td>659.0</td>\n",
       "      <td>192136.0</td>\n",
       "      <td>192149.0</td>\n",
       "      <td>633.0</td>\n",
       "      <td>659.0</td>\n",
       "      <td>192136.0</td>\n",
       "      <td>192136.0</td>\n",
       "      <td>192136.0</td>\n",
       "      <td>192136.0</td>\n",
       "      <td>0</td>\n",
       "      <td>7.0</td>\n",
       "      <td>0.0</td>\n",
       "      <td>4</td>\n",
       "      <td>afternoon</td>\n",
       "      <td>sunday</td>\n",
       "    </tr>\n",
       "    <tr>\n",
       "      <th>3</th>\n",
       "      <td>10591</td>\n",
       "      <td>451.0</td>\n",
       "      <td>77580.0</td>\n",
       "      <td>227821.0</td>\n",
       "      <td>633.0</td>\n",
       "      <td>425.0</td>\n",
       "      <td>10591.0</td>\n",
       "      <td>227834.0</td>\n",
       "      <td>227834.0</td>\n",
       "      <td>227834.0</td>\n",
       "      <td>0</td>\n",
       "      <td>102.0</td>\n",
       "      <td>0.0</td>\n",
       "      <td>7</td>\n",
       "      <td>afternoon</td>\n",
       "      <td>wednesday</td>\n",
       "    </tr>\n",
       "    <tr>\n",
       "      <th>4</th>\n",
       "      <td>438</td>\n",
       "      <td>425.0</td>\n",
       "      <td>529.0</td>\n",
       "      <td>65685.0</td>\n",
       "      <td>187638.0</td>\n",
       "      <td>451.0</td>\n",
       "      <td>425.0</td>\n",
       "      <td>65685.0</td>\n",
       "      <td>187625.0</td>\n",
       "      <td>187625.0</td>\n",
       "      <td>0</td>\n",
       "      <td>6.0</td>\n",
       "      <td>0.0</td>\n",
       "      <td>7</td>\n",
       "      <td>morning</td>\n",
       "      <td>thursday</td>\n",
       "    </tr>\n",
       "  </tbody>\n",
       "</table>\n",
       "</div>"
      ],
      "text/plain": [
       "            webpage1  webpage2  webpage3  webpage4  webpage5  webpage6  \\\n",
       "session_id                                                               \n",
       "0               9486       0.0       0.0       0.0       0.0       0.0   \n",
       "1              11722   12385.0   50163.0   12385.0   12398.0   50150.0   \n",
       "2             192149     659.0  192136.0  192149.0     633.0     659.0   \n",
       "3              10591     451.0   77580.0  227821.0     633.0     425.0   \n",
       "4                438     425.0     529.0   65685.0  187638.0     451.0   \n",
       "\n",
       "            webpage7  webpage8  webpage9  webpage10  target  first_last_diff  \\\n",
       "session_id                                                                     \n",
       "0                0.0       0.0       0.0        0.0       0              0.0   \n",
       "1            50163.0   50150.0   19860.0    19886.0       0             26.0   \n",
       "2           192136.0  192136.0  192136.0   192136.0       0              7.0   \n",
       "3            10591.0  227834.0  227834.0   227834.0       0            102.0   \n",
       "4              425.0   65685.0  187625.0   187625.0       0              6.0   \n",
       "\n",
       "            nans_count  n_unique_pages   avg_hour    avg_day  \n",
       "session_id                                                    \n",
       "0                  9.0               1      night  wednesday  \n",
       "1                  0.0               7    morning     friday  \n",
       "2                  0.0               4  afternoon     sunday  \n",
       "3                  0.0               7  afternoon  wednesday  \n",
       "4                  0.0               7    morning   thursday  "
      ]
     },
     "execution_count": 405,
     "metadata": {},
     "output_type": "execute_result"
    }
   ],
   "source": [
    "temp"
   ]
  },
  {
   "cell_type": "code",
   "execution_count": 71,
   "id": "7d742c16",
   "metadata": {
    "ExecuteTime": {
     "end_time": "2021-09-02T20:52:42.629534Z",
     "start_time": "2021-09-02T20:52:42.621504Z"
    }
   },
   "outputs": [],
   "source": [
    "from sklearn.ensemble import RandomForestClassifier\n",
    "from sklearn.model_selection import GridSearchCV\n",
    "\n",
    "\n",
    "clf = RandomForestClassifier()\n",
    "\n",
    "parameters_RFC = {'n_estimators': [100, 200, 50, 500, 130],\n",
    "               'max_features': ['auto', 'sqrt'],\n",
    "               'max_depth': [3,5,7,10],\n",
    "                 }\n"
   ]
  },
  {
   "cell_type": "code",
   "execution_count": 72,
   "id": "0a337aa9",
   "metadata": {
    "ExecuteTime": {
     "end_time": "2021-09-02T20:52:42.830392Z",
     "start_time": "2021-09-02T20:52:42.814406Z"
    }
   },
   "outputs": [],
   "source": [
    "grod = GridSearchCV(clf, param_grid=parameters_RFC, n_jobs=-1, cv=KFold(n_splits=5),)"
   ]
  },
  {
   "cell_type": "code",
   "execution_count": 73,
   "id": "a437c456",
   "metadata": {
    "ExecuteTime": {
     "end_time": "2021-09-02T21:24:40.101393Z",
     "start_time": "2021-09-02T20:52:43.004355Z"
    }
   },
   "outputs": [
    {
     "data": {
      "text/plain": [
       "GridSearchCV(cv=KFold(n_splits=5, random_state=None, shuffle=False),\n",
       "             estimator=RandomForestClassifier(), n_jobs=-1,\n",
       "             param_grid={'max_depth': [3, 5, 7, 10],\n",
       "                         'max_features': ['auto', 'sqrt'],\n",
       "                         'n_estimators': [100, 200, 50, 500, 130]})"
      ]
     },
     "execution_count": 73,
     "metadata": {},
     "output_type": "execute_result"
    }
   ],
   "source": [
    "grod.fit(train, target)"
   ]
  },
  {
   "cell_type": "code",
   "execution_count": 98,
   "id": "6244c08e",
   "metadata": {
    "ExecuteTime": {
     "end_time": "2021-09-03T06:32:46.721447Z",
     "start_time": "2021-09-03T06:32:46.713470Z"
    }
   },
   "outputs": [],
   "source": [
    "clf = RandomForestClassifier(n_estimators=200, max_depth=10, max_features=\"sqrt\", n_jobs=-1)"
   ]
  },
  {
   "cell_type": "code",
   "execution_count": 99,
   "id": "0c0c8745",
   "metadata": {
    "ExecuteTime": {
     "end_time": "2021-09-03T06:33:21.082936Z",
     "start_time": "2021-09-03T06:32:59.657779Z"
    }
   },
   "outputs": [
    {
     "data": {
      "text/plain": [
       "RandomForestClassifier(max_depth=10, max_features='sqrt', n_estimators=200,\n",
       "                       n_jobs=-1)"
      ]
     },
     "execution_count": 99,
     "metadata": {},
     "output_type": "execute_result"
    }
   ],
   "source": [
    "clf.fit(train, target)"
   ]
  },
  {
   "cell_type": "code",
   "execution_count": 81,
   "id": "c66ff7b8",
   "metadata": {
    "ExecuteTime": {
     "end_time": "2021-09-03T06:27:54.369475Z",
     "start_time": "2021-09-03T06:27:54.353473Z"
    }
   },
   "outputs": [],
   "source": [
    "clf = grod.best_estimator_"
   ]
  },
  {
   "cell_type": "code",
   "execution_count": 83,
   "id": "4d98e9a2",
   "metadata": {
    "ExecuteTime": {
     "end_time": "2021-09-03T06:28:16.289329Z",
     "start_time": "2021-09-03T06:28:16.273373Z"
    }
   },
   "outputs": [
    {
     "data": {
      "text/plain": [
       "RandomForestClassifier(max_depth=10, max_features='sqrt', n_estimators=200)"
      ]
     },
     "execution_count": 83,
     "metadata": {},
     "output_type": "execute_result"
    }
   ],
   "source": [
    "grod.best_estimator_"
   ]
  },
  {
   "cell_type": "code",
   "execution_count": 97,
   "id": "e332c305",
   "metadata": {
    "ExecuteTime": {
     "end_time": "2021-09-03T06:31:38.266578Z",
     "start_time": "2021-09-03T06:31:38.242598Z"
    }
   },
   "outputs": [
    {
     "ename": "IndexError",
     "evalue": "list index out of range",
     "output_type": "error",
     "traceback": [
      "\u001b[1;31m---------------------------------------------------------------------------\u001b[0m",
      "\u001b[1;31mIndexError\u001b[0m                                Traceback (most recent call last)",
      "\u001b[1;32m<ipython-input-97-e19ba6b77c0f>\u001b[0m in \u001b[0;36m<module>\u001b[1;34m\u001b[0m\n\u001b[1;32m----> 1\u001b[1;33m \u001b[0mgrod\u001b[0m\u001b[1;33m.\u001b[0m\u001b[0mbest_estimator_\u001b[0m\u001b[1;33m.\u001b[0m\u001b[0mpredict\u001b[0m\u001b[1;33m(\u001b[0m\u001b[0mtest\u001b[0m\u001b[1;33m)\u001b[0m\u001b[1;33m\u001b[0m\u001b[1;33m\u001b[0m\u001b[0m\n\u001b[0m",
      "\u001b[1;32m~\\anaconda3\\envs\\course\\lib\\site-packages\\sklearn\\ensemble\\_forest.py\u001b[0m in \u001b[0;36mpredict\u001b[1;34m(self, X)\u001b[0m\n\u001b[0;32m    628\u001b[0m             \u001b[0mThe\u001b[0m \u001b[0mpredicted\u001b[0m \u001b[0mclasses\u001b[0m\u001b[1;33m.\u001b[0m\u001b[1;33m\u001b[0m\u001b[1;33m\u001b[0m\u001b[0m\n\u001b[0;32m    629\u001b[0m         \"\"\"\n\u001b[1;32m--> 630\u001b[1;33m         \u001b[0mproba\u001b[0m \u001b[1;33m=\u001b[0m \u001b[0mself\u001b[0m\u001b[1;33m.\u001b[0m\u001b[0mpredict_proba\u001b[0m\u001b[1;33m(\u001b[0m\u001b[0mX\u001b[0m\u001b[1;33m)\u001b[0m\u001b[1;33m\u001b[0m\u001b[1;33m\u001b[0m\u001b[0m\n\u001b[0m\u001b[0;32m    631\u001b[0m \u001b[1;33m\u001b[0m\u001b[0m\n\u001b[0;32m    632\u001b[0m         \u001b[1;32mif\u001b[0m \u001b[0mself\u001b[0m\u001b[1;33m.\u001b[0m\u001b[0mn_outputs_\u001b[0m \u001b[1;33m==\u001b[0m \u001b[1;36m1\u001b[0m\u001b[1;33m:\u001b[0m\u001b[1;33m\u001b[0m\u001b[1;33m\u001b[0m\u001b[0m\n",
      "\u001b[1;32m~\\anaconda3\\envs\\course\\lib\\site-packages\\sklearn\\ensemble\\_forest.py\u001b[0m in \u001b[0;36mpredict_proba\u001b[1;34m(self, X)\u001b[0m\n\u001b[0;32m    672\u001b[0m         \u001b[0mcheck_is_fitted\u001b[0m\u001b[1;33m(\u001b[0m\u001b[0mself\u001b[0m\u001b[1;33m)\u001b[0m\u001b[1;33m\u001b[0m\u001b[1;33m\u001b[0m\u001b[0m\n\u001b[0;32m    673\u001b[0m         \u001b[1;31m# Check data\u001b[0m\u001b[1;33m\u001b[0m\u001b[1;33m\u001b[0m\u001b[1;33m\u001b[0m\u001b[0m\n\u001b[1;32m--> 674\u001b[1;33m         \u001b[0mX\u001b[0m \u001b[1;33m=\u001b[0m \u001b[0mself\u001b[0m\u001b[1;33m.\u001b[0m\u001b[0m_validate_X_predict\u001b[0m\u001b[1;33m(\u001b[0m\u001b[0mX\u001b[0m\u001b[1;33m)\u001b[0m\u001b[1;33m\u001b[0m\u001b[1;33m\u001b[0m\u001b[0m\n\u001b[0m\u001b[0;32m    675\u001b[0m \u001b[1;33m\u001b[0m\u001b[0m\n\u001b[0;32m    676\u001b[0m         \u001b[1;31m# Assign chunk of trees to jobs\u001b[0m\u001b[1;33m\u001b[0m\u001b[1;33m\u001b[0m\u001b[1;33m\u001b[0m\u001b[0m\n",
      "\u001b[1;32m~\\anaconda3\\envs\\course\\lib\\site-packages\\sklearn\\ensemble\\_forest.py\u001b[0m in \u001b[0;36m_validate_X_predict\u001b[1;34m(self, X)\u001b[0m\n\u001b[0;32m    420\u001b[0m         \u001b[0mcheck_is_fitted\u001b[0m\u001b[1;33m(\u001b[0m\u001b[0mself\u001b[0m\u001b[1;33m)\u001b[0m\u001b[1;33m\u001b[0m\u001b[1;33m\u001b[0m\u001b[0m\n\u001b[0;32m    421\u001b[0m \u001b[1;33m\u001b[0m\u001b[0m\n\u001b[1;32m--> 422\u001b[1;33m         \u001b[1;32mreturn\u001b[0m \u001b[0mself\u001b[0m\u001b[1;33m.\u001b[0m\u001b[0mestimators_\u001b[0m\u001b[1;33m[\u001b[0m\u001b[1;36m0\u001b[0m\u001b[1;33m]\u001b[0m\u001b[1;33m.\u001b[0m\u001b[0m_validate_X_predict\u001b[0m\u001b[1;33m(\u001b[0m\u001b[0mX\u001b[0m\u001b[1;33m,\u001b[0m \u001b[0mcheck_input\u001b[0m\u001b[1;33m=\u001b[0m\u001b[1;32mTrue\u001b[0m\u001b[1;33m)\u001b[0m\u001b[1;33m\u001b[0m\u001b[1;33m\u001b[0m\u001b[0m\n\u001b[0m\u001b[0;32m    423\u001b[0m \u001b[1;33m\u001b[0m\u001b[0m\n\u001b[0;32m    424\u001b[0m     \u001b[1;33m@\u001b[0m\u001b[0mproperty\u001b[0m\u001b[1;33m\u001b[0m\u001b[1;33m\u001b[0m\u001b[0m\n",
      "\u001b[1;31mIndexError\u001b[0m: list index out of range"
     ]
    }
   ],
   "source": [
    "grod.best_estimator_.predict(test)"
   ]
  },
  {
   "cell_type": "code",
   "execution_count": 100,
   "id": "7817320f",
   "metadata": {
    "ExecuteTime": {
     "end_time": "2021-09-03T06:33:26.359506Z",
     "start_time": "2021-09-03T06:33:22.213728Z"
    }
   },
   "outputs": [
    {
     "name": "stdout",
     "output_type": "stream",
     "text": [
      "0.9965678514101227\n"
     ]
    }
   ],
   "source": [
    "from sklearn.metrics import roc_auc_score\n",
    "\n",
    "print(roc_auc_score(target, clf.predict_proba(train)[:, 1]))"
   ]
  },
  {
   "cell_type": "code",
   "execution_count": 102,
   "id": "c14201b9",
   "metadata": {
    "ExecuteTime": {
     "end_time": "2021-09-03T06:33:30.282933Z",
     "start_time": "2021-09-03T06:33:29.628940Z"
    }
   },
   "outputs": [],
   "source": [
    "pred = clf.predict_proba(test)[:, 1]\n",
    "save_submission(pred)"
   ]
  },
  {
   "cell_type": "code",
   "execution_count": null,
   "id": "23651eaf",
   "metadata": {},
   "outputs": [],
   "source": []
  },
  {
   "cell_type": "code",
   "execution_count": 929,
   "id": "26b849fd",
   "metadata": {
    "ExecuteTime": {
     "end_time": "2021-09-08T10:38:51.339723Z",
     "start_time": "2021-09-08T10:38:51.324764Z"
    }
   },
   "outputs": [],
   "source": [
    "a = [12,312,3]\n",
    "b = [324,234,23]"
   ]
  },
  {
   "cell_type": "code",
   "execution_count": 932,
   "id": "1cb779ba",
   "metadata": {
    "ExecuteTime": {
     "end_time": "2021-09-08T10:39:25.717577Z",
     "start_time": "2021-09-08T10:39:25.699624Z"
    }
   },
   "outputs": [],
   "source": [
    "t = a + b"
   ]
  },
  {
   "cell_type": "code",
   "execution_count": 933,
   "id": "e286dd5d",
   "metadata": {
    "ExecuteTime": {
     "end_time": "2021-09-08T10:39:27.773979Z",
     "start_time": "2021-09-08T10:39:27.755993Z"
    }
   },
   "outputs": [],
   "source": [
    "t.sort()"
   ]
  },
  {
   "cell_type": "code",
   "execution_count": 934,
   "id": "ba453f00",
   "metadata": {
    "ExecuteTime": {
     "end_time": "2021-09-08T10:39:30.256005Z",
     "start_time": "2021-09-08T10:39:30.232032Z"
    }
   },
   "outputs": [
    {
     "data": {
      "text/plain": [
       "array([151.5, 362.5, 452.5])"
      ]
     },
     "execution_count": 934,
     "metadata": {},
     "output_type": "execute_result"
    }
   ],
   "source": [
    "t"
   ]
  },
  {
   "cell_type": "code",
   "execution_count": 923,
   "id": "cbcc0e54",
   "metadata": {
    "ExecuteTime": {
     "end_time": "2021-09-08T10:38:30.516335Z",
     "start_time": "2021-09-08T10:38:30.498362Z"
    }
   },
   "outputs": [
    {
     "data": {
      "text/plain": [
       "array([  6. , 156. ,   1.5, 162. , 117. ,  11.5,   2. ])"
      ]
     },
     "execution_count": 923,
     "metadata": {},
     "output_type": "execute_result"
    }
   ],
   "source": [
    "np.median([nums1, nums2])"
   ]
  },
  {
   "cell_type": "code",
   "execution_count": null,
   "id": "dca061ad",
   "metadata": {},
   "outputs": [],
   "source": []
  }
 ],
 "metadata": {
  "kernelspec": {
   "display_name": "Python 3",
   "language": "python",
   "name": "python3"
  },
  "language_info": {
   "codemirror_mode": {
    "name": "ipython",
    "version": 3
   },
   "file_extension": ".py",
   "mimetype": "text/x-python",
   "name": "python",
   "nbconvert_exporter": "python",
   "pygments_lexer": "ipython3",
   "version": "3.8.5"
  },
  "toc": {
   "base_numbering": 1,
   "nav_menu": {},
   "number_sections": false,
   "sideBar": true,
   "skip_h1_title": false,
   "title_cell": "Table of Contents",
   "title_sidebar": "Contents",
   "toc_cell": false,
   "toc_position": {
    "height": "calc(100% - 180px)",
    "left": "10px",
    "top": "150px",
    "width": "294.306px"
   },
   "toc_section_display": true,
   "toc_window_display": true
  }
 },
 "nbformat": 4,
 "nbformat_minor": 5
}
