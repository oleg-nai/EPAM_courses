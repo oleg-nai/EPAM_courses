{
 "cells": [
  {
   "cell_type": "markdown",
   "metadata": {
    "id": "--bWX4Cs2Ep-"
   },
   "source": [
    "# ML Engineering Basics\n",
    "\n",
    "## Introduction\n",
    "\n",
    "In this notebook you will go through the process of environment setup and try packages mentioned in the theory part of the module.\n",
    "\n",
    "> We assume that you created fresh environment and installed notebook package on top of it or use Google Colab."
   ]
  },
  {
   "cell_type": "markdown",
   "metadata": {
    "id": "TJ5UJSkj2EqA"
   },
   "source": [
    "## Conda environment\n",
    "\n",
    "At this point you already have a working environment since you've opened this notebook. The only packaged installed is **notebook** which is a part of jupyter ecosystem. Let's proceed with installation of other packages."
   ]
  },
  {
   "cell_type": "markdown",
   "metadata": {
    "id": "74gLG6tP2EqB"
   },
   "source": [
    "## Using shell commands from the notebook\n",
    "\n",
    "First let's install numpy via pip. We can do it as easy as:\n",
    "\n",
    "```bash\n",
    "pip install numpy\n",
    "```\n",
    "\n",
    "To run this and any other shell commands use ! symbol before the command itself."
   ]
  },
  {
   "cell_type": "code",
   "execution_count": 1,
   "metadata": {
    "ExecuteTime": {
     "end_time": "2021-07-01T04:00:42.249771Z",
     "start_time": "2021-07-01T04:00:40.306030Z"
    },
    "id": "bWRnRM7M2EqB",
    "tags": []
   },
   "outputs": [
    {
     "name": "stdout",
     "output_type": "stream",
     "text": [
      "Requirement already satisfied: numpy in c:\\users\\oleg-nai\\anaconda3\\envs\\course\\lib\\site-packages (1.21.0)\n"
     ]
    }
   ],
   "source": [
    "!pip install numpy"
   ]
  },
  {
   "cell_type": "markdown",
   "metadata": {
    "id": "3SssX5dW2EqC"
   },
   "source": [
    "To install pandas we are going to use conda instead. Look at command below:\n",
    "- You must use `-y` parameter when running `conda install` inside the notebook. Conda will prompt you to agree to installation. If you provide `-y` parameter, this will be omitted.\n",
    "- We also use `-c conda-forge` to install from specific conda channel. The channel is just a place where conda packages are stored. Many packages are not available in the official channels, however they are most likely available in the conda-forge. Note, that pandas is available in official channel, but we use conda-forge just to get in touch.\n",
    "- The numbers after the package name is the version of the package which is going to be installed. Here we have pandas version 1.0.5."
   ]
  },
  {
   "cell_type": "code",
   "execution_count": 2,
   "metadata": {
    "ExecuteTime": {
     "end_time": "2021-07-01T04:00:55.596061Z",
     "start_time": "2021-07-01T04:00:42.253803Z"
    },
    "id": "VP842W2I2EqC",
    "tags": []
   },
   "outputs": [
    {
     "name": "stdout",
     "output_type": "stream",
     "text": [
      "Collecting package metadata (current_repodata.json): ...working... done\n",
      "Solving environment: ...working... done\n",
      "\n",
      "# All requested packages already installed.\n",
      "\n"
     ]
    }
   ],
   "source": [
    "!conda install -y -c conda-forge pandas==1.0.5 "
   ]
  },
  {
   "cell_type": "markdown",
   "metadata": {
    "ExecuteTime": {
     "end_time": "2020-07-19T05:25:08.253624Z",
     "start_time": "2020-07-19T05:25:08.247626Z"
    },
    "id": "H3Rjkg3X2EqD"
   },
   "source": [
    "## Numpy, vectorization\n",
    "\n",
    "Numpy is a rich and powerful library. The ideas behind it are optimized operations with matrices (or tensors when there are more than 2 dimentions). It is written in C, thus providing much better peformance than pure Python. Same (or similar) interface is used in the most popular deep learning libraries like TensorFlow and PyTorch.\n",
    "\n",
    "The core principle of Numpy is vectorization. Instead of calculating matrix operations in for cycle one number by one, Numpy parallelize this operations obtaining much better performance.\n",
    "\n",
    "Let's see it for ourselves. First we create a 200x200 matrix with integers ranging from 0 to 100. Then measure the time of matrix multiplication in two cases:\n",
    "- Matrix as list of list in pure Python\n",
    "- Matrix as optimized numpy array."
   ]
  },
  {
   "cell_type": "code",
   "execution_count": 3,
   "metadata": {
    "ExecuteTime": {
     "end_time": "2021-07-01T04:00:56.358957Z",
     "start_time": "2021-07-01T04:00:55.599017Z"
    },
    "id": "YeOO8A8l2EqD"
   },
   "outputs": [],
   "source": [
    "import numpy as np\n",
    "\n",
    "mtx = np.random.randint(0, 100, size=(200, 200))"
   ]
  },
  {
   "cell_type": "code",
   "execution_count": 4,
   "metadata": {
    "ExecuteTime": {
     "end_time": "2021-07-01T04:00:56.373919Z",
     "start_time": "2021-07-01T04:00:56.360954Z"
    },
    "id": "JcyKeZrc2EqD"
   },
   "outputs": [
    {
     "name": "stdout",
     "output_type": "stream",
     "text": [
      "Shape: (200, 200)\n"
     ]
    },
    {
     "data": {
      "text/plain": [
       "array([[24, 70,  8, ..., 31, 10,  4],\n",
       "       [99, 99, 80, ..., 46, 12, 59],\n",
       "       [99, 37, 96, ..., 55, 67,  3],\n",
       "       ...,\n",
       "       [49, 14, 97, ...,  9, 18, 63],\n",
       "       [65, 22, 24, ...,  1, 79, 74],\n",
       "       [44, 50, 41, ...,  3, 18, 79]])"
      ]
     },
     "execution_count": 4,
     "metadata": {},
     "output_type": "execute_result"
    }
   ],
   "source": [
    "print(f'Shape: {mtx.shape}')\n",
    "mtx"
   ]
  },
  {
   "cell_type": "code",
   "execution_count": 5,
   "metadata": {
    "ExecuteTime": {
     "end_time": "2021-07-01T04:00:56.388879Z",
     "start_time": "2021-07-01T04:00:56.375914Z"
    },
    "id": "_mkaIeRA2EqD"
   },
   "outputs": [],
   "source": [
    "mtx_as_list = mtx.tolist()"
   ]
  },
  {
   "cell_type": "code",
   "execution_count": 6,
   "metadata": {
    "ExecuteTime": {
     "end_time": "2021-07-01T04:00:59.580077Z",
     "start_time": "2021-07-01T04:00:56.390874Z"
    },
    "id": "Zh9Cz3Cz2EqE"
   },
   "outputs": [
    {
     "name": "stdout",
     "output_type": "stream",
     "text": [
      "Wall time: 3.17 s\n"
     ]
    }
   ],
   "source": [
    "%%time\n",
    "result = np.zeros_like(mtx).tolist()\n",
    "for i in range(len(mtx_as_list)):\n",
    "    for j in range(len(mtx_as_list)):\n",
    "        for k in range(len(mtx_as_list)):\n",
    "             result[i][j] += mtx_as_list[i][k] * mtx_as_list[k][j]"
   ]
  },
  {
   "cell_type": "code",
   "execution_count": 7,
   "metadata": {
    "ExecuteTime": {
     "end_time": "2021-07-01T04:00:59.611971Z",
     "start_time": "2021-07-01T04:00:59.582023Z"
    },
    "id": "3d1c8rVU2EqE"
   },
   "outputs": [
    {
     "name": "stdout",
     "output_type": "stream",
     "text": [
      "Wall time: 13 ms\n"
     ]
    }
   ],
   "source": [
    "%%time\n",
    "# @ - matrix multiplication operation in Numpy\n",
    "numpy_result = mtx @ mtx"
   ]
  },
  {
   "cell_type": "markdown",
   "metadata": {
    "id": "d-Dgj7xUP1EA"
   },
   "source": [
    "`Broadcasting` describes how numpy treats arrays with different shapes during arithmetic operations. Subject to certain constraints, the smaller array is “broadcast” across the larger array so that they have compatible shapes.\n",
    "\n",
    "**Broadcasting rules**:\n",
    "When operating on two arrays, NumPy compares their shapes element-wise. \n",
    "It starts with the trailing (i.e. rightmost) dimensions and works its way left. \n",
    "\n",
    "Two dimensions are compatible when\n",
    "\n",
    "- they are equal, or\n",
    "- one of them is 1\n",
    "\n",
    "Example:\n",
    "\n",
    "A      (4d array):  8 x 1 x 6 x 1\n",
    "\n",
    "B      (3d array):      7 x 1 x 5\n",
    "\n",
    "Result (4d array):  8 x 7 x 6 x 5"
   ]
  },
  {
   "cell_type": "code",
   "execution_count": 41,
   "metadata": {
    "ExecuteTime": {
     "end_time": "2021-07-01T04:01:51.883063Z",
     "start_time": "2021-07-01T04:01:51.716911Z"
    },
    "id": "euHDbI1lP1ED"
   },
   "outputs": [
    {
     "ename": "TypeError",
     "evalue": "ones() missing 1 required positional argument: 'shape'",
     "output_type": "error",
     "traceback": [
      "\u001b[1;31m---------------------------------------------------------------------------\u001b[0m",
      "\u001b[1;31mTypeError\u001b[0m                                 Traceback (most recent call last)",
      "\u001b[1;32m<ipython-input-41-476ef3089761>\u001b[0m in \u001b[0;36m<module>\u001b[1;34m\u001b[0m\n\u001b[0;32m      3\u001b[0m \u001b[0mz\u001b[0m \u001b[1;33m=\u001b[0m \u001b[0mx\u001b[0m\u001b[1;33m.\u001b[0m\u001b[0mreshape\u001b[0m\u001b[1;33m(\u001b[0m\u001b[1;36m4\u001b[0m\u001b[1;33m,\u001b[0m\u001b[1;36m1\u001b[0m\u001b[1;33m)\u001b[0m\u001b[1;33m\u001b[0m\u001b[1;33m\u001b[0m\u001b[0m\n\u001b[0;32m      4\u001b[0m \u001b[0my\u001b[0m \u001b[1;33m=\u001b[0m \u001b[0mnp\u001b[0m\u001b[1;33m.\u001b[0m\u001b[0mones\u001b[0m\u001b[1;33m(\u001b[0m\u001b[1;36m5\u001b[0m\u001b[1;33m)\u001b[0m\u001b[1;33m\u001b[0m\u001b[1;33m\u001b[0m\u001b[0m\n\u001b[1;32m----> 5\u001b[1;33m \u001b[0my\u001b[0m \u001b[1;33m=\u001b[0m \u001b[0mnp\u001b[0m\u001b[1;33m.\u001b[0m\u001b[0mones\u001b[0m\u001b[1;33m(\u001b[0m\u001b[1;33m)\u001b[0m\u001b[1;33m\u001b[0m\u001b[1;33m\u001b[0m\u001b[0m\n\u001b[0m\u001b[0;32m      6\u001b[0m \u001b[1;33m\u001b[0m\u001b[0m\n\u001b[0;32m      7\u001b[0m \u001b[0mprint\u001b[0m\u001b[1;33m(\u001b[0m\u001b[1;34m'Shapes of x and y:'\u001b[0m\u001b[1;33m,\u001b[0m \u001b[0mx\u001b[0m\u001b[1;33m.\u001b[0m\u001b[0mshape\u001b[0m\u001b[1;33m,\u001b[0m\u001b[0my\u001b[0m\u001b[1;33m.\u001b[0m\u001b[0mshape\u001b[0m\u001b[1;33m)\u001b[0m\u001b[1;33m\u001b[0m\u001b[1;33m\u001b[0m\u001b[0m\n",
      "\u001b[1;31mTypeError\u001b[0m: ones() missing 1 required positional argument: 'shape'"
     ]
    }
   ],
   "source": [
    "# Mismatching dimensions\n",
    "x = np.arange(4)\n",
    "z = x.reshape(4,1)\n",
    "y = np.ones(5)\n",
    "\n",
    "print('Shapes of x and y:', x.shape,y.shape)\n",
    "x + y"
   ]
  },
  {
   "cell_type": "code",
   "execution_count": 9,
   "metadata": {
    "ExecuteTime": {
     "end_time": "2021-07-01T04:01:07.425288Z",
     "start_time": "2021-07-01T04:01:07.407337Z"
    },
    "id": "s5MGAelqP1EG"
   },
   "outputs": [
    {
     "name": "stdout",
     "output_type": "stream",
     "text": [
      "Shapes of z and y: (4, 1) (5,)\n",
      "Shapes of z + y: (4, 5)\n"
     ]
    },
    {
     "data": {
      "text/plain": [
       "array([[1., 1., 1., 1., 1.],\n",
       "       [2., 2., 2., 2., 2.],\n",
       "       [3., 3., 3., 3., 3.],\n",
       "       [4., 4., 4., 4., 4.]])"
      ]
     },
     "execution_count": 9,
     "metadata": {},
     "output_type": "execute_result"
    }
   ],
   "source": [
    "print('Shapes of z and y:', z.shape, y.shape)\n",
    "print('Shapes of z + y:', (z + y).shape)\n",
    "\n",
    "z+y"
   ]
  },
  {
   "cell_type": "code",
   "execution_count": 10,
   "metadata": {
    "ExecuteTime": {
     "end_time": "2021-07-01T04:01:07.441247Z",
     "start_time": "2021-07-01T04:01:07.427282Z"
    },
    "id": "K-8ZrXcxP1EI"
   },
   "outputs": [
    {
     "data": {
      "text/plain": [
       "(array([[0],\n",
       "        [1],\n",
       "        [2],\n",
       "        [3]]),\n",
       " array([1., 1., 1., 1., 1.]))"
      ]
     },
     "execution_count": 10,
     "metadata": {},
     "output_type": "execute_result"
    }
   ],
   "source": [
    "z, y"
   ]
  },
  {
   "cell_type": "markdown",
   "metadata": {
    "ExecuteTime": {
     "end_time": "2020-07-19T05:56:35.968454Z",
     "start_time": "2020-07-19T05:53:23.166Z"
    },
    "id": "2X6KTljz2EqE"
   },
   "source": [
    "As you can see matrix operation in Numpy are very optimized. Many other libraries, like Pandas, build their operations on top of Numpy."
   ]
  },
  {
   "cell_type": "markdown",
   "metadata": {
    "ExecuteTime": {
     "end_time": "2020-07-19T05:56:35.999456Z",
     "start_time": "2020-07-19T05:56:03.173Z"
    },
    "id": "TtBkl2J42EqE"
   },
   "source": [
    "## Pandas\n",
    "\n",
    "Now let's look at Pandas. It's like a swiss army knife for data wrangling and analysis. We'll go through indexing, column creation, data saving and loading, and custom functions. There is much more inside the library, but this you  should learn for yourself."
   ]
  },
  {
   "cell_type": "code",
   "execution_count": 11,
   "metadata": {
    "ExecuteTime": {
     "end_time": "2021-07-01T04:01:08.523999Z",
     "start_time": "2021-07-01T04:01:07.443239Z"
    },
    "id": "FMbhHHpK2EqF"
   },
   "outputs": [
    {
     "name": "stdout",
     "output_type": "stream",
     "text": [
      "Requirement already satisfied: bds_courseware in c:\\users\\oleg-nai\\anaconda3\\envs\\course\\lib\\site-packages (1.0.3)\n",
      "Requirement already satisfied: pandas>=1.0.5 in c:\\users\\oleg-nai\\anaconda3\\envs\\course\\lib\\site-packages (from bds_courseware) (1.2.5)\n",
      "Requirement already satisfied: gdown in c:\\users\\oleg-nai\\anaconda3\\envs\\course\\lib\\site-packages (from bds_courseware) (3.13.0)\n",
      "Requirement already satisfied: python-dateutil>=2.7.3 in c:\\users\\oleg-nai\\appdata\\roaming\\python\\python38\\site-packages (from pandas>=1.0.5->bds_courseware) (2.8.1)\n",
      "Requirement already satisfied: pytz>=2017.3 in c:\\users\\oleg-nai\\anaconda3\\envs\\course\\lib\\site-packages (from pandas>=1.0.5->bds_courseware) (2021.1)\n",
      "Requirement already satisfied: numpy>=1.16.5 in c:\\users\\oleg-nai\\anaconda3\\envs\\course\\lib\\site-packages (from pandas>=1.0.5->bds_courseware) (1.21.0)\n",
      "Requirement already satisfied: tqdm in c:\\users\\oleg-nai\\anaconda3\\envs\\course\\lib\\site-packages (from gdown->bds_courseware) (4.61.1)\n",
      "Requirement already satisfied: requests[socks]>=2.12.0 in c:\\users\\oleg-nai\\anaconda3\\envs\\course\\lib\\site-packages (from gdown->bds_courseware) (2.25.1)\n",
      "Requirement already satisfied: filelock in c:\\users\\oleg-nai\\anaconda3\\envs\\course\\lib\\site-packages (from gdown->bds_courseware) (3.0.12)\n",
      "Requirement already satisfied: six in c:\\users\\oleg-nai\\appdata\\roaming\\python\\python38\\site-packages (from gdown->bds_courseware) (1.15.0)\n",
      "Requirement already satisfied: urllib3<1.27,>=1.21.1 in c:\\users\\oleg-nai\\anaconda3\\envs\\course\\lib\\site-packages (from requests[socks]>=2.12.0->gdown->bds_courseware) (1.26.6)\n",
      "Requirement already satisfied: certifi>=2017.4.17 in c:\\users\\oleg-nai\\anaconda3\\envs\\course\\lib\\site-packages (from requests[socks]>=2.12.0->gdown->bds_courseware) (2021.5.30)\n",
      "Requirement already satisfied: chardet<5,>=3.0.2 in c:\\users\\oleg-nai\\anaconda3\\envs\\course\\lib\\site-packages (from requests[socks]>=2.12.0->gdown->bds_courseware) (4.0.0)\n",
      "Requirement already satisfied: idna<3,>=2.5 in c:\\users\\oleg-nai\\anaconda3\\envs\\course\\lib\\site-packages (from requests[socks]>=2.12.0->gdown->bds_courseware) (2.10)\n",
      "Requirement already satisfied: PySocks!=1.5.7,>=1.5.6; extra == \"socks\" in c:\\users\\oleg-nai\\anaconda3\\envs\\course\\lib\\site-packages (from requests[socks]>=2.12.0->gdown->bds_courseware) (1.7.1)\n"
     ]
    }
   ],
   "source": [
    "!pip install bds_courseware"
   ]
  },
  {
   "cell_type": "code",
   "execution_count": 12,
   "metadata": {
    "ExecuteTime": {
     "end_time": "2021-07-01T04:01:12.757675Z",
     "start_time": "2021-07-01T04:01:08.525960Z"
    },
    "id": "lTxF8H5I2EqF"
   },
   "outputs": [
    {
     "data": {
      "text/html": [
       "<div>\n",
       "<style scoped>\n",
       "    .dataframe tbody tr th:only-of-type {\n",
       "        vertical-align: middle;\n",
       "    }\n",
       "\n",
       "    .dataframe tbody tr th {\n",
       "        vertical-align: top;\n",
       "    }\n",
       "\n",
       "    .dataframe thead th {\n",
       "        text-align: right;\n",
       "    }\n",
       "</style>\n",
       "<table border=\"1\" class=\"dataframe\">\n",
       "  <thead>\n",
       "    <tr style=\"text-align: right;\">\n",
       "      <th></th>\n",
       "      <th>Name</th>\n",
       "      <th>Rating</th>\n",
       "      <th>No of people Rated</th>\n",
       "      <th>Category</th>\n",
       "      <th>Date</th>\n",
       "      <th>Price</th>\n",
       "    </tr>\n",
       "  </thead>\n",
       "  <tbody>\n",
       "    <tr>\n",
       "      <th>0</th>\n",
       "      <td>Dynamic Reader</td>\n",
       "      <td>3.5</td>\n",
       "      <td>268</td>\n",
       "      <td>Books</td>\n",
       "      <td>07-01-2014</td>\n",
       "      <td>Free</td>\n",
       "    </tr>\n",
       "    <tr>\n",
       "      <th>1</th>\n",
       "      <td>Chemistry, Organic Chemistry and Biochemistry-...</td>\n",
       "      <td>3.0</td>\n",
       "      <td>627</td>\n",
       "      <td>Books</td>\n",
       "      <td>08-01-2014</td>\n",
       "      <td>Free</td>\n",
       "    </tr>\n",
       "    <tr>\n",
       "      <th>2</th>\n",
       "      <td>BookViewer</td>\n",
       "      <td>3.5</td>\n",
       "      <td>593</td>\n",
       "      <td>Books</td>\n",
       "      <td>29-02-2016</td>\n",
       "      <td>Free</td>\n",
       "    </tr>\n",
       "    <tr>\n",
       "      <th>3</th>\n",
       "      <td>Brick Instructions</td>\n",
       "      <td>3.5</td>\n",
       "      <td>684</td>\n",
       "      <td>Books</td>\n",
       "      <td>30-01-2018</td>\n",
       "      <td>Free</td>\n",
       "    </tr>\n",
       "    <tr>\n",
       "      <th>4</th>\n",
       "      <td>Introduction to Python Programming by GoLearni...</td>\n",
       "      <td>2.0</td>\n",
       "      <td>634</td>\n",
       "      <td>Books</td>\n",
       "      <td>30-01-2018</td>\n",
       "      <td>Free</td>\n",
       "    </tr>\n",
       "    <tr>\n",
       "      <th>...</th>\n",
       "      <td>...</td>\n",
       "      <td>...</td>\n",
       "      <td>...</td>\n",
       "      <td>...</td>\n",
       "      <td>...</td>\n",
       "      <td>...</td>\n",
       "    </tr>\n",
       "    <tr>\n",
       "      <th>5317</th>\n",
       "      <td>JS King</td>\n",
       "      <td>1.0</td>\n",
       "      <td>720</td>\n",
       "      <td>Developer Tools</td>\n",
       "      <td>19-07-2018</td>\n",
       "      <td>₹ 269.00</td>\n",
       "    </tr>\n",
       "    <tr>\n",
       "      <th>5318</th>\n",
       "      <td>MQTTSniffer</td>\n",
       "      <td>2.5</td>\n",
       "      <td>500</td>\n",
       "      <td>Developer Tools</td>\n",
       "      <td>10-04-2017</td>\n",
       "      <td>₹ 64.00</td>\n",
       "    </tr>\n",
       "    <tr>\n",
       "      <th>5319</th>\n",
       "      <td>Dev Utils - JSON, CSV and XML</td>\n",
       "      <td>4.0</td>\n",
       "      <td>862</td>\n",
       "      <td>Developer Tools</td>\n",
       "      <td>18-11-2019</td>\n",
       "      <td>₹ 269.00</td>\n",
       "    </tr>\n",
       "    <tr>\n",
       "      <th>5320</th>\n",
       "      <td>Simply Text</td>\n",
       "      <td>4.0</td>\n",
       "      <td>386</td>\n",
       "      <td>Developer Tools</td>\n",
       "      <td>23-01-2014</td>\n",
       "      <td>₹ 219.00</td>\n",
       "    </tr>\n",
       "    <tr>\n",
       "      <th>5321</th>\n",
       "      <td>NaN</td>\n",
       "      <td>NaN</td>\n",
       "      <td>948</td>\n",
       "      <td>NaN</td>\n",
       "      <td>NaN</td>\n",
       "      <td>NaN</td>\n",
       "    </tr>\n",
       "  </tbody>\n",
       "</table>\n",
       "<p>5322 rows × 6 columns</p>\n",
       "</div>"
      ],
      "text/plain": [
       "                                                   Name  Rating  \\\n",
       "0                                        Dynamic Reader     3.5   \n",
       "1     Chemistry, Organic Chemistry and Biochemistry-...     3.0   \n",
       "2                                            BookViewer     3.5   \n",
       "3                                    Brick Instructions     3.5   \n",
       "4     Introduction to Python Programming by GoLearni...     2.0   \n",
       "...                                                 ...     ...   \n",
       "5317                                            JS King     1.0   \n",
       "5318                                        MQTTSniffer     2.5   \n",
       "5319                      Dev Utils - JSON, CSV and XML     4.0   \n",
       "5320                                        Simply Text     4.0   \n",
       "5321                                                NaN     NaN   \n",
       "\n",
       "      No of people Rated         Category        Date     Price  \n",
       "0                    268            Books  07-01-2014      Free  \n",
       "1                    627            Books  08-01-2014      Free  \n",
       "2                    593            Books  29-02-2016      Free  \n",
       "3                    684            Books  30-01-2018      Free  \n",
       "4                    634            Books  30-01-2018      Free  \n",
       "...                  ...              ...         ...       ...  \n",
       "5317                 720  Developer Tools  19-07-2018  ₹ 269.00  \n",
       "5318                 500  Developer Tools  10-04-2017   ₹ 64.00  \n",
       "5319                 862  Developer Tools  18-11-2019  ₹ 269.00  \n",
       "5320                 386  Developer Tools  23-01-2014  ₹ 219.00  \n",
       "5321                 948              NaN         NaN       NaN  \n",
       "\n",
       "[5322 rows x 6 columns]"
      ]
     },
     "execution_count": 12,
     "metadata": {},
     "output_type": "execute_result"
    }
   ],
   "source": [
    "import pandas as pd\n",
    "\n",
    "from bds_courseware import read_drive_dataset\n",
    "from bds_courseware import WORKSHOP_DATASETS, HOMEWORK_DATASETS\n",
    "\n",
    "name = \"msft_store\"\n",
    "read_drive_dataset(*WORKSHOP_DATASETS[name])"
   ]
  },
  {
   "cell_type": "code",
   "execution_count": 13,
   "metadata": {
    "ExecuteTime": {
     "end_time": "2021-07-01T04:01:12.773597Z",
     "start_time": "2021-07-01T04:01:12.759634Z"
    },
    "id": "NC0p0KLAP1ER"
   },
   "outputs": [
    {
     "data": {
      "text/plain": [
       "({'msft_store': ('15mCEE_6GfUXBMLh58zhOYBp6Gfti7TOq', 'csv'),\n",
       "  'sweets': ('1rD-yCS4CJ2qkeBgL-f3ilahatb8pZq2G', 'csv')},\n",
       " {'suicide_rates': ('1fhUu_t9C7yqVuMXeqjadFFzEzAdfwgiT', 'csv'),\n",
       "  'car_perfs': ('1WCNKNxbTyR0DkE4wk9fKl7C9tVaTA7Al', 'tsv'),\n",
       "  'brain': ('1tpZxfubFR0QT-pvLEjs34_A77VR7uIhC', 'tsv'),\n",
       "  'bank': ('1mCPUi9nHDHAfHGYf0oi-tnhbkCGTb_Mg', 'ssv'),\n",
       "  'air_quality': ('1Cf1oA7L9UM2B7HemJ9gFbr9IAgHquyfT', 'ssv'),\n",
       "  'hypothyroid': ('1m53GMGvefv99ZeTOuhjb5wLkTSwfMTCf', 'csv'),\n",
       "  'movies': ('1ZyCVwksXfp03H4X8wOye6vRD3B3O2YFl', 'csv'),\n",
       "  'day': ('1KWMuDmPznwEF5317-yhCdYxjnxFWeFbq', 'csv'),\n",
       "  'hour': ('1p4azCzZlFR5KZNVa4bG-LrZZtx0lPds1', 'csv'),\n",
       "  'duq': ('1NTkHmJ5BAgXEMqYok4dLD7FwLGv3bpDK', 'csv.zip'),\n",
       "  'stock': ('14m4swWIB6hEq7U71YJhaF5-T6mxt9obW', 'csv')})"
      ]
     },
     "execution_count": 13,
     "metadata": {},
     "output_type": "execute_result"
    }
   ],
   "source": [
    "WORKSHOP_DATASETS, HOMEWORK_DATASETS"
   ]
  },
  {
   "cell_type": "markdown",
   "metadata": {
    "id": "qOszyTJX2EqF"
   },
   "source": [
    "Frequently data is stored as a plain text in a comma separated format. It is plain, human-readable format.\n",
    "\n",
    "Pandas parser support many options to read such files. When reading csv file with known structure it is best to parse every column on reading step (e.g. timestamps). See documentation of `pandas.read_csv` for all options."
   ]
  },
  {
   "cell_type": "code",
   "execution_count": 14,
   "metadata": {
    "ExecuteTime": {
     "end_time": "2021-07-01T04:01:14.177740Z",
     "start_time": "2021-07-01T04:01:12.775599Z"
    },
    "id": "Dr-MfjU-2EqF"
   },
   "outputs": [],
   "source": [
    "df = read_drive_dataset(*WORKSHOP_DATASETS[name])"
   ]
  },
  {
   "cell_type": "code",
   "execution_count": 15,
   "metadata": {
    "ExecuteTime": {
     "end_time": "2021-07-01T04:01:14.192396Z",
     "start_time": "2021-07-01T04:01:14.179430Z"
    },
    "id": "orJcfCuq2EqF"
   },
   "outputs": [
    {
     "data": {
      "text/html": [
       "<div>\n",
       "<style scoped>\n",
       "    .dataframe tbody tr th:only-of-type {\n",
       "        vertical-align: middle;\n",
       "    }\n",
       "\n",
       "    .dataframe tbody tr th {\n",
       "        vertical-align: top;\n",
       "    }\n",
       "\n",
       "    .dataframe thead th {\n",
       "        text-align: right;\n",
       "    }\n",
       "</style>\n",
       "<table border=\"1\" class=\"dataframe\">\n",
       "  <thead>\n",
       "    <tr style=\"text-align: right;\">\n",
       "      <th></th>\n",
       "      <th>Name</th>\n",
       "      <th>Rating</th>\n",
       "      <th>No of people Rated</th>\n",
       "      <th>Category</th>\n",
       "      <th>Date</th>\n",
       "      <th>Price</th>\n",
       "    </tr>\n",
       "  </thead>\n",
       "  <tbody>\n",
       "    <tr>\n",
       "      <th>0</th>\n",
       "      <td>Dynamic Reader</td>\n",
       "      <td>3.5</td>\n",
       "      <td>268</td>\n",
       "      <td>Books</td>\n",
       "      <td>07-01-2014</td>\n",
       "      <td>Free</td>\n",
       "    </tr>\n",
       "    <tr>\n",
       "      <th>1</th>\n",
       "      <td>Chemistry, Organic Chemistry and Biochemistry-...</td>\n",
       "      <td>3.0</td>\n",
       "      <td>627</td>\n",
       "      <td>Books</td>\n",
       "      <td>08-01-2014</td>\n",
       "      <td>Free</td>\n",
       "    </tr>\n",
       "    <tr>\n",
       "      <th>2</th>\n",
       "      <td>BookViewer</td>\n",
       "      <td>3.5</td>\n",
       "      <td>593</td>\n",
       "      <td>Books</td>\n",
       "      <td>29-02-2016</td>\n",
       "      <td>Free</td>\n",
       "    </tr>\n",
       "    <tr>\n",
       "      <th>3</th>\n",
       "      <td>Brick Instructions</td>\n",
       "      <td>3.5</td>\n",
       "      <td>684</td>\n",
       "      <td>Books</td>\n",
       "      <td>30-01-2018</td>\n",
       "      <td>Free</td>\n",
       "    </tr>\n",
       "    <tr>\n",
       "      <th>4</th>\n",
       "      <td>Introduction to Python Programming by GoLearni...</td>\n",
       "      <td>2.0</td>\n",
       "      <td>634</td>\n",
       "      <td>Books</td>\n",
       "      <td>30-01-2018</td>\n",
       "      <td>Free</td>\n",
       "    </tr>\n",
       "    <tr>\n",
       "      <th>5</th>\n",
       "      <td>Gurbani Reader</td>\n",
       "      <td>4.5</td>\n",
       "      <td>399</td>\n",
       "      <td>Books</td>\n",
       "      <td>18-01-2017</td>\n",
       "      <td>Free</td>\n",
       "    </tr>\n",
       "    <tr>\n",
       "      <th>6</th>\n",
       "      <td>NFO Viewer</td>\n",
       "      <td>4.5</td>\n",
       "      <td>566</td>\n",
       "      <td>Books</td>\n",
       "      <td>13-11-2012</td>\n",
       "      <td>Free</td>\n",
       "    </tr>\n",
       "    <tr>\n",
       "      <th>7</th>\n",
       "      <td>Text to Speech TTS</td>\n",
       "      <td>3.0</td>\n",
       "      <td>175</td>\n",
       "      <td>Books</td>\n",
       "      <td>17-10-2013</td>\n",
       "      <td>Free</td>\n",
       "    </tr>\n",
       "    <tr>\n",
       "      <th>8</th>\n",
       "      <td>ACK Comics</td>\n",
       "      <td>4.0</td>\n",
       "      <td>460</td>\n",
       "      <td>Books</td>\n",
       "      <td>20-12-2012</td>\n",
       "      <td>Free</td>\n",
       "    </tr>\n",
       "    <tr>\n",
       "      <th>9</th>\n",
       "      <td>Learn Biology and Human Body Anatomy by GoLear...</td>\n",
       "      <td>3.5</td>\n",
       "      <td>363</td>\n",
       "      <td>Books</td>\n",
       "      <td>25-11-2013</td>\n",
       "      <td>Free</td>\n",
       "    </tr>\n",
       "  </tbody>\n",
       "</table>\n",
       "</div>"
      ],
      "text/plain": [
       "                                                Name  Rating  \\\n",
       "0                                     Dynamic Reader     3.5   \n",
       "1  Chemistry, Organic Chemistry and Biochemistry-...     3.0   \n",
       "2                                         BookViewer     3.5   \n",
       "3                                 Brick Instructions     3.5   \n",
       "4  Introduction to Python Programming by GoLearni...     2.0   \n",
       "5                                     Gurbani Reader     4.5   \n",
       "6                                         NFO Viewer     4.5   \n",
       "7                                 Text to Speech TTS     3.0   \n",
       "8                                         ACK Comics     4.0   \n",
       "9  Learn Biology and Human Body Anatomy by GoLear...     3.5   \n",
       "\n",
       "   No of people Rated Category        Date Price  \n",
       "0                 268    Books  07-01-2014  Free  \n",
       "1                 627    Books  08-01-2014  Free  \n",
       "2                 593    Books  29-02-2016  Free  \n",
       "3                 684    Books  30-01-2018  Free  \n",
       "4                 634    Books  30-01-2018  Free  \n",
       "5                 399    Books  18-01-2017  Free  \n",
       "6                 566    Books  13-11-2012  Free  \n",
       "7                 175    Books  17-10-2013  Free  \n",
       "8                 460    Books  20-12-2012  Free  \n",
       "9                 363    Books  25-11-2013  Free  "
      ]
     },
     "execution_count": 15,
     "metadata": {},
     "output_type": "execute_result"
    }
   ],
   "source": [
    "df.head(10)"
   ]
  },
  {
   "cell_type": "code",
   "execution_count": 43,
   "metadata": {
    "ExecuteTime": {
     "end_time": "2021-07-01T04:13:33.819104Z",
     "start_time": "2021-07-01T04:13:33.765977Z"
    },
    "id": "xQd5E96N2EqG"
   },
   "outputs": [
    {
     "data": {
      "text/html": [
       "<div>\n",
       "<style scoped>\n",
       "    .dataframe tbody tr th:only-of-type {\n",
       "        vertical-align: middle;\n",
       "    }\n",
       "\n",
       "    .dataframe tbody tr th {\n",
       "        vertical-align: top;\n",
       "    }\n",
       "\n",
       "    .dataframe thead th {\n",
       "        text-align: right;\n",
       "    }\n",
       "</style>\n",
       "<table border=\"1\" class=\"dataframe\">\n",
       "  <thead>\n",
       "    <tr style=\"text-align: right;\">\n",
       "      <th></th>\n",
       "      <th>Name</th>\n",
       "      <th>Rating</th>\n",
       "      <th>No of people Rated</th>\n",
       "      <th>Category</th>\n",
       "      <th>Date</th>\n",
       "      <th>Price</th>\n",
       "      <th>rating_power</th>\n",
       "      <th>Price Num</th>\n",
       "    </tr>\n",
       "  </thead>\n",
       "  <tbody>\n",
       "    <tr>\n",
       "      <th>0</th>\n",
       "      <td>Dynamic Reader</td>\n",
       "      <td>3.5</td>\n",
       "      <td>268</td>\n",
       "      <td>Books</td>\n",
       "      <td>07-01-2014</td>\n",
       "      <td>Free</td>\n",
       "      <td>938.0</td>\n",
       "      <td>0.0</td>\n",
       "    </tr>\n",
       "    <tr>\n",
       "      <th>1</th>\n",
       "      <td>Chemistry, Organic Chemistry and Biochemistry-simpleNeasyApp by WAGmob</td>\n",
       "      <td>3.0</td>\n",
       "      <td>627</td>\n",
       "      <td>Books</td>\n",
       "      <td>08-01-2014</td>\n",
       "      <td>Free</td>\n",
       "      <td>1881.0</td>\n",
       "      <td>0.0</td>\n",
       "    </tr>\n",
       "    <tr>\n",
       "      <th>2</th>\n",
       "      <td>BookViewer</td>\n",
       "      <td>3.5</td>\n",
       "      <td>593</td>\n",
       "      <td>Books</td>\n",
       "      <td>29-02-2016</td>\n",
       "      <td>Free</td>\n",
       "      <td>2075.5</td>\n",
       "      <td>0.0</td>\n",
       "    </tr>\n",
       "    <tr>\n",
       "      <th>3</th>\n",
       "      <td>Brick Instructions</td>\n",
       "      <td>3.5</td>\n",
       "      <td>684</td>\n",
       "      <td>Books</td>\n",
       "      <td>30-01-2018</td>\n",
       "      <td>Free</td>\n",
       "      <td>2394.0</td>\n",
       "      <td>0.0</td>\n",
       "    </tr>\n",
       "    <tr>\n",
       "      <th>4</th>\n",
       "      <td>Introduction to Python Programming by GoLearningBus</td>\n",
       "      <td>2.0</td>\n",
       "      <td>634</td>\n",
       "      <td>Books</td>\n",
       "      <td>30-01-2018</td>\n",
       "      <td>Free</td>\n",
       "      <td>1268.0</td>\n",
       "      <td>0.0</td>\n",
       "    </tr>\n",
       "    <tr>\n",
       "      <th>...</th>\n",
       "      <td>...</td>\n",
       "      <td>...</td>\n",
       "      <td>...</td>\n",
       "      <td>...</td>\n",
       "      <td>...</td>\n",
       "      <td>...</td>\n",
       "      <td>...</td>\n",
       "      <td>...</td>\n",
       "    </tr>\n",
       "    <tr>\n",
       "      <th>5317</th>\n",
       "      <td>JS King</td>\n",
       "      <td>1.0</td>\n",
       "      <td>720</td>\n",
       "      <td>Developer Tools</td>\n",
       "      <td>19-07-2018</td>\n",
       "      <td>₹ 269.00</td>\n",
       "      <td>720.0</td>\n",
       "      <td>269.0</td>\n",
       "    </tr>\n",
       "    <tr>\n",
       "      <th>5318</th>\n",
       "      <td>MQTTSniffer</td>\n",
       "      <td>2.5</td>\n",
       "      <td>500</td>\n",
       "      <td>Developer Tools</td>\n",
       "      <td>10-04-2017</td>\n",
       "      <td>₹ 64.00</td>\n",
       "      <td>1250.0</td>\n",
       "      <td>64.0</td>\n",
       "    </tr>\n",
       "    <tr>\n",
       "      <th>5319</th>\n",
       "      <td>Dev Utils - JSON, CSV and XML</td>\n",
       "      <td>4.0</td>\n",
       "      <td>862</td>\n",
       "      <td>Developer Tools</td>\n",
       "      <td>18-11-2019</td>\n",
       "      <td>₹ 269.00</td>\n",
       "      <td>3448.0</td>\n",
       "      <td>269.0</td>\n",
       "    </tr>\n",
       "    <tr>\n",
       "      <th>5320</th>\n",
       "      <td>Simply Text</td>\n",
       "      <td>4.0</td>\n",
       "      <td>386</td>\n",
       "      <td>Developer Tools</td>\n",
       "      <td>23-01-2014</td>\n",
       "      <td>₹ 219.00</td>\n",
       "      <td>1544.0</td>\n",
       "      <td>219.0</td>\n",
       "    </tr>\n",
       "    <tr>\n",
       "      <th>5321</th>\n",
       "      <td>NaN</td>\n",
       "      <td>NaN</td>\n",
       "      <td>948</td>\n",
       "      <td>NaN</td>\n",
       "      <td>NaN</td>\n",
       "      <td>NaN</td>\n",
       "      <td>NaN</td>\n",
       "      <td>NaN</td>\n",
       "    </tr>\n",
       "  </tbody>\n",
       "</table>\n",
       "<p>5322 rows × 8 columns</p>\n",
       "</div>"
      ],
      "text/plain": [
       "                                                                        Name  \\\n",
       "0                                                             Dynamic Reader   \n",
       "1     Chemistry, Organic Chemistry and Biochemistry-simpleNeasyApp by WAGmob   \n",
       "2                                                                 BookViewer   \n",
       "3                                                         Brick Instructions   \n",
       "4                        Introduction to Python Programming by GoLearningBus   \n",
       "...                                                                      ...   \n",
       "5317                                                                 JS King   \n",
       "5318                                                             MQTTSniffer   \n",
       "5319                                           Dev Utils - JSON, CSV and XML   \n",
       "5320                                                             Simply Text   \n",
       "5321                                                                     NaN   \n",
       "\n",
       "      Rating  No of people Rated         Category        Date     Price  \\\n",
       "0        3.5                 268            Books  07-01-2014      Free   \n",
       "1        3.0                 627            Books  08-01-2014      Free   \n",
       "2        3.5                 593            Books  29-02-2016      Free   \n",
       "3        3.5                 684            Books  30-01-2018      Free   \n",
       "4        2.0                 634            Books  30-01-2018      Free   \n",
       "...      ...                 ...              ...         ...       ...   \n",
       "5317     1.0                 720  Developer Tools  19-07-2018  ₹ 269.00   \n",
       "5318     2.5                 500  Developer Tools  10-04-2017   ₹ 64.00   \n",
       "5319     4.0                 862  Developer Tools  18-11-2019  ₹ 269.00   \n",
       "5320     4.0                 386  Developer Tools  23-01-2014  ₹ 219.00   \n",
       "5321     NaN                 948              NaN         NaN       NaN   \n",
       "\n",
       "      rating_power  Price Num  \n",
       "0            938.0        0.0  \n",
       "1           1881.0        0.0  \n",
       "2           2075.5        0.0  \n",
       "3           2394.0        0.0  \n",
       "4           1268.0        0.0  \n",
       "...            ...        ...  \n",
       "5317         720.0      269.0  \n",
       "5318        1250.0       64.0  \n",
       "5319        3448.0      269.0  \n",
       "5320        1544.0      219.0  \n",
       "5321           NaN        NaN  \n",
       "\n",
       "[5322 rows x 8 columns]"
      ]
     },
     "execution_count": 43,
     "metadata": {},
     "output_type": "execute_result"
    }
   ],
   "source": [
    "df.to_csv('data.csv', index=False)\n",
    "df"
   ]
  },
  {
   "cell_type": "code",
   "execution_count": 44,
   "metadata": {
    "ExecuteTime": {
     "end_time": "2021-07-01T04:13:39.772431Z",
     "start_time": "2021-07-01T04:13:39.733414Z"
    },
    "id": "7hdgDQ0f2EqG"
   },
   "outputs": [
    {
     "data": {
      "text/html": [
       "<div>\n",
       "<style scoped>\n",
       "    .dataframe tbody tr th:only-of-type {\n",
       "        vertical-align: middle;\n",
       "    }\n",
       "\n",
       "    .dataframe tbody tr th {\n",
       "        vertical-align: top;\n",
       "    }\n",
       "\n",
       "    .dataframe thead th {\n",
       "        text-align: right;\n",
       "    }\n",
       "</style>\n",
       "<table border=\"1\" class=\"dataframe\">\n",
       "  <thead>\n",
       "    <tr style=\"text-align: right;\">\n",
       "      <th></th>\n",
       "      <th>Name</th>\n",
       "      <th>Rating</th>\n",
       "      <th>No of people Rated</th>\n",
       "      <th>Category</th>\n",
       "      <th>Date</th>\n",
       "      <th>Price</th>\n",
       "      <th>rating_power</th>\n",
       "      <th>Price Num</th>\n",
       "    </tr>\n",
       "  </thead>\n",
       "  <tbody>\n",
       "    <tr>\n",
       "      <th>0</th>\n",
       "      <td>Dynamic Reader</td>\n",
       "      <td>3.5</td>\n",
       "      <td>268</td>\n",
       "      <td>Books</td>\n",
       "      <td>07-01-2014</td>\n",
       "      <td>Free</td>\n",
       "      <td>938.0</td>\n",
       "      <td>0.0</td>\n",
       "    </tr>\n",
       "    <tr>\n",
       "      <th>1</th>\n",
       "      <td>Chemistry, Organic Chemistry and Biochemistry-simpleNeasyApp by WAGmob</td>\n",
       "      <td>3.0</td>\n",
       "      <td>627</td>\n",
       "      <td>Books</td>\n",
       "      <td>08-01-2014</td>\n",
       "      <td>Free</td>\n",
       "      <td>1881.0</td>\n",
       "      <td>0.0</td>\n",
       "    </tr>\n",
       "    <tr>\n",
       "      <th>2</th>\n",
       "      <td>BookViewer</td>\n",
       "      <td>3.5</td>\n",
       "      <td>593</td>\n",
       "      <td>Books</td>\n",
       "      <td>29-02-2016</td>\n",
       "      <td>Free</td>\n",
       "      <td>2075.5</td>\n",
       "      <td>0.0</td>\n",
       "    </tr>\n",
       "    <tr>\n",
       "      <th>3</th>\n",
       "      <td>Brick Instructions</td>\n",
       "      <td>3.5</td>\n",
       "      <td>684</td>\n",
       "      <td>Books</td>\n",
       "      <td>30-01-2018</td>\n",
       "      <td>Free</td>\n",
       "      <td>2394.0</td>\n",
       "      <td>0.0</td>\n",
       "    </tr>\n",
       "    <tr>\n",
       "      <th>4</th>\n",
       "      <td>Introduction to Python Programming by GoLearningBus</td>\n",
       "      <td>2.0</td>\n",
       "      <td>634</td>\n",
       "      <td>Books</td>\n",
       "      <td>30-01-2018</td>\n",
       "      <td>Free</td>\n",
       "      <td>1268.0</td>\n",
       "      <td>0.0</td>\n",
       "    </tr>\n",
       "    <tr>\n",
       "      <th>...</th>\n",
       "      <td>...</td>\n",
       "      <td>...</td>\n",
       "      <td>...</td>\n",
       "      <td>...</td>\n",
       "      <td>...</td>\n",
       "      <td>...</td>\n",
       "      <td>...</td>\n",
       "      <td>...</td>\n",
       "    </tr>\n",
       "    <tr>\n",
       "      <th>5317</th>\n",
       "      <td>JS King</td>\n",
       "      <td>1.0</td>\n",
       "      <td>720</td>\n",
       "      <td>Developer Tools</td>\n",
       "      <td>19-07-2018</td>\n",
       "      <td>₹ 269.00</td>\n",
       "      <td>720.0</td>\n",
       "      <td>269.0</td>\n",
       "    </tr>\n",
       "    <tr>\n",
       "      <th>5318</th>\n",
       "      <td>MQTTSniffer</td>\n",
       "      <td>2.5</td>\n",
       "      <td>500</td>\n",
       "      <td>Developer Tools</td>\n",
       "      <td>10-04-2017</td>\n",
       "      <td>₹ 64.00</td>\n",
       "      <td>1250.0</td>\n",
       "      <td>64.0</td>\n",
       "    </tr>\n",
       "    <tr>\n",
       "      <th>5319</th>\n",
       "      <td>Dev Utils - JSON, CSV and XML</td>\n",
       "      <td>4.0</td>\n",
       "      <td>862</td>\n",
       "      <td>Developer Tools</td>\n",
       "      <td>18-11-2019</td>\n",
       "      <td>₹ 269.00</td>\n",
       "      <td>3448.0</td>\n",
       "      <td>269.0</td>\n",
       "    </tr>\n",
       "    <tr>\n",
       "      <th>5320</th>\n",
       "      <td>Simply Text</td>\n",
       "      <td>4.0</td>\n",
       "      <td>386</td>\n",
       "      <td>Developer Tools</td>\n",
       "      <td>23-01-2014</td>\n",
       "      <td>₹ 219.00</td>\n",
       "      <td>1544.0</td>\n",
       "      <td>219.0</td>\n",
       "    </tr>\n",
       "    <tr>\n",
       "      <th>5321</th>\n",
       "      <td>NaN</td>\n",
       "      <td>NaN</td>\n",
       "      <td>948</td>\n",
       "      <td>NaN</td>\n",
       "      <td>NaN</td>\n",
       "      <td>NaN</td>\n",
       "      <td>NaN</td>\n",
       "      <td>NaN</td>\n",
       "    </tr>\n",
       "  </tbody>\n",
       "</table>\n",
       "<p>5322 rows × 8 columns</p>\n",
       "</div>"
      ],
      "text/plain": [
       "                                                                        Name  \\\n",
       "0                                                             Dynamic Reader   \n",
       "1     Chemistry, Organic Chemistry and Biochemistry-simpleNeasyApp by WAGmob   \n",
       "2                                                                 BookViewer   \n",
       "3                                                         Brick Instructions   \n",
       "4                        Introduction to Python Programming by GoLearningBus   \n",
       "...                                                                      ...   \n",
       "5317                                                                 JS King   \n",
       "5318                                                             MQTTSniffer   \n",
       "5319                                           Dev Utils - JSON, CSV and XML   \n",
       "5320                                                             Simply Text   \n",
       "5321                                                                     NaN   \n",
       "\n",
       "      Rating  No of people Rated         Category        Date     Price  \\\n",
       "0        3.5                 268            Books  07-01-2014      Free   \n",
       "1        3.0                 627            Books  08-01-2014      Free   \n",
       "2        3.5                 593            Books  29-02-2016      Free   \n",
       "3        3.5                 684            Books  30-01-2018      Free   \n",
       "4        2.0                 634            Books  30-01-2018      Free   \n",
       "...      ...                 ...              ...         ...       ...   \n",
       "5317     1.0                 720  Developer Tools  19-07-2018  ₹ 269.00   \n",
       "5318     2.5                 500  Developer Tools  10-04-2017   ₹ 64.00   \n",
       "5319     4.0                 862  Developer Tools  18-11-2019  ₹ 269.00   \n",
       "5320     4.0                 386  Developer Tools  23-01-2014  ₹ 219.00   \n",
       "5321     NaN                 948              NaN         NaN       NaN   \n",
       "\n",
       "      rating_power  Price Num  \n",
       "0            938.0        0.0  \n",
       "1           1881.0        0.0  \n",
       "2           2075.5        0.0  \n",
       "3           2394.0        0.0  \n",
       "4           1268.0        0.0  \n",
       "...            ...        ...  \n",
       "5317         720.0      269.0  \n",
       "5318        1250.0       64.0  \n",
       "5319        3448.0      269.0  \n",
       "5320        1544.0      219.0  \n",
       "5321           NaN        NaN  \n",
       "\n",
       "[5322 rows x 8 columns]"
      ]
     },
     "execution_count": 44,
     "metadata": {},
     "output_type": "execute_result"
    }
   ],
   "source": [
    "pd.read_csv('data.csv')"
   ]
  },
  {
   "cell_type": "markdown",
   "metadata": {
    "ExecuteTime": {
     "end_time": "2020-07-27T09:22:57.516223Z",
     "start_time": "2020-07-27T09:22:57.500615Z"
    },
    "id": "7Fr4336Z2EqG"
   },
   "source": [
    "You can reffer to a columns by name like a dictionary or an attribute. The returned object is a **pandas.Series**. You can treat it like a data vector."
   ]
  },
  {
   "cell_type": "code",
   "execution_count": 45,
   "metadata": {
    "ExecuteTime": {
     "end_time": "2021-07-01T04:13:48.487734Z",
     "start_time": "2021-07-01T04:13:48.478762Z"
    },
    "id": "JBu-xzhQ2EqG"
   },
   "outputs": [
    {
     "data": {
      "text/plain": [
       "0                                                               Dynamic Reader\n",
       "1       Chemistry, Organic Chemistry and Biochemistry-simpleNeasyApp by WAGmob\n",
       "2                                                                   BookViewer\n",
       "3                                                           Brick Instructions\n",
       "4                          Introduction to Python Programming by GoLearningBus\n",
       "                                         ...                                  \n",
       "5317                                                                   JS King\n",
       "5318                                                               MQTTSniffer\n",
       "5319                                             Dev Utils - JSON, CSV and XML\n",
       "5320                                                               Simply Text\n",
       "5321                                                                       NaN\n",
       "Name: Name, Length: 5322, dtype: object"
      ]
     },
     "execution_count": 45,
     "metadata": {},
     "output_type": "execute_result"
    }
   ],
   "source": [
    "df[\"Name\"]\n",
    "# or\n",
    "df.Name"
   ]
  },
  {
   "cell_type": "code",
   "execution_count": 19,
   "metadata": {
    "ExecuteTime": {
     "end_time": "2021-07-01T04:01:14.317771Z",
     "start_time": "2021-07-01T04:01:14.289822Z"
    },
    "id": "0q7aMKd8P1Eb"
   },
   "outputs": [
    {
     "name": "stdout",
     "output_type": "stream",
     "text": [
      "<bound method DataFrame.sum of                                                    Name  Rating  \\\n",
      "0                                        Dynamic Reader     3.5   \n",
      "1     Chemistry, Organic Chemistry and Biochemistry-...     3.0   \n",
      "2                                            BookViewer     3.5   \n",
      "3                                    Brick Instructions     3.5   \n",
      "4     Introduction to Python Programming by GoLearni...     2.0   \n",
      "...                                                 ...     ...   \n",
      "5317                                            JS King     1.0   \n",
      "5318                                        MQTTSniffer     2.5   \n",
      "5319                      Dev Utils - JSON, CSV and XML     4.0   \n",
      "5320                                        Simply Text     4.0   \n",
      "5321                                                NaN     NaN   \n",
      "\n",
      "      No of people Rated         Category        Date     Price  sum  \n",
      "0                    268            Books  07-01-2014      Free    1  \n",
      "1                    627            Books  08-01-2014      Free    1  \n",
      "2                    593            Books  29-02-2016      Free    1  \n",
      "3                    684            Books  30-01-2018      Free    1  \n",
      "4                    634            Books  30-01-2018      Free    1  \n",
      "...                  ...              ...         ...       ...  ...  \n",
      "5317                 720  Developer Tools  19-07-2018  ₹ 269.00    1  \n",
      "5318                 500  Developer Tools  10-04-2017   ₹ 64.00    1  \n",
      "5319                 862  Developer Tools  18-11-2019  ₹ 269.00    1  \n",
      "5320                 386  Developer Tools  23-01-2014  ₹ 219.00    1  \n",
      "5321                 948              NaN         NaN       NaN    1  \n",
      "\n",
      "[5322 rows x 7 columns]>\n"
     ]
    }
   ],
   "source": [
    "# Pay attention to the reserved method names\n",
    "df['sum'] = 1\n",
    "print(df.sum)\n",
    "df.drop(columns='sum', inplace=True)"
   ]
  },
  {
   "cell_type": "markdown",
   "metadata": {
    "ExecuteTime": {
     "end_time": "2020-07-27T09:24:21.551967Z",
     "start_time": "2020-07-27T09:24:21.536305Z"
    },
    "id": "R81TRXQS2EqG"
   },
   "source": [
    "You can see that some names are truncated. When working with text data it is useful to remove truncation with the next line of code"
   ]
  },
  {
   "cell_type": "code",
   "execution_count": 20,
   "metadata": {
    "ExecuteTime": {
     "end_time": "2021-07-01T04:01:14.333742Z",
     "start_time": "2021-07-01T04:01:14.319741Z"
    },
    "id": "acokLHLM2EqH"
   },
   "outputs": [],
   "source": [
    "pd.options.display.max_colwidth = None"
   ]
  },
  {
   "cell_type": "markdown",
   "metadata": {
    "ExecuteTime": {
     "end_time": "2020-07-27T09:25:37.050182Z",
     "start_time": "2020-07-27T09:25:37.034590Z"
    },
    "id": "V9rDjc0u2EqH"
   },
   "source": [
    "**Series** support common math and bool opperations."
   ]
  },
  {
   "cell_type": "code",
   "execution_count": 21,
   "metadata": {
    "ExecuteTime": {
     "end_time": "2021-07-01T04:01:14.349661Z",
     "start_time": "2021-07-01T04:01:14.336697Z"
    },
    "id": "xdpAe0fo2EqH"
   },
   "outputs": [
    {
     "data": {
      "text/plain": [
       "0       False\n",
       "1       False\n",
       "2       False\n",
       "3       False\n",
       "4       False\n",
       "        ...  \n",
       "5317     True\n",
       "5318    False\n",
       "5319    False\n",
       "5320    False\n",
       "5321    False\n",
       "Name: Rating, Length: 5322, dtype: bool"
      ]
     },
     "execution_count": 21,
     "metadata": {},
     "output_type": "execute_result"
    }
   ],
   "source": [
    "df[\"Rating\"] < 2"
   ]
  },
  {
   "cell_type": "code",
   "execution_count": 22,
   "metadata": {
    "ExecuteTime": {
     "end_time": "2021-07-01T04:01:14.365618Z",
     "start_time": "2021-07-01T04:01:14.350660Z"
    },
    "id": "cVCBYgT72EqH"
   },
   "outputs": [
    {
     "data": {
      "text/plain": [
       "0       35.0\n",
       "1       30.0\n",
       "2       35.0\n",
       "3       35.0\n",
       "4       20.0\n",
       "        ... \n",
       "5317    10.0\n",
       "5318    25.0\n",
       "5319    40.0\n",
       "5320    40.0\n",
       "5321     NaN\n",
       "Name: Rating, Length: 5322, dtype: float64"
      ]
     },
     "execution_count": 22,
     "metadata": {},
     "output_type": "execute_result"
    }
   ],
   "source": [
    "df[\"Rating\"] * 10"
   ]
  },
  {
   "cell_type": "markdown",
   "metadata": {
    "ExecuteTime": {
     "end_time": "2020-07-27T09:26:31.355734Z",
     "start_time": "2020-07-27T09:26:31.340072Z"
    },
    "id": "ddXauF9w2EqH"
   },
   "source": [
    "Another useful function is `value_counts()`. Use it to calculate frequencies of each unique values in a **Series**."
   ]
  },
  {
   "cell_type": "code",
   "execution_count": 23,
   "metadata": {
    "ExecuteTime": {
     "end_time": "2021-07-01T04:01:14.380579Z",
     "start_time": "2021-07-01T04:01:14.367613Z"
    },
    "id": "HhtBuJCS2EqI"
   },
   "outputs": [
    {
     "data": {
      "text/plain": [
       "4.0    1299\n",
       "5.0     968\n",
       "4.5     900\n",
       "3.5     844\n",
       "3.0     615\n",
       "2.5     276\n",
       "1.0     201\n",
       "2.0     156\n",
       "1.5      62\n",
       "Name: Rating, dtype: int64"
      ]
     },
     "execution_count": 23,
     "metadata": {},
     "output_type": "execute_result"
    }
   ],
   "source": [
    "df[\"Rating\"].value_counts()"
   ]
  },
  {
   "cell_type": "code",
   "execution_count": 24,
   "metadata": {
    "ExecuteTime": {
     "end_time": "2021-07-01T04:01:14.395539Z",
     "start_time": "2021-07-01T04:01:14.382575Z"
    },
    "id": "xeTMrbDc2EqI"
   },
   "outputs": [
    {
     "data": {
      "text/plain": [
       "4.0    0.244127\n",
       "5.0    0.181921\n",
       "4.5    0.169141\n",
       "3.5    0.158617\n",
       "3.0    0.115580\n",
       "2.5    0.051870\n",
       "1.0    0.037775\n",
       "2.0    0.029318\n",
       "1.5    0.011652\n",
       "Name: Rating, dtype: float64"
      ]
     },
     "execution_count": 24,
     "metadata": {},
     "output_type": "execute_result"
    }
   ],
   "source": [
    "# Calculate percentage of each rating number instead of absolute value\n",
    "###\n",
    "df[\"Rating\"].value_counts(normalize=True)\n",
    "###"
   ]
  },
  {
   "cell_type": "markdown",
   "metadata": {
    "ExecuteTime": {
     "end_time": "2020-07-27T09:27:29.679737Z",
     "start_time": "2020-07-27T09:27:29.641910Z"
    },
    "id": "PXyUDWu32EqI"
   },
   "source": [
    "You can create new or update existing column using simple assignment. Another way is to use `.assign()` function. Assign is very useful it pair with long chained expressions."
   ]
  },
  {
   "cell_type": "code",
   "execution_count": 25,
   "metadata": {
    "ExecuteTime": {
     "end_time": "2021-07-01T04:01:14.426456Z",
     "start_time": "2021-07-01T04:01:14.397534Z"
    },
    "id": "hB_rfSIN2EqI"
   },
   "outputs": [
    {
     "data": {
      "text/html": [
       "<div>\n",
       "<style scoped>\n",
       "    .dataframe tbody tr th:only-of-type {\n",
       "        vertical-align: middle;\n",
       "    }\n",
       "\n",
       "    .dataframe tbody tr th {\n",
       "        vertical-align: top;\n",
       "    }\n",
       "\n",
       "    .dataframe thead th {\n",
       "        text-align: right;\n",
       "    }\n",
       "</style>\n",
       "<table border=\"1\" class=\"dataframe\">\n",
       "  <thead>\n",
       "    <tr style=\"text-align: right;\">\n",
       "      <th></th>\n",
       "      <th>Name</th>\n",
       "      <th>Rating</th>\n",
       "      <th>No of people Rated</th>\n",
       "      <th>Category</th>\n",
       "      <th>Date</th>\n",
       "      <th>Price</th>\n",
       "      <th>rating_power</th>\n",
       "    </tr>\n",
       "  </thead>\n",
       "  <tbody>\n",
       "    <tr>\n",
       "      <th>0</th>\n",
       "      <td>Dynamic Reader</td>\n",
       "      <td>3.5</td>\n",
       "      <td>268</td>\n",
       "      <td>Books</td>\n",
       "      <td>07-01-2014</td>\n",
       "      <td>Free</td>\n",
       "      <td>938.0</td>\n",
       "    </tr>\n",
       "    <tr>\n",
       "      <th>1</th>\n",
       "      <td>Chemistry, Organic Chemistry and Biochemistry-simpleNeasyApp by WAGmob</td>\n",
       "      <td>3.0</td>\n",
       "      <td>627</td>\n",
       "      <td>Books</td>\n",
       "      <td>08-01-2014</td>\n",
       "      <td>Free</td>\n",
       "      <td>1881.0</td>\n",
       "    </tr>\n",
       "    <tr>\n",
       "      <th>2</th>\n",
       "      <td>BookViewer</td>\n",
       "      <td>3.5</td>\n",
       "      <td>593</td>\n",
       "      <td>Books</td>\n",
       "      <td>29-02-2016</td>\n",
       "      <td>Free</td>\n",
       "      <td>2075.5</td>\n",
       "    </tr>\n",
       "    <tr>\n",
       "      <th>3</th>\n",
       "      <td>Brick Instructions</td>\n",
       "      <td>3.5</td>\n",
       "      <td>684</td>\n",
       "      <td>Books</td>\n",
       "      <td>30-01-2018</td>\n",
       "      <td>Free</td>\n",
       "      <td>2394.0</td>\n",
       "    </tr>\n",
       "    <tr>\n",
       "      <th>4</th>\n",
       "      <td>Introduction to Python Programming by GoLearningBus</td>\n",
       "      <td>2.0</td>\n",
       "      <td>634</td>\n",
       "      <td>Books</td>\n",
       "      <td>30-01-2018</td>\n",
       "      <td>Free</td>\n",
       "      <td>1268.0</td>\n",
       "    </tr>\n",
       "  </tbody>\n",
       "</table>\n",
       "</div>"
      ],
      "text/plain": [
       "                                                                     Name  \\\n",
       "0                                                          Dynamic Reader   \n",
       "1  Chemistry, Organic Chemistry and Biochemistry-simpleNeasyApp by WAGmob   \n",
       "2                                                              BookViewer   \n",
       "3                                                      Brick Instructions   \n",
       "4                     Introduction to Python Programming by GoLearningBus   \n",
       "\n",
       "   Rating  No of people Rated Category        Date Price  rating_power  \n",
       "0     3.5                 268    Books  07-01-2014  Free         938.0  \n",
       "1     3.0                 627    Books  08-01-2014  Free        1881.0  \n",
       "2     3.5                 593    Books  29-02-2016  Free        2075.5  \n",
       "3     3.5                 684    Books  30-01-2018  Free        2394.0  \n",
       "4     2.0                 634    Books  30-01-2018  Free        1268.0  "
      ]
     },
     "execution_count": 25,
     "metadata": {},
     "output_type": "execute_result"
    }
   ],
   "source": [
    "df['rating_power']  = df[\"Rating\"] * df[\"No of people Rated\"]\n",
    "# or\n",
    "df  = df.assign(rating_power=lambda this_df: this_df[\"Rating\"] * this_df[\"No of people Rated\"])\n",
    "df.head()"
   ]
  },
  {
   "cell_type": "markdown",
   "metadata": {
    "ExecuteTime": {
     "end_time": "2020-07-27T09:30:28.789412Z",
     "start_time": "2020-07-27T09:30:28.758142Z"
    },
    "id": "yVF2M3EW2EqI"
   },
   "source": [
    "There are common chart implemented in Pandas. You can access them using `.plot.`. You can use it with a Dataframe or a Series. To draw we need to install matlplotlib library first."
   ]
  },
  {
   "cell_type": "code",
   "execution_count": 46,
   "metadata": {
    "ExecuteTime": {
     "end_time": "2021-07-01T04:28:23.024300Z",
     "start_time": "2021-07-01T04:28:21.962063Z"
    },
    "id": "dEN2Qdmo2EqJ"
   },
   "outputs": [
    {
     "name": "stdout",
     "output_type": "stream",
     "text": [
      "Requirement already satisfied: matplotlib in c:\\users\\oleg-nai\\anaconda3\\envs\\course\\lib\\site-packages (3.4.2)\n",
      "Requirement already satisfied: kiwisolver>=1.0.1 in c:\\users\\oleg-nai\\anaconda3\\envs\\course\\lib\\site-packages (from matplotlib) (1.3.1)\n",
      "Requirement already satisfied: pillow>=6.2.0 in c:\\users\\oleg-nai\\anaconda3\\envs\\course\\lib\\site-packages (from matplotlib) (8.2.0)\n",
      "Requirement already satisfied: cycler>=0.10 in c:\\users\\oleg-nai\\anaconda3\\envs\\course\\lib\\site-packages (from matplotlib) (0.10.0)\n",
      "Requirement already satisfied: pyparsing>=2.2.1 in c:\\users\\oleg-nai\\anaconda3\\envs\\course\\lib\\site-packages (from matplotlib) (2.4.7)\n",
      "Requirement already satisfied: python-dateutil>=2.7 in c:\\users\\oleg-nai\\appdata\\roaming\\python\\python38\\site-packages (from matplotlib) (2.8.1)\n",
      "Requirement already satisfied: numpy>=1.16 in c:\\users\\oleg-nai\\anaconda3\\envs\\course\\lib\\site-packages (from matplotlib) (1.21.0)\n",
      "Requirement already satisfied: six in c:\\users\\oleg-nai\\appdata\\roaming\\python\\python38\\site-packages (from cycler>=0.10->matplotlib) (1.15.0)\n"
     ]
    }
   ],
   "source": [
    "!pip install matplotlib"
   ]
  },
  {
   "cell_type": "code",
   "execution_count": 47,
   "metadata": {
    "ExecuteTime": {
     "end_time": "2021-07-01T04:28:23.228338Z",
     "start_time": "2021-07-01T04:28:23.027301Z"
    },
    "id": "S5x2TEwn2EqJ"
   },
   "outputs": [
    {
     "data": {
      "text/plain": [
       "<AxesSubplot:ylabel='Frequency'>"
      ]
     },
     "execution_count": 47,
     "metadata": {},
     "output_type": "execute_result"
    },
    {
     "data": {
      "image/png": "[encoded data removed]",
      "text/plain": [
       "<Figure size 432x288 with 1 Axes>"
      ]
     },
     "metadata": {
      "needs_background": "light"
     },
     "output_type": "display_data"
    }
   ],
   "source": [
    "df.rating_power.plot.hist(bins=50)"
   ]
  },
  {
   "cell_type": "markdown",
   "metadata": {
    "ExecuteTime": {
     "end_time": "2020-07-27T09:31:00.951272Z",
     "start_time": "2020-07-27T09:31:00.935643Z"
    },
    "id": "BOyNzgWu2EqJ"
   },
   "source": [
    "If you need to know what unique labels are in the column, you can use `.unique()`"
   ]
  },
  {
   "cell_type": "code",
   "execution_count": 48,
   "metadata": {
    "ExecuteTime": {
     "end_time": "2021-07-01T04:28:23.243081Z",
     "start_time": "2021-07-01T04:28:23.231115Z"
    },
    "id": "JK_l62x72EqJ"
   },
   "outputs": [
    {
     "data": {
      "text/plain": [
       "array(['Books', 'Business', 'Developer Tools', 'Social',\n",
       "       'Food and Dining', 'Government and Politics', 'Health and Fitness',\n",
       "       'Kids and Family', 'Lifestyle', 'Multimedia Design', 'Music',\n",
       "       'Navigation and Maps', 'News and Weather', nan], dtype=object)"
      ]
     },
     "execution_count": 48,
     "metadata": {},
     "output_type": "execute_result"
    }
   ],
   "source": [
    "df['Category'].unique()"
   ]
  },
  {
   "cell_type": "markdown",
   "metadata": {
    "ExecuteTime": {
     "end_time": "2020-07-27T09:54:06.320116Z",
     "start_time": "2020-07-27T09:54:06.304491Z"
    },
    "id": "tvYYCD-V2EqJ"
   },
   "source": [
    "One of the most frequent operations in Pandas is filtering. You can do it using boolean indexing or `.query()` function."
   ]
  },
  {
   "cell_type": "code",
   "execution_count": 29,
   "metadata": {
    "ExecuteTime": {
     "end_time": "2021-07-01T04:01:21.561673Z",
     "start_time": "2021-07-01T04:01:21.503195Z"
    },
    "id": "brr1n-WO2EqJ"
   },
   "outputs": [
    {
     "data": {
      "text/html": [
       "<div>\n",
       "<style scoped>\n",
       "    .dataframe tbody tr th:only-of-type {\n",
       "        vertical-align: middle;\n",
       "    }\n",
       "\n",
       "    .dataframe tbody tr th {\n",
       "        vertical-align: top;\n",
       "    }\n",
       "\n",
       "    .dataframe thead th {\n",
       "        text-align: right;\n",
       "    }\n",
       "</style>\n",
       "<table border=\"1\" class=\"dataframe\">\n",
       "  <thead>\n",
       "    <tr style=\"text-align: right;\">\n",
       "      <th></th>\n",
       "      <th>Name</th>\n",
       "      <th>Rating</th>\n",
       "      <th>No of people Rated</th>\n",
       "      <th>Category</th>\n",
       "      <th>Date</th>\n",
       "      <th>Price</th>\n",
       "      <th>rating_power</th>\n",
       "    </tr>\n",
       "  </thead>\n",
       "  <tbody>\n",
       "    <tr>\n",
       "      <th>3773</th>\n",
       "      <td>Spotify Music</td>\n",
       "      <td>4.0</td>\n",
       "      <td>895</td>\n",
       "      <td>Music</td>\n",
       "      <td>26-05-2017</td>\n",
       "      <td>Free</td>\n",
       "      <td>3580.0</td>\n",
       "    </tr>\n",
       "    <tr>\n",
       "      <th>3774</th>\n",
       "      <td>iTunes</td>\n",
       "      <td>3.0</td>\n",
       "      <td>735</td>\n",
       "      <td>Music</td>\n",
       "      <td>26-04-2018</td>\n",
       "      <td>Free</td>\n",
       "      <td>2205.0</td>\n",
       "    </tr>\n",
       "    <tr>\n",
       "      <th>3775</th>\n",
       "      <td>Gaana</td>\n",
       "      <td>3.5</td>\n",
       "      <td>732</td>\n",
       "      <td>Music</td>\n",
       "      <td>24-05-2012</td>\n",
       "      <td>Free</td>\n",
       "      <td>2562.0</td>\n",
       "    </tr>\n",
       "    <tr>\n",
       "      <th>3776</th>\n",
       "      <td>Amazon Music</td>\n",
       "      <td>3.5</td>\n",
       "      <td>533</td>\n",
       "      <td>Music</td>\n",
       "      <td>13-02-2018</td>\n",
       "      <td>Free</td>\n",
       "      <td>1865.5</td>\n",
       "    </tr>\n",
       "    <tr>\n",
       "      <th>3777</th>\n",
       "      <td>JioSaavn Music &amp; Radio</td>\n",
       "      <td>4.0</td>\n",
       "      <td>219</td>\n",
       "      <td>Music</td>\n",
       "      <td>27-08-2015</td>\n",
       "      <td>Free</td>\n",
       "      <td>876.0</td>\n",
       "    </tr>\n",
       "    <tr>\n",
       "      <th>...</th>\n",
       "      <td>...</td>\n",
       "      <td>...</td>\n",
       "      <td>...</td>\n",
       "      <td>...</td>\n",
       "      <td>...</td>\n",
       "      <td>...</td>\n",
       "      <td>...</td>\n",
       "    </tr>\n",
       "    <tr>\n",
       "      <th>4521</th>\n",
       "      <td>cnblue lyrics</td>\n",
       "      <td>5.0</td>\n",
       "      <td>668</td>\n",
       "      <td>Music</td>\n",
       "      <td>24-04-2017</td>\n",
       "      <td>Free</td>\n",
       "      <td>3340.0</td>\n",
       "    </tr>\n",
       "    <tr>\n",
       "      <th>4522</th>\n",
       "      <td>Radio Sudan – Radio Sudan FM &amp; AM: Listen Live Sudanese Radio Stations Online + Music and Talk Stations</td>\n",
       "      <td>2.0</td>\n",
       "      <td>667</td>\n",
       "      <td>Music</td>\n",
       "      <td>06-11-2019</td>\n",
       "      <td>Free</td>\n",
       "      <td>1334.0</td>\n",
       "    </tr>\n",
       "    <tr>\n",
       "      <th>4523</th>\n",
       "      <td>BitSynth</td>\n",
       "      <td>4.5</td>\n",
       "      <td>938</td>\n",
       "      <td>Music</td>\n",
       "      <td>13-02-2012</td>\n",
       "      <td>Free</td>\n",
       "      <td>4221.0</td>\n",
       "    </tr>\n",
       "    <tr>\n",
       "      <th>4524</th>\n",
       "      <td>StreamToApp Universal</td>\n",
       "      <td>2.0</td>\n",
       "      <td>296</td>\n",
       "      <td>Music</td>\n",
       "      <td>20-07-2015</td>\n",
       "      <td>Free</td>\n",
       "      <td>592.0</td>\n",
       "    </tr>\n",
       "    <tr>\n",
       "      <th>4525</th>\n",
       "      <td>Universal Music Radio (Preview)</td>\n",
       "      <td>4.0</td>\n",
       "      <td>873</td>\n",
       "      <td>Music</td>\n",
       "      <td>01-07-2016</td>\n",
       "      <td>Free</td>\n",
       "      <td>3492.0</td>\n",
       "    </tr>\n",
       "  </tbody>\n",
       "</table>\n",
       "<p>753 rows × 7 columns</p>\n",
       "</div>"
      ],
      "text/plain": [
       "                                                                                                         Name  \\\n",
       "3773                                                                                            Spotify Music   \n",
       "3774                                                                                                   iTunes   \n",
       "3775                                                                                                    Gaana   \n",
       "3776                                                                                             Amazon Music   \n",
       "3777                                                                                   JioSaavn Music & Radio   \n",
       "...                                                                                                       ...   \n",
       "4521                                                                                            cnblue lyrics   \n",
       "4522  Radio Sudan – Radio Sudan FM & AM: Listen Live Sudanese Radio Stations Online + Music and Talk Stations   \n",
       "4523                                                                                                 BitSynth   \n",
       "4524                                                                                    StreamToApp Universal   \n",
       "4525                                                                          Universal Music Radio (Preview)   \n",
       "\n",
       "      Rating  No of people Rated Category        Date Price  rating_power  \n",
       "3773     4.0                 895    Music  26-05-2017  Free        3580.0  \n",
       "3774     3.0                 735    Music  26-04-2018  Free        2205.0  \n",
       "3775     3.5                 732    Music  24-05-2012  Free        2562.0  \n",
       "3776     3.5                 533    Music  13-02-2018  Free        1865.5  \n",
       "3777     4.0                 219    Music  27-08-2015  Free         876.0  \n",
       "...      ...                 ...      ...         ...   ...           ...  \n",
       "4521     5.0                 668    Music  24-04-2017  Free        3340.0  \n",
       "4522     2.0                 667    Music  06-11-2019  Free        1334.0  \n",
       "4523     4.5                 938    Music  13-02-2012  Free        4221.0  \n",
       "4524     2.0                 296    Music  20-07-2015  Free         592.0  \n",
       "4525     4.0                 873    Music  01-07-2016  Free        3492.0  \n",
       "\n",
       "[753 rows x 7 columns]"
      ]
     },
     "execution_count": 29,
     "metadata": {},
     "output_type": "execute_result"
    }
   ],
   "source": [
    "df.loc[df['Category'] == 'Music']"
   ]
  },
  {
   "cell_type": "code",
   "execution_count": 30,
   "metadata": {
    "ExecuteTime": {
     "end_time": "2021-07-01T04:01:21.606546Z",
     "start_time": "2021-07-01T04:01:21.565654Z"
    },
    "id": "AMZ6-O7W2EqJ"
   },
   "outputs": [
    {
     "data": {
      "text/html": [
       "<div>\n",
       "<style scoped>\n",
       "    .dataframe tbody tr th:only-of-type {\n",
       "        vertical-align: middle;\n",
       "    }\n",
       "\n",
       "    .dataframe tbody tr th {\n",
       "        vertical-align: top;\n",
       "    }\n",
       "\n",
       "    .dataframe thead th {\n",
       "        text-align: right;\n",
       "    }\n",
       "</style>\n",
       "<table border=\"1\" class=\"dataframe\">\n",
       "  <thead>\n",
       "    <tr style=\"text-align: right;\">\n",
       "      <th></th>\n",
       "      <th>Name</th>\n",
       "      <th>Rating</th>\n",
       "      <th>No of people Rated</th>\n",
       "      <th>Category</th>\n",
       "      <th>Date</th>\n",
       "      <th>Price</th>\n",
       "      <th>rating_power</th>\n",
       "    </tr>\n",
       "  </thead>\n",
       "  <tbody>\n",
       "    <tr>\n",
       "      <th>3851</th>\n",
       "      <td>MP3 Volume Booster</td>\n",
       "      <td>5.0</td>\n",
       "      <td>982</td>\n",
       "      <td>Music</td>\n",
       "      <td>25-02-2020</td>\n",
       "      <td>Free</td>\n",
       "      <td>4910.0</td>\n",
       "    </tr>\n",
       "    <tr>\n",
       "      <th>4054</th>\n",
       "      <td>Free Piano - MS Store Port</td>\n",
       "      <td>5.0</td>\n",
       "      <td>964</td>\n",
       "      <td>Music</td>\n",
       "      <td>09-10-2019</td>\n",
       "      <td>Free</td>\n",
       "      <td>4820.0</td>\n",
       "    </tr>\n",
       "    <tr>\n",
       "      <th>3866</th>\n",
       "      <td>fre:ac - free audio converter</td>\n",
       "      <td>5.0</td>\n",
       "      <td>953</td>\n",
       "      <td>Music</td>\n",
       "      <td>14-04-2020</td>\n",
       "      <td>Free</td>\n",
       "      <td>4765.0</td>\n",
       "    </tr>\n",
       "    <tr>\n",
       "      <th>4434</th>\n",
       "      <td>Radio Cuba – Radio Cuba FM &amp; AM: Listen Live Cuban Radio Stations Online + Music and Talk Stations</td>\n",
       "      <td>5.0</td>\n",
       "      <td>952</td>\n",
       "      <td>Music</td>\n",
       "      <td>05-11-2019</td>\n",
       "      <td>Free</td>\n",
       "      <td>4760.0</td>\n",
       "    </tr>\n",
       "    <tr>\n",
       "      <th>4205</th>\n",
       "      <td>Animal Ringtones</td>\n",
       "      <td>5.0</td>\n",
       "      <td>943</td>\n",
       "      <td>Music</td>\n",
       "      <td>18-07-2017</td>\n",
       "      <td>Free</td>\n",
       "      <td>4715.0</td>\n",
       "    </tr>\n",
       "    <tr>\n",
       "      <th>...</th>\n",
       "      <td>...</td>\n",
       "      <td>...</td>\n",
       "      <td>...</td>\n",
       "      <td>...</td>\n",
       "      <td>...</td>\n",
       "      <td>...</td>\n",
       "      <td>...</td>\n",
       "    </tr>\n",
       "    <tr>\n",
       "      <th>4415</th>\n",
       "      <td>Japanese Radio Channel</td>\n",
       "      <td>1.5</td>\n",
       "      <td>177</td>\n",
       "      <td>Music</td>\n",
       "      <td>24-08-2016</td>\n",
       "      <td>Free</td>\n",
       "      <td>265.5</td>\n",
       "    </tr>\n",
       "    <tr>\n",
       "      <th>4003</th>\n",
       "      <td>Binaural Magic Music Streaming</td>\n",
       "      <td>1.5</td>\n",
       "      <td>132</td>\n",
       "      <td>Music</td>\n",
       "      <td>11-07-2018</td>\n",
       "      <td>Free</td>\n",
       "      <td>198.0</td>\n",
       "    </tr>\n",
       "    <tr>\n",
       "      <th>4444</th>\n",
       "      <td>Rennie Foster - Heart Shaped Shadow</td>\n",
       "      <td>1.0</td>\n",
       "      <td>176</td>\n",
       "      <td>Music</td>\n",
       "      <td>15-08-2013</td>\n",
       "      <td>Free</td>\n",
       "      <td>176.0</td>\n",
       "    </tr>\n",
       "    <tr>\n",
       "      <th>4074</th>\n",
       "      <td>Transpose FREE</td>\n",
       "      <td>1.0</td>\n",
       "      <td>163</td>\n",
       "      <td>Music</td>\n",
       "      <td>01-02-2017</td>\n",
       "      <td>Free</td>\n",
       "      <td>163.0</td>\n",
       "    </tr>\n",
       "    <tr>\n",
       "      <th>4463</th>\n",
       "      <td>New Age Player</td>\n",
       "      <td>1.0</td>\n",
       "      <td>129</td>\n",
       "      <td>Music</td>\n",
       "      <td>27-12-2013</td>\n",
       "      <td>Free</td>\n",
       "      <td>129.0</td>\n",
       "    </tr>\n",
       "  </tbody>\n",
       "</table>\n",
       "<p>753 rows × 7 columns</p>\n",
       "</div>"
      ],
      "text/plain": [
       "                                                                                                    Name  \\\n",
       "3851                                                                                  MP3 Volume Booster   \n",
       "4054                                                                          Free Piano - MS Store Port   \n",
       "3866                                                                       fre:ac - free audio converter   \n",
       "4434  Radio Cuba – Radio Cuba FM & AM: Listen Live Cuban Radio Stations Online + Music and Talk Stations   \n",
       "4205                                                                                    Animal Ringtones   \n",
       "...                                                                                                  ...   \n",
       "4415                                                                              Japanese Radio Channel   \n",
       "4003                                                                      Binaural Magic Music Streaming   \n",
       "4444                                                                 Rennie Foster - Heart Shaped Shadow   \n",
       "4074                                                                                      Transpose FREE   \n",
       "4463                                                                                      New Age Player   \n",
       "\n",
       "      Rating  No of people Rated Category        Date Price  rating_power  \n",
       "3851     5.0                 982    Music  25-02-2020  Free        4910.0  \n",
       "4054     5.0                 964    Music  09-10-2019  Free        4820.0  \n",
       "3866     5.0                 953    Music  14-04-2020  Free        4765.0  \n",
       "4434     5.0                 952    Music  05-11-2019  Free        4760.0  \n",
       "4205     5.0                 943    Music  18-07-2017  Free        4715.0  \n",
       "...      ...                 ...      ...         ...   ...           ...  \n",
       "4415     1.5                 177    Music  24-08-2016  Free         265.5  \n",
       "4003     1.5                 132    Music  11-07-2018  Free         198.0  \n",
       "4444     1.0                 176    Music  15-08-2013  Free         176.0  \n",
       "4074     1.0                 163    Music  01-02-2017  Free         163.0  \n",
       "4463     1.0                 129    Music  27-12-2013  Free         129.0  \n",
       "\n",
       "[753 rows x 7 columns]"
      ]
     },
     "execution_count": 30,
     "metadata": {},
     "output_type": "execute_result"
    }
   ],
   "source": [
    "df.loc[df['Category'] == 'Music'].sort_values('rating_power', ascending=False)"
   ]
  },
  {
   "cell_type": "code",
   "execution_count": 31,
   "metadata": {
    "ExecuteTime": {
     "end_time": "2021-07-01T04:01:21.682733Z",
     "start_time": "2021-07-01T04:01:21.608539Z"
    },
    "id": "u6bdgnzh2EqK"
   },
   "outputs": [
    {
     "data": {
      "text/html": [
       "<div>\n",
       "<style scoped>\n",
       "    .dataframe tbody tr th:only-of-type {\n",
       "        vertical-align: middle;\n",
       "    }\n",
       "\n",
       "    .dataframe tbody tr th {\n",
       "        vertical-align: top;\n",
       "    }\n",
       "\n",
       "    .dataframe thead th {\n",
       "        text-align: right;\n",
       "    }\n",
       "</style>\n",
       "<table border=\"1\" class=\"dataframe\">\n",
       "  <thead>\n",
       "    <tr style=\"text-align: right;\">\n",
       "      <th></th>\n",
       "      <th>Name</th>\n",
       "      <th>Rating</th>\n",
       "      <th>No of people Rated</th>\n",
       "      <th>Category</th>\n",
       "      <th>Date</th>\n",
       "      <th>Price</th>\n",
       "      <th>rating_power</th>\n",
       "    </tr>\n",
       "  </thead>\n",
       "  <tbody>\n",
       "    <tr>\n",
       "      <th>3773</th>\n",
       "      <td>Spotify Music</td>\n",
       "      <td>4.0</td>\n",
       "      <td>895</td>\n",
       "      <td>Music</td>\n",
       "      <td>26-05-2017</td>\n",
       "      <td>Free</td>\n",
       "      <td>3580.0</td>\n",
       "    </tr>\n",
       "    <tr>\n",
       "      <th>3774</th>\n",
       "      <td>iTunes</td>\n",
       "      <td>3.0</td>\n",
       "      <td>735</td>\n",
       "      <td>Music</td>\n",
       "      <td>26-04-2018</td>\n",
       "      <td>Free</td>\n",
       "      <td>2205.0</td>\n",
       "    </tr>\n",
       "    <tr>\n",
       "      <th>3775</th>\n",
       "      <td>Gaana</td>\n",
       "      <td>3.5</td>\n",
       "      <td>732</td>\n",
       "      <td>Music</td>\n",
       "      <td>24-05-2012</td>\n",
       "      <td>Free</td>\n",
       "      <td>2562.0</td>\n",
       "    </tr>\n",
       "    <tr>\n",
       "      <th>3776</th>\n",
       "      <td>Amazon Music</td>\n",
       "      <td>3.5</td>\n",
       "      <td>533</td>\n",
       "      <td>Music</td>\n",
       "      <td>13-02-2018</td>\n",
       "      <td>Free</td>\n",
       "      <td>1865.5</td>\n",
       "    </tr>\n",
       "    <tr>\n",
       "      <th>3777</th>\n",
       "      <td>JioSaavn Music &amp; Radio</td>\n",
       "      <td>4.0</td>\n",
       "      <td>219</td>\n",
       "      <td>Music</td>\n",
       "      <td>27-08-2015</td>\n",
       "      <td>Free</td>\n",
       "      <td>876.0</td>\n",
       "    </tr>\n",
       "    <tr>\n",
       "      <th>...</th>\n",
       "      <td>...</td>\n",
       "      <td>...</td>\n",
       "      <td>...</td>\n",
       "      <td>...</td>\n",
       "      <td>...</td>\n",
       "      <td>...</td>\n",
       "      <td>...</td>\n",
       "    </tr>\n",
       "    <tr>\n",
       "      <th>4521</th>\n",
       "      <td>cnblue lyrics</td>\n",
       "      <td>5.0</td>\n",
       "      <td>668</td>\n",
       "      <td>Music</td>\n",
       "      <td>24-04-2017</td>\n",
       "      <td>Free</td>\n",
       "      <td>3340.0</td>\n",
       "    </tr>\n",
       "    <tr>\n",
       "      <th>4522</th>\n",
       "      <td>Radio Sudan – Radio Sudan FM &amp; AM: Listen Live Sudanese Radio Stations Online + Music and Talk Stations</td>\n",
       "      <td>2.0</td>\n",
       "      <td>667</td>\n",
       "      <td>Music</td>\n",
       "      <td>06-11-2019</td>\n",
       "      <td>Free</td>\n",
       "      <td>1334.0</td>\n",
       "    </tr>\n",
       "    <tr>\n",
       "      <th>4523</th>\n",
       "      <td>BitSynth</td>\n",
       "      <td>4.5</td>\n",
       "      <td>938</td>\n",
       "      <td>Music</td>\n",
       "      <td>13-02-2012</td>\n",
       "      <td>Free</td>\n",
       "      <td>4221.0</td>\n",
       "    </tr>\n",
       "    <tr>\n",
       "      <th>4524</th>\n",
       "      <td>StreamToApp Universal</td>\n",
       "      <td>2.0</td>\n",
       "      <td>296</td>\n",
       "      <td>Music</td>\n",
       "      <td>20-07-2015</td>\n",
       "      <td>Free</td>\n",
       "      <td>592.0</td>\n",
       "    </tr>\n",
       "    <tr>\n",
       "      <th>4525</th>\n",
       "      <td>Universal Music Radio (Preview)</td>\n",
       "      <td>4.0</td>\n",
       "      <td>873</td>\n",
       "      <td>Music</td>\n",
       "      <td>01-07-2016</td>\n",
       "      <td>Free</td>\n",
       "      <td>3492.0</td>\n",
       "    </tr>\n",
       "  </tbody>\n",
       "</table>\n",
       "<p>753 rows × 7 columns</p>\n",
       "</div>"
      ],
      "text/plain": [
       "                                                                                                         Name  \\\n",
       "3773                                                                                            Spotify Music   \n",
       "3774                                                                                                   iTunes   \n",
       "3775                                                                                                    Gaana   \n",
       "3776                                                                                             Amazon Music   \n",
       "3777                                                                                   JioSaavn Music & Radio   \n",
       "...                                                                                                       ...   \n",
       "4521                                                                                            cnblue lyrics   \n",
       "4522  Radio Sudan – Radio Sudan FM & AM: Listen Live Sudanese Radio Stations Online + Music and Talk Stations   \n",
       "4523                                                                                                 BitSynth   \n",
       "4524                                                                                    StreamToApp Universal   \n",
       "4525                                                                          Universal Music Radio (Preview)   \n",
       "\n",
       "      Rating  No of people Rated Category        Date Price  rating_power  \n",
       "3773     4.0                 895    Music  26-05-2017  Free        3580.0  \n",
       "3774     3.0                 735    Music  26-04-2018  Free        2205.0  \n",
       "3775     3.5                 732    Music  24-05-2012  Free        2562.0  \n",
       "3776     3.5                 533    Music  13-02-2018  Free        1865.5  \n",
       "3777     4.0                 219    Music  27-08-2015  Free         876.0  \n",
       "...      ...                 ...      ...         ...   ...           ...  \n",
       "4521     5.0                 668    Music  24-04-2017  Free        3340.0  \n",
       "4522     2.0                 667    Music  06-11-2019  Free        1334.0  \n",
       "4523     4.5                 938    Music  13-02-2012  Free        4221.0  \n",
       "4524     2.0                 296    Music  20-07-2015  Free         592.0  \n",
       "4525     4.0                 873    Music  01-07-2016  Free        3492.0  \n",
       "\n",
       "[753 rows x 7 columns]"
      ]
     },
     "execution_count": 31,
     "metadata": {},
     "output_type": "execute_result"
    }
   ],
   "source": [
    "df.query('Category == \"Music\"')"
   ]
  },
  {
   "cell_type": "code",
   "execution_count": 32,
   "metadata": {
    "ExecuteTime": {
     "end_time": "2021-07-01T04:01:21.714641Z",
     "start_time": "2021-07-01T04:01:21.684722Z"
    },
    "id": "fcOkDDvj2EqK"
   },
   "outputs": [
    {
     "data": {
      "text/html": [
       "<div>\n",
       "<style scoped>\n",
       "    .dataframe tbody tr th:only-of-type {\n",
       "        vertical-align: middle;\n",
       "    }\n",
       "\n",
       "    .dataframe tbody tr th {\n",
       "        vertical-align: top;\n",
       "    }\n",
       "\n",
       "    .dataframe thead th {\n",
       "        text-align: right;\n",
       "    }\n",
       "</style>\n",
       "<table border=\"1\" class=\"dataframe\">\n",
       "  <thead>\n",
       "    <tr style=\"text-align: right;\">\n",
       "      <th></th>\n",
       "      <th>Name</th>\n",
       "      <th>Rating</th>\n",
       "      <th>No of people Rated</th>\n",
       "      <th>Category</th>\n",
       "      <th>Date</th>\n",
       "      <th>Price</th>\n",
       "      <th>rating_power</th>\n",
       "    </tr>\n",
       "  </thead>\n",
       "  <tbody>\n",
       "    <tr>\n",
       "      <th>3166</th>\n",
       "      <td>Islam 360 (Universal)</td>\n",
       "      <td>5.0</td>\n",
       "      <td>901</td>\n",
       "      <td>Lifestyle</td>\n",
       "      <td>29-06-2015</td>\n",
       "      <td>Free</td>\n",
       "      <td>4505.0</td>\n",
       "    </tr>\n",
       "    <tr>\n",
       "      <th>3173</th>\n",
       "      <td>Mahadev</td>\n",
       "      <td>5.0</td>\n",
       "      <td>673</td>\n",
       "      <td>Lifestyle</td>\n",
       "      <td>18-02-2015</td>\n",
       "      <td>Free</td>\n",
       "      <td>3365.0</td>\n",
       "    </tr>\n",
       "    <tr>\n",
       "      <th>3186</th>\n",
       "      <td>Psychology Facts</td>\n",
       "      <td>5.0</td>\n",
       "      <td>942</td>\n",
       "      <td>Lifestyle</td>\n",
       "      <td>11-11-2018</td>\n",
       "      <td>Free</td>\n",
       "      <td>4710.0</td>\n",
       "    </tr>\n",
       "    <tr>\n",
       "      <th>3210</th>\n",
       "      <td>Horoscope &amp; Astrology</td>\n",
       "      <td>5.0</td>\n",
       "      <td>110</td>\n",
       "      <td>Lifestyle</td>\n",
       "      <td>02-12-2018</td>\n",
       "      <td>Free</td>\n",
       "      <td>550.0</td>\n",
       "    </tr>\n",
       "    <tr>\n",
       "      <th>3221</th>\n",
       "      <td>Dictate&amp;Translate</td>\n",
       "      <td>5.0</td>\n",
       "      <td>367</td>\n",
       "      <td>Lifestyle</td>\n",
       "      <td>24-01-2020</td>\n",
       "      <td>Free</td>\n",
       "      <td>1835.0</td>\n",
       "    </tr>\n",
       "    <tr>\n",
       "      <th>...</th>\n",
       "      <td>...</td>\n",
       "      <td>...</td>\n",
       "      <td>...</td>\n",
       "      <td>...</td>\n",
       "      <td>...</td>\n",
       "      <td>...</td>\n",
       "      <td>...</td>\n",
       "    </tr>\n",
       "    <tr>\n",
       "      <th>3632</th>\n",
       "      <td>Shalom Reflections</td>\n",
       "      <td>5.0</td>\n",
       "      <td>918</td>\n",
       "      <td>Lifestyle</td>\n",
       "      <td>02-04-2013</td>\n",
       "      <td>Free</td>\n",
       "      <td>4590.0</td>\n",
       "    </tr>\n",
       "    <tr>\n",
       "      <th>3637</th>\n",
       "      <td>sammler:modelcar</td>\n",
       "      <td>5.0</td>\n",
       "      <td>836</td>\n",
       "      <td>Lifestyle</td>\n",
       "      <td>21-03-2014</td>\n",
       "      <td>Free</td>\n",
       "      <td>4180.0</td>\n",
       "    </tr>\n",
       "    <tr>\n",
       "      <th>3639</th>\n",
       "      <td>Dimmitt Automotive Group</td>\n",
       "      <td>5.0</td>\n",
       "      <td>435</td>\n",
       "      <td>Lifestyle</td>\n",
       "      <td>05-08-2014</td>\n",
       "      <td>Free</td>\n",
       "      <td>2175.0</td>\n",
       "    </tr>\n",
       "    <tr>\n",
       "      <th>3642</th>\n",
       "      <td>Carp-Talk</td>\n",
       "      <td>5.0</td>\n",
       "      <td>865</td>\n",
       "      <td>Lifestyle</td>\n",
       "      <td>26-06-2014</td>\n",
       "      <td>Free</td>\n",
       "      <td>4325.0</td>\n",
       "    </tr>\n",
       "    <tr>\n",
       "      <th>3654</th>\n",
       "      <td>Stamping Bandit Crafts</td>\n",
       "      <td>5.0</td>\n",
       "      <td>471</td>\n",
       "      <td>Lifestyle</td>\n",
       "      <td>03-12-2013</td>\n",
       "      <td>Free</td>\n",
       "      <td>2355.0</td>\n",
       "    </tr>\n",
       "  </tbody>\n",
       "</table>\n",
       "<p>84 rows × 7 columns</p>\n",
       "</div>"
      ],
      "text/plain": [
       "                          Name  Rating  No of people Rated   Category  \\\n",
       "3166     Islam 360 (Universal)     5.0                 901  Lifestyle   \n",
       "3173                   Mahadev     5.0                 673  Lifestyle   \n",
       "3186          Psychology Facts     5.0                 942  Lifestyle   \n",
       "3210     Horoscope & Astrology     5.0                 110  Lifestyle   \n",
       "3221         Dictate&Translate     5.0                 367  Lifestyle   \n",
       "...                        ...     ...                 ...        ...   \n",
       "3632        Shalom Reflections     5.0                 918  Lifestyle   \n",
       "3637          sammler:modelcar     5.0                 836  Lifestyle   \n",
       "3639  Dimmitt Automotive Group     5.0                 435  Lifestyle   \n",
       "3642                 Carp-Talk     5.0                 865  Lifestyle   \n",
       "3654    Stamping Bandit Crafts     5.0                 471  Lifestyle   \n",
       "\n",
       "            Date Price  rating_power  \n",
       "3166  29-06-2015  Free        4505.0  \n",
       "3173  18-02-2015  Free        3365.0  \n",
       "3186  11-11-2018  Free        4710.0  \n",
       "3210  02-12-2018  Free         550.0  \n",
       "3221  24-01-2020  Free        1835.0  \n",
       "...          ...   ...           ...  \n",
       "3632  02-04-2013  Free        4590.0  \n",
       "3637  21-03-2014  Free        4180.0  \n",
       "3639  05-08-2014  Free        2175.0  \n",
       "3642  26-06-2014  Free        4325.0  \n",
       "3654  03-12-2013  Free        2355.0  \n",
       "\n",
       "[84 rows x 7 columns]"
      ]
     },
     "execution_count": 32,
     "metadata": {},
     "output_type": "execute_result"
    }
   ],
   "source": [
    "# Find Lifestyle apps with the best rating\n",
    "###\n",
    "df[(df.Category == 'Lifestyle') & (df.Rating == 5)]\n",
    "###"
   ]
  },
  {
   "cell_type": "code",
   "execution_count": 33,
   "metadata": {
    "ExecuteTime": {
     "end_time": "2021-07-01T04:01:21.760522Z",
     "start_time": "2021-07-01T04:01:21.723619Z"
    },
    "id": "jlxCHrvVP1FA"
   },
   "outputs": [
    {
     "data": {
      "text/html": [
       "<div>\n",
       "<style scoped>\n",
       "    .dataframe tbody tr th:only-of-type {\n",
       "        vertical-align: middle;\n",
       "    }\n",
       "\n",
       "    .dataframe tbody tr th {\n",
       "        vertical-align: top;\n",
       "    }\n",
       "\n",
       "    .dataframe thead th {\n",
       "        text-align: right;\n",
       "    }\n",
       "</style>\n",
       "<table border=\"1\" class=\"dataframe\">\n",
       "  <thead>\n",
       "    <tr style=\"text-align: right;\">\n",
       "      <th></th>\n",
       "      <th>Name</th>\n",
       "      <th>Rating</th>\n",
       "      <th>No of people Rated</th>\n",
       "      <th>Category</th>\n",
       "      <th>Date</th>\n",
       "      <th>Price</th>\n",
       "      <th>rating_power</th>\n",
       "    </tr>\n",
       "  </thead>\n",
       "  <tbody>\n",
       "    <tr>\n",
       "      <th>3166</th>\n",
       "      <td>Islam 360 (Universal)</td>\n",
       "      <td>5.0</td>\n",
       "      <td>901</td>\n",
       "      <td>Lifestyle</td>\n",
       "      <td>29-06-2015</td>\n",
       "      <td>Free</td>\n",
       "      <td>4505.0</td>\n",
       "    </tr>\n",
       "    <tr>\n",
       "      <th>3173</th>\n",
       "      <td>Mahadev</td>\n",
       "      <td>5.0</td>\n",
       "      <td>673</td>\n",
       "      <td>Lifestyle</td>\n",
       "      <td>18-02-2015</td>\n",
       "      <td>Free</td>\n",
       "      <td>3365.0</td>\n",
       "    </tr>\n",
       "    <tr>\n",
       "      <th>3186</th>\n",
       "      <td>Psychology Facts</td>\n",
       "      <td>5.0</td>\n",
       "      <td>942</td>\n",
       "      <td>Lifestyle</td>\n",
       "      <td>11-11-2018</td>\n",
       "      <td>Free</td>\n",
       "      <td>4710.0</td>\n",
       "    </tr>\n",
       "    <tr>\n",
       "      <th>3210</th>\n",
       "      <td>Horoscope &amp; Astrology</td>\n",
       "      <td>5.0</td>\n",
       "      <td>110</td>\n",
       "      <td>Lifestyle</td>\n",
       "      <td>02-12-2018</td>\n",
       "      <td>Free</td>\n",
       "      <td>550.0</td>\n",
       "    </tr>\n",
       "    <tr>\n",
       "      <th>3221</th>\n",
       "      <td>Dictate&amp;Translate</td>\n",
       "      <td>5.0</td>\n",
       "      <td>367</td>\n",
       "      <td>Lifestyle</td>\n",
       "      <td>24-01-2020</td>\n",
       "      <td>Free</td>\n",
       "      <td>1835.0</td>\n",
       "    </tr>\n",
       "    <tr>\n",
       "      <th>...</th>\n",
       "      <td>...</td>\n",
       "      <td>...</td>\n",
       "      <td>...</td>\n",
       "      <td>...</td>\n",
       "      <td>...</td>\n",
       "      <td>...</td>\n",
       "      <td>...</td>\n",
       "    </tr>\n",
       "    <tr>\n",
       "      <th>3632</th>\n",
       "      <td>Shalom Reflections</td>\n",
       "      <td>5.0</td>\n",
       "      <td>918</td>\n",
       "      <td>Lifestyle</td>\n",
       "      <td>02-04-2013</td>\n",
       "      <td>Free</td>\n",
       "      <td>4590.0</td>\n",
       "    </tr>\n",
       "    <tr>\n",
       "      <th>3637</th>\n",
       "      <td>sammler:modelcar</td>\n",
       "      <td>5.0</td>\n",
       "      <td>836</td>\n",
       "      <td>Lifestyle</td>\n",
       "      <td>21-03-2014</td>\n",
       "      <td>Free</td>\n",
       "      <td>4180.0</td>\n",
       "    </tr>\n",
       "    <tr>\n",
       "      <th>3639</th>\n",
       "      <td>Dimmitt Automotive Group</td>\n",
       "      <td>5.0</td>\n",
       "      <td>435</td>\n",
       "      <td>Lifestyle</td>\n",
       "      <td>05-08-2014</td>\n",
       "      <td>Free</td>\n",
       "      <td>2175.0</td>\n",
       "    </tr>\n",
       "    <tr>\n",
       "      <th>3642</th>\n",
       "      <td>Carp-Talk</td>\n",
       "      <td>5.0</td>\n",
       "      <td>865</td>\n",
       "      <td>Lifestyle</td>\n",
       "      <td>26-06-2014</td>\n",
       "      <td>Free</td>\n",
       "      <td>4325.0</td>\n",
       "    </tr>\n",
       "    <tr>\n",
       "      <th>3654</th>\n",
       "      <td>Stamping Bandit Crafts</td>\n",
       "      <td>5.0</td>\n",
       "      <td>471</td>\n",
       "      <td>Lifestyle</td>\n",
       "      <td>03-12-2013</td>\n",
       "      <td>Free</td>\n",
       "      <td>2355.0</td>\n",
       "    </tr>\n",
       "  </tbody>\n",
       "</table>\n",
       "<p>84 rows × 7 columns</p>\n",
       "</div>"
      ],
      "text/plain": [
       "                          Name  Rating  No of people Rated   Category  \\\n",
       "3166     Islam 360 (Universal)     5.0                 901  Lifestyle   \n",
       "3173                   Mahadev     5.0                 673  Lifestyle   \n",
       "3186          Psychology Facts     5.0                 942  Lifestyle   \n",
       "3210     Horoscope & Astrology     5.0                 110  Lifestyle   \n",
       "3221         Dictate&Translate     5.0                 367  Lifestyle   \n",
       "...                        ...     ...                 ...        ...   \n",
       "3632        Shalom Reflections     5.0                 918  Lifestyle   \n",
       "3637          sammler:modelcar     5.0                 836  Lifestyle   \n",
       "3639  Dimmitt Automotive Group     5.0                 435  Lifestyle   \n",
       "3642                 Carp-Talk     5.0                 865  Lifestyle   \n",
       "3654    Stamping Bandit Crafts     5.0                 471  Lifestyle   \n",
       "\n",
       "            Date Price  rating_power  \n",
       "3166  29-06-2015  Free        4505.0  \n",
       "3173  18-02-2015  Free        3365.0  \n",
       "3186  11-11-2018  Free        4710.0  \n",
       "3210  02-12-2018  Free         550.0  \n",
       "3221  24-01-2020  Free        1835.0  \n",
       "...          ...   ...           ...  \n",
       "3632  02-04-2013  Free        4590.0  \n",
       "3637  21-03-2014  Free        4180.0  \n",
       "3639  05-08-2014  Free        2175.0  \n",
       "3642  26-06-2014  Free        4325.0  \n",
       "3654  03-12-2013  Free        2355.0  \n",
       "\n",
       "[84 rows x 7 columns]"
      ]
     },
     "execution_count": 33,
     "metadata": {},
     "output_type": "execute_result"
    }
   ],
   "source": [
    "df[(df.Category == 'Lifestyle') & (df.Rating == df.Rating.max())]\n"
   ]
  },
  {
   "cell_type": "code",
   "execution_count": 34,
   "metadata": {
    "ExecuteTime": {
     "end_time": "2021-07-01T04:01:21.791436Z",
     "start_time": "2021-07-01T04:01:21.765527Z"
    },
    "id": "GxPviyuB2EqK"
   },
   "outputs": [
    {
     "data": {
      "text/html": [
       "<div>\n",
       "<style scoped>\n",
       "    .dataframe tbody tr th:only-of-type {\n",
       "        vertical-align: middle;\n",
       "    }\n",
       "\n",
       "    .dataframe tbody tr th {\n",
       "        vertical-align: top;\n",
       "    }\n",
       "\n",
       "    .dataframe thead th {\n",
       "        text-align: right;\n",
       "    }\n",
       "</style>\n",
       "<table border=\"1\" class=\"dataframe\">\n",
       "  <thead>\n",
       "    <tr style=\"text-align: right;\">\n",
       "      <th></th>\n",
       "      <th>Name</th>\n",
       "      <th>Rating</th>\n",
       "      <th>No of people Rated</th>\n",
       "      <th>Category</th>\n",
       "      <th>Date</th>\n",
       "      <th>Price</th>\n",
       "      <th>rating_power</th>\n",
       "    </tr>\n",
       "  </thead>\n",
       "  <tbody>\n",
       "    <tr>\n",
       "      <th>2292</th>\n",
       "      <td>Fitbit</td>\n",
       "      <td>3.5</td>\n",
       "      <td>622</td>\n",
       "      <td>Health and Fitness</td>\n",
       "      <td>07-12-2012</td>\n",
       "      <td>Free</td>\n",
       "      <td>2177.0</td>\n",
       "    </tr>\n",
       "    <tr>\n",
       "      <th>2295</th>\n",
       "      <td>Fitbit Coach</td>\n",
       "      <td>4.0</td>\n",
       "      <td>717</td>\n",
       "      <td>Health and Fitness</td>\n",
       "      <td>30-08-2017</td>\n",
       "      <td>Free</td>\n",
       "      <td>2868.0</td>\n",
       "    </tr>\n",
       "    <tr>\n",
       "      <th>2296</th>\n",
       "      <td>Full Body Workouts</td>\n",
       "      <td>4.0</td>\n",
       "      <td>848</td>\n",
       "      <td>Health and Fitness</td>\n",
       "      <td>21-04-2016</td>\n",
       "      <td>Free</td>\n",
       "      <td>3392.0</td>\n",
       "    </tr>\n",
       "    <tr>\n",
       "      <th>2298</th>\n",
       "      <td>Home Fitness</td>\n",
       "      <td>4.0</td>\n",
       "      <td>990</td>\n",
       "      <td>Health and Fitness</td>\n",
       "      <td>20-03-2014</td>\n",
       "      <td>Free</td>\n",
       "      <td>3960.0</td>\n",
       "    </tr>\n",
       "    <tr>\n",
       "      <th>2302</th>\n",
       "      <td>3D Bones and Organs (Anatomy)</td>\n",
       "      <td>4.0</td>\n",
       "      <td>902</td>\n",
       "      <td>Health and Fitness</td>\n",
       "      <td>10-07-2015</td>\n",
       "      <td>Free</td>\n",
       "      <td>3608.0</td>\n",
       "    </tr>\n",
       "    <tr>\n",
       "      <th>...</th>\n",
       "      <td>...</td>\n",
       "      <td>...</td>\n",
       "      <td>...</td>\n",
       "      <td>...</td>\n",
       "      <td>...</td>\n",
       "      <td>...</td>\n",
       "      <td>...</td>\n",
       "    </tr>\n",
       "    <tr>\n",
       "      <th>2810</th>\n",
       "      <td>Thuoc Viet</td>\n",
       "      <td>3.5</td>\n",
       "      <td>692</td>\n",
       "      <td>Health and Fitness</td>\n",
       "      <td>02-05-2013</td>\n",
       "      <td>Free</td>\n",
       "      <td>2422.0</td>\n",
       "    </tr>\n",
       "    <tr>\n",
       "      <th>2812</th>\n",
       "      <td>BMI Calculator RT</td>\n",
       "      <td>4.0</td>\n",
       "      <td>850</td>\n",
       "      <td>Health and Fitness</td>\n",
       "      <td>26-12-2012</td>\n",
       "      <td>Free</td>\n",
       "      <td>3400.0</td>\n",
       "    </tr>\n",
       "    <tr>\n",
       "      <th>2815</th>\n",
       "      <td>BMICalculatorFree</td>\n",
       "      <td>1.5</td>\n",
       "      <td>882</td>\n",
       "      <td>Health and Fitness</td>\n",
       "      <td>13-12-2013</td>\n",
       "      <td>Free</td>\n",
       "      <td>1323.0</td>\n",
       "    </tr>\n",
       "    <tr>\n",
       "      <th>2816</th>\n",
       "      <td>Lazy Eye Math</td>\n",
       "      <td>3.5</td>\n",
       "      <td>750</td>\n",
       "      <td>Health and Fitness</td>\n",
       "      <td>09-02-2015</td>\n",
       "      <td>Free</td>\n",
       "      <td>2625.0</td>\n",
       "    </tr>\n",
       "    <tr>\n",
       "      <th>2818</th>\n",
       "      <td>Bmiuz</td>\n",
       "      <td>5.0</td>\n",
       "      <td>700</td>\n",
       "      <td>Health and Fitness</td>\n",
       "      <td>22-10-2014</td>\n",
       "      <td>Free</td>\n",
       "      <td>3500.0</td>\n",
       "    </tr>\n",
       "  </tbody>\n",
       "</table>\n",
       "<p>230 rows × 7 columns</p>\n",
       "</div>"
      ],
      "text/plain": [
       "                               Name  Rating  No of people Rated  \\\n",
       "2292                         Fitbit     3.5                 622   \n",
       "2295                   Fitbit Coach     4.0                 717   \n",
       "2296             Full Body Workouts     4.0                 848   \n",
       "2298                   Home Fitness     4.0                 990   \n",
       "2302  3D Bones and Organs (Anatomy)     4.0                 902   \n",
       "...                             ...     ...                 ...   \n",
       "2810                     Thuoc Viet     3.5                 692   \n",
       "2812              BMI Calculator RT     4.0                 850   \n",
       "2815              BMICalculatorFree     1.5                 882   \n",
       "2816                  Lazy Eye Math     3.5                 750   \n",
       "2818                          Bmiuz     5.0                 700   \n",
       "\n",
       "                Category        Date Price  rating_power  \n",
       "2292  Health and Fitness  07-12-2012  Free        2177.0  \n",
       "2295  Health and Fitness  30-08-2017  Free        2868.0  \n",
       "2296  Health and Fitness  21-04-2016  Free        3392.0  \n",
       "2298  Health and Fitness  20-03-2014  Free        3960.0  \n",
       "2302  Health and Fitness  10-07-2015  Free        3608.0  \n",
       "...                  ...         ...   ...           ...  \n",
       "2810  Health and Fitness  02-05-2013  Free        2422.0  \n",
       "2812  Health and Fitness  26-12-2012  Free        3400.0  \n",
       "2815  Health and Fitness  13-12-2013  Free        1323.0  \n",
       "2816  Health and Fitness  09-02-2015  Free        2625.0  \n",
       "2818  Health and Fitness  22-10-2014  Free        3500.0  \n",
       "\n",
       "[230 rows x 7 columns]"
      ]
     },
     "execution_count": 34,
     "metadata": {},
     "output_type": "execute_result"
    }
   ],
   "source": [
    "# Find all apps from `Health and Fitness` category which more than 600 people rated\n",
    "###\n",
    "df[(df.Category == 'Health and Fitness') & (df['No of people Rated'] > 600)]\n",
    "###"
   ]
  },
  {
   "cell_type": "markdown",
   "metadata": {
    "ExecuteTime": {
     "end_time": "2020-07-27T09:55:12.057641Z",
     "start_time": "2020-07-27T09:55:12.019901Z"
    },
    "id": "6jySuTQQ2EqK"
   },
   "source": [
    "Another common use case is applying cusom function via `.apply()`. You can apply any function to dataframe row- or column-wise."
   ]
  },
  {
   "cell_type": "code",
   "execution_count": 35,
   "metadata": {
    "ExecuteTime": {
     "end_time": "2021-07-01T04:01:21.916129Z",
     "start_time": "2021-07-01T04:01:21.798421Z"
    },
    "id": "a5Ztg6qC2EqK",
    "scrolled": true
   },
   "outputs": [
    {
     "data": {
      "text/plain": [
       "0       False\n",
       "1       False\n",
       "2       False\n",
       "3       False\n",
       "4       False\n",
       "        ...  \n",
       "5317     True\n",
       "5318     True\n",
       "5319     True\n",
       "5320     True\n",
       "5321     True\n",
       "Length: 5322, dtype: bool"
      ]
     },
     "execution_count": 35,
     "metadata": {},
     "output_type": "execute_result"
    }
   ],
   "source": [
    "# create a boolean column with non-free apps indicator\n",
    "df.apply(lambda this_df: this_df.Price != 'Free', axis=1)"
   ]
  },
  {
   "cell_type": "code",
   "execution_count": 36,
   "metadata": {
    "ExecuteTime": {
     "end_time": "2021-07-01T04:01:21.932060Z",
     "start_time": "2021-07-01T04:01:21.918099Z"
    },
    "id": "3DtJTew6P1FG"
   },
   "outputs": [
    {
     "data": {
      "text/plain": [
       "0           Free\n",
       "1           Free\n",
       "2           Free\n",
       "3           Free\n",
       "4           Free\n",
       "          ...   \n",
       "5317    ₹ 269.00\n",
       "5318     ₹ 64.00\n",
       "5319    ₹ 269.00\n",
       "5320    ₹ 219.00\n",
       "5321         NaN\n",
       "Name: Price, Length: 5322, dtype: object"
      ]
     },
     "execution_count": 36,
     "metadata": {},
     "output_type": "execute_result"
    }
   ],
   "source": [
    "df['Price']"
   ]
  },
  {
   "cell_type": "code",
   "execution_count": 37,
   "metadata": {
    "ExecuteTime": {
     "end_time": "2021-07-01T04:01:21.947022Z",
     "start_time": "2021-07-01T04:01:21.934055Z"
    },
    "id": "aO1B-GTL2EqK"
   },
   "outputs": [],
   "source": [
    "def price_to_num(p):\n",
    "    \"\"\"\n",
    "    Function to convert price columns to float values.\n",
    "    In case of free app set price to zero.\n",
    "    Leave NaNs as is.\n",
    "    \"\"\"\n",
    "    if p == 'Free':\n",
    "        return 0\n",
    "    elif pd.isna(p):\n",
    "        return p\n",
    "    return float(p[2:].replace(',',''))\n",
    "df['Price Num'] = df['Price'].apply(price_to_num)"
   ]
  },
  {
   "cell_type": "markdown",
   "metadata": {
    "id": "7CMgS57sP1FK"
   },
   "source": [
    "pandas provides various facilities for easily combining together Series or DataFrame with various kinds of set logic for the indexes and relational algebra functionality in the case of join / merge-type operations."
   ]
  },
  {
   "cell_type": "code",
   "execution_count": 49,
   "metadata": {
    "ExecuteTime": {
     "end_time": "2021-07-01T05:50:37.310402Z",
     "start_time": "2021-07-01T05:50:37.195429Z"
    },
    "id": "pFihIPAhP1FM",
    "scrolled": true
   },
   "outputs": [
    {
     "data": {
      "text/html": [
       "<div>\n",
       "<style scoped>\n",
       "    .dataframe tbody tr th:only-of-type {\n",
       "        vertical-align: middle;\n",
       "    }\n",
       "\n",
       "    .dataframe tbody tr th {\n",
       "        vertical-align: top;\n",
       "    }\n",
       "\n",
       "    .dataframe thead th {\n",
       "        text-align: right;\n",
       "    }\n",
       "</style>\n",
       "<table border=\"1\" class=\"dataframe\">\n",
       "  <thead>\n",
       "    <tr style=\"text-align: right;\">\n",
       "      <th></th>\n",
       "      <th>Rating</th>\n",
       "      <th>Claim</th>\n",
       "    </tr>\n",
       "  </thead>\n",
       "  <tbody>\n",
       "    <tr>\n",
       "      <th>0</th>\n",
       "      <td>1.0</td>\n",
       "      <td>very bad</td>\n",
       "    </tr>\n",
       "    <tr>\n",
       "      <th>1</th>\n",
       "      <td>1.5</td>\n",
       "      <td>bad</td>\n",
       "    </tr>\n",
       "    <tr>\n",
       "      <th>2</th>\n",
       "      <td>2.0</td>\n",
       "      <td>bad</td>\n",
       "    </tr>\n",
       "    <tr>\n",
       "      <th>3</th>\n",
       "      <td>2.5</td>\n",
       "      <td>poor</td>\n",
       "    </tr>\n",
       "    <tr>\n",
       "      <th>4</th>\n",
       "      <td>3.0</td>\n",
       "      <td>moderate</td>\n",
       "    </tr>\n",
       "    <tr>\n",
       "      <th>5</th>\n",
       "      <td>3.5</td>\n",
       "      <td>good</td>\n",
       "    </tr>\n",
       "    <tr>\n",
       "      <th>6</th>\n",
       "      <td>4.0</td>\n",
       "      <td>good</td>\n",
       "    </tr>\n",
       "    <tr>\n",
       "      <th>7</th>\n",
       "      <td>4.5</td>\n",
       "      <td>very good</td>\n",
       "    </tr>\n",
       "    <tr>\n",
       "      <th>8</th>\n",
       "      <td>5.0</td>\n",
       "      <td>very good</td>\n",
       "    </tr>\n",
       "  </tbody>\n",
       "</table>\n",
       "</div>"
      ],
      "text/plain": [
       "   Rating      Claim\n",
       "0     1.0   very bad\n",
       "1     1.5        bad\n",
       "2     2.0        bad\n",
       "3     2.5       poor\n",
       "4     3.0   moderate\n",
       "5     3.5       good\n",
       "6     4.0       good\n",
       "7     4.5  very good\n",
       "8     5.0  very good"
      ]
     },
     "execution_count": 49,
     "metadata": {},
     "output_type": "execute_result"
    }
   ],
   "source": [
    "# Create a dataframe with ratings and claims\n",
    "unique_ratings = [1, 1.5, 2, 2.5, 3, 3.5, 4, 4.5, 5]\n",
    "claims = ['very bad', 'bad', 'bad', 'poor', 'moderate', 'good', 'good', 'very good', 'very good']\n",
    "\n",
    "ratings = pd.DataFrame(\n",
    "    {\n",
    "    'Rating': unique_ratings,\n",
    "    'Claim': claims\n",
    "    }\n",
    ")\n",
    "ratings"
   ]
  },
  {
   "cell_type": "code",
   "execution_count": 59,
   "metadata": {
    "ExecuteTime": {
     "end_time": "2021-07-01T05:55:41.047864Z",
     "start_time": "2021-07-01T05:55:41.007972Z"
    },
    "id": "47wTqa10P1FO"
   },
   "outputs": [
    {
     "data": {
      "text/html": [
       "<div>\n",
       "<style scoped>\n",
       "    .dataframe tbody tr th:only-of-type {\n",
       "        vertical-align: middle;\n",
       "    }\n",
       "\n",
       "    .dataframe tbody tr th {\n",
       "        vertical-align: top;\n",
       "    }\n",
       "\n",
       "    .dataframe thead th {\n",
       "        text-align: right;\n",
       "    }\n",
       "</style>\n",
       "<table border=\"1\" class=\"dataframe\">\n",
       "  <thead>\n",
       "    <tr style=\"text-align: right;\">\n",
       "      <th></th>\n",
       "      <th>Name</th>\n",
       "      <th>Rating</th>\n",
       "      <th>No of people Rated</th>\n",
       "      <th>Category</th>\n",
       "      <th>Date</th>\n",
       "      <th>Price</th>\n",
       "      <th>rating_power</th>\n",
       "      <th>Price Num</th>\n",
       "      <th>Claim</th>\n",
       "    </tr>\n",
       "  </thead>\n",
       "  <tbody>\n",
       "    <tr>\n",
       "      <th>0</th>\n",
       "      <td>Dynamic Reader</td>\n",
       "      <td>3.5</td>\n",
       "      <td>268</td>\n",
       "      <td>Books</td>\n",
       "      <td>07-01-2014</td>\n",
       "      <td>Free</td>\n",
       "      <td>938.0</td>\n",
       "      <td>0.0</td>\n",
       "      <td>good</td>\n",
       "    </tr>\n",
       "    <tr>\n",
       "      <th>1</th>\n",
       "      <td>Chemistry, Organic Chemistry and Biochemistry-simpleNeasyApp by WAGmob</td>\n",
       "      <td>3.0</td>\n",
       "      <td>627</td>\n",
       "      <td>Books</td>\n",
       "      <td>08-01-2014</td>\n",
       "      <td>Free</td>\n",
       "      <td>1881.0</td>\n",
       "      <td>0.0</td>\n",
       "      <td>moderate</td>\n",
       "    </tr>\n",
       "    <tr>\n",
       "      <th>2</th>\n",
       "      <td>BookViewer</td>\n",
       "      <td>3.5</td>\n",
       "      <td>593</td>\n",
       "      <td>Books</td>\n",
       "      <td>29-02-2016</td>\n",
       "      <td>Free</td>\n",
       "      <td>2075.5</td>\n",
       "      <td>0.0</td>\n",
       "      <td>good</td>\n",
       "    </tr>\n",
       "    <tr>\n",
       "      <th>3</th>\n",
       "      <td>Brick Instructions</td>\n",
       "      <td>3.5</td>\n",
       "      <td>684</td>\n",
       "      <td>Books</td>\n",
       "      <td>30-01-2018</td>\n",
       "      <td>Free</td>\n",
       "      <td>2394.0</td>\n",
       "      <td>0.0</td>\n",
       "      <td>good</td>\n",
       "    </tr>\n",
       "    <tr>\n",
       "      <th>4</th>\n",
       "      <td>Introduction to Python Programming by GoLearningBus</td>\n",
       "      <td>2.0</td>\n",
       "      <td>634</td>\n",
       "      <td>Books</td>\n",
       "      <td>30-01-2018</td>\n",
       "      <td>Free</td>\n",
       "      <td>1268.0</td>\n",
       "      <td>0.0</td>\n",
       "      <td>bad</td>\n",
       "    </tr>\n",
       "    <tr>\n",
       "      <th>...</th>\n",
       "      <td>...</td>\n",
       "      <td>...</td>\n",
       "      <td>...</td>\n",
       "      <td>...</td>\n",
       "      <td>...</td>\n",
       "      <td>...</td>\n",
       "      <td>...</td>\n",
       "      <td>...</td>\n",
       "      <td>...</td>\n",
       "    </tr>\n",
       "    <tr>\n",
       "      <th>5317</th>\n",
       "      <td>JS King</td>\n",
       "      <td>1.0</td>\n",
       "      <td>720</td>\n",
       "      <td>Developer Tools</td>\n",
       "      <td>19-07-2018</td>\n",
       "      <td>₹ 269.00</td>\n",
       "      <td>720.0</td>\n",
       "      <td>269.0</td>\n",
       "      <td>very bad</td>\n",
       "    </tr>\n",
       "    <tr>\n",
       "      <th>5318</th>\n",
       "      <td>MQTTSniffer</td>\n",
       "      <td>2.5</td>\n",
       "      <td>500</td>\n",
       "      <td>Developer Tools</td>\n",
       "      <td>10-04-2017</td>\n",
       "      <td>₹ 64.00</td>\n",
       "      <td>1250.0</td>\n",
       "      <td>64.0</td>\n",
       "      <td>poor</td>\n",
       "    </tr>\n",
       "    <tr>\n",
       "      <th>5319</th>\n",
       "      <td>Dev Utils - JSON, CSV and XML</td>\n",
       "      <td>4.0</td>\n",
       "      <td>862</td>\n",
       "      <td>Developer Tools</td>\n",
       "      <td>18-11-2019</td>\n",
       "      <td>₹ 269.00</td>\n",
       "      <td>3448.0</td>\n",
       "      <td>269.0</td>\n",
       "      <td>good</td>\n",
       "    </tr>\n",
       "    <tr>\n",
       "      <th>5320</th>\n",
       "      <td>Simply Text</td>\n",
       "      <td>4.0</td>\n",
       "      <td>386</td>\n",
       "      <td>Developer Tools</td>\n",
       "      <td>23-01-2014</td>\n",
       "      <td>₹ 219.00</td>\n",
       "      <td>1544.0</td>\n",
       "      <td>219.0</td>\n",
       "      <td>good</td>\n",
       "    </tr>\n",
       "    <tr>\n",
       "      <th>5321</th>\n",
       "      <td>NaN</td>\n",
       "      <td>NaN</td>\n",
       "      <td>948</td>\n",
       "      <td>NaN</td>\n",
       "      <td>NaN</td>\n",
       "      <td>NaN</td>\n",
       "      <td>NaN</td>\n",
       "      <td>NaN</td>\n",
       "      <td>NaN</td>\n",
       "    </tr>\n",
       "  </tbody>\n",
       "</table>\n",
       "<p>5322 rows × 9 columns</p>\n",
       "</div>"
      ],
      "text/plain": [
       "                                                                        Name  \\\n",
       "0                                                             Dynamic Reader   \n",
       "1     Chemistry, Organic Chemistry and Biochemistry-simpleNeasyApp by WAGmob   \n",
       "2                                                                 BookViewer   \n",
       "3                                                         Brick Instructions   \n",
       "4                        Introduction to Python Programming by GoLearningBus   \n",
       "...                                                                      ...   \n",
       "5317                                                                 JS King   \n",
       "5318                                                             MQTTSniffer   \n",
       "5319                                           Dev Utils - JSON, CSV and XML   \n",
       "5320                                                             Simply Text   \n",
       "5321                                                                     NaN   \n",
       "\n",
       "      Rating  No of people Rated         Category        Date     Price  \\\n",
       "0        3.5                 268            Books  07-01-2014      Free   \n",
       "1        3.0                 627            Books  08-01-2014      Free   \n",
       "2        3.5                 593            Books  29-02-2016      Free   \n",
       "3        3.5                 684            Books  30-01-2018      Free   \n",
       "4        2.0                 634            Books  30-01-2018      Free   \n",
       "...      ...                 ...              ...         ...       ...   \n",
       "5317     1.0                 720  Developer Tools  19-07-2018  ₹ 269.00   \n",
       "5318     2.5                 500  Developer Tools  10-04-2017   ₹ 64.00   \n",
       "5319     4.0                 862  Developer Tools  18-11-2019  ₹ 269.00   \n",
       "5320     4.0                 386  Developer Tools  23-01-2014  ₹ 219.00   \n",
       "5321     NaN                 948              NaN         NaN       NaN   \n",
       "\n",
       "      rating_power  Price Num     Claim  \n",
       "0            938.0        0.0      good  \n",
       "1           1881.0        0.0  moderate  \n",
       "2           2075.5        0.0      good  \n",
       "3           2394.0        0.0      good  \n",
       "4           1268.0        0.0       bad  \n",
       "...            ...        ...       ...  \n",
       "5317         720.0      269.0  very bad  \n",
       "5318        1250.0       64.0      poor  \n",
       "5319        3448.0      269.0      good  \n",
       "5320        1544.0      219.0      good  \n",
       "5321           NaN        NaN       NaN  \n",
       "\n",
       "[5322 rows x 9 columns]"
      ]
     },
     "execution_count": 59,
     "metadata": {},
     "output_type": "execute_result"
    }
   ],
   "source": [
    "# Merge initial df to obtain claim information\n",
    "pd.merge(\n",
    "    df, ratings, \n",
    "    on='Rating', \n",
    "    how='left'\n",
    ")"
   ]
  },
  {
   "cell_type": "markdown",
   "metadata": {
    "id": "nJktlM6HP1FR"
   },
   "source": [
    "pandas also allows to process data divided into groups using `groupy` statement"
   ]
  },
  {
   "cell_type": "code",
   "execution_count": 40,
   "metadata": {
    "ExecuteTime": {
     "end_time": "2021-07-01T04:01:22.117879Z",
     "start_time": "2021-07-01T04:01:22.056727Z"
    },
    "id": "c7ybXmWjP1FS"
   },
   "outputs": [
    {
     "data": {
      "text/html": [
       "<div>\n",
       "<style scoped>\n",
       "    .dataframe tbody tr th:only-of-type {\n",
       "        vertical-align: middle;\n",
       "    }\n",
       "\n",
       "    .dataframe tbody tr th {\n",
       "        vertical-align: top;\n",
       "    }\n",
       "\n",
       "    .dataframe thead tr th {\n",
       "        text-align: left;\n",
       "    }\n",
       "\n",
       "    .dataframe thead tr:last-of-type th {\n",
       "        text-align: right;\n",
       "    }\n",
       "</style>\n",
       "<table border=\"1\" class=\"dataframe\">\n",
       "  <thead>\n",
       "    <tr>\n",
       "      <th></th>\n",
       "      <th colspan=\"3\" halign=\"left\">Rating</th>\n",
       "      <th colspan=\"3\" halign=\"left\">No of people Rated</th>\n",
       "      <th colspan=\"3\" halign=\"left\">rating_power</th>\n",
       "      <th colspan=\"3\" halign=\"left\">Price Num</th>\n",
       "    </tr>\n",
       "    <tr>\n",
       "      <th></th>\n",
       "      <th>mean</th>\n",
       "      <th>max</th>\n",
       "      <th>min</th>\n",
       "      <th>mean</th>\n",
       "      <th>max</th>\n",
       "      <th>min</th>\n",
       "      <th>mean</th>\n",
       "      <th>max</th>\n",
       "      <th>min</th>\n",
       "      <th>mean</th>\n",
       "      <th>max</th>\n",
       "      <th>min</th>\n",
       "    </tr>\n",
       "    <tr>\n",
       "      <th>Category</th>\n",
       "      <th></th>\n",
       "      <th></th>\n",
       "      <th></th>\n",
       "      <th></th>\n",
       "      <th></th>\n",
       "      <th></th>\n",
       "      <th></th>\n",
       "      <th></th>\n",
       "      <th></th>\n",
       "      <th></th>\n",
       "      <th></th>\n",
       "      <th></th>\n",
       "    </tr>\n",
       "  </thead>\n",
       "  <tbody>\n",
       "    <tr>\n",
       "      <th>Books</th>\n",
       "      <td>3.791372</td>\n",
       "      <td>5.0</td>\n",
       "      <td>1.0</td>\n",
       "      <td>548.545969</td>\n",
       "      <td>1000</td>\n",
       "      <td>100</td>\n",
       "      <td>2091.871287</td>\n",
       "      <td>4990.0</td>\n",
       "      <td>159.0</td>\n",
       "      <td>23.845827</td>\n",
       "      <td>2599.0</td>\n",
       "      <td>0.0</td>\n",
       "    </tr>\n",
       "    <tr>\n",
       "      <th>Business</th>\n",
       "      <td>3.602356</td>\n",
       "      <td>5.0</td>\n",
       "      <td>1.0</td>\n",
       "      <td>549.459499</td>\n",
       "      <td>999</td>\n",
       "      <td>100</td>\n",
       "      <td>1978.148748</td>\n",
       "      <td>4920.0</td>\n",
       "      <td>130.0</td>\n",
       "      <td>27.763181</td>\n",
       "      <td>1624.0</td>\n",
       "      <td>0.0</td>\n",
       "    </tr>\n",
       "    <tr>\n",
       "      <th>Developer Tools</th>\n",
       "      <td>3.886000</td>\n",
       "      <td>5.0</td>\n",
       "      <td>1.0</td>\n",
       "      <td>545.356000</td>\n",
       "      <td>999</td>\n",
       "      <td>100</td>\n",
       "      <td>2111.503000</td>\n",
       "      <td>4945.0</td>\n",
       "      <td>118.0</td>\n",
       "      <td>45.772000</td>\n",
       "      <td>5449.0</td>\n",
       "      <td>0.0</td>\n",
       "    </tr>\n",
       "    <tr>\n",
       "      <th>Food and Dining</th>\n",
       "      <td>3.789157</td>\n",
       "      <td>5.0</td>\n",
       "      <td>1.0</td>\n",
       "      <td>550.891566</td>\n",
       "      <td>994</td>\n",
       "      <td>102</td>\n",
       "      <td>2077.198795</td>\n",
       "      <td>4900.0</td>\n",
       "      <td>242.0</td>\n",
       "      <td>0.000000</td>\n",
       "      <td>0.0</td>\n",
       "      <td>0.0</td>\n",
       "    </tr>\n",
       "    <tr>\n",
       "      <th>Government and Politics</th>\n",
       "      <td>4.050000</td>\n",
       "      <td>5.0</td>\n",
       "      <td>1.0</td>\n",
       "      <td>548.271429</td>\n",
       "      <td>984</td>\n",
       "      <td>115</td>\n",
       "      <td>2250.721429</td>\n",
       "      <td>4875.0</td>\n",
       "      <td>115.0</td>\n",
       "      <td>0.000000</td>\n",
       "      <td>0.0</td>\n",
       "      <td>0.0</td>\n",
       "    </tr>\n",
       "    <tr>\n",
       "      <th>Health and Fitness</th>\n",
       "      <td>3.785579</td>\n",
       "      <td>5.0</td>\n",
       "      <td>1.0</td>\n",
       "      <td>558.506641</td>\n",
       "      <td>998</td>\n",
       "      <td>105</td>\n",
       "      <td>2100.012334</td>\n",
       "      <td>4965.0</td>\n",
       "      <td>178.0</td>\n",
       "      <td>0.000000</td>\n",
       "      <td>0.0</td>\n",
       "      <td>0.0</td>\n",
       "    </tr>\n",
       "    <tr>\n",
       "      <th>Kids and Family</th>\n",
       "      <td>3.947826</td>\n",
       "      <td>5.0</td>\n",
       "      <td>1.0</td>\n",
       "      <td>553.136232</td>\n",
       "      <td>997</td>\n",
       "      <td>103</td>\n",
       "      <td>2190.501449</td>\n",
       "      <td>4880.0</td>\n",
       "      <td>108.0</td>\n",
       "      <td>0.000000</td>\n",
       "      <td>0.0</td>\n",
       "      <td>0.0</td>\n",
       "    </tr>\n",
       "    <tr>\n",
       "      <th>Lifestyle</th>\n",
       "      <td>3.850610</td>\n",
       "      <td>5.0</td>\n",
       "      <td>1.0</td>\n",
       "      <td>554.928862</td>\n",
       "      <td>1000</td>\n",
       "      <td>100</td>\n",
       "      <td>2155.627033</td>\n",
       "      <td>4990.0</td>\n",
       "      <td>133.0</td>\n",
       "      <td>0.000000</td>\n",
       "      <td>0.0</td>\n",
       "      <td>0.0</td>\n",
       "    </tr>\n",
       "    <tr>\n",
       "      <th>Multimedia Design</th>\n",
       "      <td>3.551282</td>\n",
       "      <td>5.0</td>\n",
       "      <td>1.0</td>\n",
       "      <td>595.538462</td>\n",
       "      <td>993</td>\n",
       "      <td>110</td>\n",
       "      <td>2149.482906</td>\n",
       "      <td>4835.0</td>\n",
       "      <td>282.5</td>\n",
       "      <td>0.000000</td>\n",
       "      <td>0.0</td>\n",
       "      <td>0.0</td>\n",
       "    </tr>\n",
       "    <tr>\n",
       "      <th>Music</th>\n",
       "      <td>3.759628</td>\n",
       "      <td>5.0</td>\n",
       "      <td>1.0</td>\n",
       "      <td>539.104914</td>\n",
       "      <td>1000</td>\n",
       "      <td>102</td>\n",
       "      <td>2033.223772</td>\n",
       "      <td>4910.0</td>\n",
       "      <td>129.0</td>\n",
       "      <td>0.000000</td>\n",
       "      <td>0.0</td>\n",
       "      <td>0.0</td>\n",
       "    </tr>\n",
       "    <tr>\n",
       "      <th>Navigation and Maps</th>\n",
       "      <td>3.801948</td>\n",
       "      <td>5.0</td>\n",
       "      <td>1.0</td>\n",
       "      <td>551.032468</td>\n",
       "      <td>986</td>\n",
       "      <td>108</td>\n",
       "      <td>2092.801948</td>\n",
       "      <td>4930.0</td>\n",
       "      <td>108.0</td>\n",
       "      <td>0.000000</td>\n",
       "      <td>0.0</td>\n",
       "      <td>0.0</td>\n",
       "    </tr>\n",
       "    <tr>\n",
       "      <th>News and Weather</th>\n",
       "      <td>3.837474</td>\n",
       "      <td>5.0</td>\n",
       "      <td>1.0</td>\n",
       "      <td>549.453416</td>\n",
       "      <td>998</td>\n",
       "      <td>100</td>\n",
       "      <td>2108.721532</td>\n",
       "      <td>4820.0</td>\n",
       "      <td>211.0</td>\n",
       "      <td>0.000000</td>\n",
       "      <td>0.0</td>\n",
       "      <td>0.0</td>\n",
       "    </tr>\n",
       "    <tr>\n",
       "      <th>Social</th>\n",
       "      <td>3.847561</td>\n",
       "      <td>5.0</td>\n",
       "      <td>1.0</td>\n",
       "      <td>575.158537</td>\n",
       "      <td>1000</td>\n",
       "      <td>111</td>\n",
       "      <td>2214.419207</td>\n",
       "      <td>4995.0</td>\n",
       "      <td>140.0</td>\n",
       "      <td>0.000000</td>\n",
       "      <td>0.0</td>\n",
       "      <td>0.0</td>\n",
       "    </tr>\n",
       "  </tbody>\n",
       "</table>\n",
       "</div>"
      ],
      "text/plain": [
       "                           Rating           No of people Rated             \\\n",
       "                             mean  max  min               mean   max  min   \n",
       "Category                                                                    \n",
       "Books                    3.791372  5.0  1.0         548.545969  1000  100   \n",
       "Business                 3.602356  5.0  1.0         549.459499   999  100   \n",
       "Developer Tools          3.886000  5.0  1.0         545.356000   999  100   \n",
       "Food and Dining          3.789157  5.0  1.0         550.891566   994  102   \n",
       "Government and Politics  4.050000  5.0  1.0         548.271429   984  115   \n",
       "Health and Fitness       3.785579  5.0  1.0         558.506641   998  105   \n",
       "Kids and Family          3.947826  5.0  1.0         553.136232   997  103   \n",
       "Lifestyle                3.850610  5.0  1.0         554.928862  1000  100   \n",
       "Multimedia Design        3.551282  5.0  1.0         595.538462   993  110   \n",
       "Music                    3.759628  5.0  1.0         539.104914  1000  102   \n",
       "Navigation and Maps      3.801948  5.0  1.0         551.032468   986  108   \n",
       "News and Weather         3.837474  5.0  1.0         549.453416   998  100   \n",
       "Social                   3.847561  5.0  1.0         575.158537  1000  111   \n",
       "\n",
       "                        rating_power                 Price Num               \n",
       "                                mean     max    min       mean     max  min  \n",
       "Category                                                                     \n",
       "Books                    2091.871287  4990.0  159.0  23.845827  2599.0  0.0  \n",
       "Business                 1978.148748  4920.0  130.0  27.763181  1624.0  0.0  \n",
       "Developer Tools          2111.503000  4945.0  118.0  45.772000  5449.0  0.0  \n",
       "Food and Dining          2077.198795  4900.0  242.0   0.000000     0.0  0.0  \n",
       "Government and Politics  2250.721429  4875.0  115.0   0.000000     0.0  0.0  \n",
       "Health and Fitness       2100.012334  4965.0  178.0   0.000000     0.0  0.0  \n",
       "Kids and Family          2190.501449  4880.0  108.0   0.000000     0.0  0.0  \n",
       "Lifestyle                2155.627033  4990.0  133.0   0.000000     0.0  0.0  \n",
       "Multimedia Design        2149.482906  4835.0  282.5   0.000000     0.0  0.0  \n",
       "Music                    2033.223772  4910.0  129.0   0.000000     0.0  0.0  \n",
       "Navigation and Maps      2092.801948  4930.0  108.0   0.000000     0.0  0.0  \n",
       "News and Weather         2108.721532  4820.0  211.0   0.000000     0.0  0.0  \n",
       "Social                   2214.419207  4995.0  140.0   0.000000     0.0  0.0  "
      ]
     },
     "execution_count": 40,
     "metadata": {},
     "output_type": "execute_result"
    }
   ],
   "source": [
    "df.groupby(['Category']).agg(['mean', 'max', 'min'])"
   ]
  },
  {
   "cell_type": "markdown",
   "metadata": {
    "ExecuteTime": {
     "end_time": "2020-07-27T09:56:04.421117Z",
     "start_time": "2020-07-27T09:56:04.405491Z"
    },
    "id": "8B0wbYRN2EqL"
   },
   "source": [
    "That's it for now. Pandas has user guide with best practices for all functionality. Find it [here](https://pandas.pydata.org/docs/user_guide/index.html). Pandas is one of the vitals for data scientist, spending more time to learn it is highly recommended."
   ]
  },
  {
   "cell_type": "code",
   "execution_count": 68,
   "metadata": {
    "ExecuteTime": {
     "end_time": "2021-07-01T06:02:41.891363Z",
     "start_time": "2021-07-01T06:02:41.861389Z"
    }
   },
   "outputs": [
    {
     "data": {
      "text/html": [
       "<div>\n",
       "<style scoped>\n",
       "    .dataframe tbody tr th:only-of-type {\n",
       "        vertical-align: middle;\n",
       "    }\n",
       "\n",
       "    .dataframe tbody tr th {\n",
       "        vertical-align: top;\n",
       "    }\n",
       "\n",
       "    .dataframe thead th {\n",
       "        text-align: right;\n",
       "    }\n",
       "</style>\n",
       "<table border=\"1\" class=\"dataframe\">\n",
       "  <thead>\n",
       "    <tr style=\"text-align: right;\">\n",
       "      <th></th>\n",
       "      <th>Rating</th>\n",
       "      <th>No of people Rated</th>\n",
       "      <th>rating_power</th>\n",
       "      <th>Price Num</th>\n",
       "    </tr>\n",
       "    <tr>\n",
       "      <th>Name</th>\n",
       "      <th></th>\n",
       "      <th></th>\n",
       "      <th></th>\n",
       "      <th></th>\n",
       "    </tr>\n",
       "  </thead>\n",
       "  <tbody>\n",
       "    <tr>\n",
       "      <th>#1 Weather</th>\n",
       "      <td>3.5</td>\n",
       "      <td>681.0</td>\n",
       "      <td>2383.5</td>\n",
       "      <td>0.0</td>\n",
       "    </tr>\n",
       "    <tr>\n",
       "      <th>#BABYLON'13</th>\n",
       "      <td>3.5</td>\n",
       "      <td>966.0</td>\n",
       "      <td>3381.0</td>\n",
       "      <td>0.0</td>\n",
       "    </tr>\n",
       "    <tr>\n",
       "      <th>#Code</th>\n",
       "      <td>4.0</td>\n",
       "      <td>855.0</td>\n",
       "      <td>3420.0</td>\n",
       "      <td>0.0</td>\n",
       "    </tr>\n",
       "    <tr>\n",
       "      <th>#UWP</th>\n",
       "      <td>4.0</td>\n",
       "      <td>537.0</td>\n",
       "      <td>2148.0</td>\n",
       "      <td>0.0</td>\n",
       "    </tr>\n",
       "    <tr>\n",
       "      <th>#Yatzy</th>\n",
       "      <td>4.0</td>\n",
       "      <td>302.0</td>\n",
       "      <td>1208.0</td>\n",
       "      <td>0.0</td>\n",
       "    </tr>\n",
       "    <tr>\n",
       "      <th>...</th>\n",
       "      <td>...</td>\n",
       "      <td>...</td>\n",
       "      <td>...</td>\n",
       "      <td>...</td>\n",
       "    </tr>\n",
       "    <tr>\n",
       "      <th>追书悦读</th>\n",
       "      <td>3.5</td>\n",
       "      <td>864.0</td>\n",
       "      <td>3024.0</td>\n",
       "      <td>0.0</td>\n",
       "    </tr>\n",
       "    <tr>\n",
       "      <th>道学经典(有声)</th>\n",
       "      <td>5.0</td>\n",
       "      <td>813.0</td>\n",
       "      <td>4065.0</td>\n",
       "      <td>0.0</td>\n",
       "    </tr>\n",
       "    <tr>\n",
       "      <th>降水にゃうきゃすと</th>\n",
       "      <td>4.5</td>\n",
       "      <td>543.0</td>\n",
       "      <td>2443.5</td>\n",
       "      <td>0.0</td>\n",
       "    </tr>\n",
       "    <tr>\n",
       "      <th>鲁迅全集(有声)</th>\n",
       "      <td>5.0</td>\n",
       "      <td>594.0</td>\n",
       "      <td>2970.0</td>\n",
       "      <td>0.0</td>\n",
       "    </tr>\n",
       "    <tr>\n",
       "      <th>라디오와 멀티미디어(Radio and Multimedia)</th>\n",
       "      <td>3.5</td>\n",
       "      <td>919.0</td>\n",
       "      <td>3216.5</td>\n",
       "      <td>0.0</td>\n",
       "    </tr>\n",
       "  </tbody>\n",
       "</table>\n",
       "<p>5317 rows × 4 columns</p>\n",
       "</div>"
      ],
      "text/plain": [
       "                                  Rating  No of people Rated  rating_power  \\\n",
       "Name                                                                         \n",
       "#1 Weather                           3.5               681.0        2383.5   \n",
       "#BABYLON'13                          3.5               966.0        3381.0   \n",
       "#Code                                4.0               855.0        3420.0   \n",
       "#UWP                                 4.0               537.0        2148.0   \n",
       "#Yatzy                               4.0               302.0        1208.0   \n",
       "...                                  ...                 ...           ...   \n",
       "追书悦读                                 3.5               864.0        3024.0   \n",
       "道学经典(有声)                             5.0               813.0        4065.0   \n",
       "降水にゃうきゃすと                            4.5               543.0        2443.5   \n",
       "鲁迅全集(有声)                             5.0               594.0        2970.0   \n",
       "라디오와 멀티미디어(Radio and Multimedia)     3.5               919.0        3216.5   \n",
       "\n",
       "                                  Price Num  \n",
       "Name                                         \n",
       "#1 Weather                              0.0  \n",
       "#BABYLON'13                             0.0  \n",
       "#Code                                   0.0  \n",
       "#UWP                                    0.0  \n",
       "#Yatzy                                  0.0  \n",
       "...                                     ...  \n",
       "追书悦读                                    0.0  \n",
       "道学经典(有声)                                0.0  \n",
       "降水にゃうきゃすと                               0.0  \n",
       "鲁迅全集(有声)                                0.0  \n",
       "라디오와 멀티미디어(Radio and Multimedia)        0.0  \n",
       "\n",
       "[5317 rows x 4 columns]"
      ]
     },
     "execution_count": 68,
     "metadata": {},
     "output_type": "execute_result"
    }
   ],
   "source": [
    "df.groupby([\"Name\"]).agg(\"mean\")"
   ]
  }
 ],
 "metadata": {
  "colab": {
   "collapsed_sections": [],
   "name": "be_workshop-filled.ipynb",
   "provenance": []
  },
  "kernelspec": {
   "display_name": "Python 3",
   "language": "python",
   "name": "python3"
  },
  "language_info": {
   "codemirror_mode": {
    "name": "ipython",
    "version": 3
   },
   "file_extension": ".py",
   "mimetype": "text/x-python",
   "name": "python",
   "nbconvert_exporter": "python",
   "pygments_lexer": "ipython3",
   "version": "3.8.5"
  },
  "toc": {
   "base_numbering": 1,
   "nav_menu": {},
   "number_sections": true,
   "sideBar": true,
   "skip_h1_title": false,
   "title_cell": "Table of Contents",
   "title_sidebar": "Contents",
   "toc_cell": false,
   "toc_position": {
    "height": "calc(100% - 180px)",
    "left": "10px",
    "top": "150px",
    "width": "349.091px"
   },
   "toc_section_display": true,
   "toc_window_display": false
  },
  "varInspector": {
   "cols": {
    "lenName": 16,
    "lenType": 16,
    "lenVar": 40
   },
   "kernels_config": {
    "python": {
     "delete_cmd_postfix": "",
     "delete_cmd_prefix": "del ",
     "library": "var_list.py",
     "varRefreshCmd": "print(var_dic_list())"
    },
    "r": {
     "delete_cmd_postfix": ") ",
     "delete_cmd_prefix": "rm(",
     "library": "var_list.r",
     "varRefreshCmd": "cat(var_dic_list()) "
    }
   },
   "types_to_exclude": [
    "module",
    "function",
    "builtin_function_or_method",
    "instance",
    "_Feature"
   ],
   "window_display": false
  }
 },
 "nbformat": 4,
 "nbformat_minor": 1
}
