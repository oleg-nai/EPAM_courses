{
 "cells": [
  {
   "cell_type": "markdown",
   "metadata": {
    "id": "s3lCVVWYgGXw"
   },
   "source": [
    "# House prices prediction\n",
    "\n",
    "Link on competition dataset: https://www.kaggle.com/c/house-prices-advanced-regression-techniques\n"
   ]
  },
  {
   "cell_type": "markdown",
   "metadata": {
    "id": "ymzDpBuDgNuv"
   },
   "source": [
    "\n",
    "# Imports"
   ]
  },
  {
   "cell_type": "code",
   "execution_count": 72,
   "metadata": {
    "ExecuteTime": {
     "end_time": "2021-08-02T10:42:54.634699Z",
     "start_time": "2021-08-02T10:42:54.621733Z"
    },
    "id": "a_j384aDl0MJ"
   },
   "outputs": [],
   "source": [
    "import pandas as pd\n",
    "import numpy as np\n",
    "import os\n",
    "import random\n",
    "import warnings\n",
    "warnings.filterwarnings('ignore')\n",
    "\n",
    "import seaborn as sns\n",
    "import matplotlib.pyplot as plt\n",
    "from pathlib import Path\n",
    "\n",
    "from pandas_profiling import ProfileReport\n",
    "from sklearn.model_selection import train_test_split, cross_val_score, GridSearchCV, KFold\n",
    "from sklearn.linear_model import LinearRegression, Ridge, Lasso, ElasticNet\n",
    "from sklearn.preprocessing import StandardScaler, RobustScaler, OneHotEncoder\n",
    "from sklearn.impute import SimpleImputer\n",
    "from sklearn.pipeline import Pipeline, make_pipeline\n",
    "from sklearn_pandas import DataFrameMapper, gen_features\n",
    "from sklearn import metrics\n",
    "from sklearn.metrics import mean_squared_error, r2_score, mean_absolute_error\n",
    "from sklearn.base import clone\n",
    "\n",
    "plt.rcParams['figure.figsize'] = 10, 7\n",
    "plt.style.use('ggplot')\n",
    "\n",
    "from IPython.core.interactiveshell import InteractiveShell\n",
    "InteractiveShell.ast_node_interactivity = \"all\""
   ]
  },
  {
   "cell_type": "code",
   "execution_count": 73,
   "metadata": {
    "ExecuteTime": {
     "end_time": "2021-08-02T10:42:54.650695Z",
     "start_time": "2021-08-02T10:42:54.637691Z"
    },
    "colab": {
     "base_uri": "https://localhost:8080/"
    },
    "id": "odXvg2eQVInj",
    "outputId": "e60c2e26-638b-4e34-c1de-f7d481541c39"
   },
   "outputs": [],
   "source": [
    "# from google.colab import drive\n",
    "# drive.mount('/content/gdrive')"
   ]
  },
  {
   "cell_type": "code",
   "execution_count": 74,
   "metadata": {
    "ExecuteTime": {
     "end_time": "2021-08-02T10:42:54.714486Z",
     "start_time": "2021-08-02T10:42:54.652653Z"
    },
    "id": "a5BdV1qo3FSp"
   },
   "outputs": [
    {
     "ename": "AttributeError",
     "evalue": "module 'os' has no attribute 'get_'",
     "output_type": "error",
     "traceback": [
      "\u001b[1;31m---------------------------------------------------------------------------\u001b[0m",
      "\u001b[1;31mAttributeError\u001b[0m                            Traceback (most recent call last)",
      "\u001b[1;32m<ipython-input-74-b72a7e7288bf>\u001b[0m in \u001b[0;36m<module>\u001b[1;34m\u001b[0m\n\u001b[1;32m----> 1\u001b[1;33m \u001b[0mos\u001b[0m\u001b[1;33m.\u001b[0m\u001b[0mget_\u001b[0m\u001b[1;33m\u001b[0m\u001b[1;33m\u001b[0m\u001b[0m\n\u001b[0m",
      "\u001b[1;31mAttributeError\u001b[0m: module 'os' has no attribute 'get_'"
     ]
    }
   ],
   "source": [
    "os.get_"
   ]
  },
  {
   "cell_type": "code",
   "execution_count": 77,
   "metadata": {
    "ExecuteTime": {
     "end_time": "2021-08-02T10:43:06.855773Z",
     "start_time": "2021-08-02T10:43:06.840770Z"
    },
    "colab": {
     "base_uri": "https://localhost:8080/",
     "height": 131
    },
    "id": "Mffo4ypRu7bd",
    "outputId": "aa0a0eb1-c8ea-411d-f8cc-ae87e2bb9470"
   },
   "outputs": [],
   "source": [
    "# Commonly used constants and paths\n",
    "SEED = 42\n",
    "DATA_PATH = \"Data\"\n",
    "TRAIN_PATH = f'{DATA_PATH}/train.csv'\n",
    "TEST_PATH = f'{DATA_PATH}/test.csv'\n",
    "DESCRIPTION = f'{DATA_PATH}/data_description.txt'\n",
    "TARGET = 'SalePrice'\n",
    "NAN_CATEGORY = '<NAN>'"
   ]
  },
  {
   "cell_type": "markdown",
   "metadata": {
    "id": "K-h9sIjGi17K"
   },
   "source": [
    "# Functions"
   ]
  },
  {
   "cell_type": "code",
   "execution_count": 78,
   "metadata": {
    "ExecuteTime": {
     "end_time": "2021-08-02T10:43:07.943044Z",
     "start_time": "2021-08-02T10:43:07.934068Z"
    },
    "id": "_meFLsUzi0I_"
   },
   "outputs": [],
   "source": [
    "def univariate_regplot(x, y, data):\n",
    "    ax = sns.regplot(x=x, y=y, data=train)\n",
    "    ax.set_title(f'{y} and {x} relationship')\n",
    "    return ax"
   ]
  },
  {
   "cell_type": "markdown",
   "metadata": {
    "id": "tJAzwKrVfvsX"
   },
   "source": [
    "# Contents:  \n",
    "1. **gradient descend**  \n",
    "Basic step of every machine learning training pipeline.  \n",
    "Literally it is a *learning* step  \n",
    "2. **train/test split + cross validation** (kfold, timeseries split)  \n",
    "train - to fit model,   \n",
    "validation - to tune hyperparameters,  \n",
    "test - to get final score, assess generalization power of model, find under/over- fitting  \n",
    "3. **regression problem / model trainig pipeline in sklearn** \n",
    "sklearn model interface  \n",
    "prepare data -> get model instance -> choose metric and loss function -> fit on train -> predict on test -> get final score -> repeat if nessesary  \n",
    "4. **metrics**   \n",
    "5. **regularization** \n",
    "6. **grid search** "
   ]
  },
  {
   "cell_type": "markdown",
   "metadata": {
    "id": "V1HsPVUugyKY"
   },
   "source": [
    "# Gradient descend"
   ]
  },
  {
   "cell_type": "code",
   "execution_count": 79,
   "metadata": {
    "ExecuteTime": {
     "end_time": "2021-08-02T10:43:08.751590Z",
     "start_time": "2021-08-02T10:43:08.719625Z"
    },
    "id": "z8sivU6w5icD"
   },
   "outputs": [],
   "source": [
    "# m denotes the number of examples here, not the number of features\n",
    "def gradientDescent(x, y, theta, alpha, m, num_iterations):\n",
    "    \"\"\"\n",
    "    run gradient descent cycle \n",
    "\n",
    "    x - train data\n",
    "    y - target\n",
    "    theta - initial parameter estimations\n",
    "    alpha - learning rate\n",
    "    m - number of examples in x\n",
    "    \"\"\"\n",
    "    xTrans = x.transpose()\n",
    "    history = []\n",
    "    for i in range(0, num_iterations):\n",
    "        hypothesis = np.dot(x, theta)\n",
    "        loss = hypothesis - y\n",
    "        # avg cost per example (the 2 in 2*m doesn't really matter here.\n",
    "        # But to be consistent with the gradient, I include it)\n",
    "        cost = np.sum(loss ** 2) / (2 * m)\n",
    "        if i%1000 == 0:\n",
    "            print(f\"Iteration {i} | Cost: {cost} | Theta: {theta}\")\n",
    "        if i==num_iterations-1:\n",
    "            print(f\"Loss on final step: {cost} | Theta: {theta}\")\n",
    "        # avg gradient per example\n",
    "\n",
    "        gradient = np.dot(xTrans, loss) / m\n",
    "        # update\n",
    "        theta = theta - alpha * gradient\n",
    "        #log history\n",
    "        history.append({'cost':cost,'theta':theta})\n",
    "    return theta, history\n",
    "\n",
    "\n",
    "def genData(numPoints, intercept, slope, variance):\n",
    "    \"\"\"\n",
    "    generate syntetic dataset\n",
    "    \n",
    "    numPoints - number of observations in generated dataset\n",
    "    intercept, slope - ground truth parameters of equation\n",
    "    variance - synthetic noize value\n",
    "    \"\"\"\n",
    "    x = np.zeros(shape=(numPoints, 2))\n",
    "    y = np.zeros(shape=numPoints)\n",
    "    # basically a straight line\n",
    "    for i in range(0, numPoints):\n",
    "        # bias feature\n",
    "        x[i][0] = 1\n",
    "        x[i][1] = i\n",
    "        # our target variable\n",
    "        y[i] = (slope * i + intercept) + random.uniform(-1, 1) * variance\n",
    "    return x, y"
   ]
  },
  {
   "cell_type": "code",
   "execution_count": 80,
   "metadata": {
    "ExecuteTime": {
     "end_time": "2021-08-02T10:43:09.016832Z",
     "start_time": "2021-08-02T10:43:08.861210Z"
    },
    "colab": {
     "base_uri": "https://localhost:8080/",
     "height": 446
    },
    "id": "z4EndzUp77vb",
    "outputId": "9336aaa0-cf5e-4029-c817-f439ac69adfb"
   },
   "outputs": [
    {
     "data": {
      "image/png": "[encoded data removed]",
      "text/plain": [
       "<Figure size 720x504 with 1 Axes>"
      ]
     },
     "metadata": {},
     "output_type": "display_data"
    }
   ],
   "source": [
    "# gen 100 points with a bias of 25 and 10 variance as a bit of noise\n",
    "x, y = genData(100, 12.4, 3, 10)\n",
    "plt.scatter(x[:,1],y);\n",
    "plt.ylim([0,200]);\n",
    "plt.title('Generated data');\n",
    "plt.ylabel('Target');\n",
    "plt.xlabel('Predictor');"
   ]
  },
  {
   "cell_type": "code",
   "execution_count": 81,
   "metadata": {
    "ExecuteTime": {
     "end_time": "2021-08-02T10:43:09.930495Z",
     "start_time": "2021-08-02T10:43:09.019786Z"
    },
    "colab": {
     "base_uri": "https://localhost:8080/",
     "height": 932
    },
    "id": "1dhNdNKOuCd2",
    "outputId": "6bd3a574-ad20-4e3d-ad53-aaa83333c641"
   },
   "outputs": [
    {
     "name": "stdout",
     "output_type": "stream",
     "text": [
      "Iteration 0 | Cost: 7767.760940252041 | Theta: [1. 1.]\n",
      "Iteration 1000 | Cost: 31.789290793574743 | Theta: [2.53915685 3.14687759]\n",
      "Iteration 2000 | Cost: 28.26234805132642 | Theta: [3.86611634 3.12687163]\n",
      "Iteration 3000 | Cost: 25.52578124678343 | Theta: [5.03497362 3.1092493 ]\n",
      "Iteration 4000 | Cost: 23.402469805965165 | Theta: [6.06456598 3.09372661]\n",
      "Iteration 5000 | Cost: 21.75498527636218 | Theta: [6.9714863  3.08005339]\n",
      "Iteration 6000 | Cost: 20.476696456783625 | Theta: [7.77035049 3.06800928]\n",
      "Iteration 7000 | Cost: 19.484867837516823 | Theta: [8.47403303 3.05740018]\n",
      "Iteration 8000 | Cost: 18.715304656700607 | Theta: [9.09387446 3.04805511]\n",
      "Iteration 9000 | Cost: 18.118197981450884 | Theta: [9.63986412 3.03982348]\n",
      "Iteration 10000 | Cost: 17.654900892250662 | Theta: [10.12080118  3.03257261]\n",
      "Iteration 11000 | Cost: 17.29542711351319 | Theta: [10.54443641  3.02618565]\n",
      "Iteration 12000 | Cost: 17.016510192573993 | Theta: [10.9175971   3.02055968]\n",
      "Iteration 13000 | Cost: 16.80009761010579 | Theta: [11.24629711  3.01560402]\n",
      "Iteration 14000 | Cost: 16.632182355294937 | Theta: [11.53583375  3.01123881]\n",
      "Iteration 15000 | Cost: 16.501896341068672 | Theta: [11.7908732  3.0073937]\n",
      "Iteration 16000 | Cost: 16.40080698190301 | Theta: [12.01552566  3.00400672]\n",
      "Iteration 17000 | Cost: 16.322371406164457 | Theta: [12.21341163  3.00102328]\n",
      "Iteration 18000 | Cost: 16.261512977619468 | Theta: [12.38772024  2.99839531]\n",
      "Iteration 19000 | Cost: 16.214292717041374 | Theta: [12.54126063  2.99608045]\n",
      "Iteration 20000 | Cost: 16.177654357123636 | Theta: [12.67650727  2.9940414 ]\n",
      "Iteration 21000 | Cost: 16.14922652972435 | Theta: [12.79563978  2.99224529]\n",
      "Iteration 22000 | Cost: 16.12716928228045 | Theta: [12.9005781   2.99066319]\n",
      "Iteration 23000 | Cost: 16.11005498937418 | Theta: [12.99301342  2.98926958]\n",
      "Iteration 24000 | Cost: 16.096775951614486 | Theta: [13.07443542  2.98804202]\n",
      "Iteration 25000 | Cost: 16.086472701296834 | Theta: [13.14615629  2.98696072]\n",
      "Iteration 26000 | Cost: 16.078478374521843 | Theta: [13.2093319   2.98600825]\n",
      "Iteration 27000 | Cost: 16.072275549334165 | Theta: [13.26498037  2.98516926]\n",
      "Iteration 28000 | Cost: 16.06746275628834 | Theta: [13.31399853  2.98443024]\n",
      "Iteration 29000 | Cost: 16.0637284938835 | Theta: [13.35717637  2.98377926]\n",
      "Iteration 30000 | Cost: 16.060831067051435 | Theta: [13.39520973  2.98320585]\n",
      "Iteration 31000 | Cost: 16.058582943771125 | Theta: [13.42871156  2.98270076]\n",
      "Iteration 32000 | Cost: 16.056838617313023 | Theta: [13.45822177  2.98225585]\n",
      "Iteration 33000 | Cost: 16.055485188513572 | Theta: [13.48421595  2.98186395]\n",
      "Iteration 34000 | Cost: 16.05443505852971 | Theta: [13.50711303  2.98151874]\n",
      "Iteration 35000 | Cost: 16.053620259122876 | Theta: [13.527282    2.98121466]\n",
      "Iteration 36000 | Cost: 16.052988053506862 | Theta: [13.54504792  2.98094681]\n",
      "Iteration 37000 | Cost: 16.052497523030773 | Theta: [13.5606971   2.98071087]\n",
      "Iteration 38000 | Cost: 16.05211691877503 | Theta: [13.57448173  2.98050305]\n",
      "Iteration 39000 | Cost: 16.051821606645508 | Theta: [13.58662398  2.98031999]\n",
      "Iteration 40000 | Cost: 16.051592472965233 | Theta: [13.59731952  2.98015873]\n",
      "Iteration 41000 | Cost: 16.05141468736761 | Theta: [13.60674074  2.9800167 ]\n",
      "Iteration 42000 | Cost: 16.051276742920976 | Theta: [13.61503944  2.97989158]\n",
      "Iteration 43000 | Cost: 16.051169711358234 | Theta: [13.62234939  2.97978137]\n",
      "Iteration 44000 | Cost: 16.05108666520661 | Theta: [13.62878839  2.97968429]\n",
      "Iteration 45000 | Cost: 16.05102222941666 | Theta: [13.63446021  2.97959878]\n",
      "Iteration 46000 | Cost: 16.050972233469253 | Theta: [13.63945625  2.97952346]\n",
      "Iteration 47000 | Cost: 16.050933441444556 | Theta: [13.64385703  2.97945711]\n",
      "Iteration 48000 | Cost: 16.05090334258134 | Theta: [13.64773347  2.97939867]\n",
      "Iteration 49000 | Cost: 16.050879988771577 | Theta: [13.65114805  2.97934719]\n",
      "Loss on final step: 16.05086188439219 | Theta: [13.65415298  2.97930188]\n",
      "[13.6541558   2.97930184]\n"
     ]
    }
   ],
   "source": [
    "m, n = np.shape(x)\n",
    "numIterations= 50000\n",
    "alpha = 0.0005\n",
    "theta_initial = np.ones(n)\n",
    "theta, history = gradientDescent(x, y, theta_initial, alpha, m, numIterations)\n",
    "print(theta)"
   ]
  },
  {
   "cell_type": "code",
   "execution_count": 82,
   "metadata": {
    "ExecuteTime": {
     "end_time": "2021-08-02T10:43:10.089071Z",
     "start_time": "2021-08-02T10:43:09.934484Z"
    },
    "colab": {
     "base_uri": "https://localhost:8080/",
     "height": 480
    },
    "id": "fPYsmmU0kZFK",
    "outputId": "05e23712-d313-4736-de60-0f99535ceef0"
   },
   "outputs": [
    {
     "data": {
      "image/png": "[encoded data removed]",
      "text/plain": [
       "<Figure size 720x504 with 1 Axes>"
      ]
     },
     "metadata": {},
     "output_type": "display_data"
    }
   ],
   "source": [
    "plt.plot(list(map(lambda x: x['cost'], history))[:5]);\n",
    "plt.ylabel('Loss');\n",
    "plt.xlabel('Iteration');\n",
    "plt.title('Loss value during trainig');"
   ]
  },
  {
   "cell_type": "code",
   "execution_count": 83,
   "metadata": {
    "ExecuteTime": {
     "end_time": "2021-08-02T10:43:10.358077Z",
     "start_time": "2021-08-02T10:43:10.092061Z"
    },
    "colab": {
     "base_uri": "https://localhost:8080/",
     "height": 445
    },
    "id": "JveV6WHPpDtx",
    "outputId": "2024948f-5cdd-4c16-df25-ad0b35848771"
   },
   "outputs": [
    {
     "data": {
      "image/png": "[encoded data removed]",
      "text/plain": [
       "<Figure size 720x504 with 2 Axes>"
      ]
     },
     "metadata": {},
     "output_type": "display_data"
    }
   ],
   "source": [
    "intercepts = list(map(lambda x: x['theta'][0], history))\n",
    "slopes = list(map(lambda x: x['theta'][1], history))\n",
    "\n",
    "intercepts = [intercepts[i] for i in range(len(intercepts)) if i%5000==0 or i==0 or i==len(intercepts)-1]\n",
    "slopes = [slopes[i] for i in range(len(slopes)) if i%5000==0 or i==0 or i==len(slopes)-1]\n",
    "\n",
    "f, (ax1, ax2) = plt.subplots(2, 1, sharex=True);\n",
    "ax1.set_title('Model coefficients during training');\n",
    "ax1.plot(intercepts);\n",
    "ax1.set_ylabel('Intercept');\n",
    "\n",
    "ax2.plot(slopes);\n",
    "ax2.set_ylabel('Slope');\n",
    "ax2.set_xticklabels(['0','0','10','20','30','40','50']);"
   ]
  },
  {
   "cell_type": "code",
   "execution_count": 84,
   "metadata": {
    "ExecuteTime": {
     "end_time": "2021-08-02T10:43:10.389978Z",
     "start_time": "2021-08-02T10:43:10.360021Z"
    }
   },
   "outputs": [
    {
     "data": {
      "text/plain": [
       "([0.0,\n",
       "  1.0,\n",
       "  2.0,\n",
       "  3.0,\n",
       "  4.0,\n",
       "  5.0,\n",
       "  6.0,\n",
       "  7.0,\n",
       "  8.0,\n",
       "  9.0,\n",
       "  10.0,\n",
       "  11.0,\n",
       "  12.0,\n",
       "  13.0,\n",
       "  14.0,\n",
       "  15.0,\n",
       "  16.0,\n",
       "  17.0,\n",
       "  18.0,\n",
       "  19.0,\n",
       "  20.0,\n",
       "  21.0,\n",
       "  22.0,\n",
       "  23.0,\n",
       "  24.0,\n",
       "  25.0,\n",
       "  26.0,\n",
       "  27.0,\n",
       "  28.0,\n",
       "  29.0,\n",
       "  30.0,\n",
       "  31.0,\n",
       "  32.0,\n",
       "  33.0,\n",
       "  34.0,\n",
       "  35.0,\n",
       "  36.0,\n",
       "  37.0,\n",
       "  38.0,\n",
       "  39.0,\n",
       "  40.0,\n",
       "  41.0,\n",
       "  42.0,\n",
       "  43.0,\n",
       "  44.0,\n",
       "  45.0,\n",
       "  46.0,\n",
       "  47.0,\n",
       "  48.0,\n",
       "  49.0,\n",
       "  50.0,\n",
       "  51.0,\n",
       "  52.0,\n",
       "  53.0,\n",
       "  54.0,\n",
       "  55.0,\n",
       "  56.0,\n",
       "  57.0,\n",
       "  58.0,\n",
       "  59.0,\n",
       "  60.0,\n",
       "  61.0,\n",
       "  62.0,\n",
       "  63.0,\n",
       "  64.0,\n",
       "  65.0,\n",
       "  66.0,\n",
       "  67.0,\n",
       "  68.0,\n",
       "  69.0,\n",
       "  70.0,\n",
       "  71.0,\n",
       "  72.0,\n",
       "  73.0,\n",
       "  74.0,\n",
       "  75.0,\n",
       "  76.0,\n",
       "  77.0,\n",
       "  78.0,\n",
       "  79.0,\n",
       "  80.0,\n",
       "  81.0,\n",
       "  82.0,\n",
       "  83.0,\n",
       "  84.0,\n",
       "  85.0,\n",
       "  86.0,\n",
       "  87.0,\n",
       "  88.0,\n",
       "  89.0,\n",
       "  90.0,\n",
       "  91.0,\n",
       "  92.0,\n",
       "  93.0,\n",
       "  94.0,\n",
       "  95.0,\n",
       "  96.0,\n",
       "  97.0,\n",
       "  98.0,\n",
       "  99.0],\n",
       " array([  9.09291582,  21.81005152,  26.71803128,  15.32945869,\n",
       "         26.19299379,  32.01138523,  39.64940819,  41.12358023,\n",
       "         41.55185413,  30.09074732,  48.50581061,  51.06238915,\n",
       "         52.18950932,  53.64542605,  44.97398278,  50.71297318,\n",
       "         58.55116327,  70.52621424,  75.59317046,  77.47404696,\n",
       "         76.7287397 ,  71.48083324,  83.44918311,  76.76622018,\n",
       "         89.80894853,  85.73927725,  81.90343771, 103.25315718,\n",
       "         93.91598384,  94.37745802,  96.17353143, 107.12329175,\n",
       "        116.00506883, 103.96109803, 111.27871979, 111.52857455,\n",
       "        122.78569876, 125.4502923 , 118.49182501, 136.46265834,\n",
       "        139.14371897, 130.31593932, 135.00103572, 150.44882086,\n",
       "        137.89628699, 141.99560361, 151.00186276, 150.17249378,\n",
       "        162.92580493, 168.38731766, 158.5580299 , 169.48946664,\n",
       "        158.41752071, 170.42988502, 176.48041959, 172.93506184,\n",
       "        188.69737365, 175.80156227, 180.29886141, 186.63511697,\n",
       "        194.86269702, 203.41740569, 202.1904809 , 199.39983157,\n",
       "        201.52632692, 216.17703855, 206.17416686, 204.03469581,\n",
       "        223.46363669, 218.10286478, 220.9627057 , 222.70271638,\n",
       "        228.4972761 , 226.63064427, 230.99669898, 243.75086385,\n",
       "        231.01106278, 243.12416192, 247.13089931, 242.42814104,\n",
       "        253.94723086, 252.67465243, 253.30851386, 251.7394819 ,\n",
       "        263.72034595, 260.84193378, 277.80443792, 276.51419067,\n",
       "        280.37796257, 279.84834719, 288.4995192 , 293.90649003,\n",
       "        289.91341906, 291.84257716, 291.29103935, 293.6052301 ,\n",
       "        295.64094743, 311.90964617, 308.14880999, 312.88346714]))"
      ]
     },
     "execution_count": 84,
     "metadata": {},
     "output_type": "execute_result"
    }
   ],
   "source": [
    "(list(map(lambda x: x[1], x)), y)"
   ]
  },
  {
   "cell_type": "code",
   "execution_count": 85,
   "metadata": {
    "ExecuteTime": {
     "end_time": "2021-08-02T10:43:11.078525Z",
     "start_time": "2021-08-02T10:43:10.391940Z"
    },
    "colab": {
     "base_uri": "https://localhost:8080/",
     "height": 428
    },
    "id": "q81MF5GsCPbr",
    "outputId": "f621ae43-448c-4638-84e5-a7e72c3170c5"
   },
   "outputs": [
    {
     "data": {
      "image/png": "[encoded data removed]",
      "text/plain": [
       "<Figure size 720x504 with 1 Axes>"
      ]
     },
     "metadata": {},
     "output_type": "display_data"
    }
   ],
   "source": [
    "plt.scatter(list(map(lambda x: x[1], x)), y);\n",
    "\n",
    "plt.plot(np.dot(x, theta), 'blue');\n",
    "plt.plot(np.dot(x, history[0]['theta']),'green');\n",
    "\n",
    "plt.legend(['fitted data', '0 step', 'ground truth']);\n",
    "plt.ylim([0,200]);"
   ]
  },
  {
   "cell_type": "markdown",
   "metadata": {
    "id": "0qw3bfZnRSTp"
   },
   "source": [
    "## Loss function vs Quality metric\n",
    "\n",
    "**Loss function** - always differentiable. Used by model to tune parameters.   Doesn't have meaningful interpretation. Varies from 0 to Inf.  \n",
    "**Quality metric** - not always differentiable. Used by scientist. Has interpetation (fraction of right answers, mean difference between GT and predicted values)"
   ]
  },
  {
   "cell_type": "code",
   "execution_count": 86,
   "metadata": {
    "ExecuteTime": {
     "end_time": "2021-08-02T10:43:11.094483Z",
     "start_time": "2021-08-02T10:43:11.080522Z"
    },
    "colab": {
     "base_uri": "https://localhost:8080/",
     "height": 111
    },
    "id": "l_shVwLpRWsr",
    "outputId": "a45506d3-6886-4a03-9de8-dc4a29b4f549"
   },
   "outputs": [
    {
     "data": {
      "text/html": [
       "<div>\n",
       "<style scoped>\n",
       "    .dataframe tbody tr th:only-of-type {\n",
       "        vertical-align: middle;\n",
       "    }\n",
       "\n",
       "    .dataframe tbody tr th {\n",
       "        vertical-align: top;\n",
       "    }\n",
       "\n",
       "    .dataframe thead th {\n",
       "        text-align: right;\n",
       "    }\n",
       "</style>\n",
       "<table border=\"1\" class=\"dataframe\">\n",
       "  <thead>\n",
       "    <tr style=\"text-align: right;\">\n",
       "      <th></th>\n",
       "      <th>Explained variance</th>\n",
       "    </tr>\n",
       "  </thead>\n",
       "  <tbody>\n",
       "    <tr>\n",
       "      <th>first iteration</th>\n",
       "      <td>0.714256</td>\n",
       "    </tr>\n",
       "    <tr>\n",
       "      <th>last iteration</th>\n",
       "      <td>0.995677</td>\n",
       "    </tr>\n",
       "  </tbody>\n",
       "</table>\n",
       "</div>"
      ],
      "text/plain": [
       "                 Explained variance\n",
       "first iteration            0.714256\n",
       "last iteration             0.995677"
      ]
     },
     "execution_count": 86,
     "metadata": {},
     "output_type": "execute_result"
    }
   ],
   "source": [
    "ev_1 = metrics.explained_variance_score(y, np.dot(x, history[0]['theta']))\n",
    "ev_final = metrics.explained_variance_score(y, np.dot(x, theta))\n",
    "\n",
    "pd.DataFrame.from_dict({'first iteration':ev_1, 'last iteration':ev_final}, \n",
    "                          orient='index',\n",
    "                          columns=['Explained variance'])"
   ]
  },
  {
   "cell_type": "markdown",
   "metadata": {
    "id": "LqWdTmsUB8YZ"
   },
   "source": [
    "# How everything works in sklearn"
   ]
  },
  {
   "cell_type": "markdown",
   "metadata": {
    "id": "iZimZ91yfsD8"
   },
   "source": [
    "## EDA"
   ]
  },
  {
   "cell_type": "markdown",
   "metadata": {
    "id": "1LXoGpermZys"
   },
   "source": [
    "### Download&overview"
   ]
  },
  {
   "cell_type": "code",
   "execution_count": 87,
   "metadata": {
    "ExecuteTime": {
     "end_time": "2021-08-02T10:43:11.189230Z",
     "start_time": "2021-08-02T10:43:11.097476Z"
    },
    "colab": {
     "base_uri": "https://localhost:8080/"
    },
    "id": "9SjYgY-IOFP3",
    "outputId": "2003dfda-9e0c-431a-930e-546e701ea777"
   },
   "outputs": [
    {
     "data": {
      "text/html": [
       "<div>\n",
       "<style scoped>\n",
       "    .dataframe tbody tr th:only-of-type {\n",
       "        vertical-align: middle;\n",
       "    }\n",
       "\n",
       "    .dataframe tbody tr th {\n",
       "        vertical-align: top;\n",
       "    }\n",
       "\n",
       "    .dataframe thead th {\n",
       "        text-align: right;\n",
       "    }\n",
       "</style>\n",
       "<table border=\"1\" class=\"dataframe\">\n",
       "  <thead>\n",
       "    <tr style=\"text-align: right;\">\n",
       "      <th></th>\n",
       "      <th>MSSubClass</th>\n",
       "      <th>MSZoning</th>\n",
       "      <th>LotFrontage</th>\n",
       "      <th>LotArea</th>\n",
       "      <th>Street</th>\n",
       "      <th>Alley</th>\n",
       "      <th>LotShape</th>\n",
       "      <th>LandContour</th>\n",
       "      <th>Utilities</th>\n",
       "      <th>LotConfig</th>\n",
       "      <th>...</th>\n",
       "      <th>PoolArea</th>\n",
       "      <th>PoolQC</th>\n",
       "      <th>Fence</th>\n",
       "      <th>MiscFeature</th>\n",
       "      <th>MiscVal</th>\n",
       "      <th>MoSold</th>\n",
       "      <th>YrSold</th>\n",
       "      <th>SaleType</th>\n",
       "      <th>SaleCondition</th>\n",
       "      <th>SalePrice</th>\n",
       "    </tr>\n",
       "    <tr>\n",
       "      <th>Id</th>\n",
       "      <th></th>\n",
       "      <th></th>\n",
       "      <th></th>\n",
       "      <th></th>\n",
       "      <th></th>\n",
       "      <th></th>\n",
       "      <th></th>\n",
       "      <th></th>\n",
       "      <th></th>\n",
       "      <th></th>\n",
       "      <th></th>\n",
       "      <th></th>\n",
       "      <th></th>\n",
       "      <th></th>\n",
       "      <th></th>\n",
       "      <th></th>\n",
       "      <th></th>\n",
       "      <th></th>\n",
       "      <th></th>\n",
       "      <th></th>\n",
       "      <th></th>\n",
       "    </tr>\n",
       "  </thead>\n",
       "  <tbody>\n",
       "    <tr>\n",
       "      <th>1</th>\n",
       "      <td>60</td>\n",
       "      <td>RL</td>\n",
       "      <td>65.0</td>\n",
       "      <td>8450</td>\n",
       "      <td>Pave</td>\n",
       "      <td>NaN</td>\n",
       "      <td>Reg</td>\n",
       "      <td>Lvl</td>\n",
       "      <td>AllPub</td>\n",
       "      <td>Inside</td>\n",
       "      <td>...</td>\n",
       "      <td>0</td>\n",
       "      <td>NaN</td>\n",
       "      <td>NaN</td>\n",
       "      <td>NaN</td>\n",
       "      <td>0</td>\n",
       "      <td>2</td>\n",
       "      <td>2008</td>\n",
       "      <td>WD</td>\n",
       "      <td>Normal</td>\n",
       "      <td>208500.0</td>\n",
       "    </tr>\n",
       "    <tr>\n",
       "      <th>2</th>\n",
       "      <td>20</td>\n",
       "      <td>RL</td>\n",
       "      <td>80.0</td>\n",
       "      <td>9600</td>\n",
       "      <td>Pave</td>\n",
       "      <td>NaN</td>\n",
       "      <td>Reg</td>\n",
       "      <td>Lvl</td>\n",
       "      <td>AllPub</td>\n",
       "      <td>FR2</td>\n",
       "      <td>...</td>\n",
       "      <td>0</td>\n",
       "      <td>NaN</td>\n",
       "      <td>NaN</td>\n",
       "      <td>NaN</td>\n",
       "      <td>0</td>\n",
       "      <td>5</td>\n",
       "      <td>2007</td>\n",
       "      <td>WD</td>\n",
       "      <td>Normal</td>\n",
       "      <td>181500.0</td>\n",
       "    </tr>\n",
       "    <tr>\n",
       "      <th>3</th>\n",
       "      <td>60</td>\n",
       "      <td>RL</td>\n",
       "      <td>68.0</td>\n",
       "      <td>11250</td>\n",
       "      <td>Pave</td>\n",
       "      <td>NaN</td>\n",
       "      <td>IR1</td>\n",
       "      <td>Lvl</td>\n",
       "      <td>AllPub</td>\n",
       "      <td>Inside</td>\n",
       "      <td>...</td>\n",
       "      <td>0</td>\n",
       "      <td>NaN</td>\n",
       "      <td>NaN</td>\n",
       "      <td>NaN</td>\n",
       "      <td>0</td>\n",
       "      <td>9</td>\n",
       "      <td>2008</td>\n",
       "      <td>WD</td>\n",
       "      <td>Normal</td>\n",
       "      <td>223500.0</td>\n",
       "    </tr>\n",
       "    <tr>\n",
       "      <th>4</th>\n",
       "      <td>70</td>\n",
       "      <td>RL</td>\n",
       "      <td>60.0</td>\n",
       "      <td>9550</td>\n",
       "      <td>Pave</td>\n",
       "      <td>NaN</td>\n",
       "      <td>IR1</td>\n",
       "      <td>Lvl</td>\n",
       "      <td>AllPub</td>\n",
       "      <td>Corner</td>\n",
       "      <td>...</td>\n",
       "      <td>0</td>\n",
       "      <td>NaN</td>\n",
       "      <td>NaN</td>\n",
       "      <td>NaN</td>\n",
       "      <td>0</td>\n",
       "      <td>2</td>\n",
       "      <td>2006</td>\n",
       "      <td>WD</td>\n",
       "      <td>Abnorml</td>\n",
       "      <td>140000.0</td>\n",
       "    </tr>\n",
       "    <tr>\n",
       "      <th>5</th>\n",
       "      <td>60</td>\n",
       "      <td>RL</td>\n",
       "      <td>84.0</td>\n",
       "      <td>14260</td>\n",
       "      <td>Pave</td>\n",
       "      <td>NaN</td>\n",
       "      <td>IR1</td>\n",
       "      <td>Lvl</td>\n",
       "      <td>AllPub</td>\n",
       "      <td>FR2</td>\n",
       "      <td>...</td>\n",
       "      <td>0</td>\n",
       "      <td>NaN</td>\n",
       "      <td>NaN</td>\n",
       "      <td>NaN</td>\n",
       "      <td>0</td>\n",
       "      <td>12</td>\n",
       "      <td>2008</td>\n",
       "      <td>WD</td>\n",
       "      <td>Normal</td>\n",
       "      <td>250000.0</td>\n",
       "    </tr>\n",
       "  </tbody>\n",
       "</table>\n",
       "<p>5 rows × 80 columns</p>\n",
       "</div>"
      ],
      "text/plain": [
       "    MSSubClass MSZoning  LotFrontage  LotArea Street Alley LotShape  \\\n",
       "Id                                                                    \n",
       "1           60       RL         65.0     8450   Pave   NaN      Reg   \n",
       "2           20       RL         80.0     9600   Pave   NaN      Reg   \n",
       "3           60       RL         68.0    11250   Pave   NaN      IR1   \n",
       "4           70       RL         60.0     9550   Pave   NaN      IR1   \n",
       "5           60       RL         84.0    14260   Pave   NaN      IR1   \n",
       "\n",
       "   LandContour Utilities LotConfig  ... PoolArea PoolQC Fence MiscFeature  \\\n",
       "Id                                  ...                                     \n",
       "1          Lvl    AllPub    Inside  ...        0    NaN   NaN         NaN   \n",
       "2          Lvl    AllPub       FR2  ...        0    NaN   NaN         NaN   \n",
       "3          Lvl    AllPub    Inside  ...        0    NaN   NaN         NaN   \n",
       "4          Lvl    AllPub    Corner  ...        0    NaN   NaN         NaN   \n",
       "5          Lvl    AllPub       FR2  ...        0    NaN   NaN         NaN   \n",
       "\n",
       "   MiscVal MoSold  YrSold  SaleType  SaleCondition  SalePrice  \n",
       "Id                                                             \n",
       "1        0      2    2008        WD         Normal   208500.0  \n",
       "2        0      5    2007        WD         Normal   181500.0  \n",
       "3        0      9    2008        WD         Normal   223500.0  \n",
       "4        0      2    2006        WD        Abnorml   140000.0  \n",
       "5        0     12    2008        WD         Normal   250000.0  \n",
       "\n",
       "[5 rows x 80 columns]"
      ]
     },
     "execution_count": 87,
     "metadata": {},
     "output_type": "execute_result"
    }
   ],
   "source": [
    "train = pd.read_csv(TRAIN_PATH, index_col=0)\n",
    "test = pd.read_csv(TEST_PATH, index_col=0)\n",
    "full_house = pd.concat([train, test], sort=False)\n",
    "full_house.head()"
   ]
  },
  {
   "cell_type": "code",
   "execution_count": 88,
   "metadata": {
    "ExecuteTime": {
     "end_time": "2021-08-02T10:43:11.220147Z",
     "start_time": "2021-08-02T10:43:11.192225Z"
    },
    "colab": {
     "base_uri": "https://localhost:8080/"
    },
    "id": "YaUYDYo2T1vL",
    "outputId": "357bf095-2a09-4dd0-bf3c-dba89c561d43"
   },
   "outputs": [
    {
     "name": "stdout",
     "output_type": "stream",
     "text": [
      "<class 'pandas.core.frame.DataFrame'>\n",
      "Int64Index: 2919 entries, 1 to 2919\n",
      "Data columns (total 80 columns):\n",
      " #   Column         Non-Null Count  Dtype  \n",
      "---  ------         --------------  -----  \n",
      " 0   MSSubClass     2919 non-null   int64  \n",
      " 1   MSZoning       2915 non-null   object \n",
      " 2   LotFrontage    2433 non-null   float64\n",
      " 3   LotArea        2919 non-null   int64  \n",
      " 4   Street         2919 non-null   object \n",
      " 5   Alley          198 non-null    object \n",
      " 6   LotShape       2919 non-null   object \n",
      " 7   LandContour    2919 non-null   object \n",
      " 8   Utilities      2917 non-null   object \n",
      " 9   LotConfig      2919 non-null   object \n",
      " 10  LandSlope      2919 non-null   object \n",
      " 11  Neighborhood   2919 non-null   object \n",
      " 12  Condition1     2919 non-null   object \n",
      " 13  Condition2     2919 non-null   object \n",
      " 14  BldgType       2919 non-null   object \n",
      " 15  HouseStyle     2919 non-null   object \n",
      " 16  OverallQual    2919 non-null   int64  \n",
      " 17  OverallCond    2919 non-null   int64  \n",
      " 18  YearBuilt      2919 non-null   int64  \n",
      " 19  YearRemodAdd   2919 non-null   int64  \n",
      " 20  RoofStyle      2919 non-null   object \n",
      " 21  RoofMatl       2919 non-null   object \n",
      " 22  Exterior1st    2918 non-null   object \n",
      " 23  Exterior2nd    2918 non-null   object \n",
      " 24  MasVnrType     2895 non-null   object \n",
      " 25  MasVnrArea     2896 non-null   float64\n",
      " 26  ExterQual      2919 non-null   object \n",
      " 27  ExterCond      2919 non-null   object \n",
      " 28  Foundation     2919 non-null   object \n",
      " 29  BsmtQual       2838 non-null   object \n",
      " 30  BsmtCond       2837 non-null   object \n",
      " 31  BsmtExposure   2837 non-null   object \n",
      " 32  BsmtFinType1   2840 non-null   object \n",
      " 33  BsmtFinSF1     2918 non-null   float64\n",
      " 34  BsmtFinType2   2839 non-null   object \n",
      " 35  BsmtFinSF2     2918 non-null   float64\n",
      " 36  BsmtUnfSF      2918 non-null   float64\n",
      " 37  TotalBsmtSF    2918 non-null   float64\n",
      " 38  Heating        2919 non-null   object \n",
      " 39  HeatingQC      2919 non-null   object \n",
      " 40  CentralAir     2919 non-null   object \n",
      " 41  Electrical     2918 non-null   object \n",
      " 42  1stFlrSF       2919 non-null   int64  \n",
      " 43  2ndFlrSF       2919 non-null   int64  \n",
      " 44  LowQualFinSF   2919 non-null   int64  \n",
      " 45  GrLivArea      2919 non-null   int64  \n",
      " 46  BsmtFullBath   2917 non-null   float64\n",
      " 47  BsmtHalfBath   2917 non-null   float64\n",
      " 48  FullBath       2919 non-null   int64  \n",
      " 49  HalfBath       2919 non-null   int64  \n",
      " 50  BedroomAbvGr   2919 non-null   int64  \n",
      " 51  KitchenAbvGr   2919 non-null   int64  \n",
      " 52  KitchenQual    2918 non-null   object \n",
      " 53  TotRmsAbvGrd   2919 non-null   int64  \n",
      " 54  Functional     2917 non-null   object \n",
      " 55  Fireplaces     2919 non-null   int64  \n",
      " 56  FireplaceQu    1499 non-null   object \n",
      " 57  GarageType     2762 non-null   object \n",
      " 58  GarageYrBlt    2760 non-null   float64\n",
      " 59  GarageFinish   2760 non-null   object \n",
      " 60  GarageCars     2918 non-null   float64\n",
      " 61  GarageArea     2918 non-null   float64\n",
      " 62  GarageQual     2760 non-null   object \n",
      " 63  GarageCond     2760 non-null   object \n",
      " 64  PavedDrive     2919 non-null   object \n",
      " 65  WoodDeckSF     2919 non-null   int64  \n",
      " 66  OpenPorchSF    2919 non-null   int64  \n",
      " 67  EnclosedPorch  2919 non-null   int64  \n",
      " 68  3SsnPorch      2919 non-null   int64  \n",
      " 69  ScreenPorch    2919 non-null   int64  \n",
      " 70  PoolArea       2919 non-null   int64  \n",
      " 71  PoolQC         10 non-null     object \n",
      " 72  Fence          571 non-null    object \n",
      " 73  MiscFeature    105 non-null    object \n",
      " 74  MiscVal        2919 non-null   int64  \n",
      " 75  MoSold         2919 non-null   int64  \n",
      " 76  YrSold         2919 non-null   int64  \n",
      " 77  SaleType       2918 non-null   object \n",
      " 78  SaleCondition  2919 non-null   object \n",
      " 79  SalePrice      1460 non-null   float64\n",
      "dtypes: float64(12), int64(25), object(43)\n",
      "memory usage: 1.8+ MB\n"
     ]
    }
   ],
   "source": [
    "full_house.info()"
   ]
  },
  {
   "cell_type": "code",
   "execution_count": 89,
   "metadata": {
    "ExecuteTime": {
     "end_time": "2021-08-02T10:43:11.236106Z",
     "start_time": "2021-08-02T10:43:11.222142Z"
    },
    "colab": {
     "base_uri": "https://localhost:8080/"
    },
    "id": "3-i58Ecd-XKW",
    "outputId": "817df8bf-29db-4e41-8667-10c9fac9d908"
   },
   "outputs": [
    {
     "name": "stdout",
     "output_type": "stream",
     "text": [
      "MSSubClass: Identifies the type of dwelling involved in the sale.\t\n",
      "\n",
      "        20\t1-STORY 1946 & NEWER ALL STYLES\n",
      "        30\t1-STORY 1945 & OLDER\n",
      "        40\t1-STORY W/FINISHED ATTIC ALL AGES\n",
      "        45\t1-1/2 STORY - UNFINISHED ALL AGES\n",
      "        50\t1-1/2 STORY FINISHED ALL AGES\n",
      "        60\t2-STORY 1946 & NEWER\n",
      "        70\t2-STORY 1945 & OLDER\n",
      "        75\t2-1/2 STORY ALL AGES\n",
      "        80\tSPLIT OR MULTI-LEVEL\n",
      "        85\tSPLIT FOYER\n",
      "        90\tDUPLEX - ALL STYLES AND AGES\n",
      "       120\t1-STORY PUD (Planned Unit Development) - 1946 & NEWER\n",
      "       150\t1-1/2 STORY PUD - ALL AGES\n",
      "       160\t2-STORY PUD - 1946 & NEWER\n",
      "       180\tPUD - MULTILEVEL - INCL SPLIT LEV/FOYER\n",
      "       190\t2 FAMILY CONVERSION - ALL STYLES AND AGES\n",
      "\n",
      "MSZoning: Identifies the general zoning classification of the sale.\n",
      "\t\t\n",
      "       A\tAgriculture\n",
      "       C\tCommercial\n",
      "       FV\tFloating Village Residential\n",
      "       I\tIndustrial\n",
      "       RH\tResidential High Density\n",
      "       RL\tResidential Low Density\n",
      "       RP\tResidential Low Density Park \n",
      "       RM\tResidential Medium Density\n",
      "\t\n",
      "LotFrontage: Linear feet of street connected to property\n",
      "\n",
      "LotArea: Lot size in square feet\n",
      "\n",
      "Street: Type of road access to property\n",
      "\n",
      "       Grvl\tGravel\t\n",
      "       Pave\tPaved\n",
      "       \t\n",
      "Alley: Type of alley access to property\n",
      "\n",
      "       Grvl\tGravel\n",
      "       Pave\tPaved\n",
      "       NA \tNo alley access\n",
      "\t\t\n",
      "LotShape: General shape of property\n",
      "\n",
      "       Reg\tRegular\t\n",
      "       IR1\tSlightly irregular\n",
      "       IR2\tModerately Irregular\n",
      "       IR3\tIrregular\n",
      "       \n",
      "LandContour: Flatness of the property\n",
      "\n",
      "       Lvl\tNear Flat/Level\t\n",
      "       Bnk\tBanked - Quick and significant rise from street grade to building\n",
      "       HLS\tHillside - Significant slope from side to side\n",
      "       Low\tDepression\n",
      "\t\t\n",
      "Utilities: Type of utilities available\n",
      "\t\t\n",
      "       AllPub\tAll public Utilities (E,G,W,& S)\t\n",
      "       NoSewr\tElectricity, Gas, and Water (Septic Tank)\n",
      "       NoSeWa\tElectricity and Gas Only\n",
      "       ELO\tElectricity only\t\n",
      "\t\n",
      "LotConfig: Lot configuration\n",
      "\n",
      "       Inside\tInside lot\n",
      "       Corner\tCorner lot\n",
      "       CulDSac\tCul-de-sac\n",
      "       FR2\tFrontage on 2 sides of property\n",
      "       FR3\tFrontage on 3 sides of property\n",
      "\t\n",
      "LandSlope: Slope of property\n",
      "\t\t\n",
      "       Gtl\tGentle slope\n",
      "       Mod\tModerate Slope\t\n",
      "       Sev\tSevere Slope\n",
      "\t\n",
      "Neighborhood: Physical locations within Ames city limits\n",
      "\n",
      "       Blmngtn\tBloomington Heights\n",
      "       Blueste\tBluestem\n",
      "       BrDale\tBriardale\n",
      "       BrkSide\tBrookside\n",
      "       ClearCr\tClear Creek\n",
      "       CollgCr\tCollege Creek\n",
      "       Crawfor\tCrawford\n",
      "       Edwards\tEdwards\n",
      "       Gilbert\tGilbert\n",
      "       IDOTRR\tIowa DOT and Rail Road\n",
      "       MeadowV\tMeadow Village\n",
      "       Mitchel\tMitchell\n",
      "       Names\tNorth Ames\n",
      "       NoRidge\tNorthridge\n",
      "       NPkVill\tNorthpark Villa\n",
      "       NridgHt\tNorthridge Heights\n",
      "       NWAmes\tNorthwest Ames\n",
      "       OldTown\tOld Town\n",
      "       SWISU\tSouth & West of Iowa State University\n",
      "       Sawyer\tSawyer\n",
      "       SawyerW\tSawyer West\n",
      "       Somerst\tSomerset\n",
      "       StoneBr\tStone Brook\n",
      "       Timber\tTimberland\n",
      "       Veenker\tVeenker\n",
      "\t\t\t\n",
      "Condition1: Proximity to various conditions\n",
      "\t\n",
      "       Artery\tAdjacent to arterial street\n",
      "       Feedr\tAdjacent to feeder street\t\n",
      "       Norm\tNormal\t\n",
      "       RRNn\tWithin 200' of North-South Railroad\n",
      "       RRAn\tAdjacent to North-South Railroad\n",
      "       PosN\tNear positive off-site feature--park, greenbelt, etc.\n",
      "       PosA\tAdjacent to postive off-site feature\n",
      "       RRNe\tWithin 200' of East-West Railroad\n",
      "       RRAe\tAdjacent to East-West Railroad\n",
      "\t\n",
      "Condition2: Proximity to various conditions (if more than one is present)\n",
      "\t\t\n",
      "       Artery\tAdjacent to arterial street\n",
      "       Feedr\tAdjacent to feeder street\t\n",
      "       Norm\tNormal\t\n",
      "       RRNn\tWithin 200' of North-South Railroad\n",
      "       RRAn\tAdjacent to North-South Railroad\n",
      "       PosN\tNear positive off-site feature--park, greenbelt, etc.\n",
      "       PosA\tAdjacent to postive off-site feature\n",
      "       RRNe\tWithin 200' of East-West Railroad\n",
      "       RRAe\tAdjacent to East-West Railroad\n",
      "\t\n",
      "BldgType: Type of dwelling\n",
      "\t\t\n",
      "       1Fam\tSingle-family Detached\t\n",
      "       2FmCon\tTwo-family Conversion; originally built as one-family dwelling\n",
      "       Duplx\tDuplex\n",
      "       TwnhsE\tTownhouse End Unit\n",
      "       TwnhsI\tTownhouse Inside Unit\n",
      "\t\n",
      "HouseStyle: Style of dwelling\n",
      "\t\n",
      "       1Story\tOne story\n",
      "       1.5Fin\tOne and one-half story: 2nd level finished\n",
      "       1.5Unf\tOne and one-half story: 2nd level unfinished\n",
      "       2Story\tTwo story\n",
      "       2.5Fin\tTwo and one-half story: 2nd level finished\n",
      "       2.5Unf\tTwo and one-half story: 2nd level unfinished\n",
      "       SFoyer\tSplit Foyer\n",
      "       SLvl\tSplit Level\n",
      "\t\n",
      "OverallQual: Rates the overall material and finish of the house\n",
      "\n",
      "       10\tVery Excellent\n",
      "       9\tExcellent\n",
      "       8\tVery Good\n",
      "       7\tGood\n",
      "       6\tAbove Average\n",
      "       5\tAverage\n",
      "       4\tBelow Average\n",
      "       3\tFair\n",
      "       2\tPoor\n",
      "       1\tVery Poor\n",
      "\t\n",
      "OverallCond: Rates the overall condition of the house\n",
      "\n",
      "       10\tVery Excellent\n",
      "       9\tExcellent\n",
      "       8\tVery Good\n",
      "       7\tGood\n",
      "       6\tAbove Average\t\n",
      "       5\tAverage\n",
      "       4\tBelow Average\t\n",
      "       3\tFair\n",
      "       2\tPoor\n",
      "       1\tVery Poor\n",
      "\t\t\n",
      "YearBuilt: Original construction date\n",
      "\n",
      "YearRemodAdd: Remodel date (same as construction date if no remodeling or additions)\n",
      "\n",
      "RoofStyle: Type of roof\n",
      "\n",
      "       Flat\tFlat\n",
      "       Gable\tGable\n",
      "       Gambrel\tGabrel (Barn)\n",
      "       Hip\tHip\n",
      "       Mansard\tMansard\n",
      "       Shed\tShed\n",
      "\t\t\n",
      "RoofMatl: Roof material\n",
      "\n",
      "       ClyTile\tClay or Tile\n",
      "       CompShg\tStandard (Composite) Shingle\n",
      "       Membran\tMembrane\n",
      "       Metal\tMetal\n",
      "       Roll\tRoll\n",
      "       Tar&Grv\tGravel & Tar\n",
      "       WdShake\tWood Shakes\n",
      "       WdShngl\tWood Shingles\n",
      "\t\t\n",
      "Exterior1st: Exterior covering on house\n",
      "\n",
      "       AsbShng\tAsbestos Shingles\n",
      "       AsphShn\tAsphalt Shingles\n",
      "       BrkComm\tBrick Common\n",
      "       BrkFace\tBrick Face\n",
      "       CBlock\tCinder Block\n",
      "       CemntBd\tCement Board\n",
      "       HdBoard\tHard Board\n",
      "       ImStucc\tImitation Stucco\n",
      "       MetalSd\tMetal Siding\n",
      "       Other\tOther\n",
      "       Plywood\tPlywood\n",
      "       PreCast\tPreCast\t\n",
      "       Stone\tStone\n",
      "       Stucco\tStucco\n",
      "       VinylSd\tVinyl Siding\n",
      "       Wd Sdng\tWood Siding\n",
      "       WdShing\tWood Shingles\n",
      "\t\n",
      "Exterior2nd: Exterior covering on house (if more than one material)\n",
      "\n",
      "       AsbShng\tAsbestos Shingles\n",
      "       AsphShn\tAsphalt Shingles\n",
      "       BrkComm\tBrick Common\n",
      "       BrkFace\tBrick Face\n",
      "       CBlock\tCinder Block\n",
      "       CemntBd\tCement Board\n",
      "       HdBoard\tHard Board\n",
      "       ImStucc\tImitation Stucco\n",
      "       MetalSd\tMetal Siding\n",
      "       Other\tOther\n",
      "       Plywood\tPlywood\n",
      "       PreCast\tPreCast\n",
      "       Stone\tStone\n",
      "       Stucco\tStucco\n",
      "       VinylSd\tVinyl Siding\n",
      "       Wd Sdng\tWood Siding\n",
      "       WdShing\tWood Shingles\n",
      "\t\n",
      "MasVnrType: Masonry veneer type\n",
      "\n",
      "       BrkCmn\tBrick Common\n",
      "       BrkFace\tBrick Face\n",
      "       CBlock\tCinder Block\n",
      "       None\tNone\n",
      "       Stone\tStone\n",
      "\t\n",
      "MasVnrArea: Masonry veneer area in square feet\n",
      "\n",
      "ExterQual: Evaluates the quality of the material on the exterior \n",
      "\t\t\n",
      "       Ex\tExcellent\n",
      "       Gd\tGood\n",
      "       TA\tAverage/Typical\n",
      "       Fa\tFair\n",
      "       Po\tPoor\n",
      "\t\t\n",
      "ExterCond: Evaluates the present condition of the material on the exterior\n",
      "\t\t\n",
      "       Ex\tExcellent\n",
      "       Gd\tGood\n",
      "       TA\tAverage/Typical\n",
      "       Fa\tFair\n",
      "       Po\tPoor\n",
      "\t\t\n",
      "Foundation: Type of foundation\n",
      "\t\t\n",
      "       BrkTil\tBrick & Tile\n",
      "       CBlock\tCinder Block\n",
      "       PConc\tPoured Contrete\t\n",
      "       Slab\tSlab\n",
      "       Stone\tStone\n",
      "       Wood\tWood\n",
      "\t\t\n",
      "BsmtQual: Evaluates the height of the basement\n",
      "\n",
      "       Ex\tExcellent (100+ inches)\t\n",
      "       Gd\tGood (90-99 inches)\n",
      "       TA\tTypical (80-89 inches)\n",
      "       Fa\tFair (70-79 inches)\n",
      "       Po\tPoor (<70 inches\n",
      "       NA\tNo Basement\n",
      "\t\t\n",
      "BsmtCond: Evaluates the general condition of the basement\n",
      "\n",
      "       Ex\tExcellent\n",
      "       Gd\tGood\n",
      "       TA\tTypical - slight dampness allowed\n",
      "       Fa\tFair - dampness or some cracking or settling\n",
      "       Po\tPoor - Severe cracking, settling, or wetness\n",
      "       NA\tNo Basement\n",
      "\t\n",
      "BsmtExposure: Refers to walkout or garden level walls\n",
      "\n",
      "       Gd\tGood Exposure\n",
      "       Av\tAverage Exposure (split levels or foyers typically score average or above)\t\n",
      "       Mn\tMimimum Exposure\n",
      "       No\tNo Exposure\n",
      "       NA\tNo Basement\n",
      "\t\n",
      "BsmtFinType1: Rating of basement finished area\n",
      "\n",
      "       GLQ\tGood Living Quarters\n",
      "       ALQ\tAverage Living Quarters\n",
      "       BLQ\tBelow Average Living Quarters\t\n",
      "       Rec\tAverage Rec Room\n",
      "       LwQ\tLow Quality\n",
      "       Unf\tUnfinshed\n",
      "       NA\tNo Basement\n",
      "\t\t\n",
      "BsmtFinSF1: Type 1 finished square feet\n",
      "\n",
      "BsmtFinType2: Rating of basement finished area (if multiple types)\n",
      "\n",
      "       GLQ\tGood Living Quarters\n",
      "       ALQ\tAverage Living Quarters\n",
      "       BLQ\tBelow Average Living Quarters\t\n",
      "       Rec\tAverage Rec Room\n",
      "       LwQ\tLow Quality\n",
      "       Unf\tUnfinshed\n",
      "       NA\tNo Basement\n",
      "\n",
      "BsmtFinSF2: Type 2 finished square feet\n",
      "\n",
      "BsmtUnfSF: Unfinished square feet of basement area\n",
      "\n",
      "TotalBsmtSF: Total square feet of basement area\n",
      "\n",
      "Heating: Type of heating\n",
      "\t\t\n",
      "       Floor\tFloor Furnace\n",
      "       GasA\tGas forced warm air furnace\n",
      "       GasW\tGas hot water or steam heat\n",
      "       Grav\tGravity furnace\t\n",
      "       OthW\tHot water or steam heat other than gas\n",
      "       Wall\tWall furnace\n",
      "\t\t\n",
      "HeatingQC: Heating quality and condition\n",
      "\n",
      "       Ex\tExcellent\n",
      "       Gd\tGood\n",
      "       TA\tAverage/Typical\n",
      "       Fa\tFair\n",
      "       Po\tPoor\n",
      "\t\t\n",
      "CentralAir: Central air conditioning\n",
      "\n",
      "       N\tNo\n",
      "       Y\tYes\n",
      "\t\t\n",
      "Electrical: Electrical system\n",
      "\n",
      "       SBrkr\tStandard Circuit Breakers & Romex\n",
      "       FuseA\tFuse Box over 60 AMP and all Romex wiring (Average)\t\n",
      "       FuseF\t60 AMP Fuse Box and mostly Romex wiring (Fair)\n",
      "       FuseP\t60 AMP Fuse Box and mostly knob & tube wiring (poor)\n",
      "       Mix\tMixed\n",
      "\t\t\n",
      "1stFlrSF: First Floor square feet\n",
      " \n",
      "2ndFlrSF: Second floor square feet\n",
      "\n",
      "LowQualFinSF: Low quality finished square feet (all floors)\n",
      "\n",
      "GrLivArea: Above grade (ground) living area square feet\n",
      "\n",
      "BsmtFullBath: Basement full bathrooms\n",
      "\n",
      "BsmtHalfBath: Basement half bathrooms\n",
      "\n",
      "FullBath: Full bathrooms above grade\n",
      "\n",
      "HalfBath: Half baths above grade\n",
      "\n",
      "Bedroom: Bedrooms above grade (does NOT include basement bedrooms)\n",
      "\n",
      "Kitchen: Kitchens above grade\n",
      "\n",
      "KitchenQual: Kitchen quality\n",
      "\n",
      "       Ex\tExcellent\n",
      "       Gd\tGood\n",
      "       TA\tTypical/Average\n",
      "       Fa\tFair\n",
      "       Po\tPoor\n",
      "       \t\n",
      "TotRmsAbvGrd: Total rooms above grade (does not include bathrooms)\n",
      "\n",
      "Functional: Home functionality (Assume typical unless deductions are warranted)\n",
      "\n",
      "       Typ\tTypical Functionality\n",
      "       Min1\tMinor Deductions 1\n",
      "       Min2\tMinor Deductions 2\n",
      "       Mod\tModerate Deductions\n",
      "       Maj1\tMajor Deductions 1\n",
      "       Maj2\tMajor Deductions 2\n",
      "       Sev\tSeverely Damaged\n",
      "       Sal\tSalvage only\n",
      "\t\t\n",
      "Fireplaces: Number of fireplaces\n",
      "\n",
      "FireplaceQu: Fireplace quality\n",
      "\n",
      "       Ex\tExcellent - Exceptional Masonry Fireplace\n",
      "       Gd\tGood - Masonry Fireplace in main level\n",
      "       TA\tAverage - Prefabricated Fireplace in main living area or Masonry Fireplace in basement\n",
      "       Fa\tFair - Prefabricated Fireplace in basement\n",
      "       Po\tPoor - Ben Franklin Stove\n",
      "       NA\tNo Fireplace\n",
      "\t\t\n",
      "GarageType: Garage location\n",
      "\t\t\n",
      "       2Types\tMore than one type of garage\n",
      "       Attchd\tAttached to home\n",
      "       Basment\tBasement Garage\n",
      "       BuiltIn\tBuilt-In (Garage part of house - typically has room above garage)\n",
      "       CarPort\tCar Port\n",
      "       Detchd\tDetached from home\n",
      "       NA\tNo Garage\n",
      "\t\t\n",
      "GarageYrBlt: Year garage was built\n",
      "\t\t\n",
      "GarageFinish: Interior finish of the garage\n",
      "\n",
      "       Fin\tFinished\n",
      "       RFn\tRough Finished\t\n",
      "       Unf\tUnfinished\n",
      "       NA\tNo Garage\n",
      "\t\t\n",
      "GarageCars: Size of garage in car capacity\n",
      "\n",
      "GarageArea: Size of garage in square feet\n",
      "\n",
      "GarageQual: Garage quality\n",
      "\n",
      "       Ex\tExcellent\n",
      "       Gd\tGood\n",
      "       TA\tTypical/Average\n",
      "       Fa\tFair\n",
      "       Po\tPoor\n",
      "       NA\tNo Garage\n",
      "\t\t\n",
      "GarageCond: Garage condition\n",
      "\n",
      "       Ex\tExcellent\n",
      "       Gd\tGood\n",
      "       TA\tTypical/Average\n",
      "       Fa\tFair\n",
      "       Po\tPoor\n",
      "       NA\tNo Garage\n",
      "\t\t\n",
      "PavedDrive: Paved driveway\n",
      "\n",
      "       Y\tPaved \n",
      "       P\tPartial Pavement\n",
      "       N\tDirt/Gravel\n",
      "\t\t\n",
      "WoodDeckSF: Wood deck area in square feet\n",
      "\n",
      "OpenPorchSF: Open porch area in square feet\n",
      "\n",
      "EnclosedPorch: Enclosed porch area in square feet\n",
      "\n",
      "3SsnPorch: Three season porch area in square feet\n",
      "\n",
      "ScreenPorch: Screen porch area in square feet\n",
      "\n",
      "PoolArea: Pool area in square feet\n",
      "\n",
      "PoolQC: Pool quality\n",
      "\t\t\n",
      "       Ex\tExcellent\n",
      "       Gd\tGood\n",
      "       TA\tAverage/Typical\n",
      "       Fa\tFair\n",
      "       NA\tNo Pool\n",
      "\t\t\n",
      "Fence: Fence quality\n",
      "\t\t\n",
      "       GdPrv\tGood Privacy\n",
      "       MnPrv\tMinimum Privacy\n",
      "       GdWo\tGood Wood\n",
      "       MnWw\tMinimum Wood/Wire\n",
      "       NA\tNo Fence\n",
      "\t\n",
      "MiscFeature: Miscellaneous feature not covered in other categories\n",
      "\t\t\n",
      "       Elev\tElevator\n",
      "       Gar2\t2nd Garage (if not described in garage section)\n",
      "       Othr\tOther\n",
      "       Shed\tShed (over 100 SF)\n",
      "       TenC\tTennis Court\n",
      "       NA\tNone\n",
      "\t\t\n",
      "MiscVal: $Value of miscellaneous feature\n",
      "\n",
      "MoSold: Month Sold (MM)\n",
      "\n",
      "YrSold: Year Sold (YYYY)\n",
      "\n",
      "SaleType: Type of sale\n",
      "\t\t\n",
      "       WD \tWarranty Deed - Conventional\n",
      "       CWD\tWarranty Deed - Cash\n",
      "       VWD\tWarranty Deed - VA Loan\n",
      "       New\tHome just constructed and sold\n",
      "       COD\tCourt Officer Deed/Estate\n",
      "       Con\tContract 15% Down payment regular terms\n",
      "       ConLw\tContract Low Down payment and low interest\n",
      "       ConLI\tContract Low Interest\n",
      "       ConLD\tContract Low Down\n",
      "       Oth\tOther\n",
      "\t\t\n",
      "SaleCondition: Condition of sale\n",
      "\n",
      "       Normal\tNormal Sale\n",
      "       Abnorml\tAbnormal Sale -  trade, foreclosure, short sale\n",
      "       AdjLand\tAdjoining Land Purchase\n",
      "       Alloca\tAllocation - two linked properties with separate deeds, typically condo with a garage unit\t\n",
      "       Family\tSale between family members\n",
      "       Partial\tHome was not completed when last assessed (associated with New Homes)\n",
      "\n"
     ]
    }
   ],
   "source": [
    "with open(DESCRIPTION, 'r') as f:\n",
    "   info = f.read()\n",
    "print(info)"
   ]
  },
  {
   "cell_type": "code",
   "execution_count": 90,
   "metadata": {
    "ExecuteTime": {
     "end_time": "2021-08-02T10:43:13.748527Z",
     "start_time": "2021-08-02T10:43:13.705640Z"
    },
    "colab": {
     "base_uri": "https://localhost:8080/"
    },
    "id": "2I_4fPD5aqWe",
    "outputId": "22721c2e-fd88-4759-d9a4-5219cf53bfd4"
   },
   "outputs": [
    {
     "data": {
      "text/html": [
       "<div>\n",
       "<style scoped>\n",
       "    .dataframe tbody tr th:only-of-type {\n",
       "        vertical-align: middle;\n",
       "    }\n",
       "\n",
       "    .dataframe tbody tr th {\n",
       "        vertical-align: top;\n",
       "    }\n",
       "\n",
       "    .dataframe thead th {\n",
       "        text-align: right;\n",
       "    }\n",
       "</style>\n",
       "<table border=\"1\" class=\"dataframe\">\n",
       "  <thead>\n",
       "    <tr style=\"text-align: right;\">\n",
       "      <th></th>\n",
       "      <th>MSSubClass</th>\n",
       "      <th>MSZoning</th>\n",
       "      <th>LotFrontage</th>\n",
       "      <th>LotArea</th>\n",
       "      <th>Street</th>\n",
       "      <th>Alley</th>\n",
       "      <th>LotShape</th>\n",
       "      <th>LandContour</th>\n",
       "      <th>Utilities</th>\n",
       "      <th>LotConfig</th>\n",
       "      <th>...</th>\n",
       "      <th>PoolArea</th>\n",
       "      <th>PoolQC</th>\n",
       "      <th>Fence</th>\n",
       "      <th>MiscFeature</th>\n",
       "      <th>MiscVal</th>\n",
       "      <th>MoSold</th>\n",
       "      <th>YrSold</th>\n",
       "      <th>SaleType</th>\n",
       "      <th>SaleCondition</th>\n",
       "      <th>SalePrice</th>\n",
       "    </tr>\n",
       "    <tr>\n",
       "      <th>Id</th>\n",
       "      <th></th>\n",
       "      <th></th>\n",
       "      <th></th>\n",
       "      <th></th>\n",
       "      <th></th>\n",
       "      <th></th>\n",
       "      <th></th>\n",
       "      <th></th>\n",
       "      <th></th>\n",
       "      <th></th>\n",
       "      <th></th>\n",
       "      <th></th>\n",
       "      <th></th>\n",
       "      <th></th>\n",
       "      <th></th>\n",
       "      <th></th>\n",
       "      <th></th>\n",
       "      <th></th>\n",
       "      <th></th>\n",
       "      <th></th>\n",
       "      <th></th>\n",
       "    </tr>\n",
       "  </thead>\n",
       "  <tbody>\n",
       "    <tr>\n",
       "      <th>1</th>\n",
       "      <td>2-STORY 1946 &amp; NEWER</td>\n",
       "      <td>RL</td>\n",
       "      <td>65.0</td>\n",
       "      <td>8450</td>\n",
       "      <td>Pave</td>\n",
       "      <td>NaN</td>\n",
       "      <td>Reg</td>\n",
       "      <td>Lvl</td>\n",
       "      <td>AllPub</td>\n",
       "      <td>Inside</td>\n",
       "      <td>...</td>\n",
       "      <td>0</td>\n",
       "      <td>NaN</td>\n",
       "      <td>NaN</td>\n",
       "      <td>NaN</td>\n",
       "      <td>0</td>\n",
       "      <td>Feb</td>\n",
       "      <td>2008</td>\n",
       "      <td>WD</td>\n",
       "      <td>Normal</td>\n",
       "      <td>208500.0</td>\n",
       "    </tr>\n",
       "    <tr>\n",
       "      <th>2</th>\n",
       "      <td>1-STORY 1946 &amp; NEWER ALL STYLES</td>\n",
       "      <td>RL</td>\n",
       "      <td>80.0</td>\n",
       "      <td>9600</td>\n",
       "      <td>Pave</td>\n",
       "      <td>NaN</td>\n",
       "      <td>Reg</td>\n",
       "      <td>Lvl</td>\n",
       "      <td>AllPub</td>\n",
       "      <td>FR2</td>\n",
       "      <td>...</td>\n",
       "      <td>0</td>\n",
       "      <td>NaN</td>\n",
       "      <td>NaN</td>\n",
       "      <td>NaN</td>\n",
       "      <td>0</td>\n",
       "      <td>May</td>\n",
       "      <td>2007</td>\n",
       "      <td>WD</td>\n",
       "      <td>Normal</td>\n",
       "      <td>181500.0</td>\n",
       "    </tr>\n",
       "    <tr>\n",
       "      <th>3</th>\n",
       "      <td>2-STORY 1946 &amp; NEWER</td>\n",
       "      <td>RL</td>\n",
       "      <td>68.0</td>\n",
       "      <td>11250</td>\n",
       "      <td>Pave</td>\n",
       "      <td>NaN</td>\n",
       "      <td>IR1</td>\n",
       "      <td>Lvl</td>\n",
       "      <td>AllPub</td>\n",
       "      <td>Inside</td>\n",
       "      <td>...</td>\n",
       "      <td>0</td>\n",
       "      <td>NaN</td>\n",
       "      <td>NaN</td>\n",
       "      <td>NaN</td>\n",
       "      <td>0</td>\n",
       "      <td>Sep</td>\n",
       "      <td>2008</td>\n",
       "      <td>WD</td>\n",
       "      <td>Normal</td>\n",
       "      <td>223500.0</td>\n",
       "    </tr>\n",
       "    <tr>\n",
       "      <th>4</th>\n",
       "      <td>2-STORY 1945 &amp; OLDER</td>\n",
       "      <td>RL</td>\n",
       "      <td>60.0</td>\n",
       "      <td>9550</td>\n",
       "      <td>Pave</td>\n",
       "      <td>NaN</td>\n",
       "      <td>IR1</td>\n",
       "      <td>Lvl</td>\n",
       "      <td>AllPub</td>\n",
       "      <td>Corner</td>\n",
       "      <td>...</td>\n",
       "      <td>0</td>\n",
       "      <td>NaN</td>\n",
       "      <td>NaN</td>\n",
       "      <td>NaN</td>\n",
       "      <td>0</td>\n",
       "      <td>Feb</td>\n",
       "      <td>2006</td>\n",
       "      <td>WD</td>\n",
       "      <td>Abnorml</td>\n",
       "      <td>140000.0</td>\n",
       "    </tr>\n",
       "    <tr>\n",
       "      <th>5</th>\n",
       "      <td>2-STORY 1946 &amp; NEWER</td>\n",
       "      <td>RL</td>\n",
       "      <td>84.0</td>\n",
       "      <td>14260</td>\n",
       "      <td>Pave</td>\n",
       "      <td>NaN</td>\n",
       "      <td>IR1</td>\n",
       "      <td>Lvl</td>\n",
       "      <td>AllPub</td>\n",
       "      <td>FR2</td>\n",
       "      <td>...</td>\n",
       "      <td>0</td>\n",
       "      <td>NaN</td>\n",
       "      <td>NaN</td>\n",
       "      <td>NaN</td>\n",
       "      <td>0</td>\n",
       "      <td>Dec</td>\n",
       "      <td>2008</td>\n",
       "      <td>WD</td>\n",
       "      <td>Normal</td>\n",
       "      <td>250000.0</td>\n",
       "    </tr>\n",
       "  </tbody>\n",
       "</table>\n",
       "<p>5 rows × 80 columns</p>\n",
       "</div>"
      ],
      "text/plain": [
       "                         MSSubClass MSZoning  LotFrontage  LotArea Street  \\\n",
       "Id                                                                          \n",
       "1              2-STORY 1946 & NEWER       RL         65.0     8450   Pave   \n",
       "2   1-STORY 1946 & NEWER ALL STYLES       RL         80.0     9600   Pave   \n",
       "3              2-STORY 1946 & NEWER       RL         68.0    11250   Pave   \n",
       "4              2-STORY 1945 & OLDER       RL         60.0     9550   Pave   \n",
       "5              2-STORY 1946 & NEWER       RL         84.0    14260   Pave   \n",
       "\n",
       "   Alley LotShape LandContour Utilities LotConfig  ... PoolArea PoolQC Fence  \\\n",
       "Id                                                 ...                         \n",
       "1    NaN      Reg         Lvl    AllPub    Inside  ...        0    NaN   NaN   \n",
       "2    NaN      Reg         Lvl    AllPub       FR2  ...        0    NaN   NaN   \n",
       "3    NaN      IR1         Lvl    AllPub    Inside  ...        0    NaN   NaN   \n",
       "4    NaN      IR1         Lvl    AllPub    Corner  ...        0    NaN   NaN   \n",
       "5    NaN      IR1         Lvl    AllPub       FR2  ...        0    NaN   NaN   \n",
       "\n",
       "   MiscFeature MiscVal MoSold  YrSold  SaleType  SaleCondition  SalePrice  \n",
       "Id                                                                         \n",
       "1          NaN       0    Feb    2008        WD         Normal   208500.0  \n",
       "2          NaN       0    May    2007        WD         Normal   181500.0  \n",
       "3          NaN       0    Sep    2008        WD         Normal   223500.0  \n",
       "4          NaN       0    Feb    2006        WD        Abnorml   140000.0  \n",
       "5          NaN       0    Dec    2008        WD         Normal   250000.0  \n",
       "\n",
       "[5 rows x 80 columns]"
      ]
     },
     "execution_count": 90,
     "metadata": {},
     "output_type": "execute_result"
    }
   ],
   "source": [
    "# categories described as numbers\n",
    "mssubclass_mapping = {\n",
    "    20: '1-STORY 1946 & NEWER ALL STYLES',\n",
    "    30: '1-STORY 1945 & OLDER',\n",
    "    40: '1-STORY W/FINISHED ATTIC ALL AGES',\n",
    "    45: '1-1/2 STORY - UNFINISHED ALL AGES',\n",
    "    50: '1-1/2 STORY FINISHED ALL AGES',\n",
    "    60: '2-STORY 1946 & NEWER',\n",
    "    70: '2-STORY 1945 & OLDER',\n",
    "    75: '2-1/2 STORY ALL AGES',\n",
    "    80: 'SPLIT OR MULTI-LEVEL',\n",
    "    85: 'SPLIT FOYER',\n",
    "    90: 'DUPLEX - ALL STYLES AND AGES',\n",
    "   120: '1-STORY PUD (Planned Unit Development) - 1946 & NEWER',\n",
    "   150: '1-1/2 STORY PUD - ALL AGES',\n",
    "   160: '2-STORY PUD - 1946 & NEWER',\n",
    "   180: 'PUD - MULTILEVEL - INCL SPLIT LEV/FOYER',\n",
    "   190: '2 FAMILY CONVERSION - ALL STYLES AND AGES'\n",
    "}\n",
    "mosold_mapping = dict(zip(range(1, 13), ['Jan', 'Feb', 'Mar','Apr', 'May', 'Jun', \n",
    "                                         'Jul', 'Aug', 'Sep', 'Oct', 'Nov', 'Dec']))\n",
    "\n",
    "full_house.loc[:, 'MSSubClass'] = full_house.MSSubClass.map(mssubclass_mapping)\n",
    "full_house.loc[:, 'MoSold'] = full_house.MoSold.map(mosold_mapping)\n",
    "\n",
    "full_house.head()"
   ]
  },
  {
   "cell_type": "code",
   "execution_count": 91,
   "metadata": {
    "ExecuteTime": {
     "end_time": "2021-08-02T10:43:13.780441Z",
     "start_time": "2021-08-02T10:43:13.750555Z"
    },
    "id": "VmU1AIEqca1H"
   },
   "outputs": [],
   "source": [
    "# Categories with implied ordering\n",
    "full_house.loc[:, 'KitchenQual'] = pd.Categorical(full_house.KitchenQual, ordered=True, categories=['Po', 'Fa', 'TA', 'Gd', 'Ex'])\n",
    "full_house.loc[:, 'OverallQual'] = pd.Categorical(full_house.OverallQual, ordered=True)\n",
    "full_house.loc[:, 'OverallCond'] = pd.Categorical(full_house.OverallQual, ordered=True)\n",
    "full_house.loc[:, 'YearBuilt'] = pd.Categorical(full_house.YearBuilt, ordered=True)\n",
    "full_house.loc[:, 'YearRemodAdd'] = pd.Categorical(full_house.YearRemodAdd, ordered=True)\n",
    "full_house.loc[:, 'MoSold'] = pd.Categorical(full_house.MoSold, ordered=True)\n",
    "full_house.loc[:, 'YrSold'] = pd.Categorical(full_house.YrSold, ordered=True)\n",
    "full_house.loc[:, 'GarageYrBlt'] = pd.Categorical(full_house.GarageYrBlt, ordered=True)"
   ]
  },
  {
   "cell_type": "code",
   "execution_count": 92,
   "metadata": {
    "ExecuteTime": {
     "end_time": "2021-08-02T10:43:13.811392Z",
     "start_time": "2021-08-02T10:43:13.782436Z"
    },
    "colab": {
     "base_uri": "https://localhost:8080/"
    },
    "id": "6Y-E3u-0ka-j",
    "outputId": "890f42c0-6777-4765-b13e-ed655f166404"
   },
   "outputs": [
    {
     "name": "stdout",
     "output_type": "stream",
     "text": [
      "<class 'pandas.core.frame.DataFrame'>\n",
      "Int64Index: 2919 entries, 1 to 2919\n",
      "Data columns (total 80 columns):\n",
      " #   Column         Non-Null Count  Dtype   \n",
      "---  ------         --------------  -----   \n",
      " 0   MSSubClass     2919 non-null   object  \n",
      " 1   MSZoning       2915 non-null   object  \n",
      " 2   LotFrontage    2433 non-null   float64 \n",
      " 3   LotArea        2919 non-null   int64   \n",
      " 4   Street         2919 non-null   object  \n",
      " 5   Alley          198 non-null    object  \n",
      " 6   LotShape       2919 non-null   object  \n",
      " 7   LandContour    2919 non-null   object  \n",
      " 8   Utilities      2917 non-null   object  \n",
      " 9   LotConfig      2919 non-null   object  \n",
      " 10  LandSlope      2919 non-null   object  \n",
      " 11  Neighborhood   2919 non-null   object  \n",
      " 12  Condition1     2919 non-null   object  \n",
      " 13  Condition2     2919 non-null   object  \n",
      " 14  BldgType       2919 non-null   object  \n",
      " 15  HouseStyle     2919 non-null   object  \n",
      " 16  OverallQual    2919 non-null   category\n",
      " 17  OverallCond    2919 non-null   category\n",
      " 18  YearBuilt      2919 non-null   category\n",
      " 19  YearRemodAdd   2919 non-null   category\n",
      " 20  RoofStyle      2919 non-null   object  \n",
      " 21  RoofMatl       2919 non-null   object  \n",
      " 22  Exterior1st    2918 non-null   object  \n",
      " 23  Exterior2nd    2918 non-null   object  \n",
      " 24  MasVnrType     2895 non-null   object  \n",
      " 25  MasVnrArea     2896 non-null   float64 \n",
      " 26  ExterQual      2919 non-null   object  \n",
      " 27  ExterCond      2919 non-null   object  \n",
      " 28  Foundation     2919 non-null   object  \n",
      " 29  BsmtQual       2838 non-null   object  \n",
      " 30  BsmtCond       2837 non-null   object  \n",
      " 31  BsmtExposure   2837 non-null   object  \n",
      " 32  BsmtFinType1   2840 non-null   object  \n",
      " 33  BsmtFinSF1     2918 non-null   float64 \n",
      " 34  BsmtFinType2   2839 non-null   object  \n",
      " 35  BsmtFinSF2     2918 non-null   float64 \n",
      " 36  BsmtUnfSF      2918 non-null   float64 \n",
      " 37  TotalBsmtSF    2918 non-null   float64 \n",
      " 38  Heating        2919 non-null   object  \n",
      " 39  HeatingQC      2919 non-null   object  \n",
      " 40  CentralAir     2919 non-null   object  \n",
      " 41  Electrical     2918 non-null   object  \n",
      " 42  1stFlrSF       2919 non-null   int64   \n",
      " 43  2ndFlrSF       2919 non-null   int64   \n",
      " 44  LowQualFinSF   2919 non-null   int64   \n",
      " 45  GrLivArea      2919 non-null   int64   \n",
      " 46  BsmtFullBath   2917 non-null   float64 \n",
      " 47  BsmtHalfBath   2917 non-null   float64 \n",
      " 48  FullBath       2919 non-null   int64   \n",
      " 49  HalfBath       2919 non-null   int64   \n",
      " 50  BedroomAbvGr   2919 non-null   int64   \n",
      " 51  KitchenAbvGr   2919 non-null   int64   \n",
      " 52  KitchenQual    2918 non-null   category\n",
      " 53  TotRmsAbvGrd   2919 non-null   int64   \n",
      " 54  Functional     2917 non-null   object  \n",
      " 55  Fireplaces     2919 non-null   int64   \n",
      " 56  FireplaceQu    1499 non-null   object  \n",
      " 57  GarageType     2762 non-null   object  \n",
      " 58  GarageYrBlt    2760 non-null   category\n",
      " 59  GarageFinish   2760 non-null   object  \n",
      " 60  GarageCars     2918 non-null   float64 \n",
      " 61  GarageArea     2918 non-null   float64 \n",
      " 62  GarageQual     2760 non-null   object  \n",
      " 63  GarageCond     2760 non-null   object  \n",
      " 64  PavedDrive     2919 non-null   object  \n",
      " 65  WoodDeckSF     2919 non-null   int64   \n",
      " 66  OpenPorchSF    2919 non-null   int64   \n",
      " 67  EnclosedPorch  2919 non-null   int64   \n",
      " 68  3SsnPorch      2919 non-null   int64   \n",
      " 69  ScreenPorch    2919 non-null   int64   \n",
      " 70  PoolArea       2919 non-null   int64   \n",
      " 71  PoolQC         10 non-null     object  \n",
      " 72  Fence          571 non-null    object  \n",
      " 73  MiscFeature    105 non-null    object  \n",
      " 74  MiscVal        2919 non-null   int64   \n",
      " 75  MoSold         2919 non-null   category\n",
      " 76  YrSold         2919 non-null   category\n",
      " 77  SaleType       2918 non-null   object  \n",
      " 78  SaleCondition  2919 non-null   object  \n",
      " 79  SalePrice      1460 non-null   float64 \n",
      "dtypes: category(8), float64(11), int64(18), object(43)\n",
      "memory usage: 1.7+ MB\n"
     ]
    }
   ],
   "source": [
    "full_house.info()"
   ]
  },
  {
   "cell_type": "markdown",
   "metadata": {
    "id": "n93R5X1hdX7Q"
   },
   "source": [
    "### Target variable analysis"
   ]
  },
  {
   "cell_type": "code",
   "execution_count": 93,
   "metadata": {
    "ExecuteTime": {
     "end_time": "2021-08-02T10:43:14.033260Z",
     "start_time": "2021-08-02T10:43:13.813352Z"
    },
    "colab": {
     "base_uri": "https://localhost:8080/",
     "height": 646
    },
    "id": "puFbuY8TdfFc",
    "outputId": "2a9c581b-683d-4a4e-fec9-23ee800841ce"
   },
   "outputs": [
    {
     "data": {
      "image/png": "[encoded data removed]",
      "text/plain": [
       "<Figure size 720x504 with 1 Axes>"
      ]
     },
     "metadata": {},
     "output_type": "display_data"
    }
   ],
   "source": [
    "ax = sns.distplot(train.SalePrice, norm_hist=True)\n",
    "ax.set_title('Sale price distribution');"
   ]
  },
  {
   "cell_type": "code",
   "execution_count": 94,
   "metadata": {
    "ExecuteTime": {
     "end_time": "2021-08-02T10:43:14.220005Z",
     "start_time": "2021-08-02T10:43:14.034260Z"
    },
    "colab": {
     "base_uri": "https://localhost:8080/",
     "height": 646
    },
    "id": "-pZI6FGXdn64",
    "outputId": "199f3ef2-0c7c-499f-dbe9-a6314843da4c"
   },
   "outputs": [
    {
     "data": {
      "image/png": "[encoded data removed]",
      "text/plain": [
       "<Figure size 720x504 with 1 Axes>"
      ]
     },
     "metadata": {},
     "output_type": "display_data"
    }
   ],
   "source": [
    "ax = sns.distplot(np.log(train.SalePrice), norm_hist=True)\n",
    "ax.set_title('Log sale price distribution');"
   ]
  },
  {
   "cell_type": "code",
   "execution_count": 95,
   "metadata": {
    "ExecuteTime": {
     "end_time": "2021-08-02T10:43:14.424494Z",
     "start_time": "2021-08-02T10:43:14.222759Z"
    },
    "colab": {
     "base_uri": "https://localhost:8080/",
     "height": 646
    },
    "id": "QIPtwTO2drWC",
    "outputId": "1525358b-990b-4e00-b3ca-5cff0e72b4ef"
   },
   "outputs": [
    {
     "data": {
      "image/png": "[encoded data removed]",
      "text/plain": [
       "<Figure size 720x504 with 1 Axes>"
      ]
     },
     "metadata": {},
     "output_type": "display_data"
    }
   ],
   "source": [
    "ax = sns.distplot(np.sqrt(train.SalePrice), norm_hist=True)\n",
    "ax.set_title('sqrt sale price distribution');"
   ]
  },
  {
   "cell_type": "markdown",
   "metadata": {
    "id": "VxrlODUTfyq2"
   },
   "source": [
    "### Top correlated features"
   ]
  },
  {
   "cell_type": "code",
   "execution_count": 96,
   "metadata": {
    "ExecuteTime": {
     "end_time": "2021-08-02T10:43:15.010924Z",
     "start_time": "2021-08-02T10:43:14.426486Z"
    },
    "colab": {
     "base_uri": "https://localhost:8080/",
     "height": 578
    },
    "id": "k2XOPDiUfkEM",
    "outputId": "a1acea5b-e2a1-4611-b044-dfb99f22f29f"
   },
   "outputs": [
    {
     "data": {
      "image/png": "[encoded data removed]",
      "text/plain": [
       "<Figure size 720x504 with 2 Axes>"
      ]
     },
     "metadata": {},
     "output_type": "display_data"
    }
   ],
   "source": [
    "corr = train.corr()\n",
    "condition = np.abs(corr.SalePrice) > 0.5\n",
    "top_corr = corr.loc[condition, condition]\n",
    "sns.heatmap(top_corr, annot=True);"
   ]
  },
  {
   "cell_type": "code",
   "execution_count": 97,
   "metadata": {
    "ExecuteTime": {
     "end_time": "2021-08-02T10:43:15.415841Z",
     "start_time": "2021-08-02T10:43:15.012921Z"
    },
    "colab": {
     "base_uri": "https://localhost:8080/",
     "height": 528
    },
    "id": "9XjwzninfxmK",
    "outputId": "b914b531-07a0-4f8e-8634-0ba92b8bd9ce"
   },
   "outputs": [
    {
     "data": {
      "image/png": "[encoded data removed]",
      "text/plain": [
       "<Figure size 720x504 with 1 Axes>"
      ]
     },
     "metadata": {},
     "output_type": "display_data"
    }
   ],
   "source": [
    "univariate_regplot('GrLivArea', 'SalePrice', train);"
   ]
  },
  {
   "cell_type": "code",
   "execution_count": 98,
   "metadata": {
    "ExecuteTime": {
     "end_time": "2021-08-02T10:43:15.603340Z",
     "start_time": "2021-08-02T10:43:15.419831Z"
    },
    "colab": {
     "base_uri": "https://localhost:8080/",
     "height": 508
    },
    "id": "6VwsZceWjC9U",
    "outputId": "50a8af65-5d10-4aaf-ab0f-6a3cfa44bfff"
   },
   "outputs": [
    {
     "data": {
      "image/png": "[encoded data removed]",
      "text/plain": [
       "<Figure size 720x504 with 1 Axes>"
      ]
     },
     "metadata": {},
     "output_type": "display_data"
    }
   ],
   "source": [
    "sns.boxplot(y='GarageArea', x='GarageCars', data=train);"
   ]
  },
  {
   "cell_type": "markdown",
   "metadata": {
    "id": "J3kr6FD9kQwp"
   },
   "source": [
    "# Pipeline"
   ]
  },
  {
   "cell_type": "markdown",
   "metadata": {
    "id": "nadwNxyEk1GP"
   },
   "source": [
    "## Preprocessing"
   ]
  },
  {
   "cell_type": "markdown",
   "metadata": {
    "id": "HPpzCR9vk5FI"
   },
   "source": [
    "### Features categorization"
   ]
  },
  {
   "cell_type": "code",
   "execution_count": 99,
   "metadata": {
    "ExecuteTime": {
     "end_time": "2021-08-02T10:43:15.635254Z",
     "start_time": "2021-08-02T10:43:15.606332Z"
    },
    "id": "FmN4QgcHkOWy"
   },
   "outputs": [],
   "source": [
    "CATEGORICAL = full_house.select_dtypes(include=['object']).columns.tolist()\n",
    "ORDINAL = full_house.select_dtypes(include=['category']).columns.tolist()\n",
    "NUMERICAL = full_house.select_dtypes(exclude=['category', 'object']).columns.tolist()\n",
    "if TARGET in NUMERICAL:\n",
    "    NUMERICAL.remove(TARGET)"
   ]
  },
  {
   "cell_type": "code",
   "execution_count": 100,
   "metadata": {
    "ExecuteTime": {
     "end_time": "2021-08-02T10:43:15.651260Z",
     "start_time": "2021-08-02T10:43:15.637249Z"
    },
    "id": "iZMCUkkClD_S"
   },
   "outputs": [],
   "source": [
    "# Apply encoding to ordinal values, .cat.categories - decoding\n",
    "full_house[ORDINAL] = full_house[ORDINAL].apply(lambda x: x.cat.codes)"
   ]
  },
  {
   "cell_type": "code",
   "execution_count": 144,
   "metadata": {
    "ExecuteTime": {
     "end_time": "2021-08-02T10:49:13.979774Z",
     "start_time": "2021-08-02T10:49:13.961822Z"
    },
    "id": "NOz-jlD2l92y"
   },
   "outputs": [],
   "source": [
    "train = full_house.loc[full_house.SalePrice.notnull()]\n",
    "test = full_house.loc[full_house.SalePrice.isnull()]"
   ]
  },
  {
   "cell_type": "code",
   "execution_count": 155,
   "metadata": {
    "ExecuteTime": {
     "end_time": "2021-08-02T10:50:30.095820Z",
     "start_time": "2021-08-02T10:50:30.077869Z"
    }
   },
   "outputs": [
    {
     "data": {
      "text/html": [
       "<div>\n",
       "<style scoped>\n",
       "    .dataframe tbody tr th:only-of-type {\n",
       "        vertical-align: middle;\n",
       "    }\n",
       "\n",
       "    .dataframe tbody tr th {\n",
       "        vertical-align: top;\n",
       "    }\n",
       "\n",
       "    .dataframe thead th {\n",
       "        text-align: right;\n",
       "    }\n",
       "</style>\n",
       "<table border=\"1\" class=\"dataframe\">\n",
       "  <thead>\n",
       "    <tr style=\"text-align: right;\">\n",
       "      <th></th>\n",
       "      <th>MSSubClass</th>\n",
       "      <th>MSZoning</th>\n",
       "      <th>LotFrontage</th>\n",
       "      <th>LotArea</th>\n",
       "      <th>Street</th>\n",
       "      <th>Alley</th>\n",
       "      <th>LotShape</th>\n",
       "      <th>LandContour</th>\n",
       "      <th>Utilities</th>\n",
       "      <th>LotConfig</th>\n",
       "      <th>...</th>\n",
       "      <th>PoolArea</th>\n",
       "      <th>PoolQC</th>\n",
       "      <th>Fence</th>\n",
       "      <th>MiscFeature</th>\n",
       "      <th>MiscVal</th>\n",
       "      <th>MoSold</th>\n",
       "      <th>YrSold</th>\n",
       "      <th>SaleType</th>\n",
       "      <th>SaleCondition</th>\n",
       "      <th>SalePrice</th>\n",
       "    </tr>\n",
       "    <tr>\n",
       "      <th>Id</th>\n",
       "      <th></th>\n",
       "      <th></th>\n",
       "      <th></th>\n",
       "      <th></th>\n",
       "      <th></th>\n",
       "      <th></th>\n",
       "      <th></th>\n",
       "      <th></th>\n",
       "      <th></th>\n",
       "      <th></th>\n",
       "      <th></th>\n",
       "      <th></th>\n",
       "      <th></th>\n",
       "      <th></th>\n",
       "      <th></th>\n",
       "      <th></th>\n",
       "      <th></th>\n",
       "      <th></th>\n",
       "      <th></th>\n",
       "      <th></th>\n",
       "      <th></th>\n",
       "    </tr>\n",
       "  </thead>\n",
       "  <tbody>\n",
       "  </tbody>\n",
       "</table>\n",
       "<p>0 rows × 80 columns</p>\n",
       "</div>"
      ],
      "text/plain": [
       "Empty DataFrame\n",
       "Columns: [MSSubClass, MSZoning, LotFrontage, LotArea, Street, Alley, LotShape, LandContour, Utilities, LotConfig, LandSlope, Neighborhood, Condition1, Condition2, BldgType, HouseStyle, OverallQual, OverallCond, YearBuilt, YearRemodAdd, RoofStyle, RoofMatl, Exterior1st, Exterior2nd, MasVnrType, MasVnrArea, ExterQual, ExterCond, Foundation, BsmtQual, BsmtCond, BsmtExposure, BsmtFinType1, BsmtFinSF1, BsmtFinType2, BsmtFinSF2, BsmtUnfSF, TotalBsmtSF, Heating, HeatingQC, CentralAir, Electrical, 1stFlrSF, 2ndFlrSF, LowQualFinSF, GrLivArea, BsmtFullBath, BsmtHalfBath, FullBath, HalfBath, BedroomAbvGr, KitchenAbvGr, KitchenQual, TotRmsAbvGrd, Functional, Fireplaces, FireplaceQu, GarageType, GarageYrBlt, GarageFinish, GarageCars, GarageArea, GarageQual, GarageCond, PavedDrive, WoodDeckSF, OpenPorchSF, EnclosedPorch, 3SsnPorch, ScreenPorch, PoolArea, PoolQC, Fence, MiscFeature, MiscVal, MoSold, YrSold, SaleType, SaleCondition, SalePrice]\n",
       "Index: []\n",
       "\n",
       "[0 rows x 80 columns]"
      ]
     },
     "execution_count": 155,
     "metadata": {},
     "output_type": "execute_result"
    }
   ],
   "source": [
    "full_house[full_house.SalePrice < 20000]"
   ]
  },
  {
   "cell_type": "markdown",
   "metadata": {
    "id": "PG-pb7CvnzOP"
   },
   "source": [
    "### Remove obvious outliers"
   ]
  },
  {
   "cell_type": "code",
   "execution_count": 150,
   "metadata": {
    "ExecuteTime": {
     "end_time": "2021-08-02T10:49:47.750875Z",
     "start_time": "2021-08-02T10:49:47.740901Z"
    },
    "id": "Enfr8Xuyn5Kz"
   },
   "outputs": [],
   "source": [
    "outliers_ind = ((train.SalePrice < 20000) & (train.GrLivArea > 4000))\n",
    "train = train.loc[~outliers_ind]"
   ]
  },
  {
   "cell_type": "markdown",
   "metadata": {
    "id": "P8ER-9GBvKwN"
   },
   "source": [
    "## Split"
   ]
  },
  {
   "cell_type": "markdown",
   "metadata": {
    "id": "mdGmLyjF-ZBE"
   },
   "source": [
    "![](https://www.brainstobytes.com/content/images/2020/01/Sets.png)"
   ]
  },
  {
   "cell_type": "markdown",
   "metadata": {
    "id": "ejAimn-dIr9p"
   },
   "source": [
    "Every time we are fitting machine learning model we need to know if it works well on new data it haven't seen before.\n",
    "That's why we use **TRAIN** dataset (X and y) for tuning model parameters and **TEST** dataset to calculate model performance metrics\n",
    "\n",
    "https://scikit-learn.org/stable/modules/generated/sklearn.model_selection.train_test_split.html\n",
    "\n",
    "Important parameters:  \n",
    "*train size/test size* - float from 0 to 1 as proportion of data going to either dataset. \n",
    "train size + test size = 1 (!)  \n",
    "*stratify* - boolean. Valid for classification tasks. If **True** - proportions of target classes in train and test dataset\n",
    "\n",
    "basic interface:  \n",
    "train_test_split(X, y)"
   ]
  },
  {
   "cell_type": "code",
   "execution_count": 151,
   "metadata": {
    "ExecuteTime": {
     "end_time": "2021-08-02T10:49:49.959928Z",
     "start_time": "2021-08-02T10:49:49.948932Z"
    },
    "id": "80xRiTsNH6yK"
   },
   "outputs": [],
   "source": [
    "target = train[TARGET].values\n",
    "train_X, val_X, train_y, val_y = train_test_split(train.drop(TARGET, axis=1), target, \n",
    "                                                  random_state=SEED, shuffle=True, test_size = 0.2)"
   ]
  },
  {
   "cell_type": "markdown",
   "metadata": {
    "id": "eQlgMZEUs1WE"
   },
   "source": [
    "## Transformation"
   ]
  },
  {
   "cell_type": "code",
   "execution_count": 104,
   "metadata": {
    "ExecuteTime": {
     "end_time": "2021-08-02T10:43:15.729069Z",
     "start_time": "2021-08-02T10:43:15.715106Z"
    },
    "id": "FFF1Vtqps0Aj"
   },
   "outputs": [],
   "source": [
    "# Imputing missing values\n",
    "\n",
    "# Numerical\n",
    "numerical_def = gen_features(\n",
    "    columns=[[c] for c in NUMERICAL],\n",
    "    classes=[\n",
    "        {'class': SimpleImputer, 'strategy': 'median'},\n",
    "        {'class': StandardScaler}\n",
    "    ]\n",
    ")\n",
    "\n",
    "# Ordinal\n",
    "ordinal_def = gen_features(\n",
    "    columns=[[c] for c in ORDINAL],\n",
    "    classes=[\n",
    "        {'class': SimpleImputer, 'strategy': 'most_frequent'}\n",
    "    ]\n",
    ")\n",
    "\n",
    "# Categorical\n",
    "categorical_def = gen_features(\n",
    "    columns=[[c] for c in CATEGORICAL],\n",
    "    classes=[\n",
    "        {'class': SimpleImputer, 'strategy': 'constant', 'fill_value': 'Unknown'},\n",
    "        {'class': OneHotEncoder, 'class': OneHotEncoder, 'handle_unknown': 'ignore'}\n",
    "    ]    \n",
    ")"
   ]
  },
  {
   "cell_type": "code",
   "execution_count": 105,
   "metadata": {
    "ExecuteTime": {
     "end_time": "2021-08-02T10:43:15.745026Z",
     "start_time": "2021-08-02T10:43:15.732061Z"
    },
    "colab": {
     "base_uri": "https://localhost:8080/",
     "height": 34
    },
    "id": "leYMYmaDtEw2",
    "outputId": "85c30b41-0f3c-4e4e-fad2-f6075c861e1f"
   },
   "outputs": [
    {
     "data": {
      "text/plain": [
       "(2919, 80)"
      ]
     },
     "execution_count": 105,
     "metadata": {},
     "output_type": "execute_result"
    }
   ],
   "source": [
    "full_house.shape"
   ]
  },
  {
   "cell_type": "code",
   "execution_count": 106,
   "metadata": {
    "ExecuteTime": {
     "end_time": "2021-08-02T10:43:15.760983Z",
     "start_time": "2021-08-02T10:43:15.747022Z"
    },
    "colab": {
     "base_uri": "https://localhost:8080/",
     "height": 34
    },
    "id": "DCmqwBbAtKsy",
    "outputId": "4d2cb86a-ff9b-4111-a9bc-13b5df5f52b7"
   },
   "outputs": [
    {
     "data": {
      "text/plain": [
       "79"
      ]
     },
     "execution_count": 106,
     "metadata": {},
     "output_type": "execute_result"
    }
   ],
   "source": [
    "# \n",
    "features = numerical_def + categorical_def + ordinal_def\n",
    "mapper = DataFrameMapper(features)\n",
    "len(features)"
   ]
  },
  {
   "cell_type": "code",
   "execution_count": 194,
   "metadata": {
    "ExecuteTime": {
     "end_time": "2021-08-02T12:48:43.623443Z",
     "start_time": "2021-08-02T12:48:43.566593Z"
    }
   },
   "outputs": [
    {
     "data": {
      "text/plain": [
       "[(['LotFrontage'], [SimpleImputer(strategy='median'), StandardScaler()], {}),\n",
       " (['LotArea'], [SimpleImputer(strategy='median'), StandardScaler()], {}),\n",
       " (['MasVnrArea'], [SimpleImputer(strategy='median'), StandardScaler()], {}),\n",
       " (['BsmtFinSF1'], [SimpleImputer(strategy='median'), StandardScaler()], {}),\n",
       " (['BsmtFinSF2'], [SimpleImputer(strategy='median'), StandardScaler()], {}),\n",
       " (['BsmtUnfSF'], [SimpleImputer(strategy='median'), StandardScaler()], {}),\n",
       " (['TotalBsmtSF'], [SimpleImputer(strategy='median'), StandardScaler()], {}),\n",
       " (['1stFlrSF'], [SimpleImputer(strategy='median'), StandardScaler()], {}),\n",
       " (['2ndFlrSF'], [SimpleImputer(strategy='median'), StandardScaler()], {}),\n",
       " (['LowQualFinSF'], [SimpleImputer(strategy='median'), StandardScaler()], {}),\n",
       " (['GrLivArea'], [SimpleImputer(strategy='median'), StandardScaler()], {}),\n",
       " (['BsmtFullBath'], [SimpleImputer(strategy='median'), StandardScaler()], {}),\n",
       " (['BsmtHalfBath'], [SimpleImputer(strategy='median'), StandardScaler()], {}),\n",
       " (['FullBath'], [SimpleImputer(strategy='median'), StandardScaler()], {}),\n",
       " (['HalfBath'], [SimpleImputer(strategy='median'), StandardScaler()], {}),\n",
       " (['BedroomAbvGr'], [SimpleImputer(strategy='median'), StandardScaler()], {}),\n",
       " (['KitchenAbvGr'], [SimpleImputer(strategy='median'), StandardScaler()], {}),\n",
       " (['TotRmsAbvGrd'], [SimpleImputer(strategy='median'), StandardScaler()], {}),\n",
       " (['Fireplaces'], [SimpleImputer(strategy='median'), StandardScaler()], {}),\n",
       " (['GarageCars'], [SimpleImputer(strategy='median'), StandardScaler()], {}),\n",
       " (['GarageArea'], [SimpleImputer(strategy='median'), StandardScaler()], {}),\n",
       " (['WoodDeckSF'], [SimpleImputer(strategy='median'), StandardScaler()], {}),\n",
       " (['OpenPorchSF'], [SimpleImputer(strategy='median'), StandardScaler()], {}),\n",
       " (['EnclosedPorch'], [SimpleImputer(strategy='median'), StandardScaler()], {}),\n",
       " (['3SsnPorch'], [SimpleImputer(strategy='median'), StandardScaler()], {}),\n",
       " (['ScreenPorch'], [SimpleImputer(strategy='median'), StandardScaler()], {}),\n",
       " (['PoolArea'], [SimpleImputer(strategy='median'), StandardScaler()], {}),\n",
       " (['MiscVal'], [SimpleImputer(strategy='median'), StandardScaler()], {}),\n",
       " (['MSSubClass'],\n",
       "  [SimpleImputer(fill_value='Unknown', strategy='constant'),\n",
       "   OneHotEncoder(handle_unknown='ignore')],\n",
       "  {}),\n",
       " (['MSZoning'],\n",
       "  [SimpleImputer(fill_value='Unknown', strategy='constant'),\n",
       "   OneHotEncoder(handle_unknown='ignore')],\n",
       "  {}),\n",
       " (['Street'],\n",
       "  [SimpleImputer(fill_value='Unknown', strategy='constant'),\n",
       "   OneHotEncoder(handle_unknown='ignore')],\n",
       "  {}),\n",
       " (['Alley'],\n",
       "  [SimpleImputer(fill_value='Unknown', strategy='constant'),\n",
       "   OneHotEncoder(handle_unknown='ignore')],\n",
       "  {}),\n",
       " (['LotShape'],\n",
       "  [SimpleImputer(fill_value='Unknown', strategy='constant'),\n",
       "   OneHotEncoder(handle_unknown='ignore')],\n",
       "  {}),\n",
       " (['LandContour'],\n",
       "  [SimpleImputer(fill_value='Unknown', strategy='constant'),\n",
       "   OneHotEncoder(handle_unknown='ignore')],\n",
       "  {}),\n",
       " (['Utilities'],\n",
       "  [SimpleImputer(fill_value='Unknown', strategy='constant'),\n",
       "   OneHotEncoder(handle_unknown='ignore')],\n",
       "  {}),\n",
       " (['LotConfig'],\n",
       "  [SimpleImputer(fill_value='Unknown', strategy='constant'),\n",
       "   OneHotEncoder(handle_unknown='ignore')],\n",
       "  {}),\n",
       " (['LandSlope'],\n",
       "  [SimpleImputer(fill_value='Unknown', strategy='constant'),\n",
       "   OneHotEncoder(handle_unknown='ignore')],\n",
       "  {}),\n",
       " (['Neighborhood'],\n",
       "  [SimpleImputer(fill_value='Unknown', strategy='constant'),\n",
       "   OneHotEncoder(handle_unknown='ignore')],\n",
       "  {}),\n",
       " (['Condition1'],\n",
       "  [SimpleImputer(fill_value='Unknown', strategy='constant'),\n",
       "   OneHotEncoder(handle_unknown='ignore')],\n",
       "  {}),\n",
       " (['Condition2'],\n",
       "  [SimpleImputer(fill_value='Unknown', strategy='constant'),\n",
       "   OneHotEncoder(handle_unknown='ignore')],\n",
       "  {}),\n",
       " (['BldgType'],\n",
       "  [SimpleImputer(fill_value='Unknown', strategy='constant'),\n",
       "   OneHotEncoder(handle_unknown='ignore')],\n",
       "  {}),\n",
       " (['HouseStyle'],\n",
       "  [SimpleImputer(fill_value='Unknown', strategy='constant'),\n",
       "   OneHotEncoder(handle_unknown='ignore')],\n",
       "  {}),\n",
       " (['RoofStyle'],\n",
       "  [SimpleImputer(fill_value='Unknown', strategy='constant'),\n",
       "   OneHotEncoder(handle_unknown='ignore')],\n",
       "  {}),\n",
       " (['RoofMatl'],\n",
       "  [SimpleImputer(fill_value='Unknown', strategy='constant'),\n",
       "   OneHotEncoder(handle_unknown='ignore')],\n",
       "  {}),\n",
       " (['Exterior1st'],\n",
       "  [SimpleImputer(fill_value='Unknown', strategy='constant'),\n",
       "   OneHotEncoder(handle_unknown='ignore')],\n",
       "  {}),\n",
       " (['Exterior2nd'],\n",
       "  [SimpleImputer(fill_value='Unknown', strategy='constant'),\n",
       "   OneHotEncoder(handle_unknown='ignore')],\n",
       "  {}),\n",
       " (['MasVnrType'],\n",
       "  [SimpleImputer(fill_value='Unknown', strategy='constant'),\n",
       "   OneHotEncoder(handle_unknown='ignore')],\n",
       "  {}),\n",
       " (['ExterQual'],\n",
       "  [SimpleImputer(fill_value='Unknown', strategy='constant'),\n",
       "   OneHotEncoder(handle_unknown='ignore')],\n",
       "  {}),\n",
       " (['ExterCond'],\n",
       "  [SimpleImputer(fill_value='Unknown', strategy='constant'),\n",
       "   OneHotEncoder(handle_unknown='ignore')],\n",
       "  {}),\n",
       " (['Foundation'],\n",
       "  [SimpleImputer(fill_value='Unknown', strategy='constant'),\n",
       "   OneHotEncoder(handle_unknown='ignore')],\n",
       "  {}),\n",
       " (['BsmtQual'],\n",
       "  [SimpleImputer(fill_value='Unknown', strategy='constant'),\n",
       "   OneHotEncoder(handle_unknown='ignore')],\n",
       "  {}),\n",
       " (['BsmtCond'],\n",
       "  [SimpleImputer(fill_value='Unknown', strategy='constant'),\n",
       "   OneHotEncoder(handle_unknown='ignore')],\n",
       "  {}),\n",
       " (['BsmtExposure'],\n",
       "  [SimpleImputer(fill_value='Unknown', strategy='constant'),\n",
       "   OneHotEncoder(handle_unknown='ignore')],\n",
       "  {}),\n",
       " (['BsmtFinType1'],\n",
       "  [SimpleImputer(fill_value='Unknown', strategy='constant'),\n",
       "   OneHotEncoder(handle_unknown='ignore')],\n",
       "  {}),\n",
       " (['BsmtFinType2'],\n",
       "  [SimpleImputer(fill_value='Unknown', strategy='constant'),\n",
       "   OneHotEncoder(handle_unknown='ignore')],\n",
       "  {}),\n",
       " (['Heating'],\n",
       "  [SimpleImputer(fill_value='Unknown', strategy='constant'),\n",
       "   OneHotEncoder(handle_unknown='ignore')],\n",
       "  {}),\n",
       " (['HeatingQC'],\n",
       "  [SimpleImputer(fill_value='Unknown', strategy='constant'),\n",
       "   OneHotEncoder(handle_unknown='ignore')],\n",
       "  {}),\n",
       " (['CentralAir'],\n",
       "  [SimpleImputer(fill_value='Unknown', strategy='constant'),\n",
       "   OneHotEncoder(handle_unknown='ignore')],\n",
       "  {}),\n",
       " (['Electrical'],\n",
       "  [SimpleImputer(fill_value='Unknown', strategy='constant'),\n",
       "   OneHotEncoder(handle_unknown='ignore')],\n",
       "  {}),\n",
       " (['Functional'],\n",
       "  [SimpleImputer(fill_value='Unknown', strategy='constant'),\n",
       "   OneHotEncoder(handle_unknown='ignore')],\n",
       "  {}),\n",
       " (['FireplaceQu'],\n",
       "  [SimpleImputer(fill_value='Unknown', strategy='constant'),\n",
       "   OneHotEncoder(handle_unknown='ignore')],\n",
       "  {}),\n",
       " (['GarageType'],\n",
       "  [SimpleImputer(fill_value='Unknown', strategy='constant'),\n",
       "   OneHotEncoder(handle_unknown='ignore')],\n",
       "  {}),\n",
       " (['GarageFinish'],\n",
       "  [SimpleImputer(fill_value='Unknown', strategy='constant'),\n",
       "   OneHotEncoder(handle_unknown='ignore')],\n",
       "  {}),\n",
       " (['GarageQual'],\n",
       "  [SimpleImputer(fill_value='Unknown', strategy='constant'),\n",
       "   OneHotEncoder(handle_unknown='ignore')],\n",
       "  {}),\n",
       " (['GarageCond'],\n",
       "  [SimpleImputer(fill_value='Unknown', strategy='constant'),\n",
       "   OneHotEncoder(handle_unknown='ignore')],\n",
       "  {}),\n",
       " (['PavedDrive'],\n",
       "  [SimpleImputer(fill_value='Unknown', strategy='constant'),\n",
       "   OneHotEncoder(handle_unknown='ignore')],\n",
       "  {}),\n",
       " (['PoolQC'],\n",
       "  [SimpleImputer(fill_value='Unknown', strategy='constant'),\n",
       "   OneHotEncoder(handle_unknown='ignore')],\n",
       "  {}),\n",
       " (['Fence'],\n",
       "  [SimpleImputer(fill_value='Unknown', strategy='constant'),\n",
       "   OneHotEncoder(handle_unknown='ignore')],\n",
       "  {}),\n",
       " (['MiscFeature'],\n",
       "  [SimpleImputer(fill_value='Unknown', strategy='constant'),\n",
       "   OneHotEncoder(handle_unknown='ignore')],\n",
       "  {}),\n",
       " (['SaleType'],\n",
       "  [SimpleImputer(fill_value='Unknown', strategy='constant'),\n",
       "   OneHotEncoder(handle_unknown='ignore')],\n",
       "  {}),\n",
       " (['SaleCondition'],\n",
       "  [SimpleImputer(fill_value='Unknown', strategy='constant'),\n",
       "   OneHotEncoder(handle_unknown='ignore')],\n",
       "  {}),\n",
       " (['OverallQual'], [SimpleImputer(strategy='most_frequent')], {}),\n",
       " (['OverallCond'], [SimpleImputer(strategy='most_frequent')], {}),\n",
       " (['YearBuilt'], [SimpleImputer(strategy='most_frequent')], {}),\n",
       " (['YearRemodAdd'], [SimpleImputer(strategy='most_frequent')], {}),\n",
       " (['KitchenQual'], [SimpleImputer(strategy='most_frequent')], {}),\n",
       " (['GarageYrBlt'], [SimpleImputer(strategy='most_frequent')], {}),\n",
       " (['MoSold'], [SimpleImputer(strategy='most_frequent')], {}),\n",
       " (['YrSold'], [SimpleImputer(strategy='most_frequent')], {})]"
      ]
     },
     "execution_count": 194,
     "metadata": {},
     "output_type": "execute_result"
    }
   ],
   "source": [
    "features"
   ]
  },
  {
   "cell_type": "markdown",
   "metadata": {
    "id": "qzBWn7xD0bZp"
   },
   "source": [
    "## Linear regression"
   ]
  },
  {
   "cell_type": "markdown",
   "metadata": {
    "id": "VnOrJnUM8kbm"
   },
   "source": [
    "### LR baseline"
   ]
  },
  {
   "cell_type": "markdown",
   "metadata": {
    "id": "-cqM3oSJ4z4l"
   },
   "source": [
    "**Model interface in sklearn**\n",
    "\n",
    "All model instances have more or less the same interface:  \n",
    "\n",
    "\n",
    "```\n",
    "model.fit(X_train, y_train)  \n",
    "model.predict(X_test)  \n",
    "model.score(X_test, y_test)\n",
    "```\n"
   ]
  },
  {
   "cell_type": "code",
   "execution_count": 163,
   "metadata": {
    "ExecuteTime": {
     "end_time": "2021-08-02T11:06:20.247578Z",
     "start_time": "2021-08-02T11:06:20.020156Z"
    },
    "id": "qiuH6IwZu7cy"
   },
   "outputs": [],
   "source": [
    "# One way\n",
    "train_X_tr = pd.DataFrame(mapper.fit_transform(train_X))\n",
    "val_X_tr = pd.DataFrame(mapper.transform(val_X))\n",
    "\n",
    "# scaler = StandardScaler()\n",
    "# scaler.fit(train_y.reshape(-1, 1))\n",
    "# train_y_tr = scaler.transform(train_y.reshape(-1, 1))\n",
    "# val_y_tr = scaler.transform(val_y.reshape(-1, 1))\n",
    "\n",
    "train_y_tr = pd.Series(np.log(train_y))\n",
    "val_y_tr = pd.Series(np.log(val_y))"
   ]
  },
  {
   "cell_type": "code",
   "execution_count": 164,
   "metadata": {
    "ExecuteTime": {
     "end_time": "2021-08-02T11:06:20.479106Z",
     "start_time": "2021-08-02T11:06:20.312411Z"
    },
    "colab": {
     "base_uri": "https://localhost:8080/",
     "height": 52
    },
    "id": "vGFH5VdF50AN",
    "outputId": "6b7bb65d-bfbc-4753-a436-98d73905057c"
   },
   "outputs": [
    {
     "data": {
      "text/plain": [
       "LinearRegression()"
      ]
     },
     "execution_count": 164,
     "metadata": {},
     "output_type": "execute_result"
    },
    {
     "name": "stdout",
     "output_type": "stream",
     "text": [
      "\n",
      "R2 Score: -3.0929064770520476e+16\n"
     ]
    }
   ],
   "source": [
    "linreg = LinearRegression()\n",
    "linreg.fit(train_X_tr, train_y_tr)\n",
    "print(f'\\nR2 Score: {linreg.score(val_X_tr, val_y_tr)}')"
   ]
  },
  {
   "cell_type": "markdown",
   "metadata": {
    "id": "UAWyNFl2u7c2"
   },
   "source": [
    "##### Score is VERY bad. Let's find examples where model is ridiculously wrong:"
   ]
  },
  {
   "cell_type": "code",
   "execution_count": 109,
   "metadata": {
    "ExecuteTime": {
     "end_time": "2021-08-02T10:43:16.203657Z",
     "start_time": "2021-08-02T10:43:16.190668Z"
    },
    "id": "8uqO_qqNu7c2"
   },
   "outputs": [],
   "source": [
    "preds = linreg.predict(val_X_tr)\n",
    "odd_idx = np.where( np.abs(preds)>20)[0]"
   ]
  },
  {
   "cell_type": "code",
   "execution_count": 175,
   "metadata": {
    "ExecuteTime": {
     "end_time": "2021-08-02T11:10:25.792043Z",
     "start_time": "2021-08-02T11:10:25.772096Z"
    },
    "id": "ynx8FSJ9u7c3",
    "outputId": "512aa7ee-ff3e-4d9b-efe8-50581fd30881"
   },
   "outputs": [
    {
     "data": {
      "text/plain": [
       "array([ 7.05908727e+08, -9.80151100e+07,  7.05908727e+08,  7.05908728e+08,\n",
       "       -6.72833597e+07, -2.82949252e+07,  4.18932301e+08])"
      ]
     },
     "execution_count": 175,
     "metadata": {},
     "output_type": "execute_result"
    }
   ],
   "source": [
    "preds[odd_idx]"
   ]
  },
  {
   "cell_type": "code",
   "execution_count": 186,
   "metadata": {
    "ExecuteTime": {
     "end_time": "2021-08-02T11:12:51.862545Z",
     "start_time": "2021-08-02T11:12:51.843563Z"
    },
    "id": "vqxX4Q8Xu7c4",
    "outputId": "8836a8b6-0782-40bd-a1db-b2d400e73a40"
   },
   "outputs": [
    {
     "name": "stdout",
     "output_type": "stream",
     "text": [
      "(292, 313)\n",
      "(285, 313)\n"
     ]
    }
   ],
   "source": [
    "#remove those points from dataset\n",
    "\n",
    "valid_examples = [index for index in val_X_tr.index if index not in odd_idx]\n",
    "print(val_X_tr.shape)\n",
    "val_X_tr = val_X_tr.loc[valid_examples]\n",
    "print(val_X_tr.shape)\n",
    "val_y_tr = val_y_tr.loc[valid_examples]"
   ]
  },
  {
   "cell_type": "code",
   "execution_count": 187,
   "metadata": {
    "ExecuteTime": {
     "end_time": "2021-08-02T11:12:54.060653Z",
     "start_time": "2021-08-02T11:12:54.042699Z"
    },
    "id": "J19_jrIUu7dB"
   },
   "outputs": [],
   "source": [
    "#DO THE SAME WITH INITIAL DATA\n",
    "val_X = val_X.iloc[valid_examples]\n",
    "val_y = pd.Series(val_y).iloc[valid_examples]"
   ]
  },
  {
   "cell_type": "code",
   "execution_count": 113,
   "metadata": {
    "ExecuteTime": {
     "end_time": "2021-08-02T10:43:16.267496Z",
     "start_time": "2021-08-02T10:43:16.255496Z"
    },
    "id": "Y5OofURdu7dH",
    "outputId": "d29232fe-ec0a-4b9a-a31c-300ec92bae93"
   },
   "outputs": [
    {
     "name": "stdout",
     "output_type": "stream",
     "text": [
      "\n",
      "R2 Score: 0.8664392065614019\n"
     ]
    }
   ],
   "source": [
    "print(f'\\nR2 Score: {linreg.score(val_X_tr, val_y_tr)}')"
   ]
  },
  {
   "cell_type": "code",
   "execution_count": 114,
   "metadata": {
    "ExecuteTime": {
     "end_time": "2021-08-02T10:43:16.897775Z",
     "start_time": "2021-08-02T10:43:16.269457Z"
    },
    "colab": {
     "base_uri": "https://localhost:8080/",
     "height": 193
    },
    "id": "GFq0_XdzMzfe",
    "outputId": "438200c5-32ba-4f7b-9302-30cf6349ec96"
   },
   "outputs": [
    {
     "name": "stdout",
     "output_type": "stream",
     "text": [
      "RMSE val: \n",
      "0.15744886907874958\n",
      "------------------------------\n",
      "RMSE cross-validation scores:\n",
      "[4.62120940e+05 2.19162594e+07 1.43836710e-01 1.74579234e-01\n",
      " 8.43896992e+06]\n",
      "------------------------------\n",
      "RMSE average cross-validation scores:\n",
      "6163470.12282452\n",
      "------------------------------\n"
     ]
    }
   ],
   "source": [
    "#cross validation\n",
    "def rmse(y_gt, Y_pr):\n",
    "    return np.sqrt(mean_squared_error(y_gt, Y_pr))\n",
    "\n",
    "print('RMSE val: ')\n",
    "print(rmse(val_y_tr, linreg.predict(val_X_tr)))\n",
    "print('-'*30)\n",
    "\n",
    "rmse_scorer = metrics.make_scorer(rmse)\n",
    "print('RMSE cross-validation scores:')\n",
    "CV_score = cross_val_score(linreg, train_X_tr, train_y_tr, cv=5, scoring=rmse_scorer, )\n",
    "print(CV_score)\n",
    "print('-'*30)\n",
    "\n",
    "print('RMSE average cross-validation scores:')\n",
    "print(np.sum(CV_score)/5)\n",
    "print('-'*30)"
   ]
  },
  {
   "cell_type": "markdown",
   "metadata": {
    "id": "DRPypJ6Eu7dJ"
   },
   "source": [
    "##### Self-Exercise:\n",
    "figure out which of points in training data make scores THAT big"
   ]
  },
  {
   "cell_type": "code",
   "execution_count": 115,
   "metadata": {
    "ExecuteTime": {
     "end_time": "2021-08-02T10:43:16.929690Z",
     "start_time": "2021-08-02T10:43:16.899770Z"
    },
    "colab": {
     "base_uri": "https://localhost:8080/",
     "height": 166
    },
    "id": "4tU8_PYdSuzQ",
    "outputId": "dd841188-7994-43c2-b6c7-126008b84d5a"
   },
   "outputs": [
    {
     "data": {
      "text/html": [
       "<div>\n",
       "<style scoped>\n",
       "    .dataframe tbody tr th:only-of-type {\n",
       "        vertical-align: middle;\n",
       "    }\n",
       "\n",
       "    .dataframe tbody tr th {\n",
       "        vertical-align: top;\n",
       "    }\n",
       "\n",
       "    .dataframe thead th {\n",
       "        text-align: right;\n",
       "    }\n",
       "</style>\n",
       "<table border=\"1\" class=\"dataframe\">\n",
       "  <thead>\n",
       "    <tr style=\"text-align: right;\">\n",
       "      <th></th>\n",
       "      <th>Score</th>\n",
       "    </tr>\n",
       "  </thead>\n",
       "  <tbody>\n",
       "    <tr>\n",
       "      <th>MAE</th>\n",
       "      <td>0.097579</td>\n",
       "    </tr>\n",
       "    <tr>\n",
       "      <th>MSE</th>\n",
       "      <td>0.024790</td>\n",
       "    </tr>\n",
       "    <tr>\n",
       "      <th>R2</th>\n",
       "      <td>0.866439</td>\n",
       "    </tr>\n",
       "    <tr>\n",
       "      <th>RMSE</th>\n",
       "      <td>0.157449</td>\n",
       "    </tr>\n",
       "  </tbody>\n",
       "</table>\n",
       "</div>"
      ],
      "text/plain": [
       "         Score\n",
       "MAE   0.097579\n",
       "MSE   0.024790\n",
       "R2    0.866439\n",
       "RMSE  0.157449"
      ]
     },
     "execution_count": 115,
     "metadata": {},
     "output_type": "execute_result"
    }
   ],
   "source": [
    "#metrics\n",
    "predictions = linreg.predict(val_X_tr)\n",
    "\n",
    "mae = metrics.mean_absolute_error(val_y_tr, predictions)\n",
    "mse = metrics.mean_squared_error(val_y_tr, predictions)\n",
    "r2 = metrics.r2_score(val_y_tr, predictions)\n",
    "rmse = np.sqrt(metrics.mean_squared_error(val_y_tr, predictions))\n",
    "\n",
    "pd.DataFrame.from_dict({'MAE':mae, 'MSE':mse, 'R2':r2, 'RMSE':rmse}, orient='index', columns=['Score'])"
   ]
  },
  {
   "cell_type": "code",
   "execution_count": 189,
   "metadata": {
    "ExecuteTime": {
     "end_time": "2021-08-02T11:18:05.930641Z",
     "start_time": "2021-08-02T11:18:05.588556Z"
    },
    "colab": {
     "base_uri": "https://localhost:8080/",
     "height": 1000
    },
    "id": "9RhhgTSrVb0r",
    "outputId": "0b220d31-9df5-4f28-ce92-1e748effe1c0"
   },
   "outputs": [
    {
     "data": {
      "image/png": "[encoded data removed]",
      "text/plain": [
       "<Figure size 720x504 with 1 Axes>"
      ]
     },
     "metadata": {},
     "output_type": "display_data"
    },
    {
     "data": {
      "image/png": "[encoded data removed]",
      "text/plain": [
       "<Figure size 720x504 with 1 Axes>"
      ]
     },
     "metadata": {},
     "output_type": "display_data"
    }
   ],
   "source": [
    "#errors visualization\n",
    "#can be helpful to better understand behavior of model\n",
    "\n",
    "pred = linreg.predict(val_X_tr)\n",
    "errors = val_y_tr - pred\n",
    "\n",
    "plt.scatter(list(range(len(errors))),errors);\n",
    "plt.title(\"Distibution of errors\")\n",
    "plt.ylabel('Error');\n",
    "plt.xlabel('Index');\n",
    "plt.show();\n",
    "\n",
    "plt.scatter(pred,errors);\n",
    "plt.title('Relationship of true value vs error (resudual analysis)')\n",
    "plt.ylabel('Error');\n",
    "plt.xlabel('True value');\n",
    "plt.show();"
   ]
  },
  {
   "cell_type": "markdown",
   "metadata": {
    "id": "y3L450-pVL3E"
   },
   "source": [
    "### Pipeline"
   ]
  },
  {
   "cell_type": "code",
   "execution_count": 190,
   "metadata": {
    "ExecuteTime": {
     "end_time": "2021-08-02T11:18:10.444834Z",
     "start_time": "2021-08-02T11:18:10.436856Z"
    },
    "id": "IyQdZ8b-VT92"
   },
   "outputs": [],
   "source": [
    "# Evaluation\n",
    "\n",
    "def evaluate_model(train, val, tr_y, val_y, pipeline):\n",
    "    pipeline.fit(train, tr_y)\n",
    "    pred_val = pipeline.predict(val)\n",
    "    pred_train = pipeline.predict(train)\n",
    "    mapper = pipeline.named_steps['mapper']\n",
    "\n",
    "    return pd.DataFrame({\n",
    "        'train_RMSE': [np.sqrt(mean_squared_error(tr_y, pred_train))], \n",
    "        'train_R2': [r2_score(tr_y, pred_train)],\n",
    "        'val_RMSE': [np.sqrt(mean_squared_error(val_y, pred_val))],\n",
    "        'val_R2': [r2_score(val_y, pred_val)]\n",
    "    }), mapper.transformed_names_"
   ]
  },
  {
   "cell_type": "code",
   "execution_count": 191,
   "metadata": {
    "ExecuteTime": {
     "end_time": "2021-08-02T11:18:10.585888Z",
     "start_time": "2021-08-02T11:18:10.580880Z"
    },
    "id": "aJqAJ1SJ0aXb"
   },
   "outputs": [],
   "source": [
    "# Cool way\n",
    "pipeline = Pipeline([\n",
    "    ('mapper', mapper),\n",
    "    ('estimator', LinearRegression())\n",
    "])"
   ]
  },
  {
   "cell_type": "code",
   "execution_count": 193,
   "metadata": {
    "ExecuteTime": {
     "end_time": "2021-08-02T12:35:45.293102Z",
     "start_time": "2021-08-02T12:35:44.660401Z"
    },
    "colab": {
     "base_uri": "https://localhost:8080/",
     "height": 77
    },
    "id": "7w5ht0vO0r7j",
    "outputId": "c63e3484-e7d6-49ff-9eac-e332053d2793"
   },
   "outputs": [
    {
     "data": {
      "text/html": [
       "<div>\n",
       "<style scoped>\n",
       "    .dataframe tbody tr th:only-of-type {\n",
       "        vertical-align: middle;\n",
       "    }\n",
       "\n",
       "    .dataframe tbody tr th {\n",
       "        vertical-align: top;\n",
       "    }\n",
       "\n",
       "    .dataframe thead th {\n",
       "        text-align: right;\n",
       "    }\n",
       "</style>\n",
       "<table border=\"1\" class=\"dataframe\">\n",
       "  <thead>\n",
       "    <tr style=\"text-align: right;\">\n",
       "      <th></th>\n",
       "      <th>train_RMSE</th>\n",
       "      <th>train_R2</th>\n",
       "      <th>val_RMSE</th>\n",
       "      <th>val_R2</th>\n",
       "    </tr>\n",
       "  </thead>\n",
       "  <tbody>\n",
       "    <tr>\n",
       "      <th>0</th>\n",
       "      <td>0.092958</td>\n",
       "      <td>0.943316</td>\n",
       "      <td>0.157449</td>\n",
       "      <td>0.866439</td>\n",
       "    </tr>\n",
       "  </tbody>\n",
       "</table>\n",
       "</div>"
      ],
      "text/plain": [
       "   train_RMSE  train_R2  val_RMSE    val_R2\n",
       "0    0.092958  0.943316  0.157449  0.866439"
      ]
     },
     "execution_count": 193,
     "metadata": {},
     "output_type": "execute_result"
    }
   ],
   "source": [
    "# Evaluate the same model using $\\log(y)$ instead of $y$\n",
    "\n",
    "pipeline = Pipeline([\n",
    "    ('mapper', mapper),\n",
    "    ('estimator', LinearRegression())\n",
    "])\n",
    "scores, _ = evaluate_model(train_X, val_X, train_y_tr, val_y_tr, pipeline)\n",
    "scores"
   ]
  },
  {
   "cell_type": "markdown",
   "metadata": {
    "id": "S2lHOpd18gKI"
   },
   "source": [
    "### Drop some features"
   ]
  },
  {
   "cell_type": "markdown",
   "metadata": {
    "id": "GJbrwOTeAL4B"
   },
   "source": [
    "Select only features that have a correlation coefficient with `SalePrice` more than 0.5. \n",
    "\n",
    "Remove from the list `GarageArea` feature as it is highly correlated with `GarageCars`\n",
    "\n",
    "Filter currect feature_definition pipeline and fit the linear regression model only on top correlated features"
   ]
  },
  {
   "cell_type": "code",
   "execution_count": 120,
   "metadata": {
    "ExecuteTime": {
     "end_time": "2021-08-02T10:43:17.762458Z",
     "start_time": "2021-08-02T10:43:17.748496Z"
    },
    "id": "OvaaZRnaALIJ"
   },
   "outputs": [],
   "source": [
    "ind = np.abs(corr[TARGET]) > 0.5\n",
    "top_corr = corr[TARGET][ind].index.tolist()\n",
    "top_corr.remove(TARGET)\n",
    "top_corr.remove('GarageArea')"
   ]
  },
  {
   "cell_type": "code",
   "execution_count": 121,
   "metadata": {
    "ExecuteTime": {
     "end_time": "2021-08-02T10:43:17.778416Z",
     "start_time": "2021-08-02T10:43:17.764453Z"
    },
    "colab": {
     "base_uri": "https://localhost:8080/",
     "height": 175
    },
    "id": "TUCiNW3x8p7A",
    "outputId": "7e0e4b05-357f-4ae2-8a48-8ffc0708f1b3"
   },
   "outputs": [
    {
     "data": {
      "text/plain": [
       "['OverallQual',\n",
       " 'YearBuilt',\n",
       " 'YearRemodAdd',\n",
       " 'TotalBsmtSF',\n",
       " '1stFlrSF',\n",
       " 'GrLivArea',\n",
       " 'FullBath',\n",
       " 'TotRmsAbvGrd',\n",
       " 'GarageCars']"
      ]
     },
     "execution_count": 121,
     "metadata": {},
     "output_type": "execute_result"
    }
   ],
   "source": [
    "top_corr"
   ]
  },
  {
   "cell_type": "code",
   "execution_count": 122,
   "metadata": {
    "ExecuteTime": {
     "end_time": "2021-08-02T10:43:17.794374Z",
     "start_time": "2021-08-02T10:43:17.780411Z"
    },
    "id": "88H7HWxn8fBt"
   },
   "outputs": [],
   "source": [
    "top_corr_features = [f for f in features if f[0][0] in top_corr]\n",
    "pipeline = Pipeline([\n",
    "    ('mapper', DataFrameMapper(top_corr_features)),\n",
    "    ('estimator', LinearRegression())\n",
    "])"
   ]
  },
  {
   "cell_type": "code",
   "execution_count": 123,
   "metadata": {
    "ExecuteTime": {
     "end_time": "2021-08-02T10:43:17.855212Z",
     "start_time": "2021-08-02T10:43:17.798363Z"
    },
    "colab": {
     "base_uri": "https://localhost:8080/",
     "height": 77
    },
    "id": "FdbkjHP-BM-h",
    "outputId": "9a2236d1-5cd3-4087-88c8-7445980ac2be"
   },
   "outputs": [
    {
     "data": {
      "text/html": [
       "<div>\n",
       "<style scoped>\n",
       "    .dataframe tbody tr th:only-of-type {\n",
       "        vertical-align: middle;\n",
       "    }\n",
       "\n",
       "    .dataframe tbody tr th {\n",
       "        vertical-align: top;\n",
       "    }\n",
       "\n",
       "    .dataframe thead th {\n",
       "        text-align: right;\n",
       "    }\n",
       "</style>\n",
       "<table border=\"1\" class=\"dataframe\">\n",
       "  <thead>\n",
       "    <tr style=\"text-align: right;\">\n",
       "      <th></th>\n",
       "      <th>train_RMSE</th>\n",
       "      <th>train_R2</th>\n",
       "      <th>val_RMSE</th>\n",
       "      <th>val_R2</th>\n",
       "    </tr>\n",
       "  </thead>\n",
       "  <tbody>\n",
       "    <tr>\n",
       "      <th>0</th>\n",
       "      <td>0.169546</td>\n",
       "      <td>0.811433</td>\n",
       "      <td>0.169801</td>\n",
       "      <td>0.844662</td>\n",
       "    </tr>\n",
       "  </tbody>\n",
       "</table>\n",
       "</div>"
      ],
      "text/plain": [
       "   train_RMSE  train_R2  val_RMSE    val_R2\n",
       "0    0.169546  0.811433  0.169801  0.844662"
      ]
     },
     "execution_count": 123,
     "metadata": {},
     "output_type": "execute_result"
    }
   ],
   "source": [
    "scores, _ = evaluate_model(train_X, val_X, train_y_tr, val_y_tr, pipeline)\n",
    "scores"
   ]
  },
  {
   "cell_type": "markdown",
   "metadata": {
    "id": "evOKs_W18qvW"
   },
   "source": [
    "## Regularization"
   ]
  },
  {
   "cell_type": "code",
   "execution_count": 124,
   "metadata": {
    "ExecuteTime": {
     "end_time": "2021-08-02T10:43:17.870170Z",
     "start_time": "2021-08-02T10:43:17.859203Z"
    },
    "id": "ROBkZvtX82yq"
   },
   "outputs": [],
   "source": [
    "def plot_importance(est, colnames, top_n=20):\n",
    "    importance = pd.DataFrame({\n",
    "        'abs_weight': np.abs(est.coef_),\n",
    "        'feature': colnames\n",
    "    })\n",
    "    imp20 = importance.sort_values(by='abs_weight', ascending=False)[:top_n]\n",
    "    sns.barplot(y='feature', x='abs_weight', data=imp20, orient='h');"
   ]
  },
  {
   "cell_type": "code",
   "execution_count": 125,
   "metadata": {
    "ExecuteTime": {
     "end_time": "2021-08-02T10:43:18.638509Z",
     "start_time": "2021-08-02T10:43:17.873163Z"
    },
    "id": "531HpmC7u7dy",
    "outputId": "f58ec992-ad2b-4872-b440-633c0156286c"
   },
   "outputs": [
    {
     "data": {
      "text/html": [
       "<div>\n",
       "<style scoped>\n",
       "    .dataframe tbody tr th:only-of-type {\n",
       "        vertical-align: middle;\n",
       "    }\n",
       "\n",
       "    .dataframe tbody tr th {\n",
       "        vertical-align: top;\n",
       "    }\n",
       "\n",
       "    .dataframe thead th {\n",
       "        text-align: right;\n",
       "    }\n",
       "</style>\n",
       "<table border=\"1\" class=\"dataframe\">\n",
       "  <thead>\n",
       "    <tr style=\"text-align: right;\">\n",
       "      <th></th>\n",
       "      <th>train_RMSE</th>\n",
       "      <th>train_R2</th>\n",
       "      <th>val_RMSE</th>\n",
       "      <th>val_R2</th>\n",
       "    </tr>\n",
       "  </thead>\n",
       "  <tbody>\n",
       "    <tr>\n",
       "      <th>0</th>\n",
       "      <td>19801.27124</td>\n",
       "      <td>0.934263</td>\n",
       "      <td>30709.758685</td>\n",
       "      <td>0.877968</td>\n",
       "    </tr>\n",
       "  </tbody>\n",
       "</table>\n",
       "</div>"
      ],
      "text/plain": [
       "    train_RMSE  train_R2      val_RMSE    val_R2\n",
       "0  19801.27124  0.934263  30709.758685  0.877968"
      ]
     },
     "execution_count": 125,
     "metadata": {},
     "output_type": "execute_result"
    },
    {
     "data": {
      "image/png": "[encoded data removed]",
      "text/plain": [
       "<Figure size 720x504 with 1 Axes>"
      ]
     },
     "metadata": {},
     "output_type": "display_data"
    }
   ],
   "source": [
    "lasso = Lasso()\n",
    "pipeline = Pipeline([('mapper', DataFrameMapper(features)), \n",
    "                     ('estimator', lasso)])\n",
    "\n",
    "scores, colnames = evaluate_model(train_X, val_X, train_y, val_y, pipeline)\n",
    "scores\n",
    "\n",
    "plot_importance(pipeline.named_steps['estimator'], colnames)"
   ]
  },
  {
   "cell_type": "code",
   "execution_count": 126,
   "metadata": {
    "ExecuteTime": {
     "end_time": "2021-08-02T10:43:19.282646Z",
     "start_time": "2021-08-02T10:43:18.640304Z"
    },
    "id": "1FrUOXrlu7dz",
    "outputId": "a3accef0-5586-4a8f-d79d-10a9fb1bf462"
   },
   "outputs": [
    {
     "data": {
      "text/html": [
       "<div>\n",
       "<style scoped>\n",
       "    .dataframe tbody tr th:only-of-type {\n",
       "        vertical-align: middle;\n",
       "    }\n",
       "\n",
       "    .dataframe tbody tr th {\n",
       "        vertical-align: top;\n",
       "    }\n",
       "\n",
       "    .dataframe thead th {\n",
       "        text-align: right;\n",
       "    }\n",
       "</style>\n",
       "<table border=\"1\" class=\"dataframe\">\n",
       "  <thead>\n",
       "    <tr style=\"text-align: right;\">\n",
       "      <th></th>\n",
       "      <th>train_RMSE</th>\n",
       "      <th>train_R2</th>\n",
       "      <th>val_RMSE</th>\n",
       "      <th>val_R2</th>\n",
       "    </tr>\n",
       "  </thead>\n",
       "  <tbody>\n",
       "    <tr>\n",
       "      <th>0</th>\n",
       "      <td>25358.652628</td>\n",
       "      <td>0.892186</td>\n",
       "      <td>30453.613681</td>\n",
       "      <td>0.879996</td>\n",
       "    </tr>\n",
       "  </tbody>\n",
       "</table>\n",
       "</div>"
      ],
      "text/plain": [
       "     train_RMSE  train_R2      val_RMSE    val_R2\n",
       "0  25358.652628  0.892186  30453.613681  0.879996"
      ]
     },
     "execution_count": 126,
     "metadata": {},
     "output_type": "execute_result"
    },
    {
     "data": {
      "image/png": "[encoded data removed]",
      "text/plain": [
       "<Figure size 720x504 with 1 Axes>"
      ]
     },
     "metadata": {},
     "output_type": "display_data"
    }
   ],
   "source": [
    "# the same but with stronger regularization\n",
    "# (pay attention to absolute values of coefficients)\n",
    "\n",
    "lasso = Lasso(alpha=200)\n",
    "pipeline = Pipeline([('mapper', DataFrameMapper(features)), \n",
    "                     ('estimator', lasso)])\n",
    "\n",
    "scores, colnames = evaluate_model(train_X, val_X, train_y, val_y, pipeline)\n",
    "scores\n",
    "\n",
    "plot_importance(pipeline.named_steps['estimator'], colnames)"
   ]
  },
  {
   "cell_type": "markdown",
   "metadata": {
    "id": "dTe-uHH_CEut"
   },
   "source": [
    "##### Self-Exercise:\n",
    "Show dependency between top 2 features (not encoded) and target variable."
   ]
  },
  {
   "cell_type": "code",
   "execution_count": 195,
   "metadata": {
    "ExecuteTime": {
     "end_time": "2021-08-02T16:01:14.786303Z",
     "start_time": "2021-08-02T16:01:14.460980Z"
    }
   },
   "outputs": [
    {
     "data": {
      "text/plain": [
       "<AxesSubplot:xlabel='RoofMatl', ylabel='SalePrice'>"
      ]
     },
     "execution_count": 195,
     "metadata": {},
     "output_type": "execute_result"
    },
    {
     "data": {
      "image/png": "[encoded data removed]",
      "text/plain": [
       "<Figure size 720x504 with 1 Axes>"
      ]
     },
     "metadata": {},
     "output_type": "display_data"
    }
   ],
   "source": [
    "sns.boxplot(x=\"RoofMatl\", y=\"SalePrice\", data=train_X.assign(SalePrice = train_y))"
   ]
  },
  {
   "cell_type": "markdown",
   "metadata": {
    "id": "q6r_eQjB83h2"
   },
   "source": [
    "##  Hyperparameters tuning"
   ]
  },
  {
   "cell_type": "markdown",
   "metadata": {
    "id": "A58rcRRO-51i"
   },
   "source": [
    "Cross validation\n",
    "\n",
    "![alt text](https://alexforrest.github.io/images/cv.png)\n",
    "\n",
    "Cross-validation is train/test split and metric computation done several times (usually 3-10 depending on data)"
   ]
  },
  {
   "cell_type": "markdown",
   "metadata": {
    "id": "vlujY36H8-SI"
   },
   "source": [
    "Time series split\n",
    "\n",
    "![alt text](https://i.stack.imgur.com/fXZ6k.png)"
   ]
  },
  {
   "cell_type": "code",
   "execution_count": 127,
   "metadata": {
    "ExecuteTime": {
     "end_time": "2021-08-02T10:43:19.298559Z",
     "start_time": "2021-08-02T10:43:19.284635Z"
    },
    "id": "0vSLv6z388aA"
   },
   "outputs": [],
   "source": [
    "cv = KFold(n_splits=5, shuffle=True, random_state=SEED)\n",
    "\n",
    "pipeline = Pipeline([\n",
    "    ('mapper', DataFrameMapper(features)),\n",
    "    ('estimator', ElasticNet(random_state=SEED))\n",
    "])\n",
    "\n",
    "grid = {\n",
    "    'estimator__alpha': np.linspace(0, 300, 10),\n",
    "    'estimator__l1_ratio': np.arange(0, 1.1, 0.1)\n",
    "}\n",
    "\n",
    "gs = GridSearchCV(pipeline, grid, \n",
    "                  n_jobs=-1, \n",
    "                  scoring=['neg_mean_squared_error', 'r2'], \n",
    "                  refit='neg_mean_squared_error', \n",
    "                  cv=cv)"
   ]
  },
  {
   "cell_type": "code",
   "execution_count": 128,
   "metadata": {
    "ExecuteTime": {
     "end_time": "2021-08-02T10:44:15.921047Z",
     "start_time": "2021-08-02T10:43:19.300554Z"
    },
    "colab": {
     "base_uri": "https://localhost:8080/",
     "height": 1000
    },
    "id": "53A_PUeGOvbz",
    "outputId": "60446d4b-c38b-4e6f-aed8-b68c17c2dcd1"
   },
   "outputs": [
    {
     "name": "stdout",
     "output_type": "stream",
     "text": [
      "Wall time: 56.2 s\n"
     ]
    },
    {
     "data": {
      "text/plain": [
       "GridSearchCV(cv=KFold(n_splits=5, random_state=42, shuffle=True),\n",
       "             estimator=Pipeline(steps=[('mapper',\n",
       "                                        DataFrameMapper(drop_cols=[],\n",
       "                                                        features=[(['LotFrontage'],\n",
       "                                                                   [SimpleImputer(strategy='median'),\n",
       "                                                                    StandardScaler()],\n",
       "                                                                   {}),\n",
       "                                                                  (['LotArea'],\n",
       "                                                                   [SimpleImputer(strategy='median'),\n",
       "                                                                    StandardScaler()],\n",
       "                                                                   {}),\n",
       "                                                                  (['MasVnrArea'],\n",
       "                                                                   [SimpleImputer(strategy='median'),\n",
       "                                                                    StandardScaler()],\n",
       "                                                                   {}...\n",
       "                                                                    OneHotEncoder(handle_unknown='ignore')],\n",
       "                                                                   {}), ...])),\n",
       "                                       ('estimator',\n",
       "                                        ElasticNet(random_state=42))]),\n",
       "             n_jobs=-1,\n",
       "             param_grid={'estimator__alpha': array([  0.        ,  33.33333333,  66.66666667, 100.        ,\n",
       "       133.33333333, 166.66666667, 200.        , 233.33333333,\n",
       "       266.66666667, 300.        ]),\n",
       "                         'estimator__l1_ratio': array([0. , 0.1, 0.2, 0.3, 0.4, 0.5, 0.6, 0.7, 0.8, 0.9, 1. ])},\n",
       "             refit='neg_mean_squared_error',\n",
       "             scoring=['neg_mean_squared_error', 'r2'])"
      ]
     },
     "execution_count": 128,
     "metadata": {},
     "output_type": "execute_result"
    }
   ],
   "source": [
    "%%time\n",
    "gs.fit(train_X, train_y);"
   ]
  },
  {
   "cell_type": "code",
   "execution_count": 129,
   "metadata": {
    "ExecuteTime": {
     "end_time": "2021-08-02T10:44:15.937046Z",
     "start_time": "2021-08-02T10:44:15.923077Z"
    },
    "colab": {
     "base_uri": "https://localhost:8080/",
     "height": 34
    },
    "id": "QqlA1yHSO2k4",
    "outputId": "a3a102a6-7d1a-48c5-9e8c-70ed59072b5e"
   },
   "outputs": [
    {
     "data": {
      "text/plain": [
       "{'estimator__alpha': 200.0, 'estimator__l1_ratio': 1.0}"
      ]
     },
     "execution_count": 129,
     "metadata": {},
     "output_type": "execute_result"
    }
   ],
   "source": [
    "gs.best_params_"
   ]
  },
  {
   "cell_type": "code",
   "execution_count": 130,
   "metadata": {
    "ExecuteTime": {
     "end_time": "2021-08-02T10:44:16.581000Z",
     "start_time": "2021-08-02T10:44:15.939000Z"
    },
    "colab": {
     "base_uri": "https://localhost:8080/",
     "height": 622
    },
    "id": "Y0adDbe7O550",
    "outputId": "f8c16f38-c4f5-41b8-def2-37f31154927d"
   },
   "outputs": [
    {
     "data": {
      "text/plain": [
       "Pipeline(steps=[('mapper',\n",
       "                 DataFrameMapper(drop_cols=[],\n",
       "                                 features=[(['LotFrontage'],\n",
       "                                            [SimpleImputer(strategy='median'),\n",
       "                                             StandardScaler()],\n",
       "                                            {}),\n",
       "                                           (['LotArea'],\n",
       "                                            [SimpleImputer(strategy='median'),\n",
       "                                             StandardScaler()],\n",
       "                                            {}),\n",
       "                                           (['MasVnrArea'],\n",
       "                                            [SimpleImputer(strategy='median'),\n",
       "                                             StandardScaler()],\n",
       "                                            {}),\n",
       "                                           (['BsmtFinSF1'],\n",
       "                                            [SimpleImputer(strategy='median'),\n",
       "                                             StandardScaler()],\n",
       "                                            {})...\n",
       "                                            [SimpleImputer(strategy='median'),\n",
       "                                             StandardScaler()],\n",
       "                                            {}),\n",
       "                                           (['MSSubClass'],\n",
       "                                            [SimpleImputer(fill_value='Unknown',\n",
       "                                                           strategy='constant'),\n",
       "                                             OneHotEncoder(handle_unknown='ignore')],\n",
       "                                            {}),\n",
       "                                           (['MSZoning'],\n",
       "                                            [SimpleImputer(fill_value='Unknown',\n",
       "                                                           strategy='constant'),\n",
       "                                             OneHotEncoder(handle_unknown='ignore')],\n",
       "                                            {}), ...])),\n",
       "                ('estimator',\n",
       "                 ElasticNet(alpha=200.0, l1_ratio=1.0, random_state=42))])"
      ]
     },
     "execution_count": 130,
     "metadata": {},
     "output_type": "execute_result"
    },
    {
     "data": {
      "text/html": [
       "<div>\n",
       "<style scoped>\n",
       "    .dataframe tbody tr th:only-of-type {\n",
       "        vertical-align: middle;\n",
       "    }\n",
       "\n",
       "    .dataframe tbody tr th {\n",
       "        vertical-align: top;\n",
       "    }\n",
       "\n",
       "    .dataframe thead th {\n",
       "        text-align: right;\n",
       "    }\n",
       "</style>\n",
       "<table border=\"1\" class=\"dataframe\">\n",
       "  <thead>\n",
       "    <tr style=\"text-align: right;\">\n",
       "      <th></th>\n",
       "      <th>train_RMSE</th>\n",
       "      <th>train_R2</th>\n",
       "      <th>val_RMSE</th>\n",
       "      <th>val_R2</th>\n",
       "    </tr>\n",
       "  </thead>\n",
       "  <tbody>\n",
       "    <tr>\n",
       "      <th>0</th>\n",
       "      <td>25358.652628</td>\n",
       "      <td>0.892186</td>\n",
       "      <td>30453.613681</td>\n",
       "      <td>0.879996</td>\n",
       "    </tr>\n",
       "  </tbody>\n",
       "</table>\n",
       "</div>"
      ],
      "text/plain": [
       "     train_RMSE  train_R2      val_RMSE    val_R2\n",
       "0  25358.652628  0.892186  30453.613681  0.879996"
      ]
     },
     "execution_count": 130,
     "metadata": {},
     "output_type": "execute_result"
    }
   ],
   "source": [
    "pipeline = clone(pipeline)\n",
    "pipeline.set_params(**gs.best_params_);\n",
    "\n",
    "scores, col = evaluate_model(train_X, val_X, train_y, val_y, pipeline)\n",
    "scores"
   ]
  },
  {
   "cell_type": "markdown",
   "metadata": {
    "id": "2nUqIVxuPB09"
   },
   "source": [
    "What will happen, if we use the same parameters, but log(y) for target?\n",
    "\n",
    "Write the code evaluating model with best parameters. Try to explain results."
   ]
  },
  {
   "cell_type": "code",
   "execution_count": 131,
   "metadata": {
    "ExecuteTime": {
     "end_time": "2021-08-02T10:44:17.210680Z",
     "start_time": "2021-08-02T10:44:16.582993Z"
    },
    "colab": {
     "base_uri": "https://localhost:8080/",
     "height": 622
    },
    "id": "_wyca78wO8uo",
    "outputId": "db4c5af4-eb31-4bb7-91f1-5d3207bd9bf3"
   },
   "outputs": [
    {
     "data": {
      "text/plain": [
       "Pipeline(steps=[('mapper',\n",
       "                 DataFrameMapper(drop_cols=[],\n",
       "                                 features=[(['LotFrontage'],\n",
       "                                            [SimpleImputer(strategy='median'),\n",
       "                                             StandardScaler()],\n",
       "                                            {}),\n",
       "                                           (['LotArea'],\n",
       "                                            [SimpleImputer(strategy='median'),\n",
       "                                             StandardScaler()],\n",
       "                                            {}),\n",
       "                                           (['MasVnrArea'],\n",
       "                                            [SimpleImputer(strategy='median'),\n",
       "                                             StandardScaler()],\n",
       "                                            {}),\n",
       "                                           (['BsmtFinSF1'],\n",
       "                                            [SimpleImputer(strategy='median'),\n",
       "                                             StandardScaler()],\n",
       "                                            {})...\n",
       "                                            [SimpleImputer(strategy='median'),\n",
       "                                             StandardScaler()],\n",
       "                                            {}),\n",
       "                                           (['MSSubClass'],\n",
       "                                            [SimpleImputer(fill_value='Unknown',\n",
       "                                                           strategy='constant'),\n",
       "                                             OneHotEncoder(handle_unknown='ignore')],\n",
       "                                            {}),\n",
       "                                           (['MSZoning'],\n",
       "                                            [SimpleImputer(fill_value='Unknown',\n",
       "                                                           strategy='constant'),\n",
       "                                             OneHotEncoder(handle_unknown='ignore')],\n",
       "                                            {}), ...])),\n",
       "                ('estimator',\n",
       "                 ElasticNet(alpha=200.0, l1_ratio=1.0, random_state=42))])"
      ]
     },
     "execution_count": 131,
     "metadata": {},
     "output_type": "execute_result"
    },
    {
     "data": {
      "text/html": [
       "<div>\n",
       "<style scoped>\n",
       "    .dataframe tbody tr th:only-of-type {\n",
       "        vertical-align: middle;\n",
       "    }\n",
       "\n",
       "    .dataframe tbody tr th {\n",
       "        vertical-align: top;\n",
       "    }\n",
       "\n",
       "    .dataframe thead th {\n",
       "        text-align: right;\n",
       "    }\n",
       "</style>\n",
       "<table border=\"1\" class=\"dataframe\">\n",
       "  <thead>\n",
       "    <tr style=\"text-align: right;\">\n",
       "      <th></th>\n",
       "      <th>train_RMSE</th>\n",
       "      <th>train_R2</th>\n",
       "      <th>val_RMSE</th>\n",
       "      <th>val_R2</th>\n",
       "    </tr>\n",
       "  </thead>\n",
       "  <tbody>\n",
       "    <tr>\n",
       "      <th>0</th>\n",
       "      <td>0.390441</td>\n",
       "      <td>0.0</td>\n",
       "      <td>0.432365</td>\n",
       "      <td>-0.007167</td>\n",
       "    </tr>\n",
       "  </tbody>\n",
       "</table>\n",
       "</div>"
      ],
      "text/plain": [
       "   train_RMSE  train_R2  val_RMSE    val_R2\n",
       "0    0.390441       0.0  0.432365 -0.007167"
      ]
     },
     "execution_count": 131,
     "metadata": {},
     "output_type": "execute_result"
    }
   ],
   "source": [
    "pipeline = clone(pipeline)\n",
    "pipeline.set_params(**gs.best_params_);\n",
    "scores, col = evaluate_model(train_X, val_X, train_y_tr, val_y_tr, pipeline)\n",
    "scores"
   ]
  },
  {
   "cell_type": "code",
   "execution_count": 132,
   "metadata": {
    "ExecuteTime": {
     "end_time": "2021-08-02T10:44:46.378723Z",
     "start_time": "2021-08-02T10:44:17.212674Z"
    },
    "colab": {
     "base_uri": "https://localhost:8080/",
     "height": 457
    },
    "id": "NAB0EZxZPEPJ",
    "outputId": "526a6eae-5f77-408f-f564-21c5ebff1283"
   },
   "outputs": [
    {
     "name": "stdout",
     "output_type": "stream",
     "text": [
      "Fitting 5 folds for each of 50 candidates, totalling 250 fits\n",
      "Wall time: 28.6 s\n"
     ]
    },
    {
     "data": {
      "text/plain": [
       "GridSearchCV(cv=KFold(n_splits=5, random_state=42, shuffle=True),\n",
       "             estimator=Pipeline(steps=[('mapper',\n",
       "                                        DataFrameMapper(drop_cols=[],\n",
       "                                                        features=[(['LotFrontage'],\n",
       "                                                                   [SimpleImputer(strategy='median'),\n",
       "                                                                    StandardScaler()],\n",
       "                                                                   {}),\n",
       "                                                                  (['LotArea'],\n",
       "                                                                   [SimpleImputer(strategy='median'),\n",
       "                                                                    StandardScaler()],\n",
       "                                                                   {}),\n",
       "                                                                  (['MasVnrArea'],\n",
       "                                                                   [SimpleImputer(strategy='median'),\n",
       "                                                                    StandardScaler()],\n",
       "                                                                   {}...\n",
       "                                                                   {}), ...])),\n",
       "                                       ('estimator',\n",
       "                                        ElasticNet(alpha=200.0, l1_ratio=1.0,\n",
       "                                                   random_state=42))]),\n",
       "             n_jobs=-1,\n",
       "             param_grid={'estimator__alpha': array([0.        , 0.05555556, 0.11111111, 0.16666667, 0.22222222,\n",
       "       0.27777778, 0.33333333, 0.38888889, 0.44444444, 0.5       ]),\n",
       "                         'estimator__l1_ratio': array([0. , 0.1, 0.2, 0.3, 0.4])},\n",
       "             refit='neg_mean_squared_error',\n",
       "             scoring=['neg_mean_squared_error', 'r2'], verbose=10)"
      ]
     },
     "execution_count": 132,
     "metadata": {},
     "output_type": "execute_result"
    }
   ],
   "source": [
    "%%time\n",
    "pipeline = clone(pipeline)\n",
    "grid = {\n",
    "    'estimator__alpha': np.linspace(0, 0.5, 10),\n",
    "    'estimator__l1_ratio': np.arange(0, 0.5, 0.1)\n",
    "}\n",
    "gs = GridSearchCV(pipeline, grid, \n",
    "                  n_jobs=-1, \n",
    "                  scoring=['neg_mean_squared_error', 'r2'], \n",
    "                  refit='neg_mean_squared_error',\n",
    "                  cv=cv, \n",
    "                  verbose=10)\n",
    "gs.fit(train_X, np.log1p(train_y));"
   ]
  },
  {
   "cell_type": "code",
   "execution_count": 133,
   "metadata": {
    "ExecuteTime": {
     "end_time": "2021-08-02T10:44:47.136232Z",
     "start_time": "2021-08-02T10:44:46.379719Z"
    },
    "colab": {
     "base_uri": "https://localhost:8080/",
     "height": 77
    },
    "id": "XhTcaI1tPMUB",
    "outputId": "1ecf2ccc-2cd9-4571-eb0d-af0db9d444de"
   },
   "outputs": [
    {
     "data": {
      "text/html": [
       "<div>\n",
       "<style scoped>\n",
       "    .dataframe tbody tr th:only-of-type {\n",
       "        vertical-align: middle;\n",
       "    }\n",
       "\n",
       "    .dataframe tbody tr th {\n",
       "        vertical-align: top;\n",
       "    }\n",
       "\n",
       "    .dataframe thead th {\n",
       "        text-align: right;\n",
       "    }\n",
       "</style>\n",
       "<table border=\"1\" class=\"dataframe\">\n",
       "  <thead>\n",
       "    <tr style=\"text-align: right;\">\n",
       "      <th></th>\n",
       "      <th>train_RMSE</th>\n",
       "      <th>train_R2</th>\n",
       "      <th>val_RMSE</th>\n",
       "      <th>val_R2</th>\n",
       "    </tr>\n",
       "  </thead>\n",
       "  <tbody>\n",
       "    <tr>\n",
       "      <th>0</th>\n",
       "      <td>0.123588</td>\n",
       "      <td>0.899805</td>\n",
       "      <td>0.143521</td>\n",
       "      <td>0.889024</td>\n",
       "    </tr>\n",
       "  </tbody>\n",
       "</table>\n",
       "</div>"
      ],
      "text/plain": [
       "   train_RMSE  train_R2  val_RMSE    val_R2\n",
       "0    0.123588  0.899805  0.143521  0.889024"
      ]
     },
     "execution_count": 133,
     "metadata": {},
     "output_type": "execute_result"
    }
   ],
   "source": [
    "pipeline = gs.best_estimator_\n",
    "scores, col = evaluate_model(train_X, val_X, train_y_tr, val_y_tr, \n",
    "                             pipeline)\n",
    "scores"
   ]
  }
 ],
 "metadata": {
  "colab": {
   "collapsed_sections": [
    "V1HsPVUugyKY",
    "1LXoGpermZys",
    "VxrlODUTfyq2"
   ],
   "name": "Regression_1_ws.ipynb",
   "provenance": [],
   "toc_visible": true
  },
  "kernelspec": {
   "display_name": "Python 3",
   "language": "python",
   "name": "python3"
  },
  "language_info": {
   "codemirror_mode": {
    "name": "ipython",
    "version": 3
   },
   "file_extension": ".py",
   "mimetype": "text/x-python",
   "name": "python",
   "nbconvert_exporter": "python",
   "pygments_lexer": "ipython3",
   "version": "3.8.5"
  },
  "toc": {
   "base_numbering": 1,
   "nav_menu": {},
   "number_sections": true,
   "sideBar": true,
   "skip_h1_title": false,
   "title_cell": "Table of Contents",
   "title_sidebar": "Contents",
   "toc_cell": false,
   "toc_position": {},
   "toc_section_display": true,
   "toc_window_display": false
  },
  "varInspector": {
   "cols": {
    "lenName": 16,
    "lenType": 16,
    "lenVar": 40
   },
   "kernels_config": {
    "python": {
     "delete_cmd_postfix": "",
     "delete_cmd_prefix": "del ",
     "library": "var_list.py",
     "varRefreshCmd": "print(var_dic_list())"
    },
    "r": {
     "delete_cmd_postfix": ") ",
     "delete_cmd_prefix": "rm(",
     "library": "var_list.r",
     "varRefreshCmd": "cat(var_dic_list()) "
    }
   },
   "types_to_exclude": [
    "module",
    "function",
    "builtin_function_or_method",
    "instance",
    "_Feature"
   ],
   "window_display": false
  }
 },
 "nbformat": 4,
 "nbformat_minor": 1
}
